{
 "cells": [
  {
   "cell_type": "code",
   "execution_count": 19,
   "metadata": {},
   "outputs": [],
   "source": [
    "import andes\n",
    "import os\n",
    "import numpy as np\n",
    "import csv\n",
    "\n",
    "import matplotlib\n",
    "%matplotlib inline"
   ]
  },
  {
   "cell_type": "markdown",
   "metadata": {},
   "source": [
    "# Note\n",
    "\n",
    "generate unstable data for network training"
   ]
  },
  {
   "cell_type": "markdown",
   "metadata": {},
   "source": [
    "Example code for batch data generation:\n",
    "\n",
    "https://docs.andes.app/en/latest/_examples/ex6.html\n",
    "\n",
    "# Define case path"
   ]
  },
  {
   "cell_type": "code",
   "execution_count": 20,
   "metadata": {},
   "outputs": [],
   "source": [
    "andes.config_logger(stream_level=50)\n",
    "# 10-DEBUG，20-INFO30WARNING，40-ERROR，50-CRITICAL\n",
    "\n",
    "# case path\n",
    "dir_path = os.path.abspath('..')\n",
    "loc_path_case = '/Dynamic_123_data_gen_NN_train/case123_REGCV1_v6.xlsx'\n",
    "\n",
    "case = dir_path + loc_path_case"
   ]
  },
  {
   "cell_type": "markdown",
   "metadata": {},
   "source": [
    "# Generate settings data\n",
    "\n",
    "### Input data:\n",
    "\n",
    "**m_ibr**: virtual inertia for REGCV1 <br> [M1, M2, M3, M4, M5, M6, M7, M8], Range for each M: [0, 6]\n",
    "\n",
    "**n_ibr**: virtual damping for REGCV1 <br> [D1, D2, D3, D4, D5, D6, D7, D8], Range for each D: [0, 4]\n",
    "\n",
    "**input** = [m_ibr, n_ibr]"
   ]
  },
  {
   "cell_type": "code",
   "execution_count": 21,
   "metadata": {},
   "outputs": [],
   "source": [
    "import numpy as np\n",
    "\n",
    "# Define the number of data points you want\n",
    "num_samples = 120  # You can change this as needed\n",
    "\n",
    "# Define the ranges for each variable\n",
    "m_ibr_range = [0, 1.2]\n",
    "n_ibr_range = [0, 1]\n",
    "\n",
    "# Initialize an empty list to store valid data points\n",
    "input     = []\n",
    "\n",
    "pg = np.array([0.05 , 0.09 , 0.077, 0.02 , 0.024, 0.014, 0.012, 0.018, 0.015, 0.016, 0.017])\n",
    "\n",
    "# Generate random data until you have enough valid points\n",
    "for _ in range(num_samples):\n",
    "    # Generate random values for m_ibr and n_ibr\n",
    "    m_ibr = np.random.uniform(m_ibr_range[0], m_ibr_range[1], 8)\n",
    "    n_ibr = np.random.uniform(n_ibr_range[0], n_ibr_range[1], 8)\n",
    "    \n",
    "    # Combine all the data into one array\n",
    "    combine     = np.concatenate((pg, m_ibr, n_ibr))\n",
    "\n",
    "    # Append the generated data to the valid_data list\n",
    "    input.append(combine)\n"
   ]
  },
  {
   "cell_type": "code",
   "execution_count": 22,
   "metadata": {},
   "outputs": [
    {
     "data": {
      "text/plain": [
       "array([0.05      , 0.09      , 0.077     , 0.02      , 0.024     ,\n",
       "       0.014     , 0.012     , 0.018     , 0.015     , 0.016     ,\n",
       "       0.017     , 0.64883772, 0.03494343, 0.28507674, 0.06292044,\n",
       "       0.28313438, 0.54020305, 0.05644444, 1.16037947, 0.4225084 ,\n",
       "       0.23500638, 0.63546926, 0.7941559 , 0.12582797, 0.59832923,\n",
       "       0.2397145 , 0.1504966 ])"
      ]
     },
     "execution_count": 22,
     "metadata": {},
     "output_type": "execute_result"
    }
   ],
   "source": [
    "input[0]"
   ]
  },
  {
   "cell_type": "code",
   "execution_count": 23,
   "metadata": {},
   "outputs": [
    {
     "data": {
      "text/plain": [
       "array([0.64883772, 0.03494343, 0.28507674, 0.06292044, 0.28313438,\n",
       "       0.54020305, 0.05644444, 1.16037947])"
      ]
     },
     "execution_count": 23,
     "metadata": {},
     "output_type": "execute_result"
    }
   ],
   "source": [
    "input[0][11:19]"
   ]
  },
  {
   "cell_type": "code",
   "execution_count": 24,
   "metadata": {},
   "outputs": [
    {
     "data": {
      "text/plain": [
       "array([0.4225084 , 0.23500638, 0.63546926, 0.7941559 , 0.12582797,\n",
       "       0.59832923, 0.2397145 , 0.1504966 ])"
      ]
     },
     "execution_count": 24,
     "metadata": {},
     "output_type": "execute_result"
    }
   ],
   "source": [
    "input[0][19:27]"
   ]
  },
  {
   "cell_type": "markdown",
   "metadata": {},
   "source": [
    "# Batch data generation\n",
    "\n",
    "### Output data\n",
    "\n",
    "**rocof_max**: Hz/s, maximum rate of change of frequency\n",
    "\n",
    "**fnadir** Hz, lowest nadir deviation\n",
    "\n",
    "**dtheta_max**: rad, maximum angle difference\n",
    "\n",
    "**eig_max**: maximum eigenvalue before gen trip\n",
    "\n",
    "**eig_max_**: maximum eigenvalue after gen trip\n",
    "\n",
    "eig_max = max (eig_max, eig_max_)\n",
    "\n",
    "**Output** = [rocof_max, fnadir, dtheta_max, eig_max]"
   ]
  },
  {
   "cell_type": "code",
   "execution_count": 25,
   "metadata": {},
   "outputs": [
    {
     "name": "stdout",
     "output_type": "stream",
     "text": [
      "<Toggle Toggler_1>: GENROU.GENROU_2 status changed to 0 at t=1.0 sec.\n",
      "<Toggle Toggler_1>: GENROU.GENROU_2 status changed to 0 at t=1.0 sec.\n",
      "<Toggle Toggler_1>: GENROU.GENROU_2 status changed to 0 at t=1.0 sec.\n",
      "<Toggle Toggler_1>: GENROU.GENROU_2 status changed to 0 at t=1.0 sec.\n",
      "<Toggle Toggler_1>: GENROU.GENROU_2 status changed to 0 at t=1.0 sec.\n",
      "<Toggle Toggler_1>: GENROU.GENROU_2 status changed to 0 at t=1.0 sec.\n",
      "<Toggle Toggler_1>: GENROU.GENROU_2 status changed to 0 at t=1.0 sec.\n",
      "<Toggle Toggler_1>: GENROU.GENROU_2 status changed to 0 at t=1.0 sec.\n",
      "<Toggle Toggler_1>: GENROU.GENROU_2 status changed to 0 at t=1.0 sec.\n",
      "<Toggle Toggler_1>: GENROU.GENROU_2 status changed to 0 at t=1.0 sec.\n",
      "<Toggle Toggler_1>: GENROU.GENROU_2 status changed to 0 at t=1.0 sec.\n",
      "<Toggle Toggler_1>: GENROU.GENROU_2 status changed to 0 at t=1.0 sec.\n",
      "<Toggle Toggler_1>: GENROU.GENROU_2 status changed to 0 at t=1.0 sec.\n",
      "<Toggle Toggler_1>: GENROU.GENROU_2 status changed to 0 at t=1.0 sec.\n",
      "<Toggle Toggler_1>: GENROU.GENROU_2 status changed to 0 at t=1.0 sec.\n",
      "<Toggle Toggler_1>: GENROU.GENROU_2 status changed to 0 at t=1.0 sec.\n",
      "<Toggle Toggler_1>: GENROU.GENROU_2 status changed to 0 at t=1.0 sec.\n",
      "<Toggle Toggler_1>: GENROU.GENROU_2 status changed to 0 at t=1.0 sec.\n",
      "<Toggle Toggler_1>: GENROU.GENROU_2 status changed to 0 at t=1.0 sec.\n",
      "<Toggle Toggler_1>: GENROU.GENROU_2 status changed to 0 at t=1.0 sec.\n",
      "<Toggle Toggler_1>: GENROU.GENROU_2 status changed to 0 at t=1.0 sec.\n",
      "<Toggle Toggler_1>: GENROU.GENROU_2 status changed to 0 at t=1.0 sec.\n",
      "<Toggle Toggler_1>: GENROU.GENROU_2 status changed to 0 at t=1.0 sec.\n",
      "<Toggle Toggler_1>: GENROU.GENROU_2 status changed to 0 at t=1.0 sec.\n",
      "<Toggle Toggler_1>: GENROU.GENROU_2 status changed to 0 at t=1.0 sec.\n",
      "<Toggle Toggler_1>: GENROU.GENROU_2 status changed to 0 at t=1.0 sec.\n",
      "<Toggle Toggler_1>: GENROU.GENROU_2 status changed to 0 at t=1.0 sec.\n",
      "<Toggle Toggler_1>: GENROU.GENROU_2 status changed to 0 at t=1.0 sec.\n",
      "<Toggle Toggler_1>: GENROU.GENROU_2 status changed to 0 at t=1.0 sec.\n",
      "<Toggle Toggler_1>: GENROU.GENROU_2 status changed to 0 at t=1.0 sec.\n",
      "<Toggle Toggler_1>: GENROU.GENROU_2 status changed to 0 at t=1.0 sec.\n",
      "<Toggle Toggler_1>: GENROU.GENROU_2 status changed to 0 at t=1.0 sec.\n",
      "<Toggle Toggler_1>: GENROU.GENROU_2 status changed to 0 at t=1.0 sec.\n",
      "<Toggle Toggler_1>: GENROU.GENROU_2 status changed to 0 at t=1.0 sec.\n",
      "<Toggle Toggler_1>: GENROU.GENROU_2 status changed to 0 at t=1.0 sec.\n",
      "<Toggle Toggler_1>: GENROU.GENROU_2 status changed to 0 at t=1.0 sec.\n",
      "<Toggle Toggler_1>: GENROU.GENROU_2 status changed to 0 at t=1.0 sec.\n",
      "<Toggle Toggler_1>: GENROU.GENROU_2 status changed to 0 at t=1.0 sec.\n",
      "<Toggle Toggler_1>: GENROU.GENROU_2 status changed to 0 at t=1.0 sec.\n",
      "<Toggle Toggler_1>: GENROU.GENROU_2 status changed to 0 at t=1.0 sec.\n",
      "<Toggle Toggler_1>: GENROU.GENROU_2 status changed to 0 at t=1.0 sec.\n",
      "<Toggle Toggler_1>: GENROU.GENROU_2 status changed to 0 at t=1.0 sec.\n",
      "<Toggle Toggler_1>: GENROU.GENROU_2 status changed to 0 at t=1.0 sec.\n",
      "<Toggle Toggler_1>: GENROU.GENROU_2 status changed to 0 at t=1.0 sec.\n",
      "<Toggle Toggler_1>: GENROU.GENROU_2 status changed to 0 at t=1.0 sec.\n",
      "<Toggle Toggler_1>: GENROU.GENROU_2 status changed to 0 at t=1.0 sec.\n",
      "<Toggle Toggler_1>: GENROU.GENROU_2 status changed to 0 at t=1.0 sec.\n",
      "<Toggle Toggler_1>: GENROU.GENROU_2 status changed to 0 at t=1.0 sec.\n",
      "<Toggle Toggler_1>: GENROU.GENROU_2 status changed to 0 at t=1.0 sec.\n",
      "<Toggle Toggler_1>: GENROU.GENROU_2 status changed to 0 at t=1.0 sec.\n",
      "<Toggle Toggler_1>: GENROU.GENROU_2 status changed to 0 at t=1.0 sec.\n",
      "<Toggle Toggler_1>: GENROU.GENROU_2 status changed to 0 at t=1.0 sec.\n",
      "<Toggle Toggler_1>: GENROU.GENROU_2 status changed to 0 at t=1.0 sec.\n",
      "<Toggle Toggler_1>: GENROU.GENROU_2 status changed to 0 at t=1.0 sec.\n",
      "<Toggle Toggler_1>: GENROU.GENROU_2 status changed to 0 at t=1.0 sec.\n",
      "<Toggle Toggler_1>: GENROU.GENROU_2 status changed to 0 at t=1.0 sec.\n",
      "<Toggle Toggler_1>: GENROU.GENROU_2 status changed to 0 at t=1.0 sec.\n",
      "<Toggle Toggler_1>: GENROU.GENROU_2 status changed to 0 at t=1.0 sec.\n",
      "<Toggle Toggler_1>: GENROU.GENROU_2 status changed to 0 at t=1.0 sec.\n",
      "<Toggle Toggler_1>: GENROU.GENROU_2 status changed to 0 at t=1.0 sec.\n",
      "<Toggle Toggler_1>: GENROU.GENROU_2 status changed to 0 at t=1.0 sec.\n",
      "<Toggle Toggler_1>: GENROU.GENROU_2 status changed to 0 at t=1.0 sec.\n",
      "<Toggle Toggler_1>: GENROU.GENROU_2 status changed to 0 at t=1.0 sec.\n",
      "<Toggle Toggler_1>: GENROU.GENROU_2 status changed to 0 at t=1.0 sec.\n",
      "<Toggle Toggler_1>: GENROU.GENROU_2 status changed to 0 at t=1.0 sec.\n",
      "<Toggle Toggler_1>: GENROU.GENROU_2 status changed to 0 at t=1.0 sec.\n",
      "<Toggle Toggler_1>: GENROU.GENROU_2 status changed to 0 at t=1.0 sec.\n",
      "<Toggle Toggler_1>: GENROU.GENROU_2 status changed to 0 at t=1.0 sec.\n",
      "<Toggle Toggler_1>: GENROU.GENROU_2 status changed to 0 at t=1.0 sec.\n",
      "<Toggle Toggler_1>: GENROU.GENROU_2 status changed to 0 at t=1.0 sec.\n",
      "<Toggle Toggler_1>: GENROU.GENROU_2 status changed to 0 at t=1.0 sec.\n",
      "<Toggle Toggler_1>: GENROU.GENROU_2 status changed to 0 at t=1.0 sec.\n",
      "<Toggle Toggler_1>: GENROU.GENROU_2 status changed to 0 at t=1.0 sec.\n",
      "<Toggle Toggler_1>: GENROU.GENROU_2 status changed to 0 at t=1.0 sec.\n",
      "<Toggle Toggler_1>: GENROU.GENROU_2 status changed to 0 at t=1.0 sec.\n",
      "<Toggle Toggler_1>: GENROU.GENROU_2 status changed to 0 at t=1.0 sec.\n",
      "<Toggle Toggler_1>: GENROU.GENROU_2 status changed to 0 at t=1.0 sec.\n",
      "<Toggle Toggler_1>: GENROU.GENROU_2 status changed to 0 at t=1.0 sec.\n",
      "<Toggle Toggler_1>: GENROU.GENROU_2 status changed to 0 at t=1.0 sec.\n",
      "<Toggle Toggler_1>: GENROU.GENROU_2 status changed to 0 at t=1.0 sec.\n",
      "<Toggle Toggler_1>: GENROU.GENROU_2 status changed to 0 at t=1.0 sec.\n",
      "<Toggle Toggler_1>: GENROU.GENROU_2 status changed to 0 at t=1.0 sec.\n",
      "<Toggle Toggler_1>: GENROU.GENROU_2 status changed to 0 at t=1.0 sec.\n",
      "<Toggle Toggler_1>: GENROU.GENROU_2 status changed to 0 at t=1.0 sec.\n",
      "<Toggle Toggler_1>: GENROU.GENROU_2 status changed to 0 at t=1.0 sec.\n",
      "<Toggle Toggler_1>: GENROU.GENROU_2 status changed to 0 at t=1.0 sec.\n",
      "<Toggle Toggler_1>: GENROU.GENROU_2 status changed to 0 at t=1.0 sec.\n",
      "<Toggle Toggler_1>: GENROU.GENROU_2 status changed to 0 at t=1.0 sec.\n",
      "<Toggle Toggler_1>: GENROU.GENROU_2 status changed to 0 at t=1.0 sec.\n",
      "<Toggle Toggler_1>: GENROU.GENROU_2 status changed to 0 at t=1.0 sec.\n",
      "<Toggle Toggler_1>: GENROU.GENROU_2 status changed to 0 at t=1.0 sec.\n",
      "<Toggle Toggler_1>: GENROU.GENROU_2 status changed to 0 at t=1.0 sec.\n",
      "<Toggle Toggler_1>: GENROU.GENROU_2 status changed to 0 at t=1.0 sec.\n",
      "<Toggle Toggler_1>: GENROU.GENROU_2 status changed to 0 at t=1.0 sec.\n",
      "<Toggle Toggler_1>: GENROU.GENROU_2 status changed to 0 at t=1.0 sec.\n",
      "<Toggle Toggler_1>: GENROU.GENROU_2 status changed to 0 at t=1.0 sec.\n",
      "<Toggle Toggler_1>: GENROU.GENROU_2 status changed to 0 at t=1.0 sec.\n",
      "<Toggle Toggler_1>: GENROU.GENROU_2 status changed to 0 at t=1.0 sec.\n",
      "<Toggle Toggler_1>: GENROU.GENROU_2 status changed to 0 at t=1.0 sec.\n",
      "<Toggle Toggler_1>: GENROU.GENROU_2 status changed to 0 at t=1.0 sec.\n",
      "<Toggle Toggler_1>: GENROU.GENROU_2 status changed to 0 at t=1.0 sec.\n",
      "<Toggle Toggler_1>: GENROU.GENROU_2 status changed to 0 at t=1.0 sec.\n",
      "<Toggle Toggler_1>: GENROU.GENROU_2 status changed to 0 at t=1.0 sec.\n",
      "<Toggle Toggler_1>: GENROU.GENROU_2 status changed to 0 at t=1.0 sec.\n",
      "<Toggle Toggler_1>: GENROU.GENROU_2 status changed to 0 at t=1.0 sec.\n",
      "<Toggle Toggler_1>: GENROU.GENROU_2 status changed to 0 at t=1.0 sec.\n",
      "<Toggle Toggler_1>: GENROU.GENROU_2 status changed to 0 at t=1.0 sec.\n",
      "<Toggle Toggler_1>: GENROU.GENROU_2 status changed to 0 at t=1.0 sec.\n",
      "<Toggle Toggler_1>: GENROU.GENROU_2 status changed to 0 at t=1.0 sec.\n",
      "<Toggle Toggler_1>: GENROU.GENROU_2 status changed to 0 at t=1.0 sec.\n",
      "<Toggle Toggler_1>: GENROU.GENROU_2 status changed to 0 at t=1.0 sec.\n",
      "<Toggle Toggler_1>: GENROU.GENROU_2 status changed to 0 at t=1.0 sec.\n",
      "<Toggle Toggler_1>: GENROU.GENROU_2 status changed to 0 at t=1.0 sec.\n",
      "<Toggle Toggler_1>: GENROU.GENROU_2 status changed to 0 at t=1.0 sec.\n",
      "<Toggle Toggler_1>: GENROU.GENROU_2 status changed to 0 at t=1.0 sec.\n",
      "<Toggle Toggler_1>: GENROU.GENROU_2 status changed to 0 at t=1.0 sec.\n",
      "<Toggle Toggler_1>: GENROU.GENROU_2 status changed to 0 at t=1.0 sec.\n",
      "<Toggle Toggler_1>: GENROU.GENROU_2 status changed to 0 at t=1.0 sec.\n",
      "<Toggle Toggler_1>: GENROU.GENROU_2 status changed to 0 at t=1.0 sec.\n",
      "<Toggle Toggler_1>: GENROU.GENROU_2 status changed to 0 at t=1.0 sec.\n"
     ]
    }
   ],
   "source": [
    "output = []\n",
    "\n",
    "for i in range(num_samples):\n",
    "    \n",
    "    # ------------ Reload case -------------\n",
    "    # --------------------------------------\n",
    "    ssa = andes.load(case,\n",
    "                 setup=True,\n",
    "                 no_output=True)\n",
    "\n",
    "    # ------- Modify case parameters -------\n",
    "    # --------------------------------------\n",
    "    # reset REGCV1 control parameters\n",
    "    ssa.REGCV1.set(\n",
    "                    src='M', \n",
    "                    idx= ssa.REGCV1.idx.v,\n",
    "                    attr='v',\n",
    "                    value= input[i][11:19]\n",
    "                )\n",
    "    ssa.REGCV1.set(\n",
    "                    src='D', \n",
    "                    idx= ssa.REGCV1.idx.v, \n",
    "                    attr='v',\n",
    "                    value= input[i][19:27]\n",
    "                )\n",
    "\n",
    "    # ------- Run simulation ---------------\n",
    "    # --------------------------------------\n",
    "    ssa.PFlow.run()\n",
    "    ssa.TDS.init()\n",
    "\n",
    "    # Turn off stability check in TDS\n",
    "    ssa.TDS.config.criteria = 0\n",
    "    ssa.TDS.config.no_tqdm = 1    # Turn off simulation progress bar\n",
    "    ssa.TDS.config.tf = 10        # Simulation time\n",
    "    ssa.TDS.run()\n",
    "\n",
    "    # ------- extract data from TDS-----------------\n",
    "    # --------------------------------------\n",
    "    # Extract time\n",
    "    t = ssa.dae.ts.t\n",
    "    t = t[:, np.newaxis]\n",
    "\n",
    "    # Extract RoCoF\n",
    "    rocof     = ssa.dae.ts.y[:,  ssa.BusROCOF.Wf_y.a]\n",
    "    rocof_max = np.max(np.abs(rocof*60))\n",
    "\n",
    "    # Extract frequency\n",
    "    f         = ssa.dae.ts.x[:,  ssa.GENROU.omega.a]\n",
    "    fnadir    = np.min(f)*60 - 60\n",
    "\n",
    "    # Extract power angle\n",
    "    theta      = ssa.dae.ts.y[:, ssa.GENROU.a.a]\n",
    "    dtheta     = np.max(theta, axis=1) - np.min(theta, axis=1)\n",
    "    dtheta_max = np.max(dtheta)\n",
    "\n",
    "    output.append([rocof_max, fnadir, dtheta_max])"
   ]
  },
  {
   "cell_type": "markdown",
   "metadata": {},
   "source": [
    "# Save data\n",
    "\n",
    "Or save data in the loop"
   ]
  },
  {
   "cell_type": "code",
   "execution_count": 26,
   "metadata": {},
   "outputs": [
    {
     "name": "stdout",
     "output_type": "stream",
     "text": [
      "Input Data saved to input_unstable_120.csv\n"
     ]
    }
   ],
   "source": [
    "filename = \"input_unstable_120.csv\"\n",
    "\n",
    "# Save the list to a CSV file\n",
    "with open(filename, mode='w', newline='') as file:\n",
    "    writer = csv.writer(file)\n",
    "    writer.writerows(input)\n",
    "\n",
    "print(\"Input Data saved to\", filename)"
   ]
  },
  {
   "cell_type": "code",
   "execution_count": 27,
   "metadata": {},
   "outputs": [
    {
     "name": "stdout",
     "output_type": "stream",
     "text": [
      "Output Data saved to output_unstable_120.csv\n"
     ]
    }
   ],
   "source": [
    "filename = \"output_unstable_120.csv\"\n",
    "\n",
    "# Save the list to a CSV file\n",
    "with open(filename, mode='w', newline='') as file:\n",
    "    writer = csv.writer(file)\n",
    "    writer.writerows(output)\n",
    "\n",
    "print(\"Output Data saved to\", filename)"
   ]
  }
 ],
 "metadata": {
  "kernelspec": {
   "display_name": "base",
   "language": "python",
   "name": "python3"
  },
  "language_info": {
   "codemirror_mode": {
    "name": "ipython",
    "version": 3
   },
   "file_extension": ".py",
   "mimetype": "text/x-python",
   "name": "python",
   "nbconvert_exporter": "python",
   "pygments_lexer": "ipython3",
   "version": "3.9.17"
  },
  "orig_nbformat": 4
 },
 "nbformat": 4,
 "nbformat_minor": 2
}
