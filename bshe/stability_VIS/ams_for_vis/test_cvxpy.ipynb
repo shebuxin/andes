{
 "cells": [
  {
   "cell_type": "code",
   "execution_count": 12,
   "metadata": {},
   "outputs": [],
   "source": [
    "import cvxpy as cp\n",
    "import numpy as np"
   ]
  },
  {
   "cell_type": "code",
   "execution_count": 13,
   "metadata": {},
   "outputs": [
    {
     "ename": "ValueError",
     "evalue": "setting an array element with a sequence.",
     "output_type": "error",
     "traceback": [
      "\u001b[0;31m---------------------------------------------------------------------------\u001b[0m",
      "\u001b[0;31mTypeError\u001b[0m                                 Traceback (most recent call last)",
      "\u001b[0;31mTypeError\u001b[0m: float() argument must be a string or a number, not 'AddExpression'",
      "\nThe above exception was the direct cause of the following exception:\n",
      "\u001b[0;31mValueError\u001b[0m                                Traceback (most recent call last)",
      "Cell \u001b[0;32mIn[13], line 24\u001b[0m\n\u001b[1;32m     22\u001b[0m \u001b[39m# Define the intermediate variables for the neural network\u001b[39;00m\n\u001b[1;32m     23\u001b[0m z1 \u001b[39m=\u001b[39m W1 \u001b[39m@\u001b[39m [Pg, Pibr] \u001b[39m+\u001b[39m b1\n\u001b[0;32m---> 24\u001b[0m z2 \u001b[39m=\u001b[39m relu_approx(z1)\n\u001b[1;32m     25\u001b[0m z3 \u001b[39m=\u001b[39m W2 \u001b[39m@\u001b[39m z2 \u001b[39m+\u001b[39m b2  \u001b[39m# Replace ReLU with linear approximation\u001b[39;00m\n\u001b[1;32m     27\u001b[0m \u001b[39m# Define the constraints\u001b[39;00m\n",
      "Cell \u001b[0;32mIn[13], line 20\u001b[0m, in \u001b[0;36mrelu_approx\u001b[0;34m(x)\u001b[0m\n\u001b[1;32m     19\u001b[0m \u001b[39mdef\u001b[39;00m \u001b[39mrelu_approx\u001b[39m(x):\n\u001b[0;32m---> 20\u001b[0m     \u001b[39mreturn\u001b[39;00m cp\u001b[39m.\u001b[39;49mmaximum(\u001b[39m0\u001b[39;49m, x)\n",
      "File \u001b[0;32m~/miniconda3/envs/andes/lib/python3.9/site-packages/cvxpy/atoms/elementwise/maximum.py:35\u001b[0m, in \u001b[0;36mmaximum.__init__\u001b[0;34m(self, arg1, arg2, *args)\u001b[0m\n\u001b[1;32m     32\u001b[0m \u001b[39mdef\u001b[39;00m \u001b[39m__init__\u001b[39m(\u001b[39mself\u001b[39m, arg1, arg2, \u001b[39m*\u001b[39margs) \u001b[39m-\u001b[39m\u001b[39m>\u001b[39m \u001b[39mNone\u001b[39;00m:\n\u001b[1;32m     33\u001b[0m \u001b[39m    \u001b[39m\u001b[39m\"\"\"Requires at least 2 arguments.\u001b[39;00m\n\u001b[1;32m     34\u001b[0m \u001b[39m    \"\"\"\u001b[39;00m\n\u001b[0;32m---> 35\u001b[0m     \u001b[39msuper\u001b[39;49m(maximum, \u001b[39mself\u001b[39;49m)\u001b[39m.\u001b[39;49m\u001b[39m__init__\u001b[39;49m(arg1, arg2, \u001b[39m*\u001b[39;49margs)\n",
      "File \u001b[0;32m~/miniconda3/envs/andes/lib/python3.9/site-packages/cvxpy/atoms/atom.py:49\u001b[0m, in \u001b[0;36mAtom.__init__\u001b[0;34m(self, *args)\u001b[0m\n\u001b[1;32m     45\u001b[0m     \u001b[39mraise\u001b[39;00m \u001b[39mTypeError\u001b[39;00m(\n\u001b[1;32m     46\u001b[0m         \u001b[39m\"\u001b[39m\u001b[39mNo arguments given to \u001b[39m\u001b[39m%s\u001b[39;00m\u001b[39m.\u001b[39m\u001b[39m\"\u001b[39m \u001b[39m%\u001b[39m \u001b[39mself\u001b[39m\u001b[39m.\u001b[39m\u001b[39m__class__\u001b[39m\u001b[39m.\u001b[39m\u001b[39m__name__\u001b[39m\n\u001b[1;32m     47\u001b[0m     )\n\u001b[1;32m     48\u001b[0m \u001b[39m# Convert raw values to Constants.\u001b[39;00m\n\u001b[0;32m---> 49\u001b[0m \u001b[39mself\u001b[39m\u001b[39m.\u001b[39margs \u001b[39m=\u001b[39m [Atom\u001b[39m.\u001b[39mcast_to_const(arg) \u001b[39mfor\u001b[39;00m arg \u001b[39min\u001b[39;00m args]\n\u001b[1;32m     50\u001b[0m \u001b[39mself\u001b[39m\u001b[39m.\u001b[39mvalidate_arguments()\n\u001b[1;32m     51\u001b[0m \u001b[39mself\u001b[39m\u001b[39m.\u001b[39m_shape \u001b[39m=\u001b[39m \u001b[39mself\u001b[39m\u001b[39m.\u001b[39mshape_from_args()\n",
      "File \u001b[0;32m~/miniconda3/envs/andes/lib/python3.9/site-packages/cvxpy/atoms/atom.py:49\u001b[0m, in \u001b[0;36m<listcomp>\u001b[0;34m(.0)\u001b[0m\n\u001b[1;32m     45\u001b[0m     \u001b[39mraise\u001b[39;00m \u001b[39mTypeError\u001b[39;00m(\n\u001b[1;32m     46\u001b[0m         \u001b[39m\"\u001b[39m\u001b[39mNo arguments given to \u001b[39m\u001b[39m%s\u001b[39;00m\u001b[39m.\u001b[39m\u001b[39m\"\u001b[39m \u001b[39m%\u001b[39m \u001b[39mself\u001b[39m\u001b[39m.\u001b[39m\u001b[39m__class__\u001b[39m\u001b[39m.\u001b[39m\u001b[39m__name__\u001b[39m\n\u001b[1;32m     47\u001b[0m     )\n\u001b[1;32m     48\u001b[0m \u001b[39m# Convert raw values to Constants.\u001b[39;00m\n\u001b[0;32m---> 49\u001b[0m \u001b[39mself\u001b[39m\u001b[39m.\u001b[39margs \u001b[39m=\u001b[39m [Atom\u001b[39m.\u001b[39;49mcast_to_const(arg) \u001b[39mfor\u001b[39;00m arg \u001b[39min\u001b[39;00m args]\n\u001b[1;32m     50\u001b[0m \u001b[39mself\u001b[39m\u001b[39m.\u001b[39mvalidate_arguments()\n\u001b[1;32m     51\u001b[0m \u001b[39mself\u001b[39m\u001b[39m.\u001b[39m_shape \u001b[39m=\u001b[39m \u001b[39mself\u001b[39m\u001b[39m.\u001b[39mshape_from_args()\n",
      "File \u001b[0;32m~/miniconda3/envs/andes/lib/python3.9/site-packages/cvxpy/expressions/expression.py:526\u001b[0m, in \u001b[0;36mExpression.cast_to_const\u001b[0;34m(expr)\u001b[0m\n\u001b[1;32m    521\u001b[0m         \u001b[39mif\u001b[39;00m \u001b[39misinstance\u001b[39m(elem, Expression):\n\u001b[1;32m    522\u001b[0m             \u001b[39mraise\u001b[39;00m \u001b[39mValueError\u001b[39;00m(\n\u001b[1;32m    523\u001b[0m                 \u001b[39m\"\u001b[39m\u001b[39mThe input must be a single CVXPY Expression, not a list. \u001b[39m\u001b[39m\"\u001b[39m\n\u001b[1;32m    524\u001b[0m                 \u001b[39m\"\u001b[39m\u001b[39mCombine Expressions using atoms such as bmat, hstack, and vstack.\u001b[39m\u001b[39m\"\u001b[39m\n\u001b[1;32m    525\u001b[0m             )\n\u001b[0;32m--> 526\u001b[0m \u001b[39mreturn\u001b[39;00m expr \u001b[39mif\u001b[39;00m \u001b[39misinstance\u001b[39m(expr, Expression) \u001b[39melse\u001b[39;00m cvxtypes\u001b[39m.\u001b[39;49mconstant()(expr)\n",
      "File \u001b[0;32m~/miniconda3/envs/andes/lib/python3.9/site-packages/cvxpy/expressions/constants/constant.py:48\u001b[0m, in \u001b[0;36mConstant.__init__\u001b[0;34m(self, value)\u001b[0m\n\u001b[1;32m     46\u001b[0m     \u001b[39mself\u001b[39m\u001b[39m.\u001b[39m_sparse \u001b[39m=\u001b[39m \u001b[39mTrue\u001b[39;00m\n\u001b[1;32m     47\u001b[0m \u001b[39melse\u001b[39;00m:\n\u001b[0;32m---> 48\u001b[0m     \u001b[39mself\u001b[39m\u001b[39m.\u001b[39m_value \u001b[39m=\u001b[39m intf\u001b[39m.\u001b[39;49mDEFAULT_INTF\u001b[39m.\u001b[39;49mconst_to_matrix(value)\n\u001b[1;32m     49\u001b[0m     \u001b[39mself\u001b[39m\u001b[39m.\u001b[39m_sparse \u001b[39m=\u001b[39m \u001b[39mFalse\u001b[39;00m\n\u001b[1;32m     50\u001b[0m \u001b[39mself\u001b[39m\u001b[39m.\u001b[39m_imag: Optional[\u001b[39mbool\u001b[39m] \u001b[39m=\u001b[39m \u001b[39mNone\u001b[39;00m\n",
      "File \u001b[0;32m~/miniconda3/envs/andes/lib/python3.9/site-packages/cvxpy/interface/numpy_interface/ndarray_interface.py:53\u001b[0m, in \u001b[0;36mNDArrayInterface.const_to_matrix\u001b[0;34m(self, value, convert_scalars)\u001b[0m\n\u001b[1;32m     51\u001b[0m     \u001b[39mreturn\u001b[39;00m result\n\u001b[1;32m     52\u001b[0m \u001b[39melse\u001b[39;00m:\n\u001b[0;32m---> 53\u001b[0m     \u001b[39mreturn\u001b[39;00m result\u001b[39m.\u001b[39;49mastype(numpy\u001b[39m.\u001b[39;49mfloat64)\n",
      "\u001b[0;31mValueError\u001b[0m: setting an array element with a sequence."
     ]
    }
   ],
   "source": [
    "\n",
    "# Define your neural network weights and biases\n",
    "# For simplicity, let's assume a small network with 2 layers\n",
    "# Replace these with your actual network parameters\n",
    "\n",
    "hidden_units = 10  # Number of hidden units\n",
    "input_units = 2    # Number of input units\n",
    "output_units = 2   # Number of output units\n",
    "\n",
    "W1 = np.random.randn(hidden_units, input_units)\n",
    "b1 = np.random.randn(hidden_units)\n",
    "W2 = np.random.randn(output_units, hidden_units)\n",
    "b2 = np.random.randn(output_units)\n",
    "\n",
    "# Define the input variables\n",
    "Pg = cp.Variable()  # Power generation\n",
    "Pibr = cp.Variable()  # Power imbalance response\n",
    "\n",
    "# Define the piecewise linear approximation of ReLU\n",
    "def relu_approx(x):\n",
    "    return cp.maximum(0, x)\n",
    "\n",
    "# Define the intermediate variables for the neural network\n",
    "z1 = W1 @ [Pg, Pibr] + b1\n",
    "z2 = relu_approx(z1)\n",
    "z3 = W2 @ z2 + b2  # Replace ReLU with linear approximation\n",
    "\n",
    "# Define the constraints\n",
    "Fnadir_min = 0   # Minimum Fnadir constraint\n",
    "ROCOF_max = 0.1  # Maximum ROCOF constraint\n",
    "\n",
    "constraints = [\n",
    "    z3 >= np.array([Fnadir_min, -ROCOF_max])\n",
    "]\n",
    "\n",
    "# Define the cost function to minimize\n",
    "cost = cp.Minimize(Pg + Pibr)  # Modify the cost as needed\n",
    "\n",
    "# Create the optimization problem\n",
    "prob = cp.Problem(cost, constraints)\n",
    "\n",
    "# Solve the optimization problem\n",
    "prob.solve()\n",
    "\n",
    "# Extract the optimal values\n",
    "optimal_Pg = Pg.value\n",
    "optimal_Pibr = Pibr.value\n",
    "optimal_cost = prob.value\n",
    "\n",
    "print(\"Optimal Pg:\", optimal_Pg)\n",
    "print(\"Optimal Pibr:\", optimal_Pibr)\n",
    "print(\"Optimal Cost:\", optimal_cost)\n"
   ]
  }
 ],
 "metadata": {
  "kernelspec": {
   "display_name": "base",
   "language": "python",
   "name": "python3"
  },
  "language_info": {
   "codemirror_mode": {
    "name": "ipython",
    "version": 3
   },
   "file_extension": ".py",
   "mimetype": "text/x-python",
   "name": "python",
   "nbconvert_exporter": "python",
   "pygments_lexer": "ipython3",
   "version": "3.9.17"
  },
  "orig_nbformat": 4
 },
 "nbformat": 4,
 "nbformat_minor": 2
}
