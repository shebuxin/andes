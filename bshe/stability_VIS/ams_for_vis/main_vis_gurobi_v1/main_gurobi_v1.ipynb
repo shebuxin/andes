{
 "cells": [
  {
   "cell_type": "code",
   "execution_count": 99,
   "metadata": {},
   "outputs": [],
   "source": [
    "# public packages\n",
    "import andes\n",
    "import ams\n",
    "import cvxpy as cp\n",
    "import numpy as np\n",
    "import gurobipy\n",
    "\n",
    "# local packages\n",
    "import anci_fun as af\n",
    "\n",
    "# include dynamic constraints using reduced input/output NN model\n",
    "\n",
    "# ------ nn information ------\n",
    "# input:   [M, D]\n",
    "# output:  [rocof_max, fnadir, dtheta_max, eig_max]\n",
    "# nn_diam: [16, 128, 4]"
   ]
  },
  {
   "attachments": {},
   "cell_type": "markdown",
   "metadata": {},
   "source": [
    "# Para preparetion"
   ]
  },
  {
   "cell_type": "code",
   "execution_count": 100,
   "metadata": {},
   "outputs": [],
   "source": [
    "# neural network parameters \n",
    "nn_name = 'trained_model.pth'\n",
    "nn_weights, nn_bias, nn_diam = af.extract_nn_para(nn_name)"
   ]
  },
  {
   "cell_type": "code",
   "execution_count": 101,
   "metadata": {},
   "outputs": [],
   "source": [
    "# MD parameters\n",
    "vsg_num = 8\n",
    "\n",
    "# lb_M = np.array([0, 0, 0, 0, 0, 0, 0, 0])\n",
    "lb_M = np.array([0.05, 0.05, 0.05, 0.05, 0.05, 0.05, 0.05, 0.05])\n",
    "ub_M = np.array([6, 6, 6, 6, 6, 6, 6, 6])\n",
    "\n",
    "# lb_D = np.array([0, 0, 0, 0, 0, 0, 0, 0])\n",
    "lb_D = np.array([0.01, 0.01, 0.01, 0.01, 0.01, 0.01, 0.01, 0.01])\n",
    "ub_D = np.array([4, 4, 4, 4, 4, 4, 4, 4])\n"
   ]
  },
  {
   "cell_type": "code",
   "execution_count": 102,
   "metadata": {},
   "outputs": [],
   "source": [
    "sf_load = 1.0\n",
    "\n",
    "# y = [rocof_max, fnadir, dtheta_max, eig_max]\n",
    "lb_y = np.array([-0.5, -0.6, -3.14, -1000000])\n",
    "ub_y = np.array([ 0.2,  0.6,  3.14,  0])"
   ]
  },
  {
   "attachments": {},
   "cell_type": "markdown",
   "metadata": {},
   "source": [
    "# Load ams model"
   ]
  },
  {
   "cell_type": "code",
   "execution_count": 103,
   "metadata": {},
   "outputs": [
    {
     "name": "stderr",
     "output_type": "stream",
     "text": [
      "LDOPF solved as optimal in 0.0353 seconds with exit code 0.\n"
     ]
    },
    {
     "data": {
      "text/plain": [
       "OrderedDict([('pg', Variable((11,))),\n",
       "             ('pn', Variable((117,))),\n",
       "             ('qg', Variable((11,))),\n",
       "             ('qn', Variable((117,))),\n",
       "             ('vsq', Variable((117,))),\n",
       "             ('pl', Variable((116,))),\n",
       "             ('ql', Variable((116,)))])"
      ]
     },
     "execution_count": 103,
     "metadata": {},
     "output_type": "execute_result"
    }
   ],
   "source": [
    "ssp = ams.load('ams_case123_REGCV1_v5.xlsx')\n",
    "\n",
    "ssp.LDOPF.run()\n",
    "\n",
    "ssp.LDOPF.om.mdl.solve()\n",
    "\n",
    "ssp.LDOPF.om.vars"
   ]
  },
  {
   "cell_type": "code",
   "execution_count": 104,
   "metadata": {},
   "outputs": [],
   "source": [
    "# ssp.LDOPF.pg.get_idx()"
   ]
  },
  {
   "attachments": {},
   "cell_type": "markdown",
   "metadata": {},
   "source": [
    "# Define new variables, constraints, and obj"
   ]
  },
  {
   "cell_type": "code",
   "execution_count": 105,
   "metadata": {},
   "outputs": [],
   "source": [
    "# M and D\n",
    "\n",
    "M = cp.Variable(vsg_num, name=\"M\")\n",
    "D = cp.Variable(vsg_num, name=\"D\")\n",
    "\n",
    "constraints_M = [M >= lb_M, M <= ub_M]\n",
    "constraints_D = [D >= lb_D, D <= ub_D]"
   ]
  },
  {
   "cell_type": "code",
   "execution_count": 106,
   "metadata": {},
   "outputs": [],
   "source": [
    "# data for the neural network linearization\n",
    "pg    = ssp.LDOPF.om.pg\n",
    "\n",
    "x1    = cp.hstack([M, D])  # this version doesn't incelu load scaling factor\n",
    "\n",
    "w1    = nn_weights[0]\n",
    "w2    = nn_weights[1]\n",
    "\n",
    "b1    = nn_bias[0]\n",
    "b2    = nn_bias[1]\n",
    "\n",
    "hdown = -100\n",
    "hup   = 100"
   ]
  },
  {
   "cell_type": "code",
   "execution_count": 107,
   "metadata": {},
   "outputs": [],
   "source": [
    "# neural network linization\n",
    "\n",
    "z = cp.Variable(nn_diam[1], name=\"z\")\n",
    "a = cp.Variable(nn_diam[1], name=\"a\", boolean=True)\n",
    "\n",
    "z_ = w1 @ x1 + b1\n",
    "\n",
    "y = w2 @ z + b2\n",
    "\n",
    "constraints_nn = [\n",
    "                    # linization constraints\n",
    "                    z <= z_ - hdown * (1 - a),\n",
    "                    z >= z_,\n",
    "                    z <= hup * a,\n",
    "                    z >= 0,\n",
    "                    # output constraints\n",
    "                    y[0] <= ub_y[0],         # RoCoF\n",
    "                    y[0] >= lb_y[0],\n",
    "                    y[1] <= ub_y[1],         # fnadir\n",
    "                    y[1] >= lb_y[1],\n",
    "                    y[2] <= ub_y[2],         # dtheta_max\n",
    "                    y[2] >= lb_y[2],\n",
    "                    y[3] <= ub_y[3],         # eig_max\n",
    "                    # y[3] >= lb_y[3]             \n",
    "                ]"
   ]
  },
  {
   "cell_type": "code",
   "execution_count": 108,
   "metadata": {},
   "outputs": [
    {
     "data": {
      "text/plain": [
       "Expression(AFFINE, UNKNOWN, ())"
      ]
     },
     "execution_count": 108,
     "metadata": {},
     "output_type": "execute_result"
    }
   ],
   "source": [
    "y[0]"
   ]
  },
  {
   "cell_type": "code",
   "execution_count": 109,
   "metadata": {},
   "outputs": [],
   "source": [
    "# extract original ams constraints\n",
    "constriants_ams = [ssp.LDOPF.om.constrs[cname] for cname in ssp.LDOPF.om.constrs.keys()]"
   ]
  },
  {
   "cell_type": "code",
   "execution_count": 110,
   "metadata": {},
   "outputs": [],
   "source": [
    "constraints = constraints_M + constraints_D + constraints_nn + constriants_ams\n",
    "\n",
    "# constraints = constriants_ams + constraints_M + constraints_D"
   ]
  },
  {
   "attachments": {},
   "cell_type": "markdown",
   "metadata": {},
   "source": [
    "# Formulate new problem\n",
    "\n",
    "pg = ['PV_1',\n",
    " 'PV_2',\n",
    " 'PV_3',\n",
    " 'PV_4',\n",
    " 'PV_5',\n",
    " 'PV_6',\n",
    " 'PV_7',\n",
    " 'PV_8',\n",
    " 'PV_9',\n",
    " 'PV_10',\n",
    " 'PV_11']\n",
    "\n",
    " SG: PV_1, PV_2, PV_3 (slack bus)\n",
    "\n",
    " IBR: PV_4, PV_5, ..., PV_11"
   ]
  },
  {
   "cell_type": "code",
   "execution_count": 111,
   "metadata": {},
   "outputs": [],
   "source": [
    "c2 = np.array([0.01, 0.01, 0.02, 0, 0, 0, 0, 0, 0, 0, 0])\n",
    "c1 = np.array([  20, 20,   30,   0, 0, 0, 0, 0, 0, 0, 0])\n",
    "\n",
    "# d  = np.array([0, 0, 0, 0.01, 0, 0, 0.001, 0])\n",
    "c_M  = np.array([0.02, 0.01, 0.5, 0.01, 0.06, 0.07, 0.01, 0.02])\n",
    "\n",
    "c_D  = np.array([0.01, 0.01, 0.01, 0.01, 0.01, 0.01, 0.02, 0.01])\n",
    "\n",
    "pg_power = pg**2\n",
    "\n",
    "cost = cp.sum(c2 @ pg_power + c1 @ pg + c_M @ M + c_D @ D)\n",
    "\n",
    "obj = cp.Minimize(cost)"
   ]
  },
  {
   "cell_type": "code",
   "execution_count": 112,
   "metadata": {},
   "outputs": [
    {
     "data": {
      "text/plain": [
       "2.0589561075903093"
      ]
     },
     "execution_count": 112,
     "metadata": {},
     "output_type": "execute_result"
    }
   ],
   "source": [
    "# Create the optimization problem\n",
    "prob = cp.Problem(obj, constraints)\n",
    "\n",
    "# Solve the optimization problem\n",
    "\n",
    "# prob.solve(solver=cp.GUROBI, verbose=True)\n",
    "prob.solve(solver=cp.GUROBI)"
   ]
  },
  {
   "cell_type": "code",
   "execution_count": 113,
   "metadata": {},
   "outputs": [
    {
     "data": {
      "text/plain": [
       "'optimal'"
      ]
     },
     "execution_count": 113,
     "metadata": {},
     "output_type": "execute_result"
    }
   ],
   "source": [
    "prob.status"
   ]
  },
  {
   "cell_type": "code",
   "execution_count": 114,
   "metadata": {},
   "outputs": [
    {
     "data": {
      "text/plain": [
       "array([0.02 , 0.02 , 0.04 , 0.   , 0.   , 0.   , 0.   , 0.   , 0.   ,\n",
       "       0.2  , 0.073])"
      ]
     },
     "execution_count": 114,
     "metadata": {},
     "output_type": "execute_result"
    }
   ],
   "source": [
    "ssp.LDOPF.om.pg.value"
   ]
  },
  {
   "cell_type": "code",
   "execution_count": 115,
   "metadata": {},
   "outputs": [
    {
     "data": {
      "text/plain": [
       "array([0.05      , 0.05      , 0.05      , 0.12461236, 0.05      ,\n",
       "       0.05      , 0.08709397, 0.32764103])"
      ]
     },
     "execution_count": 115,
     "metadata": {},
     "output_type": "execute_result"
    }
   ],
   "source": [
    "M.value"
   ]
  },
  {
   "cell_type": "code",
   "execution_count": 116,
   "metadata": {},
   "outputs": [
    {
     "data": {
      "text/plain": [
       "array([0.01      , 0.25098226, 0.01      , 0.57577362, 0.58418982,\n",
       "       0.01      , 0.01      , 0.26367667])"
      ]
     },
     "execution_count": 116,
     "metadata": {},
     "output_type": "execute_result"
    }
   ],
   "source": [
    "D.value"
   ]
  },
  {
   "attachments": {},
   "cell_type": "markdown",
   "metadata": {},
   "source": [
    "# "
   ]
  }
 ],
 "metadata": {
  "kernelspec": {
   "display_name": "andes",
   "language": "python",
   "name": "python3"
  },
  "language_info": {
   "codemirror_mode": {
    "name": "ipython",
    "version": 3
   },
   "file_extension": ".py",
   "mimetype": "text/x-python",
   "name": "python",
   "nbconvert_exporter": "python",
   "pygments_lexer": "ipython3",
   "version": "3.9.18"
  },
  "orig_nbformat": 4
 },
 "nbformat": 4,
 "nbformat_minor": 2
}
