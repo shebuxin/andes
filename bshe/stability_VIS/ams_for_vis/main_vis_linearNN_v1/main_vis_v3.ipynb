{
 "cells": [
  {
   "cell_type": "code",
   "execution_count": 1,
   "metadata": {},
   "outputs": [],
   "source": [
    "# public packages\n",
    "import andes\n",
    "import ams\n",
    "import cvxpy as cp\n",
    "import numpy as np\n",
    "import gurobipy\n",
    "\n",
    "# local packages\n",
    "import anci_fun as af\n",
    "\n",
    "# v1 try to include dynamic constraints using reduced input/output NN model\n",
    "\n",
    "# ------ nn information ------\n",
    "# input:   [M, D]\n",
    "# nn_diam: [16, 128, 1]"
   ]
  },
  {
   "cell_type": "markdown",
   "metadata": {},
   "source": [
    "# Para preparetion"
   ]
  },
  {
   "cell_type": "code",
   "execution_count": 2,
   "metadata": {},
   "outputs": [],
   "source": [
    "# neural network parameters \n",
    "name_rocof  = 'NN_rocof.pth'\n",
    "name_fnadir = 'NN_fnadir.pth'\n",
    "name_angle  = 'NN_angle.pth'\n",
    "name_eig    = 'NN_eig.pth'\n",
    "\n",
    "nn_weights_rocof, nn_bias_rocof, nn_diam_rocof    = af.extract_nn_para(name_rocof) # three list\n",
    "nn_weights_fnadir, nn_bias_fnadir, nn_diam_fnadir = af.extract_nn_para(name_fnadir) \n",
    "nn_weights_angle, nn_bias_angle, nn_diam_angle    = af.extract_nn_para(name_angle)\n",
    "nn_weights_eig, nn_bias_eig, nn_diam_eig          = af.extract_nn_para(name_eig) "
   ]
  },
  {
   "cell_type": "code",
   "execution_count": 3,
   "metadata": {},
   "outputs": [],
   "source": [
    "# MD parameters\n",
    "vsg_num = 8\n",
    "\n",
    "# lb_M = np.array([0, 0, 0, 0, 0, 0, 0, 0])\n",
    "lb_M = np.array([0.05, 0.05, 0.05, 0.05, 0.05, 0.05, 0.05, 0.05])\n",
    "ub_M = np.array([6, 6, 6, 6, 6, 6, 6, 6])\n",
    "\n",
    "# lb_D = np.array([0, 0, 0, 0, 0, 0, 0, 0])\n",
    "lb_D = np.array([0.01, 0.01, 0.01, 0.01, 0.01, 0.01, 0.01, 0.01])*10\n",
    "ub_D = np.array([4, 4, 4, 4, 4, 4, 4, 4])"
   ]
  },
  {
   "cell_type": "code",
   "execution_count": 4,
   "metadata": {},
   "outputs": [],
   "source": [
    "# boundary rocof\n",
    "lb_rocof = np.array([-0.5])\n",
    "ub_rocof = np.array([ 0.4])\n",
    "\n",
    "# boundary fnadir\n",
    "lb_fnadir = np.array([-0.6])\n",
    "ub_fnadir = np.array([ 0.6])\n",
    "\n",
    "# boundary angle\n",
    "lb_angle = np.array([-3.14])\n",
    "ub_angle = np.array([ 3.14])\n",
    "\n",
    "# boundary eig\n",
    "lb_eig = np.array([-100])\n",
    "ub_eig = np.array([ 0.001])"
   ]
  },
  {
   "cell_type": "markdown",
   "metadata": {},
   "source": [
    "# Load ams model"
   ]
  },
  {
   "cell_type": "code",
   "execution_count": 5,
   "metadata": {},
   "outputs": [
    {
     "name": "stderr",
     "output_type": "stream",
     "text": [
      "LDOPF solved as optimal in 0.0798 seconds with exit code 0.\n"
     ]
    },
    {
     "data": {
      "text/plain": [
       "OrderedDict([('pg', Variable((11,))),\n",
       "             ('pn', Variable((117,))),\n",
       "             ('qg', Variable((11,))),\n",
       "             ('qn', Variable((117,))),\n",
       "             ('vsq', Variable((117,))),\n",
       "             ('pl', Variable((116,))),\n",
       "             ('ql', Variable((116,)))])"
      ]
     },
     "execution_count": 5,
     "metadata": {},
     "output_type": "execute_result"
    }
   ],
   "source": [
    "ssp = ams.load('ams_case123_REGCV1_v5.xlsx')\n",
    "\n",
    "ssp.LDOPF.run()\n",
    "\n",
    "ssp.LDOPF.om.mdl.solve()\n",
    "\n",
    "ssp.LDOPF.om.vars"
   ]
  },
  {
   "cell_type": "markdown",
   "metadata": {},
   "source": [
    "# Define new variables, constraints, and obj"
   ]
  },
  {
   "cell_type": "code",
   "execution_count": 6,
   "metadata": {},
   "outputs": [],
   "source": [
    "# M and D\n",
    "\n",
    "M = cp.Variable(vsg_num, name=\"M\")\n",
    "D = cp.Variable(vsg_num, name=\"D\")\n",
    "\n",
    "constraints_M = [M >= lb_M, M <= ub_M]\n",
    "constraints_D = [D >= lb_D, D <= ub_D]"
   ]
  },
  {
   "cell_type": "code",
   "execution_count": 7,
   "metadata": {},
   "outputs": [],
   "source": [
    "# data for the neural network linearization\n",
    "pg    = ssp.LDOPF.om.pg\n",
    "\n",
    "x1    = cp.hstack([M, D])  # this version doesn't incelu load scaling factor\n",
    "\n",
    "w1_rocof    = nn_weights_rocof[0]\n",
    "w2_rocof    = nn_weights_rocof[1]\n",
    "\n",
    "w1_fnadir   = nn_weights_fnadir[0]\n",
    "w2_fnadir   = nn_weights_fnadir[1]\n",
    "\n",
    "w1_angle    = nn_weights_angle[0]\n",
    "w2_angle    = nn_weights_angle[1]\n",
    "\n",
    "w1_eig      = nn_weights_eig[0]\n",
    "w2_eig      = nn_weights_eig[1]\n",
    "\n",
    "b1_rocof    = nn_bias_rocof[0]\n",
    "b2_rocof    = nn_bias_rocof[1]\n",
    "\n",
    "b1_fnadir   = nn_bias_fnadir[0]\n",
    "b2_fnadir   = nn_bias_fnadir[1]\n",
    "\n",
    "b1_angle    = nn_bias_angle[0]\n",
    "b2_angle    = nn_bias_angle[1]\n",
    "\n",
    "b1_eig      = nn_bias_eig[0]\n",
    "b2_eig      = nn_bias_eig[1]"
   ]
  },
  {
   "cell_type": "code",
   "execution_count": 8,
   "metadata": {},
   "outputs": [],
   "source": [
    "# neural network linization\n",
    "z_rocof  = w1_rocof @ x1 + b1_rocof\n",
    "z_fnadir = w1_fnadir @ x1 + b1_fnadir\n",
    "z_angle  = w1_angle @ x1 + b1_angle\n",
    "z_eig    = w1_eig @ x1 + b1_eig\n",
    "\n",
    "y_rocof  = w2_rocof @ z_rocof + b2_rocof\n",
    "y_fnadir = w2_fnadir @ z_fnadir + b2_fnadir\n",
    "y_angle  = w2_angle @ z_angle + b2_angle\n",
    "y_eig    = w2_eig @ z_eig + b2_eig\n",
    "\n",
    "constraints_nn = [\n",
    "                    y_rocof >= lb_rocof,\n",
    "                    y_rocof <= ub_rocof,\n",
    "                    y_fnadir >= lb_fnadir,\n",
    "                    y_fnadir <= ub_fnadir,\n",
    "                    y_angle >= lb_angle,\n",
    "                    y_angle <= ub_angle,\n",
    "                    y_eig <= ub_eig\n",
    "                ]"
   ]
  },
  {
   "cell_type": "code",
   "execution_count": 9,
   "metadata": {},
   "outputs": [],
   "source": [
    "# extract original ams constraints\n",
    "constriants_ams = [ssp.LDOPF.om.constrs[cname] for cname in ssp.LDOPF.om.constrs.keys()]"
   ]
  },
  {
   "cell_type": "code",
   "execution_count": 10,
   "metadata": {},
   "outputs": [],
   "source": [
    "constraints = constraints_M + constraints_D + constraints_nn + constriants_ams\n",
    "\n",
    "# constraints = constriants_ams + constraints_M + constraints_D"
   ]
  },
  {
   "cell_type": "markdown",
   "metadata": {},
   "source": [
    "# Formulate new problem\n",
    "\n",
    "pg = ['PV_1',\n",
    " 'PV_10',\n",
    " 'PV_11',\n",
    " 'PV_2',\n",
    " 'PV_3',\n",
    " 'PV_4',\n",
    " 'PV_5',\n",
    " 'PV_6',\n",
    " 'PV_7',\n",
    " 'PV_8',\n",
    " 'PV_9']\n",
    "\n",
    " SG: PV_1, PV_2, PV_3 (slack bus)\n",
    "\n",
    " IBR: PV_4, PV_5, ..., PV_11"
   ]
  },
  {
   "cell_type": "code",
   "execution_count": 11,
   "metadata": {},
   "outputs": [],
   "source": [
    "c2 = np.array([0.01, 0, 0, 0.01, 0.02, 0, 0, 0, 0, 0, 0])*100\n",
    "c1 = np.array([  20, 0, 0,   20,   30, 0, 0, 0, 0, 0, 0])*10\n",
    "\n",
    "c_M  = np.array([0.02, 0.012, 0.5, 0.014, 0.06, 0.07, 0.015, 0.02])\n",
    "\n",
    "c_D  = np.array([0.01, 0.01, 0.03, 0.01, 0.01, 0.01, 0.02, 0.01])*3\n",
    "\n",
    "pg_power = pg**2\n",
    "\n",
    "cost = cp.sum(c2 @ pg_power + c1 @ pg + c_M @ M + c_D @ D)\n",
    "\n",
    "obj = cp.Minimize(cost)"
   ]
  },
  {
   "cell_type": "code",
   "execution_count": 12,
   "metadata": {},
   "outputs": [
    {
     "name": "stdout",
     "output_type": "stream",
     "text": [
      "===============================================================================\n",
      "                                     CVXPY                                     \n",
      "                                     v1.3.2                                    \n",
      "===============================================================================\n",
      "(CVXPY) Sep 11 10:42:45 PM: Your problem has 621 variables, 24 constraints, and 0 parameters.\n",
      "(CVXPY) Sep 11 10:42:45 PM: It is compliant with the following grammars: DCP, DQCP\n",
      "(CVXPY) Sep 11 10:42:45 PM: (If you need to solve this problem multiple times, but with different data, consider using parameters.)\n",
      "(CVXPY) Sep 11 10:42:45 PM: CVXPY will first compile your problem; then, it will invoke a numerical solver to obtain a solution.\n",
      "-------------------------------------------------------------------------------\n",
      "                                  Compilation                                  \n",
      "-------------------------------------------------------------------------------\n",
      "(CVXPY) Sep 11 10:42:45 PM: Compiling problem (target solver=ECOS_BB).\n",
      "(CVXPY) Sep 11 10:42:45 PM: Reduction chain: Dcp2Cone -> CvxAttr2Constr -> ConeMatrixStuffing -> ECOS_BB\n",
      "(CVXPY) Sep 11 10:42:45 PM: Applying reduction Dcp2Cone\n",
      "(CVXPY) Sep 11 10:42:45 PM: Applying reduction CvxAttr2Constr\n",
      "(CVXPY) Sep 11 10:42:45 PM: Applying reduction ConeMatrixStuffing\n",
      "(CVXPY) Sep 11 10:42:45 PM: Applying reduction ECOS_BB\n",
      "(CVXPY) Sep 11 10:42:45 PM: Finished problem compilation (took 3.282e-02 seconds).\n",
      "-------------------------------------------------------------------------------\n",
      "                                Numerical solver                               \n",
      "-------------------------------------------------------------------------------\n",
      "(CVXPY) Sep 11 10:42:45 PM: Invoking solver ECOS_BB  to obtain a solution.\n",
      "\n",
      "ECOS 2.0.10 - (C) embotech GmbH, Zurich Switzerland, 2012-15. Web: www.embotech.com/ECOS\n",
      "\n",
      "It     pcost       dcost      gap   pres   dres    k/t    mu     step   sigma     IR    |   BT\n",
      " 0  +4.412e+02  -2.723e+06  +3e+06  7e-03  7e-02  1e+00  5e+03    ---    ---    1  1  - |  -  - \n",
      " 1  +1.644e+01  -2.770e+05  +3e+05  7e-04  1e-02  1e+01  5e+02  0.8995  2e-03   2  2  2 |  0  0\n",
      " 2  +3.397e+01  -5.567e+03  +6e+03  1e-05  3e-04  5e+00  1e+01  0.9890  9e-03   1  2  2 |  0  0\n",
      " 3  +2.389e+01  -5.750e+02  +6e+02  2e-06  6e-05  5e-01  1e+00  0.8942  2e-03   1  1  1 |  0  0\n",
      " 4  +2.157e+01  -3.381e+01  +6e+01  1e-07  5e-06  7e-02  1e-01  0.9427  4e-02   1  1  1 |  0  0\n",
      " 5  +2.072e+01  +8.555e+00  +1e+01  3e-08  1e-06  2e-02  2e-02  0.8339  6e-02   1  1  1 |  0  0\n",
      " 6  +2.046e+01  +1.856e+01  +2e+00  5e-09  2e-07  3e-03  4e-03  0.8669  3e-02   1  1  1 |  0  0\n",
      " 7  +2.041e+01  +2.022e+01  +2e-01  5e-10  2e-08  3e-04  3e-04  0.9209  2e-02   2  1  1 |  0  0\n",
      " 8  +2.040e+01  +2.040e+01  +4e-03  1e-11  4e-10  6e-06  7e-06  0.9815  3e-03   2  1  1 |  0  0\n",
      " 9  +2.040e+01  +2.040e+01  +5e-05  4e-13  5e-12  7e-08  8e-08  0.9890  1e-04   2  1  1 |  0  0\n",
      "10  +2.040e+01  +2.040e+01  +7e-07  8e-15  7e-14  1e-09  1e-09  0.9848  1e-04   1  1  1 |  0  0\n",
      "-------------------------------------------------------------------------------\n",
      "                                    Summary                                    \n",
      "-------------------------------------------------------------------------------\n",
      "(CVXPY) Sep 11 10:42:45 PM: Problem status: optimal\n",
      "11  +2.040e+01  +2.040e+01  +2e-08  8e-16  2e-15  3e-11  3e-11  0.9736  1e-04   1  1  1 |  0  0\n",
      "\n",
      "OPTIMAL (within feastol=1.9e-15, reltol=9.1e-10, abstol=1.9e-08).\n",
      "Runtime: 0.060771 seconds.\n",
      "\n",
      "(CVXPY) Sep 11 10:42:45 PM: Optimal value: 2.040e+01\n",
      "(CVXPY) Sep 11 10:42:45 PM: Compilation took 3.282e-02 seconds\n",
      "(CVXPY) Sep 11 10:42:45 PM: Solver (including time spent in interface) took 6.135e-02 seconds\n"
     ]
    },
    {
     "data": {
      "text/plain": [
       "20.40157932472802"
      ]
     },
     "execution_count": 12,
     "metadata": {},
     "output_type": "execute_result"
    }
   ],
   "source": [
    "# Create the optimization problem\n",
    "prob = cp.Problem(obj, constraints)\n",
    "\n",
    "# Solve the optimization problem\n",
    "\n",
    "# prob.solve(solver=cp.GUROBI, verbose=True)\n",
    "\n",
    "prob.solve(solver=cp.ECOS_BB, verbose=True)\n",
    "\n",
    "# prob.solve()"
   ]
  },
  {
   "cell_type": "code",
   "execution_count": 13,
   "metadata": {},
   "outputs": [
    {
     "data": {
      "text/plain": [
       "array([0.02    , 0.034125, 0.034125, 0.02    , 0.04    , 0.034125,\n",
       "       0.034125, 0.034125, 0.034125, 0.034125, 0.034125])"
      ]
     },
     "execution_count": 13,
     "metadata": {},
     "output_type": "execute_result"
    }
   ],
   "source": [
    "ssp.LDOPF.om.pg.value"
   ]
  },
  {
   "cell_type": "code",
   "execution_count": 14,
   "metadata": {},
   "outputs": [
    {
     "data": {
      "text/plain": [
       "array([0.05      , 0.05      , 0.05      , 0.05      , 1.81181949,\n",
       "       0.05      , 0.05      , 0.05      ])"
      ]
     },
     "execution_count": 14,
     "metadata": {},
     "output_type": "execute_result"
    }
   ],
   "source": [
    "M.value"
   ]
  },
  {
   "cell_type": "code",
   "execution_count": 15,
   "metadata": {},
   "outputs": [
    {
     "data": {
      "text/plain": [
       "array([0.1       , 0.1       , 0.1       , 3.64400516, 0.1       ,\n",
       "       0.1       , 0.1       , 4.        ])"
      ]
     },
     "execution_count": 15,
     "metadata": {},
     "output_type": "execute_result"
    }
   ],
   "source": [
    "D.value"
   ]
  },
  {
   "cell_type": "markdown",
   "metadata": {},
   "source": [
    "# "
   ]
  }
 ],
 "metadata": {
  "kernelspec": {
   "display_name": "andes",
   "language": "python",
   "name": "python3"
  },
  "language_info": {
   "codemirror_mode": {
    "name": "ipython",
    "version": 3
   },
   "file_extension": ".py",
   "mimetype": "text/x-python",
   "name": "python",
   "nbconvert_exporter": "python",
   "pygments_lexer": "ipython3",
   "version": "3.9.17"
  },
  "orig_nbformat": 4
 },
 "nbformat": 4,
 "nbformat_minor": 2
}
