{
 "cells": [
  {
   "cell_type": "code",
   "execution_count": 78,
   "metadata": {},
   "outputs": [],
   "source": [
    "import andes\n",
    "import ams\n",
    "import cvxpy as cp\n",
    "import numpy as np"
   ]
  },
  {
   "cell_type": "markdown",
   "metadata": {},
   "source": [
    "# Load and formulate ams case"
   ]
  },
  {
   "cell_type": "code",
   "execution_count": 79,
   "metadata": {},
   "outputs": [
    {
     "name": "stderr",
     "output_type": "stream",
     "text": [
      "LDOPF solved as optimal in 0.0111 seconds with exit code 0.\n"
     ]
    },
    {
     "data": {
      "text/plain": [
       "True"
      ]
     },
     "execution_count": 79,
     "metadata": {},
     "output_type": "execute_result"
    }
   ],
   "source": [
    "ssp = ams.load(ams.get_case('ieee14/ieee14_uced.xlsx'))\n",
    "\n",
    "ssp.LDOPF.run()"
   ]
  },
  {
   "cell_type": "code",
   "execution_count": 80,
   "metadata": {},
   "outputs": [
    {
     "data": {
      "text/plain": [
       "<ams.opt.omodel.OModel at 0x7fe4eea49d00>"
      ]
     },
     "execution_count": 80,
     "metadata": {},
     "output_type": "execute_result"
    }
   ],
   "source": [
    "ssp.LDOPF.om"
   ]
  },
  {
   "cell_type": "code",
   "execution_count": 81,
   "metadata": {},
   "outputs": [
    {
     "data": {
      "text/plain": [
       "OrderedDict([('pg', Variable((5,))),\n",
       "             ('pn', Variable((14,))),\n",
       "             ('qg', Variable((5,))),\n",
       "             ('qn', Variable((14,))),\n",
       "             ('vsq', Variable((14,))),\n",
       "             ('pl', Variable((20,))),\n",
       "             ('ql', Variable((20,)))])"
      ]
     },
     "execution_count": 81,
     "metadata": {},
     "output_type": "execute_result"
    }
   ],
   "source": [
    "ssp.LDOPF.om.vars"
   ]
  },
  {
   "cell_type": "code",
   "execution_count": 82,
   "metadata": {},
   "outputs": [
    {
     "data": {
      "text/plain": [
       "69.55849510545293"
      ]
     },
     "execution_count": 82,
     "metadata": {},
     "output_type": "execute_result"
    }
   ],
   "source": [
    "cvx_mdl = ssp.LDOPF.om.mdl\n",
    "\n",
    "cvx_mdl.solve()"
   ]
  },
  {
   "cell_type": "markdown",
   "metadata": {},
   "source": [
    "# Modify ams cvxpy model\n",
    "\n",
    "### define new variables"
   ]
  },
  {
   "cell_type": "code",
   "execution_count": 83,
   "metadata": {},
   "outputs": [],
   "source": [
    "# define new variables\n",
    "\n",
    "lb = np.array([0, 0])\n",
    "ub = np.array([1, 1])\n",
    "\n",
    "x = cp.Variable(2, name=\"x\")\n",
    "\n",
    "# x = cp.Variable(2, name='x', lb=np.array([0, 0]), ub=np.array([1, 1]))"
   ]
  },
  {
   "cell_type": "markdown",
   "metadata": {},
   "source": [
    "### modify constraints"
   ]
  },
  {
   "cell_type": "code",
   "execution_count": 84,
   "metadata": {},
   "outputs": [],
   "source": [
    "# define new constraints\n",
    "\n",
    "constraints_new = [x >= lb, x <= ub]"
   ]
  },
  {
   "cell_type": "code",
   "execution_count": 85,
   "metadata": {},
   "outputs": [
    {
     "data": {
      "text/plain": [
       "[Inequality(Constant(CONSTANT, NONNEGATIVE, (5,))),\n",
       " Inequality(Variable((5,))),\n",
       " Inequality(Constant(CONSTANT, NONPOSITIVE, (5,))),\n",
       " Inequality(Variable((5,))),\n",
       " Equality(Expression(AFFINE, UNKNOWN, ()), Constant(CONSTANT, ZERO, ())),\n",
       " Equality(Expression(AFFINE, UNKNOWN, (14,)), Constant(CONSTANT, ZERO, ())),\n",
       " Inequality(Expression(AFFINE, UNKNOWN, (20,))),\n",
       " Inequality(Expression(AFFINE, UNKNOWN, (20,))),\n",
       " Inequality(Expression(AFFINE, UNKNOWN, (14,))),\n",
       " Inequality(Expression(AFFINE, UNKNOWN, (14,))),\n",
       " Equality(Expression(AFFINE, UNKNOWN, (14,)), Constant(CONSTANT, ZERO, ())),\n",
       " Equality(Expression(AFFINE, UNKNOWN, ()), Constant(CONSTANT, ZERO, ())),\n",
       " Equality(Expression(AFFINE, UNKNOWN, (20,)), Constant(CONSTANT, ZERO, ()))]"
      ]
     },
     "execution_count": 85,
     "metadata": {},
     "output_type": "execute_result"
    }
   ],
   "source": [
    "# extract constraints from ams model\n",
    "\n",
    "constriants_ams = [ssp.LDOPF.om.constrs[cname] for cname in ssp.LDOPF.om.constrs.keys()]\n",
    "constriants_ams"
   ]
  },
  {
   "cell_type": "code",
   "execution_count": 86,
   "metadata": {},
   "outputs": [
    {
     "data": {
      "text/plain": [
       "[Inequality(Constant(CONSTANT, ZERO, (2,))),\n",
       " Inequality(Variable((2,))),\n",
       " Inequality(Constant(CONSTANT, NONNEGATIVE, (5,))),\n",
       " Inequality(Variable((5,))),\n",
       " Inequality(Constant(CONSTANT, NONPOSITIVE, (5,))),\n",
       " Inequality(Variable((5,))),\n",
       " Equality(Expression(AFFINE, UNKNOWN, ()), Constant(CONSTANT, ZERO, ())),\n",
       " Equality(Expression(AFFINE, UNKNOWN, (14,)), Constant(CONSTANT, ZERO, ())),\n",
       " Inequality(Expression(AFFINE, UNKNOWN, (20,))),\n",
       " Inequality(Expression(AFFINE, UNKNOWN, (20,))),\n",
       " Inequality(Expression(AFFINE, UNKNOWN, (14,))),\n",
       " Inequality(Expression(AFFINE, UNKNOWN, (14,))),\n",
       " Equality(Expression(AFFINE, UNKNOWN, (14,)), Constant(CONSTANT, ZERO, ())),\n",
       " Equality(Expression(AFFINE, UNKNOWN, ()), Constant(CONSTANT, ZERO, ())),\n",
       " Equality(Expression(AFFINE, UNKNOWN, (20,)), Constant(CONSTANT, ZERO, ()))]"
      ]
     },
     "execution_count": 86,
     "metadata": {},
     "output_type": "execute_result"
    }
   ],
   "source": [
    "# formulated new constraints\n",
    "\n",
    "constraints_new += constriants_ams\n",
    "constraints_new"
   ]
  },
  {
   "cell_type": "markdown",
   "metadata": {},
   "source": [
    "### define new objective function"
   ]
  },
  {
   "cell_type": "code",
   "execution_count": 87,
   "metadata": {},
   "outputs": [],
   "source": [
    "obj = cp.Minimize(cp.sum(x))"
   ]
  },
  {
   "cell_type": "code",
   "execution_count": 88,
   "metadata": {},
   "outputs": [
    {
     "data": {
      "text/plain": [
       "Variable((2,))"
      ]
     },
     "execution_count": 88,
     "metadata": {},
     "output_type": "execute_result"
    }
   ],
   "source": [
    "x"
   ]
  },
  {
   "cell_type": "code",
   "execution_count": 95,
   "metadata": {},
   "outputs": [
    {
     "data": {
      "text/plain": [
       "(2,)"
      ]
     },
     "execution_count": 95,
     "metadata": {},
     "output_type": "execute_result"
    }
   ],
   "source": [
    "np.array([1, 2]).shape"
   ]
  },
  {
   "cell_type": "code",
   "execution_count": 97,
   "metadata": {},
   "outputs": [
    {
     "data": {
      "text/plain": [
       "Expression(AFFINE, UNKNOWN, ())"
      ]
     },
     "execution_count": 97,
     "metadata": {},
     "output_type": "execute_result"
    }
   ],
   "source": [
    "temp = x @ np.array([1, 2])\n",
    "temp"
   ]
  },
  {
   "cell_type": "code",
   "execution_count": 89,
   "metadata": {},
   "outputs": [],
   "source": [
    "obj = cp.Minimize(x @ np.array([1, 2]))"
   ]
  },
  {
   "cell_type": "markdown",
   "metadata": {},
   "source": [
    "### formulate new cvxpy problem"
   ]
  },
  {
   "cell_type": "code",
   "execution_count": 90,
   "metadata": {},
   "outputs": [],
   "source": [
    "prob = cp.Problem(obj, constraints_new)"
   ]
  },
  {
   "cell_type": "code",
   "execution_count": 91,
   "metadata": {},
   "outputs": [
    {
     "data": {
      "text/plain": [
       "1.5578968827277052e-11"
      ]
     },
     "execution_count": 91,
     "metadata": {},
     "output_type": "execute_result"
    }
   ],
   "source": [
    "prob.solve()"
   ]
  },
  {
   "cell_type": "markdown",
   "metadata": {},
   "source": [
    "# Check optimization results"
   ]
  },
  {
   "cell_type": "code",
   "execution_count": 92,
   "metadata": {},
   "outputs": [
    {
     "name": "stdout",
     "output_type": "stream",
     "text": [
      "Optimal solution found.\n"
     ]
    }
   ],
   "source": [
    "# optimization status\n",
    "\n",
    "if prob.status == cp.OPTIMAL:\n",
    "    print(\"Optimal solution found.\")\n",
    "elif prob.status == cp.INFEASIBLE:\n",
    "    print(\"The problem is infeasible.\")\n",
    "elif prob.status == cp.UNBOUNDED:\n",
    "    print(\"The problem is unbounded.\")\n",
    "else:\n",
    "    print(\"Solver did not converge or encountered an issue.\")"
   ]
  },
  {
   "cell_type": "code",
   "execution_count": 93,
   "metadata": {},
   "outputs": [
    {
     "name": "stdout",
     "output_type": "stream",
     "text": [
      "Optimal Objective Value: 1.5578968827277052e-11\n"
     ]
    }
   ],
   "source": [
    "# objective value\n",
    "\n",
    "optimal_objective_value = prob.value\n",
    "\n",
    "print(\"Optimal Objective Value:\", optimal_objective_value)"
   ]
  },
  {
   "cell_type": "code",
   "execution_count": 94,
   "metadata": {},
   "outputs": [
    {
     "ename": "AttributeError",
     "evalue": "'Problem' object has no attribute 'pg'",
     "output_type": "error",
     "traceback": [
      "\u001b[0;31m---------------------------------------------------------------------------\u001b[0m",
      "\u001b[0;31mAttributeError\u001b[0m                            Traceback (most recent call last)",
      "Cell \u001b[0;32mIn[94], line 3\u001b[0m\n\u001b[1;32m      1\u001b[0m \u001b[39m# decision variables values\u001b[39;00m\n\u001b[0;32m----> 3\u001b[0m pg_optimal \u001b[39m=\u001b[39m prob\u001b[39m.\u001b[39;49mpg\u001b[39m.\u001b[39mvalue\n\u001b[1;32m      5\u001b[0m \u001b[39mprint\u001b[39m(\u001b[39m\"\u001b[39m\u001b[39mOptimal values of \u001b[39m\u001b[39m'\u001b[39m\u001b[39mpg\u001b[39m\u001b[39m'\u001b[39m\u001b[39m:\u001b[39m\u001b[39m\"\u001b[39m, pg_optimal)\n",
      "\u001b[0;31mAttributeError\u001b[0m: 'Problem' object has no attribute 'pg'"
     ]
    }
   ],
   "source": [
    "# decision variables values\n",
    "\n",
    "pg_optimal = prob.pg.value\n",
    "\n",
    "print(\"Optimal values of 'pg':\", pg_optimal)"
   ]
  },
  {
   "cell_type": "code",
   "execution_count": null,
   "metadata": {},
   "outputs": [
    {
     "name": "stdout",
     "output_type": "stream",
     "text": [
      "Optimal values of 'pg': [0.27022003 0.27022003 0.27022003 0.27022003 1.15611989]\n"
     ]
    }
   ],
   "source": [
    "# decision variables values\n",
    "\n",
    "pg_optimal = ssp.LDOPF.om.pg.value\n",
    "\n",
    "print(\"Optimal values of 'pg':\", pg_optimal)"
   ]
  },
  {
   "cell_type": "code",
   "execution_count": null,
   "metadata": {},
   "outputs": [],
   "source": []
  }
 ],
 "metadata": {
  "kernelspec": {
   "display_name": "andes",
   "language": "python",
   "name": "python3"
  },
  "language_info": {
   "codemirror_mode": {
    "name": "ipython",
    "version": 3
   },
   "file_extension": ".py",
   "mimetype": "text/x-python",
   "name": "python",
   "nbconvert_exporter": "python",
   "pygments_lexer": "ipython3",
   "version": "3.9.17"
  },
  "orig_nbformat": 4
 },
 "nbformat": 4,
 "nbformat_minor": 2
}
