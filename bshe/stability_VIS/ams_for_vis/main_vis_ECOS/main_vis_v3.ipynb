{
 "cells": [
  {
   "cell_type": "code",
   "execution_count": 1,
   "metadata": {},
   "outputs": [],
   "source": [
    "# public packages\n",
    "import andes\n",
    "import ams\n",
    "import cvxpy as cp\n",
    "import numpy as np\n",
    "import gurobipy\n",
    "\n",
    "# local packages\n",
    "import anci_fun as af\n",
    "\n",
    "# v1 try to include dynamic constraints using reduced input/output NN model\n",
    "\n",
    "# ------ nn information ------\n",
    "# input:   [M, D]\n",
    "# output:  [rocof_max]\n",
    "# nn_diam: [16, 128, 1]"
   ]
  },
  {
   "cell_type": "markdown",
   "metadata": {},
   "source": [
    "# Para preparetion"
   ]
  },
  {
   "cell_type": "code",
   "execution_count": 2,
   "metadata": {},
   "outputs": [],
   "source": [
    "# neural network parameters \n",
    "nn_name = 'trained_model_v3.pth'\n",
    "nn_weights, nn_bias, nn_diam = af.extract_nn_para(nn_name) # three list"
   ]
  },
  {
   "cell_type": "code",
   "execution_count": 3,
   "metadata": {},
   "outputs": [],
   "source": [
    "# MD parameters\n",
    "vsg_num = 8\n",
    "\n",
    "# lb_M = np.array([0, 0, 0, 0, 0, 0, 0, 0])\n",
    "lb_M = np.array([0.05, 0.05, 0.05, 0.05, 0.05, 0.05, 0.05, 0.05])\n",
    "ub_M = np.array([6, 6, 6, 6, 6, 6, 6, 6])\n",
    "\n",
    "# lb_D = np.array([0, 0, 0, 0, 0, 0, 0, 0])\n",
    "lb_D = np.array([0.01, 0.01, 0.01, 0.01, 0.01, 0.01, 0.01, 0.01])*10\n",
    "ub_D = np.array([4, 4, 4, 4, 4, 4, 4, 4])"
   ]
  },
  {
   "cell_type": "code",
   "execution_count": 4,
   "metadata": {},
   "outputs": [],
   "source": [
    "# y = [rocof_max]\n",
    "lb_y = np.array([-0.5])\n",
    "ub_y = np.array([ 0.6])"
   ]
  },
  {
   "cell_type": "markdown",
   "metadata": {},
   "source": [
    "# Load ams model"
   ]
  },
  {
   "cell_type": "code",
   "execution_count": 5,
   "metadata": {},
   "outputs": [
    {
     "name": "stderr",
     "output_type": "stream",
     "text": [
      "LDOPF solved as optimal in 0.0745 seconds with exit code 0.\n"
     ]
    },
    {
     "data": {
      "text/plain": [
       "OrderedDict([('pg', Variable((11,))),\n",
       "             ('pn', Variable((117,))),\n",
       "             ('qg', Variable((11,))),\n",
       "             ('qn', Variable((117,))),\n",
       "             ('vsq', Variable((117,))),\n",
       "             ('pl', Variable((116,))),\n",
       "             ('ql', Variable((116,)))])"
      ]
     },
     "execution_count": 5,
     "metadata": {},
     "output_type": "execute_result"
    }
   ],
   "source": [
    "ssp = ams.load('ams_case123_REGCV1_v5.xlsx')\n",
    "\n",
    "ssp.LDOPF.run()\n",
    "\n",
    "ssp.LDOPF.om.mdl.solve()\n",
    "\n",
    "ssp.LDOPF.om.vars"
   ]
  },
  {
   "cell_type": "markdown",
   "metadata": {},
   "source": [
    "# Define new variables, constraints, and obj"
   ]
  },
  {
   "cell_type": "code",
   "execution_count": 6,
   "metadata": {},
   "outputs": [],
   "source": [
    "# M and D\n",
    "\n",
    "M = cp.Variable(vsg_num, name=\"M\")\n",
    "D = cp.Variable(vsg_num, name=\"D\")\n",
    "\n",
    "constraints_M = [M >= lb_M, M <= ub_M]\n",
    "constraints_D = [D >= lb_D, D <= ub_D]"
   ]
  },
  {
   "cell_type": "code",
   "execution_count": 7,
   "metadata": {},
   "outputs": [],
   "source": [
    "# data for the neural network linearization\n",
    "pg    = ssp.LDOPF.om.pg\n",
    "\n",
    "x1    = cp.hstack([M, D])  # this version doesn't incelu load scaling factor\n",
    "\n",
    "w1    = nn_weights[0]\n",
    "w2    = nn_weights[1]\n",
    "\n",
    "b1    = nn_bias[0]\n",
    "b2    = nn_bias[1]\n",
    "\n",
    "hdown = -100\n",
    "hup   = 100"
   ]
  },
  {
   "cell_type": "code",
   "execution_count": 8,
   "metadata": {},
   "outputs": [],
   "source": [
    "# neural network linization\n",
    "\n",
    "z = cp.Variable(nn_diam[1], name=\"z\")\n",
    "a = cp.Variable(nn_diam[1], name=\"a\", boolean=True)\n",
    "\n",
    "z_ = w1 @ x1 + b1\n",
    "\n",
    "y = w2 @ z + b2\n",
    "\n",
    "constraints_nn = [\n",
    "                    # linization constraints\n",
    "                    z <= z_ - hdown * (1 - a),\n",
    "                    z >= z_,\n",
    "                    z <= hup * a,\n",
    "                    z >= 0,\n",
    "                    # output constraints\n",
    "                    y <= ub_y,\n",
    "                    y >= lb_y  \n",
    "                ]"
   ]
  },
  {
   "cell_type": "code",
   "execution_count": 9,
   "metadata": {},
   "outputs": [],
   "source": [
    "# extract original ams constraints\n",
    "constriants_ams = [ssp.LDOPF.om.constrs[cname] for cname in ssp.LDOPF.om.constrs.keys()]"
   ]
  },
  {
   "cell_type": "code",
   "execution_count": 10,
   "metadata": {},
   "outputs": [],
   "source": [
    "constraints = constraints_M + constraints_D + constraints_nn + constriants_ams\n",
    "\n",
    "# constraints = constriants_ams + constraints_M + constraints_D"
   ]
  },
  {
   "cell_type": "markdown",
   "metadata": {},
   "source": [
    "# Formulate new problem\n",
    "\n",
    "pg = ['PV_1',\n",
    " 'PV_10',\n",
    " 'PV_11',\n",
    " 'PV_2',\n",
    " 'PV_3',\n",
    " 'PV_4',\n",
    " 'PV_5',\n",
    " 'PV_6',\n",
    " 'PV_7',\n",
    " 'PV_8',\n",
    " 'PV_9']\n",
    "\n",
    " SG: PV_1, PV_2, PV_3 (slack bus)\n",
    "\n",
    " IBR: PV_4, PV_5, ..., PV_11"
   ]
  },
  {
   "cell_type": "code",
   "execution_count": 11,
   "metadata": {},
   "outputs": [],
   "source": [
    "c2 = np.array([0.01, 0, 0, 0.01, 0.02, 0, 0, 0, 0, 0, 0])*100\n",
    "c1 = np.array([  20, 0, 0,   20,   30, 0, 0, 0, 0, 0, 0])*10\n",
    "\n",
    "# d  = np.array([0, 0, 0, 0.01, 0, 0, 0.001, 0])\n",
    "c_M  = np.array([0.02, 0.012, 0.5, 0.014, 0.06, 0.07, 0.015, 0.02])\n",
    "\n",
    "c_D  = np.array([0.01, 0.01, 0.03, 0.01, 0.01, 0.01, 0.02, 0.01])\n",
    "\n",
    "pg_power = pg**2\n",
    "\n",
    "#cost = cp.sum(c2 @ pg_power + c1 @ pg)\n",
    "\n",
    "cost = cp.sum(c2 @ pg_power + c1 @ pg + c_M @ M + c_D @ D)\n",
    "\n",
    "obj = cp.Minimize(cost)"
   ]
  },
  {
   "cell_type": "code",
   "execution_count": 12,
   "metadata": {},
   "outputs": [
    {
     "name": "stdout",
     "output_type": "stream",
     "text": [
      "===============================================================================\n",
      "                                     CVXPY                                     \n",
      "                                     v1.3.2                                    \n",
      "===============================================================================\n",
      "(CVXPY) Sep 11 07:05:48 PM: Your problem has 877 variables, 23 constraints, and 0 parameters.\n",
      "(CVXPY) Sep 11 07:05:48 PM: It is compliant with the following grammars: DCP, DQCP\n",
      "(CVXPY) Sep 11 07:05:48 PM: (If you need to solve this problem multiple times, but with different data, consider using parameters.)\n",
      "(CVXPY) Sep 11 07:05:48 PM: CVXPY will first compile your problem; then, it will invoke a numerical solver to obtain a solution.\n",
      "-------------------------------------------------------------------------------\n",
      "                                  Compilation                                  \n",
      "-------------------------------------------------------------------------------\n",
      "(CVXPY) Sep 11 07:05:48 PM: Compiling problem (target solver=ECOS_BB).\n",
      "(CVXPY) Sep 11 07:05:48 PM: Reduction chain: Dcp2Cone -> CvxAttr2Constr -> ConeMatrixStuffing -> ECOS_BB\n",
      "(CVXPY) Sep 11 07:05:48 PM: Applying reduction Dcp2Cone\n",
      "(CVXPY) Sep 11 07:05:48 PM: Applying reduction CvxAttr2Constr\n",
      "(CVXPY) Sep 11 07:05:48 PM: Applying reduction ConeMatrixStuffing\n",
      "(CVXPY) Sep 11 07:05:48 PM: Applying reduction ECOS_BB\n",
      "(CVXPY) Sep 11 07:05:48 PM: Finished problem compilation (took 4.343e-02 seconds).\n",
      "-------------------------------------------------------------------------------\n",
      "                                Numerical solver                               \n",
      "-------------------------------------------------------------------------------\n",
      "(CVXPY) Sep 11 07:05:48 PM: Invoking solver ECOS_BB  to obtain a solution.\n",
      "Iter\tLower Bound\tUpper Bound\tGap\n",
      "================================================\n",
      "\n",
      "ECOS 2.0.10 - (C) embotech GmbH, Zurich Switzerland, 2012-15. Web: www.embotech.com/ECOS\n",
      "\n",
      "It     pcost       dcost      gap   pres   dres    k/t    mu     step   sigma     IR    |   BT\n",
      " 0  +4.398e+02  -2.897e+06  +3e+06  1e-02  5e-01  1e+00  2e+03    ---    ---    1  1  - |  -  - \n",
      " 1  -6.814e-01  -3.252e+05  +4e+05  1e-03  1e-01  2e+01  3e+02  0.8955  1e-02   2  2  2 |  0  0\n",
      " 2  +2.570e+01  -1.720e+04  +2e+04  8e-05  9e-03  3e+00  1e+01  0.9537  8e-03   1  2  2 |  0  0\n",
      " 3  +2.196e+01  -1.424e+03  +2e+03  6e-06  1e-03  3e-01  1e+00  0.9163  7e-04   1  1  1 |  0  0\n",
      " 4  +2.072e+01  -2.706e+02  +3e+02  1e-06  3e-04  8e-02  2e-01  0.8273  3e-02   1  1  1 |  0  0\n",
      " 5  +2.028e+01  -9.634e+00  +3e+01  1e-07  3e-05  8e-03  3e-02  0.9000  3e-03   1  1  1 |  0  0\n",
      " 6  +2.008e+01  +1.576e+01  +5e+00  2e-08  4e-06  2e-03  4e-03  0.8848  3e-02   1  1  1 |  0  0\n",
      " 7  +2.005e+01  +2.000e+01  +6e-02  2e-10  5e-08  2e-05  4e-05  0.9878  1e-04   1  1  1 |  0  0\n",
      " 8  +2.005e+01  +2.005e+01  +1e-03  4e-12  9e-10  4e-07  8e-07  0.9824  1e-04   2  1  1 |  0  0\n",
      " 9  +2.005e+01  +2.005e+01  +3e-05  1e-13  2e-11  9e-09  2e-08  0.9741  1e-04   2  1  1 |  0  0\n",
      "10  +2.005e+01  +2.005e+01  +6e-07  4e-15  5e-13  2e-10  5e-10  0.9773  1e-04   1  1  1 |  0  0\n",
      "11  +2.005e+01  +2.005e+01  +9e-09  3e-16  8e-15  3e-12  7e-12  0.9859  1e-04   1  1  1 |  0  0\n",
      "\n",
      "OPTIMAL (within feastol=8.1e-15, reltol=4.3e-10, abstol=8.7e-09).\n",
      "Runtime: 0.064890 seconds.\n",
      "\n",
      "\n",
      "ECOS 2.0.10 - (C) embotech GmbH, Zurich Switzerland, 2012-15. Web: www.embotech.com/ECOS\n",
      "\n",
      "It     pcost       dcost      gap   pres   dres    k/t    mu     step   sigma     IR    |   BT\n",
      " 0  +4.399e+02  -2.832e+06  +3e+06  3e-02  5e-01  1e+00  2e+03    ---    ---    1  1  - |  -  - \n",
      " 1  +4.854e+01  -1.159e+06  +1e+06  1e-02  1e-01  2e+02  9e+02  0.7022  1e-01   2  2  2 |  0  0\n",
      " 2  +5.830e+01  -1.969e+05  +2e+05  2e-03  2e-02  5e+01  2e+02  0.8377  1e-02   2  2  2 |  0  0\n",
      " 3  +5.025e+01  -8.877e+04  +1e+05  9e-04  8e-03  3e+01  7e+01  0.6009  8e-02   1  1  1 |  0  0\n",
      " 4  +7.030e+01  -5.034e+04  +5e+04  5e-04  2e-03  3e+01  4e+01  0.7429  3e-01   1  1  1 |  0  0\n",
      " 5  +3.829e+01  -9.656e+03  +9e+03  1e-04  5e-04  9e+00  7e+00  0.8798  9e-02   1  1  1 |  0  0\n",
      " 6  +2.527e+01  -1.551e+03  +2e+03  2e-05  8e-05  2e+00  1e+00  0.9107  8e-02   1  1  1 |  0  0\n",
      " 7  +2.240e+01  -5.458e+02  +5e+02  6e-06  3e-05  7e-01  4e-01  0.8773  3e-01   1  1  1 |  0  0\n",
      " 8  +2.043e+01  -1.201e+01  +3e+01  3e-07  1e-06  4e-02  2e-02  0.9504  8e-03   1  1  1 |  0  0\n",
      " 9  +2.027e+01  +1.392e+01  +6e+00  7e-08  3e-07  7e-03  5e-03  0.8174  2e-02   1  1  1 |  0  0\n",
      "10  +2.016e+01  +1.754e+01  +3e+00  3e-08  1e-07  3e-03  2e-03  0.7048  2e-01   2  1  1 |  0  0\n",
      "11  +2.012e+01  +1.926e+01  +8e-01  1e-08  4e-08  1e-03  6e-04  0.7207  7e-02   2  1  1 |  0  0\n",
      "12  +2.010e+01  +1.964e+01  +4e-01  6e-09  2e-08  6e-04  3e-04  0.6296  3e-01   2  1  1 |  0  0\n",
      "13  +2.010e+01  +1.993e+01  +2e-01  2e-09  8e-09  2e-04  1e-04  0.9890  3e-01   2  1  1 |  0  0\n",
      "14  +2.010e+01  +2.004e+01  +6e-02  8e-10  3e-09  7e-05  4e-05  0.6765  4e-02   2  1  1 |  0  0\n",
      "15  +2.010e+01  +2.008e+01  +2e-02  3e-10  8e-10  2e-05  1e-05  0.7517  9e-02   2  1  1 |  0  0\n",
      "16  +2.010e+01  +2.009e+01  +5e-03  7e-11  2e-10  7e-06  4e-06  0.7571  5e-02   2  1  1 |  0  0\n",
      "17  +2.010e+01  +2.009e+01  +2e-03  3e-11  1e-10  3e-06  2e-06  0.7348  2e-01   2  1  1 |  0  0\n",
      "18  +2.010e+01  +2.010e+01  +5e-04  9e-12  2e-11  7e-07  4e-07  0.8822  1e-01   2  1  1 |  0  0\n",
      "19  +2.010e+01  +2.010e+01  +7e-06  1e-13  3e-13  9e-09  5e-09  0.9865  2e-04   2  1  1 |  0  0\n",
      "20  +2.010e+01  +2.010e+01  +8e-08  2e-15  4e-15  1e-10  6e-11  0.9890  1e-04   1  1  1 |  0  0\n",
      "\n",
      "OPTIMAL (within feastol=3.6e-15, reltol=3.9e-09, abstol=7.8e-08).\n",
      "Runtime: 0.121572 seconds.\n",
      "\n",
      "0 \t20.05 \t\tinf \t\tinf\n",
      "\n",
      "ECOS 2.0.10 - (C) embotech GmbH, Zurich Switzerland, 2012-15. Web: www.embotech.com/ECOS\n",
      "\n",
      "It     pcost       dcost      gap   pres   dres    k/t    mu     step   sigma     IR    |   BT\n",
      " 0  +4.398e+02  -2.896e+06  +3e+06  3e-02  5e-01  1e+00  2e+03    ---    ---    1  1  - |  -  - \n",
      " 1  -1.259e+01  -1.125e+06  +1e+06  1e-02  2e-01  2e+02  1e+03  0.7075  1e-01   2  2  2 |  0  0\n",
      " 2  +3.889e+01  -1.389e+05  +2e+05  1e-03  4e-02  3e+01  1e+02  0.8760  7e-03   2  2  2 |  0  0\n",
      " 3  +3.065e+01  -1.256e+04  +2e+04  1e-04  5e-03  5e+00  1e+01  0.9314  3e-02   1  1  1 |  0  0\n",
      " 4  +2.484e+01  -1.690e+03  +2e+03  2e-05  9e-04  1e+00  2e+00  0.9277  7e-02   1  1  1 |  0  0\n",
      " 5  +2.158e+01  -4.849e+02  +6e+02  5e-06  3e-04  3e-01  5e-01  0.7526  6e-02   1  1  1 |  0  0\n",
      " 6  +2.062e+01  -4.455e+01  +8e+01  6e-07  4e-05  4e-02  6e-02  0.8762  6e-03   1  1  1 |  0  0\n",
      " 7  +2.024e+01  +8.734e+00  +1e+01  1e-07  6e-06  8e-03  1e-02  0.8533  3e-02   1  1  1 |  0  0\n",
      " 8  +2.007e+01  +1.840e+01  +2e+00  2e-08  9e-07  1e-03  2e-03  0.9127  6e-02   1  1  1 |  0  0\n",
      " 9  +2.005e+01  +1.998e+01  +8e-02  6e-10  4e-08  6e-05  6e-05  0.9890  3e-02   2  1  1 |  0  0\n",
      "10  +2.005e+01  +2.005e+01  +9e-04  7e-12  4e-10  6e-07  7e-07  0.9890  1e-04   2  1  1 |  0  0\n",
      "11  +2.005e+01  +2.005e+01  +1e-05  8e-14  5e-12  7e-09  8e-09  0.9890  1e-04   2  1  1 |  0  0\n",
      "12  +2.005e+01  +2.005e+01  +1e-07  9e-16  5e-14  8e-11  9e-11  0.9890  1e-04   1  1  1 |  0  0\n",
      "\n",
      "OPTIMAL (within feastol=5.1e-14, reltol=5.6e-09, abstol=1.1e-07).\n",
      "Runtime: 0.076768 seconds.\n",
      "\n",
      "\n",
      "ECOS 2.0.10 - (C) embotech GmbH, Zurich Switzerland, 2012-15. Web: www.embotech.com/ECOS\n",
      "\n",
      "It     pcost       dcost      gap   pres   dres    k/t    mu     step   sigma     IR    |   BT\n",
      " 0  +4.398e+02  -2.832e+06  +3e+06  3e-02  5e-01  1e+00  2e+03    ---    ---    1  1  - |  -  - \n",
      " 1  +4.784e+01  -1.160e+06  +1e+06  1e-02  1e-01  2e+02  9e+02  0.7028  1e-01   2  2  2 |  0  0\n",
      " 2  +5.828e+01  -1.980e+05  +2e+05  2e-03  2e-02  5e+01  2e+02  0.8369  1e-02   2  2  2 |  0  0\n",
      " 3  +5.172e+01  -9.095e+04  +1e+05  9e-04  8e-03  3e+01  7e+01  0.6015  9e-02   1  1  1 |  0  0\n",
      " 4  +5.490e+01  -4.913e+04  +5e+04  5e-04  3e-03  3e+01  4e+01  0.6196  2e-01   1  1  1 |  0  0\n",
      " 5  +3.705e+01  -1.031e+04  +1e+04  1e-04  5e-04  9e+00  8e+00  0.9029  1e-01   1  1  1 |  0  0\n",
      " 6  +2.493e+01  -1.902e+03  +2e+03  2e-05  1e-04  2e+00  2e+00  0.8447  4e-02   1  1  1 |  0  0\n",
      " 7  +2.252e+01  -7.085e+02  +7e+02  8e-06  4e-05  8e-01  5e-01  0.8504  2e-01   1  1  1 |  0  0\n",
      " 8  +2.056e+01  -1.033e+02  +1e+02  1e-06  6e-06  1e-01  9e-02  0.8403  1e-02   1  1  1 |  0  0\n",
      " 9  +2.018e+01  +1.027e+01  +1e+01  1e-07  5e-07  1e-02  7e-03  0.9339  1e-02   1  1  1 |  0  0\n",
      "10  +2.010e+01  +1.541e+01  +5e+00  5e-08  2e-07  5e-03  4e-03  0.6000  1e-01   1  1  1 |  0  0\n",
      "11  +2.009e+01  +1.890e+01  +1e+00  2e-08  6e-08  1e-03  9e-04  0.9890  2e-01   2  1  1 |  0  0\n",
      "12  +2.008e+01  +1.975e+01  +3e-01  4e-09  2e-08  4e-04  3e-04  0.7935  8e-02   2  1  1 |  0  0\n",
      "13  +2.007e+01  +1.986e+01  +2e-01  3e-09  1e-08  3e-04  2e-04  0.4887  3e-01   2  1  1 |  0  0\n",
      "14  +2.007e+01  +1.999e+01  +8e-02  1e-09  4e-09  1e-04  6e-05  0.9890  4e-01   2  1  1 |  0  0\n",
      "15  +2.006e+01  +2.003e+01  +3e-02  5e-10  2e-09  4e-05  3e-05  0.7305  2e-01   2  1  1 |  0  0\n",
      "16  +2.006e+01  +2.004e+01  +2e-02  3e-10  1e-09  3e-05  2e-05  0.4266  3e-01   2  1  1 |  0  0\n",
      "17  +2.006e+01  +2.005e+01  +9e-03  1e-10  4e-10  1e-05  7e-06  0.7213  1e-01   2  1  1 |  0  0\n",
      "18  +2.006e+01  +2.006e+01  +1e-03  1e-11  5e-11  1e-06  8e-07  0.9707  8e-02   2  1  1 |  0  0\n",
      "19  +2.006e+01  +2.006e+01  +2e-04  2e-12  8e-12  2e-07  1e-07  0.8437  2e-03   2  1  1 |  0  0\n",
      "20  +2.006e+01  +2.006e+01  +6e-05  9e-13  3e-12  7e-08  5e-08  0.7958  2e-01   1  1  1 |  0  0\n",
      "21  +2.006e+01  +2.006e+01  +3e-05  5e-13  2e-12  4e-08  3e-08  0.7222  4e-01   1  1  1 |  0  0\n",
      "22  +2.006e+01  +2.006e+01  +2e-06  2e-14  1e-13  2e-09  1e-09  0.9562  2e-03   1  1  1 |  0  0\n",
      "23  +2.006e+01  +2.006e+01  +2e-08  6e-16  2e-15  2e-11  1e-11  0.9890  1e-04   1  1  1 |  0  0\n",
      "\n",
      "OPTIMAL (within feastol=1.5e-15, reltol=8.6e-10, abstol=1.7e-08).\n",
      "Runtime: 0.109682 seconds.\n",
      "\n",
      "\n",
      "ECOS 2.0.10 - (C) embotech GmbH, Zurich Switzerland, 2012-15. Web: www.embotech.com/ECOS\n",
      "\n",
      "It     pcost       dcost      gap   pres   dres    k/t    mu     step   sigma     IR    |   BT\n",
      " 0  +4.398e+02  -2.896e+06  +3e+06  3e-02  5e-01  1e+00  2e+03    ---    ---    1  1  - |  -  - \n",
      " 1  -1.714e+01  -1.091e+06  +1e+06  1e-02  2e-01  2e+02  9e+02  0.7181  1e-01   2  2  2 |  0  0\n",
      " 2  +3.652e+01  -1.088e+05  +1e+05  1e-03  3e-02  2e+01  1e+02  0.8984  4e-03   2  2  2 |  0  0\n",
      " 3  +2.639e+01  -7.112e+03  +9e+03  7e-05  3e-03  2e+00  7e+00  0.9357  4e-03   1  1  1 |  0  0\n",
      " 4  +2.196e+01  -5.652e+02  +7e+02  5e-06  4e-04  1e-01  5e-01  0.9209  4e-03   1  1  1 |  0  0\n",
      " 5  +2.064e+01  -5.751e+01  +1e+02  7e-07  6e-05  2e-02  7e-02  0.8787  1e-02   1  1  1 |  0  0\n",
      " 6  +2.027e+01  +3.115e+00  +2e+01  2e-07  1e-05  1e-02  2e-02  0.9377  2e-01   1  1  1 |  0  0\n",
      " 7  +2.010e+01  +1.719e+01  +4e+00  3e-08  2e-06  2e-03  3e-03  0.8395  1e-02   1  1  1 |  0  0\n",
      " 8  +2.006e+01  +1.979e+01  +3e-01  3e-09  2e-07  2e-04  2e-04  0.9118  5e-03   2  1  1 |  0  0\n",
      " 9  +2.006e+01  +2.005e+01  +5e-03  4e-11  2e-09  3e-06  4e-06  0.9862  6e-04   2  1  1 |  0  0\n",
      "10  +2.006e+01  +2.006e+01  +5e-05  4e-13  3e-11  3e-08  4e-08  0.9890  1e-04   2  1  1 |  0  0\n",
      "11  +2.006e+01  +2.006e+01  +6e-07  4e-15  3e-13  3e-10  4e-10  0.9890  1e-04   1  1  1 |  0  0\n",
      "12  +2.006e+01  +2.006e+01  +9e-09  2e-16  4e-15  5e-12  6e-12  0.9854  1e-04   1  1  1 |  0  0\n",
      "\n",
      "OPTIMAL (within feastol=4.4e-15, reltol=4.3e-10, abstol=8.5e-09).\n",
      "Runtime: 0.061387 seconds.\n",
      "\n",
      "\n",
      "ECOS 2.0.10 - (C) embotech GmbH, Zurich Switzerland, 2012-15. Web: www.embotech.com/ECOS\n",
      "\n",
      "It     pcost       dcost      gap   pres   dres    k/t    mu     step   sigma     IR    |   BT\n",
      " 0  +4.399e+02  -2.832e+06  +3e+06  3e-02  5e-01  1e+00  2e+03    ---    ---    1  1  - |  -  - \n",
      " 1  +4.922e+01  -1.165e+06  +1e+06  1e-02  1e-01  2e+02  9e+02  0.7007  1e-01   2  2  2 |  0  0\n",
      " 2  +6.035e+01  -2.110e+05  +2e+05  2e-03  2e-02  5e+01  2e+02  0.8288  2e-02   2  2  2 |  0  0\n",
      " 3  +5.212e+01  -9.292e+04  +1e+05  1e-03  8e-03  3e+01  8e+01  0.6183  9e-02   1  1  1 |  0  0\n",
      " 4  +5.944e+01  -4.675e+04  +5e+04  5e-04  3e-03  3e+01  4e+01  0.7029  2e-01   1  1  1 |  0  0\n",
      " 5  +5.073e+01  -1.622e+04  +1e+04  2e-04  6e-04  2e+01  1e+01  0.9828  3e-01   1  1  1 |  0  0\n",
      " 6  +3.473e+01  -5.213e+03  +5e+03  6e-05  2e-04  7e+00  4e+00  0.9143  3e-01   1  1  1 |  0  0\n",
      " 7  +2.523e+01  -1.537e+03  +1e+03  2e-05  6e-05  2e+00  1e+00  0.7298  4e-02   1  1  1 |  0  0\n",
      " 8  +2.404e+01  -1.084e+03  +9e+02  1e-05  3e-05  2e+00  7e-01  0.4631  3e-01   1  1  1 |  0  0\n",
      " 9  +2.325e+01  -7.243e+02  +6e+02  9e-06  2e-05  1e+00  4e-01  0.5483  3e-01   1  1  1 |  0  0\n",
      "10  +2.348e+01  -3.794e+02  +2e+02  6e-06  7e-06  1e+00  2e-01  0.9890  3e-01   1  1  1 |  0  0\n",
      "11  +2.868e+01  -3.823e+01  +2e+01  3e-06  1e-06  2e+00  2e-02  0.9704  1e-02   1  1  2 |  0  0\n",
      "12  +1.257e+02  +9.895e+01  +1e+00  3e-06  1e-06  4e+01  1e-03  0.9419  1e-04   1  1  1 |  0  0\n",
      "13  +2.944e+03  +4.988e+03  +2e-02  1e-05  1e-06  2e+03  2e-05  0.9845  3e-03   2  2  2 |  0  0\n",
      "-------------------------------------------------------------------------------\n",
      "                                    Summary                                    \n",
      "-------------------------------------------------------------------------------\n",
      "(CVXPY) Sep 11 07:05:49 PM: Problem status: optimal\n",
      "14  +2.605e+05  +4.509e+05  +3e-04  2e-05  1e-06  2e+05  2e-07  0.9890  1e-04   2  2  2 |  0  0\n",
      "\n",
      "PRIMAL INFEASIBLE (within feastol=8.5e-09).\n",
      "Runtime: 0.069749 seconds.\n",
      "\n",
      "1 \t20.05 \t\t20.06 \t\t0.01\n",
      "(CVXPY) Sep 11 07:05:49 PM: Optimal value: 2.006e+01\n",
      "(CVXPY) Sep 11 07:05:49 PM: Compilation took 4.343e-02 seconds\n",
      "(CVXPY) Sep 11 07:05:49 PM: Solver (including time spent in interface) took 4.740e-01 seconds\n"
     ]
    },
    {
     "data": {
      "text/plain": [
       "20.06381346532676"
      ]
     },
     "execution_count": 12,
     "metadata": {},
     "output_type": "execute_result"
    }
   ],
   "source": [
    "# Create the optimization problem\n",
    "prob = cp.Problem(obj, constraints)\n",
    "\n",
    "# Solve the optimization problem\n",
    "\n",
    "# prob.solve(solver=cp.GUROBI, verbose=True)\n",
    "\n",
    "prob.solve(solver=cp.ECOS_BB, verbose=True)\n",
    "\n",
    "# prob.solve()"
   ]
  },
  {
   "cell_type": "code",
   "execution_count": 13,
   "metadata": {},
   "outputs": [
    {
     "data": {
      "text/plain": [
       "array([0.02    , 0.034125, 0.034125, 0.02    , 0.04    , 0.034125,\n",
       "       0.034125, 0.034125, 0.034125, 0.034125, 0.034125])"
      ]
     },
     "execution_count": 13,
     "metadata": {},
     "output_type": "execute_result"
    }
   ],
   "source": [
    "ssp.LDOPF.om.pg.value"
   ]
  },
  {
   "cell_type": "code",
   "execution_count": 14,
   "metadata": {},
   "outputs": [
    {
     "data": {
      "text/plain": [
       "array([0.23906416, 0.05      , 0.05      , 0.11663393, 0.15515003,\n",
       "       0.05      , 0.05      , 0.07578517])"
      ]
     },
     "execution_count": 14,
     "metadata": {},
     "output_type": "execute_result"
    }
   ],
   "source": [
    "M.value"
   ]
  },
  {
   "cell_type": "code",
   "execution_count": 15,
   "metadata": {},
   "outputs": [
    {
     "data": {
      "text/plain": [
       "array([0.1       , 0.1       , 0.1       , 0.13038007, 0.13447788,\n",
       "       0.1       , 0.15380089, 0.1000004 ])"
      ]
     },
     "execution_count": 15,
     "metadata": {},
     "output_type": "execute_result"
    }
   ],
   "source": [
    "D.value"
   ]
  },
  {
   "cell_type": "markdown",
   "metadata": {},
   "source": [
    "# "
   ]
  }
 ],
 "metadata": {
  "kernelspec": {
   "display_name": "andes",
   "language": "python",
   "name": "python3"
  },
  "language_info": {
   "codemirror_mode": {
    "name": "ipython",
    "version": 3
   },
   "file_extension": ".py",
   "mimetype": "text/x-python",
   "name": "python",
   "nbconvert_exporter": "python",
   "pygments_lexer": "ipython3",
   "version": "3.9.17"
  },
  "orig_nbformat": 4
 },
 "nbformat": 4,
 "nbformat_minor": 2
}
