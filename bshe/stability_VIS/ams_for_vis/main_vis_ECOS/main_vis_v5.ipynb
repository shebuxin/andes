{
 "cells": [
  {
   "cell_type": "code",
   "execution_count": 1,
   "metadata": {},
   "outputs": [],
   "source": [
    "# public packages\n",
    "import andes\n",
    "import ams\n",
    "import cvxpy as cp\n",
    "import numpy as np\n",
    "import gurobipy\n",
    "\n",
    "# local packages\n",
    "import anci_fun as af\n",
    "\n",
    "# v1 try to include dynamic constraints using reduced input/output NN model\n",
    "\n",
    "# ------ nn information ------\n",
    "# input:   [M, D]\n",
    "# output:  [rocof_max, fnadir]\n",
    "# nn_diam: [16, 128, 2]"
   ]
  },
  {
   "cell_type": "markdown",
   "metadata": {},
   "source": [
    "# Para preparetion"
   ]
  },
  {
   "cell_type": "code",
   "execution_count": 2,
   "metadata": {},
   "outputs": [],
   "source": [
    "# neural network parameters \n",
    "nn_name = 'trained_model_v5.pth'\n",
    "nn_weights, nn_bias, nn_diam = af.extract_nn_para(nn_name) # three list"
   ]
  },
  {
   "cell_type": "code",
   "execution_count": 3,
   "metadata": {},
   "outputs": [],
   "source": [
    "# MD parameters\n",
    "vsg_num = 8\n",
    "\n",
    "# lb_M = np.array([0, 0, 0, 0, 0, 0, 0, 0])\n",
    "lb_M = np.array([0.05, 0.05, 0.05, 0.05, 0.05, 0.05, 0.05, 0.05])\n",
    "ub_M = np.array([6, 6, 6, 6, 6, 6, 6, 6])\n",
    "\n",
    "# lb_D = np.array([0, 0, 0, 0, 0, 0, 0, 0])\n",
    "lb_D = np.array([0.01, 0.01, 0.01, 0.01, 0.01, 0.01, 0.01, 0.01])\n",
    "ub_D = np.array([4, 4, 4, 4, 4, 4, 4, 4])"
   ]
  },
  {
   "cell_type": "code",
   "execution_count": 4,
   "metadata": {},
   "outputs": [],
   "source": [
    "sf_load = 1.0\n",
    "\n",
    "# y = [rocof_max, fnadir]\n",
    "lb_y = np.array([-0.5, -0.6])\n",
    "ub_y = np.array([ 0.5,  0.6])"
   ]
  },
  {
   "cell_type": "markdown",
   "metadata": {},
   "source": [
    "# Load ams model"
   ]
  },
  {
   "cell_type": "code",
   "execution_count": 5,
   "metadata": {},
   "outputs": [
    {
     "name": "stderr",
     "output_type": "stream",
     "text": [
      "LDOPF solved as optimal in 0.0654 seconds with exit code 0.\n"
     ]
    },
    {
     "data": {
      "text/plain": [
       "OrderedDict([('pg', Variable((11,))),\n",
       "             ('pn', Variable((117,))),\n",
       "             ('qg', Variable((11,))),\n",
       "             ('qn', Variable((117,))),\n",
       "             ('vsq', Variable((117,))),\n",
       "             ('pl', Variable((116,))),\n",
       "             ('ql', Variable((116,)))])"
      ]
     },
     "execution_count": 5,
     "metadata": {},
     "output_type": "execute_result"
    }
   ],
   "source": [
    "ssp = ams.load('ams_case123_REGCV1_v5.xlsx')\n",
    "\n",
    "ssp.LDOPF.run()\n",
    "\n",
    "ssp.LDOPF.om.mdl.solve()\n",
    "\n",
    "ssp.LDOPF.om.vars"
   ]
  },
  {
   "cell_type": "markdown",
   "metadata": {},
   "source": [
    "# Define new variables, constraints, and obj"
   ]
  },
  {
   "cell_type": "code",
   "execution_count": 6,
   "metadata": {},
   "outputs": [],
   "source": [
    "# M and D\n",
    "\n",
    "M = cp.Variable(vsg_num, name=\"M\")\n",
    "D = cp.Variable(vsg_num, name=\"D\")\n",
    "\n",
    "constraints_M = [M >= lb_M, M <= ub_M]\n",
    "constraints_D = [D >= lb_D, D <= ub_D]"
   ]
  },
  {
   "cell_type": "code",
   "execution_count": 7,
   "metadata": {},
   "outputs": [],
   "source": [
    "# data for the neural network linearization\n",
    "pg    = ssp.LDOPF.om.pg\n",
    "\n",
    "x1    = cp.hstack([M, D])  # this version doesn't incelu load scaling factor\n",
    "\n",
    "w1    = nn_weights[0]\n",
    "w2    = nn_weights[1]\n",
    "\n",
    "b1    = nn_bias[0]\n",
    "b2    = nn_bias[1]\n",
    "\n",
    "hdown = -10\n",
    "hup   = 10"
   ]
  },
  {
   "cell_type": "code",
   "execution_count": 8,
   "metadata": {},
   "outputs": [],
   "source": [
    "# neural network linization\n",
    "\n",
    "z = cp.Variable(nn_diam[1], name=\"z\")\n",
    "a = cp.Variable(nn_diam[1], name=\"a\", boolean=True)\n",
    "\n",
    "z = w1 @ x1 + b1\n",
    "\n",
    "y = w2 @ z + b2\n",
    "\n",
    "constraints_nn = [\n",
    "                    y >= lb_y,\n",
    "                    y <= ub_y,       \n",
    "                ]"
   ]
  },
  {
   "cell_type": "code",
   "execution_count": 9,
   "metadata": {},
   "outputs": [],
   "source": [
    "# extract original ams constraints\n",
    "constriants_ams = [ssp.LDOPF.om.constrs[cname] for cname in ssp.LDOPF.om.constrs.keys()]"
   ]
  },
  {
   "cell_type": "code",
   "execution_count": 10,
   "metadata": {},
   "outputs": [],
   "source": [
    "constraints = constraints_M + constraints_D + constraints_nn + constriants_ams\n",
    "\n",
    "# constraints = constriants_ams + constraints_M + constraints_D"
   ]
  },
  {
   "cell_type": "markdown",
   "metadata": {},
   "source": [
    "# Formulate new problem\n",
    "\n",
    "pg = ['PV_1',\n",
    " 'PV_10',\n",
    " 'PV_11',\n",
    " 'PV_2',\n",
    " 'PV_3',\n",
    " 'PV_4',\n",
    " 'PV_5',\n",
    " 'PV_6',\n",
    " 'PV_7',\n",
    " 'PV_8',\n",
    " 'PV_9']\n",
    "\n",
    " SG: PV_1, PV_2, PV_3 (slack bus)\n",
    "\n",
    " IBR: PV_4, PV_5, ..., PV_11"
   ]
  },
  {
   "cell_type": "code",
   "execution_count": 11,
   "metadata": {},
   "outputs": [],
   "source": [
    "c2 = np.array([0.01, 0, 0, 0.01, 0.02, 0, 0, 0, 0, 0, 0])*100\n",
    "c1 = np.array([  20, 0, 0,   20,   30, 0, 0, 0, 0, 0, 0])*10\n",
    "\n",
    "# d  = np.array([0, 0, 0, 0.01, 0, 0, 0.001, 0])\n",
    "c_M  = np.array([0.02, 0.01, 0.05, 0.01, 0.06, 0.07, 0.01, 0.02])\n",
    "\n",
    "c_D  = np.array([0.01, 0.01, 0.01, 0.01, 0.01, 0.01, 0.02, 0.01])\n",
    "\n",
    "pg_power = pg**2\n",
    "\n",
    "#cost = cp.sum(c2 @ pg_power + c1 @ pg)\n",
    "\n",
    "cost = cp.sum(c2 @ pg_power + c1 @ pg + c_M @ M + c_D @ D)\n",
    "\n",
    "obj = cp.Minimize(cost)"
   ]
  },
  {
   "cell_type": "code",
   "execution_count": 12,
   "metadata": {},
   "outputs": [
    {
     "name": "stdout",
     "output_type": "stream",
     "text": [
      "===============================================================================\n",
      "                                     CVXPY                                     \n",
      "                                     v1.3.2                                    \n",
      "===============================================================================\n",
      "(CVXPY) Sep 11 08:47:56 PM: Your problem has 621 variables, 19 constraints, and 0 parameters.\n",
      "(CVXPY) Sep 11 08:47:56 PM: It is compliant with the following grammars: DCP, DQCP\n",
      "(CVXPY) Sep 11 08:47:56 PM: (If you need to solve this problem multiple times, but with different data, consider using parameters.)\n",
      "(CVXPY) Sep 11 08:47:56 PM: CVXPY will first compile your problem; then, it will invoke a numerical solver to obtain a solution.\n",
      "-------------------------------------------------------------------------------\n",
      "                                  Compilation                                  \n",
      "-------------------------------------------------------------------------------\n",
      "(CVXPY) Sep 11 08:47:56 PM: Compiling problem (target solver=ECOS_BB).\n",
      "(CVXPY) Sep 11 08:47:56 PM: Reduction chain: Dcp2Cone -> CvxAttr2Constr -> ConeMatrixStuffing -> ECOS_BB\n",
      "(CVXPY) Sep 11 08:47:56 PM: Applying reduction Dcp2Cone\n",
      "(CVXPY) Sep 11 08:47:56 PM: Applying reduction CvxAttr2Constr\n",
      "(CVXPY) Sep 11 08:47:56 PM: Applying reduction ConeMatrixStuffing\n",
      "(CVXPY) Sep 11 08:47:56 PM: Applying reduction ECOS_BB\n",
      "(CVXPY) Sep 11 08:47:56 PM: Finished problem compilation (took 2.967e-02 seconds).\n",
      "-------------------------------------------------------------------------------\n",
      "                                Numerical solver                               \n",
      "-------------------------------------------------------------------------------\n",
      "(CVXPY) Sep 11 08:47:56 PM: Invoking solver ECOS_BB  to obtain a solution.\n",
      "\n",
      "ECOS 2.0.10 - (C) embotech GmbH, Zurich Switzerland, 2012-15. Web: www.embotech.com/ECOS\n",
      "\n",
      "It     pcost       dcost      gap   pres   dres    k/t    mu     step   sigma     IR    |   BT\n",
      " 0  +4.406e+02  -2.719e+06  +3e+06  7e-03  7e-02  1e+00  5e+03    ---    ---    1  1  - |  -  - \n",
      " 1  +1.587e+01  -2.766e+05  +3e+05  7e-04  9e-03  1e+01  5e+02  0.8995  2e-03   2  2  2 |  0  0\n",
      " 2  +3.345e+01  -5.559e+03  +6e+03  1e-05  3e-04  5e+00  1e+01  0.9890  9e-03   1  2  2 |  0  0\n",
      " 3  +2.341e+01  -6.064e+02  +7e+02  2e-06  5e-05  5e-01  1e+00  0.8887  2e-03   1  1  1 |  0  0\n",
      " 4  +2.113e+01  -4.605e+01  +7e+01  2e-07  6e-06  8e-02  1e-01  0.9352  4e-02   1  1  1 |  0  0\n",
      " 5  +2.049e+01  +4.324e+00  +2e+01  4e-08  1e-06  2e-02  3e-02  0.8393  1e-01   1  1  1 |  0  0\n",
      " 6  +2.024e+01  +1.711e+01  +3e+00  8e-09  3e-07  5e-03  6e-03  0.8181  1e-02   1  1  1 |  0  0\n",
      " 7  +2.018e+01  +1.939e+01  +8e-01  2e-09  7e-08  1e-03  1e-03  0.7670  2e-02   2  1  1 |  0  0\n",
      " 8  +2.015e+01  +2.013e+01  +2e-02  4e-11  2e-09  3e-05  3e-05  0.9890  1e-02   2  1  1 |  0  0\n",
      " 9  +2.015e+01  +2.015e+01  +2e-04  1e-12  2e-11  3e-07  4e-07  0.9890  1e-04   2  1  1 |  0  0\n",
      "10  +2.015e+01  +2.015e+01  +3e-06  3e-14  3e-13  4e-09  5e-09  0.9877  1e-04   2  1  1 |  0  0\n",
      "-------------------------------------------------------------------------------\n",
      "                                    Summary                                    \n",
      "-------------------------------------------------------------------------------\n",
      "(CVXPY) Sep 11 08:47:56 PM: Problem status: optimal\n",
      "11  +2.015e+01  +2.015e+01  +5e-08  1e-15  6e-15  9e-11  1e-10  0.9789  1e-04   1  1  1 |  0  0\n",
      "\n",
      "OPTIMAL (within feastol=5.6e-15, reltol=2.7e-09, abstol=5.4e-08).\n",
      "Runtime: 0.059993 seconds.\n",
      "\n",
      "(CVXPY) Sep 11 08:47:56 PM: Optimal value: 2.015e+01\n",
      "(CVXPY) Sep 11 08:47:56 PM: Compilation took 2.967e-02 seconds\n",
      "(CVXPY) Sep 11 08:47:56 PM: Solver (including time spent in interface) took 6.038e-02 seconds\n"
     ]
    },
    {
     "data": {
      "text/plain": [
       "20.150684027300194"
      ]
     },
     "execution_count": 12,
     "metadata": {},
     "output_type": "execute_result"
    }
   ],
   "source": [
    "# Create the optimization problem\n",
    "prob = cp.Problem(obj, constraints)\n",
    "\n",
    "# Solve the optimization problem\n",
    "\n",
    "# prob.solve(solver=cp.GUROBI, verbose=True)\n",
    "\n",
    "prob.solve(solver=cp.ECOS_BB, verbose=True)\n",
    "\n",
    "# prob.solve()"
   ]
  },
  {
   "cell_type": "code",
   "execution_count": 13,
   "metadata": {},
   "outputs": [
    {
     "data": {
      "text/plain": [
       "array([0.02    , 0.034125, 0.034125, 0.02    , 0.04    , 0.034125,\n",
       "       0.034125, 0.034125, 0.034125, 0.034125, 0.034125])"
      ]
     },
     "execution_count": 13,
     "metadata": {},
     "output_type": "execute_result"
    }
   ],
   "source": [
    "ssp.LDOPF.om.pg.value"
   ]
  },
  {
   "cell_type": "code",
   "execution_count": 14,
   "metadata": {},
   "outputs": [
    {
     "data": {
      "text/plain": [
       "array([0.05      , 0.05000001, 0.05      , 0.05000001, 0.56640044,\n",
       "       0.05      , 0.05000002, 0.05000001])"
      ]
     },
     "execution_count": 14,
     "metadata": {},
     "output_type": "execute_result"
    }
   ],
   "source": [
    "M.value"
   ]
  },
  {
   "cell_type": "code",
   "execution_count": 15,
   "metadata": {},
   "outputs": [
    {
     "data": {
      "text/plain": [
       "array([0.01000001, 0.01000001, 0.01000001, 0.01000002, 3.99999992,\n",
       "       0.01000002, 0.01000001, 3.99999999])"
      ]
     },
     "execution_count": 15,
     "metadata": {},
     "output_type": "execute_result"
    }
   ],
   "source": [
    "D.value"
   ]
  },
  {
   "cell_type": "markdown",
   "metadata": {},
   "source": [
    "# "
   ]
  }
 ],
 "metadata": {
  "kernelspec": {
   "display_name": "andes",
   "language": "python",
   "name": "python3"
  },
  "language_info": {
   "codemirror_mode": {
    "name": "ipython",
    "version": 3
   },
   "file_extension": ".py",
   "mimetype": "text/x-python",
   "name": "python",
   "nbconvert_exporter": "python",
   "pygments_lexer": "ipython3",
   "version": "3.9.17"
  },
  "orig_nbformat": 4
 },
 "nbformat": 4,
 "nbformat_minor": 2
}
