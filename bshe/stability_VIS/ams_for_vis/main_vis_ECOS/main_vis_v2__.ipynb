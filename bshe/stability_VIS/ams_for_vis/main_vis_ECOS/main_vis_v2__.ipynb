{
 "cells": [
  {
   "cell_type": "code",
   "execution_count": 24,
   "metadata": {},
   "outputs": [],
   "source": [
    "# public packages\n",
    "import andes\n",
    "import ams\n",
    "import cvxpy as cp\n",
    "import numpy as np\n",
    "import gurobipy\n",
    "\n",
    "# local packages\n",
    "import anci_fun as af\n",
    "\n",
    "# v1 try to include dynamic constraints using reduced input/output NN model\n",
    "\n",
    "# ------ nn information ------\n",
    "# input:   [M, D]\n",
    "# output:  [rocof_max, fnadir, dtheta_max, eig_max]\n",
    "# nn_diam: [16, 128, 4]"
   ]
  },
  {
   "attachments": {},
   "cell_type": "markdown",
   "metadata": {},
   "source": [
    "# Para preparetion"
   ]
  },
  {
   "cell_type": "code",
   "execution_count": 25,
   "metadata": {},
   "outputs": [],
   "source": [
    "# neural network parameters \n",
    "nn_name = 'trained_model.pth'\n",
    "nn_weights, nn_bias, nn_diam = af.extract_nn_para(nn_name) # three list"
   ]
  },
  {
   "cell_type": "code",
   "execution_count": 26,
   "metadata": {},
   "outputs": [],
   "source": [
    "# MD parameters\n",
    "vsg_num = 8\n",
    "\n",
    "# lb_M = np.array([0, 0, 0, 0, 0, 0, 0, 0])\n",
    "lb_M = np.array([0.05, 0.05, 0.05, 0.05, 0.05, 0.05, 0.05, 0.05])\n",
    "ub_M = np.array([6, 6, 6, 6, 6, 6, 6, 6])\n",
    "\n",
    "# lb_D = np.array([0, 0, 0, 0, 0, 0, 0, 0])\n",
    "lb_D = np.array([0.01, 0.01, 0.01, 0.01, 0.01, 0.01, 0.01, 0.01])\n",
    "ub_D = np.array([4, 4, 4, 4, 4, 4, 4, 4])\n"
   ]
  },
  {
   "cell_type": "code",
   "execution_count": 27,
   "metadata": {},
   "outputs": [],
   "source": [
    "sf_load = 1.0\n",
    "\n",
    "# y = [rocof_max, fnadir, dtheta_max, eig_max]\n",
    "lb_y = np.array([-0.5, -0.6, -3.14, -1000])\n",
    "ub_y = np.array([ 0.5,  0.6,  3.14,  0.001])"
   ]
  },
  {
   "attachments": {},
   "cell_type": "markdown",
   "metadata": {},
   "source": [
    "# Load ams model"
   ]
  },
  {
   "cell_type": "code",
   "execution_count": 28,
   "metadata": {},
   "outputs": [
    {
     "name": "stderr",
     "output_type": "stream",
     "text": [
      "LDOPF solved as optimal in 0.0355 seconds with exit code 0.\n"
     ]
    },
    {
     "data": {
      "text/plain": [
       "OrderedDict([('pg', Variable((11,))),\n",
       "             ('pn', Variable((117,))),\n",
       "             ('qg', Variable((11,))),\n",
       "             ('qn', Variable((117,))),\n",
       "             ('vsq', Variable((117,))),\n",
       "             ('pl', Variable((116,))),\n",
       "             ('ql', Variable((116,)))])"
      ]
     },
     "execution_count": 28,
     "metadata": {},
     "output_type": "execute_result"
    }
   ],
   "source": [
    "ssp = ams.load('ams_case123_REGCV1_v5.xlsx')\n",
    "\n",
    "ssp.LDOPF.run()\n",
    "\n",
    "ssp.LDOPF.om.mdl.solve()\n",
    "\n",
    "ssp.LDOPF.om.vars"
   ]
  },
  {
   "cell_type": "code",
   "execution_count": 29,
   "metadata": {},
   "outputs": [
    {
     "data": {
      "text/plain": [
       "['PV_1',\n",
       " 'PV_2',\n",
       " 'PV_3',\n",
       " 'PV_4',\n",
       " 'PV_5',\n",
       " 'PV_6',\n",
       " 'PV_7',\n",
       " 'PV_8',\n",
       " 'PV_9',\n",
       " 'PV_10',\n",
       " 'PV_11']"
      ]
     },
     "execution_count": 29,
     "metadata": {},
     "output_type": "execute_result"
    }
   ],
   "source": [
    "ssp.LDOPF.pg.get_idx()"
   ]
  },
  {
   "attachments": {},
   "cell_type": "markdown",
   "metadata": {},
   "source": [
    "# Define new variables, constraints, and obj"
   ]
  },
  {
   "cell_type": "code",
   "execution_count": 30,
   "metadata": {},
   "outputs": [],
   "source": [
    "# M and D\n",
    "\n",
    "M = cp.Variable(vsg_num, name=\"M\")\n",
    "D = cp.Variable(vsg_num, name=\"D\")\n",
    "\n",
    "constraints_M = [M >= lb_M, M <= ub_M]\n",
    "constraints_D = [D >= lb_D, D <= ub_D]"
   ]
  },
  {
   "cell_type": "code",
   "execution_count": 31,
   "metadata": {},
   "outputs": [],
   "source": [
    "# data for the neural network linearization\n",
    "pg    = ssp.LDOPF.om.pg\n",
    "\n",
    "x1    = cp.hstack([M, D])  # this version doesn't incelu load scaling factor\n",
    "\n",
    "w1    = nn_weights[0]\n",
    "w2    = nn_weights[1]\n",
    "\n",
    "b1    = nn_bias[0]\n",
    "b2    = nn_bias[1]\n",
    "\n",
    "hdown = -100\n",
    "hup   = 100"
   ]
  },
  {
   "cell_type": "code",
   "execution_count": 32,
   "metadata": {},
   "outputs": [],
   "source": [
    "# neural network linization\n",
    "\n",
    "z = cp.Variable(nn_diam[1], name=\"z\")\n",
    "a = cp.Variable(nn_diam[1], name=\"a\", boolean=True)\n",
    "\n",
    "z_ = w1 @ x1 + b1\n",
    "\n",
    "y = w2 @ z + b2\n",
    "\n",
    "constraints_nn = [\n",
    "                    # linization constraints\n",
    "                    z <= z_ - hdown * (1 - a),\n",
    "                    z >= z_,\n",
    "                    z <= hup * a,\n",
    "                    z >= 0,\n",
    "                    # output constraints\n",
    "                    y[0] <= ub_y[0],         # RoCoF\n",
    "                    y[0] >= lb_y[0],\n",
    "                    y[1] <= ub_y[1],         # fnadir\n",
    "                    y[1] >= lb_y[1],\n",
    "                    y[2] <= ub_y[2],         # dtheta_max\n",
    "                    y[2] >= lb_y[2],\n",
    "                    y[3] <= ub_y[3],         # eig_max\n",
    "                    # y[3] >= lb_y[3]             \n",
    "                ]"
   ]
  },
  {
   "cell_type": "code",
   "execution_count": 33,
   "metadata": {},
   "outputs": [
    {
     "data": {
      "text/plain": [
       "Expression(AFFINE, UNKNOWN, ())"
      ]
     },
     "execution_count": 33,
     "metadata": {},
     "output_type": "execute_result"
    }
   ],
   "source": [
    "y[0]"
   ]
  },
  {
   "cell_type": "code",
   "execution_count": 34,
   "metadata": {},
   "outputs": [],
   "source": [
    "# extract original ams constraints\n",
    "constriants_ams = [ssp.LDOPF.om.constrs[cname] for cname in ssp.LDOPF.om.constrs.keys()]"
   ]
  },
  {
   "cell_type": "code",
   "execution_count": 35,
   "metadata": {},
   "outputs": [],
   "source": [
    "constraints = constraints_M + constraints_D + constraints_nn + constriants_ams\n",
    "\n",
    "# constraints = constriants_ams + constraints_M + constraints_D"
   ]
  },
  {
   "attachments": {},
   "cell_type": "markdown",
   "metadata": {},
   "source": [
    "# Formulate new problem\n",
    "\n",
    "pg = ['PV_1',\n",
    " 'PV_10',\n",
    " 'PV_11',\n",
    " 'PV_2',\n",
    " 'PV_3',\n",
    " 'PV_4',\n",
    " 'PV_5',\n",
    " 'PV_6',\n",
    " 'PV_7',\n",
    " 'PV_8',\n",
    " 'PV_9']\n",
    "\n",
    " SG: PV_1, PV_2, PV_3 (slack bus)\n",
    "\n",
    " IBR: PV_4, PV_5, ..., PV_11"
   ]
  },
  {
   "cell_type": "code",
   "execution_count": 36,
   "metadata": {},
   "outputs": [],
   "source": [
    "c2 = np.array([0.01, 0.01, 0.02, 0, 0, 0, 0, 0, 0, 0, 0])\n",
    "c1 = np.array([  20, 20,   30,   0, 0, 0, 0, 0, 0, 0, 0])\n",
    "\n",
    "# d  = np.array([0, 0, 0, 0.01, 0, 0, 0.001, 0])\n",
    "c_M  = np.array([0.02, 0.01, 0.5, 0.01, 0.06, 0.07, 0.01, 0.02])\n",
    "\n",
    "c_D  = np.array([0.01, 0.01, 0.01, 0.01, 0.01, 0.01, 0.02, 0.01])\n",
    "\n",
    "pg_power = pg**2\n",
    "\n",
    "#cost = cp.sum(c2 @ pg_power + c1 @ pg)\n",
    "\n",
    "cost = cp.sum(c2 @ pg_power + c1 @ pg + c_M @ M + c_D @ D)\n",
    "\n",
    "obj = cp.Minimize(cost)"
   ]
  },
  {
   "cell_type": "code",
   "execution_count": 37,
   "metadata": {},
   "outputs": [
    {
     "name": "stdout",
     "output_type": "stream",
     "text": [
      "===============================================================================\n",
      "                                     CVXPY                                     \n",
      "                                     v1.3.2                                    \n",
      "===============================================================================\n",
      "(CVXPY) Sep 14 11:20:22 AM: Your problem has 749 variables, 28 constraints, and 0 parameters.\n",
      "(CVXPY) Sep 14 11:20:22 AM: It is compliant with the following grammars: DCP, DQCP\n",
      "(CVXPY) Sep 14 11:20:22 AM: (If you need to solve this problem multiple times, but with different data, consider using parameters.)\n",
      "(CVXPY) Sep 14 11:20:22 AM: CVXPY will first compile your problem; then, it will invoke a numerical solver to obtain a solution.\n",
      "-------------------------------------------------------------------------------\n",
      "                                  Compilation                                  \n",
      "-------------------------------------------------------------------------------\n",
      "(CVXPY) Sep 14 11:20:22 AM: Compiling problem (target solver=GUROBI).\n",
      "(CVXPY) Sep 14 11:20:22 AM: Reduction chain: CvxAttr2Constr -> Qp2SymbolicQp -> QpMatrixStuffing -> GUROBI\n",
      "(CVXPY) Sep 14 11:20:22 AM: Applying reduction CvxAttr2Constr\n",
      "(CVXPY) Sep 14 11:20:22 AM: Applying reduction Qp2SymbolicQp\n",
      "(CVXPY) Sep 14 11:20:22 AM: Applying reduction QpMatrixStuffing\n",
      "(CVXPY) Sep 14 11:20:22 AM: Applying reduction GUROBI\n",
      "(CVXPY) Sep 14 11:20:22 AM: Finished problem compilation (took 1.953e-02 seconds).\n",
      "-------------------------------------------------------------------------------\n",
      "                                Numerical solver                               \n",
      "-------------------------------------------------------------------------------\n",
      "(CVXPY) Sep 14 11:20:22 AM: Invoking solver GUROBI  to obtain a solution.\n",
      "Warning for adding constraints: zero or small (< 1e-13) coefficients, ignored\n",
      "Set parameter QCPDual to value 1\n",
      "Gurobi Optimizer version 10.0.3 build v10.0.3rc0 (mac64[arm])\n",
      "\n",
      "CPU model: Apple M1\n",
      "Thread count: 8 physical cores, 8 logical processors, using up to 8 threads\n",
      "\n",
      "Optimize a model with 1157 rows, 749 columns and 33536 nonzeros\n",
      "Model fingerprint: 0xa3e918d6\n",
      "Model has 3 quadratic objective terms\n",
      "Variable types: 685 continuous, 64 integer (64 binary)\n",
      "Coefficient statistics:\n",
      "  Matrix range     [3e-05, 1e+02]\n",
      "  Objective range  [1e-02, 3e+01]\n",
      "  QObjective range [2e-02, 4e-02]\n",
      "  Bounds range     [1e+00, 1e+00]\n",
      "  RHS range        [1e-03, 1e+02]\n",
      "\n",
      "User MIP start produced solution with objective 2.27124 (0.02s)\n",
      "User MIP start produced solution with objective 2.10956 (0.05s)\n",
      "User MIP start produced solution with objective 2.09631 (0.07s)\n",
      "User MIP start produced solution with objective 2.08885 (0.07s)\n",
      "User MIP start produced solution with objective 2.084 (0.10s)\n",
      "User MIP start produced solution with objective 2.08347 (0.11s)\n",
      "Loaded user MIP start with objective 2.08347\n",
      "\n",
      "Presolve removed 767 rows and 381 columns\n",
      "Presolve time: 0.32s\n",
      "Presolved: 390 rows, 370 columns, 6185 nonzeros\n",
      "Found heuristic solution: objective 2.0835032\n",
      "Variable types: 306 continuous, 64 integer (64 binary)\n",
      "\n",
      "Root relaxation: objective 2.035940e+00, 244 iterations, 0.00 seconds (0.00 work units)\n",
      "\n",
      "    Nodes    |    Current Node    |     Objective Bounds      |     Work\n",
      " Expl Unexpl |  Obj  Depth IntInf | Incumbent    BestBd   Gap | It/Node Time\n",
      "\n",
      "     0     0    2.03594    0    3    2.08347    2.03594  2.28%     -    0s\n",
      "     0     0    2.03594    0    4    2.08347    2.03594  2.28%     -    0s\n",
      "     0     0    2.03594    0    4    2.08347    2.03594  2.28%     -    0s\n",
      "     0     0    2.03594    0    5    2.08347    2.03594  2.28%     -    0s\n",
      "     0     0    2.03594    0    6    2.08347    2.03594  2.28%     -    0s\n",
      "     0     0    2.03594    0    5    2.08347    2.03594  2.28%     -    0s\n",
      "     0     0    2.03594    0    4    2.08347    2.03594  2.28%     -    0s\n",
      "     0     0    2.03594    0    4    2.08347    2.03594  2.28%     -    0s\n",
      "H    0     0                       2.0780111    2.03594  2.02%     -    0s\n",
      "H  561   307                       2.0720611    2.05574  0.79%  13.4    0s\n",
      "* 1227   332              47       2.0705240    2.05704  0.65%   5.9    0s\n",
      "* 1664   522              47       2.0660882    2.05804  0.39%   6.4    0s\n",
      "H 3391   537                       2.0655580    2.06198  0.17%   7.4    1s\n",
      "* 4389   182              42       2.0654873    2.06352  0.10%   7.6    1s\n",
      "* 4394   182              42       2.0653767    2.06352  0.09%   7.6    1s\n",
      "\n",
      "Cutting planes:\n",
      "  Implied bound: 31\n",
      "  MIR: 46\n",
      "  Flow cover: 48\n",
      "  RLT: 5\n",
      "  Relax-and-lift: 1\n",
      "\n",
      "Explored 4751 nodes (44322 simplex iterations) in 1.12 seconds (1.64 work units)\n",
      "Thread count was 8 (of 8 available processors)\n",
      "\n",
      "Solution count 10: 2.06538 2.06549 2.06556 ... 2.084\n",
      "\n",
      "Optimal solution found (tolerance 1.00e-04)\n",
      "Best objective 2.065376713284e+00, best bound 2.065376713284e+00, gap 0.0000%\n",
      "-------------------------------------------------------------------------------\n",
      "                                    Summary                                    \n",
      "-------------------------------------------------------------------------------\n",
      "(CVXPY) Sep 14 11:20:23 AM: Problem status: optimal\n",
      "(CVXPY) Sep 14 11:20:23 AM: Optimal value: 2.065e+00\n",
      "(CVXPY) Sep 14 11:20:23 AM: Compilation took 1.953e-02 seconds\n",
      "(CVXPY) Sep 14 11:20:23 AM: Solver (including time spent in interface) took 1.130e+00 seconds\n"
     ]
    },
    {
     "data": {
      "text/plain": [
       "2.0653767132844485"
      ]
     },
     "execution_count": 37,
     "metadata": {},
     "output_type": "execute_result"
    }
   ],
   "source": [
    "# Create the optimization problem\n",
    "prob = cp.Problem(obj, constraints)\n",
    "\n",
    "# Solve the optimization problem\n",
    "\n",
    "prob.solve(solver=cp.GUROBI, verbose=True)\n",
    "\n",
    "# prob.solve(solver=cp.SCIP, verbose=True)\n",
    "\n",
    "# prob.solve(solver=cp.ECOS_BB, verbose=True)\n",
    "\n",
    "# prob.solve()"
   ]
  },
  {
   "cell_type": "code",
   "execution_count": 38,
   "metadata": {},
   "outputs": [
    {
     "data": {
      "text/plain": [
       "'optimal'"
      ]
     },
     "execution_count": 38,
     "metadata": {},
     "output_type": "execute_result"
    }
   ],
   "source": [
    "prob.status"
   ]
  },
  {
   "cell_type": "code",
   "execution_count": 39,
   "metadata": {},
   "outputs": [
    {
     "data": {
      "text/plain": [
       "array([0.02 , 0.02 , 0.04 , 0.   , 0.   , 0.   , 0.   , 0.   , 0.   ,\n",
       "       0.2  , 0.073])"
      ]
     },
     "execution_count": 39,
     "metadata": {},
     "output_type": "execute_result"
    }
   ],
   "source": [
    "ssp.LDOPF.om.pg.value"
   ]
  },
  {
   "cell_type": "code",
   "execution_count": 40,
   "metadata": {},
   "outputs": [
    {
     "data": {
      "text/plain": [
       "array([0.05      , 1.58017064, 0.05      , 0.05      , 0.2454437 ,\n",
       "       0.05      , 0.05      , 0.05      ])"
      ]
     },
     "execution_count": 40,
     "metadata": {},
     "output_type": "execute_result"
    }
   ],
   "source": [
    "M.value"
   ]
  },
  {
   "cell_type": "code",
   "execution_count": 41,
   "metadata": {},
   "outputs": [
    {
     "data": {
      "text/plain": [
       "array([0.01      , 0.01      , 0.01      , 0.18617858, 0.01      ,\n",
       "       0.07465992, 0.01      , 0.01      ])"
      ]
     },
     "execution_count": 41,
     "metadata": {},
     "output_type": "execute_result"
    }
   ],
   "source": [
    "D.value"
   ]
  },
  {
   "attachments": {},
   "cell_type": "markdown",
   "metadata": {},
   "source": [
    "# "
   ]
  }
 ],
 "metadata": {
  "kernelspec": {
   "display_name": "andes",
   "language": "python",
   "name": "python3"
  },
  "language_info": {
   "codemirror_mode": {
    "name": "ipython",
    "version": 3
   },
   "file_extension": ".py",
   "mimetype": "text/x-python",
   "name": "python",
   "nbconvert_exporter": "python",
   "pygments_lexer": "ipython3",
   "version": "3.9.18"
  },
  "orig_nbformat": 4
 },
 "nbformat": 4,
 "nbformat_minor": 2
}
