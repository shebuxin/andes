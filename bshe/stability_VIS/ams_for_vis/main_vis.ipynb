{
 "cells": [
  {
   "cell_type": "code",
   "execution_count": 49,
   "metadata": {},
   "outputs": [],
   "source": [
    "# public packages\n",
    "import andes\n",
    "import ams\n",
    "import cvxpy as cp\n",
    "import numpy as np\n",
    "import gurobipy\n",
    "\n",
    "# local packages\n",
    "import anci_fun as af"
   ]
  },
  {
   "cell_type": "markdown",
   "metadata": {},
   "source": [
    "# Para preparetion"
   ]
  },
  {
   "cell_type": "code",
   "execution_count": 50,
   "metadata": {},
   "outputs": [],
   "source": [
    "# neural network parameters \n",
    "nn_name = 'trained_model.pth'\n",
    "nn_weights, nn_bias, nn_diam = af.extract_nn_para(nn_name) # three list\n",
    "\n",
    "# nn_diam = [27, 512, 6]"
   ]
  },
  {
   "cell_type": "code",
   "execution_count": 51,
   "metadata": {},
   "outputs": [],
   "source": [
    "# MD parameters\n",
    "vsg_num = 8\n",
    "\n",
    "lb_M = np.array([0, 0, 0, 0, 0, 0, 0, 0])\n",
    "ub_M = np.array([6, 6, 6, 6, 6, 6, 6, 6])\n",
    "\n",
    "lb_D = np.array([0, 0, 0, 0, 0, 0, 0, 0])\n",
    "ub_D = np.array([4, 4, 4, 4, 4, 4, 4, 4])"
   ]
  },
  {
   "cell_type": "code",
   "execution_count": 52,
   "metadata": {},
   "outputs": [],
   "source": [
    "sf_load = 1.0\n",
    "\n",
    "# y = [rocof_max, fnadir, dtheta_max, busV_min, eig_max, eig_max_]\n",
    "lb_y = np.array([-0.5, -0.6, -3.14, 0, -100, -100])\n",
    "ub_y = np.array([ 0.5,  0.6,  3.14, 2,    0,    0])"
   ]
  },
  {
   "cell_type": "markdown",
   "metadata": {},
   "source": [
    "# Load ams model"
   ]
  },
  {
   "cell_type": "code",
   "execution_count": 53,
   "metadata": {},
   "outputs": [
    {
     "name": "stderr",
     "output_type": "stream",
     "text": [
      "LDOPF solved as optimal in 0.0600 seconds with exit code 0.\n"
     ]
    },
    {
     "data": {
      "text/plain": [
       "OrderedDict([('pg', Variable((11,))),\n",
       "             ('pn', Variable((117,))),\n",
       "             ('qg', Variable((11,))),\n",
       "             ('qn', Variable((117,))),\n",
       "             ('vsq', Variable((117,))),\n",
       "             ('pl', Variable((116,))),\n",
       "             ('ql', Variable((116,)))])"
      ]
     },
     "execution_count": 53,
     "metadata": {},
     "output_type": "execute_result"
    }
   ],
   "source": [
    "ssp = ams.load('ams_case123_REGCV1_v5.xlsx')\n",
    "\n",
    "ssp.LDOPF.run()\n",
    "\n",
    "ssp.LDOPF.om.mdl.solve()\n",
    "\n",
    "ssp.LDOPF.om.vars"
   ]
  },
  {
   "cell_type": "code",
   "execution_count": 54,
   "metadata": {},
   "outputs": [
    {
     "data": {
      "text/plain": [
       "array([0.02000001, 0.00000001, 0.00000002, 0.05448514, 0.07447952,\n",
       "       0.03400588, 0.03400588, 0.03400588, 0.03400588, 0.03400588,\n",
       "       0.03400588])"
      ]
     },
     "execution_count": 54,
     "metadata": {},
     "output_type": "execute_result"
    }
   ],
   "source": [
    "ssp.LDOPF.om.pg.value"
   ]
  },
  {
   "cell_type": "code",
   "execution_count": 55,
   "metadata": {},
   "outputs": [
    {
     "data": {
      "text/plain": [
       "['PV_1',\n",
       " 'PV_10',\n",
       " 'PV_11',\n",
       " 'PV_2',\n",
       " 'PV_3',\n",
       " 'PV_4',\n",
       " 'PV_5',\n",
       " 'PV_6',\n",
       " 'PV_7',\n",
       " 'PV_8',\n",
       " 'PV_9']"
      ]
     },
     "execution_count": 55,
     "metadata": {},
     "output_type": "execute_result"
    }
   ],
   "source": [
    "ssp.LDOPF.pg.get_idx()"
   ]
  },
  {
   "cell_type": "markdown",
   "metadata": {},
   "source": [
    "# Define new variables, constraints, and obj"
   ]
  },
  {
   "cell_type": "code",
   "execution_count": 56,
   "metadata": {},
   "outputs": [],
   "source": [
    "# M and D\n",
    "\n",
    "M = cp.Variable(vsg_num, name=\"M\")\n",
    "D = cp.Variable(vsg_num, name=\"D\")\n",
    "\n",
    "constraints_M = [M >= lb_M, M <= ub_M]\n",
    "constraints_D = [D >= lb_D, D <= ub_D]\n"
   ]
  },
  {
   "cell_type": "code",
   "execution_count": 57,
   "metadata": {},
   "outputs": [],
   "source": [
    "# data for the neural network linearization\n",
    "pg    = ssp.LDOPF.om.pg\n",
    "\n",
    "x1    = cp.hstack([pg, M, D])  # this version doesn't incelu load scaling factor\n",
    "\n",
    "w1    = nn_weights[0]\n",
    "w2    = nn_weights[1]\n",
    "\n",
    "b1    = nn_bias[0]\n",
    "b2    = nn_bias[1]\n",
    "\n",
    "hdown = -100\n",
    "hup   = 100\n"
   ]
  },
  {
   "cell_type": "code",
   "execution_count": 58,
   "metadata": {},
   "outputs": [],
   "source": [
    "# neural network linization\n",
    "\n",
    "z = cp.Variable(nn_diam[1], name=\"z\")\n",
    "a = cp.Variable(nn_diam[1], name=\"a\", boolean=True)\n",
    "\n",
    "z_ = w1 @ x1 + b1\n",
    "\n",
    "y = w2 @ z + b2\n",
    "\n",
    "constraints_nn = [\n",
    "                    z <= z_ - hdown * (1 - a),\n",
    "                    z >= z_,\n",
    "                    z <= hup * a,\n",
    "                    z >= 0,\n",
    "                    y <= ub_y,\n",
    "                    y >= lb_y\n",
    "                ]\n",
    "                "
   ]
  },
  {
   "cell_type": "code",
   "execution_count": 59,
   "metadata": {},
   "outputs": [
    {
     "data": {
      "text/plain": [
       "Variable((512,))"
      ]
     },
     "execution_count": 59,
     "metadata": {},
     "output_type": "execute_result"
    }
   ],
   "source": [
    "z"
   ]
  },
  {
   "cell_type": "code",
   "execution_count": 60,
   "metadata": {},
   "outputs": [],
   "source": [
    "constriants_ams = [ssp.LDOPF.om.constrs[cname] for cname in ssp.LDOPF.om.constrs.keys()]"
   ]
  },
  {
   "cell_type": "code",
   "execution_count": 61,
   "metadata": {},
   "outputs": [],
   "source": [
    "# constraints = constraints_M + constraints_D + constraints_nn + constriants_ams\n",
    "\n",
    "constraints = constriants_ams + constraints_M + constraints_D"
   ]
  },
  {
   "cell_type": "markdown",
   "metadata": {},
   "source": [
    "# Formulate new problem\n",
    "\n",
    "pg = ['PV_1',\n",
    " 'PV_10',\n",
    " 'PV_11',\n",
    " 'PV_2',\n",
    " 'PV_3',\n",
    " 'PV_4',\n",
    " 'PV_5',\n",
    " 'PV_6',\n",
    " 'PV_7',\n",
    " 'PV_8',\n",
    " 'PV_9']\n",
    "\n",
    " SG: PV_1, PV_2, PV_3 (slack bus)\n",
    "\n",
    " IBR: PV_4, PV_5, ..., PV_11"
   ]
  },
  {
   "cell_type": "code",
   "execution_count": 62,
   "metadata": {},
   "outputs": [],
   "source": [
    "c2 = np.array([0.01, 0, 0, 0.01, 0.02, 0, 0, 0, 0, 0, 0])\n",
    "c1 = np.array([  20, 0, 0,   20,   30, 0, 0, 0, 0, 0, 0])\n",
    "\n",
    "d  = np.array([0, 0, 0, 0, 1, 0, 1, 0])\n",
    "\n",
    "pg_power = cp.power(pg, 2)\n",
    "\n",
    "cost = cp.sum(c2 @ pg_power + c1 @ pg + d @ M)\n",
    "\n",
    "obj = cp.Minimize(cost)"
   ]
  },
  {
   "cell_type": "code",
   "execution_count": 63,
   "metadata": {},
   "outputs": [
    {
     "name": "stdout",
     "output_type": "stream",
     "text": [
      "===============================================================================\n",
      "                                     CVXPY                                     \n",
      "                                     v1.3.2                                    \n",
      "===============================================================================\n",
      "(CVXPY) Sep 06 12:02:51 AM: Your problem has 621 variables, 17 constraints, and 0 parameters.\n",
      "(CVXPY) Sep 06 12:02:51 AM: It is compliant with the following grammars: DCP, DQCP\n",
      "(CVXPY) Sep 06 12:02:51 AM: (If you need to solve this problem multiple times, but with different data, consider using parameters.)\n",
      "(CVXPY) Sep 06 12:02:51 AM: CVXPY will first compile your problem; then, it will invoke a numerical solver to obtain a solution.\n",
      "-------------------------------------------------------------------------------\n",
      "                                  Compilation                                  \n",
      "-------------------------------------------------------------------------------\n",
      "(CVXPY) Sep 06 12:02:51 AM: Compiling problem (target solver=GUROBI).\n",
      "(CVXPY) Sep 06 12:02:51 AM: Reduction chain: CvxAttr2Constr -> Qp2SymbolicQp -> QpMatrixStuffing -> GUROBI\n",
      "(CVXPY) Sep 06 12:02:51 AM: Applying reduction CvxAttr2Constr\n",
      "(CVXPY) Sep 06 12:02:51 AM: Applying reduction Qp2SymbolicQp\n",
      "(CVXPY) Sep 06 12:02:51 AM: Applying reduction QpMatrixStuffing\n",
      "(CVXPY) Sep 06 12:02:51 AM: Applying reduction GUROBI\n",
      "(CVXPY) Sep 06 12:02:51 AM: Finished problem compilation (took 1.915e-02 seconds).\n",
      "-------------------------------------------------------------------------------\n",
      "                                Numerical solver                               \n",
      "-------------------------------------------------------------------------------\n",
      "(CVXPY) Sep 06 12:02:51 AM: Invoking solver GUROBI  to obtain a solution.\n",
      "Warning for adding constraints: zero or small (< 1e-13) coefficients, ignored\n",
      "Set parameter QCPDual to value 1\n",
      "Gurobi Optimizer version 10.0.2 build v10.0.2rc0 (linux64)\n",
      "\n",
      "CPU model: 12th Gen Intel(R) Core(TM) i7-12800HX, instruction set [SSE2|AVX|AVX2]\n",
      "Thread count: 12 physical cores, 24 logical processors, using up to 24 threads\n",
      "\n"
     ]
    },
    {
     "ename": "SolverError",
     "evalue": "Solver 'GUROBI' failed. Try another solver, or solve with verbose=True for more information.",
     "output_type": "error",
     "traceback": [
      "\u001b[0;31m---------------------------------------------------------------------------\u001b[0m",
      "\u001b[0;31mSolverError\u001b[0m                               Traceback (most recent call last)",
      "Cell \u001b[0;32mIn[63], line 5\u001b[0m\n\u001b[1;32m      2\u001b[0m prob \u001b[39m=\u001b[39m cp\u001b[39m.\u001b[39mProblem(obj, constraints)\n\u001b[1;32m      4\u001b[0m \u001b[39m# Solve the optimization problem\u001b[39;00m\n\u001b[0;32m----> 5\u001b[0m prob\u001b[39m.\u001b[39;49msolve(solver\u001b[39m=\u001b[39;49mcp\u001b[39m.\u001b[39;49mGUROBI, verbose\u001b[39m=\u001b[39;49m\u001b[39mTrue\u001b[39;49;00m)\n",
      "File \u001b[0;32m~/miniconda3/envs/andes/lib/python3.9/site-packages/cvxpy/problems/problem.py:495\u001b[0m, in \u001b[0;36mProblem.solve\u001b[0;34m(self, *args, **kwargs)\u001b[0m\n\u001b[1;32m    493\u001b[0m \u001b[39melse\u001b[39;00m:\n\u001b[1;32m    494\u001b[0m     solve_func \u001b[39m=\u001b[39m Problem\u001b[39m.\u001b[39m_solve\n\u001b[0;32m--> 495\u001b[0m \u001b[39mreturn\u001b[39;00m solve_func(\u001b[39mself\u001b[39;49m, \u001b[39m*\u001b[39;49margs, \u001b[39m*\u001b[39;49m\u001b[39m*\u001b[39;49mkwargs)\n",
      "File \u001b[0;32m~/miniconda3/envs/andes/lib/python3.9/site-packages/cvxpy/problems/problem.py:1070\u001b[0m, in \u001b[0;36mProblem._solve\u001b[0;34m(self, solver, warm_start, verbose, gp, qcp, requires_grad, enforce_dpp, ignore_dpp, canon_backend, **kwargs)\u001b[0m\n\u001b[1;32m   1068\u001b[0m end \u001b[39m=\u001b[39m time\u001b[39m.\u001b[39mtime()\n\u001b[1;32m   1069\u001b[0m \u001b[39mself\u001b[39m\u001b[39m.\u001b[39m_solve_time \u001b[39m=\u001b[39m end \u001b[39m-\u001b[39m start\n\u001b[0;32m-> 1070\u001b[0m \u001b[39mself\u001b[39;49m\u001b[39m.\u001b[39;49munpack_results(solution, solving_chain, inverse_data)\n\u001b[1;32m   1071\u001b[0m \u001b[39mif\u001b[39;00m verbose:\n\u001b[1;32m   1072\u001b[0m     \u001b[39mprint\u001b[39m(_FOOTER)\n",
      "File \u001b[0;32m~/miniconda3/envs/andes/lib/python3.9/site-packages/cvxpy/problems/problem.py:1395\u001b[0m, in \u001b[0;36mProblem.unpack_results\u001b[0;34m(self, solution, chain, inverse_data)\u001b[0m\n\u001b[1;32m   1393\u001b[0m     warnings\u001b[39m.\u001b[39mwarn(INF_OR_UNB_MESSAGE)\n\u001b[1;32m   1394\u001b[0m \u001b[39mif\u001b[39;00m solution\u001b[39m.\u001b[39mstatus \u001b[39min\u001b[39;00m s\u001b[39m.\u001b[39mERROR:\n\u001b[0;32m-> 1395\u001b[0m     \u001b[39mraise\u001b[39;00m error\u001b[39m.\u001b[39mSolverError(\n\u001b[1;32m   1396\u001b[0m             \u001b[39m\"\u001b[39m\u001b[39mSolver \u001b[39m\u001b[39m'\u001b[39m\u001b[39m%s\u001b[39;00m\u001b[39m'\u001b[39m\u001b[39m failed. \u001b[39m\u001b[39m\"\u001b[39m \u001b[39m%\u001b[39m chain\u001b[39m.\u001b[39msolver\u001b[39m.\u001b[39mname() \u001b[39m+\u001b[39m\n\u001b[1;32m   1397\u001b[0m             \u001b[39m\"\u001b[39m\u001b[39mTry another solver, or solve with verbose=True for more \u001b[39m\u001b[39m\"\u001b[39m\n\u001b[1;32m   1398\u001b[0m             \u001b[39m\"\u001b[39m\u001b[39minformation.\u001b[39m\u001b[39m\"\u001b[39m)\n\u001b[1;32m   1400\u001b[0m \u001b[39mself\u001b[39m\u001b[39m.\u001b[39munpack(solution)\n\u001b[1;32m   1401\u001b[0m \u001b[39mself\u001b[39m\u001b[39m.\u001b[39m_solver_stats \u001b[39m=\u001b[39m SolverStats(\u001b[39mself\u001b[39m\u001b[39m.\u001b[39m_solution\u001b[39m.\u001b[39mattr,\n\u001b[1;32m   1402\u001b[0m                                  chain\u001b[39m.\u001b[39msolver\u001b[39m.\u001b[39mname())\n",
      "\u001b[0;31mSolverError\u001b[0m: Solver 'GUROBI' failed. Try another solver, or solve with verbose=True for more information."
     ]
    }
   ],
   "source": [
    "# Create the optimization problem\n",
    "prob = cp.Problem(obj, constraints)\n",
    "\n",
    "# Solve the optimization problem\n",
    "prob.solve(solver=cp.GUROBI, verbose=True)\n",
    "# prob.solve()"
   ]
  },
  {
   "cell_type": "markdown",
   "metadata": {},
   "source": [
    "# "
   ]
  }
 ],
 "metadata": {
  "kernelspec": {
   "display_name": "andes",
   "language": "python",
   "name": "python3"
  },
  "language_info": {
   "codemirror_mode": {
    "name": "ipython",
    "version": 3
   },
   "file_extension": ".py",
   "mimetype": "text/x-python",
   "name": "python",
   "nbconvert_exporter": "python",
   "pygments_lexer": "ipython3",
   "version": "3.9.17"
  },
  "orig_nbformat": 4
 },
 "nbformat": 4,
 "nbformat_minor": 2
}
