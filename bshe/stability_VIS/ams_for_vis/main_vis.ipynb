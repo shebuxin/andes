{
 "cells": [
  {
   "cell_type": "code",
   "execution_count": 1,
   "metadata": {},
   "outputs": [],
   "source": [
    "# public packages\n",
    "import andes\n",
    "import ams\n",
    "import cvxpy as cp\n",
    "import numpy as np\n",
    "\n",
    "# local packages\n",
    "import anci_fun as af"
   ]
  },
  {
   "cell_type": "markdown",
   "metadata": {},
   "source": [
    "# Para preparetion"
   ]
  },
  {
   "cell_type": "code",
   "execution_count": 2,
   "metadata": {},
   "outputs": [],
   "source": [
    "# neural network parameters \n",
    "\n",
    "nn_name = 'trained_model.pth'\n",
    "\n",
    "nn_weights, nn_bias, nn_diam = af.extract_nn_para(nn_name)\n",
    "\n",
    "# need dimensions of the neural network to define linization variables"
   ]
  },
  {
   "cell_type": "code",
   "execution_count": 3,
   "metadata": {},
   "outputs": [
    {
     "data": {
      "text/plain": [
       "[array([[-0.09400599,  0.00255939, -0.03851063, ..., -0.18630776,\n",
       "         -0.09999983, -0.1122928 ],\n",
       "        [ 0.00503437,  0.02254246, -0.48973235, ..., -0.15373844,\n",
       "         -0.23572348,  0.06699305],\n",
       "        [-0.12874661,  0.20608553, -0.02862953, ...,  0.02541382,\n",
       "         -0.02446124, -0.22243445],\n",
       "        ...,\n",
       "        [ 0.08542189,  0.43662688, -0.11580341, ..., -0.15186772,\n",
       "         -0.01133465,  0.1691861 ],\n",
       "        [ 0.14583746,  0.33122721, -0.32046276, ...,  0.11278176,\n",
       "          0.00154687, -0.10406776],\n",
       "        [ 0.17843458, -0.241758  ,  0.28884768, ..., -0.14984824,\n",
       "          0.04582042, -0.02602023]]),\n",
       " array([[ 2.13471949e-02, -4.22798301e-04,  5.15808279e-05, ...,\n",
       "          3.25602666e-03,  6.73401519e-04,  6.23292886e-02],\n",
       "        [ 1.90471988e-02,  1.97596490e-01,  1.06377788e-02, ...,\n",
       "          6.26905188e-02,  1.39970243e-01, -4.46147658e-02],\n",
       "        [-3.17698866e-02, -4.80886638e-01, -1.34073094e-01, ...,\n",
       "         -1.23209981e-02, -3.80469225e-02, -2.30095461e-02],\n",
       "        [ 3.97753343e-02, -7.69713894e-02, -1.27347698e-02, ...,\n",
       "         -4.35169376e-02,  2.64811181e-02, -4.55185920e-02],\n",
       "        [-3.28858644e-02,  5.39758205e-02,  4.66947109e-02, ...,\n",
       "         -1.12119894e-02,  9.22742710e-02,  7.65680056e-03],\n",
       "        [ 6.99927448e-04,  5.91779724e-02,  4.95614856e-02, ...,\n",
       "          2.32353937e-02,  9.50280204e-02,  2.19477676e-02]])]"
      ]
     },
     "execution_count": 3,
     "metadata": {},
     "output_type": "execute_result"
    }
   ],
   "source": [
    "nn_weights"
   ]
  },
  {
   "cell_type": "code",
   "execution_count": 4,
   "metadata": {},
   "outputs": [
    {
     "data": {
      "text/plain": [
       "[27, 512, 6]"
      ]
     },
     "execution_count": 4,
     "metadata": {},
     "output_type": "execute_result"
    }
   ],
   "source": [
    "nn_diam"
   ]
  },
  {
   "cell_type": "code",
   "execution_count": null,
   "metadata": {},
   "outputs": [],
   "source": []
  }
 ],
 "metadata": {
  "kernelspec": {
   "display_name": "andes",
   "language": "python",
   "name": "python3"
  },
  "language_info": {
   "codemirror_mode": {
    "name": "ipython",
    "version": 3
   },
   "file_extension": ".py",
   "mimetype": "text/x-python",
   "name": "python",
   "nbconvert_exporter": "python",
   "pygments_lexer": "ipython3",
   "version": "3.9.17"
  },
  "orig_nbformat": 4
 },
 "nbformat": 4,
 "nbformat_minor": 2
}
