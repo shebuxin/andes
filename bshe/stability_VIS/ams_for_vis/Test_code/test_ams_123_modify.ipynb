{
 "cells": [
  {
   "cell_type": "code",
   "execution_count": 2,
   "metadata": {},
   "outputs": [],
   "source": [
    "import andes\n",
    "import ams\n",
    "import cvxpy as cp\n",
    "import numpy as np"
   ]
  },
  {
   "cell_type": "code",
   "execution_count": 3,
   "metadata": {},
   "outputs": [
    {
     "name": "stderr",
     "output_type": "stream",
     "text": [
      "LDOPF solved as optimal in 0.0541 seconds with exit code 0.\n"
     ]
    },
    {
     "data": {
      "text/plain": [
       "True"
      ]
     },
     "execution_count": 3,
     "metadata": {},
     "output_type": "execute_result"
    }
   ],
   "source": [
    "ssp = ams.load('ams_case123_REGCV1_v5.xlsx')\n",
    "\n",
    "ssp.LDOPF.run()"
   ]
  },
  {
   "cell_type": "code",
   "execution_count": 8,
   "metadata": {},
   "outputs": [
    {
     "data": {
      "text/plain": [
       "0.40000492888023714"
      ]
     },
     "execution_count": 8,
     "metadata": {},
     "output_type": "execute_result"
    }
   ],
   "source": [
    "ssp.LDOPF.om.mdl.solve()"
   ]
  },
  {
   "cell_type": "code",
   "execution_count": 4,
   "metadata": {},
   "outputs": [
    {
     "data": {
      "text/plain": [
       "OrderedDict([('pg', Variable((11,))),\n",
       "             ('pn', Variable((117,))),\n",
       "             ('qg', Variable((11,))),\n",
       "             ('qn', Variable((117,))),\n",
       "             ('vsq', Variable((117,))),\n",
       "             ('pl', Variable((116,))),\n",
       "             ('ql', Variable((116,)))])"
      ]
     },
     "execution_count": 4,
     "metadata": {},
     "output_type": "execute_result"
    }
   ],
   "source": [
    "ssp.LDOPF.om.vars"
   ]
  },
  {
   "cell_type": "code",
   "execution_count": 5,
   "metadata": {},
   "outputs": [
    {
     "data": {
      "text/plain": [
       "array([0.02001194, 0.00001195, 0.00001201, 0.05448066, 0.07447504,\n",
       "       0.0340014 , 0.0340014 , 0.0340014 , 0.0340014 , 0.0340014 ,\n",
       "       0.0340014 ])"
      ]
     },
     "execution_count": 5,
     "metadata": {},
     "output_type": "execute_result"
    }
   ],
   "source": [
    "ssp.LDOPF.om.pg.value"
   ]
  },
  {
   "cell_type": "code",
   "execution_count": 6,
   "metadata": {},
   "outputs": [
    {
     "data": {
      "text/plain": [
       "['PV_1',\n",
       " 'PV_10',\n",
       " 'PV_11',\n",
       " 'PV_2',\n",
       " 'PV_3',\n",
       " 'PV_4',\n",
       " 'PV_5',\n",
       " 'PV_6',\n",
       " 'PV_7',\n",
       " 'PV_8',\n",
       " 'PV_9']"
      ]
     },
     "execution_count": 6,
     "metadata": {},
     "output_type": "execute_result"
    }
   ],
   "source": [
    "ssp.LDOPF.pg.get_idx()"
   ]
  }
 ],
 "metadata": {
  "kernelspec": {
   "display_name": "andes",
   "language": "python",
   "name": "python3"
  },
  "language_info": {
   "codemirror_mode": {
    "name": "ipython",
    "version": 3
   },
   "file_extension": ".py",
   "mimetype": "text/x-python",
   "name": "python",
   "nbconvert_exporter": "python",
   "pygments_lexer": "ipython3",
   "version": "3.9.17"
  },
  "orig_nbformat": 4
 },
 "nbformat": 4,
 "nbformat_minor": 2
}
