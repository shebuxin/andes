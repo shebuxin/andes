{
 "cells": [
  {
   "cell_type": "code",
   "execution_count": 1,
   "metadata": {},
   "outputs": [],
   "source": [
    "import andes\n",
    "import ams"
   ]
  },
  {
   "cell_type": "code",
   "execution_count": 2,
   "metadata": {},
   "outputs": [
    {
     "data": {
      "text/plain": [
       "'1.8.8.post19+g4ce4b42e'"
      ]
     },
     "execution_count": 2,
     "metadata": {},
     "output_type": "execute_result"
    }
   ],
   "source": [
    "andes.__version__"
   ]
  },
  {
   "cell_type": "code",
   "execution_count": 3,
   "metadata": {},
   "outputs": [
    {
     "data": {
      "text/plain": [
       "'0.6.7'"
      ]
     },
     "execution_count": 3,
     "metadata": {},
     "output_type": "execute_result"
    }
   ],
   "source": [
    "ams.__version__"
   ]
  },
  {
   "cell_type": "code",
   "execution_count": 4,
   "metadata": {},
   "outputs": [],
   "source": [
    "ssp = ams.load(ams.get_case('ieee14/ieee14_uced.xlsx'))"
   ]
  },
  {
   "cell_type": "code",
   "execution_count": 5,
   "metadata": {},
   "outputs": [
    {
     "name": "stderr",
     "output_type": "stream",
     "text": [
      "DCOPF solved as optimal in 0.0129 seconds with exit code 0.\n"
     ]
    },
    {
     "data": {
      "text/plain": [
       "True"
      ]
     },
     "execution_count": 5,
     "metadata": {},
     "output_type": "execute_result"
    }
   ],
   "source": [
    "ssp.DCOPF.run()"
   ]
  },
  {
   "cell_type": "code",
   "execution_count": 6,
   "metadata": {},
   "outputs": [
    {
     "name": "stderr",
     "output_type": "stream",
     "text": [
      "LDOPF solved as optimal in 0.0321 seconds with exit code 0.\n"
     ]
    },
    {
     "data": {
      "text/plain": [
       "True"
      ]
     },
     "execution_count": 6,
     "metadata": {},
     "output_type": "execute_result"
    }
   ],
   "source": [
    "ssp.LDOPF.run()"
   ]
  },
  {
   "cell_type": "code",
   "execution_count": 7,
   "metadata": {},
   "outputs": [
    {
     "data": {
      "text/plain": [
       "odict_keys(['pg', 'pn', 'qg', 'qn', 'vsq', 'pl', 'ql'])"
      ]
     },
     "execution_count": 7,
     "metadata": {},
     "output_type": "execute_result"
    }
   ],
   "source": [
    "ssp.LDOPF.vars.keys()"
   ]
  },
  {
   "cell_type": "code",
   "execution_count": 8,
   "metadata": {},
   "outputs": [
    {
     "data": {
      "text/plain": [
       "array([0.49999492, 0.49999495, 0.3685076 , 0.3685076 , 0.49999493])"
      ]
     },
     "execution_count": 8,
     "metadata": {},
     "output_type": "execute_result"
    }
   ],
   "source": [
    "ssp.LDOPF.pg.v"
   ]
  },
  {
   "cell_type": "code",
   "execution_count": 9,
   "metadata": {},
   "outputs": [
    {
     "data": {
      "text/plain": [
       "['PV_2', 'PV_3', 'PV_4', 'PV_5', 'Slack_1']"
      ]
     },
     "execution_count": 9,
     "metadata": {},
     "output_type": "execute_result"
    }
   ],
   "source": [
    "ssp.LDOPF.pg.get_idx()"
   ]
  },
  {
   "cell_type": "code",
   "execution_count": 10,
   "metadata": {},
   "outputs": [
    {
     "data": {
      "text/plain": [
       "Problem(Minimize(Expression(CONVEX, UNKNOWN, ())), [Inequality(Constant(CONSTANT, NONNEGATIVE, (5,))), Inequality(Variable((5,))), Inequality(Constant(CONSTANT, NONPOSITIVE, (5,))), Inequality(Variable((5,))), Equality(Expression(AFFINE, UNKNOWN, ()), Constant(CONSTANT, ZERO, ())), Equality(Expression(AFFINE, UNKNOWN, (14,)), Constant(CONSTANT, ZERO, ())), Inequality(Expression(AFFINE, UNKNOWN, (20,))), Inequality(Expression(AFFINE, UNKNOWN, (20,))), Inequality(Expression(AFFINE, UNKNOWN, (14,))), Inequality(Expression(AFFINE, UNKNOWN, (14,))), Equality(Expression(AFFINE, UNKNOWN, (14,)), Constant(CONSTANT, ZERO, ())), Equality(Expression(AFFINE, UNKNOWN, ()), Constant(CONSTANT, ZERO, ())), Equality(Expression(AFFINE, UNKNOWN, (20,)), Constant(CONSTANT, ZERO, ()))])"
      ]
     },
     "execution_count": 10,
     "metadata": {},
     "output_type": "execute_result"
    }
   ],
   "source": [
    "# cvx problem, can call solve it\n",
    "# i.e., problem.solve(), ssp.LDOPF.om.mdl.solve()\n",
    "# where solve function can specifiy optimizaiton solver like gurobi, cplex, etc.\n",
    "\n",
    "ssp.LDOPF.om.mdl"
   ]
  },
  {
   "cell_type": "code",
   "execution_count": 11,
   "metadata": {},
   "outputs": [
    {
     "data": {
      "text/plain": [
       "<ams.opt.omodel.OModel at 0x7f7e33cccfa0>"
      ]
     },
     "execution_count": 11,
     "metadata": {},
     "output_type": "execute_result"
    }
   ],
   "source": [
    "# ams opitimization model collection\n",
    "ssp.LDOPF.om"
   ]
  },
  {
   "cell_type": "code",
   "execution_count": 13,
   "metadata": {},
   "outputs": [
    {
     "data": {
      "text/plain": [
       "OrderedDict([('pg', Variable((5,))),\n",
       "             ('pn', Variable((14,))),\n",
       "             ('qg', Variable((5,))),\n",
       "             ('qn', Variable((14,))),\n",
       "             ('vsq', Variable((14,))),\n",
       "             ('pl', Variable((20,))),\n",
       "             ('ql', Variable((20,)))])"
      ]
     },
     "execution_count": 13,
     "metadata": {},
     "output_type": "execute_result"
    }
   ],
   "source": [
    "# cvxpy model variable (put in a dic)\n",
    "ssp.LDOPF.om.vars"
   ]
  },
  {
   "cell_type": "code",
   "execution_count": 14,
   "metadata": {},
   "outputs": [
    {
     "data": {
      "text/plain": [
       "Variable((5,))"
      ]
     },
     "execution_count": 14,
     "metadata": {},
     "output_type": "execute_result"
    }
   ],
   "source": [
    "# call the variables in dictionary\n",
    "ssp.LDOPF.om.vars['pg']\n",
    "\n",
    "# call the variables (defined in class attribute of ams)\n",
    "ssp.LDOPF.om.pg"
   ]
  },
  {
   "cell_type": "code",
   "execution_count": 16,
   "metadata": {},
   "outputs": [
    {
     "data": {
      "text/plain": [
       "Minimize(Expression(CONVEX, UNKNOWN, ()))"
      ]
     },
     "execution_count": 16,
     "metadata": {},
     "output_type": "execute_result"
    }
   ],
   "source": [
    "# objective function\n",
    "ssp.LDOPF.om.obj\n",
    "\n",
    "# Note: cannot directly modify the objective function\n",
    "# need to redefine a new objective function"
   ]
  },
  {
   "cell_type": "code",
   "execution_count": 19,
   "metadata": {},
   "outputs": [
    {
     "data": {
      "text/plain": [
       "OrderedDict([('pmin', Inequality(Constant(CONSTANT, NONNEGATIVE, (5,)))),\n",
       "             ('pmax', Inequality(Variable((5,)))),\n",
       "             ('qmin', Inequality(Constant(CONSTANT, NONPOSITIVE, (5,)))),\n",
       "             ('qmax', Inequality(Variable((5,)))),\n",
       "             ('pb',\n",
       "              Equality(Expression(AFFINE, UNKNOWN, ()), Constant(CONSTANT, ZERO, ()))),\n",
       "             ('pinj',\n",
       "              Equality(Expression(AFFINE, UNKNOWN, (14,)), Constant(CONSTANT, ZERO, ()))),\n",
       "             ('lub', Inequality(Expression(AFFINE, UNKNOWN, (20,)))),\n",
       "             ('llb', Inequality(Expression(AFFINE, UNKNOWN, (20,)))),\n",
       "             ('vu', Inequality(Expression(AFFINE, UNKNOWN, (14,)))),\n",
       "             ('vl', Inequality(Expression(AFFINE, UNKNOWN, (14,)))),\n",
       "             ('qinj',\n",
       "              Equality(Expression(AFFINE, UNKNOWN, (14,)), Constant(CONSTANT, ZERO, ()))),\n",
       "             ('qb',\n",
       "              Equality(Expression(AFFINE, UNKNOWN, ()), Constant(CONSTANT, ZERO, ()))),\n",
       "             ('lvd',\n",
       "              Equality(Expression(AFFINE, UNKNOWN, (20,)), Constant(CONSTANT, ZERO, ())))])"
      ]
     },
     "execution_count": 19,
     "metadata": {},
     "output_type": "execute_result"
    }
   ],
   "source": [
    "# constraints\n",
    "ssp.LDOPF.om.constrs"
   ]
  },
  {
   "cell_type": "code",
   "execution_count": 20,
   "metadata": {},
   "outputs": [
    {
     "data": {
      "text/plain": [
       "Inequality(Constant(CONSTANT, NONNEGATIVE, (5,)))"
      ]
     },
     "execution_count": 20,
     "metadata": {},
     "output_type": "execute_result"
    }
   ],
   "source": [
    "# a specific constraint\n",
    "ssp.LDOPF.om.constrs['pmin']"
   ]
  },
  {
   "cell_type": "code",
   "execution_count": 22,
   "metadata": {},
   "outputs": [
    {
     "data": {
      "text/plain": [
       "[Inequality(Constant(CONSTANT, NONNEGATIVE, (5,))),\n",
       " Inequality(Variable((5,))),\n",
       " Inequality(Constant(CONSTANT, NONPOSITIVE, (5,))),\n",
       " Inequality(Variable((5,))),\n",
       " Equality(Expression(AFFINE, UNKNOWN, ()), Constant(CONSTANT, ZERO, ())),\n",
       " Equality(Expression(AFFINE, UNKNOWN, (14,)), Constant(CONSTANT, ZERO, ())),\n",
       " Inequality(Expression(AFFINE, UNKNOWN, (20,))),\n",
       " Inequality(Expression(AFFINE, UNKNOWN, (20,))),\n",
       " Inequality(Expression(AFFINE, UNKNOWN, (14,))),\n",
       " Inequality(Expression(AFFINE, UNKNOWN, (14,))),\n",
       " Equality(Expression(AFFINE, UNKNOWN, (14,)), Constant(CONSTANT, ZERO, ())),\n",
       " Equality(Expression(AFFINE, UNKNOWN, ()), Constant(CONSTANT, ZERO, ())),\n",
       " Equality(Expression(AFFINE, UNKNOWN, (20,)), Constant(CONSTANT, ZERO, ()))]"
      ]
     },
     "execution_count": 22,
     "metadata": {},
     "output_type": "execute_result"
    }
   ],
   "source": [
    "# need to put all the constriants in a list\n",
    "# and then pass it to cvxpy problem\n",
    "\n",
    "constriants_cvx = [ssp.LDOPF.om.constrs[cname] for cname in ssp.LDOPF.om.constrs.keys()]\n",
    "\n",
    "constriants_cvx"
   ]
  },
  {
   "cell_type": "code",
   "execution_count": null,
   "metadata": {},
   "outputs": [],
   "source": []
  }
 ],
 "metadata": {
  "kernelspec": {
   "display_name": "andes",
   "language": "python",
   "name": "python3"
  },
  "language_info": {
   "codemirror_mode": {
    "name": "ipython",
    "version": 3
   },
   "file_extension": ".py",
   "mimetype": "text/x-python",
   "name": "python",
   "nbconvert_exporter": "python",
   "pygments_lexer": "ipython3",
   "version": "3.9.17"
  },
  "orig_nbformat": 4
 },
 "nbformat": 4,
 "nbformat_minor": 2
}
