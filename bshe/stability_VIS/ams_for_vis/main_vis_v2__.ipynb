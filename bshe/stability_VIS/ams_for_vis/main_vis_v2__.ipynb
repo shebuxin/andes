{
 "cells": [
  {
   "cell_type": "code",
   "execution_count": 1,
   "metadata": {},
   "outputs": [],
   "source": [
    "# public packages\n",
    "import andes\n",
    "import ams\n",
    "import cvxpy as cp\n",
    "import numpy as np\n",
    "import gurobipy\n",
    "\n",
    "# local packages\n",
    "import anci_fun as af\n",
    "\n",
    "# v1 try to include dynamic constraints using reduced input/output NN model\n",
    "\n",
    "# ------ nn information ------\n",
    "# input:   [M, D]\n",
    "# output:  [rocof_max, fnadir, dtheta_max, eig_max]\n",
    "# nn_diam: [16, 128, 4]"
   ]
  },
  {
   "cell_type": "markdown",
   "metadata": {},
   "source": [
    "# Para preparetion"
   ]
  },
  {
   "cell_type": "code",
   "execution_count": 2,
   "metadata": {},
   "outputs": [],
   "source": [
    "# neural network parameters \n",
    "nn_name = 'trained_model.pth'\n",
    "nn_weights, nn_bias, nn_diam = af.extract_nn_para(nn_name) # three list"
   ]
  },
  {
   "cell_type": "code",
   "execution_count": 3,
   "metadata": {},
   "outputs": [],
   "source": [
    "# MD parameters\n",
    "vsg_num = 8\n",
    "\n",
    "# lb_M = np.array([0, 0, 0, 0, 0, 0, 0, 0])\n",
    "lb_M = np.array([0.05, 0.05, 0.05, 0.05, 0.05, 0.05, 0.05, 0.05])\n",
    "ub_M = np.array([6, 6, 6, 6, 6, 6, 6, 6])\n",
    "\n",
    "# lb_D = np.array([0, 0, 0, 0, 0, 0, 0, 0])\n",
    "lb_D = np.array([0.01, 0.01, 0.01, 0.01, 0.01, 0.01, 0.01, 0.01])\n",
    "ub_D = np.array([4, 4, 4, 4, 4, 4, 4, 4])\n"
   ]
  },
  {
   "cell_type": "code",
   "execution_count": 4,
   "metadata": {},
   "outputs": [],
   "source": [
    "sf_load = 1.0\n",
    "\n",
    "# y = [rocof_max, fnadir, dtheta_max, eig_max]\n",
    "lb_y = np.array([-0.5, -0.6, -3.14, -1000])\n",
    "ub_y = np.array([ 0.5,  0.6,  3.14,  0.001])"
   ]
  },
  {
   "cell_type": "markdown",
   "metadata": {},
   "source": [
    "# Load ams model"
   ]
  },
  {
   "cell_type": "code",
   "execution_count": 5,
   "metadata": {},
   "outputs": [
    {
     "name": "stderr",
     "output_type": "stream",
     "text": [
      "LDOPF solved as optimal in 0.0412 seconds with exit code 0.\n"
     ]
    },
    {
     "data": {
      "text/plain": [
       "OrderedDict([('pg', Variable((11,))),\n",
       "             ('pn', Variable((117,))),\n",
       "             ('qg', Variable((11,))),\n",
       "             ('qn', Variable((117,))),\n",
       "             ('vsq', Variable((117,))),\n",
       "             ('pl', Variable((116,))),\n",
       "             ('ql', Variable((116,)))])"
      ]
     },
     "execution_count": 5,
     "metadata": {},
     "output_type": "execute_result"
    }
   ],
   "source": [
    "ssp = ams.load('ams_case123_REGCV1_v5.xlsx')\n",
    "\n",
    "ssp.LDOPF.run()\n",
    "\n",
    "ssp.LDOPF.om.mdl.solve()\n",
    "\n",
    "ssp.LDOPF.om.vars"
   ]
  },
  {
   "cell_type": "markdown",
   "metadata": {},
   "source": [
    "# Define new variables, constraints, and obj"
   ]
  },
  {
   "cell_type": "code",
   "execution_count": 6,
   "metadata": {},
   "outputs": [],
   "source": [
    "# M and D\n",
    "\n",
    "M = cp.Variable(vsg_num, name=\"M\")\n",
    "D = cp.Variable(vsg_num, name=\"D\")\n",
    "\n",
    "constraints_M = [M >= lb_M, M <= ub_M]\n",
    "constraints_D = [D >= lb_D, D <= ub_D]"
   ]
  },
  {
   "cell_type": "code",
   "execution_count": 7,
   "metadata": {},
   "outputs": [],
   "source": [
    "# data for the neural network linearization\n",
    "pg    = ssp.LDOPF.om.pg\n",
    "\n",
    "x1    = cp.hstack([M, D])  # this version doesn't incelu load scaling factor\n",
    "\n",
    "w1    = nn_weights[0]\n",
    "w2    = nn_weights[1]\n",
    "\n",
    "b1    = nn_bias[0]\n",
    "b2    = nn_bias[1]\n",
    "\n",
    "hdown = -100\n",
    "hup   = 100"
   ]
  },
  {
   "cell_type": "code",
   "execution_count": 8,
   "metadata": {},
   "outputs": [],
   "source": [
    "# neural network linization\n",
    "\n",
    "z = cp.Variable(nn_diam[1], name=\"z\")\n",
    "a = cp.Variable(nn_diam[1], name=\"a\", boolean=True)\n",
    "\n",
    "z_ = w1 @ x1 + b1\n",
    "\n",
    "y = w2 @ z + b2\n",
    "\n",
    "constraints_nn = [\n",
    "                    # linization constraints\n",
    "                    z <= z_ - hdown * (1 - a),\n",
    "                    z >= z_,\n",
    "                    z <= hup * a,\n",
    "                    z >= 0,\n",
    "                    # output constraints\n",
    "                    # y[0] <= ub_y[0],         # RoCoF\n",
    "                    # y[0] >= lb_y[0],\n",
    "                    # y[1] <= ub_y[1],         # fnadir\n",
    "                    # y[1] >= lb_y[1],\n",
    "                    # y[2] <= ub_y[2],         # dtheta_max\n",
    "                    # y[2] >= lb_y[2],\n",
    "                    # y[3] <= ub_y[3],         # eig_max\n",
    "                    # y[3] >= lb_y[3]             \n",
    "                ]"
   ]
  },
  {
   "cell_type": "code",
   "execution_count": 9,
   "metadata": {},
   "outputs": [
    {
     "data": {
      "text/plain": [
       "Expression(AFFINE, UNKNOWN, ())"
      ]
     },
     "execution_count": 9,
     "metadata": {},
     "output_type": "execute_result"
    }
   ],
   "source": [
    "y[0]"
   ]
  },
  {
   "cell_type": "code",
   "execution_count": 10,
   "metadata": {},
   "outputs": [],
   "source": [
    "# extract original ams constraints\n",
    "constriants_ams = [ssp.LDOPF.om.constrs[cname] for cname in ssp.LDOPF.om.constrs.keys()]"
   ]
  },
  {
   "cell_type": "code",
   "execution_count": 11,
   "metadata": {},
   "outputs": [],
   "source": [
    "constraints = constraints_M + constraints_D + constraints_nn + constriants_ams\n",
    "\n",
    "# constraints = constriants_ams + constraints_M + constraints_D"
   ]
  },
  {
   "cell_type": "markdown",
   "metadata": {},
   "source": [
    "# Formulate new problem\n",
    "\n",
    "pg = ['PV_1',\n",
    " 'PV_10',\n",
    " 'PV_11',\n",
    " 'PV_2',\n",
    " 'PV_3',\n",
    " 'PV_4',\n",
    " 'PV_5',\n",
    " 'PV_6',\n",
    " 'PV_7',\n",
    " 'PV_8',\n",
    " 'PV_9']\n",
    "\n",
    " SG: PV_1, PV_2, PV_3 (slack bus)\n",
    "\n",
    " IBR: PV_4, PV_5, ..., PV_11"
   ]
  },
  {
   "cell_type": "code",
   "execution_count": 12,
   "metadata": {},
   "outputs": [],
   "source": [
    "c2 = np.array([0.01, 0, 0, 0.01, 0.02, 0, 0, 0, 0, 0, 0])\n",
    "c1 = np.array([  20, 0, 0,   20,   30, 0, 0, 0, 0, 0, 0])\n",
    "\n",
    "# d  = np.array([0, 0, 0, 0.01, 0, 0, 0.001, 0])\n",
    "c_M  = np.array([0.02, 0.01, 0.5, 0.01, 0.06, 0.07, 0.01, 0.02])\n",
    "\n",
    "c_D  = np.array([0.01, 0.01, 0.01, 0.01, 0.01, 0.01, 0.02, 0.01])\n",
    "\n",
    "pg_power = pg**2\n",
    "\n",
    "#cost = cp.sum(c2 @ pg_power + c1 @ pg)\n",
    "\n",
    "cost = cp.sum(c2 @ pg_power + c1 @ pg + c_M @ M + c_D @ D)\n",
    "\n",
    "obj = cp.Minimize(cost)"
   ]
  },
  {
   "cell_type": "code",
   "execution_count": 16,
   "metadata": {},
   "outputs": [
    {
     "data": {
      "text/plain": [
       "'SCIP'"
      ]
     },
     "execution_count": 16,
     "metadata": {},
     "output_type": "execute_result"
    }
   ],
   "source": [
    "cp.SCIP"
   ]
  },
  {
   "cell_type": "code",
   "execution_count": 17,
   "metadata": {},
   "outputs": [
    {
     "name": "stdout",
     "output_type": "stream",
     "text": [
      "===============================================================================\n",
      "                                     CVXPY                                     \n",
      "                                     v1.3.2                                    \n",
      "===============================================================================\n",
      "(CVXPY) Sep 14 10:37:21 AM: Your problem has 749 variables, 21 constraints, and 0 parameters.\n",
      "(CVXPY) Sep 14 10:37:21 AM: It is compliant with the following grammars: DCP, DQCP\n",
      "(CVXPY) Sep 14 10:37:21 AM: (If you need to solve this problem multiple times, but with different data, consider using parameters.)\n",
      "(CVXPY) Sep 14 10:37:21 AM: CVXPY will first compile your problem; then, it will invoke a numerical solver to obtain a solution.\n"
     ]
    },
    {
     "ename": "SolverError",
     "evalue": "The solver SCIP is not installed.",
     "output_type": "error",
     "traceback": [
      "\u001b[0;31m---------------------------------------------------------------------------\u001b[0m",
      "\u001b[0;31mSolverError\u001b[0m                               Traceback (most recent call last)",
      "Cell \u001b[0;32mIn[17], line 6\u001b[0m\n\u001b[1;32m      2\u001b[0m prob \u001b[39m=\u001b[39m cp\u001b[39m.\u001b[39mProblem(obj, constraints)\n\u001b[1;32m      4\u001b[0m \u001b[39m# Solve the optimization problem\u001b[39;00m\n\u001b[0;32m----> 6\u001b[0m prob\u001b[39m.\u001b[39;49msolve(solver\u001b[39m=\u001b[39;49mcp\u001b[39m.\u001b[39;49mSCIP, verbose\u001b[39m=\u001b[39;49m\u001b[39mTrue\u001b[39;49;00m)\n",
      "File \u001b[0;32m~/miniconda3/envs/andes/lib/python3.9/site-packages/cvxpy/problems/problem.py:495\u001b[0m, in \u001b[0;36mProblem.solve\u001b[0;34m(self, *args, **kwargs)\u001b[0m\n\u001b[1;32m    493\u001b[0m \u001b[39melse\u001b[39;00m:\n\u001b[1;32m    494\u001b[0m     solve_func \u001b[39m=\u001b[39m Problem\u001b[39m.\u001b[39m_solve\n\u001b[0;32m--> 495\u001b[0m \u001b[39mreturn\u001b[39;00m solve_func(\u001b[39mself\u001b[39;49m, \u001b[39m*\u001b[39;49margs, \u001b[39m*\u001b[39;49m\u001b[39m*\u001b[39;49mkwargs)\n",
      "File \u001b[0;32m~/miniconda3/envs/andes/lib/python3.9/site-packages/cvxpy/problems/problem.py:1056\u001b[0m, in \u001b[0;36mProblem._solve\u001b[0;34m(self, solver, warm_start, verbose, gp, qcp, requires_grad, enforce_dpp, ignore_dpp, canon_backend, **kwargs)\u001b[0m\n\u001b[1;32m   1053\u001b[0m         \u001b[39mself\u001b[39m\u001b[39m.\u001b[39munpack(chain\u001b[39m.\u001b[39mretrieve(soln))\n\u001b[1;32m   1054\u001b[0m         \u001b[39mreturn\u001b[39;00m \u001b[39mself\u001b[39m\u001b[39m.\u001b[39mvalue\n\u001b[0;32m-> 1056\u001b[0m data, solving_chain, inverse_data \u001b[39m=\u001b[39m \u001b[39mself\u001b[39;49m\u001b[39m.\u001b[39;49mget_problem_data(\n\u001b[1;32m   1057\u001b[0m     solver, gp, enforce_dpp, ignore_dpp, verbose, canon_backend, kwargs\n\u001b[1;32m   1058\u001b[0m )\n\u001b[1;32m   1060\u001b[0m \u001b[39mif\u001b[39;00m verbose:\n\u001b[1;32m   1061\u001b[0m     \u001b[39mprint\u001b[39m(_NUM_SOLVER_STR)\n",
      "File \u001b[0;32m~/miniconda3/envs/andes/lib/python3.9/site-packages/cvxpy/problems/problem.py:633\u001b[0m, in \u001b[0;36mProblem.get_problem_data\u001b[0;34m(self, solver, gp, enforce_dpp, ignore_dpp, verbose, canon_backend, solver_opts)\u001b[0m\n\u001b[1;32m    631\u001b[0m \u001b[39mif\u001b[39;00m key \u001b[39m!=\u001b[39m \u001b[39mself\u001b[39m\u001b[39m.\u001b[39m_cache\u001b[39m.\u001b[39mkey:\n\u001b[1;32m    632\u001b[0m     \u001b[39mself\u001b[39m\u001b[39m.\u001b[39m_cache\u001b[39m.\u001b[39minvalidate()\n\u001b[0;32m--> 633\u001b[0m     solving_chain \u001b[39m=\u001b[39m \u001b[39mself\u001b[39;49m\u001b[39m.\u001b[39;49m_construct_chain(\n\u001b[1;32m    634\u001b[0m         solver\u001b[39m=\u001b[39;49msolver, gp\u001b[39m=\u001b[39;49mgp,\n\u001b[1;32m    635\u001b[0m         enforce_dpp\u001b[39m=\u001b[39;49menforce_dpp,\n\u001b[1;32m    636\u001b[0m         ignore_dpp\u001b[39m=\u001b[39;49mignore_dpp,\n\u001b[1;32m    637\u001b[0m         canon_backend\u001b[39m=\u001b[39;49mcanon_backend,\n\u001b[1;32m    638\u001b[0m         solver_opts\u001b[39m=\u001b[39;49msolver_opts)\n\u001b[1;32m    639\u001b[0m     \u001b[39mself\u001b[39m\u001b[39m.\u001b[39m_cache\u001b[39m.\u001b[39mkey \u001b[39m=\u001b[39m key\n\u001b[1;32m    640\u001b[0m     \u001b[39mself\u001b[39m\u001b[39m.\u001b[39m_cache\u001b[39m.\u001b[39msolving_chain \u001b[39m=\u001b[39m solving_chain\n",
      "File \u001b[0;32m~/miniconda3/envs/andes/lib/python3.9/site-packages/cvxpy/problems/problem.py:883\u001b[0m, in \u001b[0;36mProblem._construct_chain\u001b[0;34m(self, solver, gp, enforce_dpp, ignore_dpp, canon_backend, solver_opts)\u001b[0m\n\u001b[1;32m    841\u001b[0m \u001b[39mdef\u001b[39;00m \u001b[39m_construct_chain\u001b[39m(\n\u001b[1;32m    842\u001b[0m         \u001b[39mself\u001b[39m,\n\u001b[1;32m    843\u001b[0m         solver: Optional[\u001b[39mstr\u001b[39m] \u001b[39m=\u001b[39m \u001b[39mNone\u001b[39;00m,\n\u001b[0;32m   (...)\u001b[0m\n\u001b[1;32m    848\u001b[0m         solver_opts: Optional[\u001b[39mdict\u001b[39m] \u001b[39m=\u001b[39m \u001b[39mNone\u001b[39;00m\n\u001b[1;32m    849\u001b[0m ) \u001b[39m-\u001b[39m\u001b[39m>\u001b[39m SolvingChain:\n\u001b[1;32m    850\u001b[0m \u001b[39m    \u001b[39m\u001b[39m\"\"\"\u001b[39;00m\n\u001b[1;32m    851\u001b[0m \u001b[39m    Construct the chains required to reformulate and solve the problem.\u001b[39;00m\n\u001b[1;32m    852\u001b[0m \n\u001b[0;32m   (...)\u001b[0m\n\u001b[1;32m    881\u001b[0m \u001b[39m    A solving chain\u001b[39;00m\n\u001b[1;32m    882\u001b[0m \u001b[39m    \"\"\"\u001b[39;00m\n\u001b[0;32m--> 883\u001b[0m     candidate_solvers \u001b[39m=\u001b[39m \u001b[39mself\u001b[39;49m\u001b[39m.\u001b[39;49m_find_candidate_solvers(solver\u001b[39m=\u001b[39;49msolver, gp\u001b[39m=\u001b[39;49mgp)\n\u001b[1;32m    884\u001b[0m     \u001b[39mself\u001b[39m\u001b[39m.\u001b[39m_sort_candidate_solvers(candidate_solvers)\n\u001b[1;32m    885\u001b[0m     \u001b[39mreturn\u001b[39;00m construct_solving_chain(\u001b[39mself\u001b[39m, candidate_solvers, gp\u001b[39m=\u001b[39mgp,\n\u001b[1;32m    886\u001b[0m                                    enforce_dpp\u001b[39m=\u001b[39menforce_dpp,\n\u001b[1;32m    887\u001b[0m                                    ignore_dpp\u001b[39m=\u001b[39mignore_dpp,\n\u001b[1;32m    888\u001b[0m                                    canon_backend\u001b[39m=\u001b[39mcanon_backend,\n\u001b[1;32m    889\u001b[0m                                    solver_opts\u001b[39m=\u001b[39msolver_opts)\n",
      "File \u001b[0;32m~/miniconda3/envs/andes/lib/python3.9/site-packages/cvxpy/problems/problem.py:746\u001b[0m, in \u001b[0;36mProblem._find_candidate_solvers\u001b[0;34m(self, solver, gp)\u001b[0m\n\u001b[1;32m    744\u001b[0m \u001b[39mif\u001b[39;00m solver \u001b[39mis\u001b[39;00m \u001b[39mnot\u001b[39;00m \u001b[39mNone\u001b[39;00m:\n\u001b[1;32m    745\u001b[0m     \u001b[39mif\u001b[39;00m solver \u001b[39mnot\u001b[39;00m \u001b[39min\u001b[39;00m slv_def\u001b[39m.\u001b[39mINSTALLED_SOLVERS:\n\u001b[0;32m--> 746\u001b[0m         \u001b[39mraise\u001b[39;00m error\u001b[39m.\u001b[39mSolverError(\u001b[39m\"\u001b[39m\u001b[39mThe solver \u001b[39m\u001b[39m%s\u001b[39;00m\u001b[39m is not installed.\u001b[39m\u001b[39m\"\u001b[39m \u001b[39m%\u001b[39m solver)\n\u001b[1;32m    747\u001b[0m     \u001b[39mif\u001b[39;00m solver \u001b[39min\u001b[39;00m slv_def\u001b[39m.\u001b[39mCONIC_SOLVERS:\n\u001b[1;32m    748\u001b[0m         candidates[\u001b[39m'\u001b[39m\u001b[39mconic_solvers\u001b[39m\u001b[39m'\u001b[39m] \u001b[39m+\u001b[39m\u001b[39m=\u001b[39m [solver]\n",
      "\u001b[0;31mSolverError\u001b[0m: The solver SCIP is not installed."
     ]
    }
   ],
   "source": [
    "# Create the optimization problem\n",
    "prob = cp.Problem(obj, constraints)\n",
    "\n",
    "# Solve the optimization problem\n",
    "\n",
    "prob.solve(solver=cp.SCIP, verbose=True)\n",
    "\n",
    "# prob.solve(solver=cp.ECOS_BB, verbose=True)\n",
    "\n",
    "# prob.solve()"
   ]
  },
  {
   "cell_type": "code",
   "execution_count": null,
   "metadata": {},
   "outputs": [],
   "source": [
    "grb.version()"
   ]
  },
  {
   "cell_type": "code",
   "execution_count": null,
   "metadata": {},
   "outputs": [],
   "source": [
    "prob.status"
   ]
  },
  {
   "cell_type": "code",
   "execution_count": null,
   "metadata": {},
   "outputs": [],
   "source": [
    "prob.status"
   ]
  },
  {
   "cell_type": "code",
   "execution_count": null,
   "metadata": {},
   "outputs": [],
   "source": [
    "ssp.LDOPF.om.pg.value"
   ]
  },
  {
   "cell_type": "code",
   "execution_count": null,
   "metadata": {},
   "outputs": [],
   "source": [
    "M.value"
   ]
  },
  {
   "cell_type": "code",
   "execution_count": null,
   "metadata": {},
   "outputs": [],
   "source": [
    "D.value"
   ]
  },
  {
   "cell_type": "markdown",
   "metadata": {},
   "source": [
    "# "
   ]
  }
 ],
 "metadata": {
  "kernelspec": {
   "display_name": "andes",
   "language": "python",
   "name": "python3"
  },
  "language_info": {
   "codemirror_mode": {
    "name": "ipython",
    "version": 3
   },
   "file_extension": ".py",
   "mimetype": "text/x-python",
   "name": "python",
   "nbconvert_exporter": "python",
   "pygments_lexer": "ipython3",
   "version": "3.9.17"
  },
  "orig_nbformat": 4
 },
 "nbformat": 4,
 "nbformat_minor": 2
}
