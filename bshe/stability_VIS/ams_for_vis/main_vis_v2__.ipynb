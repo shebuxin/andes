{
 "cells": [
  {
   "cell_type": "code",
   "execution_count": 65,
   "metadata": {},
   "outputs": [],
   "source": [
    "# public packages\n",
    "import andes\n",
    "import ams\n",
    "import cvxpy as cp\n",
    "import numpy as np\n",
    "import gurobipy\n",
    "\n",
    "# local packages\n",
    "import anci_fun as af\n",
    "\n",
    "# v1 try to include dynamic constraints using reduced input/output NN model\n",
    "\n",
    "# ------ nn information ------\n",
    "# input:   [M, D]\n",
    "# output:  [rocof_max, fnadir, dtheta_max, eig_max]\n",
    "# nn_diam: [16, 128, 4]"
   ]
  },
  {
   "cell_type": "markdown",
   "metadata": {},
   "source": [
    "# Para preparetion"
   ]
  },
  {
   "cell_type": "code",
   "execution_count": 66,
   "metadata": {},
   "outputs": [],
   "source": [
    "# neural network parameters \n",
    "nn_name = 'trained_model.pth'\n",
    "nn_weights, nn_bias, nn_diam = af.extract_nn_para(nn_name) # three list"
   ]
  },
  {
   "cell_type": "code",
   "execution_count": 67,
   "metadata": {},
   "outputs": [],
   "source": [
    "# MD parameters\n",
    "vsg_num = 8\n",
    "\n",
    "lb_M = np.array([0, 0, 0, 0, 0, 0, 0, 0])\n",
    "ub_M = np.array([6, 6, 6, 6, 6, 6, 6, 6])\n",
    "\n",
    "lb_D = np.array([0, 0, 0, 0, 0, 0, 0, 0])\n",
    "ub_D = np.array([4, 4, 4, 4, 4, 4, 4, 4])"
   ]
  },
  {
   "cell_type": "code",
   "execution_count": 68,
   "metadata": {},
   "outputs": [],
   "source": [
    "sf_load = 1.0\n",
    "\n",
    "# y = [rocof_max, fnadir, dtheta_max, eig_max]\n",
    "lb_y = np.array([-0.5, -0.6, -3.14, -10000])\n",
    "ub_y = np.array([ 0.5,  0.6,  3.14,      0])"
   ]
  },
  {
   "cell_type": "markdown",
   "metadata": {},
   "source": [
    "# Load ams model"
   ]
  },
  {
   "cell_type": "code",
   "execution_count": 69,
   "metadata": {},
   "outputs": [
    {
     "name": "stderr",
     "output_type": "stream",
     "text": [
      "LDOPF solved as optimal in 0.0992 seconds with exit code 0.\n"
     ]
    },
    {
     "data": {
      "text/plain": [
       "OrderedDict([('pg', Variable((11,))),\n",
       "             ('pn', Variable((117,))),\n",
       "             ('qg', Variable((11,))),\n",
       "             ('qn', Variable((117,))),\n",
       "             ('vsq', Variable((117,))),\n",
       "             ('pl', Variable((116,))),\n",
       "             ('ql', Variable((116,)))])"
      ]
     },
     "execution_count": 69,
     "metadata": {},
     "output_type": "execute_result"
    }
   ],
   "source": [
    "ssp = ams.load('ams_case123_REGCV1_v5.xlsx')\n",
    "\n",
    "ssp.LDOPF.run()\n",
    "\n",
    "ssp.LDOPF.om.mdl.solve()\n",
    "\n",
    "ssp.LDOPF.om.vars"
   ]
  },
  {
   "cell_type": "markdown",
   "metadata": {},
   "source": [
    "# Define new variables, constraints, and obj"
   ]
  },
  {
   "cell_type": "code",
   "execution_count": 70,
   "metadata": {},
   "outputs": [],
   "source": [
    "# M and D\n",
    "\n",
    "M = cp.Variable(vsg_num, name=\"M\")\n",
    "D = cp.Variable(vsg_num, name=\"D\")\n",
    "\n",
    "constraints_M = [M >= lb_M, M <= ub_M]\n",
    "constraints_D = [D >= lb_D, D <= ub_D]"
   ]
  },
  {
   "cell_type": "code",
   "execution_count": 71,
   "metadata": {},
   "outputs": [],
   "source": [
    "# data for the neural network linearization\n",
    "pg    = ssp.LDOPF.om.pg\n",
    "\n",
    "x1    = cp.hstack([M, D])  # this version doesn't incelu load scaling factor\n",
    "\n",
    "w1    = nn_weights[0]\n",
    "w2    = nn_weights[1]\n",
    "\n",
    "b1    = nn_bias[0]\n",
    "b2    = nn_bias[1]\n",
    "\n",
    "hdown = -10\n",
    "hup   = 10"
   ]
  },
  {
   "cell_type": "code",
   "execution_count": 72,
   "metadata": {},
   "outputs": [],
   "source": [
    "# neural network linization\n",
    "\n",
    "z = cp.Variable(nn_diam[1], name=\"z\")\n",
    "a = cp.Variable(nn_diam[1], name=\"a\", boolean=True)\n",
    "\n",
    "z_ = w1 @ x1 + b1\n",
    "\n",
    "y = w2 @ z + b2\n",
    "\n",
    "constraints_nn = [\n",
    "                    # linization constraints\n",
    "                    z <= z_ - hdown * (1 - a),\n",
    "                    z >= z_,\n",
    "                    z <= hup * a,\n",
    "                    z >= 0,\n",
    "                    # output constraints\n",
    "                    # y <= ub_y,\n",
    "                    # y >= lb_y\n",
    "                    y[0] <= ub_y[0],\n",
    "                    y[0] >= lb_y[0],\n",
    "                    y[1] <= ub_y[1],\n",
    "                    y[1] >= lb_y[1],\n",
    "                    y[2] <= ub_y[2],\n",
    "                    y[2] >= lb_y[2],                          \n",
    "                ]"
   ]
  },
  {
   "cell_type": "code",
   "execution_count": 73,
   "metadata": {},
   "outputs": [
    {
     "data": {
      "text/plain": [
       "Expression(AFFINE, UNKNOWN, ())"
      ]
     },
     "execution_count": 73,
     "metadata": {},
     "output_type": "execute_result"
    }
   ],
   "source": [
    "y[0]"
   ]
  },
  {
   "cell_type": "code",
   "execution_count": 74,
   "metadata": {},
   "outputs": [],
   "source": [
    "# extract original ams constraints\n",
    "constriants_ams = [ssp.LDOPF.om.constrs[cname] for cname in ssp.LDOPF.om.constrs.keys()]"
   ]
  },
  {
   "cell_type": "code",
   "execution_count": 75,
   "metadata": {},
   "outputs": [],
   "source": [
    "constraints = constraints_M + constraints_D + constraints_nn + constriants_ams\n",
    "\n",
    "# constraints = constriants_ams + constraints_M + constraints_D"
   ]
  },
  {
   "cell_type": "markdown",
   "metadata": {},
   "source": [
    "# Formulate new problem\n",
    "\n",
    "pg = ['PV_1',\n",
    " 'PV_10',\n",
    " 'PV_11',\n",
    " 'PV_2',\n",
    " 'PV_3',\n",
    " 'PV_4',\n",
    " 'PV_5',\n",
    " 'PV_6',\n",
    " 'PV_7',\n",
    " 'PV_8',\n",
    " 'PV_9']\n",
    "\n",
    " SG: PV_1, PV_2, PV_3 (slack bus)\n",
    "\n",
    " IBR: PV_4, PV_5, ..., PV_11"
   ]
  },
  {
   "cell_type": "code",
   "execution_count": 76,
   "metadata": {},
   "outputs": [],
   "source": [
    "c2 = np.array([0.01, 0, 0, 0.01, 0.02, 0, 0, 0, 0, 0, 0])\n",
    "c1 = np.array([  20, 0, 0,   20,   30, 0, 0, 0, 0, 0, 0])\n",
    "\n",
    "d  = np.array([0, 0, 0, 0.01, 0, 0, 0.001, 0])\n",
    "\n",
    "pg_power = pg**2\n",
    "\n",
    "cost = cp.sum(c2 @ pg_power + c1 @ pg + d @ M)\n",
    "\n",
    "obj = cp.Minimize(cost)"
   ]
  },
  {
   "cell_type": "code",
   "execution_count": 77,
   "metadata": {},
   "outputs": [
    {
     "name": "stdout",
     "output_type": "stream",
     "text": [
      "===============================================================================\n",
      "                                     CVXPY                                     \n",
      "                                     v1.3.2                                    \n",
      "===============================================================================\n",
      "(CVXPY) Sep 11 01:18:07 AM: Your problem has 877 variables, 27 constraints, and 0 parameters.\n",
      "(CVXPY) Sep 11 01:18:07 AM: It is compliant with the following grammars: DCP, DQCP\n",
      "(CVXPY) Sep 11 01:18:07 AM: (If you need to solve this problem multiple times, but with different data, consider using parameters.)\n",
      "(CVXPY) Sep 11 01:18:07 AM: CVXPY will first compile your problem; then, it will invoke a numerical solver to obtain a solution.\n",
      "-------------------------------------------------------------------------------\n",
      "                                  Compilation                                  \n",
      "-------------------------------------------------------------------------------\n",
      "(CVXPY) Sep 11 01:18:07 AM: Compiling problem (target solver=ECOS_BB).\n",
      "(CVXPY) Sep 11 01:18:07 AM: Reduction chain: Dcp2Cone -> CvxAttr2Constr -> ConeMatrixStuffing -> ECOS_BB\n",
      "(CVXPY) Sep 11 01:18:07 AM: Applying reduction Dcp2Cone\n",
      "(CVXPY) Sep 11 01:18:07 AM: Applying reduction CvxAttr2Constr\n",
      "(CVXPY) Sep 11 01:18:07 AM: Applying reduction ConeMatrixStuffing\n",
      "(CVXPY) Sep 11 01:18:07 AM: Applying reduction ECOS_BB\n",
      "(CVXPY) Sep 11 01:18:07 AM: Finished problem compilation (took 3.186e-02 seconds).\n",
      "-------------------------------------------------------------------------------\n",
      "                                Numerical solver                               \n",
      "-------------------------------------------------------------------------------\n",
      "(CVXPY) Sep 11 01:18:07 AM: Invoking solver ECOS_BB  to obtain a solution.\n",
      "Iter\tLower Bound\tUpper Bound\tGap\n",
      "================================================\n",
      "\n",
      "ECOS 2.0.10 - (C) embotech GmbH, Zurich Switzerland, 2012-15. Web: www.embotech.com/ECOS\n",
      "\n",
      "It     pcost       dcost      gap   pres   dres    k/t    mu     step   sigma     IR    |   BT\n",
      " 0  +4.384e+01  -3.061e+05  +3e+05  2e-02  5e-01  1e+00  3e+02    ---    ---    1  1  - |  -  - \n",
      " 1  +9.529e-01  -2.523e+04  +3e+04  2e-03  8e-02  4e-01  2e+01  0.9156  2e-03   1  1  1 |  0  0\n",
      " 2  +1.521e+00  -2.189e+03  +3e+03  1e-04  1e-02  2e-01  2e+00  0.9177  8e-03   1  1  1 |  0  0\n",
      " 3  +2.065e+00  -2.740e+01  +3e+01  2e-06  3e-04  2e-03  3e-02  0.9865  1e-04   1  1  1 |  0  0\n",
      " 4  +2.008e+00  -1.019e+00  +4e+00  2e-07  3e-05  3e-04  3e-03  0.9019  5e-03   1  1  1 |  0  0\n",
      " 5  +2.002e+00  +1.560e+00  +5e-01  3e-08  4e-06  2e-04  4e-04  0.9547  1e-01   2  1  1 |  0  0\n",
      " 6  +2.000e+00  +1.988e+00  +1e-02  7e-10  1e-07  8e-06  1e-05  0.9818  1e-02   2  1  1 |  0  0\n",
      " 7  +2.000e+00  +2.000e+00  +5e-04  3e-11  4e-09  3e-07  4e-07  0.9646  5e-04   2  1  1 |  0  0\n",
      " 8  +2.000e+00  +2.000e+00  +1e-05  5e-13  8e-11  5e-09  7e-09  0.9817  2e-04   2  1  1 |  0  0\n",
      " 9  +2.000e+00  +2.000e+00  +1e-07  5e-15  9e-13  6e-11  8e-11  0.9890  1e-04   1  1  1 |  0  0\n",
      "10  +2.000e+00  +2.000e+00  +1e-09  1e-16  1e-14  6e-13  9e-13  0.9890  1e-04   1  1  1 |  0  0\n",
      "\n",
      "OPTIMAL (within feastol=1.1e-14, reltol=5.9e-10, abstol=1.2e-09).\n",
      "Runtime: 0.049840 seconds.\n",
      "\n",
      "\n",
      "ECOS 2.0.10 - (C) embotech GmbH, Zurich Switzerland, 2012-15. Web: www.embotech.com/ECOS\n",
      "\n",
      "It     pcost       dcost      gap   pres   dres    k/t    mu     step   sigma     IR    |   BT\n",
      " 0  +4.384e+01  -3.031e+05  +3e+05  2e-02  5e-01  1e+00  3e+02    ---    ---    1  1  - |  -  - \n",
      " 1  +9.897e-01  -5.581e+04  +6e+04  4e-03  1e-01  7e+00  5e+01  0.8442  3e-02   1  1  1 |  0  0\n",
      " 2  +5.499e+00  -3.795e+04  +4e+04  3e-03  4e-02  9e+00  3e+01  0.4307  2e-01   1  1  1 |  0  0\n",
      " 3  +3.080e+00  -1.060e+04  +1e+04  7e-04  1e-02  3e+00  8e+00  0.7510  4e-02   1  1  1 |  0  0\n",
      " 4  +4.704e+00  -7.016e+03  +7e+03  5e-04  4e-03  4e+00  5e+00  0.6182  4e-01   1  1  1 |  0  0\n",
      " 5  +3.636e+00  -1.917e+03  +2e+03  1e-04  1e-03  1e+00  1e+00  0.7429  3e-02   1  1  1 |  0  0\n",
      " 6  +3.111e+00  -9.083e+02  +9e+02  6e-05  4e-04  6e-01  7e-01  0.6237  1e-01   1  1  1 |  0  0\n",
      " 7  +2.956e+00  -6.502e+02  +6e+02  5e-05  2e-04  5e-01  4e-01  0.4507  3e-01   1  1  1 |  0  0\n",
      " 8  +2.792e+00  -4.429e+02  +4e+02  3e-05  1e-04  4e-01  3e-01  0.4794  2e-01   1  1  1 |  0  0\n",
      " 9  +3.041e+00  -3.925e+02  +3e+02  3e-05  7e-05  5e-01  2e-01  0.7187  6e-01   1  1  1 |  0  0\n",
      "10  +2.994e+00  -2.605e+02  +1e+02  2e-05  3e-05  4e-01  1e-01  0.6674  3e-01   1  1  1 |  0  0\n",
      "11  +4.955e+00  -3.172e+02  +5e+01  4e-05  2e-05  1e+00  4e-02  0.9890  4e-01   1  1  2 |  0  0\n",
      "12  +6.307e+00  -2.143e+02  +2e+01  3e-05  1e-05  2e+00  1e-02  0.9312  3e-01   2  1  1 |  0  0\n",
      "13  +7.984e+01  +4.641e+01  +4e-01  1e-05  6e-06  6e+01  3e-04  0.9861  5e-04   2  2  2 |  0  0\n",
      "14  +6.583e+03  +1.189e+04  +5e-03  1e-05  6e-06  5e+03  4e-06  0.9890  1e-04   2  2  2 |  0  0\n",
      "15  +5.925e+05  +1.079e+06  +5e-05  3e-05  6e-06  5e+05  4e-08  0.9890  1e-04   2  2  3 |  0  0\n",
      "\n",
      "PRIMAL INFEASIBLE (within feastol=8.5e-10).\n",
      "Runtime: 0.074646 seconds.\n",
      "\n",
      "0 \t2.00 \t\tinf \t\tinf\n",
      "\n",
      "ECOS 2.0.10 - (C) embotech GmbH, Zurich Switzerland, 2012-15. Web: www.embotech.com/ECOS\n",
      "\n",
      "It     pcost       dcost      gap   pres   dres    k/t    mu     step   sigma     IR    |   BT\n",
      " 0  +4.384e+01  -3.060e+05  +3e+05  2e-02  5e-01  1e+00  3e+02    ---    ---    1  1  - |  -  - \n",
      " 1  +1.893e+00  -5.028e+04  +6e+04  3e-03  1e-01  4e+00  4e+01  0.8462  2e-02   1  1  1 |  0  0\n",
      " 2  +2.796e+00  -9.587e+03  +1e+04  6e-04  3e-02  3e+00  8e+00  0.8554  6e-02   1  1  1 |  0  0\n",
      " 3  +2.412e+00  -4.832e+02  +6e+02  3e-05  3e-03  2e-01  4e-01  0.9570  9e-03   1  1  1 |  0  0\n",
      " 4  +2.050e+00  -7.287e+00  +1e+01  6e-07  7e-05  3e-03  8e-03  0.9808  1e-04   1  1  1 |  0  0\n",
      " 5  +2.012e+00  -8.798e-01  +3e+00  2e-07  2e-05  1e-03  3e-03  0.7027  2e-02   1  1  1 |  0  0\n",
      " 6  +2.002e+00  +1.652e+00  +4e-01  2e-08  2e-06  1e-04  3e-04  0.8878  1e-02   2  1  1 |  0  0\n",
      " 7  +2.000e+00  +1.981e+00  +2e-02  1e-09  1e-07  1e-05  2e-05  0.9890  4e-02   2  1  1 |  0  0\n",
      " 8  +2.000e+00  +2.000e+00  +3e-04  1e-11  2e-09  2e-07  2e-07  0.9884  1e-04   2  1  1 |  0  0\n",
      " 9  +2.000e+00  +2.000e+00  +5e-06  3e-13  3e-11  3e-09  4e-09  0.9801  1e-04   2  1  1 |  0  0\n",
      "10  +2.000e+00  +2.000e+00  +2e-07  9e-15  1e-12  1e-10  1e-10  0.9667  3e-04   1  1  1 |  0  0\n",
      "11  +2.000e+00  +2.000e+00  +4e-09  2e-16  3e-14  2e-12  3e-12  0.9787  3e-04   1  1  1 |  0  0\n",
      "\n",
      "OPTIMAL (within feastol=2.5e-14, reltol=1.9e-09, abstol=3.8e-09).\n",
      "Runtime: 0.088444 seconds.\n",
      "\n",
      "\n",
      "ECOS 2.0.10 - (C) embotech GmbH, Zurich Switzerland, 2012-15. Web: www.embotech.com/ECOS\n",
      "\n",
      "It     pcost       dcost      gap   pres   dres    k/t    mu     step   sigma     IR    |   BT\n",
      " 0  +4.384e+01  -3.031e+05  +3e+05  2e-02  5e-01  1e+00  3e+02    ---    ---    1  1  - |  -  - \n",
      " 1  +9.145e-01  -5.519e+04  +6e+04  4e-03  1e-01  7e+00  5e+01  0.8461  3e-02   1  1  1 |  0  0\n",
      " 2  +5.401e+00  -3.767e+04  +4e+04  3e-03  4e-02  9e+00  3e+01  0.4274  2e-01   1  1  1 |  0  0\n",
      " 3  +3.029e+00  -1.116e+04  +1e+04  7e-04  1e-02  3e+00  9e+00  0.7274  3e-02   1  1  1 |  0  0\n",
      " 4  +4.593e+00  -7.115e+03  +7e+03  5e-04  4e-03  4e+00  5e+00  0.6151  3e-01   1  1  1 |  0  0\n",
      " 5  +3.611e+00  -2.225e+03  +2e+03  2e-04  1e-03  1e+00  2e+00  0.6966  2e-02   1  1  1 |  0  0\n",
      " 6  +3.173e+00  -1.198e+03  +1e+03  8e-05  6e-04  7e-01  9e-01  0.5322  1e-01   1  1  1 |  0  0\n",
      " 7  +2.923e+00  -7.949e+02  +8e+02  6e-05  3e-04  5e-01  6e-01  0.4134  1e-01   1  1  1 |  0  0\n",
      " 8  +2.875e+00  -5.110e+02  +4e+02  4e-05  1e-04  5e-01  3e-01  0.6391  3e-01   1  1  1 |  0  0\n",
      " 9  +2.914e+00  -4.341e+02  +3e+02  3e-05  1e-04  4e-01  3e-01  0.4529  5e-01   1  1  1 |  0  0\n",
      "10  +3.006e+00  -4.385e+02  +3e+02  3e-05  9e-05  5e-01  2e-01  0.1860  7e-01   1  1  1 |  0  0\n",
      "11  +2.989e+00  -3.338e+02  +2e+02  3e-05  5e-05  4e-01  2e-01  0.5320  3e-01   1  1  1 |  0  0\n",
      "12  +4.070e+00  -3.643e+02  +1e+02  4e-05  3e-05  8e-01  8e-02  0.9890  5e-01   1  1  1 |  0  0\n",
      "13  +6.491e+00  -2.255e+02  +2e+01  3e-05  2e-05  2e+00  2e-02  0.8394  2e-02   2  1  2 |  0  0\n",
      "14  +6.797e+01  +1.900e+01  +6e-01  2e-05  6e-06  5e+01  4e-04  0.9849  7e-04   2  1  2 |  0  0\n",
      "15  +5.404e+03  +1.006e+04  +7e-03  2e-05  6e-06  5e+03  5e-06  0.9890  1e-04   1  1  1 |  0  0\n",
      "16  +4.861e+05  +9.147e+05  +7e-05  2e-05  6e-06  4e+05  6e-08  0.9890  1e-04   2  3  2 |  0  0\n",
      "\n",
      "PRIMAL INFEASIBLE (within feastol=9.8e-10).\n",
      "Runtime: 0.082504 seconds.\n",
      "\n",
      "\n",
      "ECOS 2.0.10 - (C) embotech GmbH, Zurich Switzerland, 2012-15. Web: www.embotech.com/ECOS\n",
      "\n",
      "It     pcost       dcost      gap   pres   dres    k/t    mu     step   sigma     IR    |   BT\n",
      " 0  +4.384e+01  -3.060e+05  +3e+05  2e-02  5e-01  1e+00  3e+02    ---    ---    1  1  - |  -  - \n",
      " 1  +2.472e-03  -4.958e+04  +6e+04  3e-03  1e-01  6e+00  4e+01  0.8580  3e-02   1  1  1 |  0  0\n",
      " 2  +4.252e+00  -2.097e+04  +2e+04  1e-03  5e-02  5e+00  2e+01  0.6519  1e-01   1  1  1 |  0  0\n",
      " 3  +2.875e+00  -3.429e+03  +4e+03  2e-04  1e-02  2e+00  3e+00  0.8876  6e-02   1  1  1 |  0  0\n",
      " 4  +2.402e+00  -4.685e+01  +6e+01  3e-06  3e-04  2e-02  4e-02  0.9854  1e-04   1  1  1 |  0  0\n",
      " 5  +2.036e+00  -1.350e+00  +4e+00  2e-07  2e-05  1e-03  3e-03  0.9315  4e-04   1  1  1 |  0  0\n",
      " 6  +2.003e+00  +1.727e+00  +3e-01  2e-08  2e-06  1e-04  2e-04  0.9504  3e-02   2  1  1 |  0  0\n",
      " 7  +2.000e+00  +1.985e+00  +2e-02  9e-10  8e-08  1e-05  1e-05  0.9779  3e-02   2  1  1 |  0  0\n",
      " 8  +2.000e+00  +2.000e+00  +2e-04  1e-11  9e-10  1e-07  1e-07  0.9890  1e-04   2  1  1 |  0  0\n",
      " 9  +2.000e+00  +2.000e+00  +3e-06  1e-13  1e-11  2e-09  2e-09  0.9864  1e-04   2  1  1 |  0  0\n",
      "10  +2.000e+00  +2.000e+00  +1e-07  5e-15  4e-13  5e-11  7e-11  0.9648  1e-04   1  1  1 |  0  0\n",
      "11  +2.000e+00  +2.000e+00  +3e-09  2e-16  2e-14  2e-12  3e-12  0.9655  2e-03   1  1  1 |  0  0\n",
      "\n",
      "OPTIMAL (within feastol=1.9e-14, reltol=1.7e-09, abstol=3.5e-09).\n",
      "Runtime: 0.052794 seconds.\n",
      "\n",
      "\n",
      "ECOS 2.0.10 - (C) embotech GmbH, Zurich Switzerland, 2012-15. Web: www.embotech.com/ECOS\n",
      "\n",
      "It     pcost       dcost      gap   pres   dres    k/t    mu     step   sigma     IR    |   BT\n",
      " 0  +4.384e+01  -3.031e+05  +3e+05  2e-02  5e-01  1e+00  3e+02    ---    ---    1  1  - |  -  - \n",
      " 1  +1.187e+00  -5.637e+04  +6e+04  4e-03  1e-01  7e+00  5e+01  0.8419  3e-02   1  1  1 |  0  0\n",
      " 2  +5.610e+00  -3.652e+04  +4e+04  2e-03  4e-02  8e+00  3e+01  0.4624  2e-01   1  1  1 |  0  0\n",
      " 3  +2.958e+00  -9.499e+03  +1e+04  6e-04  9e-03  3e+00  8e+00  0.7654  4e-02   1  1  1 |  0  0\n",
      " 4  +4.425e+00  -5.917e+03  +6e+03  4e-04  3e-03  3e+00  4e+00  0.6369  3e-01   1  1  1 |  0  0\n",
      " 5  +3.537e+00  -1.734e+03  +2e+03  1e-04  9e-04  1e+00  1e+00  0.7538  7e-02   1  1  1 |  0  0\n",
      " 6  +2.853e+00  -5.921e+02  +6e+02  4e-05  3e-04  4e-01  4e-01  0.7135  8e-02   1  1  1 |  0  0\n",
      " 7  +2.300e+00  -1.449e+02  +1e+02  1e-05  7e-05  1e-01  1e-01  0.8227  8e-02   1  1  1 |  0  0\n",
      " 8  +2.053e+00  -2.120e+01  +2e+01  2e-06  1e-05  2e-02  2e-02  0.8541  1e-02   1  1  1 |  0  0\n",
      " 9  +2.002e+00  +1.485e+00  +5e-01  4e-08  2e-07  5e-04  4e-04  0.9843  7e-03   1  1  1 |  0  0\n",
      "10  +2.000e+00  +1.900e+00  +1e-01  7e-09  5e-08  1e-04  7e-05  0.8277  2e-02   2  1  1 |  0  0\n",
      "11  +2.000e+00  +1.996e+00  +5e-03  4e-10  2e-09  5e-06  4e-06  0.9890  3e-02   2  1  1 |  0  0\n",
      "12  +2.000e+00  +2.000e+00  +6e-05  5e-12  3e-11  7e-08  5e-08  0.9866  1e-04   2  1  1 |  0  0\n",
      "13  +2.000e+00  +2.000e+00  +7e-07  6e-14  3e-13  7e-10  5e-10  0.9890  1e-04   2  1  1 |  0  0\n",
      "-------------------------------------------------------------------------------\n",
      "                                    Summary                                    \n",
      "-------------------------------------------------------------------------------\n",
      "(CVXPY) Sep 11 01:18:07 AM: Problem status: optimal\n",
      "14  +2.000e+00  +2.000e+00  +8e-09  6e-16  4e-15  8e-12  6e-12  0.9890  1e-04   1  1  1 |  0  0\n",
      "\n",
      "OPTIMAL (within feastol=3.6e-15, reltol=3.9e-09, abstol=7.9e-09).\n",
      "Runtime: 0.073784 seconds.\n",
      "\n",
      "1 \t2.00 \t\t2.00 \t\t0.00\n",
      "(CVXPY) Sep 11 01:18:07 AM: Optimal value: 2.000e+00\n",
      "(CVXPY) Sep 11 01:18:07 AM: Compilation took 3.186e-02 seconds\n",
      "(CVXPY) Sep 11 01:18:07 AM: Solver (including time spent in interface) took 3.991e-01 seconds\n"
     ]
    },
    {
     "data": {
      "text/plain": [
       "2.0000400000558085"
      ]
     },
     "execution_count": 77,
     "metadata": {},
     "output_type": "execute_result"
    }
   ],
   "source": [
    "# Create the optimization problem\n",
    "prob = cp.Problem(obj, constraints)\n",
    "\n",
    "# Solve the optimization problem\n",
    "\n",
    "# prob.solve(solver=cp.GUROBI, verbose=True)\n",
    "\n",
    "prob.solve(solver=cp.ECOS_BB, verbose=True)\n",
    "\n",
    "# prob.solve()"
   ]
  },
  {
   "cell_type": "code",
   "execution_count": 78,
   "metadata": {},
   "outputs": [
    {
     "data": {
      "text/plain": [
       "array([0.02    , 0.034125, 0.034125, 0.02    , 0.04    , 0.034125,\n",
       "       0.034125, 0.034125, 0.034125, 0.034125, 0.034125])"
      ]
     },
     "execution_count": 78,
     "metadata": {},
     "output_type": "execute_result"
    }
   ],
   "source": [
    "ssp.LDOPF.om.pg.value"
   ]
  },
  {
   "cell_type": "code",
   "execution_count": 79,
   "metadata": {},
   "outputs": [
    {
     "data": {
      "text/plain": [
       "array([2.10896344, 1.98463812, 1.20535186, 0.        , 0.60258141,\n",
       "       1.84866789, 0.00000002, 1.39945783])"
      ]
     },
     "execution_count": 79,
     "metadata": {},
     "output_type": "execute_result"
    }
   ],
   "source": [
    "M.value"
   ]
  },
  {
   "cell_type": "code",
   "execution_count": 80,
   "metadata": {},
   "outputs": [
    {
     "data": {
      "text/plain": [
       "array([1.07666985, 1.41347357, 0.95029634, 0.68100324, 2.15107547,\n",
       "       1.45529528, 1.68911178, 1.0344042 ])"
      ]
     },
     "execution_count": 80,
     "metadata": {},
     "output_type": "execute_result"
    }
   ],
   "source": [
    "D.value"
   ]
  },
  {
   "cell_type": "markdown",
   "metadata": {},
   "source": [
    "# "
   ]
  }
 ],
 "metadata": {
  "kernelspec": {
   "display_name": "andes",
   "language": "python",
   "name": "python3"
  },
  "language_info": {
   "codemirror_mode": {
    "name": "ipython",
    "version": 3
   },
   "file_extension": ".py",
   "mimetype": "text/x-python",
   "name": "python",
   "nbconvert_exporter": "python",
   "pygments_lexer": "ipython3",
   "version": "3.9.17"
  },
  "orig_nbformat": 4
 },
 "nbformat": 4,
 "nbformat_minor": 2
}
