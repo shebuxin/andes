{
 "cells": [
  {
   "cell_type": "code",
   "execution_count": 1,
   "metadata": {},
   "outputs": [],
   "source": [
    "import andes\n",
    "import os\n",
    "import numpy as np\n",
    "import csv\n",
    "\n",
    "import matplotlib\n",
    "%matplotlib inline"
   ]
  },
  {
   "cell_type": "markdown",
   "metadata": {},
   "source": [
    "Example code for batch data generation:\n",
    "\n",
    "https://docs.andes.app/en/latest/_examples/ex6.html\n",
    "\n",
    "# Define case path"
   ]
  },
  {
   "cell_type": "code",
   "execution_count": 2,
   "metadata": {},
   "outputs": [],
   "source": [
    "andes.config_logger(stream_level=50)\n",
    "# 10-DEBUG，20-INFO30WARNING，40-ERROR，50-CRITICAL\n",
    "\n",
    "# case path\n",
    "dir_path = os.path.abspath('..')\n",
    "loc_path_case = '/Batch_data_gen_NN_train/case123_REGCV1_v5.xlsx'\n",
    "\n",
    "case = dir_path + loc_path_case"
   ]
  },
  {
   "cell_type": "markdown",
   "metadata": {},
   "source": [
    "# Generate settings data\n",
    "\n",
    "### Input data:\n",
    "\n",
    "**sf_load**: load scaling factor <br> Range: [0.5, 2.5]\n",
    "\n",
    "**p0_gen**: p0 for generators <br> [SG1, SG2, IBR1, IBR2, IBR3, IBR4, IBR5, IBR6, IBR7, IBR8] <br> Reange for each SG: [0, 0.5], Reange for each IBR: [0, 0.05]\n",
    "\n",
    "**m_ibr**: virtual inertia for REGCV1 <br> [M1, M2, M3, M4, M5, M6, M7, M8], Range for each M: [0, 6]\n",
    "\n",
    "**n_ibr**: virtual damping for REGCV1 <br> [D1, D2, D3, D4, D5, D6, D7, D8], Range for each M: [0, 4]\n",
    "\n",
    "**input** = [m_ibr, n_ibr]"
   ]
  },
  {
   "cell_type": "code",
   "execution_count": 3,
   "metadata": {},
   "outputs": [],
   "source": [
    "import numpy as np\n",
    "\n",
    "# Define the number of data points you want\n",
    "num_samples = 1000  # You can change this as needed\n",
    "\n",
    "# Define the ranges for each variable\n",
    "sf_load_range = [0.9, 1.1]\n",
    "p0_gen_sg_range = [0.1, 0.5]\n",
    "p0_gen_ibr_range = [0, 0.05]\n",
    "m_ibr_range = [0, 6]\n",
    "n_ibr_range = [0, 4]\n",
    "\n",
    "# Initialize an empty list to store valid data points\n",
    "input     = []\n",
    "input_new = []\n",
    "\n",
    "# Generate random data until you have enough valid points\n",
    "for _ in range(num_samples):\n",
    "    # Generate random values for each variable\n",
    "    sf_load = np.random.uniform(sf_load_range[0], sf_load_range[1])\n",
    "    sf_load = np.array([sf_load])\n",
    "    \n",
    "    # Generate random values for p0_gen with constraints\n",
    "    p0_gen_sg = np.random.uniform(p0_gen_sg_range[0], p0_gen_sg_range[1], 2)\n",
    "    p0_gen_ibr = np.random.uniform(p0_gen_ibr_range[0], p0_gen_ibr_range[1], 8)\n",
    "    p0_gen = np.concatenate((p0_gen_sg, p0_gen_ibr))\n",
    "    p0_gen = p0_gen/np.sum(p0_gen)*3.53/10*0.9 # 3.53 is base load, 10 to change Sbase from andes to previous 100MVA\n",
    "                                               # 0.9 is the scaling factor, leave 0.1 slack bus\n",
    "\n",
    "    # Generate random values for m_ibr and n_ibr\n",
    "    m_ibr = np.random.uniform(m_ibr_range[0], m_ibr_range[1], 8)\n",
    "    n_ibr = np.random.uniform(n_ibr_range[0], n_ibr_range[1], 8)\n",
    "    \n",
    "    # Combine all the data into one array\n",
    "    combine     = np.concatenate((sf_load, p0_gen, m_ibr, n_ibr))\n",
    "    combine_new = np.concatenate((m_ibr, n_ibr))\n",
    "\n",
    "    # Append the generated data to the valid_data list\n",
    "    input.append(combine)\n",
    "    input_new.append(combine_new)\n"
   ]
  },
  {
   "cell_type": "markdown",
   "metadata": {},
   "source": [
    "# Batch data generation\n",
    "\n",
    "### Output data\n",
    "\n",
    "**rocof_max**: Hz/s, maximum rate of change of frequency\n",
    "\n",
    "**fnadir** Hz, lowest nadir deviation\n",
    "\n",
    "**dtheta_max**: rad, maximum angle difference\n",
    "\n",
    "**busV_min**: pu, minmum voltage\n",
    "\n",
    "**eig_max**: maximum eigenvalue before gen trip\n",
    "\n",
    "**eig_max_**: maximum eigenvalue after gen trip\n",
    "\n",
    "eig_max = max (eig_max, eig_max_)\n",
    "\n",
    "**Output** = [rocof_max, fnadir, dtheta_max, eig_max]"
   ]
  },
  {
   "cell_type": "code",
   "execution_count": 4,
   "metadata": {},
   "outputs": [
    {
     "name": "stdout",
     "output_type": "stream",
     "text": [
      "<Toggle Toggler_1>: GENROU.GENROU_2 status changed to 0 at t=1.0 sec.\n",
      "<Toggle Toggler_1>: GENROU.GENROU_2 status changed to 0 at t=1.0 sec.\n",
      "<Toggle Toggler_1>: GENROU.GENROU_2 status changed to 0 at t=1.0 sec.\n",
      "<Toggle Toggler_1>: GENROU.GENROU_2 status changed to 0 at t=1.0 sec.\n",
      "<Toggle Toggler_1>: GENROU.GENROU_2 status changed to 0 at t=1.0 sec.\n",
      "<Toggle Toggler_1>: GENROU.GENROU_2 status changed to 0 at t=1.0 sec.\n",
      "<Toggle Toggler_1>: GENROU.GENROU_2 status changed to 0 at t=1.0 sec.\n",
      "<Toggle Toggler_1>: GENROU.GENROU_2 status changed to 0 at t=1.0 sec.\n",
      "<Toggle Toggler_1>: GENROU.GENROU_2 status changed to 0 at t=1.0 sec.\n",
      "<Toggle Toggler_1>: GENROU.GENROU_2 status changed to 0 at t=1.0 sec.\n",
      "<Toggle Toggler_1>: GENROU.GENROU_2 status changed to 0 at t=1.0 sec.\n"
     ]
    },
    {
     "name": "stderr",
     "output_type": "stream",
     "text": [
      "/home/buxin/andes/andes/routines/eig.py:222: LinAlgWarning: Ill-conditioned matrix (rcond=9.38493e-20): result may not be accurate.\n",
      "  WT = solve(N, Weye, overwrite_b=True)\n"
     ]
    },
    {
     "name": "stdout",
     "output_type": "stream",
     "text": [
      "<Toggle Toggler_1>: GENROU.GENROU_2 status changed to 0 at t=1.0 sec.\n",
      "<Toggle Toggler_1>: GENROU.GENROU_2 status changed to 0 at t=1.0 sec.\n",
      "<Toggle Toggler_1>: GENROU.GENROU_2 status changed to 0 at t=1.0 sec.\n",
      "<Toggle Toggler_1>: GENROU.GENROU_2 status changed to 0 at t=1.0 sec.\n",
      "<Toggle Toggler_1>: GENROU.GENROU_2 status changed to 0 at t=1.0 sec.\n",
      "<Toggle Toggler_1>: GENROU.GENROU_2 status changed to 0 at t=1.0 sec.\n",
      "<Toggle Toggler_1>: GENROU.GENROU_2 status changed to 0 at t=1.0 sec.\n"
     ]
    },
    {
     "name": "stderr",
     "output_type": "stream",
     "text": [
      "/home/buxin/andes/andes/routines/eig.py:222: LinAlgWarning: Ill-conditioned matrix (rcond=2.87894e-17): result may not be accurate.\n",
      "  WT = solve(N, Weye, overwrite_b=True)\n"
     ]
    },
    {
     "name": "stdout",
     "output_type": "stream",
     "text": [
      "<Toggle Toggler_1>: GENROU.GENROU_2 status changed to 0 at t=1.0 sec.\n",
      "<Toggle Toggler_1>: GENROU.GENROU_2 status changed to 0 at t=1.0 sec.\n",
      "<Toggle Toggler_1>: GENROU.GENROU_2 status changed to 0 at t=1.0 sec.\n",
      "<Toggle Toggler_1>: GENROU.GENROU_2 status changed to 0 at t=1.0 sec.\n",
      "<Toggle Toggler_1>: GENROU.GENROU_2 status changed to 0 at t=1.0 sec.\n",
      "<Toggle Toggler_1>: GENROU.GENROU_2 status changed to 0 at t=1.0 sec.\n",
      "<Toggle Toggler_1>: GENROU.GENROU_2 status changed to 0 at t=1.0 sec.\n"
     ]
    },
    {
     "name": "stderr",
     "output_type": "stream",
     "text": [
      "/home/buxin/andes/andes/routines/eig.py:222: LinAlgWarning: Ill-conditioned matrix (rcond=6.42073e-18): result may not be accurate.\n",
      "  WT = solve(N, Weye, overwrite_b=True)\n"
     ]
    },
    {
     "name": "stdout",
     "output_type": "stream",
     "text": [
      "<Toggle Toggler_1>: GENROU.GENROU_2 status changed to 0 at t=1.0 sec.\n",
      "<Toggle Toggler_1>: GENROU.GENROU_2 status changed to 0 at t=1.0 sec.\n",
      "<Toggle Toggler_1>: GENROU.GENROU_2 status changed to 0 at t=1.0 sec.\n",
      "<Toggle Toggler_1>: GENROU.GENROU_2 status changed to 0 at t=1.0 sec.\n",
      "<Toggle Toggler_1>: GENROU.GENROU_2 status changed to 0 at t=1.0 sec.\n",
      "<Toggle Toggler_1>: GENROU.GENROU_2 status changed to 0 at t=1.0 sec.\n",
      "<Toggle Toggler_1>: GENROU.GENROU_2 status changed to 0 at t=1.0 sec.\n",
      "<Toggle Toggler_1>: GENROU.GENROU_2 status changed to 0 at t=1.0 sec.\n",
      "<Toggle Toggler_1>: GENROU.GENROU_2 status changed to 0 at t=1.0 sec.\n",
      "<Toggle Toggler_1>: GENROU.GENROU_2 status changed to 0 at t=1.0 sec.\n",
      "<Toggle Toggler_1>: GENROU.GENROU_2 status changed to 0 at t=1.0 sec.\n",
      "<Toggle Toggler_1>: GENROU.GENROU_2 status changed to 0 at t=1.0 sec.\n"
     ]
    },
    {
     "name": "stderr",
     "output_type": "stream",
     "text": [
      "/home/buxin/andes/andes/routines/eig.py:222: LinAlgWarning: Ill-conditioned matrix (rcond=1.44168e-17): result may not be accurate.\n",
      "  WT = solve(N, Weye, overwrite_b=True)\n"
     ]
    },
    {
     "name": "stdout",
     "output_type": "stream",
     "text": [
      "<Toggle Toggler_1>: GENROU.GENROU_2 status changed to 0 at t=1.0 sec.\n"
     ]
    },
    {
     "name": "stderr",
     "output_type": "stream",
     "text": [
      "/home/buxin/andes/andes/routines/eig.py:222: LinAlgWarning: Ill-conditioned matrix (rcond=1.15448e-17): result may not be accurate.\n",
      "  WT = solve(N, Weye, overwrite_b=True)\n"
     ]
    },
    {
     "name": "stdout",
     "output_type": "stream",
     "text": [
      "<Toggle Toggler_1>: GENROU.GENROU_2 status changed to 0 at t=1.0 sec.\n",
      "<Toggle Toggler_1>: GENROU.GENROU_2 status changed to 0 at t=1.0 sec.\n"
     ]
    },
    {
     "name": "stderr",
     "output_type": "stream",
     "text": [
      "/home/buxin/andes/andes/routines/eig.py:222: LinAlgWarning: Ill-conditioned matrix (rcond=2.28092e-19): result may not be accurate.\n",
      "  WT = solve(N, Weye, overwrite_b=True)\n"
     ]
    },
    {
     "name": "stdout",
     "output_type": "stream",
     "text": [
      "<Toggle Toggler_1>: GENROU.GENROU_2 status changed to 0 at t=1.0 sec.\n",
      "<Toggle Toggler_1>: GENROU.GENROU_2 status changed to 0 at t=1.0 sec.\n",
      "<Toggle Toggler_1>: GENROU.GENROU_2 status changed to 0 at t=1.0 sec.\n",
      "<Toggle Toggler_1>: GENROU.GENROU_2 status changed to 0 at t=1.0 sec.\n",
      "<Toggle Toggler_1>: GENROU.GENROU_2 status changed to 0 at t=1.0 sec.\n",
      "<Toggle Toggler_1>: GENROU.GENROU_2 status changed to 0 at t=1.0 sec.\n",
      "<Toggle Toggler_1>: GENROU.GENROU_2 status changed to 0 at t=1.0 sec.\n",
      "<Toggle Toggler_1>: GENROU.GENROU_2 status changed to 0 at t=1.0 sec.\n",
      "<Toggle Toggler_1>: GENROU.GENROU_2 status changed to 0 at t=1.0 sec.\n",
      "<Toggle Toggler_1>: GENROU.GENROU_2 status changed to 0 at t=1.0 sec.\n",
      "<Toggle Toggler_1>: GENROU.GENROU_2 status changed to 0 at t=1.0 sec.\n",
      "<Toggle Toggler_1>: GENROU.GENROU_2 status changed to 0 at t=1.0 sec.\n",
      "<Toggle Toggler_1>: GENROU.GENROU_2 status changed to 0 at t=1.0 sec.\n",
      "<Toggle Toggler_1>: GENROU.GENROU_2 status changed to 0 at t=1.0 sec.\n",
      "<Toggle Toggler_1>: GENROU.GENROU_2 status changed to 0 at t=1.0 sec.\n",
      "<Toggle Toggler_1>: GENROU.GENROU_2 status changed to 0 at t=1.0 sec.\n",
      "<Toggle Toggler_1>: GENROU.GENROU_2 status changed to 0 at t=1.0 sec.\n",
      "<Toggle Toggler_1>: GENROU.GENROU_2 status changed to 0 at t=1.0 sec.\n",
      "<Toggle Toggler_1>: GENROU.GENROU_2 status changed to 0 at t=1.0 sec.\n",
      "<Toggle Toggler_1>: GENROU.GENROU_2 status changed to 0 at t=1.0 sec.\n",
      "<Toggle Toggler_1>: GENROU.GENROU_2 status changed to 0 at t=1.0 sec.\n",
      "<Toggle Toggler_1>: GENROU.GENROU_2 status changed to 0 at t=1.0 sec.\n"
     ]
    },
    {
     "name": "stderr",
     "output_type": "stream",
     "text": [
      "/home/buxin/andes/andes/routines/eig.py:222: LinAlgWarning: Ill-conditioned matrix (rcond=1.68364e-23): result may not be accurate.\n",
      "  WT = solve(N, Weye, overwrite_b=True)\n"
     ]
    },
    {
     "name": "stdout",
     "output_type": "stream",
     "text": [
      "<Toggle Toggler_1>: GENROU.GENROU_2 status changed to 0 at t=1.0 sec.\n",
      "<Toggle Toggler_1>: GENROU.GENROU_2 status changed to 0 at t=1.0 sec.\n",
      "<Toggle Toggler_1>: GENROU.GENROU_2 status changed to 0 at t=1.0 sec.\n",
      "<Toggle Toggler_1>: GENROU.GENROU_2 status changed to 0 at t=1.0 sec.\n",
      "<Toggle Toggler_1>: GENROU.GENROU_2 status changed to 0 at t=1.0 sec.\n",
      "<Toggle Toggler_1>: GENROU.GENROU_2 status changed to 0 at t=1.0 sec.\n",
      "<Toggle Toggler_1>: GENROU.GENROU_2 status changed to 0 at t=1.0 sec.\n",
      "<Toggle Toggler_1>: GENROU.GENROU_2 status changed to 0 at t=1.0 sec.\n",
      "<Toggle Toggler_1>: GENROU.GENROU_2 status changed to 0 at t=1.0 sec.\n",
      "<Toggle Toggler_1>: GENROU.GENROU_2 status changed to 0 at t=1.0 sec.\n",
      "<Toggle Toggler_1>: GENROU.GENROU_2 status changed to 0 at t=1.0 sec.\n",
      "<Toggle Toggler_1>: GENROU.GENROU_2 status changed to 0 at t=1.0 sec.\n",
      "<Toggle Toggler_1>: GENROU.GENROU_2 status changed to 0 at t=1.0 sec.\n",
      "<Toggle Toggler_1>: GENROU.GENROU_2 status changed to 0 at t=1.0 sec.\n",
      "<Toggle Toggler_1>: GENROU.GENROU_2 status changed to 0 at t=1.0 sec.\n",
      "<Toggle Toggler_1>: GENROU.GENROU_2 status changed to 0 at t=1.0 sec.\n",
      "<Toggle Toggler_1>: GENROU.GENROU_2 status changed to 0 at t=1.0 sec.\n",
      "<Toggle Toggler_1>: GENROU.GENROU_2 status changed to 0 at t=1.0 sec.\n",
      "<Toggle Toggler_1>: GENROU.GENROU_2 status changed to 0 at t=1.0 sec.\n",
      "<Toggle Toggler_1>: GENROU.GENROU_2 status changed to 0 at t=1.0 sec.\n",
      "<Toggle Toggler_1>: GENROU.GENROU_2 status changed to 0 at t=1.0 sec.\n",
      "<Toggle Toggler_1>: GENROU.GENROU_2 status changed to 0 at t=1.0 sec.\n",
      "<Toggle Toggler_1>: GENROU.GENROU_2 status changed to 0 at t=1.0 sec.\n",
      "<Toggle Toggler_1>: GENROU.GENROU_2 status changed to 0 at t=1.0 sec.\n",
      "<Toggle Toggler_1>: GENROU.GENROU_2 status changed to 0 at t=1.0 sec.\n"
     ]
    },
    {
     "name": "stderr",
     "output_type": "stream",
     "text": [
      "/home/buxin/andes/andes/routines/eig.py:222: LinAlgWarning: Ill-conditioned matrix (rcond=1.30827e-19): result may not be accurate.\n",
      "  WT = solve(N, Weye, overwrite_b=True)\n"
     ]
    },
    {
     "name": "stdout",
     "output_type": "stream",
     "text": [
      "<Toggle Toggler_1>: GENROU.GENROU_2 status changed to 0 at t=1.0 sec.\n",
      "<Toggle Toggler_1>: GENROU.GENROU_2 status changed to 0 at t=1.0 sec.\n",
      "<Toggle Toggler_1>: GENROU.GENROU_2 status changed to 0 at t=1.0 sec.\n",
      "<Toggle Toggler_1>: GENROU.GENROU_2 status changed to 0 at t=1.0 sec.\n",
      "<Toggle Toggler_1>: GENROU.GENROU_2 status changed to 0 at t=1.0 sec.\n",
      "<Toggle Toggler_1>: GENROU.GENROU_2 status changed to 0 at t=1.0 sec.\n",
      "<Toggle Toggler_1>: GENROU.GENROU_2 status changed to 0 at t=1.0 sec.\n",
      "<Toggle Toggler_1>: GENROU.GENROU_2 status changed to 0 at t=1.0 sec.\n",
      "<Toggle Toggler_1>: GENROU.GENROU_2 status changed to 0 at t=1.0 sec.\n",
      "<Toggle Toggler_1>: GENROU.GENROU_2 status changed to 0 at t=1.0 sec.\n",
      "<Toggle Toggler_1>: GENROU.GENROU_2 status changed to 0 at t=1.0 sec.\n",
      "<Toggle Toggler_1>: GENROU.GENROU_2 status changed to 0 at t=1.0 sec.\n",
      "<Toggle Toggler_1>: GENROU.GENROU_2 status changed to 0 at t=1.0 sec.\n",
      "<Toggle Toggler_1>: GENROU.GENROU_2 status changed to 0 at t=1.0 sec.\n",
      "<Toggle Toggler_1>: GENROU.GENROU_2 status changed to 0 at t=1.0 sec.\n",
      "<Toggle Toggler_1>: GENROU.GENROU_2 status changed to 0 at t=1.0 sec.\n",
      "<Toggle Toggler_1>: GENROU.GENROU_2 status changed to 0 at t=1.0 sec.\n",
      "<Toggle Toggler_1>: GENROU.GENROU_2 status changed to 0 at t=1.0 sec.\n",
      "<Toggle Toggler_1>: GENROU.GENROU_2 status changed to 0 at t=1.0 sec.\n",
      "<Toggle Toggler_1>: GENROU.GENROU_2 status changed to 0 at t=1.0 sec.\n",
      "<Toggle Toggler_1>: GENROU.GENROU_2 status changed to 0 at t=1.0 sec.\n",
      "<Toggle Toggler_1>: GENROU.GENROU_2 status changed to 0 at t=1.0 sec.\n",
      "<Toggle Toggler_1>: GENROU.GENROU_2 status changed to 0 at t=1.0 sec.\n",
      "<Toggle Toggler_1>: GENROU.GENROU_2 status changed to 0 at t=1.0 sec.\n",
      "<Toggle Toggler_1>: GENROU.GENROU_2 status changed to 0 at t=1.0 sec.\n",
      "<Toggle Toggler_1>: GENROU.GENROU_2 status changed to 0 at t=1.0 sec.\n",
      "<Toggle Toggler_1>: GENROU.GENROU_2 status changed to 0 at t=1.0 sec.\n",
      "<Toggle Toggler_1>: GENROU.GENROU_2 status changed to 0 at t=1.0 sec.\n",
      "<Toggle Toggler_1>: GENROU.GENROU_2 status changed to 0 at t=1.0 sec.\n",
      "<Toggle Toggler_1>: GENROU.GENROU_2 status changed to 0 at t=1.0 sec.\n",
      "<Toggle Toggler_1>: GENROU.GENROU_2 status changed to 0 at t=1.0 sec.\n",
      "<Toggle Toggler_1>: GENROU.GENROU_2 status changed to 0 at t=1.0 sec.\n",
      "<Toggle Toggler_1>: GENROU.GENROU_2 status changed to 0 at t=1.0 sec.\n",
      "<Toggle Toggler_1>: GENROU.GENROU_2 status changed to 0 at t=1.0 sec.\n",
      "<Toggle Toggler_1>: GENROU.GENROU_2 status changed to 0 at t=1.0 sec.\n",
      "<Toggle Toggler_1>: GENROU.GENROU_2 status changed to 0 at t=1.0 sec.\n",
      "<Toggle Toggler_1>: GENROU.GENROU_2 status changed to 0 at t=1.0 sec.\n",
      "<Toggle Toggler_1>: GENROU.GENROU_2 status changed to 0 at t=1.0 sec.\n",
      "<Toggle Toggler_1>: GENROU.GENROU_2 status changed to 0 at t=1.0 sec.\n",
      "<Toggle Toggler_1>: GENROU.GENROU_2 status changed to 0 at t=1.0 sec.\n",
      "<Toggle Toggler_1>: GENROU.GENROU_2 status changed to 0 at t=1.0 sec.\n",
      "<Toggle Toggler_1>: GENROU.GENROU_2 status changed to 0 at t=1.0 sec.\n",
      "<Toggle Toggler_1>: GENROU.GENROU_2 status changed to 0 at t=1.0 sec.\n",
      "<Toggle Toggler_1>: GENROU.GENROU_2 status changed to 0 at t=1.0 sec.\n",
      "<Toggle Toggler_1>: GENROU.GENROU_2 status changed to 0 at t=1.0 sec.\n",
      "<Toggle Toggler_1>: GENROU.GENROU_2 status changed to 0 at t=1.0 sec.\n",
      "<Toggle Toggler_1>: GENROU.GENROU_2 status changed to 0 at t=1.0 sec.\n",
      "<Toggle Toggler_1>: GENROU.GENROU_2 status changed to 0 at t=1.0 sec.\n",
      "<Toggle Toggler_1>: GENROU.GENROU_2 status changed to 0 at t=1.0 sec.\n",
      "<Toggle Toggler_1>: GENROU.GENROU_2 status changed to 0 at t=1.0 sec.\n",
      "<Toggle Toggler_1>: GENROU.GENROU_2 status changed to 0 at t=1.0 sec.\n",
      "<Toggle Toggler_1>: GENROU.GENROU_2 status changed to 0 at t=1.0 sec.\n",
      "<Toggle Toggler_1>: GENROU.GENROU_2 status changed to 0 at t=1.0 sec.\n",
      "<Toggle Toggler_1>: GENROU.GENROU_2 status changed to 0 at t=1.0 sec.\n",
      "<Toggle Toggler_1>: GENROU.GENROU_2 status changed to 0 at t=1.0 sec.\n",
      "<Toggle Toggler_1>: GENROU.GENROU_2 status changed to 0 at t=1.0 sec.\n",
      "<Toggle Toggler_1>: GENROU.GENROU_2 status changed to 0 at t=1.0 sec.\n",
      "<Toggle Toggler_1>: GENROU.GENROU_2 status changed to 0 at t=1.0 sec.\n",
      "<Toggle Toggler_1>: GENROU.GENROU_2 status changed to 0 at t=1.0 sec.\n",
      "<Toggle Toggler_1>: GENROU.GENROU_2 status changed to 0 at t=1.0 sec.\n",
      "<Toggle Toggler_1>: GENROU.GENROU_2 status changed to 0 at t=1.0 sec.\n",
      "<Toggle Toggler_1>: GENROU.GENROU_2 status changed to 0 at t=1.0 sec.\n",
      "<Toggle Toggler_1>: GENROU.GENROU_2 status changed to 0 at t=1.0 sec.\n",
      "<Toggle Toggler_1>: GENROU.GENROU_2 status changed to 0 at t=1.0 sec.\n",
      "<Toggle Toggler_1>: GENROU.GENROU_2 status changed to 0 at t=1.0 sec.\n",
      "<Toggle Toggler_1>: GENROU.GENROU_2 status changed to 0 at t=1.0 sec.\n",
      "<Toggle Toggler_1>: GENROU.GENROU_2 status changed to 0 at t=1.0 sec.\n",
      "<Toggle Toggler_1>: GENROU.GENROU_2 status changed to 0 at t=1.0 sec.\n"
     ]
    },
    {
     "name": "stderr",
     "output_type": "stream",
     "text": [
      "/home/buxin/andes/andes/routines/eig.py:222: LinAlgWarning: Ill-conditioned matrix (rcond=4.59728e-17): result may not be accurate.\n",
      "  WT = solve(N, Weye, overwrite_b=True)\n"
     ]
    },
    {
     "name": "stdout",
     "output_type": "stream",
     "text": [
      "<Toggle Toggler_1>: GENROU.GENROU_2 status changed to 0 at t=1.0 sec.\n",
      "<Toggle Toggler_1>: GENROU.GENROU_2 status changed to 0 at t=1.0 sec.\n",
      "<Toggle Toggler_1>: GENROU.GENROU_2 status changed to 0 at t=1.0 sec.\n",
      "<Toggle Toggler_1>: GENROU.GENROU_2 status changed to 0 at t=1.0 sec.\n",
      "<Toggle Toggler_1>: GENROU.GENROU_2 status changed to 0 at t=1.0 sec.\n",
      "<Toggle Toggler_1>: GENROU.GENROU_2 status changed to 0 at t=1.0 sec.\n",
      "<Toggle Toggler_1>: GENROU.GENROU_2 status changed to 0 at t=1.0 sec.\n",
      "<Toggle Toggler_1>: GENROU.GENROU_2 status changed to 0 at t=1.0 sec.\n",
      "<Toggle Toggler_1>: GENROU.GENROU_2 status changed to 0 at t=1.0 sec.\n",
      "<Toggle Toggler_1>: GENROU.GENROU_2 status changed to 0 at t=1.0 sec.\n",
      "<Toggle Toggler_1>: GENROU.GENROU_2 status changed to 0 at t=1.0 sec.\n",
      "<Toggle Toggler_1>: GENROU.GENROU_2 status changed to 0 at t=1.0 sec.\n",
      "<Toggle Toggler_1>: GENROU.GENROU_2 status changed to 0 at t=1.0 sec.\n",
      "<Toggle Toggler_1>: GENROU.GENROU_2 status changed to 0 at t=1.0 sec.\n",
      "<Toggle Toggler_1>: GENROU.GENROU_2 status changed to 0 at t=1.0 sec.\n",
      "<Toggle Toggler_1>: GENROU.GENROU_2 status changed to 0 at t=1.0 sec.\n",
      "<Toggle Toggler_1>: GENROU.GENROU_2 status changed to 0 at t=1.0 sec.\n",
      "<Toggle Toggler_1>: GENROU.GENROU_2 status changed to 0 at t=1.0 sec.\n",
      "<Toggle Toggler_1>: GENROU.GENROU_2 status changed to 0 at t=1.0 sec.\n",
      "<Toggle Toggler_1>: GENROU.GENROU_2 status changed to 0 at t=1.0 sec.\n",
      "<Toggle Toggler_1>: GENROU.GENROU_2 status changed to 0 at t=1.0 sec.\n",
      "<Toggle Toggler_1>: GENROU.GENROU_2 status changed to 0 at t=1.0 sec.\n"
     ]
    },
    {
     "name": "stderr",
     "output_type": "stream",
     "text": [
      "/home/buxin/andes/andes/routines/eig.py:222: LinAlgWarning: Ill-conditioned matrix (rcond=1.61044e-17): result may not be accurate.\n",
      "  WT = solve(N, Weye, overwrite_b=True)\n"
     ]
    },
    {
     "name": "stdout",
     "output_type": "stream",
     "text": [
      "<Toggle Toggler_1>: GENROU.GENROU_2 status changed to 0 at t=1.0 sec.\n",
      "<Toggle Toggler_1>: GENROU.GENROU_2 status changed to 0 at t=1.0 sec.\n",
      "<Toggle Toggler_1>: GENROU.GENROU_2 status changed to 0 at t=1.0 sec.\n",
      "<Toggle Toggler_1>: GENROU.GENROU_2 status changed to 0 at t=1.0 sec.\n",
      "<Toggle Toggler_1>: GENROU.GENROU_2 status changed to 0 at t=1.0 sec.\n",
      "<Toggle Toggler_1>: GENROU.GENROU_2 status changed to 0 at t=1.0 sec.\n",
      "<Toggle Toggler_1>: GENROU.GENROU_2 status changed to 0 at t=1.0 sec.\n",
      "<Toggle Toggler_1>: GENROU.GENROU_2 status changed to 0 at t=1.0 sec.\n",
      "<Toggle Toggler_1>: GENROU.GENROU_2 status changed to 0 at t=1.0 sec.\n",
      "<Toggle Toggler_1>: GENROU.GENROU_2 status changed to 0 at t=1.0 sec.\n",
      "<Toggle Toggler_1>: GENROU.GENROU_2 status changed to 0 at t=1.0 sec.\n",
      "<Toggle Toggler_1>: GENROU.GENROU_2 status changed to 0 at t=1.0 sec.\n"
     ]
    },
    {
     "name": "stderr",
     "output_type": "stream",
     "text": [
      "/home/buxin/andes/andes/routines/eig.py:222: LinAlgWarning: Ill-conditioned matrix (rcond=4.81086e-21): result may not be accurate.\n",
      "  WT = solve(N, Weye, overwrite_b=True)\n"
     ]
    },
    {
     "name": "stdout",
     "output_type": "stream",
     "text": [
      "<Toggle Toggler_1>: GENROU.GENROU_2 status changed to 0 at t=1.0 sec.\n",
      "<Toggle Toggler_1>: GENROU.GENROU_2 status changed to 0 at t=1.0 sec.\n"
     ]
    },
    {
     "name": "stderr",
     "output_type": "stream",
     "text": [
      "/home/buxin/andes/andes/routines/eig.py:222: LinAlgWarning: Ill-conditioned matrix (rcond=6.73311e-17): result may not be accurate.\n",
      "  WT = solve(N, Weye, overwrite_b=True)\n"
     ]
    },
    {
     "name": "stdout",
     "output_type": "stream",
     "text": [
      "<Toggle Toggler_1>: GENROU.GENROU_2 status changed to 0 at t=1.0 sec.\n",
      "<Toggle Toggler_1>: GENROU.GENROU_2 status changed to 0 at t=1.0 sec.\n",
      "<Toggle Toggler_1>: GENROU.GENROU_2 status changed to 0 at t=1.0 sec.\n",
      "<Toggle Toggler_1>: GENROU.GENROU_2 status changed to 0 at t=1.0 sec.\n",
      "<Toggle Toggler_1>: GENROU.GENROU_2 status changed to 0 at t=1.0 sec.\n",
      "<Toggle Toggler_1>: GENROU.GENROU_2 status changed to 0 at t=1.0 sec.\n",
      "<Toggle Toggler_1>: GENROU.GENROU_2 status changed to 0 at t=1.0 sec.\n",
      "<Toggle Toggler_1>: GENROU.GENROU_2 status changed to 0 at t=1.0 sec.\n",
      "<Toggle Toggler_1>: GENROU.GENROU_2 status changed to 0 at t=1.0 sec.\n",
      "<Toggle Toggler_1>: GENROU.GENROU_2 status changed to 0 at t=1.0 sec.\n",
      "<Toggle Toggler_1>: GENROU.GENROU_2 status changed to 0 at t=1.0 sec.\n",
      "<Toggle Toggler_1>: GENROU.GENROU_2 status changed to 0 at t=1.0 sec.\n",
      "<Toggle Toggler_1>: GENROU.GENROU_2 status changed to 0 at t=1.0 sec.\n",
      "<Toggle Toggler_1>: GENROU.GENROU_2 status changed to 0 at t=1.0 sec.\n",
      "<Toggle Toggler_1>: GENROU.GENROU_2 status changed to 0 at t=1.0 sec.\n",
      "<Toggle Toggler_1>: GENROU.GENROU_2 status changed to 0 at t=1.0 sec.\n",
      "<Toggle Toggler_1>: GENROU.GENROU_2 status changed to 0 at t=1.0 sec.\n",
      "<Toggle Toggler_1>: GENROU.GENROU_2 status changed to 0 at t=1.0 sec.\n",
      "<Toggle Toggler_1>: GENROU.GENROU_2 status changed to 0 at t=1.0 sec.\n",
      "<Toggle Toggler_1>: GENROU.GENROU_2 status changed to 0 at t=1.0 sec.\n",
      "<Toggle Toggler_1>: GENROU.GENROU_2 status changed to 0 at t=1.0 sec.\n",
      "<Toggle Toggler_1>: GENROU.GENROU_2 status changed to 0 at t=1.0 sec.\n",
      "<Toggle Toggler_1>: GENROU.GENROU_2 status changed to 0 at t=1.0 sec.\n",
      "<Toggle Toggler_1>: GENROU.GENROU_2 status changed to 0 at t=1.0 sec.\n",
      "<Toggle Toggler_1>: GENROU.GENROU_2 status changed to 0 at t=1.0 sec.\n",
      "<Toggle Toggler_1>: GENROU.GENROU_2 status changed to 0 at t=1.0 sec.\n",
      "<Toggle Toggler_1>: GENROU.GENROU_2 status changed to 0 at t=1.0 sec.\n",
      "<Toggle Toggler_1>: GENROU.GENROU_2 status changed to 0 at t=1.0 sec.\n",
      "<Toggle Toggler_1>: GENROU.GENROU_2 status changed to 0 at t=1.0 sec.\n",
      "<Toggle Toggler_1>: GENROU.GENROU_2 status changed to 0 at t=1.0 sec.\n",
      "<Toggle Toggler_1>: GENROU.GENROU_2 status changed to 0 at t=1.0 sec.\n",
      "<Toggle Toggler_1>: GENROU.GENROU_2 status changed to 0 at t=1.0 sec.\n",
      "<Toggle Toggler_1>: GENROU.GENROU_2 status changed to 0 at t=1.0 sec.\n",
      "<Toggle Toggler_1>: GENROU.GENROU_2 status changed to 0 at t=1.0 sec.\n",
      "<Toggle Toggler_1>: GENROU.GENROU_2 status changed to 0 at t=1.0 sec.\n",
      "<Toggle Toggler_1>: GENROU.GENROU_2 status changed to 0 at t=1.0 sec.\n",
      "<Toggle Toggler_1>: GENROU.GENROU_2 status changed to 0 at t=1.0 sec.\n",
      "<Toggle Toggler_1>: GENROU.GENROU_2 status changed to 0 at t=1.0 sec.\n",
      "<Toggle Toggler_1>: GENROU.GENROU_2 status changed to 0 at t=1.0 sec.\n",
      "<Toggle Toggler_1>: GENROU.GENROU_2 status changed to 0 at t=1.0 sec.\n",
      "<Toggle Toggler_1>: GENROU.GENROU_2 status changed to 0 at t=1.0 sec.\n",
      "<Toggle Toggler_1>: GENROU.GENROU_2 status changed to 0 at t=1.0 sec.\n",
      "<Toggle Toggler_1>: GENROU.GENROU_2 status changed to 0 at t=1.0 sec.\n",
      "<Toggle Toggler_1>: GENROU.GENROU_2 status changed to 0 at t=1.0 sec.\n",
      "<Toggle Toggler_1>: GENROU.GENROU_2 status changed to 0 at t=1.0 sec.\n",
      "<Toggle Toggler_1>: GENROU.GENROU_2 status changed to 0 at t=1.0 sec.\n",
      "<Toggle Toggler_1>: GENROU.GENROU_2 status changed to 0 at t=1.0 sec.\n",
      "<Toggle Toggler_1>: GENROU.GENROU_2 status changed to 0 at t=1.0 sec.\n",
      "<Toggle Toggler_1>: GENROU.GENROU_2 status changed to 0 at t=1.0 sec.\n",
      "<Toggle Toggler_1>: GENROU.GENROU_2 status changed to 0 at t=1.0 sec.\n",
      "<Toggle Toggler_1>: GENROU.GENROU_2 status changed to 0 at t=1.0 sec.\n",
      "<Toggle Toggler_1>: GENROU.GENROU_2 status changed to 0 at t=1.0 sec.\n",
      "<Toggle Toggler_1>: GENROU.GENROU_2 status changed to 0 at t=1.0 sec.\n",
      "<Toggle Toggler_1>: GENROU.GENROU_2 status changed to 0 at t=1.0 sec.\n",
      "<Toggle Toggler_1>: GENROU.GENROU_2 status changed to 0 at t=1.0 sec.\n",
      "<Toggle Toggler_1>: GENROU.GENROU_2 status changed to 0 at t=1.0 sec.\n",
      "<Toggle Toggler_1>: GENROU.GENROU_2 status changed to 0 at t=1.0 sec.\n",
      "<Toggle Toggler_1>: GENROU.GENROU_2 status changed to 0 at t=1.0 sec.\n",
      "<Toggle Toggler_1>: GENROU.GENROU_2 status changed to 0 at t=1.0 sec.\n",
      "<Toggle Toggler_1>: GENROU.GENROU_2 status changed to 0 at t=1.0 sec.\n",
      "<Toggle Toggler_1>: GENROU.GENROU_2 status changed to 0 at t=1.0 sec.\n",
      "<Toggle Toggler_1>: GENROU.GENROU_2 status changed to 0 at t=1.0 sec.\n",
      "<Toggle Toggler_1>: GENROU.GENROU_2 status changed to 0 at t=1.0 sec.\n",
      "<Toggle Toggler_1>: GENROU.GENROU_2 status changed to 0 at t=1.0 sec.\n",
      "<Toggle Toggler_1>: GENROU.GENROU_2 status changed to 0 at t=1.0 sec.\n",
      "<Toggle Toggler_1>: GENROU.GENROU_2 status changed to 0 at t=1.0 sec.\n",
      "<Toggle Toggler_1>: GENROU.GENROU_2 status changed to 0 at t=1.0 sec.\n",
      "<Toggle Toggler_1>: GENROU.GENROU_2 status changed to 0 at t=1.0 sec.\n",
      "<Toggle Toggler_1>: GENROU.GENROU_2 status changed to 0 at t=1.0 sec.\n",
      "<Toggle Toggler_1>: GENROU.GENROU_2 status changed to 0 at t=1.0 sec.\n",
      "<Toggle Toggler_1>: GENROU.GENROU_2 status changed to 0 at t=1.0 sec.\n",
      "<Toggle Toggler_1>: GENROU.GENROU_2 status changed to 0 at t=1.0 sec.\n",
      "<Toggle Toggler_1>: GENROU.GENROU_2 status changed to 0 at t=1.0 sec.\n",
      "<Toggle Toggler_1>: GENROU.GENROU_2 status changed to 0 at t=1.0 sec.\n",
      "<Toggle Toggler_1>: GENROU.GENROU_2 status changed to 0 at t=1.0 sec.\n",
      "<Toggle Toggler_1>: GENROU.GENROU_2 status changed to 0 at t=1.0 sec.\n",
      "<Toggle Toggler_1>: GENROU.GENROU_2 status changed to 0 at t=1.0 sec.\n",
      "<Toggle Toggler_1>: GENROU.GENROU_2 status changed to 0 at t=1.0 sec.\n",
      "<Toggle Toggler_1>: GENROU.GENROU_2 status changed to 0 at t=1.0 sec.\n",
      "<Toggle Toggler_1>: GENROU.GENROU_2 status changed to 0 at t=1.0 sec.\n",
      "<Toggle Toggler_1>: GENROU.GENROU_2 status changed to 0 at t=1.0 sec.\n",
      "<Toggle Toggler_1>: GENROU.GENROU_2 status changed to 0 at t=1.0 sec.\n",
      "<Toggle Toggler_1>: GENROU.GENROU_2 status changed to 0 at t=1.0 sec.\n",
      "<Toggle Toggler_1>: GENROU.GENROU_2 status changed to 0 at t=1.0 sec.\n",
      "<Toggle Toggler_1>: GENROU.GENROU_2 status changed to 0 at t=1.0 sec.\n",
      "<Toggle Toggler_1>: GENROU.GENROU_2 status changed to 0 at t=1.0 sec.\n",
      "<Toggle Toggler_1>: GENROU.GENROU_2 status changed to 0 at t=1.0 sec.\n",
      "<Toggle Toggler_1>: GENROU.GENROU_2 status changed to 0 at t=1.0 sec.\n",
      "<Toggle Toggler_1>: GENROU.GENROU_2 status changed to 0 at t=1.0 sec.\n",
      "<Toggle Toggler_1>: GENROU.GENROU_2 status changed to 0 at t=1.0 sec.\n",
      "<Toggle Toggler_1>: GENROU.GENROU_2 status changed to 0 at t=1.0 sec.\n",
      "<Toggle Toggler_1>: GENROU.GENROU_2 status changed to 0 at t=1.0 sec.\n",
      "<Toggle Toggler_1>: GENROU.GENROU_2 status changed to 0 at t=1.0 sec.\n",
      "<Toggle Toggler_1>: GENROU.GENROU_2 status changed to 0 at t=1.0 sec.\n",
      "<Toggle Toggler_1>: GENROU.GENROU_2 status changed to 0 at t=1.0 sec.\n",
      "<Toggle Toggler_1>: GENROU.GENROU_2 status changed to 0 at t=1.0 sec.\n",
      "<Toggle Toggler_1>: GENROU.GENROU_2 status changed to 0 at t=1.0 sec.\n",
      "<Toggle Toggler_1>: GENROU.GENROU_2 status changed to 0 at t=1.0 sec.\n",
      "<Toggle Toggler_1>: GENROU.GENROU_2 status changed to 0 at t=1.0 sec.\n",
      "<Toggle Toggler_1>: GENROU.GENROU_2 status changed to 0 at t=1.0 sec.\n",
      "<Toggle Toggler_1>: GENROU.GENROU_2 status changed to 0 at t=1.0 sec.\n",
      "<Toggle Toggler_1>: GENROU.GENROU_2 status changed to 0 at t=1.0 sec.\n",
      "<Toggle Toggler_1>: GENROU.GENROU_2 status changed to 0 at t=1.0 sec.\n",
      "<Toggle Toggler_1>: GENROU.GENROU_2 status changed to 0 at t=1.0 sec.\n",
      "<Toggle Toggler_1>: GENROU.GENROU_2 status changed to 0 at t=1.0 sec.\n",
      "<Toggle Toggler_1>: GENROU.GENROU_2 status changed to 0 at t=1.0 sec.\n",
      "<Toggle Toggler_1>: GENROU.GENROU_2 status changed to 0 at t=1.0 sec.\n",
      "<Toggle Toggler_1>: GENROU.GENROU_2 status changed to 0 at t=1.0 sec.\n",
      "<Toggle Toggler_1>: GENROU.GENROU_2 status changed to 0 at t=1.0 sec.\n",
      "<Toggle Toggler_1>: GENROU.GENROU_2 status changed to 0 at t=1.0 sec.\n",
      "<Toggle Toggler_1>: GENROU.GENROU_2 status changed to 0 at t=1.0 sec.\n",
      "<Toggle Toggler_1>: GENROU.GENROU_2 status changed to 0 at t=1.0 sec.\n",
      "<Toggle Toggler_1>: GENROU.GENROU_2 status changed to 0 at t=1.0 sec.\n",
      "<Toggle Toggler_1>: GENROU.GENROU_2 status changed to 0 at t=1.0 sec.\n",
      "<Toggle Toggler_1>: GENROU.GENROU_2 status changed to 0 at t=1.0 sec.\n",
      "<Toggle Toggler_1>: GENROU.GENROU_2 status changed to 0 at t=1.0 sec.\n",
      "<Toggle Toggler_1>: GENROU.GENROU_2 status changed to 0 at t=1.0 sec.\n",
      "<Toggle Toggler_1>: GENROU.GENROU_2 status changed to 0 at t=1.0 sec.\n",
      "<Toggle Toggler_1>: GENROU.GENROU_2 status changed to 0 at t=1.0 sec.\n",
      "<Toggle Toggler_1>: GENROU.GENROU_2 status changed to 0 at t=1.0 sec.\n"
     ]
    },
    {
     "name": "stderr",
     "output_type": "stream",
     "text": [
      "/home/buxin/andes/andes/routines/eig.py:222: LinAlgWarning: Ill-conditioned matrix (rcond=2.37811e-17): result may not be accurate.\n",
      "  WT = solve(N, Weye, overwrite_b=True)\n"
     ]
    },
    {
     "name": "stdout",
     "output_type": "stream",
     "text": [
      "<Toggle Toggler_1>: GENROU.GENROU_2 status changed to 0 at t=1.0 sec.\n",
      "<Toggle Toggler_1>: GENROU.GENROU_2 status changed to 0 at t=1.0 sec.\n",
      "<Toggle Toggler_1>: GENROU.GENROU_2 status changed to 0 at t=1.0 sec.\n",
      "<Toggle Toggler_1>: GENROU.GENROU_2 status changed to 0 at t=1.0 sec.\n",
      "<Toggle Toggler_1>: GENROU.GENROU_2 status changed to 0 at t=1.0 sec.\n",
      "<Toggle Toggler_1>: GENROU.GENROU_2 status changed to 0 at t=1.0 sec.\n",
      "<Toggle Toggler_1>: GENROU.GENROU_2 status changed to 0 at t=1.0 sec.\n"
     ]
    },
    {
     "name": "stderr",
     "output_type": "stream",
     "text": [
      "/home/buxin/andes/andes/routines/eig.py:222: LinAlgWarning: Ill-conditioned matrix (rcond=3.85911e-18): result may not be accurate.\n",
      "  WT = solve(N, Weye, overwrite_b=True)\n"
     ]
    },
    {
     "name": "stdout",
     "output_type": "stream",
     "text": [
      "<Toggle Toggler_1>: GENROU.GENROU_2 status changed to 0 at t=1.0 sec.\n",
      "<Toggle Toggler_1>: GENROU.GENROU_2 status changed to 0 at t=1.0 sec.\n",
      "<Toggle Toggler_1>: GENROU.GENROU_2 status changed to 0 at t=1.0 sec.\n",
      "<Toggle Toggler_1>: GENROU.GENROU_2 status changed to 0 at t=1.0 sec.\n",
      "<Toggle Toggler_1>: GENROU.GENROU_2 status changed to 0 at t=1.0 sec.\n",
      "<Toggle Toggler_1>: GENROU.GENROU_2 status changed to 0 at t=1.0 sec.\n"
     ]
    },
    {
     "name": "stderr",
     "output_type": "stream",
     "text": [
      "/home/buxin/andes/andes/routines/eig.py:222: LinAlgWarning: Ill-conditioned matrix (rcond=4.86418e-17): result may not be accurate.\n",
      "  WT = solve(N, Weye, overwrite_b=True)\n"
     ]
    },
    {
     "name": "stdout",
     "output_type": "stream",
     "text": [
      "<Toggle Toggler_1>: GENROU.GENROU_2 status changed to 0 at t=1.0 sec.\n"
     ]
    },
    {
     "name": "stderr",
     "output_type": "stream",
     "text": [
      "/home/buxin/andes/andes/routines/eig.py:222: LinAlgWarning: Ill-conditioned matrix (rcond=2.95017e-17): result may not be accurate.\n",
      "  WT = solve(N, Weye, overwrite_b=True)\n"
     ]
    },
    {
     "name": "stdout",
     "output_type": "stream",
     "text": [
      "<Toggle Toggler_1>: GENROU.GENROU_2 status changed to 0 at t=1.0 sec.\n",
      "<Toggle Toggler_1>: GENROU.GENROU_2 status changed to 0 at t=1.0 sec.\n",
      "<Toggle Toggler_1>: GENROU.GENROU_2 status changed to 0 at t=1.0 sec.\n",
      "<Toggle Toggler_1>: GENROU.GENROU_2 status changed to 0 at t=1.0 sec.\n",
      "<Toggle Toggler_1>: GENROU.GENROU_2 status changed to 0 at t=1.0 sec.\n",
      "<Toggle Toggler_1>: GENROU.GENROU_2 status changed to 0 at t=1.0 sec.\n",
      "<Toggle Toggler_1>: GENROU.GENROU_2 status changed to 0 at t=1.0 sec.\n",
      "<Toggle Toggler_1>: GENROU.GENROU_2 status changed to 0 at t=1.0 sec.\n",
      "<Toggle Toggler_1>: GENROU.GENROU_2 status changed to 0 at t=1.0 sec.\n",
      "<Toggle Toggler_1>: GENROU.GENROU_2 status changed to 0 at t=1.0 sec.\n",
      "<Toggle Toggler_1>: GENROU.GENROU_2 status changed to 0 at t=1.0 sec.\n",
      "<Toggle Toggler_1>: GENROU.GENROU_2 status changed to 0 at t=1.0 sec.\n",
      "<Toggle Toggler_1>: GENROU.GENROU_2 status changed to 0 at t=1.0 sec.\n"
     ]
    },
    {
     "name": "stderr",
     "output_type": "stream",
     "text": [
      "/home/buxin/andes/andes/routines/eig.py:222: LinAlgWarning: Ill-conditioned matrix (rcond=3.91317e-21): result may not be accurate.\n",
      "  WT = solve(N, Weye, overwrite_b=True)\n"
     ]
    },
    {
     "name": "stdout",
     "output_type": "stream",
     "text": [
      "<Toggle Toggler_1>: GENROU.GENROU_2 status changed to 0 at t=1.0 sec.\n",
      "<Toggle Toggler_1>: GENROU.GENROU_2 status changed to 0 at t=1.0 sec.\n",
      "<Toggle Toggler_1>: GENROU.GENROU_2 status changed to 0 at t=1.0 sec.\n",
      "<Toggle Toggler_1>: GENROU.GENROU_2 status changed to 0 at t=1.0 sec.\n",
      "<Toggle Toggler_1>: GENROU.GENROU_2 status changed to 0 at t=1.0 sec.\n",
      "<Toggle Toggler_1>: GENROU.GENROU_2 status changed to 0 at t=1.0 sec.\n",
      "<Toggle Toggler_1>: GENROU.GENROU_2 status changed to 0 at t=1.0 sec.\n",
      "<Toggle Toggler_1>: GENROU.GENROU_2 status changed to 0 at t=1.0 sec.\n",
      "<Toggle Toggler_1>: GENROU.GENROU_2 status changed to 0 at t=1.0 sec.\n",
      "<Toggle Toggler_1>: GENROU.GENROU_2 status changed to 0 at t=1.0 sec.\n",
      "<Toggle Toggler_1>: GENROU.GENROU_2 status changed to 0 at t=1.0 sec.\n",
      "<Toggle Toggler_1>: GENROU.GENROU_2 status changed to 0 at t=1.0 sec.\n",
      "<Toggle Toggler_1>: GENROU.GENROU_2 status changed to 0 at t=1.0 sec.\n",
      "<Toggle Toggler_1>: GENROU.GENROU_2 status changed to 0 at t=1.0 sec.\n",
      "<Toggle Toggler_1>: GENROU.GENROU_2 status changed to 0 at t=1.0 sec.\n",
      "<Toggle Toggler_1>: GENROU.GENROU_2 status changed to 0 at t=1.0 sec.\n",
      "<Toggle Toggler_1>: GENROU.GENROU_2 status changed to 0 at t=1.0 sec.\n",
      "<Toggle Toggler_1>: GENROU.GENROU_2 status changed to 0 at t=1.0 sec.\n",
      "<Toggle Toggler_1>: GENROU.GENROU_2 status changed to 0 at t=1.0 sec.\n",
      "<Toggle Toggler_1>: GENROU.GENROU_2 status changed to 0 at t=1.0 sec.\n",
      "<Toggle Toggler_1>: GENROU.GENROU_2 status changed to 0 at t=1.0 sec.\n",
      "<Toggle Toggler_1>: GENROU.GENROU_2 status changed to 0 at t=1.0 sec.\n",
      "<Toggle Toggler_1>: GENROU.GENROU_2 status changed to 0 at t=1.0 sec.\n",
      "<Toggle Toggler_1>: GENROU.GENROU_2 status changed to 0 at t=1.0 sec.\n",
      "<Toggle Toggler_1>: GENROU.GENROU_2 status changed to 0 at t=1.0 sec.\n",
      "<Toggle Toggler_1>: GENROU.GENROU_2 status changed to 0 at t=1.0 sec.\n",
      "<Toggle Toggler_1>: GENROU.GENROU_2 status changed to 0 at t=1.0 sec.\n"
     ]
    },
    {
     "name": "stderr",
     "output_type": "stream",
     "text": [
      "/home/buxin/andes/andes/routines/eig.py:222: LinAlgWarning: Ill-conditioned matrix (rcond=4.11122e-17): result may not be accurate.\n",
      "  WT = solve(N, Weye, overwrite_b=True)\n"
     ]
    },
    {
     "name": "stdout",
     "output_type": "stream",
     "text": [
      "<Toggle Toggler_1>: GENROU.GENROU_2 status changed to 0 at t=1.0 sec.\n",
      "<Toggle Toggler_1>: GENROU.GENROU_2 status changed to 0 at t=1.0 sec.\n",
      "<Toggle Toggler_1>: GENROU.GENROU_2 status changed to 0 at t=1.0 sec.\n",
      "<Toggle Toggler_1>: GENROU.GENROU_2 status changed to 0 at t=1.0 sec.\n"
     ]
    },
    {
     "name": "stderr",
     "output_type": "stream",
     "text": [
      "/home/buxin/andes/andes/routines/eig.py:222: LinAlgWarning: Ill-conditioned matrix (rcond=1.12488e-19): result may not be accurate.\n",
      "  WT = solve(N, Weye, overwrite_b=True)\n"
     ]
    },
    {
     "name": "stdout",
     "output_type": "stream",
     "text": [
      "<Toggle Toggler_1>: GENROU.GENROU_2 status changed to 0 at t=1.0 sec.\n",
      "<Toggle Toggler_1>: GENROU.GENROU_2 status changed to 0 at t=1.0 sec.\n",
      "<Toggle Toggler_1>: GENROU.GENROU_2 status changed to 0 at t=1.0 sec.\n",
      "<Toggle Toggler_1>: GENROU.GENROU_2 status changed to 0 at t=1.0 sec.\n",
      "<Toggle Toggler_1>: GENROU.GENROU_2 status changed to 0 at t=1.0 sec.\n",
      "<Toggle Toggler_1>: GENROU.GENROU_2 status changed to 0 at t=1.0 sec.\n",
      "<Toggle Toggler_1>: GENROU.GENROU_2 status changed to 0 at t=1.0 sec.\n",
      "<Toggle Toggler_1>: GENROU.GENROU_2 status changed to 0 at t=1.0 sec.\n",
      "<Toggle Toggler_1>: GENROU.GENROU_2 status changed to 0 at t=1.0 sec.\n",
      "<Toggle Toggler_1>: GENROU.GENROU_2 status changed to 0 at t=1.0 sec.\n",
      "<Toggle Toggler_1>: GENROU.GENROU_2 status changed to 0 at t=1.0 sec.\n"
     ]
    },
    {
     "name": "stderr",
     "output_type": "stream",
     "text": [
      "/home/buxin/andes/andes/routines/eig.py:222: LinAlgWarning: Ill-conditioned matrix (rcond=3.31833e-25): result may not be accurate.\n",
      "  WT = solve(N, Weye, overwrite_b=True)\n"
     ]
    },
    {
     "name": "stdout",
     "output_type": "stream",
     "text": [
      "<Toggle Toggler_1>: GENROU.GENROU_2 status changed to 0 at t=1.0 sec.\n",
      "<Toggle Toggler_1>: GENROU.GENROU_2 status changed to 0 at t=1.0 sec.\n",
      "<Toggle Toggler_1>: GENROU.GENROU_2 status changed to 0 at t=1.0 sec.\n",
      "<Toggle Toggler_1>: GENROU.GENROU_2 status changed to 0 at t=1.0 sec.\n",
      "<Toggle Toggler_1>: GENROU.GENROU_2 status changed to 0 at t=1.0 sec.\n",
      "<Toggle Toggler_1>: GENROU.GENROU_2 status changed to 0 at t=1.0 sec.\n"
     ]
    },
    {
     "name": "stderr",
     "output_type": "stream",
     "text": [
      "/home/buxin/andes/andes/routines/eig.py:222: LinAlgWarning: Ill-conditioned matrix (rcond=1.59025e-17): result may not be accurate.\n",
      "  WT = solve(N, Weye, overwrite_b=True)\n"
     ]
    },
    {
     "name": "stdout",
     "output_type": "stream",
     "text": [
      "<Toggle Toggler_1>: GENROU.GENROU_2 status changed to 0 at t=1.0 sec.\n",
      "<Toggle Toggler_1>: GENROU.GENROU_2 status changed to 0 at t=1.0 sec.\n",
      "<Toggle Toggler_1>: GENROU.GENROU_2 status changed to 0 at t=1.0 sec.\n",
      "<Toggle Toggler_1>: GENROU.GENROU_2 status changed to 0 at t=1.0 sec.\n",
      "<Toggle Toggler_1>: GENROU.GENROU_2 status changed to 0 at t=1.0 sec.\n",
      "<Toggle Toggler_1>: GENROU.GENROU_2 status changed to 0 at t=1.0 sec.\n",
      "<Toggle Toggler_1>: GENROU.GENROU_2 status changed to 0 at t=1.0 sec.\n",
      "<Toggle Toggler_1>: GENROU.GENROU_2 status changed to 0 at t=1.0 sec.\n",
      "<Toggle Toggler_1>: GENROU.GENROU_2 status changed to 0 at t=1.0 sec.\n",
      "<Toggle Toggler_1>: GENROU.GENROU_2 status changed to 0 at t=1.0 sec.\n",
      "<Toggle Toggler_1>: GENROU.GENROU_2 status changed to 0 at t=1.0 sec.\n",
      "<Toggle Toggler_1>: GENROU.GENROU_2 status changed to 0 at t=1.0 sec.\n",
      "<Toggle Toggler_1>: GENROU.GENROU_2 status changed to 0 at t=1.0 sec.\n",
      "<Toggle Toggler_1>: GENROU.GENROU_2 status changed to 0 at t=1.0 sec.\n"
     ]
    },
    {
     "name": "stderr",
     "output_type": "stream",
     "text": [
      "/home/buxin/andes/andes/routines/eig.py:222: LinAlgWarning: Ill-conditioned matrix (rcond=5.80048e-21): result may not be accurate.\n",
      "  WT = solve(N, Weye, overwrite_b=True)\n"
     ]
    },
    {
     "name": "stdout",
     "output_type": "stream",
     "text": [
      "<Toggle Toggler_1>: GENROU.GENROU_2 status changed to 0 at t=1.0 sec.\n",
      "<Toggle Toggler_1>: GENROU.GENROU_2 status changed to 0 at t=1.0 sec.\n",
      "<Toggle Toggler_1>: GENROU.GENROU_2 status changed to 0 at t=1.0 sec.\n",
      "<Toggle Toggler_1>: GENROU.GENROU_2 status changed to 0 at t=1.0 sec.\n",
      "<Toggle Toggler_1>: GENROU.GENROU_2 status changed to 0 at t=1.0 sec.\n",
      "<Toggle Toggler_1>: GENROU.GENROU_2 status changed to 0 at t=1.0 sec.\n"
     ]
    },
    {
     "name": "stderr",
     "output_type": "stream",
     "text": [
      "/home/buxin/andes/andes/routines/eig.py:222: LinAlgWarning: Ill-conditioned matrix (rcond=6.97472e-17): result may not be accurate.\n",
      "  WT = solve(N, Weye, overwrite_b=True)\n"
     ]
    },
    {
     "name": "stdout",
     "output_type": "stream",
     "text": [
      "<Toggle Toggler_1>: GENROU.GENROU_2 status changed to 0 at t=1.0 sec.\n",
      "<Toggle Toggler_1>: GENROU.GENROU_2 status changed to 0 at t=1.0 sec.\n",
      "<Toggle Toggler_1>: GENROU.GENROU_2 status changed to 0 at t=1.0 sec.\n",
      "<Toggle Toggler_1>: GENROU.GENROU_2 status changed to 0 at t=1.0 sec.\n",
      "<Toggle Toggler_1>: GENROU.GENROU_2 status changed to 0 at t=1.0 sec.\n",
      "<Toggle Toggler_1>: GENROU.GENROU_2 status changed to 0 at t=1.0 sec.\n",
      "<Toggle Toggler_1>: GENROU.GENROU_2 status changed to 0 at t=1.0 sec.\n",
      "<Toggle Toggler_1>: GENROU.GENROU_2 status changed to 0 at t=1.0 sec.\n",
      "<Toggle Toggler_1>: GENROU.GENROU_2 status changed to 0 at t=1.0 sec.\n",
      "<Toggle Toggler_1>: GENROU.GENROU_2 status changed to 0 at t=1.0 sec.\n",
      "<Toggle Toggler_1>: GENROU.GENROU_2 status changed to 0 at t=1.0 sec.\n",
      "<Toggle Toggler_1>: GENROU.GENROU_2 status changed to 0 at t=1.0 sec.\n",
      "<Toggle Toggler_1>: GENROU.GENROU_2 status changed to 0 at t=1.0 sec.\n",
      "<Toggle Toggler_1>: GENROU.GENROU_2 status changed to 0 at t=1.0 sec.\n",
      "<Toggle Toggler_1>: GENROU.GENROU_2 status changed to 0 at t=1.0 sec.\n",
      "<Toggle Toggler_1>: GENROU.GENROU_2 status changed to 0 at t=1.0 sec.\n",
      "<Toggle Toggler_1>: GENROU.GENROU_2 status changed to 0 at t=1.0 sec.\n"
     ]
    },
    {
     "name": "stderr",
     "output_type": "stream",
     "text": [
      "/home/buxin/andes/andes/routines/eig.py:222: LinAlgWarning: Ill-conditioned matrix (rcond=5.19554e-21): result may not be accurate.\n",
      "  WT = solve(N, Weye, overwrite_b=True)\n"
     ]
    },
    {
     "name": "stdout",
     "output_type": "stream",
     "text": [
      "<Toggle Toggler_1>: GENROU.GENROU_2 status changed to 0 at t=1.0 sec.\n",
      "<Toggle Toggler_1>: GENROU.GENROU_2 status changed to 0 at t=1.0 sec.\n",
      "<Toggle Toggler_1>: GENROU.GENROU_2 status changed to 0 at t=1.0 sec.\n",
      "<Toggle Toggler_1>: GENROU.GENROU_2 status changed to 0 at t=1.0 sec.\n",
      "<Toggle Toggler_1>: GENROU.GENROU_2 status changed to 0 at t=1.0 sec.\n",
      "<Toggle Toggler_1>: GENROU.GENROU_2 status changed to 0 at t=1.0 sec.\n",
      "<Toggle Toggler_1>: GENROU.GENROU_2 status changed to 0 at t=1.0 sec.\n",
      "<Toggle Toggler_1>: GENROU.GENROU_2 status changed to 0 at t=1.0 sec.\n",
      "<Toggle Toggler_1>: GENROU.GENROU_2 status changed to 0 at t=1.0 sec.\n",
      "<Toggle Toggler_1>: GENROU.GENROU_2 status changed to 0 at t=1.0 sec.\n",
      "<Toggle Toggler_1>: GENROU.GENROU_2 status changed to 0 at t=1.0 sec.\n",
      "<Toggle Toggler_1>: GENROU.GENROU_2 status changed to 0 at t=1.0 sec.\n",
      "<Toggle Toggler_1>: GENROU.GENROU_2 status changed to 0 at t=1.0 sec.\n",
      "<Toggle Toggler_1>: GENROU.GENROU_2 status changed to 0 at t=1.0 sec.\n",
      "<Toggle Toggler_1>: GENROU.GENROU_2 status changed to 0 at t=1.0 sec.\n",
      "<Toggle Toggler_1>: GENROU.GENROU_2 status changed to 0 at t=1.0 sec.\n",
      "<Toggle Toggler_1>: GENROU.GENROU_2 status changed to 0 at t=1.0 sec.\n",
      "<Toggle Toggler_1>: GENROU.GENROU_2 status changed to 0 at t=1.0 sec.\n",
      "<Toggle Toggler_1>: GENROU.GENROU_2 status changed to 0 at t=1.0 sec.\n",
      "<Toggle Toggler_1>: GENROU.GENROU_2 status changed to 0 at t=1.0 sec.\n",
      "<Toggle Toggler_1>: GENROU.GENROU_2 status changed to 0 at t=1.0 sec.\n",
      "<Toggle Toggler_1>: GENROU.GENROU_2 status changed to 0 at t=1.0 sec.\n",
      "<Toggle Toggler_1>: GENROU.GENROU_2 status changed to 0 at t=1.0 sec.\n",
      "<Toggle Toggler_1>: GENROU.GENROU_2 status changed to 0 at t=1.0 sec.\n",
      "<Toggle Toggler_1>: GENROU.GENROU_2 status changed to 0 at t=1.0 sec.\n",
      "<Toggle Toggler_1>: GENROU.GENROU_2 status changed to 0 at t=1.0 sec.\n",
      "<Toggle Toggler_1>: GENROU.GENROU_2 status changed to 0 at t=1.0 sec.\n",
      "<Toggle Toggler_1>: GENROU.GENROU_2 status changed to 0 at t=1.0 sec.\n",
      "<Toggle Toggler_1>: GENROU.GENROU_2 status changed to 0 at t=1.0 sec.\n",
      "<Toggle Toggler_1>: GENROU.GENROU_2 status changed to 0 at t=1.0 sec.\n",
      "<Toggle Toggler_1>: GENROU.GENROU_2 status changed to 0 at t=1.0 sec.\n",
      "<Toggle Toggler_1>: GENROU.GENROU_2 status changed to 0 at t=1.0 sec.\n",
      "<Toggle Toggler_1>: GENROU.GENROU_2 status changed to 0 at t=1.0 sec.\n",
      "<Toggle Toggler_1>: GENROU.GENROU_2 status changed to 0 at t=1.0 sec.\n",
      "<Toggle Toggler_1>: GENROU.GENROU_2 status changed to 0 at t=1.0 sec.\n",
      "<Toggle Toggler_1>: GENROU.GENROU_2 status changed to 0 at t=1.0 sec.\n",
      "<Toggle Toggler_1>: GENROU.GENROU_2 status changed to 0 at t=1.0 sec.\n",
      "<Toggle Toggler_1>: GENROU.GENROU_2 status changed to 0 at t=1.0 sec.\n",
      "<Toggle Toggler_1>: GENROU.GENROU_2 status changed to 0 at t=1.0 sec.\n"
     ]
    },
    {
     "name": "stderr",
     "output_type": "stream",
     "text": [
      "/home/buxin/andes/andes/routines/eig.py:222: LinAlgWarning: Ill-conditioned matrix (rcond=1.12388e-18): result may not be accurate.\n",
      "  WT = solve(N, Weye, overwrite_b=True)\n"
     ]
    },
    {
     "name": "stdout",
     "output_type": "stream",
     "text": [
      "<Toggle Toggler_1>: GENROU.GENROU_2 status changed to 0 at t=1.0 sec.\n",
      "<Toggle Toggler_1>: GENROU.GENROU_2 status changed to 0 at t=1.0 sec.\n",
      "<Toggle Toggler_1>: GENROU.GENROU_2 status changed to 0 at t=1.0 sec.\n",
      "<Toggle Toggler_1>: GENROU.GENROU_2 status changed to 0 at t=1.0 sec.\n",
      "<Toggle Toggler_1>: GENROU.GENROU_2 status changed to 0 at t=1.0 sec.\n",
      "<Toggle Toggler_1>: GENROU.GENROU_2 status changed to 0 at t=1.0 sec.\n",
      "<Toggle Toggler_1>: GENROU.GENROU_2 status changed to 0 at t=1.0 sec.\n",
      "<Toggle Toggler_1>: GENROU.GENROU_2 status changed to 0 at t=1.0 sec.\n",
      "<Toggle Toggler_1>: GENROU.GENROU_2 status changed to 0 at t=1.0 sec.\n",
      "<Toggle Toggler_1>: GENROU.GENROU_2 status changed to 0 at t=1.0 sec.\n",
      "<Toggle Toggler_1>: GENROU.GENROU_2 status changed to 0 at t=1.0 sec.\n",
      "<Toggle Toggler_1>: GENROU.GENROU_2 status changed to 0 at t=1.0 sec.\n",
      "<Toggle Toggler_1>: GENROU.GENROU_2 status changed to 0 at t=1.0 sec.\n",
      "<Toggle Toggler_1>: GENROU.GENROU_2 status changed to 0 at t=1.0 sec.\n",
      "<Toggle Toggler_1>: GENROU.GENROU_2 status changed to 0 at t=1.0 sec.\n",
      "<Toggle Toggler_1>: GENROU.GENROU_2 status changed to 0 at t=1.0 sec.\n",
      "<Toggle Toggler_1>: GENROU.GENROU_2 status changed to 0 at t=1.0 sec.\n",
      "<Toggle Toggler_1>: GENROU.GENROU_2 status changed to 0 at t=1.0 sec.\n",
      "<Toggle Toggler_1>: GENROU.GENROU_2 status changed to 0 at t=1.0 sec.\n",
      "<Toggle Toggler_1>: GENROU.GENROU_2 status changed to 0 at t=1.0 sec.\n",
      "<Toggle Toggler_1>: GENROU.GENROU_2 status changed to 0 at t=1.0 sec.\n",
      "<Toggle Toggler_1>: GENROU.GENROU_2 status changed to 0 at t=1.0 sec.\n",
      "<Toggle Toggler_1>: GENROU.GENROU_2 status changed to 0 at t=1.0 sec.\n",
      "<Toggle Toggler_1>: GENROU.GENROU_2 status changed to 0 at t=1.0 sec.\n",
      "<Toggle Toggler_1>: GENROU.GENROU_2 status changed to 0 at t=1.0 sec.\n",
      "<Toggle Toggler_1>: GENROU.GENROU_2 status changed to 0 at t=1.0 sec.\n",
      "<Toggle Toggler_1>: GENROU.GENROU_2 status changed to 0 at t=1.0 sec.\n",
      "<Toggle Toggler_1>: GENROU.GENROU_2 status changed to 0 at t=1.0 sec.\n",
      "<Toggle Toggler_1>: GENROU.GENROU_2 status changed to 0 at t=1.0 sec.\n",
      "<Toggle Toggler_1>: GENROU.GENROU_2 status changed to 0 at t=1.0 sec.\n",
      "<Toggle Toggler_1>: GENROU.GENROU_2 status changed to 0 at t=1.0 sec.\n",
      "<Toggle Toggler_1>: GENROU.GENROU_2 status changed to 0 at t=1.0 sec.\n",
      "<Toggle Toggler_1>: GENROU.GENROU_2 status changed to 0 at t=1.0 sec.\n",
      "<Toggle Toggler_1>: GENROU.GENROU_2 status changed to 0 at t=1.0 sec.\n",
      "<Toggle Toggler_1>: GENROU.GENROU_2 status changed to 0 at t=1.0 sec.\n",
      "<Toggle Toggler_1>: GENROU.GENROU_2 status changed to 0 at t=1.0 sec.\n",
      "<Toggle Toggler_1>: GENROU.GENROU_2 status changed to 0 at t=1.0 sec.\n",
      "<Toggle Toggler_1>: GENROU.GENROU_2 status changed to 0 at t=1.0 sec.\n"
     ]
    },
    {
     "name": "stderr",
     "output_type": "stream",
     "text": [
      "/home/buxin/andes/andes/routines/eig.py:222: LinAlgWarning: Ill-conditioned matrix (rcond=1.05044e-18): result may not be accurate.\n",
      "  WT = solve(N, Weye, overwrite_b=True)\n"
     ]
    },
    {
     "name": "stdout",
     "output_type": "stream",
     "text": [
      "<Toggle Toggler_1>: GENROU.GENROU_2 status changed to 0 at t=1.0 sec.\n",
      "<Toggle Toggler_1>: GENROU.GENROU_2 status changed to 0 at t=1.0 sec.\n",
      "<Toggle Toggler_1>: GENROU.GENROU_2 status changed to 0 at t=1.0 sec.\n",
      "<Toggle Toggler_1>: GENROU.GENROU_2 status changed to 0 at t=1.0 sec.\n"
     ]
    },
    {
     "name": "stderr",
     "output_type": "stream",
     "text": [
      "/home/buxin/andes/andes/routines/eig.py:222: LinAlgWarning: Ill-conditioned matrix (rcond=6.01886e-17): result may not be accurate.\n",
      "  WT = solve(N, Weye, overwrite_b=True)\n"
     ]
    },
    {
     "name": "stdout",
     "output_type": "stream",
     "text": [
      "<Toggle Toggler_1>: GENROU.GENROU_2 status changed to 0 at t=1.0 sec.\n",
      "<Toggle Toggler_1>: GENROU.GENROU_2 status changed to 0 at t=1.0 sec.\n",
      "<Toggle Toggler_1>: GENROU.GENROU_2 status changed to 0 at t=1.0 sec.\n",
      "<Toggle Toggler_1>: GENROU.GENROU_2 status changed to 0 at t=1.0 sec.\n",
      "<Toggle Toggler_1>: GENROU.GENROU_2 status changed to 0 at t=1.0 sec.\n",
      "<Toggle Toggler_1>: GENROU.GENROU_2 status changed to 0 at t=1.0 sec.\n",
      "<Toggle Toggler_1>: GENROU.GENROU_2 status changed to 0 at t=1.0 sec.\n",
      "<Toggle Toggler_1>: GENROU.GENROU_2 status changed to 0 at t=1.0 sec.\n"
     ]
    },
    {
     "name": "stderr",
     "output_type": "stream",
     "text": [
      "/home/buxin/andes/andes/routines/eig.py:222: LinAlgWarning: Ill-conditioned matrix (rcond=1.27166e-18): result may not be accurate.\n",
      "  WT = solve(N, Weye, overwrite_b=True)\n"
     ]
    },
    {
     "name": "stdout",
     "output_type": "stream",
     "text": [
      "<Toggle Toggler_1>: GENROU.GENROU_2 status changed to 0 at t=1.0 sec.\n",
      "<Toggle Toggler_1>: GENROU.GENROU_2 status changed to 0 at t=1.0 sec.\n"
     ]
    },
    {
     "name": "stderr",
     "output_type": "stream",
     "text": [
      "/home/buxin/andes/andes/routines/eig.py:222: LinAlgWarning: Ill-conditioned matrix (rcond=1.07765e-17): result may not be accurate.\n",
      "  WT = solve(N, Weye, overwrite_b=True)\n"
     ]
    },
    {
     "name": "stdout",
     "output_type": "stream",
     "text": [
      "<Toggle Toggler_1>: GENROU.GENROU_2 status changed to 0 at t=1.0 sec.\n",
      "<Toggle Toggler_1>: GENROU.GENROU_2 status changed to 0 at t=1.0 sec.\n",
      "<Toggle Toggler_1>: GENROU.GENROU_2 status changed to 0 at t=1.0 sec.\n",
      "<Toggle Toggler_1>: GENROU.GENROU_2 status changed to 0 at t=1.0 sec.\n",
      "<Toggle Toggler_1>: GENROU.GENROU_2 status changed to 0 at t=1.0 sec.\n",
      "<Toggle Toggler_1>: GENROU.GENROU_2 status changed to 0 at t=1.0 sec.\n",
      "<Toggle Toggler_1>: GENROU.GENROU_2 status changed to 0 at t=1.0 sec.\n",
      "<Toggle Toggler_1>: GENROU.GENROU_2 status changed to 0 at t=1.0 sec.\n",
      "<Toggle Toggler_1>: GENROU.GENROU_2 status changed to 0 at t=1.0 sec.\n",
      "<Toggle Toggler_1>: GENROU.GENROU_2 status changed to 0 at t=1.0 sec.\n",
      "<Toggle Toggler_1>: GENROU.GENROU_2 status changed to 0 at t=1.0 sec.\n",
      "<Toggle Toggler_1>: GENROU.GENROU_2 status changed to 0 at t=1.0 sec.\n",
      "<Toggle Toggler_1>: GENROU.GENROU_2 status changed to 0 at t=1.0 sec.\n",
      "<Toggle Toggler_1>: GENROU.GENROU_2 status changed to 0 at t=1.0 sec.\n",
      "<Toggle Toggler_1>: GENROU.GENROU_2 status changed to 0 at t=1.0 sec.\n",
      "<Toggle Toggler_1>: GENROU.GENROU_2 status changed to 0 at t=1.0 sec.\n",
      "<Toggle Toggler_1>: GENROU.GENROU_2 status changed to 0 at t=1.0 sec.\n",
      "<Toggle Toggler_1>: GENROU.GENROU_2 status changed to 0 at t=1.0 sec.\n",
      "<Toggle Toggler_1>: GENROU.GENROU_2 status changed to 0 at t=1.0 sec.\n",
      "<Toggle Toggler_1>: GENROU.GENROU_2 status changed to 0 at t=1.0 sec.\n",
      "<Toggle Toggler_1>: GENROU.GENROU_2 status changed to 0 at t=1.0 sec.\n",
      "<Toggle Toggler_1>: GENROU.GENROU_2 status changed to 0 at t=1.0 sec.\n",
      "<Toggle Toggler_1>: GENROU.GENROU_2 status changed to 0 at t=1.0 sec.\n",
      "<Toggle Toggler_1>: GENROU.GENROU_2 status changed to 0 at t=1.0 sec.\n",
      "<Toggle Toggler_1>: GENROU.GENROU_2 status changed to 0 at t=1.0 sec.\n",
      "<Toggle Toggler_1>: GENROU.GENROU_2 status changed to 0 at t=1.0 sec.\n",
      "<Toggle Toggler_1>: GENROU.GENROU_2 status changed to 0 at t=1.0 sec.\n",
      "<Toggle Toggler_1>: GENROU.GENROU_2 status changed to 0 at t=1.0 sec.\n",
      "<Toggle Toggler_1>: GENROU.GENROU_2 status changed to 0 at t=1.0 sec.\n",
      "<Toggle Toggler_1>: GENROU.GENROU_2 status changed to 0 at t=1.0 sec.\n",
      "<Toggle Toggler_1>: GENROU.GENROU_2 status changed to 0 at t=1.0 sec.\n",
      "<Toggle Toggler_1>: GENROU.GENROU_2 status changed to 0 at t=1.0 sec.\n",
      "<Toggle Toggler_1>: GENROU.GENROU_2 status changed to 0 at t=1.0 sec.\n",
      "<Toggle Toggler_1>: GENROU.GENROU_2 status changed to 0 at t=1.0 sec.\n",
      "<Toggle Toggler_1>: GENROU.GENROU_2 status changed to 0 at t=1.0 sec.\n"
     ]
    },
    {
     "name": "stderr",
     "output_type": "stream",
     "text": [
      "/home/buxin/andes/andes/routines/eig.py:222: LinAlgWarning: Ill-conditioned matrix (rcond=8.27685e-18): result may not be accurate.\n",
      "  WT = solve(N, Weye, overwrite_b=True)\n"
     ]
    },
    {
     "name": "stdout",
     "output_type": "stream",
     "text": [
      "<Toggle Toggler_1>: GENROU.GENROU_2 status changed to 0 at t=1.0 sec.\n",
      "<Toggle Toggler_1>: GENROU.GENROU_2 status changed to 0 at t=1.0 sec.\n",
      "<Toggle Toggler_1>: GENROU.GENROU_2 status changed to 0 at t=1.0 sec.\n",
      "<Toggle Toggler_1>: GENROU.GENROU_2 status changed to 0 at t=1.0 sec.\n",
      "<Toggle Toggler_1>: GENROU.GENROU_2 status changed to 0 at t=1.0 sec.\n",
      "<Toggle Toggler_1>: GENROU.GENROU_2 status changed to 0 at t=1.0 sec.\n",
      "<Toggle Toggler_1>: GENROU.GENROU_2 status changed to 0 at t=1.0 sec.\n",
      "<Toggle Toggler_1>: GENROU.GENROU_2 status changed to 0 at t=1.0 sec.\n",
      "<Toggle Toggler_1>: GENROU.GENROU_2 status changed to 0 at t=1.0 sec.\n",
      "<Toggle Toggler_1>: GENROU.GENROU_2 status changed to 0 at t=1.0 sec.\n",
      "<Toggle Toggler_1>: GENROU.GENROU_2 status changed to 0 at t=1.0 sec.\n",
      "<Toggle Toggler_1>: GENROU.GENROU_2 status changed to 0 at t=1.0 sec.\n",
      "<Toggle Toggler_1>: GENROU.GENROU_2 status changed to 0 at t=1.0 sec.\n",
      "<Toggle Toggler_1>: GENROU.GENROU_2 status changed to 0 at t=1.0 sec.\n",
      "<Toggle Toggler_1>: GENROU.GENROU_2 status changed to 0 at t=1.0 sec.\n",
      "<Toggle Toggler_1>: GENROU.GENROU_2 status changed to 0 at t=1.0 sec.\n",
      "<Toggle Toggler_1>: GENROU.GENROU_2 status changed to 0 at t=1.0 sec.\n",
      "<Toggle Toggler_1>: GENROU.GENROU_2 status changed to 0 at t=1.0 sec.\n",
      "<Toggle Toggler_1>: GENROU.GENROU_2 status changed to 0 at t=1.0 sec.\n",
      "<Toggle Toggler_1>: GENROU.GENROU_2 status changed to 0 at t=1.0 sec.\n",
      "<Toggle Toggler_1>: GENROU.GENROU_2 status changed to 0 at t=1.0 sec.\n",
      "<Toggle Toggler_1>: GENROU.GENROU_2 status changed to 0 at t=1.0 sec.\n",
      "<Toggle Toggler_1>: GENROU.GENROU_2 status changed to 0 at t=1.0 sec.\n",
      "<Toggle Toggler_1>: GENROU.GENROU_2 status changed to 0 at t=1.0 sec.\n",
      "<Toggle Toggler_1>: GENROU.GENROU_2 status changed to 0 at t=1.0 sec.\n",
      "<Toggle Toggler_1>: GENROU.GENROU_2 status changed to 0 at t=1.0 sec.\n",
      "<Toggle Toggler_1>: GENROU.GENROU_2 status changed to 0 at t=1.0 sec.\n"
     ]
    },
    {
     "name": "stderr",
     "output_type": "stream",
     "text": [
      "/home/buxin/andes/andes/routines/eig.py:222: LinAlgWarning: Ill-conditioned matrix (rcond=2.88215e-19): result may not be accurate.\n",
      "  WT = solve(N, Weye, overwrite_b=True)\n"
     ]
    },
    {
     "name": "stdout",
     "output_type": "stream",
     "text": [
      "<Toggle Toggler_1>: GENROU.GENROU_2 status changed to 0 at t=1.0 sec.\n",
      "<Toggle Toggler_1>: GENROU.GENROU_2 status changed to 0 at t=1.0 sec.\n",
      "<Toggle Toggler_1>: GENROU.GENROU_2 status changed to 0 at t=1.0 sec.\n",
      "<Toggle Toggler_1>: GENROU.GENROU_2 status changed to 0 at t=1.0 sec.\n",
      "<Toggle Toggler_1>: GENROU.GENROU_2 status changed to 0 at t=1.0 sec.\n",
      "<Toggle Toggler_1>: GENROU.GENROU_2 status changed to 0 at t=1.0 sec.\n",
      "<Toggle Toggler_1>: GENROU.GENROU_2 status changed to 0 at t=1.0 sec.\n",
      "<Toggle Toggler_1>: GENROU.GENROU_2 status changed to 0 at t=1.0 sec.\n",
      "<Toggle Toggler_1>: GENROU.GENROU_2 status changed to 0 at t=1.0 sec.\n",
      "<Toggle Toggler_1>: GENROU.GENROU_2 status changed to 0 at t=1.0 sec.\n",
      "<Toggle Toggler_1>: GENROU.GENROU_2 status changed to 0 at t=1.0 sec.\n",
      "<Toggle Toggler_1>: GENROU.GENROU_2 status changed to 0 at t=1.0 sec.\n",
      "<Toggle Toggler_1>: GENROU.GENROU_2 status changed to 0 at t=1.0 sec.\n",
      "<Toggle Toggler_1>: GENROU.GENROU_2 status changed to 0 at t=1.0 sec.\n",
      "<Toggle Toggler_1>: GENROU.GENROU_2 status changed to 0 at t=1.0 sec.\n",
      "<Toggle Toggler_1>: GENROU.GENROU_2 status changed to 0 at t=1.0 sec.\n",
      "<Toggle Toggler_1>: GENROU.GENROU_2 status changed to 0 at t=1.0 sec.\n",
      "<Toggle Toggler_1>: GENROU.GENROU_2 status changed to 0 at t=1.0 sec.\n",
      "<Toggle Toggler_1>: GENROU.GENROU_2 status changed to 0 at t=1.0 sec.\n",
      "<Toggle Toggler_1>: GENROU.GENROU_2 status changed to 0 at t=1.0 sec.\n",
      "<Toggle Toggler_1>: GENROU.GENROU_2 status changed to 0 at t=1.0 sec.\n",
      "<Toggle Toggler_1>: GENROU.GENROU_2 status changed to 0 at t=1.0 sec.\n",
      "<Toggle Toggler_1>: GENROU.GENROU_2 status changed to 0 at t=1.0 sec.\n",
      "<Toggle Toggler_1>: GENROU.GENROU_2 status changed to 0 at t=1.0 sec.\n",
      "<Toggle Toggler_1>: GENROU.GENROU_2 status changed to 0 at t=1.0 sec.\n",
      "<Toggle Toggler_1>: GENROU.GENROU_2 status changed to 0 at t=1.0 sec.\n",
      "<Toggle Toggler_1>: GENROU.GENROU_2 status changed to 0 at t=1.0 sec.\n",
      "<Toggle Toggler_1>: GENROU.GENROU_2 status changed to 0 at t=1.0 sec.\n",
      "<Toggle Toggler_1>: GENROU.GENROU_2 status changed to 0 at t=1.0 sec.\n",
      "<Toggle Toggler_1>: GENROU.GENROU_2 status changed to 0 at t=1.0 sec.\n",
      "<Toggle Toggler_1>: GENROU.GENROU_2 status changed to 0 at t=1.0 sec.\n",
      "<Toggle Toggler_1>: GENROU.GENROU_2 status changed to 0 at t=1.0 sec.\n",
      "<Toggle Toggler_1>: GENROU.GENROU_2 status changed to 0 at t=1.0 sec.\n",
      "<Toggle Toggler_1>: GENROU.GENROU_2 status changed to 0 at t=1.0 sec.\n",
      "<Toggle Toggler_1>: GENROU.GENROU_2 status changed to 0 at t=1.0 sec.\n",
      "<Toggle Toggler_1>: GENROU.GENROU_2 status changed to 0 at t=1.0 sec.\n",
      "<Toggle Toggler_1>: GENROU.GENROU_2 status changed to 0 at t=1.0 sec.\n",
      "<Toggle Toggler_1>: GENROU.GENROU_2 status changed to 0 at t=1.0 sec.\n",
      "<Toggle Toggler_1>: GENROU.GENROU_2 status changed to 0 at t=1.0 sec.\n",
      "<Toggle Toggler_1>: GENROU.GENROU_2 status changed to 0 at t=1.0 sec.\n",
      "<Toggle Toggler_1>: GENROU.GENROU_2 status changed to 0 at t=1.0 sec.\n"
     ]
    },
    {
     "name": "stderr",
     "output_type": "stream",
     "text": [
      "/home/buxin/andes/andes/routines/eig.py:222: LinAlgWarning: Ill-conditioned matrix (rcond=6.74209e-18): result may not be accurate.\n",
      "  WT = solve(N, Weye, overwrite_b=True)\n"
     ]
    },
    {
     "name": "stdout",
     "output_type": "stream",
     "text": [
      "<Toggle Toggler_1>: GENROU.GENROU_2 status changed to 0 at t=1.0 sec.\n",
      "<Toggle Toggler_1>: GENROU.GENROU_2 status changed to 0 at t=1.0 sec.\n",
      "<Toggle Toggler_1>: GENROU.GENROU_2 status changed to 0 at t=1.0 sec.\n",
      "<Toggle Toggler_1>: GENROU.GENROU_2 status changed to 0 at t=1.0 sec.\n",
      "<Toggle Toggler_1>: GENROU.GENROU_2 status changed to 0 at t=1.0 sec.\n",
      "<Toggle Toggler_1>: GENROU.GENROU_2 status changed to 0 at t=1.0 sec.\n",
      "<Toggle Toggler_1>: GENROU.GENROU_2 status changed to 0 at t=1.0 sec.\n",
      "<Toggle Toggler_1>: GENROU.GENROU_2 status changed to 0 at t=1.0 sec.\n",
      "<Toggle Toggler_1>: GENROU.GENROU_2 status changed to 0 at t=1.0 sec.\n",
      "<Toggle Toggler_1>: GENROU.GENROU_2 status changed to 0 at t=1.0 sec.\n",
      "<Toggle Toggler_1>: GENROU.GENROU_2 status changed to 0 at t=1.0 sec.\n",
      "<Toggle Toggler_1>: GENROU.GENROU_2 status changed to 0 at t=1.0 sec.\n",
      "<Toggle Toggler_1>: GENROU.GENROU_2 status changed to 0 at t=1.0 sec.\n",
      "<Toggle Toggler_1>: GENROU.GENROU_2 status changed to 0 at t=1.0 sec.\n",
      "<Toggle Toggler_1>: GENROU.GENROU_2 status changed to 0 at t=1.0 sec.\n",
      "<Toggle Toggler_1>: GENROU.GENROU_2 status changed to 0 at t=1.0 sec.\n",
      "<Toggle Toggler_1>: GENROU.GENROU_2 status changed to 0 at t=1.0 sec.\n",
      "<Toggle Toggler_1>: GENROU.GENROU_2 status changed to 0 at t=1.0 sec.\n",
      "<Toggle Toggler_1>: GENROU.GENROU_2 status changed to 0 at t=1.0 sec.\n",
      "<Toggle Toggler_1>: GENROU.GENROU_2 status changed to 0 at t=1.0 sec.\n",
      "<Toggle Toggler_1>: GENROU.GENROU_2 status changed to 0 at t=1.0 sec.\n",
      "<Toggle Toggler_1>: GENROU.GENROU_2 status changed to 0 at t=1.0 sec.\n"
     ]
    },
    {
     "name": "stderr",
     "output_type": "stream",
     "text": [
      "/home/buxin/andes/andes/routines/eig.py:222: LinAlgWarning: Ill-conditioned matrix (rcond=2.25239e-18): result may not be accurate.\n",
      "  WT = solve(N, Weye, overwrite_b=True)\n"
     ]
    },
    {
     "name": "stdout",
     "output_type": "stream",
     "text": [
      "<Toggle Toggler_1>: GENROU.GENROU_2 status changed to 0 at t=1.0 sec.\n",
      "<Toggle Toggler_1>: GENROU.GENROU_2 status changed to 0 at t=1.0 sec.\n",
      "<Toggle Toggler_1>: GENROU.GENROU_2 status changed to 0 at t=1.0 sec.\n",
      "<Toggle Toggler_1>: GENROU.GENROU_2 status changed to 0 at t=1.0 sec.\n",
      "<Toggle Toggler_1>: GENROU.GENROU_2 status changed to 0 at t=1.0 sec.\n"
     ]
    },
    {
     "name": "stderr",
     "output_type": "stream",
     "text": [
      "/home/buxin/andes/andes/routines/eig.py:222: LinAlgWarning: Ill-conditioned matrix (rcond=5.38644e-20): result may not be accurate.\n",
      "  WT = solve(N, Weye, overwrite_b=True)\n"
     ]
    },
    {
     "name": "stdout",
     "output_type": "stream",
     "text": [
      "<Toggle Toggler_1>: GENROU.GENROU_2 status changed to 0 at t=1.0 sec.\n",
      "<Toggle Toggler_1>: GENROU.GENROU_2 status changed to 0 at t=1.0 sec.\n",
      "<Toggle Toggler_1>: GENROU.GENROU_2 status changed to 0 at t=1.0 sec.\n",
      "<Toggle Toggler_1>: GENROU.GENROU_2 status changed to 0 at t=1.0 sec.\n",
      "<Toggle Toggler_1>: GENROU.GENROU_2 status changed to 0 at t=1.0 sec.\n",
      "<Toggle Toggler_1>: GENROU.GENROU_2 status changed to 0 at t=1.0 sec.\n",
      "<Toggle Toggler_1>: GENROU.GENROU_2 status changed to 0 at t=1.0 sec.\n",
      "<Toggle Toggler_1>: GENROU.GENROU_2 status changed to 0 at t=1.0 sec.\n",
      "<Toggle Toggler_1>: GENROU.GENROU_2 status changed to 0 at t=1.0 sec.\n",
      "<Toggle Toggler_1>: GENROU.GENROU_2 status changed to 0 at t=1.0 sec.\n",
      "<Toggle Toggler_1>: GENROU.GENROU_2 status changed to 0 at t=1.0 sec.\n",
      "<Toggle Toggler_1>: GENROU.GENROU_2 status changed to 0 at t=1.0 sec.\n",
      "<Toggle Toggler_1>: GENROU.GENROU_2 status changed to 0 at t=1.0 sec.\n",
      "<Toggle Toggler_1>: GENROU.GENROU_2 status changed to 0 at t=1.0 sec.\n",
      "<Toggle Toggler_1>: GENROU.GENROU_2 status changed to 0 at t=1.0 sec.\n",
      "<Toggle Toggler_1>: GENROU.GENROU_2 status changed to 0 at t=1.0 sec.\n",
      "<Toggle Toggler_1>: GENROU.GENROU_2 status changed to 0 at t=1.0 sec.\n",
      "<Toggle Toggler_1>: GENROU.GENROU_2 status changed to 0 at t=1.0 sec.\n",
      "<Toggle Toggler_1>: GENROU.GENROU_2 status changed to 0 at t=1.0 sec.\n",
      "<Toggle Toggler_1>: GENROU.GENROU_2 status changed to 0 at t=1.0 sec.\n",
      "<Toggle Toggler_1>: GENROU.GENROU_2 status changed to 0 at t=1.0 sec.\n",
      "<Toggle Toggler_1>: GENROU.GENROU_2 status changed to 0 at t=1.0 sec.\n",
      "<Toggle Toggler_1>: GENROU.GENROU_2 status changed to 0 at t=1.0 sec.\n",
      "<Toggle Toggler_1>: GENROU.GENROU_2 status changed to 0 at t=1.0 sec.\n",
      "<Toggle Toggler_1>: GENROU.GENROU_2 status changed to 0 at t=1.0 sec.\n",
      "<Toggle Toggler_1>: GENROU.GENROU_2 status changed to 0 at t=1.0 sec.\n",
      "<Toggle Toggler_1>: GENROU.GENROU_2 status changed to 0 at t=1.0 sec.\n",
      "<Toggle Toggler_1>: GENROU.GENROU_2 status changed to 0 at t=1.0 sec.\n",
      "<Toggle Toggler_1>: GENROU.GENROU_2 status changed to 0 at t=1.0 sec.\n",
      "<Toggle Toggler_1>: GENROU.GENROU_2 status changed to 0 at t=1.0 sec.\n",
      "<Toggle Toggler_1>: GENROU.GENROU_2 status changed to 0 at t=1.0 sec.\n"
     ]
    },
    {
     "name": "stderr",
     "output_type": "stream",
     "text": [
      "/home/buxin/andes/andes/routines/eig.py:222: LinAlgWarning: Ill-conditioned matrix (rcond=6.03071e-20): result may not be accurate.\n",
      "  WT = solve(N, Weye, overwrite_b=True)\n"
     ]
    },
    {
     "name": "stdout",
     "output_type": "stream",
     "text": [
      "<Toggle Toggler_1>: GENROU.GENROU_2 status changed to 0 at t=1.0 sec.\n",
      "<Toggle Toggler_1>: GENROU.GENROU_2 status changed to 0 at t=1.0 sec.\n",
      "<Toggle Toggler_1>: GENROU.GENROU_2 status changed to 0 at t=1.0 sec.\n",
      "<Toggle Toggler_1>: GENROU.GENROU_2 status changed to 0 at t=1.0 sec.\n",
      "<Toggle Toggler_1>: GENROU.GENROU_2 status changed to 0 at t=1.0 sec.\n",
      "<Toggle Toggler_1>: GENROU.GENROU_2 status changed to 0 at t=1.0 sec.\n",
      "<Toggle Toggler_1>: GENROU.GENROU_2 status changed to 0 at t=1.0 sec.\n",
      "<Toggle Toggler_1>: GENROU.GENROU_2 status changed to 0 at t=1.0 sec.\n",
      "<Toggle Toggler_1>: GENROU.GENROU_2 status changed to 0 at t=1.0 sec.\n",
      "<Toggle Toggler_1>: GENROU.GENROU_2 status changed to 0 at t=1.0 sec.\n",
      "<Toggle Toggler_1>: GENROU.GENROU_2 status changed to 0 at t=1.0 sec.\n",
      "<Toggle Toggler_1>: GENROU.GENROU_2 status changed to 0 at t=1.0 sec.\n",
      "<Toggle Toggler_1>: GENROU.GENROU_2 status changed to 0 at t=1.0 sec.\n",
      "<Toggle Toggler_1>: GENROU.GENROU_2 status changed to 0 at t=1.0 sec.\n",
      "<Toggle Toggler_1>: GENROU.GENROU_2 status changed to 0 at t=1.0 sec.\n",
      "<Toggle Toggler_1>: GENROU.GENROU_2 status changed to 0 at t=1.0 sec.\n",
      "<Toggle Toggler_1>: GENROU.GENROU_2 status changed to 0 at t=1.0 sec.\n",
      "<Toggle Toggler_1>: GENROU.GENROU_2 status changed to 0 at t=1.0 sec.\n",
      "<Toggle Toggler_1>: GENROU.GENROU_2 status changed to 0 at t=1.0 sec.\n",
      "<Toggle Toggler_1>: GENROU.GENROU_2 status changed to 0 at t=1.0 sec.\n",
      "<Toggle Toggler_1>: GENROU.GENROU_2 status changed to 0 at t=1.0 sec.\n",
      "<Toggle Toggler_1>: GENROU.GENROU_2 status changed to 0 at t=1.0 sec.\n",
      "<Toggle Toggler_1>: GENROU.GENROU_2 status changed to 0 at t=1.0 sec.\n",
      "<Toggle Toggler_1>: GENROU.GENROU_2 status changed to 0 at t=1.0 sec.\n",
      "<Toggle Toggler_1>: GENROU.GENROU_2 status changed to 0 at t=1.0 sec.\n",
      "<Toggle Toggler_1>: GENROU.GENROU_2 status changed to 0 at t=1.0 sec.\n",
      "<Toggle Toggler_1>: GENROU.GENROU_2 status changed to 0 at t=1.0 sec.\n",
      "<Toggle Toggler_1>: GENROU.GENROU_2 status changed to 0 at t=1.0 sec.\n",
      "<Toggle Toggler_1>: GENROU.GENROU_2 status changed to 0 at t=1.0 sec.\n",
      "<Toggle Toggler_1>: GENROU.GENROU_2 status changed to 0 at t=1.0 sec.\n",
      "<Toggle Toggler_1>: GENROU.GENROU_2 status changed to 0 at t=1.0 sec.\n",
      "<Toggle Toggler_1>: GENROU.GENROU_2 status changed to 0 at t=1.0 sec.\n",
      "<Toggle Toggler_1>: GENROU.GENROU_2 status changed to 0 at t=1.0 sec.\n",
      "<Toggle Toggler_1>: GENROU.GENROU_2 status changed to 0 at t=1.0 sec.\n",
      "<Toggle Toggler_1>: GENROU.GENROU_2 status changed to 0 at t=1.0 sec.\n",
      "<Toggle Toggler_1>: GENROU.GENROU_2 status changed to 0 at t=1.0 sec.\n",
      "<Toggle Toggler_1>: GENROU.GENROU_2 status changed to 0 at t=1.0 sec.\n"
     ]
    },
    {
     "name": "stderr",
     "output_type": "stream",
     "text": [
      "/home/buxin/andes/andes/routines/eig.py:222: LinAlgWarning: Ill-conditioned matrix (rcond=9.03933e-17): result may not be accurate.\n",
      "  WT = solve(N, Weye, overwrite_b=True)\n"
     ]
    },
    {
     "name": "stdout",
     "output_type": "stream",
     "text": [
      "<Toggle Toggler_1>: GENROU.GENROU_2 status changed to 0 at t=1.0 sec.\n",
      "<Toggle Toggler_1>: GENROU.GENROU_2 status changed to 0 at t=1.0 sec.\n",
      "<Toggle Toggler_1>: GENROU.GENROU_2 status changed to 0 at t=1.0 sec.\n",
      "<Toggle Toggler_1>: GENROU.GENROU_2 status changed to 0 at t=1.0 sec.\n",
      "<Toggle Toggler_1>: GENROU.GENROU_2 status changed to 0 at t=1.0 sec.\n",
      "<Toggle Toggler_1>: GENROU.GENROU_2 status changed to 0 at t=1.0 sec.\n",
      "<Toggle Toggler_1>: GENROU.GENROU_2 status changed to 0 at t=1.0 sec.\n",
      "<Toggle Toggler_1>: GENROU.GENROU_2 status changed to 0 at t=1.0 sec.\n",
      "<Toggle Toggler_1>: GENROU.GENROU_2 status changed to 0 at t=1.0 sec.\n",
      "<Toggle Toggler_1>: GENROU.GENROU_2 status changed to 0 at t=1.0 sec.\n",
      "<Toggle Toggler_1>: GENROU.GENROU_2 status changed to 0 at t=1.0 sec.\n",
      "<Toggle Toggler_1>: GENROU.GENROU_2 status changed to 0 at t=1.0 sec.\n",
      "<Toggle Toggler_1>: GENROU.GENROU_2 status changed to 0 at t=1.0 sec.\n",
      "<Toggle Toggler_1>: GENROU.GENROU_2 status changed to 0 at t=1.0 sec.\n",
      "<Toggle Toggler_1>: GENROU.GENROU_2 status changed to 0 at t=1.0 sec.\n",
      "<Toggle Toggler_1>: GENROU.GENROU_2 status changed to 0 at t=1.0 sec.\n",
      "<Toggle Toggler_1>: GENROU.GENROU_2 status changed to 0 at t=1.0 sec.\n",
      "<Toggle Toggler_1>: GENROU.GENROU_2 status changed to 0 at t=1.0 sec.\n",
      "<Toggle Toggler_1>: GENROU.GENROU_2 status changed to 0 at t=1.0 sec.\n",
      "<Toggle Toggler_1>: GENROU.GENROU_2 status changed to 0 at t=1.0 sec.\n",
      "<Toggle Toggler_1>: GENROU.GENROU_2 status changed to 0 at t=1.0 sec.\n",
      "<Toggle Toggler_1>: GENROU.GENROU_2 status changed to 0 at t=1.0 sec.\n",
      "<Toggle Toggler_1>: GENROU.GENROU_2 status changed to 0 at t=1.0 sec.\n",
      "<Toggle Toggler_1>: GENROU.GENROU_2 status changed to 0 at t=1.0 sec.\n",
      "<Toggle Toggler_1>: GENROU.GENROU_2 status changed to 0 at t=1.0 sec.\n",
      "<Toggle Toggler_1>: GENROU.GENROU_2 status changed to 0 at t=1.0 sec.\n",
      "<Toggle Toggler_1>: GENROU.GENROU_2 status changed to 0 at t=1.0 sec.\n",
      "<Toggle Toggler_1>: GENROU.GENROU_2 status changed to 0 at t=1.0 sec.\n",
      "<Toggle Toggler_1>: GENROU.GENROU_2 status changed to 0 at t=1.0 sec.\n",
      "<Toggle Toggler_1>: GENROU.GENROU_2 status changed to 0 at t=1.0 sec.\n",
      "<Toggle Toggler_1>: GENROU.GENROU_2 status changed to 0 at t=1.0 sec.\n",
      "<Toggle Toggler_1>: GENROU.GENROU_2 status changed to 0 at t=1.0 sec.\n",
      "<Toggle Toggler_1>: GENROU.GENROU_2 status changed to 0 at t=1.0 sec.\n",
      "<Toggle Toggler_1>: GENROU.GENROU_2 status changed to 0 at t=1.0 sec.\n",
      "<Toggle Toggler_1>: GENROU.GENROU_2 status changed to 0 at t=1.0 sec.\n",
      "<Toggle Toggler_1>: GENROU.GENROU_2 status changed to 0 at t=1.0 sec.\n",
      "<Toggle Toggler_1>: GENROU.GENROU_2 status changed to 0 at t=1.0 sec.\n",
      "<Toggle Toggler_1>: GENROU.GENROU_2 status changed to 0 at t=1.0 sec.\n",
      "<Toggle Toggler_1>: GENROU.GENROU_2 status changed to 0 at t=1.0 sec.\n",
      "<Toggle Toggler_1>: GENROU.GENROU_2 status changed to 0 at t=1.0 sec.\n",
      "<Toggle Toggler_1>: GENROU.GENROU_2 status changed to 0 at t=1.0 sec.\n",
      "<Toggle Toggler_1>: GENROU.GENROU_2 status changed to 0 at t=1.0 sec.\n",
      "<Toggle Toggler_1>: GENROU.GENROU_2 status changed to 0 at t=1.0 sec.\n",
      "<Toggle Toggler_1>: GENROU.GENROU_2 status changed to 0 at t=1.0 sec.\n",
      "<Toggle Toggler_1>: GENROU.GENROU_2 status changed to 0 at t=1.0 sec.\n",
      "<Toggle Toggler_1>: GENROU.GENROU_2 status changed to 0 at t=1.0 sec.\n",
      "<Toggle Toggler_1>: GENROU.GENROU_2 status changed to 0 at t=1.0 sec.\n",
      "<Toggle Toggler_1>: GENROU.GENROU_2 status changed to 0 at t=1.0 sec.\n",
      "<Toggle Toggler_1>: GENROU.GENROU_2 status changed to 0 at t=1.0 sec.\n",
      "<Toggle Toggler_1>: GENROU.GENROU_2 status changed to 0 at t=1.0 sec.\n",
      "<Toggle Toggler_1>: GENROU.GENROU_2 status changed to 0 at t=1.0 sec.\n",
      "<Toggle Toggler_1>: GENROU.GENROU_2 status changed to 0 at t=1.0 sec.\n",
      "<Toggle Toggler_1>: GENROU.GENROU_2 status changed to 0 at t=1.0 sec.\n",
      "<Toggle Toggler_1>: GENROU.GENROU_2 status changed to 0 at t=1.0 sec.\n",
      "<Toggle Toggler_1>: GENROU.GENROU_2 status changed to 0 at t=1.0 sec.\n",
      "<Toggle Toggler_1>: GENROU.GENROU_2 status changed to 0 at t=1.0 sec.\n",
      "<Toggle Toggler_1>: GENROU.GENROU_2 status changed to 0 at t=1.0 sec.\n",
      "<Toggle Toggler_1>: GENROU.GENROU_2 status changed to 0 at t=1.0 sec.\n",
      "<Toggle Toggler_1>: GENROU.GENROU_2 status changed to 0 at t=1.0 sec.\n",
      "<Toggle Toggler_1>: GENROU.GENROU_2 status changed to 0 at t=1.0 sec.\n",
      "<Toggle Toggler_1>: GENROU.GENROU_2 status changed to 0 at t=1.0 sec.\n",
      "<Toggle Toggler_1>: GENROU.GENROU_2 status changed to 0 at t=1.0 sec.\n",
      "<Toggle Toggler_1>: GENROU.GENROU_2 status changed to 0 at t=1.0 sec.\n",
      "<Toggle Toggler_1>: GENROU.GENROU_2 status changed to 0 at t=1.0 sec.\n",
      "<Toggle Toggler_1>: GENROU.GENROU_2 status changed to 0 at t=1.0 sec.\n",
      "<Toggle Toggler_1>: GENROU.GENROU_2 status changed to 0 at t=1.0 sec.\n",
      "<Toggle Toggler_1>: GENROU.GENROU_2 status changed to 0 at t=1.0 sec.\n",
      "<Toggle Toggler_1>: GENROU.GENROU_2 status changed to 0 at t=1.0 sec.\n",
      "<Toggle Toggler_1>: GENROU.GENROU_2 status changed to 0 at t=1.0 sec.\n",
      "<Toggle Toggler_1>: GENROU.GENROU_2 status changed to 0 at t=1.0 sec.\n",
      "<Toggle Toggler_1>: GENROU.GENROU_2 status changed to 0 at t=1.0 sec.\n",
      "<Toggle Toggler_1>: GENROU.GENROU_2 status changed to 0 at t=1.0 sec.\n",
      "<Toggle Toggler_1>: GENROU.GENROU_2 status changed to 0 at t=1.0 sec.\n"
     ]
    },
    {
     "name": "stderr",
     "output_type": "stream",
     "text": [
      "/home/buxin/andes/andes/routines/eig.py:222: LinAlgWarning: Ill-conditioned matrix (rcond=1.44441e-18): result may not be accurate.\n",
      "  WT = solve(N, Weye, overwrite_b=True)\n"
     ]
    },
    {
     "name": "stdout",
     "output_type": "stream",
     "text": [
      "<Toggle Toggler_1>: GENROU.GENROU_2 status changed to 0 at t=1.0 sec.\n",
      "<Toggle Toggler_1>: GENROU.GENROU_2 status changed to 0 at t=1.0 sec.\n",
      "<Toggle Toggler_1>: GENROU.GENROU_2 status changed to 0 at t=1.0 sec.\n",
      "<Toggle Toggler_1>: GENROU.GENROU_2 status changed to 0 at t=1.0 sec.\n",
      "<Toggle Toggler_1>: GENROU.GENROU_2 status changed to 0 at t=1.0 sec.\n",
      "<Toggle Toggler_1>: GENROU.GENROU_2 status changed to 0 at t=1.0 sec.\n",
      "<Toggle Toggler_1>: GENROU.GENROU_2 status changed to 0 at t=1.0 sec.\n",
      "<Toggle Toggler_1>: GENROU.GENROU_2 status changed to 0 at t=1.0 sec.\n",
      "<Toggle Toggler_1>: GENROU.GENROU_2 status changed to 0 at t=1.0 sec.\n",
      "<Toggle Toggler_1>: GENROU.GENROU_2 status changed to 0 at t=1.0 sec.\n",
      "<Toggle Toggler_1>: GENROU.GENROU_2 status changed to 0 at t=1.0 sec.\n",
      "<Toggle Toggler_1>: GENROU.GENROU_2 status changed to 0 at t=1.0 sec.\n",
      "<Toggle Toggler_1>: GENROU.GENROU_2 status changed to 0 at t=1.0 sec.\n",
      "<Toggle Toggler_1>: GENROU.GENROU_2 status changed to 0 at t=1.0 sec.\n",
      "<Toggle Toggler_1>: GENROU.GENROU_2 status changed to 0 at t=1.0 sec.\n",
      "<Toggle Toggler_1>: GENROU.GENROU_2 status changed to 0 at t=1.0 sec.\n",
      "<Toggle Toggler_1>: GENROU.GENROU_2 status changed to 0 at t=1.0 sec.\n",
      "<Toggle Toggler_1>: GENROU.GENROU_2 status changed to 0 at t=1.0 sec.\n",
      "<Toggle Toggler_1>: GENROU.GENROU_2 status changed to 0 at t=1.0 sec.\n",
      "<Toggle Toggler_1>: GENROU.GENROU_2 status changed to 0 at t=1.0 sec.\n",
      "<Toggle Toggler_1>: GENROU.GENROU_2 status changed to 0 at t=1.0 sec.\n",
      "<Toggle Toggler_1>: GENROU.GENROU_2 status changed to 0 at t=1.0 sec.\n",
      "<Toggle Toggler_1>: GENROU.GENROU_2 status changed to 0 at t=1.0 sec.\n",
      "<Toggle Toggler_1>: GENROU.GENROU_2 status changed to 0 at t=1.0 sec.\n",
      "<Toggle Toggler_1>: GENROU.GENROU_2 status changed to 0 at t=1.0 sec.\n",
      "<Toggle Toggler_1>: GENROU.GENROU_2 status changed to 0 at t=1.0 sec.\n",
      "<Toggle Toggler_1>: GENROU.GENROU_2 status changed to 0 at t=1.0 sec.\n",
      "<Toggle Toggler_1>: GENROU.GENROU_2 status changed to 0 at t=1.0 sec.\n",
      "<Toggle Toggler_1>: GENROU.GENROU_2 status changed to 0 at t=1.0 sec.\n"
     ]
    },
    {
     "name": "stderr",
     "output_type": "stream",
     "text": [
      "/home/buxin/andes/andes/routines/eig.py:222: LinAlgWarning: Ill-conditioned matrix (rcond=9.92325e-20): result may not be accurate.\n",
      "  WT = solve(N, Weye, overwrite_b=True)\n"
     ]
    },
    {
     "name": "stdout",
     "output_type": "stream",
     "text": [
      "<Toggle Toggler_1>: GENROU.GENROU_2 status changed to 0 at t=1.0 sec.\n",
      "<Toggle Toggler_1>: GENROU.GENROU_2 status changed to 0 at t=1.0 sec.\n",
      "<Toggle Toggler_1>: GENROU.GENROU_2 status changed to 0 at t=1.0 sec.\n",
      "<Toggle Toggler_1>: GENROU.GENROU_2 status changed to 0 at t=1.0 sec.\n",
      "<Toggle Toggler_1>: GENROU.GENROU_2 status changed to 0 at t=1.0 sec.\n",
      "<Toggle Toggler_1>: GENROU.GENROU_2 status changed to 0 at t=1.0 sec.\n",
      "<Toggle Toggler_1>: GENROU.GENROU_2 status changed to 0 at t=1.0 sec.\n",
      "<Toggle Toggler_1>: GENROU.GENROU_2 status changed to 0 at t=1.0 sec.\n",
      "<Toggle Toggler_1>: GENROU.GENROU_2 status changed to 0 at t=1.0 sec.\n",
      "<Toggle Toggler_1>: GENROU.GENROU_2 status changed to 0 at t=1.0 sec.\n",
      "<Toggle Toggler_1>: GENROU.GENROU_2 status changed to 0 at t=1.0 sec.\n",
      "<Toggle Toggler_1>: GENROU.GENROU_2 status changed to 0 at t=1.0 sec.\n"
     ]
    },
    {
     "name": "stderr",
     "output_type": "stream",
     "text": [
      "/home/buxin/andes/andes/routines/eig.py:222: LinAlgWarning: Ill-conditioned matrix (rcond=5.30573e-17): result may not be accurate.\n",
      "  WT = solve(N, Weye, overwrite_b=True)\n"
     ]
    },
    {
     "name": "stdout",
     "output_type": "stream",
     "text": [
      "<Toggle Toggler_1>: GENROU.GENROU_2 status changed to 0 at t=1.0 sec.\n",
      "<Toggle Toggler_1>: GENROU.GENROU_2 status changed to 0 at t=1.0 sec.\n",
      "<Toggle Toggler_1>: GENROU.GENROU_2 status changed to 0 at t=1.0 sec.\n",
      "<Toggle Toggler_1>: GENROU.GENROU_2 status changed to 0 at t=1.0 sec.\n",
      "<Toggle Toggler_1>: GENROU.GENROU_2 status changed to 0 at t=1.0 sec.\n",
      "<Toggle Toggler_1>: GENROU.GENROU_2 status changed to 0 at t=1.0 sec.\n",
      "<Toggle Toggler_1>: GENROU.GENROU_2 status changed to 0 at t=1.0 sec.\n",
      "<Toggle Toggler_1>: GENROU.GENROU_2 status changed to 0 at t=1.0 sec.\n",
      "<Toggle Toggler_1>: GENROU.GENROU_2 status changed to 0 at t=1.0 sec.\n",
      "<Toggle Toggler_1>: GENROU.GENROU_2 status changed to 0 at t=1.0 sec.\n",
      "<Toggle Toggler_1>: GENROU.GENROU_2 status changed to 0 at t=1.0 sec.\n",
      "<Toggle Toggler_1>: GENROU.GENROU_2 status changed to 0 at t=1.0 sec.\n",
      "<Toggle Toggler_1>: GENROU.GENROU_2 status changed to 0 at t=1.0 sec.\n",
      "<Toggle Toggler_1>: GENROU.GENROU_2 status changed to 0 at t=1.0 sec.\n",
      "<Toggle Toggler_1>: GENROU.GENROU_2 status changed to 0 at t=1.0 sec.\n",
      "<Toggle Toggler_1>: GENROU.GENROU_2 status changed to 0 at t=1.0 sec.\n",
      "<Toggle Toggler_1>: GENROU.GENROU_2 status changed to 0 at t=1.0 sec.\n",
      "<Toggle Toggler_1>: GENROU.GENROU_2 status changed to 0 at t=1.0 sec.\n",
      "<Toggle Toggler_1>: GENROU.GENROU_2 status changed to 0 at t=1.0 sec.\n",
      "<Toggle Toggler_1>: GENROU.GENROU_2 status changed to 0 at t=1.0 sec.\n",
      "<Toggle Toggler_1>: GENROU.GENROU_2 status changed to 0 at t=1.0 sec.\n",
      "<Toggle Toggler_1>: GENROU.GENROU_2 status changed to 0 at t=1.0 sec.\n",
      "<Toggle Toggler_1>: GENROU.GENROU_2 status changed to 0 at t=1.0 sec.\n",
      "<Toggle Toggler_1>: GENROU.GENROU_2 status changed to 0 at t=1.0 sec.\n",
      "<Toggle Toggler_1>: GENROU.GENROU_2 status changed to 0 at t=1.0 sec.\n",
      "<Toggle Toggler_1>: GENROU.GENROU_2 status changed to 0 at t=1.0 sec.\n",
      "<Toggle Toggler_1>: GENROU.GENROU_2 status changed to 0 at t=1.0 sec.\n",
      "<Toggle Toggler_1>: GENROU.GENROU_2 status changed to 0 at t=1.0 sec.\n",
      "<Toggle Toggler_1>: GENROU.GENROU_2 status changed to 0 at t=1.0 sec.\n",
      "<Toggle Toggler_1>: GENROU.GENROU_2 status changed to 0 at t=1.0 sec.\n",
      "<Toggle Toggler_1>: GENROU.GENROU_2 status changed to 0 at t=1.0 sec.\n",
      "<Toggle Toggler_1>: GENROU.GENROU_2 status changed to 0 at t=1.0 sec.\n",
      "<Toggle Toggler_1>: GENROU.GENROU_2 status changed to 0 at t=1.0 sec.\n",
      "<Toggle Toggler_1>: GENROU.GENROU_2 status changed to 0 at t=1.0 sec.\n",
      "<Toggle Toggler_1>: GENROU.GENROU_2 status changed to 0 at t=1.0 sec.\n",
      "<Toggle Toggler_1>: GENROU.GENROU_2 status changed to 0 at t=1.0 sec.\n",
      "<Toggle Toggler_1>: GENROU.GENROU_2 status changed to 0 at t=1.0 sec.\n",
      "<Toggle Toggler_1>: GENROU.GENROU_2 status changed to 0 at t=1.0 sec.\n",
      "<Toggle Toggler_1>: GENROU.GENROU_2 status changed to 0 at t=1.0 sec.\n",
      "<Toggle Toggler_1>: GENROU.GENROU_2 status changed to 0 at t=1.0 sec.\n",
      "<Toggle Toggler_1>: GENROU.GENROU_2 status changed to 0 at t=1.0 sec.\n",
      "<Toggle Toggler_1>: GENROU.GENROU_2 status changed to 0 at t=1.0 sec.\n",
      "<Toggle Toggler_1>: GENROU.GENROU_2 status changed to 0 at t=1.0 sec.\n",
      "<Toggle Toggler_1>: GENROU.GENROU_2 status changed to 0 at t=1.0 sec.\n",
      "<Toggle Toggler_1>: GENROU.GENROU_2 status changed to 0 at t=1.0 sec.\n",
      "<Toggle Toggler_1>: GENROU.GENROU_2 status changed to 0 at t=1.0 sec.\n",
      "<Toggle Toggler_1>: GENROU.GENROU_2 status changed to 0 at t=1.0 sec.\n",
      "<Toggle Toggler_1>: GENROU.GENROU_2 status changed to 0 at t=1.0 sec.\n",
      "<Toggle Toggler_1>: GENROU.GENROU_2 status changed to 0 at t=1.0 sec.\n",
      "<Toggle Toggler_1>: GENROU.GENROU_2 status changed to 0 at t=1.0 sec.\n",
      "<Toggle Toggler_1>: GENROU.GENROU_2 status changed to 0 at t=1.0 sec.\n",
      "<Toggle Toggler_1>: GENROU.GENROU_2 status changed to 0 at t=1.0 sec.\n",
      "<Toggle Toggler_1>: GENROU.GENROU_2 status changed to 0 at t=1.0 sec.\n",
      "<Toggle Toggler_1>: GENROU.GENROU_2 status changed to 0 at t=1.0 sec.\n",
      "<Toggle Toggler_1>: GENROU.GENROU_2 status changed to 0 at t=1.0 sec.\n",
      "<Toggle Toggler_1>: GENROU.GENROU_2 status changed to 0 at t=1.0 sec.\n",
      "<Toggle Toggler_1>: GENROU.GENROU_2 status changed to 0 at t=1.0 sec.\n",
      "<Toggle Toggler_1>: GENROU.GENROU_2 status changed to 0 at t=1.0 sec.\n",
      "<Toggle Toggler_1>: GENROU.GENROU_2 status changed to 0 at t=1.0 sec.\n",
      "<Toggle Toggler_1>: GENROU.GENROU_2 status changed to 0 at t=1.0 sec.\n",
      "<Toggle Toggler_1>: GENROU.GENROU_2 status changed to 0 at t=1.0 sec.\n",
      "<Toggle Toggler_1>: GENROU.GENROU_2 status changed to 0 at t=1.0 sec.\n",
      "<Toggle Toggler_1>: GENROU.GENROU_2 status changed to 0 at t=1.0 sec.\n",
      "<Toggle Toggler_1>: GENROU.GENROU_2 status changed to 0 at t=1.0 sec.\n",
      "<Toggle Toggler_1>: GENROU.GENROU_2 status changed to 0 at t=1.0 sec.\n",
      "<Toggle Toggler_1>: GENROU.GENROU_2 status changed to 0 at t=1.0 sec.\n",
      "<Toggle Toggler_1>: GENROU.GENROU_2 status changed to 0 at t=1.0 sec.\n",
      "<Toggle Toggler_1>: GENROU.GENROU_2 status changed to 0 at t=1.0 sec.\n",
      "<Toggle Toggler_1>: GENROU.GENROU_2 status changed to 0 at t=1.0 sec.\n",
      "<Toggle Toggler_1>: GENROU.GENROU_2 status changed to 0 at t=1.0 sec.\n",
      "<Toggle Toggler_1>: GENROU.GENROU_2 status changed to 0 at t=1.0 sec.\n",
      "<Toggle Toggler_1>: GENROU.GENROU_2 status changed to 0 at t=1.0 sec.\n",
      "<Toggle Toggler_1>: GENROU.GENROU_2 status changed to 0 at t=1.0 sec.\n",
      "<Toggle Toggler_1>: GENROU.GENROU_2 status changed to 0 at t=1.0 sec.\n"
     ]
    },
    {
     "name": "stderr",
     "output_type": "stream",
     "text": [
      "/home/buxin/andes/andes/routines/eig.py:222: LinAlgWarning: Ill-conditioned matrix (rcond=1.50828e-17): result may not be accurate.\n",
      "  WT = solve(N, Weye, overwrite_b=True)\n"
     ]
    },
    {
     "name": "stdout",
     "output_type": "stream",
     "text": [
      "<Toggle Toggler_1>: GENROU.GENROU_2 status changed to 0 at t=1.0 sec.\n",
      "<Toggle Toggler_1>: GENROU.GENROU_2 status changed to 0 at t=1.0 sec.\n",
      "<Toggle Toggler_1>: GENROU.GENROU_2 status changed to 0 at t=1.0 sec.\n",
      "<Toggle Toggler_1>: GENROU.GENROU_2 status changed to 0 at t=1.0 sec.\n",
      "<Toggle Toggler_1>: GENROU.GENROU_2 status changed to 0 at t=1.0 sec.\n",
      "<Toggle Toggler_1>: GENROU.GENROU_2 status changed to 0 at t=1.0 sec.\n",
      "<Toggle Toggler_1>: GENROU.GENROU_2 status changed to 0 at t=1.0 sec.\n",
      "<Toggle Toggler_1>: GENROU.GENROU_2 status changed to 0 at t=1.0 sec.\n",
      "<Toggle Toggler_1>: GENROU.GENROU_2 status changed to 0 at t=1.0 sec.\n",
      "<Toggle Toggler_1>: GENROU.GENROU_2 status changed to 0 at t=1.0 sec.\n",
      "<Toggle Toggler_1>: GENROU.GENROU_2 status changed to 0 at t=1.0 sec.\n",
      "<Toggle Toggler_1>: GENROU.GENROU_2 status changed to 0 at t=1.0 sec.\n",
      "<Toggle Toggler_1>: GENROU.GENROU_2 status changed to 0 at t=1.0 sec.\n",
      "<Toggle Toggler_1>: GENROU.GENROU_2 status changed to 0 at t=1.0 sec.\n",
      "<Toggle Toggler_1>: GENROU.GENROU_2 status changed to 0 at t=1.0 sec.\n",
      "<Toggle Toggler_1>: GENROU.GENROU_2 status changed to 0 at t=1.0 sec.\n",
      "<Toggle Toggler_1>: GENROU.GENROU_2 status changed to 0 at t=1.0 sec.\n",
      "<Toggle Toggler_1>: GENROU.GENROU_2 status changed to 0 at t=1.0 sec.\n",
      "<Toggle Toggler_1>: GENROU.GENROU_2 status changed to 0 at t=1.0 sec.\n",
      "<Toggle Toggler_1>: GENROU.GENROU_2 status changed to 0 at t=1.0 sec.\n",
      "<Toggle Toggler_1>: GENROU.GENROU_2 status changed to 0 at t=1.0 sec.\n",
      "<Toggle Toggler_1>: GENROU.GENROU_2 status changed to 0 at t=1.0 sec.\n",
      "<Toggle Toggler_1>: GENROU.GENROU_2 status changed to 0 at t=1.0 sec.\n"
     ]
    },
    {
     "name": "stderr",
     "output_type": "stream",
     "text": [
      "/home/buxin/andes/andes/routines/eig.py:222: LinAlgWarning: Ill-conditioned matrix (rcond=5.08241e-17): result may not be accurate.\n",
      "  WT = solve(N, Weye, overwrite_b=True)\n"
     ]
    },
    {
     "name": "stdout",
     "output_type": "stream",
     "text": [
      "<Toggle Toggler_1>: GENROU.GENROU_2 status changed to 0 at t=1.0 sec.\n"
     ]
    },
    {
     "name": "stderr",
     "output_type": "stream",
     "text": [
      "/home/buxin/andes/andes/routines/eig.py:222: LinAlgWarning: Ill-conditioned matrix (rcond=1.2738e-17): result may not be accurate.\n",
      "  WT = solve(N, Weye, overwrite_b=True)\n"
     ]
    },
    {
     "name": "stdout",
     "output_type": "stream",
     "text": [
      "<Toggle Toggler_1>: GENROU.GENROU_2 status changed to 0 at t=1.0 sec.\n"
     ]
    },
    {
     "name": "stderr",
     "output_type": "stream",
     "text": [
      "/home/buxin/andes/andes/routines/eig.py:222: LinAlgWarning: Ill-conditioned matrix (rcond=4.26983e-17): result may not be accurate.\n",
      "  WT = solve(N, Weye, overwrite_b=True)\n"
     ]
    },
    {
     "name": "stdout",
     "output_type": "stream",
     "text": [
      "<Toggle Toggler_1>: GENROU.GENROU_2 status changed to 0 at t=1.0 sec.\n",
      "<Toggle Toggler_1>: GENROU.GENROU_2 status changed to 0 at t=1.0 sec.\n",
      "<Toggle Toggler_1>: GENROU.GENROU_2 status changed to 0 at t=1.0 sec.\n",
      "<Toggle Toggler_1>: GENROU.GENROU_2 status changed to 0 at t=1.0 sec.\n",
      "<Toggle Toggler_1>: GENROU.GENROU_2 status changed to 0 at t=1.0 sec.\n",
      "<Toggle Toggler_1>: GENROU.GENROU_2 status changed to 0 at t=1.0 sec.\n",
      "<Toggle Toggler_1>: GENROU.GENROU_2 status changed to 0 at t=1.0 sec.\n",
      "<Toggle Toggler_1>: GENROU.GENROU_2 status changed to 0 at t=1.0 sec.\n",
      "<Toggle Toggler_1>: GENROU.GENROU_2 status changed to 0 at t=1.0 sec.\n",
      "<Toggle Toggler_1>: GENROU.GENROU_2 status changed to 0 at t=1.0 sec.\n",
      "<Toggle Toggler_1>: GENROU.GENROU_2 status changed to 0 at t=1.0 sec.\n",
      "<Toggle Toggler_1>: GENROU.GENROU_2 status changed to 0 at t=1.0 sec.\n"
     ]
    },
    {
     "name": "stderr",
     "output_type": "stream",
     "text": [
      "/home/buxin/andes/andes/routines/eig.py:222: LinAlgWarning: Ill-conditioned matrix (rcond=2.18549e-17): result may not be accurate.\n",
      "  WT = solve(N, Weye, overwrite_b=True)\n"
     ]
    },
    {
     "name": "stdout",
     "output_type": "stream",
     "text": [
      "<Toggle Toggler_1>: GENROU.GENROU_2 status changed to 0 at t=1.0 sec.\n",
      "<Toggle Toggler_1>: GENROU.GENROU_2 status changed to 0 at t=1.0 sec.\n",
      "<Toggle Toggler_1>: GENROU.GENROU_2 status changed to 0 at t=1.0 sec.\n",
      "<Toggle Toggler_1>: GENROU.GENROU_2 status changed to 0 at t=1.0 sec.\n",
      "<Toggle Toggler_1>: GENROU.GENROU_2 status changed to 0 at t=1.0 sec.\n",
      "<Toggle Toggler_1>: GENROU.GENROU_2 status changed to 0 at t=1.0 sec.\n",
      "<Toggle Toggler_1>: GENROU.GENROU_2 status changed to 0 at t=1.0 sec.\n",
      "<Toggle Toggler_1>: GENROU.GENROU_2 status changed to 0 at t=1.0 sec.\n",
      "<Toggle Toggler_1>: GENROU.GENROU_2 status changed to 0 at t=1.0 sec.\n",
      "<Toggle Toggler_1>: GENROU.GENROU_2 status changed to 0 at t=1.0 sec.\n",
      "<Toggle Toggler_1>: GENROU.GENROU_2 status changed to 0 at t=1.0 sec.\n",
      "<Toggle Toggler_1>: GENROU.GENROU_2 status changed to 0 at t=1.0 sec.\n",
      "<Toggle Toggler_1>: GENROU.GENROU_2 status changed to 0 at t=1.0 sec.\n",
      "<Toggle Toggler_1>: GENROU.GENROU_2 status changed to 0 at t=1.0 sec.\n",
      "<Toggle Toggler_1>: GENROU.GENROU_2 status changed to 0 at t=1.0 sec.\n",
      "<Toggle Toggler_1>: GENROU.GENROU_2 status changed to 0 at t=1.0 sec.\n",
      "<Toggle Toggler_1>: GENROU.GENROU_2 status changed to 0 at t=1.0 sec.\n",
      "<Toggle Toggler_1>: GENROU.GENROU_2 status changed to 0 at t=1.0 sec.\n",
      "<Toggle Toggler_1>: GENROU.GENROU_2 status changed to 0 at t=1.0 sec.\n",
      "<Toggle Toggler_1>: GENROU.GENROU_2 status changed to 0 at t=1.0 sec.\n",
      "<Toggle Toggler_1>: GENROU.GENROU_2 status changed to 0 at t=1.0 sec.\n",
      "<Toggle Toggler_1>: GENROU.GENROU_2 status changed to 0 at t=1.0 sec.\n"
     ]
    },
    {
     "name": "stderr",
     "output_type": "stream",
     "text": [
      "/home/buxin/andes/andes/routines/eig.py:222: LinAlgWarning: Ill-conditioned matrix (rcond=3.42931e-20): result may not be accurate.\n",
      "  WT = solve(N, Weye, overwrite_b=True)\n"
     ]
    },
    {
     "name": "stdout",
     "output_type": "stream",
     "text": [
      "<Toggle Toggler_1>: GENROU.GENROU_2 status changed to 0 at t=1.0 sec.\n",
      "<Toggle Toggler_1>: GENROU.GENROU_2 status changed to 0 at t=1.0 sec.\n",
      "<Toggle Toggler_1>: GENROU.GENROU_2 status changed to 0 at t=1.0 sec.\n",
      "<Toggle Toggler_1>: GENROU.GENROU_2 status changed to 0 at t=1.0 sec.\n",
      "<Toggle Toggler_1>: GENROU.GENROU_2 status changed to 0 at t=1.0 sec.\n"
     ]
    },
    {
     "name": "stderr",
     "output_type": "stream",
     "text": [
      "/home/buxin/andes/andes/routines/eig.py:222: LinAlgWarning: Ill-conditioned matrix (rcond=1.95472e-17): result may not be accurate.\n",
      "  WT = solve(N, Weye, overwrite_b=True)\n"
     ]
    },
    {
     "name": "stdout",
     "output_type": "stream",
     "text": [
      "<Toggle Toggler_1>: GENROU.GENROU_2 status changed to 0 at t=1.0 sec.\n",
      "<Toggle Toggler_1>: GENROU.GENROU_2 status changed to 0 at t=1.0 sec.\n",
      "<Toggle Toggler_1>: GENROU.GENROU_2 status changed to 0 at t=1.0 sec.\n",
      "<Toggle Toggler_1>: GENROU.GENROU_2 status changed to 0 at t=1.0 sec.\n",
      "<Toggle Toggler_1>: GENROU.GENROU_2 status changed to 0 at t=1.0 sec.\n",
      "<Toggle Toggler_1>: GENROU.GENROU_2 status changed to 0 at t=1.0 sec.\n",
      "<Toggle Toggler_1>: GENROU.GENROU_2 status changed to 0 at t=1.0 sec.\n",
      "<Toggle Toggler_1>: GENROU.GENROU_2 status changed to 0 at t=1.0 sec.\n"
     ]
    },
    {
     "name": "stderr",
     "output_type": "stream",
     "text": [
      "/home/buxin/andes/andes/routines/eig.py:222: LinAlgWarning: Ill-conditioned matrix (rcond=8.89017e-17): result may not be accurate.\n",
      "  WT = solve(N, Weye, overwrite_b=True)\n"
     ]
    },
    {
     "name": "stdout",
     "output_type": "stream",
     "text": [
      "<Toggle Toggler_1>: GENROU.GENROU_2 status changed to 0 at t=1.0 sec.\n",
      "<Toggle Toggler_1>: GENROU.GENROU_2 status changed to 0 at t=1.0 sec.\n",
      "<Toggle Toggler_1>: GENROU.GENROU_2 status changed to 0 at t=1.0 sec.\n",
      "<Toggle Toggler_1>: GENROU.GENROU_2 status changed to 0 at t=1.0 sec.\n",
      "<Toggle Toggler_1>: GENROU.GENROU_2 status changed to 0 at t=1.0 sec.\n",
      "<Toggle Toggler_1>: GENROU.GENROU_2 status changed to 0 at t=1.0 sec.\n",
      "<Toggle Toggler_1>: GENROU.GENROU_2 status changed to 0 at t=1.0 sec.\n",
      "<Toggle Toggler_1>: GENROU.GENROU_2 status changed to 0 at t=1.0 sec.\n",
      "<Toggle Toggler_1>: GENROU.GENROU_2 status changed to 0 at t=1.0 sec.\n",
      "<Toggle Toggler_1>: GENROU.GENROU_2 status changed to 0 at t=1.0 sec.\n",
      "<Toggle Toggler_1>: GENROU.GENROU_2 status changed to 0 at t=1.0 sec.\n",
      "<Toggle Toggler_1>: GENROU.GENROU_2 status changed to 0 at t=1.0 sec.\n",
      "<Toggle Toggler_1>: GENROU.GENROU_2 status changed to 0 at t=1.0 sec.\n",
      "<Toggle Toggler_1>: GENROU.GENROU_2 status changed to 0 at t=1.0 sec.\n",
      "<Toggle Toggler_1>: GENROU.GENROU_2 status changed to 0 at t=1.0 sec.\n",
      "<Toggle Toggler_1>: GENROU.GENROU_2 status changed to 0 at t=1.0 sec.\n",
      "<Toggle Toggler_1>: GENROU.GENROU_2 status changed to 0 at t=1.0 sec.\n",
      "<Toggle Toggler_1>: GENROU.GENROU_2 status changed to 0 at t=1.0 sec.\n",
      "<Toggle Toggler_1>: GENROU.GENROU_2 status changed to 0 at t=1.0 sec.\n",
      "<Toggle Toggler_1>: GENROU.GENROU_2 status changed to 0 at t=1.0 sec.\n",
      "<Toggle Toggler_1>: GENROU.GENROU_2 status changed to 0 at t=1.0 sec.\n",
      "<Toggle Toggler_1>: GENROU.GENROU_2 status changed to 0 at t=1.0 sec.\n",
      "<Toggle Toggler_1>: GENROU.GENROU_2 status changed to 0 at t=1.0 sec.\n",
      "<Toggle Toggler_1>: GENROU.GENROU_2 status changed to 0 at t=1.0 sec.\n",
      "<Toggle Toggler_1>: GENROU.GENROU_2 status changed to 0 at t=1.0 sec.\n",
      "<Toggle Toggler_1>: GENROU.GENROU_2 status changed to 0 at t=1.0 sec.\n",
      "<Toggle Toggler_1>: GENROU.GENROU_2 status changed to 0 at t=1.0 sec.\n",
      "<Toggle Toggler_1>: GENROU.GENROU_2 status changed to 0 at t=1.0 sec.\n"
     ]
    }
   ],
   "source": [
    "output = []\n",
    "\n",
    "for i in range(num_samples):\n",
    "    \n",
    "    # ------------ Reload case -------------\n",
    "    # --------------------------------------\n",
    "    ssa = andes.load(case,\n",
    "                 setup=True,\n",
    "                 no_output=True)\n",
    "\n",
    "    # ------- Modify case parameters -------\n",
    "    # --------------------------------------\n",
    "    # reset load\n",
    "    ssa.PQ.set(\n",
    "                src='p0', \n",
    "                idx= ssa.PQ.idx.v, \n",
    "                attr='v',\n",
    "                value= ssa.PQ.p0.v * input[i][0]\n",
    "            )\n",
    "    # reset power setting point\n",
    "    ssa.PV.set(\n",
    "                src='p0', \n",
    "                idx= ssa.PV.idx.v, \n",
    "                attr='v',\n",
    "                value= input[i][1]\n",
    "            )\n",
    "    # reset REGCV1 control parameters\n",
    "    ssa.REGCV1.set(\n",
    "                    src='M', \n",
    "                    idx= ssa.REGCV1.idx.v,\n",
    "                    attr='v',\n",
    "                    value= input[i][2]\n",
    "                )\n",
    "    ssa.REGCV1.set(\n",
    "                    src='D', \n",
    "                    idx= ssa.REGCV1.idx.v, \n",
    "                    attr='v',\n",
    "                    value= input[i][3]\n",
    "                )\n",
    "\n",
    "    # ------- Run simulation ---------------\n",
    "    # --------------------------------------\n",
    "    ssa.PFlow.run()\n",
    "    ssa.TDS.init()\n",
    "\n",
    "    ssa.EIG.run()\n",
    "    eig     = ssa.EIG.calc_eig()\n",
    "    eig_max = np.max(eig[0].real)\n",
    "\n",
    "    # Turn off stability check in TDS\n",
    "    ssa.TDS.config.criteria = 0\n",
    "    ssa.TDS.config.no_tqdm = 1    # Turn off simulation progress bar\n",
    "    ssa.TDS.config.tf = 10        # Simulation time\n",
    "    ssa.TDS.run()\n",
    "    ssa.EIG.run()\n",
    "\n",
    "    eig_     = ssa.EIG.calc_eig()\n",
    "    eig_max_ = np.max(eig[0].real)\n",
    "\n",
    "    # ------- extract data from TDS-----------------\n",
    "    # --------------------------------------\n",
    "    # Extract time\n",
    "    t = ssa.dae.ts.t\n",
    "    t = t[:, np.newaxis]\n",
    "\n",
    "    # Extract RoCoF\n",
    "    rocof     = ssa.dae.ts.y[:,  ssa.BusROCOF.Wf_y.a]\n",
    "    rocof_max = np.max(np.abs(rocof*60))\n",
    "\n",
    "    # Extract frequency\n",
    "    f         = ssa.dae.ts.x[:,  ssa.GENROU.omega.a]\n",
    "    fnadir    = np.min(f)*60 - 60\n",
    "\n",
    "    # Extract voltage\n",
    "    # busV      = ssa.dae.ts.y[:,  ssa.Bus.v.a]\n",
    "    # busV_min  = np.min(busV)\n",
    "\n",
    "    # Extract power angle\n",
    "    theta      = ssa.dae.ts.y[:, ssa.GENROU.a.a]\n",
    "    dtheta     = np.max(theta, axis=1) - np.min(theta, axis=1)\n",
    "    dtheta_max = np.max(dtheta)\n",
    "\n",
    "    output.append([rocof_max, fnadir, dtheta_max, np.max([eig_max, eig_max_])])"
   ]
  },
  {
   "cell_type": "markdown",
   "metadata": {},
   "source": [
    "# Save data\n",
    "\n",
    "Or save data in the loop"
   ]
  },
  {
   "cell_type": "code",
   "execution_count": 5,
   "metadata": {},
   "outputs": [
    {
     "name": "stdout",
     "output_type": "stream",
     "text": [
      "Input Data saved to input_1000.csv\n"
     ]
    }
   ],
   "source": [
    "filename = \"input_1000.csv\"\n",
    "\n",
    "# Save the list to a CSV file\n",
    "with open(filename, mode='w', newline='') as file:\n",
    "    writer = csv.writer(file)\n",
    "    writer.writerows(input_new)\n",
    "\n",
    "print(\"Input Data saved to\", filename)"
   ]
  },
  {
   "cell_type": "code",
   "execution_count": 6,
   "metadata": {},
   "outputs": [
    {
     "name": "stdout",
     "output_type": "stream",
     "text": [
      "Output Data saved to output_1000.csv\n"
     ]
    }
   ],
   "source": [
    "filename = \"output_1000.csv\"\n",
    "\n",
    "# Save the list to a CSV file\n",
    "with open(filename, mode='w', newline='') as file:\n",
    "    writer = csv.writer(file)\n",
    "    writer.writerows(output)\n",
    "\n",
    "print(\"Output Data saved to\", filename)"
   ]
  }
 ],
 "metadata": {
  "kernelspec": {
   "display_name": "base",
   "language": "python",
   "name": "python3"
  },
  "language_info": {
   "codemirror_mode": {
    "name": "ipython",
    "version": 3
   },
   "file_extension": ".py",
   "mimetype": "text/x-python",
   "name": "python",
   "nbconvert_exporter": "python",
   "pygments_lexer": "ipython3",
   "version": "3.9.17"
  },
  "orig_nbformat": 4
 },
 "nbformat": 4,
 "nbformat_minor": 2
}
