{
 "cells": [
  {
   "cell_type": "code",
   "execution_count": 1,
   "metadata": {},
   "outputs": [
    {
     "name": "stdout",
     "output_type": "stream",
     "text": [
      "1.6.5.post15.dev0+g5913913e\n"
     ]
    }
   ],
   "source": [
    "import andes\n",
    "print(andes.__version__)"
   ]
  },
  {
   "cell_type": "code",
   "execution_count": 2,
   "metadata": {},
   "outputs": [
    {
     "name": "stderr",
     "output_type": "stream",
     "text": [
      "error: file \"/Users/jinningwang/Documents/work/andes/andes/cases/ieee14/ieee14_ac8b.xlsx\" does not exist.\n",
      "No valid case found.\n"
     ]
    }
   ],
   "source": [
    "# /Users/jinningwang/Documents/work/andes/icebar/test_vsg/ieee14_vsg.xlsx\n",
    "# /Users/jinningwang/Documents/work/andes/andes/cases/ieee14/ieee14_regcp1.xlsx\n",
    "# /Users/jinningwang/Documents/work/andes/icebar/test_vsg/ieee14_vsg.xlsx\n",
    "case_ac8b = '/Users/jinningwang/Documents/work/andes/icebar/test_vsg/ieee14_ac8b.xlsx'\n",
    "case_replace = '/Users/jinningwang/Documents/work/andes/icebar/test_vsg/ieee14_vsg.xlsx'\n",
    "ss = andes.load(case_ac8b,\n",
    "                # default_config=True,\n",
    "                setup=True,\n",
    "                no_output=False,\n",
    "                )"
   ]
  },
  {
   "cell_type": "code",
   "execution_count": 3,
   "metadata": {
    "scrolled": true
   },
   "outputs": [
    {
     "ename": "AttributeError",
     "evalue": "'NoneType' object has no attribute 'PFlow'",
     "output_type": "error",
     "traceback": [
      "\u001b[0;31m---------------------------------------------------------------------------\u001b[0m",
      "\u001b[0;31mAttributeError\u001b[0m                            Traceback (most recent call last)",
      "\u001b[1;32m/Users/jinningwang/Documents/work/andes/icebar/test_vsg/test_init.ipynb Cell 3'\u001b[0m in \u001b[0;36m<cell line: 1>\u001b[0;34m()\u001b[0m\n\u001b[0;32m----> <a href='vscode-notebook-cell:/Users/jinningwang/Documents/work/andes/icebar/test_vsg/test_init.ipynb#ch0000002?line=0'>1</a>\u001b[0m ss\u001b[39m.\u001b[39;49mPFlow\u001b[39m.\u001b[39mrun()\n",
      "\u001b[0;31mAttributeError\u001b[0m: 'NoneType' object has no attribute 'PFlow'"
     ]
    }
   ],
   "source": [
    "ss.PFlow.run()"
   ]
  },
  {
   "cell_type": "code",
   "execution_count": null,
   "metadata": {},
   "outputs": [],
   "source": [
    "ss.REGCV2.Id0.v_str"
   ]
  },
  {
   "cell_type": "code",
   "execution_count": null,
   "metadata": {},
   "outputs": [],
   "source": [
    "ss.TDS.init()"
   ]
  },
  {
   "cell_type": "code",
   "execution_count": null,
   "metadata": {},
   "outputs": [],
   "source": [
    "ss.TDS.config.tf = 50\n",
    "ss.TDS.run()"
   ]
  },
  {
   "cell_type": "code",
   "execution_count": null,
   "metadata": {},
   "outputs": [],
   "source": [
    "ss.TDS.plt.plot(ss.GENROU.v)"
   ]
  },
  {
   "cell_type": "code",
   "execution_count": null,
   "metadata": {},
   "outputs": [],
   "source": [
    "ss.TDS.plt.plot(ss.REGCV2.omega)"
   ]
  },
  {
   "cell_type": "code",
   "execution_count": null,
   "metadata": {},
   "outputs": [],
   "source": [
    "ss.TDS.plt.plot(ss.GENROU.omega)"
   ]
  },
  {
   "cell_type": "code",
   "execution_count": null,
   "metadata": {},
   "outputs": [],
   "source": [
    "ss.TDS.plt.plot([ss.REGCV2.Pe, ss.REGCV2.Qe], right=10, hline=0)"
   ]
  },
  {
   "cell_type": "code",
   "execution_count": null,
   "metadata": {},
   "outputs": [],
   "source": [
    "ss.TDS.plt.plot([ss.REGCV2.vd, ss.REGCV2.vq], right=10, hline=0)"
   ]
  },
  {
   "cell_type": "code",
   "execution_count": null,
   "metadata": {},
   "outputs": [],
   "source": [
    "ss.TDS.plt.plot(ss.REGCV2.Qe)"
   ]
  },
  {
   "cell_type": "code",
   "execution_count": null,
   "metadata": {},
   "outputs": [],
   "source": [
    "!andes misc -C"
   ]
  },
  {
   "cell_type": "code",
   "execution_count": null,
   "metadata": {},
   "outputs": [],
   "source": [
    "ss.EIG.run()\n",
    "ss.EIG.plot()"
   ]
  }
 ],
 "metadata": {
  "interpreter": {
   "hash": "b8c542af61804583455bb3cc02c5acff1b7eab71b36b048085e6e502c5a0f30d"
  },
  "kernelspec": {
   "display_name": "Python 3 (ipykernel)",
   "language": "python",
   "name": "python3"
  },
  "language_info": {
   "codemirror_mode": {
    "name": "ipython",
    "version": 3
   },
   "file_extension": ".py",
   "mimetype": "text/x-python",
   "name": "python",
   "nbconvert_exporter": "python",
   "pygments_lexer": "ipython3",
   "version": "3.9.12"
  }
 },
 "nbformat": 4,
 "nbformat_minor": 2
}
