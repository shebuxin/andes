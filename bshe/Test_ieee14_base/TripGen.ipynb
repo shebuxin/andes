{
 "cells": [
  {
   "cell_type": "markdown",
   "metadata": {},
   "source": [
    "# Test andes - trip Gen\n",
    "```\n",
    "To debug: there are stability issues.\n",
    "```"
   ]
  },
  {
   "cell_type": "code",
   "execution_count": 1,
   "metadata": {},
   "outputs": [
    {
     "name": "stdout",
     "output_type": "stream",
     "text": [
      "Andes version: 1.6.5.post5.dev0+g348865c3\n",
      "Pandapower version: 2.8.0\n"
     ]
    }
   ],
   "source": [
    "import andes\n",
    "import os\n",
    "import pandas as pd\n",
    "import pandapower as pp\n",
    "\n",
    "# andes and pandapower version\n",
    "print(f'Andes version: {andes.__version__}')\n",
    "print(f'Pandapower version: {pp.__version__}')"
   ]
  },
  {
   "cell_type": "code",
   "execution_count": 2,
   "metadata": {},
   "outputs": [],
   "source": [
    "# get andes case from excel\n",
    "dir_path = os.path.abspath('..')\n",
    "case_path = '/Test_ieee14_base/ieee14_base.xlsx'\n",
    "case = dir_path + case_path\n",
    "\n",
    "ssa = andes.load(case,\n",
    "                 setup=False,\n",
    "                 no_output=True,\n",
    "                 default_config=False)"
   ]
  },
  {
   "cell_type": "code",
   "execution_count": 3,
   "metadata": {},
   "outputs": [
    {
     "data": {
      "text/html": [
       "<div>\n",
       "<style scoped>\n",
       "    .dataframe tbody tr th:only-of-type {\n",
       "        vertical-align: middle;\n",
       "    }\n",
       "\n",
       "    .dataframe tbody tr th {\n",
       "        vertical-align: top;\n",
       "    }\n",
       "\n",
       "    .dataframe thead th {\n",
       "        text-align: right;\n",
       "    }\n",
       "</style>\n",
       "<table border=\"1\" class=\"dataframe\">\n",
       "  <thead>\n",
       "    <tr style=\"text-align: right;\">\n",
       "      <th></th>\n",
       "      <th>idx</th>\n",
       "      <th>u</th>\n",
       "      <th>name</th>\n",
       "      <th>model</th>\n",
       "      <th>dev</th>\n",
       "      <th>t</th>\n",
       "    </tr>\n",
       "    <tr>\n",
       "      <th>uid</th>\n",
       "      <th></th>\n",
       "      <th></th>\n",
       "      <th></th>\n",
       "      <th></th>\n",
       "      <th></th>\n",
       "      <th></th>\n",
       "    </tr>\n",
       "  </thead>\n",
       "  <tbody>\n",
       "    <tr>\n",
       "      <th>0</th>\n",
       "      <td>1</td>\n",
       "      <td>0.0</td>\n",
       "      <td>Toggler_1</td>\n",
       "      <td>Line</td>\n",
       "      <td>Line_1</td>\n",
       "      <td>1.0</td>\n",
       "    </tr>\n",
       "    <tr>\n",
       "      <th>1</th>\n",
       "      <td>2</td>\n",
       "      <td>0.0</td>\n",
       "      <td>Toggler_2</td>\n",
       "      <td>Line</td>\n",
       "      <td>Line_1</td>\n",
       "      <td>1.1</td>\n",
       "    </tr>\n",
       "    <tr>\n",
       "      <th>2</th>\n",
       "      <td>Toggler_3</td>\n",
       "      <td>1.0</td>\n",
       "      <td>Toggler_3</td>\n",
       "      <td>SynGen</td>\n",
       "      <td>GENROU_2</td>\n",
       "      <td>1.0</td>\n",
       "    </tr>\n",
       "  </tbody>\n",
       "</table>\n",
       "</div>"
      ],
      "text/plain": [
       "           idx    u       name   model       dev    t\n",
       "uid                                                  \n",
       "0            1  0.0  Toggler_1    Line    Line_1  1.0\n",
       "1            2  0.0  Toggler_2    Line    Line_1  1.1\n",
       "2    Toggler_3  1.0  Toggler_3  SynGen  GENROU_2  1.0"
      ]
     },
     "execution_count": 3,
     "metadata": {},
     "output_type": "execute_result"
    }
   ],
   "source": [
    "# Add a Toggler that disconnects `GENROU_2` at t=1 s\n",
    "ssa.add(\"Toggler\", dict(model='SynGen', dev=\"GENROU_2\", t=1.0))\n",
    "\n",
    "ssa.setup()\n",
    "\n",
    "ssa.Toggler.as_df()"
   ]
  },
  {
   "cell_type": "code",
   "execution_count": 4,
   "metadata": {},
   "outputs": [
    {
     "data": {
      "application/vnd.jupyter.widget-view+json": {
       "model_id": "eae81c78fd3c412cad99033b61080a2e",
       "version_major": 2,
       "version_minor": 0
      },
      "text/plain": [
       "  0%|          | 0/100 [00:00<?, ?%/s]"
      ]
     },
     "metadata": {},
     "output_type": "display_data"
    },
    {
     "name": "stdout",
     "output_type": "stream",
     "text": [
      "<Toggler Toggler_3>: SynGen.GENROU_2 status changed to 0 at t=1.0 sec.\n"
     ]
    },
    {
     "data": {
      "text/plain": [
       "True"
      ]
     },
     "execution_count": 4,
     "metadata": {},
     "output_type": "execute_result"
    }
   ],
   "source": [
    "ssa.PFlow.run()\n",
    "\n",
    "# set sim time\n",
    "ssa.TDS.config.tf = 20\n",
    "\n",
    "ssa.TDS.run()"
   ]
  },
  {
   "cell_type": "code",
   "execution_count": 5,
   "metadata": {},
   "outputs": [
    {
     "data": {
      "image/png": "[encoded data removed]",
      "text/plain": [
       "<Figure size 480x320 with 1 Axes>"
      ]
     },
     "metadata": {
      "needs_background": "light"
     },
     "output_type": "display_data"
    },
    {
     "data": {
      "text/plain": [
       "(<Figure size 480x320 with 1 Axes>, <AxesSubplot:xlabel='Time [s]'>)"
      ]
     },
     "execution_count": 5,
     "metadata": {},
     "output_type": "execute_result"
    }
   ],
   "source": [
    "ssa.TDS.load_plotter()\n",
    "\n",
    "ssa.TDS.plt.plot(ssa.GENROU.omega,\n",
    "                a=(0, 2, 3, 4),\n",
    "                ytimes=60,\n",
    "               )"
   ]
  },
  {
   "cell_type": "code",
   "execution_count": 7,
   "metadata": {},
   "outputs": [
    {
     "data": {
      "image/png": "[encoded data removed]",
      "text/plain": [
       "<Figure size 480x320 with 1 Axes>"
      ]
     },
     "metadata": {
      "needs_background": "light"
     },
     "output_type": "display_data"
    },
    {
     "data": {
      "text/plain": [
       "(<Figure size 480x320 with 1 Axes>, <AxesSubplot:xlabel='Time [s]'>)"
      ]
     },
     "execution_count": 7,
     "metadata": {},
     "output_type": "execute_result"
    }
   ],
   "source": [
    "ssa.TDS.plt.plot(ssa.GENROU.Pe,\n",
    "                a=(0, 2, 3, 4),\n",
    "                ytimes=60,\n",
    "               )"
   ]
  },
  {
   "cell_type": "code",
   "execution_count": 6,
   "metadata": {},
   "outputs": [
    {
     "name": "stderr",
     "output_type": "stream",
     "text": [
      "Singular matrix. Case is not solvable\n",
      "/Users/buxinshe/Documents/git-repo/andes/andes/routines/eig.py:224: LinAlgWarning: Ill-conditioned matrix (rcond=1.24534e-35): result may not be accurate.\n",
      "  WT = solve(N, Weye, overwrite_b=True)\n"
     ]
    },
    {
     "data": {
      "image/png": "[encoded data removed]",
      "text/plain": [
       "<Figure size 600x400 with 1 Axes>"
      ]
     },
     "metadata": {
      "needs_background": "light"
     },
     "output_type": "display_data"
    },
    {
     "data": {
      "text/plain": [
       "(<Figure size 600x400 with 1 Axes>,\n",
       " <AxesSubplot:xlabel='Real [$s^{-1}$]', ylabel='Imaginary [$s^{-1}$]'>)"
      ]
     },
     "execution_count": 6,
     "metadata": {},
     "output_type": "execute_result"
    }
   ],
   "source": [
    "ssa.EIG.run()\n",
    "ssa.EIG.plot()"
   ]
  }
 ],
 "metadata": {
  "interpreter": {
   "hash": "92db1f2a11a76f7a418d851adb0781f3e73d5b182acdc0024399e5c6e3e8abd7"
  },
  "kernelspec": {
   "display_name": "Python 3.8.12 ('andes': conda)",
   "language": "python",
   "name": "python3"
  },
  "language_info": {
   "codemirror_mode": {
    "name": "ipython",
    "version": 3
   },
   "file_extension": ".py",
   "mimetype": "text/x-python",
   "name": "python",
   "nbconvert_exporter": "python",
   "pygments_lexer": "ipython3",
   "version": "3.8.13"
  },
  "orig_nbformat": 4
 },
 "nbformat": 4,
 "nbformat_minor": 2
}
