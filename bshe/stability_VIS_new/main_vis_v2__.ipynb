{
 "cells": [
  {
   "cell_type": "code",
   "execution_count": 1,
   "metadata": {},
   "outputs": [],
   "source": [
    "# public packages\n",
    "import andes\n",
    "import ams\n",
    "import cvxpy as cp\n",
    "import numpy as np\n",
    "import gurobipy\n",
    "\n",
    "# local packages\n",
    "import anci_fun as af\n",
    "\n",
    "# v1 try to include dynamic constraints using reduced input/output NN model\n",
    "\n",
    "# ------ nn information ------\n",
    "# input:   [M, D]\n",
    "# output:  [rocof_max, fnadir, dtheta_max, eig_max]\n",
    "# nn_diam: [16, 128, 4]"
   ]
  },
  {
   "cell_type": "markdown",
   "metadata": {},
   "source": [
    "# Para preparetion"
   ]
  },
  {
   "cell_type": "code",
   "execution_count": 2,
   "metadata": {},
   "outputs": [],
   "source": [
    "# neural network parameters \n",
    "nn_name = 'trained_model.pth'\n",
    "nn_weights, nn_bias, nn_diam = af.extract_nn_para(nn_name) # three list"
   ]
  },
  {
   "cell_type": "code",
   "execution_count": 3,
   "metadata": {},
   "outputs": [],
   "source": [
    "# MD parameters\n",
    "vsg_num = 8\n",
    "\n",
    "# lb_M = np.array([0, 0, 0, 0, 0, 0, 0, 0])\n",
    "lb_M = np.array([0.05, 0.05, 0.05, 0.05, 0.05, 0.05, 0.05, 0.05])\n",
    "ub_M = np.array([6, 6, 6, 6, 6, 6, 6, 6])\n",
    "\n",
    "# lb_D = np.array([0, 0, 0, 0, 0, 0, 0, 0])\n",
    "lb_D = np.array([0.01, 0.01, 0.01, 0.01, 0.01, 0.01, 0.01, 0.01])\n",
    "ub_D = np.array([4, 4, 4, 4, 4, 4, 4, 4])"
   ]
  },
  {
   "cell_type": "code",
   "execution_count": 4,
   "metadata": {},
   "outputs": [],
   "source": [
    "sf_load = 1.0\n",
    "\n",
    "# y = [rocof_max, fnadir, dtheta_max, eig_max]\n",
    "lb_y = np.array([-0.5, -0.6, -3.14, -10000])\n",
    "ub_y = np.array([ 0.5,  0.6,  3.14,  0.001])"
   ]
  },
  {
   "cell_type": "markdown",
   "metadata": {},
   "source": [
    "# Load ams model"
   ]
  },
  {
   "cell_type": "code",
   "execution_count": 5,
   "metadata": {},
   "outputs": [
    {
     "name": "stderr",
     "output_type": "stream",
     "text": [
      "LDOPF solved as optimal in 0.0680 seconds with exit code 0.\n"
     ]
    },
    {
     "data": {
      "text/plain": [
       "OrderedDict([('pg', Variable((11,))),\n",
       "             ('pn', Variable((117,))),\n",
       "             ('qg', Variable((11,))),\n",
       "             ('qn', Variable((117,))),\n",
       "             ('vsq', Variable((117,))),\n",
       "             ('pl', Variable((116,))),\n",
       "             ('ql', Variable((116,)))])"
      ]
     },
     "execution_count": 5,
     "metadata": {},
     "output_type": "execute_result"
    }
   ],
   "source": [
    "ssp = ams.load('ams_case123_REGCV1_v5.xlsx')\n",
    "\n",
    "ssp.LDOPF.run()\n",
    "\n",
    "ssp.LDOPF.om.mdl.solve()\n",
    "\n",
    "ssp.LDOPF.om.vars"
   ]
  },
  {
   "cell_type": "markdown",
   "metadata": {},
   "source": [
    "# Define new variables, constraints, and obj"
   ]
  },
  {
   "cell_type": "code",
   "execution_count": 6,
   "metadata": {},
   "outputs": [],
   "source": [
    "# M and D\n",
    "\n",
    "M = cp.Variable(vsg_num, name=\"M\")\n",
    "D = cp.Variable(vsg_num, name=\"D\")\n",
    "\n",
    "constraints_M = [M >= lb_M, M <= ub_M]\n",
    "constraints_D = [D >= lb_D, D <= ub_D]"
   ]
  },
  {
   "cell_type": "code",
   "execution_count": 7,
   "metadata": {},
   "outputs": [],
   "source": [
    "# data for the neural network linearization\n",
    "pg    = ssp.LDOPF.om.pg\n",
    "\n",
    "x1    = cp.hstack([M, D])  # this version doesn't incelu load scaling factor\n",
    "\n",
    "w1    = nn_weights[0]\n",
    "w2    = nn_weights[1]\n",
    "\n",
    "b1    = nn_bias[0]\n",
    "b2    = nn_bias[1]\n",
    "\n",
    "hdown = -100\n",
    "hup   = 100"
   ]
  },
  {
   "cell_type": "code",
   "execution_count": 8,
   "metadata": {},
   "outputs": [],
   "source": [
    "# neural network linization\n",
    "\n",
    "z = cp.Variable(nn_diam[1], name=\"z\")\n",
    "a = cp.Variable(nn_diam[1], name=\"a\", boolean=True)\n",
    "\n",
    "z_ = w1 @ x1 + b1\n",
    "\n",
    "y = w2 @ z + b2\n",
    "\n",
    "constraints_nn = [\n",
    "                    # linization constraints\n",
    "                    z <= z_ - hdown * (1 - a),\n",
    "                    z >= z_,\n",
    "                    z <= hup * a,\n",
    "                    z >= 0,\n",
    "                    # output constraints\n",
    "                    # y[0] <= ub_y[0],       # RoCoF\n",
    "                    y[0] >= lb_y[0],\n",
    "                    # y[1] <= ub_y[1],       # fnadir\n",
    "                    # y[1] >= lb_y[1],\n",
    "                    # y[2] <= ub_y[2],       # dtheta_max\n",
    "                    # y[2] >= lb_y[2],\n",
    "                    # y[3] <= ub_y[3],       # eig_max\n",
    "                    # y[3] >= lb_y[3]             \n",
    "                ]"
   ]
  },
  {
   "cell_type": "code",
   "execution_count": 9,
   "metadata": {},
   "outputs": [
    {
     "data": {
      "text/plain": [
       "Expression(AFFINE, UNKNOWN, ())"
      ]
     },
     "execution_count": 9,
     "metadata": {},
     "output_type": "execute_result"
    }
   ],
   "source": [
    "y[0]"
   ]
  },
  {
   "cell_type": "code",
   "execution_count": 10,
   "metadata": {},
   "outputs": [],
   "source": [
    "# extract original ams constraints\n",
    "constriants_ams = [ssp.LDOPF.om.constrs[cname] for cname in ssp.LDOPF.om.constrs.keys()]"
   ]
  },
  {
   "cell_type": "code",
   "execution_count": 11,
   "metadata": {},
   "outputs": [],
   "source": [
    "constraints = constraints_M + constraints_D + constraints_nn + constriants_ams\n",
    "\n",
    "# constraints = constriants_ams + constraints_M + constraints_D"
   ]
  },
  {
   "cell_type": "markdown",
   "metadata": {},
   "source": [
    "# Formulate new problem\n",
    "\n",
    "pg = ['PV_1',\n",
    " 'PV_10',\n",
    " 'PV_11',\n",
    " 'PV_2',\n",
    " 'PV_3',\n",
    " 'PV_4',\n",
    " 'PV_5',\n",
    " 'PV_6',\n",
    " 'PV_7',\n",
    " 'PV_8',\n",
    " 'PV_9']\n",
    "\n",
    " SG: PV_1, PV_2, PV_3 (slack bus)\n",
    "\n",
    " IBR: PV_4, PV_5, ..., PV_11"
   ]
  },
  {
   "cell_type": "code",
   "execution_count": 12,
   "metadata": {},
   "outputs": [],
   "source": [
    "c2 = np.array([0.01, 0, 0, 0.01, 0.02, 0, 0, 0, 0, 0, 0])*100\n",
    "c1 = np.array([  20, 0, 0,   20,   30, 0, 0, 0, 0, 0, 0])*10\n",
    "\n",
    "# d  = np.array([0, 0, 0, 0.01, 0, 0, 0.001, 0])\n",
    "c_M  = np.array([0.02, 0.01, 0.5, 0.01, 0.06, 0.07, 0.01, 0.02])\n",
    "\n",
    "c_D  = np.array([0.01, 0.01, 0.01, 0.01, 0.01, 0.01, 0.02, 0.01])\n",
    "\n",
    "pg_power = pg**2\n",
    "\n",
    "#cost = cp.sum(c2 @ pg_power + c1 @ pg)\n",
    "\n",
    "cost = cp.sum(c2 @ pg_power + c1 @ pg + c_M @ M + c_D @ D)\n",
    "\n",
    "obj = cp.Minimize(cost)"
   ]
  },
  {
   "cell_type": "code",
   "execution_count": 13,
   "metadata": {},
   "outputs": [
    {
     "name": "stdout",
     "output_type": "stream",
     "text": [
      "===============================================================================\n",
      "                                     CVXPY                                     \n",
      "                                     v1.3.2                                    \n",
      "===============================================================================\n",
      "(CVXPY) Sep 12 10:56:07 PM: Your problem has 877 variables, 22 constraints, and 0 parameters.\n",
      "(CVXPY) Sep 12 10:56:07 PM: It is compliant with the following grammars: DCP, DQCP\n",
      "(CVXPY) Sep 12 10:56:07 PM: (If you need to solve this problem multiple times, but with different data, consider using parameters.)\n",
      "(CVXPY) Sep 12 10:56:07 PM: CVXPY will first compile your problem; then, it will invoke a numerical solver to obtain a solution.\n",
      "-------------------------------------------------------------------------------\n",
      "                                  Compilation                                  \n",
      "-------------------------------------------------------------------------------\n",
      "(CVXPY) Sep 12 10:56:07 PM: Compiling problem (target solver=ECOS_BB).\n",
      "(CVXPY) Sep 12 10:56:07 PM: Reduction chain: Dcp2Cone -> CvxAttr2Constr -> ConeMatrixStuffing -> ECOS_BB\n",
      "(CVXPY) Sep 12 10:56:07 PM: Applying reduction Dcp2Cone\n",
      "(CVXPY) Sep 12 10:56:07 PM: Applying reduction CvxAttr2Constr\n",
      "(CVXPY) Sep 12 10:56:07 PM: Applying reduction ConeMatrixStuffing\n",
      "(CVXPY) Sep 12 10:56:07 PM: Applying reduction ECOS_BB\n",
      "(CVXPY) Sep 12 10:56:07 PM: Finished problem compilation (took 3.282e-02 seconds).\n",
      "-------------------------------------------------------------------------------\n",
      "                                Numerical solver                               \n",
      "-------------------------------------------------------------------------------\n",
      "(CVXPY) Sep 12 10:56:07 PM: Invoking solver ECOS_BB  to obtain a solution.\n",
      "Iter\tLower Bound\tUpper Bound\tGap\n",
      "================================================\n",
      "\n",
      "ECOS 2.0.10 - (C) embotech GmbH, Zurich Switzerland, 2012-15. Web: www.embotech.com/ECOS\n",
      "\n",
      "It     pcost       dcost      gap   pres   dres    k/t    mu     step   sigma     IR    |   BT\n",
      " 0  +4.395e+02  -2.897e+06  +3e+06  2e-02  6e-01  1e+00  2e+03    ---    ---    1  1  - |  -  - \n",
      " 1  +3.030e+01  -9.150e+05  +1e+06  5e-03  2e-01  8e+01  7e+02  0.7170  5e-02   2  2  2 |  0  0\n",
      " 2  +6.413e+01  -1.237e+05  +1e+05  6e-04  3e-02  5e+01  1e+02  0.9185  6e-02   2  2  2 |  0  0\n",
      " 3  +2.861e+01  -2.928e+03  +3e+03  2e-05  2e-03  9e-01  2e+00  0.9756  1e-04   1  1  1 |  0  0\n",
      " 4  +2.141e+01  -2.295e+02  +3e+02  1e-06  2e-04  1e-01  2e-01  0.9294  2e-02   1  1  1 |  0  0\n",
      " 5  +2.037e+01  -7.015e+00  +3e+01  1e-07  3e-05  1e-02  2e-02  0.8994  9e-03   1  1  1 |  0  0\n",
      " 6  +2.007e+01  +1.674e+01  +4e+00  2e-08  3e-06  2e-03  3e-03  0.9037  3e-02   1  1  1 |  0  0\n",
      " 7  +2.004e+01  +2.000e+01  +4e-02  2e-10  4e-08  2e-05  3e-05  0.9884  1e-04   2  1  1 |  0  0\n",
      " 8  +2.004e+01  +2.004e+01  +6e-04  3e-12  6e-10  3e-07  5e-07  0.9855  1e-04   2  1  1 |  0  0\n",
      " 9  +2.004e+01  +2.004e+01  +2e-05  1e-13  2e-11  1e-08  2e-08  0.9612  2e-04   2  1  1 |  0  0\n",
      "10  +2.004e+01  +2.004e+01  +7e-07  8e-15  8e-13  3e-10  5e-10  0.9752  2e-03   1  1  1 |  0  0\n",
      "11  +2.004e+01  +2.004e+01  +2e-08  9e-16  3e-14  1e-11  2e-11  0.9636  1e-03   1  1  1 |  0  0\n",
      "\n",
      "OPTIMAL (within feastol=3.1e-14, reltol=1.2e-09, abstol=2.5e-08).\n",
      "Runtime: 0.062016 seconds.\n",
      "\n",
      "\n",
      "ECOS 2.0.10 - (C) embotech GmbH, Zurich Switzerland, 2012-15. Web: www.embotech.com/ECOS\n",
      "\n",
      "It     pcost       dcost      gap   pres   dres    k/t    mu     step   sigma     IR    |   BT\n",
      " 0  +4.396e+02  -2.832e+06  +3e+06  3e-02  6e-01  1e+00  2e+03    ---    ---    1  1  - |  -  - \n",
      " 1  +5.113e+01  -1.186e+06  +1e+06  1e-02  2e-01  2e+02  1e+03  0.6947  1e-01   2  2  2 |  0  0\n",
      " 2  +1.250e+02  -4.138e+05  +4e+05  4e-03  4e-02  2e+02  3e+02  0.7473  1e-01   2  2  2 |  0  0\n",
      " 3  +6.756e+01  -1.304e+05  +1e+05  1e-03  1e-02  6e+01  1e+02  0.7100  4e-02   1  2  2 |  0  0\n",
      " 4  +6.966e+01  -6.642e+04  +6e+04  7e-04  4e-03  5e+01  5e+01  0.6771  2e-01   1  1  1 |  0  0\n",
      " 5  +3.582e+01  -7.522e+03  +8e+03  8e-05  4e-04  7e+00  6e+00  0.9460  7e-02   1  1  1 |  0  0\n",
      " 6  +3.018e+01  -3.784e+03  +4e+03  4e-05  2e-04  4e+00  3e+00  0.7669  3e-01   1  1  1 |  0  0\n",
      " 7  +2.367e+01  -1.165e+03  +1e+03  1e-05  6e-05  1e+00  9e-01  0.7065  3e-02   1  1  1 |  0  0\n",
      " 8  +2.091e+01  -1.760e+02  +2e+02  2e-06  1e-05  2e-01  1e-01  0.9146  9e-02   1  1  1 |  0  0\n",
      " 9  +2.026e+01  +8.820e+00  +1e+01  1e-07  6e-07  1e-02  8e-03  0.9604  2e-02   1  1  1 |  0  0\n",
      "10  +2.010e+01  +1.333e+01  +6e+00  8e-08  3e-07  8e-03  5e-03  0.6852  4e-01   1  1  1 |  0  0\n",
      "11  +2.016e+01  +1.580e+01  +4e+00  6e-08  2e-07  5e-03  3e-03  0.9471  6e-01   2  1  1 |  0  0\n",
      "12  +2.008e+01  +1.929e+01  +7e-01  1e-08  4e-08  1e-03  5e-04  0.8456  3e-02   2  1  1 |  0  0\n",
      "13  +2.006e+01  +1.966e+01  +4e-01  5e-09  2e-08  5e-04  3e-04  0.5736  1e-01   2  1  1 |  0  0\n",
      "14  +2.005e+01  +1.988e+01  +2e-01  2e-09  8e-09  2e-04  1e-04  0.8438  3e-01   2  1  1 |  0  0\n",
      "15  +2.005e+01  +1.997e+01  +7e-02  1e-09  4e-09  1e-04  6e-05  0.5598  2e-02   2  1  1 |  0  0\n",
      "16  +2.005e+01  +2.003e+01  +2e-02  3e-10  1e-09  3e-05  1e-05  0.8745  2e-01   2  1  1 |  0  0\n",
      "17  +2.005e+01  +2.005e+01  +4e-03  5e-11  2e-10  5e-06  3e-06  0.8489  5e-02   2  1  1 |  0  0\n",
      "18  +2.005e+01  +2.005e+01  +2e-04  3e-12  1e-11  3e-07  2e-07  0.9768  4e-02   2  1  1 |  0  0\n",
      "19  +2.005e+01  +2.005e+01  +3e-06  4e-14  1e-13  3e-09  2e-09  0.9885  1e-04   2  1  1 |  0  0\n",
      "20  +2.005e+01  +2.005e+01  +3e-08  9e-16  1e-15  4e-11  2e-11  0.9890  1e-04   1  1  1 |  0  0\n",
      "\n",
      "OPTIMAL (within feastol=1.5e-15, reltol=1.4e-09, abstol=2.8e-08).\n",
      "Runtime: 0.104264 seconds.\n",
      "\n",
      "0 \t20.04 \t\tinf \t\tinf\n",
      "\n",
      "ECOS 2.0.10 - (C) embotech GmbH, Zurich Switzerland, 2012-15. Web: www.embotech.com/ECOS\n",
      "\n",
      "It     pcost       dcost      gap   pres   dres    k/t    mu     step   sigma     IR    |   BT\n",
      " 0  +4.395e+02  -2.896e+06  +3e+06  3e-02  6e-01  1e+00  2e+03    ---    ---    1  1  - |  -  - \n",
      " 1  +1.603e-01  -1.174e+06  +1e+06  1e-02  2e-01  2e+02  1e+03  0.6876  1e-01   2  2  2 |  0  0\n",
      " 2  +9.006e+01  -3.054e+05  +3e+05  3e-03  7e-02  1e+02  3e+02  0.8034  8e-02   2  2  2 |  0  0\n",
      " 3  +3.121e+01  -1.926e+04  +2e+04  2e-04  6e-03  9e+00  2e+01  0.9492  2e-02   1  2  2 |  0  0\n",
      " 4  +2.279e+01  -1.542e+03  +2e+03  1e-05  1e-03  7e-01  1e+00  0.9196  3e-03   1  1  1 |  0  0\n",
      " 5  +2.086e+01  -9.800e+01  +1e+02  1e-06  8e-05  6e-02  1e-01  0.9299  6e-03   1  1  1 |  0  0\n",
      " 6  +2.025e+01  +5.083e+00  +2e+01  1e-07  1e-05  8e-03  1e-02  0.8898  2e-02   1  1  1 |  0  0\n",
      " 7  +2.011e+01  +1.530e+01  +6e+00  4e-08  3e-06  3e-03  4e-03  0.7018  3e-02   1  1  1 |  0  0\n",
      " 8  +2.007e+01  +1.856e+01  +2e+00  1e-08  1e-06  1e-03  1e-03  0.8237  2e-01   1  1  1 |  0  0\n",
      " 9  +2.005e+01  +2.001e+01  +5e-02  4e-10  3e-08  3e-05  4e-05  0.9776  6e-03   2  1  1 |  0  0\n",
      "10  +2.005e+01  +2.005e+01  +6e-04  4e-12  3e-10  3e-07  4e-07  0.9890  1e-04   2  1  1 |  0  0\n",
      "11  +2.005e+01  +2.005e+01  +6e-06  5e-14  3e-12  4e-09  5e-09  0.9890  1e-04   2  1  1 |  0  0\n",
      "12  +2.005e+01  +2.005e+01  +8e-08  8e-16  5e-14  5e-11  6e-11  0.9873  1e-04   1  1  1 |  0  0\n",
      "\n",
      "OPTIMAL (within feastol=4.5e-14, reltol=4.0e-09, abstol=8.1e-08).\n",
      "Runtime: 0.065995 seconds.\n",
      "\n",
      "\n",
      "ECOS 2.0.10 - (C) embotech GmbH, Zurich Switzerland, 2012-15. Web: www.embotech.com/ECOS\n",
      "\n",
      "It     pcost       dcost      gap   pres   dres    k/t    mu     step   sigma     IR    |   BT\n",
      " 0  +4.395e+02  -2.832e+06  +3e+06  3e-02  6e-01  1e+00  2e+03    ---    ---    1  1  - |  -  - \n",
      " 1  +5.092e+01  -1.184e+06  +1e+06  1e-02  2e-01  2e+02  1e+03  0.6954  1e-01   2  2  2 |  0  0\n",
      " 2  +1.400e+02  -4.605e+05  +5e+05  5e-03  5e-02  2e+02  4e+02  0.7296  1e-01   2  2  2 |  0  0\n",
      " 3  +6.554e+01  -1.126e+05  +1e+05  1e-03  9e-03  5e+01  9e+01  0.7760  3e-02   1  2  2 |  0  0\n",
      " 4  +5.782e+01  -4.473e+04  +4e+04  5e-04  3e-03  3e+01  3e+01  0.7461  2e-01   1  1  1 |  0  0\n",
      " 5  +4.556e+01  -2.340e+04  +2e+04  3e-04  1e-03  2e+01  2e+01  0.5449  1e-01   1  1  1 |  0  0\n",
      " 6  +6.328e+01  -2.306e+04  +2e+04  3e-04  8e-04  3e+01  1e+01  0.8287  7e-01   1  1  1 |  0  0\n",
      " 7  +3.384e+01  -4.212e+03  +4e+03  5e-05  1e-04  5e+00  3e+00  0.8265  3e-02   1  1  1 |  0  0\n",
      " 8  +2.291e+01  -6.951e+02  +6e+02  8e-06  3e-05  8e-01  5e-01  0.8788  6e-02   1  1  1 |  0  0\n",
      " 9  +2.059e+01  -9.809e+01  +1e+02  1e-06  5e-06  1e-01  8e-02  0.9595  1e-01   1  1  1 |  0  0\n",
      "10  +2.009e+01  +1.576e+01  +4e+00  5e-08  2e-07  5e-03  3e-03  0.9705  7e-03   1  1  1 |  0  0\n",
      "11  +2.006e+01  +1.945e+01  +5e-01  7e-09  2e-08  8e-04  4e-04  0.8612  4e-03   2  1  1 |  0  0\n",
      "12  +2.005e+01  +1.970e+01  +3e-01  4e-09  1e-08  4e-04  2e-04  0.6758  4e-01   2  1  1 |  0  0\n",
      "13  +2.005e+01  +1.995e+01  +9e-02  1e-09  4e-09  1e-04  7e-05  0.7288  2e-02   2  1  1 |  0  0\n",
      "14  +2.005e+01  +1.999e+01  +5e-02  7e-10  2e-09  7e-05  4e-05  0.7111  4e-01   2  1  1 |  0  0\n",
      "15  +2.005e+01  +2.004e+01  +8e-03  1e-10  4e-10  1e-05  6e-06  0.8631  4e-02   2  1  1 |  0  0\n",
      "16  +2.005e+01  +2.005e+01  +1e-03  2e-11  5e-11  2e-06  8e-07  0.8818  1e-02   2  1  1 |  0  0\n",
      "17  +2.005e+01  +2.005e+01  +1e-05  2e-13  6e-13  2e-08  1e-08  0.9884  2e-04   2  1  1 |  0  0\n",
      "18  +2.005e+01  +2.005e+01  +1e-07  2e-15  6e-15  2e-10  1e-10  0.9890  1e-04   1  1  1 |  0  0\n",
      "\n",
      "OPTIMAL (within feastol=6.4e-15, reltol=7.2e-09, abstol=1.4e-07).\n",
      "Runtime: 0.092628 seconds.\n",
      "\n",
      "\n",
      "ECOS 2.0.10 - (C) embotech GmbH, Zurich Switzerland, 2012-15. Web: www.embotech.com/ECOS\n",
      "\n",
      "It     pcost       dcost      gap   pres   dres    k/t    mu     step   sigma     IR    |   BT\n",
      " 0  +4.395e+02  -2.896e+06  +3e+06  3e-02  6e-01  1e+00  2e+03    ---    ---    1  1  - |  -  - \n",
      " 1  +6.951e-01  -1.166e+06  +1e+06  1e-02  2e-01  2e+02  1e+03  0.6889  1e-01   2  2  2 |  0  0\n",
      " 2  +9.024e+01  -2.906e+05  +3e+05  3e-03  6e-02  1e+02  3e+02  0.8146  8e-02   2  2  2 |  0  0\n",
      " 3  +3.045e+01  -1.886e+04  +2e+04  2e-04  6e-03  8e+00  2e+01  0.9416  1e-02   1  2  2 |  0  0\n",
      " 4  +2.305e+01  -1.467e+03  +2e+03  1e-05  9e-04  7e-01  1e+00  0.9259  7e-03   1  1  1 |  0  0\n",
      " 5  +2.105e+01  -2.994e+02  +4e+02  3e-06  2e-04  2e-01  3e-01  0.8351  6e-02   1  1  1 |  0  0\n",
      " 6  +2.043e+01  -1.602e+01  +4e+01  3e-07  2e-05  2e-02  3e-02  0.8961  1e-02   1  1  1 |  0  0\n",
      " 7  +2.014e+01  +1.075e+01  +1e+01  9e-08  6e-06  6e-03  9e-03  0.8280  1e-01   1  1  1 |  0  0\n",
      " 8  +2.007e+01  +1.736e+01  +3e+00  3e-08  2e-06  2e-03  2e-03  0.7355  3e-02   1  1  1 |  0  0\n",
      " 9  +2.004e+01  +1.980e+01  +3e-01  2e-09  1e-07  2e-04  2e-04  0.9397  3e-02   2  1  1 |  0  0\n",
      "10  +2.004e+01  +2.004e+01  +3e-03  2e-11  2e-09  2e-06  2e-06  0.9890  1e-04   2  1  1 |  0  0\n",
      "11  +2.004e+01  +2.004e+01  +4e-05  3e-13  2e-11  2e-08  3e-08  0.9890  1e-04   2  1  1 |  0  0\n",
      "12  +2.004e+01  +2.004e+01  +4e-07  3e-15  2e-13  2e-10  3e-10  0.9890  1e-04   1  1  1 |  0  0\n",
      "13  +2.004e+01  +2.004e+01  +6e-09  2e-16  3e-15  3e-12  4e-12  0.9859  1e-04   2  1  1 |  0  0\n",
      "\n",
      "OPTIMAL (within feastol=2.9e-15, reltol=2.8e-10, abstol=5.7e-09).\n",
      "Runtime: 0.068287 seconds.\n",
      "\n",
      "\n",
      "ECOS 2.0.10 - (C) embotech GmbH, Zurich Switzerland, 2012-15. Web: www.embotech.com/ECOS\n",
      "\n",
      "It     pcost       dcost      gap   pres   dres    k/t    mu     step   sigma     IR    |   BT\n",
      " 0  +4.395e+02  -2.832e+06  +3e+06  3e-02  6e-01  1e+00  2e+03    ---    ---    1  1  - |  -  - \n",
      " 1  +5.090e+01  -1.185e+06  +1e+06  1e-02  2e-01  2e+02  1e+03  0.6951  1e-01   2  2  2 |  0  0\n",
      " 2  +1.296e+02  -4.284e+05  +4e+05  4e-03  4e-02  2e+02  3e+02  0.7417  1e-01   2  2  2 |  0  0\n",
      " 3  +6.374e+01  -1.131e+05  +1e+05  1e-03  9e-03  5e+01  9e+01  0.7576  3e-02   1  2  2 |  0  0\n",
      " 4  +4.928e+01  -3.256e+04  +3e+04  3e-04  2e-03  2e+01  3e+01  0.8155  1e-01   1  1  1 |  0  0\n",
      " 5  +3.883e+01  -8.156e+03  +8e+03  9e-05  4e-04  1e+01  6e+00  0.9890  2e-01   1  1  1 |  0  0\n",
      " 6  +2.749e+01  -2.674e+03  +3e+03  3e-05  1e-04  3e+00  2e+00  0.6793  3e-02   1  1  1 |  0  0\n",
      " 7  +2.152e+01  -3.835e+02  +4e+02  4e-06  2e-05  5e-01  3e-01  0.9474  1e-01   1  1  1 |  0  0\n",
      " 8  +2.038e+01  -5.293e+01  +7e+01  8e-07  4e-06  9e-02  6e-02  0.8373  2e-02   1  1  1 |  0  0\n",
      " 9  +2.013e+01  +1.303e+01  +7e+00  8e-08  4e-07  9e-03  5e-03  0.9066  4e-03   1  1  1 |  0  0\n",
      "10  +2.008e+01  +1.667e+01  +3e+00  4e-08  2e-07  4e-03  3e-03  0.5775  9e-02   2  1  1 |  0  0\n",
      "11  +2.006e+01  +1.944e+01  +6e-01  7e-09  3e-08  8e-04  5e-04  0.8484  3e-02   2  1  1 |  0  0\n",
      "12  +2.005e+01  +1.977e+01  +3e-01  3e-09  1e-08  3e-04  2e-04  0.6635  2e-01   2  1  1 |  0  0\n",
      "13  +2.005e+01  +1.992e+01  +1e-01  2e-09  7e-09  2e-04  1e-04  0.6227  1e-01   2  1  1 |  0  0\n",
      "14  +2.004e+01  +2.001e+01  +3e-02  4e-10  2e-09  4e-05  3e-05  0.8061  8e-02   2  1  1 |  0  0\n",
      "15  +2.004e+01  +2.003e+01  +8e-03  1e-10  4e-10  1e-05  6e-06  0.8149  8e-02   2  1  1 |  0  0\n",
      "16  +2.004e+01  +2.004e+01  +2e-03  4e-11  9e-11  2e-06  1e-06  0.8563  7e-02   2  1  1 |  0  0\n",
      "17  +2.004e+01  +2.004e+01  +2e-04  8e-12  9e-12  2e-07  1e-07  0.9890  8e-02   2  1  1 |  0  0\n",
      "18  +2.004e+01  +2.004e+01  +2e-06  1e-13  1e-13  2e-09  1e-09  0.9883  1e-04   1  1  1 |  0  0\n",
      "-------------------------------------------------------------------------------\n",
      "                                    Summary                                    \n",
      "-------------------------------------------------------------------------------\n",
      "(CVXPY) Sep 12 10:56:07 PM: Problem status: optimal\n",
      "19  +2.004e+01  +2.004e+01  +2e-08  1e-15  1e-15  2e-11  2e-11  0.9890  1e-04   1  1  1 |  0  0\n",
      "\n",
      "OPTIMAL (within feastol=1.1e-15, reltol=1.1e-09, abstol=2.1e-08).\n",
      "Runtime: 0.096300 seconds.\n",
      "\n",
      "1 \t20.04 \t\t20.04 \t\t0.00\n",
      "(CVXPY) Sep 12 10:56:07 PM: Optimal value: 2.004e+01\n",
      "(CVXPY) Sep 12 10:56:07 PM: Compilation took 3.282e-02 seconds\n",
      "(CVXPY) Sep 12 10:56:07 PM: Solver (including time spent in interface) took 4.629e-01 seconds\n"
     ]
    },
    {
     "data": {
      "text/plain": [
       "20.04207817343834"
      ]
     },
     "execution_count": 13,
     "metadata": {},
     "output_type": "execute_result"
    }
   ],
   "source": [
    "# Create the optimization problem\n",
    "prob = cp.Problem(obj, constraints)\n",
    "\n",
    "# Solve the optimization problem\n",
    "\n",
    "# prob.solve(solver=cp.GUROBI, verbose=True)\n",
    "\n",
    "prob.solve(solver=cp.ECOS_BB, verbose=True)\n",
    "\n",
    "# prob.solve()"
   ]
  },
  {
   "cell_type": "code",
   "execution_count": 14,
   "metadata": {},
   "outputs": [
    {
     "data": {
      "text/plain": [
       "array([0.02    , 0.034125, 0.034125, 0.02    , 0.04    , 0.034125,\n",
       "       0.034125, 0.034125, 0.034125, 0.034125, 0.034125])"
      ]
     },
     "execution_count": 14,
     "metadata": {},
     "output_type": "execute_result"
    }
   ],
   "source": [
    "ssp.LDOPF.om.pg.value"
   ]
  },
  {
   "cell_type": "code",
   "execution_count": 15,
   "metadata": {},
   "outputs": [
    {
     "data": {
      "text/plain": [
       "array([0.08060252, 0.05      , 0.05      , 0.13134674, 0.05      ,\n",
       "       0.05      , 0.0500001 , 0.05991567])"
      ]
     },
     "execution_count": 15,
     "metadata": {},
     "output_type": "execute_result"
    }
   ],
   "source": [
    "M.value"
   ]
  },
  {
   "cell_type": "code",
   "execution_count": 16,
   "metadata": {},
   "outputs": [
    {
     "data": {
      "text/plain": [
       "array([0.01      , 0.01      , 0.01      , 0.01      , 0.06543397,\n",
       "       0.01      , 0.01      , 0.01      ])"
      ]
     },
     "execution_count": 16,
     "metadata": {},
     "output_type": "execute_result"
    }
   ],
   "source": [
    "D.value"
   ]
  },
  {
   "cell_type": "markdown",
   "metadata": {},
   "source": [
    "# "
   ]
  }
 ],
 "metadata": {
  "kernelspec": {
   "display_name": "andes",
   "language": "python",
   "name": "python3"
  },
  "language_info": {
   "codemirror_mode": {
    "name": "ipython",
    "version": 3
   },
   "file_extension": ".py",
   "mimetype": "text/x-python",
   "name": "python",
   "nbconvert_exporter": "python",
   "pygments_lexer": "ipython3",
   "version": "3.9.17"
  },
  "orig_nbformat": 4
 },
 "nbformat": 4,
 "nbformat_minor": 2
}
