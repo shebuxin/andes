{
 "cells": [
  {
   "cell_type": "code",
   "execution_count": 23,
   "metadata": {},
   "outputs": [],
   "source": [
    "# public packages\n",
    "import andes\n",
    "import ams\n",
    "import cvxpy as cp\n",
    "import numpy as np\n",
    "import gurobipy"
   ]
  },
  {
   "attachments": {},
   "cell_type": "markdown",
   "metadata": {},
   "source": [
    "# Load ams model"
   ]
  },
  {
   "cell_type": "code",
   "execution_count": 24,
   "metadata": {},
   "outputs": [
    {
     "data": {
      "text/plain": [
       "17.88458765976425"
      ]
     },
     "execution_count": 24,
     "metadata": {},
     "output_type": "execute_result"
    }
   ],
   "source": [
    "ssp = ams.load('ams_case123_REGCV1_v7.xlsx')\n",
    "\n",
    "ssp.LDOPF.setup()\n",
    "\n",
    "ssp.LDOPF.om.mdl.solve()"
   ]
  },
  {
   "cell_type": "code",
   "execution_count": 25,
   "metadata": {},
   "outputs": [
    {
     "data": {
      "text/plain": [
       "17.88458765976425"
      ]
     },
     "execution_count": 25,
     "metadata": {},
     "output_type": "execute_result"
    }
   ],
   "source": [
    "ssp.LDOPF.obj.v"
   ]
  },
  {
   "cell_type": "code",
   "execution_count": 26,
   "metadata": {},
   "outputs": [
    {
     "data": {
      "text/plain": [
       "OrderedDict([('pg', Variable((11,))),\n",
       "             ('pn', Variable((117,))),\n",
       "             ('qg', Variable((11,))),\n",
       "             ('qn', Variable((117,))),\n",
       "             ('vsq', Variable((117,))),\n",
       "             ('pl', Variable((116,))),\n",
       "             ('ql', Variable((116,)))])"
      ]
     },
     "execution_count": 26,
     "metadata": {},
     "output_type": "execute_result"
    }
   ],
   "source": [
    "ssp.LDOPF.om.vars"
   ]
  },
  {
   "cell_type": "code",
   "execution_count": 27,
   "metadata": {},
   "outputs": [
    {
     "data": {
      "text/plain": [
       "array([0.17501217, 0.31501217, 0.26937836, 0.07001216, 0.08401216,\n",
       "       0.04901216, 0.04201216, 0.06301216, 0.05251216, 0.05601216,\n",
       "       0.05951216])"
      ]
     },
     "execution_count": 27,
     "metadata": {},
     "output_type": "execute_result"
    }
   ],
   "source": [
    "pg_ams = ssp.LDOPF.om.pg.value\n",
    "\n",
    "pg_ams"
   ]
  },
  {
   "cell_type": "code",
   "execution_count": 28,
   "metadata": {},
   "outputs": [
    {
     "data": {
      "text/plain": [
       "['PV_1',\n",
       " 'PV_2',\n",
       " 'PV_3',\n",
       " 'PV_4',\n",
       " 'PV_5',\n",
       " 'PV_6',\n",
       " 'PV_7',\n",
       " 'PV_8',\n",
       " 'PV_9',\n",
       " 'PV_10',\n",
       " 'PV_11']"
      ]
     },
     "execution_count": 28,
     "metadata": {},
     "output_type": "execute_result"
    }
   ],
   "source": [
    "ssp.LDOPF.pg.get_idx()"
   ]
  },
  {
   "attachments": {},
   "cell_type": "markdown",
   "metadata": {},
   "source": [
    "# Define new variables, constraints, and obj"
   ]
  },
  {
   "cell_type": "code",
   "execution_count": 29,
   "metadata": {},
   "outputs": [],
   "source": [
    "constriants_ams = [ssp.LDOPF.om.constrs[cname] for cname in ssp.LDOPF.om.constrs.keys()]"
   ]
  },
  {
   "cell_type": "code",
   "execution_count": 30,
   "metadata": {},
   "outputs": [],
   "source": [
    "constraints = constriants_ams"
   ]
  },
  {
   "attachments": {},
   "cell_type": "markdown",
   "metadata": {},
   "source": [
    "# Formulate new problem\n",
    "\n",
    "pg = ['PV_1',\n",
    " 'PV_10',\n",
    " 'PV_11',\n",
    " 'PV_2',\n",
    " 'PV_3',\n",
    " 'PV_4',\n",
    " 'PV_5',\n",
    " 'PV_6',\n",
    " 'PV_7',\n",
    " 'PV_8',\n",
    " 'PV_9']\n",
    "\n",
    " SG: PV_1, PV_2, PV_3 (slack bus)\n",
    "\n",
    " IBR: PV_4, PV_5, ..., PV_11"
   ]
  },
  {
   "cell_type": "code",
   "execution_count": 31,
   "metadata": {},
   "outputs": [],
   "source": [
    "# Cost data\n",
    "\n",
    "c2 = np.array([0.01, 0.015, 0.02, 0, 0, 0, 0, 0, 0, 0, 0]) # gen quadratic cost\n",
    "c1 = np.array([  20,   20,   30,  0, 0, 0, 0, 0, 0, 0, 0]) # gen linear cost\n",
    "\n",
    "pg = ssp.LDOPF.om.pg\n",
    "\n",
    "# pg_power = cp.power(pg, 2)\n",
    "pg_power = pg**2\n",
    "\n",
    "cost = cp.sum(c2 @ pg_power * 100 + c1 @ pg * 10 + 450)\n",
    "\n",
    "obj = cp.Minimize(cost)"
   ]
  },
  {
   "cell_type": "code",
   "execution_count": 32,
   "metadata": {},
   "outputs": [
    {
     "data": {
      "text/plain": [
       "array([0.01, 0.01, 0.02, 0.  , 0.  , 0.  , 0.  , 0.  , 0.  , 0.  , 0.  ])"
      ]
     },
     "execution_count": 32,
     "metadata": {},
     "output_type": "execute_result"
    }
   ],
   "source": [
    "ssp.LDOPF.c2.v"
   ]
  },
  {
   "cell_type": "code",
   "execution_count": 33,
   "metadata": {},
   "outputs": [],
   "source": [
    "# Create the optimization problem\n",
    "prob = cp.Problem(obj, constraints)"
   ]
  },
  {
   "cell_type": "code",
   "execution_count": 34,
   "metadata": {},
   "outputs": [
    {
     "data": {
      "text/plain": [
       "629.1747230000311"
      ]
     },
     "execution_count": 34,
     "metadata": {},
     "output_type": "execute_result"
    }
   ],
   "source": [
    "# built-in solver: ECOS_BB\n",
    "# prob.solve(solver=cp.ECOS_BB, verbose=True)\n",
    "# prob.solve(solver=cp.ECOS_BB)\n",
    "prob.solve(solver=cp.GUROBI)"
   ]
  },
  {
   "cell_type": "code",
   "execution_count": 35,
   "metadata": {},
   "outputs": [
    {
     "data": {
      "text/plain": [
       "RParam: c1 <GCost>, v=[20. 20. 30.  0.  0.  0.  0.  0.  0.  0.  0.]"
      ]
     },
     "execution_count": 35,
     "metadata": {},
     "output_type": "execute_result"
    }
   ],
   "source": [
    "ssp.LDOPF.c1"
   ]
  },
  {
   "cell_type": "code",
   "execution_count": 36,
   "metadata": {},
   "outputs": [
    {
     "data": {
      "text/plain": [
       "RParam: c2 <GCost>, v=[0.01 0.01 0.02 0.   0.   0.   0.   0.   0.   0.   0.  ]"
      ]
     },
     "execution_count": 36,
     "metadata": {},
     "output_type": "execute_result"
    }
   ],
   "source": [
    "ssp.LDOPF.c2"
   ]
  },
  {
   "cell_type": "code",
   "execution_count": 37,
   "metadata": {},
   "outputs": [
    {
     "data": {
      "text/plain": [
       "array([0.175 , 0.315 , 0.2695, 0.07  , 0.084 , 0.049 , 0.042 , 0.063 ,\n",
       "       0.0525, 0.056 , 0.0595])"
      ]
     },
     "execution_count": 37,
     "metadata": {},
     "output_type": "execute_result"
    }
   ],
   "source": [
    "ssp.LDOPF.om.pg.value"
   ]
  },
  {
   "cell_type": "code",
   "execution_count": 38,
   "metadata": {},
   "outputs": [
    {
     "data": {
      "text/plain": [
       "1.2355000000000003"
      ]
     },
     "execution_count": 38,
     "metadata": {},
     "output_type": "execute_result"
    }
   ],
   "source": [
    "sum(ssp.LDOPF.om.pg.value)"
   ]
  },
  {
   "cell_type": "code",
   "execution_count": 39,
   "metadata": {},
   "outputs": [
    {
     "data": {
      "text/plain": [
       "array([0.025, 0.025, 0.025, 0.   , 0.   , 0.   , 0.   , 0.   , 0.   ,\n",
       "       0.   , 0.   ])"
      ]
     },
     "execution_count": 39,
     "metadata": {},
     "output_type": "execute_result"
    }
   ],
   "source": [
    "# check lower limit of pg\n",
    "ssp.LDOPF.pmin.v"
   ]
  },
  {
   "cell_type": "code",
   "execution_count": 40,
   "metadata": {},
   "outputs": [
    {
     "data": {
      "text/plain": [
       "array([0.175 , 0.315 , 2.    , 0.07  , 0.084 , 0.049 , 0.042 , 0.063 ,\n",
       "       0.0525, 0.056 , 0.0595])"
      ]
     },
     "execution_count": 40,
     "metadata": {},
     "output_type": "execute_result"
    }
   ],
   "source": [
    "# check upper limit of pg\n",
    "ssp.LDOPF.pmax.v"
   ]
  },
  {
   "cell_type": "code",
   "execution_count": 41,
   "metadata": {},
   "outputs": [
    {
     "data": {
      "text/plain": [
       "array([ 2.   , -2.   ,  1.901, -0.2  , -0.2  , -0.2  , -0.2  , -0.2  ,\n",
       "       -0.2  , -0.2  , -0.2  ])"
      ]
     },
     "execution_count": 41,
     "metadata": {},
     "output_type": "execute_result"
    }
   ],
   "source": [
    "ssp.LDOPF.om.qg.value"
   ]
  },
  {
   "cell_type": "code",
   "execution_count": 42,
   "metadata": {},
   "outputs": [
    {
     "data": {
      "text/plain": [
       "array([    0.        ,     0.        ,     0.        ,     0.        ,\n",
       "           0.        ,     0.        ,     0.        ,     0.        ,\n",
       "           0.        ,     0.        ,     0.        ,     0.        ,\n",
       "           0.        ,     0.        ,     0.        ,     0.        ,\n",
       "           0.        ,     0.        ,     0.        ,     0.        ,\n",
       "           0.        ,     0.        ,     0.        ,     0.        ,\n",
       "           0.        ,     0.        ,     0.        ,     0.        ,\n",
       "           0.        ,     0.        ,     0.        ,     0.        ,\n",
       "           0.        ,     0.        ,     0.        ,     0.        ,\n",
       "           0.        ,     0.        ,     0.        ,     0.        ,\n",
       "           0.        ,     0.        ,     0.        ,     0.        ,\n",
       "           0.        ,     0.        ,     0.        ,     0.        ,\n",
       "           0.        ,     0.        ,     0.        ,     0.        ,\n",
       "           0.        ,     0.        ,     0.        ,     0.        ,\n",
       "           0.        ,     0.        ,     0.        ,     0.        ,\n",
       "           0.        ,     0.        ,     0.        ,     0.        ,\n",
       "           0.        ,     0.        ,     0.        ,     0.        ,\n",
       "           0.        ,     0.        ,     0.        ,     0.        ,\n",
       "           0.        ,     0.        ,     0.        ,     0.        ,\n",
       "           0.        , -3458.13992075,     0.        ,     0.        ,\n",
       "           0.        ,     0.        ,     0.        ,     0.        ,\n",
       "           0.        ,     0.        ,     0.        ,     0.        ,\n",
       "           0.        ,     0.        ,     0.        ,     0.        ,\n",
       "           0.        ,     0.        ,     0.        ,     0.        ,\n",
       "           0.        ,     0.        ,     0.        ,     0.        ,\n",
       "           0.        ,     0.        ,     0.        ,     0.        ,\n",
       "           0.        ,     0.        ,     0.        ,     0.        ,\n",
       "           0.        ,     0.        ,     0.        ,     0.        ,\n",
       "           0.        ,     0.        ,     0.        ,     0.        ])"
      ]
     },
     "execution_count": 42,
     "metadata": {},
     "output_type": "execute_result"
    }
   ],
   "source": [
    "ssp.LDOPF.om.ql.value"
   ]
  },
  {
   "cell_type": "code",
   "execution_count": 43,
   "metadata": {},
   "outputs": [
    {
     "data": {
      "text/plain": [
       "array([  -2.47074166,  129.986     ,  129.93      ,  129.972     ,\n",
       "        129.958     ,  129.972     ,   -2.35882731,   -2.34581751,\n",
       "         16.773002  ,   20.46269779,   86.055938  ,   -0.04478477,\n",
       "         -2.22714945,   21.7856158 ,   24.35686302,  -11.45555002,\n",
       "        -11.44051502,    3.98366693,    4.33791189,  129.972     ,\n",
       "         -2.89075766,    8.81809866,   15.33708374,   -6.83810542,\n",
       "         -5.50095872,   11.73518809,   16.48576411,    7.1321384 ,\n",
       "          9.72211953,   -7.93094093,   16.47639636,  -11.19736404,\n",
       "        -11.21090124, -130.028     ,   -5.71484552,   32.39264999,\n",
       "        -13.0993817 ,   -2.91871318,  -18.78185361,    4.12715051,\n",
       "          8.06407187,  -20.97814566,   -8.49754753,    7.15543581,\n",
       "          2.49920918,  -10.20762724,   33.57764479,  -15.56996403,\n",
       "          5.16228644,   55.62717128,    1.82013876,   -1.41497469,\n",
       "         -1.38237695,   -1.3570523 ,   18.39135643,  -12.4374427 ,\n",
       "         -1.32624166,   18.39419059,  -12.44109112,   -1.29553282,\n",
       "         -0.01443981, -115.79026546,   19.50246893,   56.99214252,\n",
       "          2.54285052,  -15.13102973,   -1.0124178 ,   25.45197344,\n",
       "         46.71459172,   -0.03917297,  -16.08006464,   -0.61678125,\n",
       "          4.76579836,   -5.71735445,  -16.86424387,   -0.53342354,\n",
       "         17.74942657,  -30.04185733,    6.21481351,   38.3650197 ,\n",
       "         -3.81148664,    6.91578671,  -16.76099753,    6.85891919,\n",
       "        -16.72387773,   -0.18432672,   -0.16672232,    0.12109445,\n",
       "        -41.37130961,   14.8437441 ,   -5.59005543,   -2.90251867,\n",
       "         17.07146348,    0.70409786,    8.66535574,  -13.79800934,\n",
       "         -0.30884995,   30.61877007,    6.6792392 ,  -12.03896117,\n",
       "         -0.22378183,   30.6499595 ,    6.65421412,  -11.98360922,\n",
       "         -0.15385335,   18.3710891 ,  -12.46126657,   -0.09506122,\n",
       "        -58.47446514,    1.35663797,    0.54099184,   15.54334877,\n",
       "          5.87612908,  -12.58123183,  -15.44061959,    0.30385704])"
      ]
     },
     "execution_count": 43,
     "metadata": {},
     "output_type": "execute_result"
    }
   ],
   "source": [
    "ssp.LDOPF.om.pl.value"
   ]
  },
  {
   "cell_type": "code",
   "execution_count": 44,
   "metadata": {},
   "outputs": [
    {
     "data": {
      "text/plain": [
       "array([1.00249837, 1.00249852, 1.00249867, 1.00249867, 1.00249883,\n",
       "       1.00249883, 1.00249898, 1.00249867, 1.00249883, 1.00249898,\n",
       "       1.00249914, 1.00249929, 1.00249898, 1.00249898, 1.00249914,\n",
       "       1.00249929, 1.00249944, 1.00249944, 1.00249914, 1.00249929,\n",
       "       1.00249944, 1.00249929, 1.00249944, 1.00249944, 1.0024996 ,\n",
       "       1.0024996 , 1.00249975, 1.00249991, 1.00249975, 1.00249991,\n",
       "       1.00250006, 1.00249991, 1.00250006, 1.00250006, 1.00249929,\n",
       "       1.00249929, 1.00249944, 1.0024996 , 1.0024996 , 1.00249975,\n",
       "       1.00249944, 1.0024996 , 1.0024996 , 1.00249975, 1.00249975,\n",
       "       1.00249991, 1.00250006, 1.00249991, 1.00250006, 1.00250006,\n",
       "       1.00250021, 1.00250037, 1.00249914, 1.00249929, 1.00249944,\n",
       "       1.0024996 , 1.00249975, 1.0024996 , 1.00249975, 1.00249991,\n",
       "       1.00249975, 1.00249991, 1.00249991, 1.00250006, 1.00250021,\n",
       "       1.00250037, 1.00250052, 1.00249991, 1.00250006, 1.00250021,\n",
       "       1.00250037, 1.00250052, 1.00250006, 1.00250021, 1.00250037,\n",
       "       1.00250052, 1.00250021, 1.00250037, 1.00250052, 1.00250068,\n",
       "       1.00250068, 1.00250083, 1.00250098, 1.00250114, 1.00250098,\n",
       "       1.00250114, 1.00250037, 1.00250052, 1.00250068, 1.00250068,\n",
       "       1.00250083, 1.00250083, 1.00250098, 1.00250098, 1.00250114,\n",
       "       1.00250114, 1.00250129, 1.00250006, 1.00250021, 1.00250037,\n",
       "       1.00250052, 1.00250021, 1.00250037, 1.00250052, 1.00250068,\n",
       "       1.00250037, 1.00250052, 1.00250068, 1.00250052, 1.00250068,\n",
       "       1.00250083, 1.00250098, 1.00250098, 1.00250114, 1.00250129,\n",
       "       1.00250052, 1.00250068])"
      ]
     },
     "execution_count": 44,
     "metadata": {},
     "output_type": "execute_result"
    }
   ],
   "source": [
    "ssp.LDOPF.om.vsq.value"
   ]
  },
  {
   "cell_type": "code",
   "execution_count": 45,
   "metadata": {},
   "outputs": [],
   "source": [
    "c_M  = np.array([3, 4, 1, 1, 2, 1, 1, 1])\n",
    "\n",
    "c_D  = np.array([2, 3, 1, 1, 1.5, 1, 1, 1])"
   ]
  },
  {
   "attachments": {},
   "cell_type": "markdown",
   "metadata": {},
   "source": [
    "# "
   ]
  },
  {
   "cell_type": "code",
   "execution_count": 46,
   "metadata": {},
   "outputs": [],
   "source": [
    "M_I   = np.array([6, 6, 6, 6, 6, 6, 6, 6])\n",
    "M_II  = np.array([0.01, 0.01, 0.01, 0.01, 0.01, 0.01, 0.01, 0.01])\n",
    "\n",
    "D_I   = np.array([4, 4, 4, 4, 4, 4, 4, 4])\n",
    "D_II  = np.array([0.01, 0.01, 0.01, 0.01, 0.01, 0.01, 0.01, 0.01])\n",
    "\n",
    "M_III = np.array([0.11814667, 0.16732237, 0.68718068, 0.64605445, 0.47454199, 0.51813483, 0.61832465, 0.65060247])\n",
    "D_III = np.array([0.12208462, 0.10709857, 0.16479399, 0.15698404, 0.17926447, 0.16375611, 0.1636579 , 0.16812373])\n",
    "\n",
    "\n",
    "M_IV = np.array([1.318     , 1.317     , 1.737     , 1.696     , 1.474     ,  3.05397107, 5.43976424, 5.5       ])\n",
    "D_IV = np.array([0.572, 0.157, 1.414, 1.406, 0.679, 1.413, 1.41 , 1.518])"
   ]
  },
  {
   "cell_type": "code",
   "execution_count": 47,
   "metadata": {},
   "outputs": [
    {
     "data": {
      "text/plain": [
       "[84, 0.14, 5.0931105500000005, 29.59673531]"
      ]
     },
     "execution_count": 47,
     "metadata": {},
     "output_type": "execute_result"
    }
   ],
   "source": [
    "Inertia_cost_I = sum(c_M * M_I)\n",
    "Inertia_cost_II = sum(c_M * M_II)\n",
    "Inertia_cost_III = sum(c_M * M_III)\n",
    "Inertia_cost_IV = sum(c_M * M_IV)\n",
    "\n",
    "Inertia_cost = [Inertia_cost_I, Inertia_cost_II, Inertia_cost_III, Inertia_cost_IV]\n",
    "Inertia_cost"
   ]
  },
  {
   "cell_type": "code",
   "execution_count": 48,
   "metadata": {},
   "outputs": [
    {
     "data": {
      "text/plain": [
       "[46.0, 0.11499999999999999, 1.651677425, 9.794500000000001]"
      ]
     },
     "execution_count": 48,
     "metadata": {},
     "output_type": "execute_result"
    }
   ],
   "source": [
    "damping_cost_I = sum(c_D * D_I)\n",
    "damping_cost_II = sum(c_D * D_II)\n",
    "damping_cost_III = sum(c_D * D_III)\n",
    "damping_cost_IV = sum(c_D * D_IV)\n",
    "\n",
    "damping_cost = [damping_cost_I, damping_cost_II, damping_cost_III, damping_cost_IV]\n",
    "damping_cost"
   ]
  },
  {
   "cell_type": "code",
   "execution_count": 50,
   "metadata": {},
   "outputs": [
    {
     "data": {
      "text/plain": [
       "array([759.17      , 629.425     , 635.91478797, 668.56123531])"
      ]
     },
     "execution_count": 50,
     "metadata": {},
     "output_type": "execute_result"
    }
   ],
   "source": [
    "Total_cost = 629.17 + np.array(Inertia_cost) + np.array(damping_cost)\n",
    "Total_cost"
   ]
  },
  {
   "cell_type": "code",
   "execution_count": null,
   "metadata": {},
   "outputs": [],
   "source": []
  }
 ],
 "metadata": {
  "kernelspec": {
   "display_name": "andes",
   "language": "python",
   "name": "python3"
  },
  "language_info": {
   "codemirror_mode": {
    "name": "ipython",
    "version": 3
   },
   "file_extension": ".py",
   "mimetype": "text/x-python",
   "name": "python",
   "nbconvert_exporter": "python",
   "pygments_lexer": "ipython3",
   "version": "3.9.18"
  },
  "orig_nbformat": 4
 },
 "nbformat": 4,
 "nbformat_minor": 2
}
