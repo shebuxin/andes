{
 "cells": [
  {
   "cell_type": "code",
   "execution_count": 1,
   "metadata": {},
   "outputs": [],
   "source": [
    "# public packages\n",
    "import andes\n",
    "import ams\n",
    "import cvxpy as cp\n",
    "import numpy as np\n",
    "import gurobipy"
   ]
  },
  {
   "attachments": {},
   "cell_type": "markdown",
   "metadata": {},
   "source": [
    "# Load ams model"
   ]
  },
  {
   "cell_type": "code",
   "execution_count": 2,
   "metadata": {},
   "outputs": [
    {
     "data": {
      "text/plain": [
       "5.112563139168072"
      ]
     },
     "execution_count": 2,
     "metadata": {},
     "output_type": "execute_result"
    }
   ],
   "source": [
    "ssp = ams.load('ams_case123_REGCV1_v6.xlsx')\n",
    "\n",
    "ssp.LDOPF.setup()\n",
    "\n",
    "ssp.LDOPF.om.mdl.solve()"
   ]
  },
  {
   "cell_type": "code",
   "execution_count": 3,
   "metadata": {},
   "outputs": [
    {
     "data": {
      "text/plain": [
       "5.112563139168072"
      ]
     },
     "execution_count": 3,
     "metadata": {},
     "output_type": "execute_result"
    }
   ],
   "source": [
    "ssp.LDOPF.obj.v"
   ]
  },
  {
   "cell_type": "code",
   "execution_count": 4,
   "metadata": {},
   "outputs": [
    {
     "data": {
      "text/plain": [
       "OrderedDict([('pg', Variable((11,))),\n",
       "             ('pn', Variable((117,))),\n",
       "             ('qg', Variable((11,))),\n",
       "             ('qn', Variable((117,))),\n",
       "             ('vsq', Variable((117,))),\n",
       "             ('pl', Variable((116,))),\n",
       "             ('ql', Variable((116,)))])"
      ]
     },
     "execution_count": 4,
     "metadata": {},
     "output_type": "execute_result"
    }
   ],
   "source": [
    "ssp.LDOPF.om.vars"
   ]
  },
  {
   "cell_type": "code",
   "execution_count": 5,
   "metadata": {},
   "outputs": [
    {
     "data": {
      "text/plain": [
       "array([0.04999101, 0.08999101, 0.07708993, 0.01999101, 0.02399101,\n",
       "       0.01399101, 0.01199101, 0.01799101, 0.01499101, 0.01599101,\n",
       "       0.01699101])"
      ]
     },
     "execution_count": 5,
     "metadata": {},
     "output_type": "execute_result"
    }
   ],
   "source": [
    "pg_ams = ssp.LDOPF.om.pg.value\n",
    "\n",
    "pg_ams"
   ]
  },
  {
   "cell_type": "code",
   "execution_count": 6,
   "metadata": {},
   "outputs": [
    {
     "data": {
      "text/plain": [
       "['PV_1',\n",
       " 'PV_2',\n",
       " 'PV_3',\n",
       " 'PV_4',\n",
       " 'PV_5',\n",
       " 'PV_6',\n",
       " 'PV_7',\n",
       " 'PV_8',\n",
       " 'PV_9',\n",
       " 'PV_10',\n",
       " 'PV_11']"
      ]
     },
     "execution_count": 6,
     "metadata": {},
     "output_type": "execute_result"
    }
   ],
   "source": [
    "ssp.LDOPF.pg.get_idx()"
   ]
  },
  {
   "attachments": {},
   "cell_type": "markdown",
   "metadata": {},
   "source": [
    "# Define new variables, constraints, and obj"
   ]
  },
  {
   "cell_type": "code",
   "execution_count": 7,
   "metadata": {},
   "outputs": [],
   "source": [
    "constriants_ams = [ssp.LDOPF.om.constrs[cname] for cname in ssp.LDOPF.om.constrs.keys()]"
   ]
  },
  {
   "cell_type": "code",
   "execution_count": 8,
   "metadata": {},
   "outputs": [],
   "source": [
    "constraints = constriants_ams"
   ]
  },
  {
   "attachments": {},
   "cell_type": "markdown",
   "metadata": {},
   "source": [
    "# Formulate new problem\n",
    "\n",
    "pg = ['PV_1',\n",
    " 'PV_10',\n",
    " 'PV_11',\n",
    " 'PV_2',\n",
    " 'PV_3',\n",
    " 'PV_4',\n",
    " 'PV_5',\n",
    " 'PV_6',\n",
    " 'PV_7',\n",
    " 'PV_8',\n",
    " 'PV_9']\n",
    "\n",
    " SG: PV_1, PV_2, PV_3 (slack bus)\n",
    "\n",
    " IBR: PV_4, PV_5, ..., PV_11"
   ]
  },
  {
   "cell_type": "code",
   "execution_count": 9,
   "metadata": {},
   "outputs": [],
   "source": [
    "# Cost data\n",
    "\n",
    "c2 = np.array([0.01, 0.01, 0.02, 0, 0, 0, 0, 0, 0, 0, 0]) # gen quadratic cost\n",
    "c1 = np.array([  20,   20,   30, 0, 0, 0, 0, 0, 0, 0, 0]) # gen linear cost\n",
    "\n",
    "pg = ssp.LDOPF.om.pg\n",
    "\n",
    "# pg_power = cp.power(pg, 2)\n",
    "pg_power = pg**2\n",
    "\n",
    "cost = cp.sum(c2 @ pg_power + c1 @ pg)\n",
    "\n",
    "obj = cp.Minimize(cost)"
   ]
  },
  {
   "cell_type": "code",
   "execution_count": 10,
   "metadata": {},
   "outputs": [
    {
     "data": {
      "text/plain": [
       "array([0.01, 0.01, 0.02, 0.  , 0.  , 0.  , 0.  , 0.  , 0.  , 0.  , 0.  ])"
      ]
     },
     "execution_count": 10,
     "metadata": {},
     "output_type": "execute_result"
    }
   ],
   "source": [
    "ssp.LDOPF.c2.v"
   ]
  },
  {
   "cell_type": "code",
   "execution_count": 11,
   "metadata": {},
   "outputs": [],
   "source": [
    "# Create the optimization problem\n",
    "prob = cp.Problem(obj, constraints)"
   ]
  },
  {
   "cell_type": "code",
   "execution_count": 12,
   "metadata": {},
   "outputs": [
    {
     "name": "stdout",
     "output_type": "stream",
     "text": [
      "Set parameter Username\n",
      "Academic license - for non-commercial use only - expires 2024-09-13\n"
     ]
    },
    {
     "data": {
      "text/plain": [
       "5.110224580001787"
      ]
     },
     "execution_count": 12,
     "metadata": {},
     "output_type": "execute_result"
    }
   ],
   "source": [
    "# built-in solver: ECOS_BB\n",
    "# prob.solve(solver=cp.ECOS_BB, verbose=True)\n",
    "# prob.solve(solver=cp.ECOS_BB)\n",
    "prob.solve(solver=cp.GUROBI)"
   ]
  },
  {
   "cell_type": "code",
   "execution_count": 13,
   "metadata": {},
   "outputs": [
    {
     "data": {
      "text/plain": [
       "RParam: c1 <GCost>, v=[20. 20. 30.  0.  0.  0.  0.  0.  0.  0.  0.]"
      ]
     },
     "execution_count": 13,
     "metadata": {},
     "output_type": "execute_result"
    }
   ],
   "source": [
    "ssp.LDOPF.c1"
   ]
  },
  {
   "cell_type": "code",
   "execution_count": 14,
   "metadata": {},
   "outputs": [
    {
     "data": {
      "text/plain": [
       "RParam: c2 <GCost>, v=[0.01 0.01 0.02 0.   0.   0.   0.   0.   0.   0.   0.  ]"
      ]
     },
     "execution_count": 14,
     "metadata": {},
     "output_type": "execute_result"
    }
   ],
   "source": [
    "ssp.LDOPF.c2"
   ]
  },
  {
   "cell_type": "code",
   "execution_count": 15,
   "metadata": {},
   "outputs": [
    {
     "data": {
      "text/plain": [
       "array([0.05 , 0.09 , 0.077, 0.02 , 0.024, 0.014, 0.012, 0.018, 0.015,\n",
       "       0.016, 0.017])"
      ]
     },
     "execution_count": 15,
     "metadata": {},
     "output_type": "execute_result"
    }
   ],
   "source": [
    "ssp.LDOPF.om.pg.value"
   ]
  },
  {
   "cell_type": "code",
   "execution_count": 16,
   "metadata": {},
   "outputs": [
    {
     "data": {
      "text/plain": [
       "0.35300000000000015"
      ]
     },
     "execution_count": 16,
     "metadata": {},
     "output_type": "execute_result"
    }
   ],
   "source": [
    "sum(ssp.LDOPF.om.pg.value)"
   ]
  },
  {
   "cell_type": "code",
   "execution_count": 17,
   "metadata": {},
   "outputs": [
    {
     "data": {
      "text/plain": [
       "array([0.025, 0.025, 0.025, 0.   , 0.   , 0.   , 0.   , 0.   , 0.   ,\n",
       "       0.   , 0.   ])"
      ]
     },
     "execution_count": 17,
     "metadata": {},
     "output_type": "execute_result"
    }
   ],
   "source": [
    "# check lower limit of pg\n",
    "ssp.LDOPF.pmin.v"
   ]
  },
  {
   "cell_type": "code",
   "execution_count": 18,
   "metadata": {},
   "outputs": [
    {
     "data": {
      "text/plain": [
       "array([0.05 , 0.09 , 0.2  , 0.02 , 0.024, 0.014, 0.012, 0.018, 0.015,\n",
       "       0.016, 0.017])"
      ]
     },
     "execution_count": 18,
     "metadata": {},
     "output_type": "execute_result"
    }
   ],
   "source": [
    "# check upper limit of pg\n",
    "ssp.LDOPF.pmax.v"
   ]
  },
  {
   "cell_type": "code",
   "execution_count": 19,
   "metadata": {},
   "outputs": [],
   "source": [
    "c_M  = np.array([3, 4, 1, 1, 2, 1, 1, 1])\n",
    "\n",
    "c_D  = np.array([2, 3, 1, 1, 1.5, 1, 1, 1])"
   ]
  },
  {
   "cell_type": "code",
   "execution_count": 20,
   "metadata": {},
   "outputs": [],
   "source": [
    "M_I   = np.array([6, 6, 6, 6, 6, 6, 6, 6])\n",
    "M_II  = np.array([0.01, 0.01, 0.01, 0.01, 0.01, 0.01, 0.01, 0.01])\n",
    "\n",
    "D_I   = np.array([4, 4, 4, 4, 4, 4, 4, 4])\n",
    "D_II  = np.array([0.01, 0.01, 0.01, 0.01, 0.01, 0.01, 0.01, 0.01])\n",
    "\n",
    "M_III = np.array([0.11814667, 0.16732237, 0.68718068, 0.64605445, 0.47454199, 0.51813483, 0.61832465, 0.65060247])\n",
    "D_III = np.array([0.12208462, 0.10709857, 0.16479399, 0.15698404, 0.17926447, 0.16375611, 0.1636579 , 0.16812373])\n",
    "\n",
    "\n",
    "M_IV = np.array([1.318     , 1.317     , 1.737     , 1.696     , 1.474     ,  3.05397107, 5.43976424, 5.5       ])\n",
    "D_IV = np.array([0.572, 0.157, 1.414, 1.406, 0.679, 1.413, 1.41 , 1.518])"
   ]
  },
  {
   "cell_type": "code",
   "execution_count": 25,
   "metadata": {},
   "outputs": [
    {
     "data": {
      "text/plain": [
       "[84, 0.14, 5.0931105500000005, 29.59673531]"
      ]
     },
     "execution_count": 25,
     "metadata": {},
     "output_type": "execute_result"
    }
   ],
   "source": [
    "Inertia_cost_I = sum(c_M * M_I)\n",
    "Inertia_cost_II = sum(c_M * M_II)\n",
    "Inertia_cost_III = sum(c_M * M_III)\n",
    "Inertia_cost_IV = sum(c_M * M_IV)\n",
    "\n",
    "Inertia_cost = [Inertia_cost_I, Inertia_cost_II, Inertia_cost_III, Inertia_cost_IV]\n",
    "Inertia_cost"
   ]
  },
  {
   "cell_type": "code",
   "execution_count": 26,
   "metadata": {},
   "outputs": [
    {
     "data": {
      "text/plain": [
       "[46.0, 0.11499999999999999, 1.651677425, 9.794500000000001]"
      ]
     },
     "execution_count": 26,
     "metadata": {},
     "output_type": "execute_result"
    }
   ],
   "source": [
    "damping_cost_I = sum(c_D * D_I)\n",
    "damping_cost_II = sum(c_D * D_II)\n",
    "damping_cost_III = sum(c_D * D_III)\n",
    "damping_cost_IV = sum(c_D * D_IV)\n",
    "\n",
    "damping_cost = [damping_cost_I, damping_cost_II, damping_cost_III, damping_cost_IV]\n",
    "damping_cost"
   ]
  },
  {
   "cell_type": "code",
   "execution_count": null,
   "metadata": {},
   "outputs": [],
   "source": [
    "Total_cost = np.array(Inertia_cost) + np.array(damping_cost)"
   ]
  },
  {
   "attachments": {},
   "cell_type": "markdown",
   "metadata": {},
   "source": [
    "# "
   ]
  }
 ],
 "metadata": {
  "kernelspec": {
   "display_name": "andes",
   "language": "python",
   "name": "python3"
  },
  "language_info": {
   "codemirror_mode": {
    "name": "ipython",
    "version": 3
   },
   "file_extension": ".py",
   "mimetype": "text/x-python",
   "name": "python",
   "nbconvert_exporter": "python",
   "pygments_lexer": "ipython3",
   "version": "3.9.18"
  },
  "orig_nbformat": 4
 },
 "nbformat": 4,
 "nbformat_minor": 2
}
