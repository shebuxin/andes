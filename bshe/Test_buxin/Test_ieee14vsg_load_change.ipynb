{
 "cells": [
  {
   "cell_type": "markdown",
   "metadata": {},
   "source": [
    "# Test IEEE 14 - VSG\n",
    "\n",
    "static Gen is for power flow calculation, including '' and '' <br>\n",
    "dynamci Gen is for TDS, indlucing 'GENROW' and 'GENCAL'"
   ]
  },
  {
   "cell_type": "code",
   "execution_count": 20,
   "metadata": {},
   "outputs": [
    {
     "name": "stdout",
     "output_type": "stream",
     "text": [
      "Andes version: 1.6.2.post3.dev0+g4b164287\n",
      "Pandapower version: 2.8.0\n"
     ]
    }
   ],
   "source": [
    "import andes\n",
    "import os\n",
    "import pandas as pd\n",
    "import pandapower as pp\n",
    "\n",
    "# andes and pandapower version\n",
    "print(f'Andes version: {andes.__version__}')\n",
    "print(f'Pandapower version: {pp.__version__}')"
   ]
  },
  {
   "cell_type": "markdown",
   "metadata": {},
   "source": [
    "1. *setup()* is to configure the case, once setup, cannot add new device\n",
    "   or setup=False and run *ss.setup()* after setting\n",
    "2. $S_{base}=100MVA$ in the case file\n",
    "3. 'Toggler' is a group to add connect and disconnect device at specific time."
   ]
  },
  {
   "cell_type": "code",
   "execution_count": 21,
   "metadata": {},
   "outputs": [
    {
     "name": "stderr",
     "output_type": "stream",
     "text": [
      "Line: unused data {'rate_a': 200}\n",
      "Line: unused data {'rate_a': 100}\n",
      "Line: unused data {'rate_a': 100}\n",
      "Line: unused data {'rate_a': 100}\n",
      "Line: unused data {'rate_a': 100}\n",
      "Line: unused data {'rate_a': 50}\n",
      "Line: unused data {'rate_a': 100}\n",
      "Line: unused data {'rate_a': 50}\n",
      "Line: unused data {'rate_a': 50}\n",
      "Line: unused data {'rate_a': 100}\n",
      "Line: unused data {'rate_a': 50}\n",
      "Line: unused data {'rate_a': 20}\n",
      "Line: unused data {'rate_a': 50}\n",
      "Line: unused data {'rate_a': 50}\n",
      "Line: unused data {'rate_a': 50}\n",
      "Line: unused data {'rate_a': 20}\n",
      "Line: unused data {'rate_a': 20}\n",
      "Line: unused data {'rate_a': 20}\n",
      "Line: unused data {'rate_a': 20}\n",
      "Line: unused data {'rate_a': 20}\n"
     ]
    }
   ],
   "source": [
    "# get andes case from excel\n",
    "dir_path = os.path.abspath('..')\n",
    "case_path = '/Test_buxin/ieee14_vsg1.xlsx'\n",
    "case = dir_path + case_path\n",
    "ssa = andes.load(case,\n",
    "                 setup=False,\n",
    "                 no_output=True,\n",
    "                 default_config=False)"
   ]
  },
  {
   "cell_type": "code",
   "execution_count": 22,
   "metadata": {},
   "outputs": [
    {
     "name": "stderr",
     "output_type": "stream",
     "text": [
      "Suspect initialization issue! Simulation may crash!\n",
      "\n",
      "    Name     | Var. Value | Eqn. Mismatch\n",
      "-------------+------------+--------------\n",
      " Pe REGCV2 1 | 0.045      | -0.090       \n",
      " Pe REGCV2 2 | 0.045      | -0.090       \n",
      " Id REGCV2 1 | -0.044     | 0.087        \n",
      " Id REGCV2 2 | -0.044     | 0.087        \n",
      "\n",
      "\n",
      "Initialization failed!!\n",
      "If you are developing a new model, check the initialization with\n",
      "   andes -v 10 run -r tds --init /home/bshe/repos/andes/examples/Test_buxin/ieee14_vsg1.xlsx\n",
      "Otherwise, check the variables that are initialized out of limits.\n"
     ]
    },
    {
     "data": {
      "application/vnd.jupyter.widget-view+json": {
       "model_id": "6f6e128535c147a38b0e47430b5e0f83",
       "version_major": 2,
       "version_minor": 0
      },
      "text/plain": [
       "  0%|          | 0/100 [00:00<?, ?%/s]"
      ]
     },
     "metadata": {},
     "output_type": "display_data"
    },
    {
     "data": {
      "text/plain": [
       "True"
      ]
     },
     "execution_count": 22,
     "metadata": {},
     "output_type": "execute_result"
    }
   ],
   "source": [
    "# set load as constant load\n",
    "# ssa.PQ.config.p2p = 1\n",
    "# ssa.PQ.config.q2q = 1\n",
    "# ssa.PQ.config.p2z = 0\n",
    "# ssa.PQ.config.q2z = 0\n",
    "# ssa.PQ.pq2z = 0\n",
    "\n",
    "\n",
    "# Turn on numba to accelerate TDS\n",
    "ssa.setup()\n",
    "ssa.config.numba\n",
    "ssa.PFlow.run()\n",
    "\n",
    "ssa.TDS.config.tf = 2.0\n",
    "ssa.TDS.run()"
   ]
  },
  {
   "cell_type": "markdown",
   "metadata": {},
   "source": [
    "## Load change"
   ]
  },
  {
   "cell_type": "code",
   "execution_count": 23,
   "metadata": {},
   "outputs": [
    {
     "data": {
      "text/plain": [
       "array([0.5  , 0.478])"
      ]
     },
     "execution_count": 23,
     "metadata": {},
     "output_type": "execute_result"
    }
   ],
   "source": [
    "# get `Ppf` (load) on these buses before shedding\n",
    "\n",
    "pq_p = ssa.PQ.get(src='Ppf', idx=['PQ_2','PQ_3'], attr='v')\n",
    "pq_p"
   ]
  },
  {
   "cell_type": "code",
   "execution_count": 24,
   "metadata": {},
   "outputs": [
    {
     "data": {
      "text/plain": [
       "array([0.217, 1.8  , 0.478, 0.076, 0.15 , 0.295, 0.09 , 0.035, 0.061,\n",
       "       0.135, 0.2  ])"
      ]
     },
     "execution_count": 24,
     "metadata": {},
     "output_type": "execute_result"
    }
   ],
   "source": [
    "ssa.PQ.set(src='Ppf', idx='PQ_2', attr='v', value=1.8)\n",
    "ssa.PQ.Ppf.v"
   ]
  },
  {
   "cell_type": "code",
   "execution_count": 25,
   "metadata": {},
   "outputs": [
    {
     "data": {
      "application/vnd.jupyter.widget-view+json": {
       "model_id": "03c6a4bb84fd4ab0bea175c64e919746",
       "version_major": 2,
       "version_minor": 0
      },
      "text/plain": [
       "  0%|          | 0/100 [00:00<?, ?%/s]"
      ]
     },
     "metadata": {},
     "output_type": "display_data"
    },
    {
     "data": {
      "text/plain": [
       "True"
      ]
     },
     "execution_count": 25,
     "metadata": {},
     "output_type": "execute_result"
    }
   ],
   "source": [
    "ssa.TDS.config.tf = 20\n",
    "ssa.TDS.run()"
   ]
  },
  {
   "cell_type": "code",
   "execution_count": 26,
   "metadata": {},
   "outputs": [
    {
     "data": {
      "image/png": "[encoded data removed]",
      "text/plain": [
       "<Figure size 600x400 with 1 Axes>"
      ]
     },
     "metadata": {
      "needs_background": "light"
     },
     "output_type": "display_data"
    },
    {
     "data": {
      "text/plain": [
       "(<Figure size 600x400 with 1 Axes>, <AxesSubplot:xlabel='Time [s]'>)"
      ]
     },
     "execution_count": 26,
     "metadata": {},
     "output_type": "execute_result"
    }
   ],
   "source": [
    "ssa.TDS.load_plotter()\n",
    "\n",
    "ssa.TDS.plt.plot(ssa.GENROU.omega,\n",
    "                a=(0, 2, 3, 4),\n",
    "                ytimes=60,\n",
    "               )"
   ]
  },
  {
   "cell_type": "code",
   "execution_count": 27,
   "metadata": {},
   "outputs": [
    {
     "data": {
      "image/png": "[encoded data removed]",
      "text/plain": [
       "<Figure size 600x400 with 1 Axes>"
      ]
     },
     "metadata": {
      "needs_background": "light"
     },
     "output_type": "display_data"
    },
    {
     "data": {
      "text/plain": [
       "(<Figure size 600x400 with 1 Axes>, <AxesSubplot:xlabel='Time [s]'>)"
      ]
     },
     "execution_count": 27,
     "metadata": {},
     "output_type": "execute_result"
    }
   ],
   "source": [
    "ssa.TDS.plt.plot(ssa.REGCV2.Pe,\n",
    "                a=(0, 1),\n",
    "                ytimes=1,\n",
    "               )"
   ]
  },
  {
   "cell_type": "code",
   "execution_count": 28,
   "metadata": {},
   "outputs": [
    {
     "data": {
      "image/png": "[encoded data removed]",
      "text/plain": [
       "<Figure size 600x400 with 1 Axes>"
      ]
     },
     "metadata": {
      "needs_background": "light"
     },
     "output_type": "display_data"
    },
    {
     "data": {
      "text/plain": [
       "(<Figure size 600x400 with 1 Axes>, <AxesSubplot:xlabel='Time [s]'>)"
      ]
     },
     "execution_count": 28,
     "metadata": {},
     "output_type": "execute_result"
    }
   ],
   "source": [
    "ssa.TDS.plt.plot(ssa.REGCV2.Qe,\n",
    "                a=(0, 1),\n",
    "                ytimes=1,\n",
    "               )"
   ]
  },
  {
   "cell_type": "code",
   "execution_count": null,
   "metadata": {},
   "outputs": [],
   "source": []
  }
 ],
 "metadata": {
  "interpreter": {
   "hash": "92db1f2a11a76f7a418d851adb0781f3e73d5b182acdc0024399e5c6e3e8abd7"
  },
  "kernelspec": {
   "display_name": "Python 3.8.12 ('andes': conda)",
   "language": "python",
   "name": "python3"
  },
  "language_info": {
   "codemirror_mode": {
    "name": "ipython",
    "version": 3
   },
   "file_extension": ".py",
   "mimetype": "text/x-python",
   "name": "python",
   "nbconvert_exporter": "python",
   "pygments_lexer": "ipython3",
   "version": "3.8.13"
  },
  "orig_nbformat": 4
 },
 "nbformat": 4,
 "nbformat_minor": 2
}
