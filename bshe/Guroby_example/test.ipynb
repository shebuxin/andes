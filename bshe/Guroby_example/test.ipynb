{
 "cells": [
  {
   "cell_type": "markdown",
   "metadata": {},
   "source": [
    "# Test gurobipy\n",
    "\n",
    "based on Zhenping Guo's Homework"
   ]
  },
  {
   "cell_type": "code",
   "execution_count": 1,
   "metadata": {},
   "outputs": [],
   "source": [
    "import gurobipy as gp\n",
    "from gurobipy import GRB \n",
    "import sys"
   ]
  },
  {
   "cell_type": "code",
   "execution_count": 2,
   "metadata": {},
   "outputs": [],
   "source": [
    "# load data\n",
    "week, demand, minInventory, holdCostUnit = gp.multidict({\n",
    "    1 : [10, 1, 1],\n",
    "    2 : [10, 1, 1],\n",
    "    3 : [10, 1, 1],\n",
    "    4 : [0, 0, 1],\n",
    "    5 : [0, 0, 1],\n",
    "    6 : [15, 1.5,1],\n",
    "    7 : [20, 2, 1],\n",
    "    8 : [20, 2, 1],\n",
    "    9 : [0, 0, 1],\n",
    "    10 :[10, 1, 1]})"
   ]
  },
  {
   "cell_type": "code",
   "execution_count": 3,
   "metadata": {},
   "outputs": [
    {
     "data": {
      "text/plain": [
       "[[1, 2, 3, 4, 5, 6, 7, 8, 9, 10],\n",
       " {1: 10, 2: 10, 3: 10, 4: 0, 5: 0, 6: 15, 7: 20, 8: 20, 9: 0, 10: 10},\n",
       " {1: 1, 2: 1, 3: 1, 4: 0, 5: 0, 6: 1.5, 7: 2, 8: 2, 9: 0, 10: 1},\n",
       " {1: 1, 2: 1, 3: 1, 4: 1, 5: 1, 6: 1, 7: 1, 8: 1, 9: 1, 10: 1}]"
      ]
     },
     "execution_count": 3,
     "metadata": {},
     "output_type": "execute_result"
    }
   ],
   "source": [
    "gp.multidict({\n",
    "    1 : [10, 1, 1],\n",
    "    2 : [10, 1, 1],\n",
    "    3 : [10, 1, 1],\n",
    "    4 : [0, 0, 1],\n",
    "    5 : [0, 0, 1],\n",
    "    6 : [15, 1.5,1],\n",
    "    7 : [20, 2, 1],\n",
    "    8 : [20, 2, 1],\n",
    "    9 : [0, 0, 1],\n",
    "    10 :[10, 1, 1]})"
   ]
  },
  {
   "cell_type": "code",
   "execution_count": 4,
   "metadata": {},
   "outputs": [
    {
     "data": {
      "text/plain": [
       "[1, 2, 3, 4, 5, 6, 7, 8, 9, 10]"
      ]
     },
     "execution_count": 4,
     "metadata": {},
     "output_type": "execute_result"
    }
   ],
   "source": [
    "week"
   ]
  },
  {
   "cell_type": "code",
   "execution_count": 5,
   "metadata": {},
   "outputs": [
    {
     "data": {
      "text/plain": [
       "{1: 10, 2: 10, 3: 10, 4: 0, 5: 0, 6: 15, 7: 20, 8: 20, 9: 0, 10: 10}"
      ]
     },
     "execution_count": 5,
     "metadata": {},
     "output_type": "execute_result"
    }
   ],
   "source": [
    "demand"
   ]
  },
  {
   "cell_type": "code",
   "execution_count": 6,
   "metadata": {},
   "outputs": [
    {
     "data": {
      "text/plain": [
       "{1: 1, 2: 1, 3: 1, 4: 1, 5: 1, 6: 1, 7: 1, 8: 1, 9: 1, 10: 1}"
      ]
     },
     "execution_count": 6,
     "metadata": {},
     "output_type": "execute_result"
    }
   ],
   "source": [
    "holdCostUnit"
   ]
  },
  {
   "cell_type": "code",
   "execution_count": 7,
   "metadata": {},
   "outputs": [
    {
     "data": {
      "text/plain": [
       "95"
      ]
     },
     "execution_count": 7,
     "metadata": {},
     "output_type": "execute_result"
    }
   ],
   "source": [
    "M_ = sum(demand[idx] for idx in demand)\n",
    "M_"
   ]
  },
  {
   "cell_type": "code",
   "execution_count": 8,
   "metadata": {},
   "outputs": [
    {
     "name": "stdout",
     "output_type": "stream",
     "text": [
      "Restricted license - for non-production use only - expires 2023-10-25\n"
     ]
    },
    {
     "data": {
      "text/plain": [
       "{1: <gurobi.Constr *Awaiting Model Update*>,\n",
       " 2: <gurobi.Constr *Awaiting Model Update*>,\n",
       " 3: <gurobi.Constr *Awaiting Model Update*>,\n",
       " 4: <gurobi.Constr *Awaiting Model Update*>,\n",
       " 5: <gurobi.Constr *Awaiting Model Update*>,\n",
       " 6: <gurobi.Constr *Awaiting Model Update*>,\n",
       " 7: <gurobi.Constr *Awaiting Model Update*>,\n",
       " 8: <gurobi.Constr *Awaiting Model Update*>,\n",
       " 9: <gurobi.Constr *Awaiting Model Update*>,\n",
       " 10: <gurobi.Constr *Awaiting Model Update*>}"
      ]
     },
     "execution_count": 8,
     "metadata": {},
     "output_type": "execute_result"
    }
   ],
   "source": [
    "# build Gurobi Model\n",
    "m = gp.Model(\"IE522_zguo19_proj3\")\n",
    "\n",
    "# Create decision variables\n",
    "x = m.addVars(week,lb= 0,  name=\"x\")  #order amount each week\n",
    "y = m.addVars(week,lb= 0,  name=\"y\")  #Inventory held at end of week\n",
    "z = m.addVars(week,4,vtype=GRB.BINARY, name=\"z\")   #auxiliary variable\n",
    "\n",
    "M = sum(demand)\n",
    "p = {i:2*z[i,1]+z[i,2]+0.5*z[i,3] for i in week} #price in unit\n",
    "\n",
    "# obj: minimize costs\n",
    "m.setObjective(x.prod(p)+y.prod(holdCostUnit), GRB.MINIMIZE)\n",
    "\n",
    "# Add constraints\n",
    "m.addConstrs(y[i]>=minInventory[i] for i in week)\n",
    "m.addConstr(y[1]==20+x[1]-demand[1])\n",
    "m.addConstrs(y[i+1]==y[i]+x[i+1]-demand[i+1] for i in range(1,len(week)))\n",
    "m.addConstrs(z.sum(i,'*')==1 for i in week)\n",
    "m.addConstrs(x[i]<=9.99*z[i,1]+14.99*z[i,2]+M*z[i,3] for i in week)\n",
    "m.addConstrs(x[i]>=5*z[i,1]+10*z[i,2]+15*z[i,3] for i in week)"
   ]
  },
  {
   "cell_type": "code",
   "execution_count": 9,
   "metadata": {},
   "outputs": [
    {
     "data": {
      "text/plain": [
       "<gurobi.LinExpr: <gurobi.Var *Awaiting Model Update*> + <gurobi.Var *Awaiting Model Update*> + <gurobi.Var *Awaiting Model Update*> + <gurobi.Var *Awaiting Model Update*>>"
      ]
     },
     "execution_count": 9,
     "metadata": {},
     "output_type": "execute_result"
    }
   ],
   "source": [
    "z.sum(1,'*') "
   ]
  },
  {
   "cell_type": "code",
   "execution_count": 10,
   "metadata": {},
   "outputs": [
    {
     "data": {
      "text/plain": [
       "{1: <gurobi.LinExpr: 2.0 <gurobi.Var *Awaiting Model Update*> + <gurobi.Var *Awaiting Model Update*> + 0.5 <gurobi.Var *Awaiting Model Update*>>,\n",
       " 2: <gurobi.LinExpr: 2.0 <gurobi.Var *Awaiting Model Update*> + <gurobi.Var *Awaiting Model Update*> + 0.5 <gurobi.Var *Awaiting Model Update*>>,\n",
       " 3: <gurobi.LinExpr: 2.0 <gurobi.Var *Awaiting Model Update*> + <gurobi.Var *Awaiting Model Update*> + 0.5 <gurobi.Var *Awaiting Model Update*>>,\n",
       " 4: <gurobi.LinExpr: 2.0 <gurobi.Var *Awaiting Model Update*> + <gurobi.Var *Awaiting Model Update*> + 0.5 <gurobi.Var *Awaiting Model Update*>>,\n",
       " 5: <gurobi.LinExpr: 2.0 <gurobi.Var *Awaiting Model Update*> + <gurobi.Var *Awaiting Model Update*> + 0.5 <gurobi.Var *Awaiting Model Update*>>,\n",
       " 6: <gurobi.LinExpr: 2.0 <gurobi.Var *Awaiting Model Update*> + <gurobi.Var *Awaiting Model Update*> + 0.5 <gurobi.Var *Awaiting Model Update*>>,\n",
       " 7: <gurobi.LinExpr: 2.0 <gurobi.Var *Awaiting Model Update*> + <gurobi.Var *Awaiting Model Update*> + 0.5 <gurobi.Var *Awaiting Model Update*>>,\n",
       " 8: <gurobi.LinExpr: 2.0 <gurobi.Var *Awaiting Model Update*> + <gurobi.Var *Awaiting Model Update*> + 0.5 <gurobi.Var *Awaiting Model Update*>>,\n",
       " 9: <gurobi.LinExpr: 2.0 <gurobi.Var *Awaiting Model Update*> + <gurobi.Var *Awaiting Model Update*> + 0.5 <gurobi.Var *Awaiting Model Update*>>,\n",
       " 10: <gurobi.LinExpr: 2.0 <gurobi.Var *Awaiting Model Update*> + <gurobi.Var *Awaiting Model Update*> + 0.5 <gurobi.Var *Awaiting Model Update*>>}"
      ]
     },
     "execution_count": 10,
     "metadata": {},
     "output_type": "execute_result"
    }
   ],
   "source": [
    "p"
   ]
  },
  {
   "cell_type": "code",
   "execution_count": 11,
   "metadata": {},
   "outputs": [
    {
     "data": {
      "text/plain": [
       "<gurobi.QuadExpr: 0.0 + [ 2.0 <gurobi.Var *Awaiting Model Update*> * <gurobi.Var *Awaiting Model Update*> + <gurobi.Var *Awaiting Model Update*> * <gurobi.Var *Awaiting Model Update*> + 0.5 <gurobi.Var *Awaiting Model Update*> * <gurobi.Var *Awaiting Model Update*> + 2.0 <gurobi.Var *Awaiting Model Update*> * <gurobi.Var *Awaiting Model Update*> + <gurobi.Var *Awaiting Model Update*> * <gurobi.Var *Awaiting Model Update*> + 0.5 <gurobi.Var *Awaiting Model Update*> * <gurobi.Var *Awaiting Model Update*> + 2.0 <gurobi.Var *Awaiting Model Update*> * <gurobi.Var *Awaiting Model Update*> + <gurobi.Var *Awaiting Model Update*> * <gurobi.Var *Awaiting Model Update*> + 0.5 <gurobi.Var *Awaiting Model Update*> * <gurobi.Var *Awaiting Model Update*> + 2.0 <gurobi.Var *Awaiting Model Update*> * <gurobi.Var *Awaiting Model Update*> + <gurobi.Var *Awaiting Model Update*> * <gurobi.Var *Awaiting Model Update*> + 0.5 <gurobi.Var *Awaiting Model Update*> * <gurobi.Var *Awaiting Model Update*> + 2.0 <gurobi.Var *Awaiting Model Update*> * <gurobi.Var *Awaiting Model Update*> + <gurobi.Var *Awaiting Model Update*> * <gurobi.Var *Awaiting Model Update*> + 0.5 <gurobi.Var *Awaiting Model Update*> * <gurobi.Var *Awaiting Model Update*> + 2.0 <gurobi.Var *Awaiting Model Update*> * <gurobi.Var *Awaiting Model Update*> + <gurobi.Var *Awaiting Model Update*> * <gurobi.Var *Awaiting Model Update*> + 0.5 <gurobi.Var *Awaiting Model Update*> * <gurobi.Var *Awaiting Model Update*> + 2.0 <gurobi.Var *Awaiting Model Update*> * <gurobi.Var *Awaiting Model Update*> + <gurobi.Var *Awaiting Model Update*> * <gurobi.Var *Awaiting Model Update*> + 0.5 <gurobi.Var *Awaiting Model Update*> * <gurobi.Var *Awaiting Model Update*> + 2.0 <gurobi.Var *Awaiting Model Update*> * <gurobi.Var *Awaiting Model Update*> + <gurobi.Var *Awaiting Model Update*> * <gurobi.Var *Awaiting Model Update*> + 0.5 <gurobi.Var *Awaiting Model Update*> * <gurobi.Var *Awaiting Model Update*> + 2.0 <gurobi.Var *Awaiting Model Update*> * <gurobi.Var *Awaiting Model Update*> + <gurobi.Var *Awaiting Model Update*> * <gurobi.Var *Awaiting Model Update*> + 0.5 <gurobi.Var *Awaiting Model Update*> * <gurobi.Var *Awaiting Model Update*> + 2.0 <gurobi.Var *Awaiting Model Update*> * <gurobi.Var *Awaiting Model Update*> + <gurobi.Var *Awaiting Model Update*> * <gurobi.Var *Awaiting Model Update*> + 0.5 <gurobi.Var *Awaiting Model Update*> * <gurobi.Var *Awaiting Model Update*> ]>"
      ]
     },
     "execution_count": 11,
     "metadata": {},
     "output_type": "execute_result"
    }
   ],
   "source": [
    "x.prod(p)"
   ]
  },
  {
   "cell_type": "code",
   "execution_count": 12,
   "metadata": {},
   "outputs": [
    {
     "data": {
      "text/plain": [
       "{(1, 0): <gurobi.Var *Awaiting Model Update*>,\n",
       " (1, 1): <gurobi.Var *Awaiting Model Update*>,\n",
       " (1, 2): <gurobi.Var *Awaiting Model Update*>,\n",
       " (1, 3): <gurobi.Var *Awaiting Model Update*>,\n",
       " (2, 0): <gurobi.Var *Awaiting Model Update*>,\n",
       " (2, 1): <gurobi.Var *Awaiting Model Update*>,\n",
       " (2, 2): <gurobi.Var *Awaiting Model Update*>,\n",
       " (2, 3): <gurobi.Var *Awaiting Model Update*>,\n",
       " (3, 0): <gurobi.Var *Awaiting Model Update*>,\n",
       " (3, 1): <gurobi.Var *Awaiting Model Update*>,\n",
       " (3, 2): <gurobi.Var *Awaiting Model Update*>,\n",
       " (3, 3): <gurobi.Var *Awaiting Model Update*>,\n",
       " (4, 0): <gurobi.Var *Awaiting Model Update*>,\n",
       " (4, 1): <gurobi.Var *Awaiting Model Update*>,\n",
       " (4, 2): <gurobi.Var *Awaiting Model Update*>,\n",
       " (4, 3): <gurobi.Var *Awaiting Model Update*>,\n",
       " (5, 0): <gurobi.Var *Awaiting Model Update*>,\n",
       " (5, 1): <gurobi.Var *Awaiting Model Update*>,\n",
       " (5, 2): <gurobi.Var *Awaiting Model Update*>,\n",
       " (5, 3): <gurobi.Var *Awaiting Model Update*>,\n",
       " (6, 0): <gurobi.Var *Awaiting Model Update*>,\n",
       " (6, 1): <gurobi.Var *Awaiting Model Update*>,\n",
       " (6, 2): <gurobi.Var *Awaiting Model Update*>,\n",
       " (6, 3): <gurobi.Var *Awaiting Model Update*>,\n",
       " (7, 0): <gurobi.Var *Awaiting Model Update*>,\n",
       " (7, 1): <gurobi.Var *Awaiting Model Update*>,\n",
       " (7, 2): <gurobi.Var *Awaiting Model Update*>,\n",
       " (7, 3): <gurobi.Var *Awaiting Model Update*>,\n",
       " (8, 0): <gurobi.Var *Awaiting Model Update*>,\n",
       " (8, 1): <gurobi.Var *Awaiting Model Update*>,\n",
       " (8, 2): <gurobi.Var *Awaiting Model Update*>,\n",
       " (8, 3): <gurobi.Var *Awaiting Model Update*>,\n",
       " (9, 0): <gurobi.Var *Awaiting Model Update*>,\n",
       " (9, 1): <gurobi.Var *Awaiting Model Update*>,\n",
       " (9, 2): <gurobi.Var *Awaiting Model Update*>,\n",
       " (9, 3): <gurobi.Var *Awaiting Model Update*>,\n",
       " (10, 0): <gurobi.Var *Awaiting Model Update*>,\n",
       " (10, 1): <gurobi.Var *Awaiting Model Update*>,\n",
       " (10, 2): <gurobi.Var *Awaiting Model Update*>,\n",
       " (10, 3): <gurobi.Var *Awaiting Model Update*>}"
      ]
     },
     "execution_count": 12,
     "metadata": {},
     "output_type": "execute_result"
    }
   ],
   "source": [
    "z"
   ]
  },
  {
   "cell_type": "code",
   "execution_count": 13,
   "metadata": {},
   "outputs": [
    {
     "name": "stdout",
     "output_type": "stream",
     "text": [
      "Gurobi Optimizer version 9.5.1 build v9.5.1rc2 (mac64[arm])\n",
      "Thread count: 8 physical cores, 8 logical processors, using up to 8 threads\n",
      "Optimize a model with 50 rows, 60 columns and 159 nonzeros\n",
      "Model fingerprint: 0xb68c33a9\n",
      "Model has 30 quadratic objective terms\n",
      "Variable types: 20 continuous, 40 integer (40 binary)\n",
      "Coefficient statistics:\n",
      "  Matrix range     [1e+00, 6e+01]\n",
      "  Objective range  [1e+00, 1e+00]\n",
      "  QObjective range [1e+00, 4e+00]\n",
      "  Bounds range     [1e+00, 1e+00]\n",
      "  RHS range        [1e+00, 2e+01]\n",
      "Found heuristic solution: objective 159.9450000\n",
      "Presolve removed 14 rows and 15 columns\n",
      "Presolve time: 0.01s\n",
      "Presolved: 66 rows, 75 columns, 222 nonzeros\n",
      "Variable types: 45 continuous, 30 integer (30 binary)\n",
      "\n",
      "Root relaxation: objective 2.719897e+01, 15 iterations, 0.00 seconds (0.00 work units)\n",
      "\n",
      "    Nodes    |    Current Node    |     Objective Bounds      |     Work\n",
      " Expl Unexpl |  Obj  Depth IntInf | Incumbent    BestBd   Gap | It/Node Time\n",
      "\n",
      "     0     0   27.19897    0    7  159.94500   27.19897  83.0%     -    0s\n",
      "H    0     0                     150.5000000   27.19897  81.9%     -    0s\n",
      "H    0     0                     149.5050000   39.24554  73.7%     -    0s\n",
      "     0     0   52.24669    0   11  149.50500   52.24669  65.1%     -    0s\n",
      "H    0     0                     146.7528132   52.24669  64.4%     -    0s\n",
      "H    0     0                     146.0000000   52.24669  64.2%     -    0s\n",
      "H    0     0                     139.0000000   52.24669  62.4%     -    0s\n",
      "H    0     0                      96.0000000   52.24669  45.6%     -    0s\n",
      "     0     0   52.36941    0   12   96.00000   52.36941  45.4%     -    0s\n",
      "     0     0   68.87888    0    9   96.00000   68.87888  28.3%     -    0s\n",
      "     0     0   69.46439    0    9   96.00000   69.46439  27.6%     -    0s\n",
      "H    0     0                      92.2900000   69.46439  24.7%     -    0s\n",
      "     0     0   82.16760    0    4   92.29000   82.16760  11.0%     -    0s\n",
      "H    0     0                      82.5000000   82.16760  0.40%     -    0s\n",
      "     0     0     cutoff    0        82.50000   82.50000  0.00%     -    0s\n",
      "\n",
      "Cutting planes:\n",
      "  Gomory: 3\n",
      "  Cover: 1\n",
      "  Implied bound: 29\n",
      "  MIR: 22\n",
      "  RLT: 1\n",
      "\n",
      "Explored 1 nodes (88 simplex iterations) in 0.07 seconds (0.00 work units)\n",
      "Thread count was 8 (of 8 available processors)\n",
      "\n",
      "Solution count 8: 82.5 92.29 96 ... 159.945\n",
      "\n",
      "Optimal solution found (tolerance 1.00e-04)\n",
      "Best objective 8.250000000000e+01, best bound 8.250000000000e+01, gap 0.0000%\n"
     ]
    }
   ],
   "source": [
    "m.optimize()"
   ]
  },
  {
   "cell_type": "code",
   "execution_count": 14,
   "metadata": {},
   "outputs": [
    {
     "data": {
      "text/plain": [
       "5"
      ]
     },
     "execution_count": 14,
     "metadata": {},
     "output_type": "execute_result"
    }
   ],
   "source": [
    "GRB.UNBOUNDED"
   ]
  },
  {
   "cell_type": "code",
   "execution_count": 15,
   "metadata": {},
   "outputs": [
    {
     "data": {
      "text/plain": [
       "2"
      ]
     },
     "execution_count": 15,
     "metadata": {},
     "output_type": "execute_result"
    }
   ],
   "source": [
    "GRB.OPTIMAL"
   ]
  },
  {
   "cell_type": "markdown",
   "metadata": {},
   "source": []
  },
  {
   "cell_type": "code",
   "execution_count": 16,
   "metadata": {},
   "outputs": [
    {
     "data": {
      "text/plain": [
       "2"
      ]
     },
     "execution_count": 16,
     "metadata": {},
     "output_type": "execute_result"
    }
   ],
   "source": [
    "m.Status"
   ]
  },
  {
   "cell_type": "code",
   "execution_count": 17,
   "metadata": {},
   "outputs": [
    {
     "name": "stdout",
     "output_type": "stream",
     "text": [
      "\n",
      "Cost: 82.5\n",
      "\n",
      "order:\n",
      "x[1] 0\n",
      "x[2] 11\n",
      "x[3] 0\n",
      "x[4] 0\n",
      "x[5] 0\n",
      "x[6] 15.5\n",
      "x[7] 20.5\n",
      "x[8] 20\n",
      "x[9] 0\n",
      "x[10] 10\n",
      "y[1] 10\n",
      "y[2] 11\n",
      "y[3] 1\n",
      "y[4] 1\n",
      "y[5] 1\n",
      "y[6] 1.5\n",
      "y[7] 2\n",
      "y[8] 2\n",
      "y[9] 2\n",
      "y[10] 2\n",
      "z[1,0] 1\n",
      "z[1,1] 0\n",
      "z[1,2] -0\n",
      "z[1,3] -0\n",
      "z[2,0] 0\n",
      "z[2,1] 0\n",
      "z[2,2] 1\n",
      "z[2,3] 0\n",
      "z[3,0] 1\n",
      "z[3,1] 0\n",
      "z[3,2] 0\n",
      "z[3,3] 0\n",
      "z[4,0] 1\n",
      "z[4,1] -0\n",
      "z[4,2] -0\n",
      "z[4,3] -0\n",
      "z[5,0] 1\n",
      "z[5,1] -0\n",
      "z[5,2] -0\n",
      "z[5,3] -0\n",
      "z[6,0] 0\n",
      "z[6,1] 0\n",
      "z[6,2] 0\n",
      "z[6,3] 1\n",
      "z[7,0] 0\n",
      "z[7,1] -0\n",
      "z[7,2] 0\n",
      "z[7,3] 1\n",
      "z[8,0] 0\n",
      "z[8,1] -0\n",
      "z[8,2] 0\n",
      "z[8,3] 1\n",
      "z[9,0] 1\n",
      "z[9,1] 0\n",
      "z[9,2] 0\n",
      "z[9,3] -0\n",
      "z[10,0] 0\n",
      "z[10,1] 0\n",
      "z[10,2] 1\n",
      "z[10,3] -0\n"
     ]
    },
    {
     "ename": "SystemExit",
     "evalue": "",
     "output_type": "error",
     "traceback": [
      "An exception has occurred, use %tb to see the full traceback.\n",
      "\u001b[0;31mSystemExit\u001b[0m\n"
     ]
    },
    {
     "name": "stderr",
     "output_type": "stream",
     "text": [
      "/Users/buxinshe/mambaforge/envs/andes/lib/python3.9/site-packages/IPython/core/interactiveshell.py:3405: UserWarning: To exit: use 'exit', 'quit', or Ctrl-D.\n",
      "  warn(\"To exit: use 'exit', 'quit', or Ctrl-D.\", stacklevel=1)\n"
     ]
    }
   ],
   "source": [
    "status=m.status\n",
    "\n",
    "if status == GRB.UNBOUNDED:\n",
    "    print('The model cannot be solved because it is unbounded')\n",
    "    sys.exit()\n",
    "if status == GRB.OPTIMAL:\n",
    "    print('\\nCost: %g' % m.ObjVal)\n",
    "    print('\\norder:')\n",
    "    for v in m.getVars():\n",
    "        print('%s %g' % (v.varName, v.x))  \n",
    "    sys.exit()\n",
    "if status !=GRB.INF_OR_UNBD and status != GRB.INFEASIBLE:\n",
    "    print('Optimization was stopped with status %d'  % status)\n",
    "    sys.exit()\n",
    "\n",
    "# do IIS\n",
    "print('The model is infeasible; computing IIS')\n",
    "m.computeIIS()\n",
    "if m.IISMinimal:\n",
    "    print('IIS is minimal\\n')\n",
    "else:\n",
    "    print('IIS is not minimal\\n')\n",
    "print('\\nThe following constraint(s) cannot be satisfied:')\n",
    "for c in m.getConstrs():\n",
    "    if c.IISConstr:\n",
    "        print('%s' % c.ConstrName)"
   ]
  },
  {
   "cell_type": "code",
   "execution_count": null,
   "metadata": {},
   "outputs": [],
   "source": []
  }
 ],
 "metadata": {
  "interpreter": {
   "hash": "9fd2f637d50f75acdaba34db232df2fd9f5c3b2d8a0fb2dac035dfd85a42e943"
  },
  "kernelspec": {
   "display_name": "Python 3.9.12 ('andes')",
   "language": "python",
   "name": "python3"
  },
  "language_info": {
   "codemirror_mode": {
    "name": "ipython",
    "version": 3
   },
   "file_extension": ".py",
   "mimetype": "text/x-python",
   "name": "python",
   "nbconvert_exporter": "python",
   "pygments_lexer": "ipython3",
   "version": "3.9.12"
  },
  "orig_nbformat": 4
 },
 "nbformat": 4,
 "nbformat_minor": 2
}
