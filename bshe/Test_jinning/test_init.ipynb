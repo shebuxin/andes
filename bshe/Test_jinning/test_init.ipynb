{
 "cells": [
  {
   "cell_type": "code",
   "execution_count": 14,
   "metadata": {},
   "outputs": [],
   "source": [
    "import andes"
   ]
  },
  {
   "cell_type": "code",
   "execution_count": 15,
   "metadata": {},
   "outputs": [],
   "source": [
    "# /Users/jinningwang/Documents/work/andes/icebar/test_vsg/ieee14_vsg.xlsx\n",
    "# /Users/jinningwang/Documents/work/andes/andes/cases/ieee14/ieee14_regcp1.xlsx\n",
    "# /Users/jinningwang/Documents/work/andes/icebar/test_vsg/ieee14_vsg.xlsx\n",
    "# /Users/jinningwang/Documents/work/andes/andes/cases/ieee14/ieee14_ac8b.xlsx\n",
    "ss = andes.load('/Users/jinningwang/Documents/work/andes/icebar/test_vsg/ieee14_vsg.xlsx',\n",
    "                # default_config=True,\n",
    "                setup=True,\n",
    "                no_output=False,\n",
    "                )"
   ]
  },
  {
   "cell_type": "code",
   "execution_count": 16,
   "metadata": {
    "scrolled": true
   },
   "outputs": [
    {
     "data": {
      "text/plain": [
       "True"
      ]
     },
     "execution_count": 16,
     "metadata": {},
     "output_type": "execute_result"
    }
   ],
   "source": [
    "ss.PFlow.run()"
   ]
  },
  {
   "cell_type": "code",
   "execution_count": 17,
   "metadata": {},
   "outputs": [
    {
     "name": "stderr",
     "output_type": "stream",
     "text": [
      "/Users/jinningwang/.andes/pycode/AC8B.py:121: RuntimeWarning: invalid value encountered in sqrt\n",
      "  return (array([[FEX_y*INT_y - vf0], [-FEX_y + select([less_equal(IN, 0),less_equal(IN, 0.433),less_equal(IN, 0.75),less_equal(IN, 1),greater(IN, 1),__trues], [__ones,1 - 0.577*IN,sqrt(0.75 - IN**2),1.732 - 1.732*IN,__zeros,__zeros], default=nan)], [-IN*INT_y + KC*XadIfd]]))\n",
      "/Users/jinningwang/.andes/pycode/AC8B.py:125: RuntimeWarning: invalid value encountered in sqrt\n",
      "  return (array([[FEX_y, INT_y, 0], [0, -1, select([less_equal(IN, 0),less_equal(IN, 0.433),less_equal(IN, 0.75),less_equal(IN, 1),__trues], [__zeros,-0.577*__ones,-IN/sqrt(0.75 - IN**2),-1.732*__ones,__zeros], default=nan)], [-IN, 0, -INT_y]]))\n"
     ]
    },
    {
     "data": {
      "text/plain": [
       "array([ 1.08045623e+00,  3.40838962e-01,  4.11893260e-01,  2.04936445e-01,\n",
       "        4.07489197e-01,  1.00000000e+00,  1.00000000e+00,  1.00000000e+00,\n",
       "        1.00000000e+00,  1.00000000e+00,  8.44196325e-01,  1.20949815e+00,\n",
       "        1.07379968e+00,  1.14920784e+00,  1.05923709e+00,  4.62686814e-01,\n",
       "        1.70398282e-01,  2.24235349e-01,  1.51152746e-01,  2.11036665e-01,\n",
       "        5.74839367e-01,  1.02214174e+00,  9.42563892e-01,  1.02117756e+00,\n",
       "        9.65572461e-01,  8.25022099e-01,  3.35846266e-01,  4.16345754e-01,\n",
       "        2.89653296e-01,  3.91756366e-01,  8.14272142e-01,  4.00000000e-01,\n",
       "        4.00000000e-01,  3.00000000e-01,  3.50000000e-01,  8.14272142e-01,\n",
       "        4.00000000e-01,  4.00000000e-01,  3.00000000e-01,  3.50000000e-01,\n",
       "        1.03000000e+00,  3.94180825e-02,  1.97090413e+00,  1.97090413e+00,\n",
       "        1.03000000e+00,  1.01000000e+00,  1.03000000e+00,  8.35997774e-02,\n",
       "        8.18935173e-02,  8.79584746e-02,  1.67199555e+00,  1.63787035e+00,\n",
       "        1.75916949e+00,  4.35845972e-01,  4.20436202e-01,  4.39718283e-01,\n",
       "        1.03000000e+00,  3.89069047e-02,  0.00000000e+00,  1.55627619e+00,\n",
       "        1.55627619e+00,  0.00000000e+00,  0.00000000e+00,  0.00000000e+00,\n",
       "        0.00000000e+00,  0.00000000e+00,  0.00000000e+00,  8.62210820e-20,\n",
       "       -3.07888354e-02, -6.17345595e-02, -7.69651166e-02, -6.70734614e-02,\n",
       "       -1.12621496e-01, -8.52626931e-02, -2.68773277e-02, -1.26464055e-01,\n",
       "       -1.29424839e-01, -1.23564069e-01, -1.30428971e-01, -1.34752637e-01,\n",
       "       -1.65476685e-01,  1.03000000e+00,  1.03000000e+00,  1.01000000e+00,\n",
       "        1.01140345e+00,  1.01725550e+00,  1.03000000e+00,  1.02247150e+00,\n",
       "        1.03000000e+00,  1.02176879e+00,  1.01554206e+00,  1.01911514e+00,\n",
       "        1.01740698e+00,  1.01445023e+00,  1.01634020e+00,  3.04361468e-01,\n",
       "        1.25971333e-01,  2.09865964e-01,  7.39639154e-02, -2.16171034e-01,\n",
       "        8.14272142e-01,  5.98571019e-01,  4.16347594e-01,  2.91635085e-01,\n",
       "        2.84511738e-01,  2.08143625e-01,  5.57438900e-01,  2.54535360e-01,\n",
       "        2.95554469e-01,  2.13077770e-01,  2.78030309e-01,  9.08637934e-01,\n",
       "        3.74026570e-01,  4.60678924e-01,  3.21614962e-01,  4.33460912e-01,\n",
       "        4.85053714e-01,  9.59689598e-01,  8.98818629e-01,  9.78500800e-01,\n",
       "        9.34350918e-01,  8.14272142e-01,  4.00000000e-01,  4.00000000e-01,\n",
       "        3.00000000e-01,  3.50000000e-01,  8.14272142e-01,  4.00000000e-01,\n",
       "        4.00000000e-01,  3.00000000e-01,  3.50000000e-01,  1.61751480e+00,\n",
       "        1.97090413e+00,  1.58531582e+00,  1.70420471e+00,  1.47137769e+00,\n",
       "        1.61751480e+00,  1.97090413e+00,  1.58531582e+00,  1.70420471e+00,\n",
       "        1.47137769e+00,  8.14272142e-01,  4.00000000e-01,  4.00000000e-01,\n",
       "        3.00000000e-01,  3.50000000e-01, -2.16171034e-01,  3.04361468e-01,\n",
       "        1.25971333e-01,  2.09865964e-01,  7.39639154e-02,  4.85053714e-01,\n",
       "        9.59689598e-01,  8.98818629e-01,  9.78500800e-01,  9.34350918e-01,\n",
       "       -9.08637934e-01, -3.74026570e-01, -4.60678924e-01, -3.21614962e-01,\n",
       "       -4.33460912e-01,  7.80426987e-01,  3.02756669e-01,  3.60190405e-01,\n",
       "        2.61953186e-01,  3.38930607e-01,  6.22725048e-01,  1.07626692e+00,\n",
       "        9.97974558e-01,  1.05816409e+00,  1.00511975e+00,  9.98425144e-01,\n",
       "        1.11803940e+00,  1.06098555e+00,  1.09010582e+00,  1.06072601e+00,\n",
       "        8.83748846e-02,  2.43237855e-01,  1.61881921e-01,  2.01842777e-01,\n",
       "        1.61541202e-01,  0.00000000e+00,  0.00000000e+00,  0.00000000e+00,\n",
       "        0.00000000e+00,  0.00000000e+00,  0.00000000e+00,  0.00000000e+00,\n",
       "        0.00000000e+00,  0.00000000e+00,  0.00000000e+00,  8.14272142e-01,\n",
       "        4.00000000e-01,  4.00000000e-01,  3.00000000e-01,  3.50000000e-01,\n",
       "        1.00000000e+00,  1.00000000e+00,  1.00000000e+00,  1.00000000e+00,\n",
       "        1.00000000e+00,  4.07136071e-02,  2.00000000e-02,  2.00000000e-02,\n",
       "        1.50000000e-02,  1.75000000e-02,  0.00000000e+00,  0.00000000e+00,\n",
       "        0.00000000e+00,  0.00000000e+00,  0.00000000e+00,  8.14272142e-01,\n",
       "        4.00000000e-01,  4.00000000e-01,  3.00000000e-01,  3.50000000e-01,\n",
       "        8.14272142e-01,  4.00000000e-01,  4.00000000e-01,  3.00000000e-01,\n",
       "        3.50000000e-01,  1.03000000e+00,  1.97090413e+00,  1.06941808e+00,\n",
       "        3.94180825e-02,  3.94180825e-02,  3.94180825e-02,  0.00000000e+00,\n",
       "        9.99900000e+03, -9.99900000e+03,  1.03000000e+00,  1.01000000e+00,\n",
       "        1.03000000e+00,  1.61751480e+00,  1.58531582e+00,  1.70420471e+00,\n",
       "       -9.99900000e+03, -9.99900000e+03, -9.99900000e+03,  4.34752642e-03,\n",
       "        4.19418727e-03,  4.38605464e-03,  9.97491477e-01,  9.97579954e-01,\n",
       "        9.97469246e-01,  3.71120742e+00,  3.77064538e+00,  3.87567398e+00,\n",
       "        3.71120742e+00,  3.77064538e+00,  3.87567398e+00,  1.61751480e+00,\n",
       "        1.58531582e+00,  1.70420471e+00,  1.61751480e+00,  1.58531582e+00,\n",
       "        1.70420471e+00,  5.44807464e-02,  5.25545253e-02,  5.49647854e-02,\n",
       "        1.11359978e+00,  1.09189352e+00,  1.11795847e+00,  8.35997774e-02,\n",
       "        8.18935173e-02,  8.79584746e-02,  8.35997774e-02,  8.18935173e-02,\n",
       "        8.79584746e-02,  8.35997774e-02,  8.18935173e-02,  8.79584746e-02,\n",
       "        8.35997774e-02,  8.18935173e-02,  8.79584746e-02,  1.03000000e+00,\n",
       "        1.47137769e+00,  9.45633051e-02,  9.45436973e-01,  0.00000000e+00,\n",
       "        0.00000000e+00,  0.00000000e+00,  1.03000000e+00,  0.00000000e+00,\n",
       "        0.00000000e+00,  0.00000000e+00,  3.89069047e-02,  3.89069047e-02,\n",
       "        0.00000000e+00,  1.55627619e+00,  0.00000000e+00,  0.00000000e+00,\n",
       "        0.00000000e+00,  1.00000000e+00,  1.00000000e+00,  1.00000000e+00])"
      ]
     },
     "execution_count": 17,
     "metadata": {},
     "output_type": "execute_result"
    }
   ],
   "source": [
    "ss.TDS.init()"
   ]
  },
  {
   "cell_type": "code",
   "execution_count": 18,
   "metadata": {},
   "outputs": [
    {
     "data": {
      "application/vnd.jupyter.widget-view+json": {
       "model_id": "a5692d47fbac457c8c493e3d6d7db8ea",
       "version_major": 2,
       "version_minor": 0
      },
      "text/plain": [
       "  0%|          | 0/100 [00:00<?, ?%/s]"
      ]
     },
     "metadata": {},
     "output_type": "display_data"
    },
    {
     "name": "stdout",
     "output_type": "stream",
     "text": [
      "<Toggler Toggler_1>: Line.Line_1 status changed to 0 at t=1.0 sec.\n",
      "<Toggler Toggler_2>: Line.Line_1 status changed to 1 at t=1.1 sec.\n"
     ]
    },
    {
     "data": {
      "text/plain": [
       "True"
      ]
     },
     "execution_count": 18,
     "metadata": {},
     "output_type": "execute_result"
    }
   ],
   "source": [
    "ss.TDS.config.tf = 50\n",
    "ss.TDS.run()"
   ]
  },
  {
   "cell_type": "code",
   "execution_count": 19,
   "metadata": {},
   "outputs": [
    {
     "data": {
      "image/png": "[encoded data removed]",
      "text/plain": [
       "<Figure size 480x320 with 1 Axes>"
      ]
     },
     "metadata": {
      "needs_background": "light"
     },
     "output_type": "display_data"
    },
    {
     "data": {
      "text/plain": [
       "(<Figure size 480x320 with 1 Axes>, <AxesSubplot:xlabel='Time [s]'>)"
      ]
     },
     "execution_count": 19,
     "metadata": {},
     "output_type": "execute_result"
    }
   ],
   "source": [
    "ss.TDS.plt.plot(ss.GENROU.v)"
   ]
  },
  {
   "cell_type": "code",
   "execution_count": 20,
   "metadata": {},
   "outputs": [
    {
     "name": "stderr",
     "output_type": "stream",
     "text": [
      "Variable <omega> contains no values, ignored.\n",
      "No variables to plot.\n"
     ]
    }
   ],
   "source": [
    "ss.TDS.plt.plot(ss.REGCV2.omega)"
   ]
  },
  {
   "cell_type": "code",
   "execution_count": 21,
   "metadata": {},
   "outputs": [
    {
     "data": {
      "image/png": "[encoded data removed]",
      "text/plain": [
       "<Figure size 480x320 with 1 Axes>"
      ]
     },
     "metadata": {
      "needs_background": "light"
     },
     "output_type": "display_data"
    },
    {
     "data": {
      "text/plain": [
       "(<Figure size 480x320 with 1 Axes>, <AxesSubplot:xlabel='Time [s]'>)"
      ]
     },
     "execution_count": 21,
     "metadata": {},
     "output_type": "execute_result"
    }
   ],
   "source": [
    "ss.TDS.plt.plot(ss.GENROU.omega)"
   ]
  },
  {
   "cell_type": "code",
   "execution_count": 22,
   "metadata": {},
   "outputs": [
    {
     "name": "stderr",
     "output_type": "stream",
     "text": [
      "Variable <Pe> contains no values, ignored.\n",
      "Variable <Qe> contains no values, ignored.\n",
      "No variables to plot.\n"
     ]
    }
   ],
   "source": [
    "ss.TDS.plt.plot([ss.REGCV2.Pe, ss.REGCV2.Qe], right=10, hline=0)"
   ]
  },
  {
   "cell_type": "code",
   "execution_count": 23,
   "metadata": {},
   "outputs": [
    {
     "name": "stderr",
     "output_type": "stream",
     "text": [
      "Variable <vd> contains no values, ignored.\n",
      "Variable <vq> contains no values, ignored.\n",
      "No variables to plot.\n"
     ]
    }
   ],
   "source": [
    "ss.TDS.plt.plot([ss.REGCV2.vd, ss.REGCV2.vq], right=10, hline=0)"
   ]
  },
  {
   "cell_type": "code",
   "execution_count": 24,
   "metadata": {},
   "outputs": [
    {
     "name": "stderr",
     "output_type": "stream",
     "text": [
      "Variable <Qe> contains no values, ignored.\n",
      "No variables to plot.\n"
     ]
    }
   ],
   "source": [
    "ss.TDS.plt.plot(ss.REGCV2.Qe)"
   ]
  },
  {
   "cell_type": "code",
   "execution_count": 25,
   "metadata": {},
   "outputs": [
    {
     "name": "stdout",
     "output_type": "stream",
     "text": [
      "\"/Users/jinningwang/Documents/work/andes/icebar/test_vsg/ieee14_ac8b_out.npz\" removed.\n",
      "\"/Users/jinningwang/Documents/work/andes/icebar/test_vsg/ieee14_ac8b_out.txt\" removed.\n",
      "\"/Users/jinningwang/Documents/work/andes/icebar/test_vsg/ieee14_vsg_eig.txt\" removed.\n",
      "\"/Users/jinningwang/Documents/work/andes/icebar/test_vsg/ieee14_ac8b_out.lst\" removed.\n"
     ]
    }
   ],
   "source": [
    "!andes misc -C"
   ]
  },
  {
   "cell_type": "code",
   "execution_count": 26,
   "metadata": {},
   "outputs": [
    {
     "data": {
      "image/png": "[encoded data removed]",
      "text/plain": [
       "<Figure size 600x400 with 1 Axes>"
      ]
     },
     "metadata": {
      "needs_background": "light"
     },
     "output_type": "display_data"
    },
    {
     "data": {
      "text/plain": [
       "(<Figure size 600x400 with 1 Axes>,\n",
       " <AxesSubplot:xlabel='Real [$s^{-1}$]', ylabel='Imaginary [$s^{-1}$]'>)"
      ]
     },
     "execution_count": 26,
     "metadata": {},
     "output_type": "execute_result"
    }
   ],
   "source": [
    "ss.EIG.run()\n",
    "ss.EIG.plot()"
   ]
  }
 ],
 "metadata": {
  "interpreter": {
   "hash": "b8c542af61804583455bb3cc02c5acff1b7eab71b36b048085e6e502c5a0f30d"
  },
  "kernelspec": {
   "display_name": "Python 3 (ipykernel)",
   "language": "python",
   "name": "python3"
  },
  "language_info": {
   "codemirror_mode": {
    "name": "ipython",
    "version": 3
   },
   "file_extension": ".py",
   "mimetype": "text/x-python",
   "name": "python",
   "nbconvert_exporter": "python",
   "pygments_lexer": "ipython3",
   "version": "3.7.10"
  }
 },
 "nbformat": 4,
 "nbformat_minor": 2
}
