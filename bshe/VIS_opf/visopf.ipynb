{
 "cells": [
  {
   "cell_type": "markdown",
   "metadata": {},
   "source": [
    "## Vistual inertia scheduling"
   ]
  },
  {
   "cell_type": "markdown",
   "metadata": {},
   "source": [
    "vittual inertia scheduling (vis) is inherited from dcopf in opf.py\n",
    "\n",
    "base class: dcopf <br>\n",
    "vis1: dcopf + Pvsg <br>\n",
    "vis2: dcopf + RoCof and fnadir + Pvsg <br>\n"
   ]
  },
  {
   "cell_type": "code",
   "execution_count": 69,
   "metadata": {},
   "outputs": [],
   "source": [
    "import andes\n",
    "import os\n",
    "\n",
    "from statistics import fmean\n",
    "from andes.interop.pandapower import to_pandapower\n",
    "from andes.interop.pandapower import make_GSF, build_group_table\n",
    "import gurobipy as gb\n",
    "import pandas as pd\n",
    "import numpy as np\n",
    "import logging\n",
    "\n",
    "logger = logging.getLogger(__name__)\n",
    "\n",
    "from opf import dcopf"
   ]
  },
  {
   "cell_type": "code",
   "execution_count": 70,
   "metadata": {},
   "outputs": [],
   "source": [
    "class vis1(dcopf):\n",
    "    \"\"\"\n",
    "    vis0: fixed vsg up and down reserve\n",
    "    \"\"\"\n",
    "\n",
    "    def __init__(self, name='dcopf', norm=None, nn=None, nn_num=64, dpe=1):\n",
    "        \"\"\"\n",
    "        Parameter\n",
    "        ---------\n",
    "        name: str\n",
    "            name \n",
    "        norm: dict\n",
    "            normalization dict for function fnaidir and ppeak \n",
    "            {\n",
    "                Mvsg: [mean, std],\n",
    "                Dvsg: [mean, std],\n",
    "                Fg: [mean, std],\n",
    "                Rg: [mean, std],\n",
    "                Minv: [mean, std],\n",
    "                Dinv: [mean, std],\n",
    "            }\n",
    "        nn: neural\n",
    "        nn_num: integer\n",
    "            number of MLP nuerols (assume single layer MLP)\n",
    "        \"\"\"\n",
    "        super().__init__(name)\n",
    "\n",
    "        self.norm = norm # TO DO ...\n",
    "        self.nn = nn # TO DO ...\n",
    "        self.nn_num = nn_num\n",
    "\n",
    "        self.fnadir = 0.01 # 0.6Hz\n",
    "        self.rocof = 0.01 # 0.6Hz/s\n",
    "        self.dpe = dpe # delta Pe\n",
    "\n",
    "\n",
    "    def from_andes(self, ssa, typeII=None):\n",
    "        \"\"\"\n",
    "        ssa: andes model\n",
    "        typeII: idx of typeII generator, vsg inverter\n",
    "            i.g. ['PV_6', 'PV_7']\n",
    "        \"\"\"      \n",
    "        super().from_andes(ssa)\n",
    "\n",
    "        # define typeII, defalt typeI: type=1\n",
    "        self.gen['type'] = 1\n",
    "        if typeII:\n",
    "            for idx in typeII:\n",
    "                row = self.gen[self.gen['idx'] == idx].index[0]\n",
    "                self.gen['type'].iloc[row] = 2\n",
    "\n",
    "        self.gen['p_pre'] = 0\n",
    "        self.gen['band'] = self.gen['pmax'] - self.gen['pmin']\n",
    "        self.gen['Sn'] /= self.mva  # normalize Sn\n",
    "        self.gen['fg'] = 1\n",
    "        self.gen['K'] = 0\n",
    "        # self.gen['M'] = 0\n",
    "        # self.gen['D'] = 0\n",
    "        # self.gen['R'] = 0.05\n",
    "        # self.gen['Mvsg'] = 0\n",
    "        # self.gen['Dvsg'] = 0\n",
    "\n",
    "        genrow = ssa.GENROU.as_df()\n",
    "        regc = ssa.REGCV2.as_df()\n",
    "        tgov = ssa.TGOV1N.as_df()\n",
    "        tgov.rename(columns={'idx':'gov', 'syn':'idx'}, inplace=True)\n",
    "        regc.rename(columns={'idx':'vsg', 'gen':'idx', 'M':'Mvsg', 'D': 'Dvsg'},  inplace=True)\n",
    "\n",
    "        # merge tgov R to genrow based on idex in tgover and syn in tgov\n",
    "        genrow = pd.merge(left=genrow, right=tgov[['idx', 'R']], on='idx', how='left')\n",
    "\n",
    "        # merge M, D, R in genrow to self.gen based on gen\n",
    "        genrow.rename(columns={'idx': 'syn', 'gen': 'idx'}, inplace=True)\n",
    "        self.gen = pd.merge(left=self.gen, right=genrow[['idx', 'M','D', 'R']], on='idx', how='left')\n",
    "\n",
    "        # merge Mvsg, Dvsg, in genrow to self.gen based on gen\n",
    "        self.gen = pd.merge(left=self.gen, right=regc[['idx', 'Mvsg', 'Dvsg']], on='idx', how='left')\n",
    "\n",
    "        self.gen.fillna(0, inplace=True)\n",
    "\n",
    "        # update dict after revising pandas dataframe\n",
    "        self.update_dict()\n",
    "\n",
    "        # TODO: buidl global index for typeI/II gen\n",
    "\n",
    "\n",
    "    def build(self):\n",
    "        # self.data_check()\n",
    "\n",
    "        # --- build gurobi model ---\n",
    "        self.update_dict()\n",
    "        self.mdl = gb.Model(self.name)\n",
    "        self.mdl = self._build_vars(self.mdl)\n",
    "        self.mdl = self._build_obj(self.mdl)\n",
    "        self.mdl = self._build_cons(self.mdl)\n",
    "        logger.info('Successfully build vis0 model.')\n",
    "\n",
    "\n",
    "\n",
    "    def _build_vars(self, mdl):\n",
    "        GEN = self.gendict.keys()\n",
    "\n",
    "        # --- uncontrollable generators limit to p0 ---\n",
    "        gencp = self.gen.copy()\n",
    "        gencp['pmax'][gencp.ctrl == 0] = gencp['p0'][gencp.ctrl == 0]\n",
    "        gencp['pmin'][gencp.ctrl == 0] = gencp['p0'][gencp.ctrl == 0]\n",
    "        # --- offline geenrators limit to 0 ---\n",
    "        gencp['pmax'][gencp.u == 0] = 0\n",
    "        gencp['pmin'][gencp.u == 0] = 0\n",
    "\n",
    "        # --- gen: pg ---\n",
    "        self.pg = mdl.addVars(GEN, name='pg', vtype=gb.GRB.CONTINUOUS, obj=0,\n",
    "                              ub=gencp.pmax.tolist(), lb=gencp.pmin.tolist())\n",
    "        # --- RegUp, RegDn --- !!! modify inverter reserve up and down in andes file, prd=0\n",
    "        self.pru = mdl.addVars(GEN, name='pru', vtype=gb.GRB.CONTINUOUS, obj=0,\n",
    "                               ub=gencp.band.tolist(), lb=[0] * gencp.shape[0])\n",
    "        self.prd = mdl.addVars(GEN, name='prd', vtype=gb.GRB.CONTINUOUS, obj=0,\n",
    "                               ub=gencp.band.tolist(), lb=[0] * gencp.shape[0])\n",
    "        \n",
    "        # --- Mvsg, Dvsg ---\n",
    "        gendict = self.gendict\n",
    "        gendict_II = dict()\n",
    "        for (new_key, new_value) in gendict.items():\n",
    "            if new_value['type'] == 2:\n",
    "                gendict_II[new_key] = new_value\n",
    "        vsg = gendict_II.keys()\n",
    "\n",
    "        self.Mvsg = mdl.addVars(vsg, name='Mvsg', vtype=gb.GRB.CONTINUOUS, obj=0,\n",
    "                               ub=[4]*len(vsg), lb=[0]*len(vsg))\n",
    "        self.Dvsg = mdl.addVars(vsg, name='Dvsg', vtype=gb.GRB.CONTINUOUS, obj=0,\n",
    "                               ub=[5]*len(vsg), lb=[0]*len(vsg))\n",
    "\n",
    "        # --- a and z for ml assisted linearization ---\n",
    "        # 'ap, zp' for vsg power; 'af, zf' for frequency nadir\n",
    "        ap = []\n",
    "        zp = []\n",
    "        for i in range(self.nn_num):\n",
    "            ap.append('ap'+str(i))\n",
    "            zp.append('zp'+str(i))\n",
    "        self.ap = mdl.addVars(ap, name='ap', vtype=gb.GRB.BINARY)\n",
    "        self.zp = mdl.addVars(zp, name='zp', vtype=gb.GRB.CONTINUOUS)\n",
    "        print('Successfully build var.')\n",
    "\n",
    "        return mdl\n",
    "\n",
    "\n",
    "    def _build_obj(self, mdl):\n",
    "        GEN = self.gendict.keys()\n",
    "        gendict = self.gendict\n",
    "        costdict = self.costdict\n",
    "\n",
    "        # --- minimize generation cost ---\n",
    "        cost_pg = sum(self.pg[gen] * costdict[gen]['c1']\n",
    "                      + self.pg[gen] * self.pg[gen] * costdict[gen]['c2']\n",
    "                      + costdict[gen]['c0'] * gendict[gen]['u']  # online status\n",
    "                      for gen in GEN)\n",
    "\n",
    "        # --- RegUp, RegDn cost ---\n",
    "        cost_ru = sum(self.pru[gen] * costdict[gen]['cru'] for gen in GEN)\n",
    "        cost_rd = sum(self.prd[gen] * costdict[gen]['crd'] for gen in GEN)\n",
    "        cost_vsg = cost_ru + cost_rd\n",
    "\n",
    "        self.obj = mdl.setObjective(expr=cost_pg + cost_vsg, sense=gb.GRB.MINIMIZE)\n",
    "        print('Successfully build obj.')\n",
    "        return mdl\n",
    "\n",
    "\n",
    "    def _build_cons(self, mdl):\n",
    "        # --- var idx ---\n",
    "        ptotal = self.load.p0.sum()\n",
    "\n",
    "        gendict = self.gendict\n",
    "        linedict = self.linedict\n",
    "        gen_gsfdict = self.gen_gsfdict\n",
    "\n",
    "        GEN = gendict.keys()\n",
    "        LINE = linedict.keys()\n",
    "\n",
    "        # --- filter Type II gen ---\n",
    "        gendict_I, gendict_II= dict(), dict()\n",
    "        for (new_key, new_value) in gendict.items():\n",
    "            if new_value['type'] == 1:\n",
    "                gendict_I[new_key] = new_value\n",
    "        for (new_key, new_value) in gendict.items():\n",
    "            if new_value['type'] == 2:\n",
    "                gendict_II[new_key] = new_value\n",
    "        GENI = gendict_I.keys()\n",
    "        GENII = gendict_II.keys()\n",
    "\n",
    "        # --- Synthetic M/D/F/R ---\n",
    "        Msys = sum(gendict[gen]['Sn'] * gendict[gen]['M'] for gen in GENI)\n",
    "        Msys += sum(gendict[gen]['Sn'] * self.Mvsg[gen] for gen in GENII)\n",
    "        Msys /= sum(gendict[gen]['Sn'] for gen in gendict.keys())\n",
    "\n",
    "        Dsys = sum(gendict[gen]['Sn'] * gendict[gen]['D'] for gen in GENI)\n",
    "        Dsys += sum(gendict[gen]['Sn'] * self.Dvsg[gen] for gen in GENII)\n",
    "        Dsys /= sum(gendict[gen]['Sn'] for gen in gendict.keys())\n",
    "\n",
    "        Rsys = sum(gendict[gen]['K'] / gendict[gen]['R'] * gendict[gen]['Sn'] for gen in GENI)\n",
    "        Rsys /= sum(gendict[gen]['Sn'] for gen in GENI)\n",
    "\n",
    "        Fsys = sum(gendict[gen]['K'] / gendict[gen]['R'] * self.pg[gen] for gen in GENI)\n",
    "        Fsys /= sum(gendict[gen]['Sn'] for gen in GENI)\n",
    "\n",
    "        # --- RoCof ----\n",
    "\n",
    "        # --- fnadir ----\n",
    "\n",
    "        # --- VSG ppeak ---\n",
    "\n",
    "        # --- 01 power balance ---\n",
    "        p_sum = sum(self.pg[gen] for gen in GEN)\n",
    "        mdl.addConstr(p_sum == ptotal, name='PowerBalance')\n",
    "\n",
    "        # --- 02 line limits ---\n",
    "        for line in LINE:\n",
    "            lhs1 = sum(self.pg[gen] * gen_gsfdict[gen][line] for gen in GEN)\n",
    "            mdl.addConstr(lhs1+linedict[line]['sup'] <= linedict[line]['rate_a'], name=f'{line}_U')\n",
    "            mdl.addConstr(lhs1+linedict[line]['sup'] >= -linedict[line]['rate_a'], name=f'{line}_D')\n",
    "\n",
    "\n",
    "        print('Successfully build cons.')\n",
    "        return mdl\n",
    "\n",
    "\n",
    "    def get_res(self):\n",
    "        \"\"\"\n",
    "        Get resutlts, can be used after mdl.optimize().\n",
    "\n",
    "        Returns\n",
    "        -------\n",
    "        DataFrame\n",
    "            The output DataFrame contains setpoints ``pg``\n",
    "\n",
    "        \"\"\"\n",
    "        self.build()\n",
    "        self.mdl.optimize()\n",
    "        # --- check if mdl is sovled ---\n",
    "        if not hasattr(self.pg[self.gen.idx[0]], 'X'):\n",
    "            logger.warning('RTED has no valid resutls!')\n",
    "            pg = [0] * self.gen.shape[0]\n",
    "            pru = [0] * self.gen.shape[0]\n",
    "            prd = [0] * self.gen.shape[0]\n",
    "        else:\n",
    "            logger.warning('Successfully solve RTED.')\n",
    "            # --- gather data --\n",
    "            pg = []\n",
    "            pru = []\n",
    "            prd = []\n",
    "            for gen in self.gendict.keys():\n",
    "                pg.append(self.pg[gen].X)\n",
    "                pru.append(self.pru[gen].X)\n",
    "                prd.append(self.prd[gen].X)\n",
    "            # --- cost ---\n",
    "            self.res_cost = self.mdl.getObjective().getValue()\n",
    "            logger.info(f'Total cost={np.round(self.res_cost, 3)}')\n",
    "        # --- build output table ---\n",
    "        dcres = pd.DataFrame()\n",
    "        dcres['gen'] = self.gen['idx']\n",
    "        dcres['pg'] = pg\n",
    "        dcres['pru'] = pru\n",
    "        dcres['prd'] = prd\n",
    "        dcres.fillna(0, inplace=True)\n",
    "        return dcres\n",
    "\n",
    "\n"
   ]
  },
  {
   "cell_type": "markdown",
   "metadata": {},
   "source": [
    "## Main (Test)"
   ]
  },
  {
   "cell_type": "markdown",
   "metadata": {},
   "source": [
    "### load case from andes excel"
   ]
  },
  {
   "cell_type": "code",
   "execution_count": 71,
   "metadata": {},
   "outputs": [
    {
     "name": "stderr",
     "output_type": "stream",
     "text": [
      "REGCV2: unused data {'KpId': 50, 'KiId': 100, 'KpIq': 50, 'KiIq': 100}\n",
      "REGCV2: unused data {'KpId': 50, 'KiId': 100, 'KpIq': 50, 'KiIq': 100}\n"
     ]
    }
   ],
   "source": [
    "# get andes case from excel\n",
    "dir_path = os.path.abspath('..')\n",
    "case_path = '/VIS_opf/ieee14_vis.xlsx'\n",
    "case = dir_path + case_path\n",
    "ssa = andes.load(case, no_output=True)"
   ]
  },
  {
   "cell_type": "markdown",
   "metadata": {},
   "source": [
    "### load norm parameter"
   ]
  },
  {
   "cell_type": "code",
   "execution_count": 72,
   "metadata": {},
   "outputs": [
    {
     "data": {
      "text/plain": [
       "{'fnorm':            M          D         Fg          Rg    fnadir\n",
       " 0  19.895678  12.197409  80.138509  126.078088 -0.012637\n",
       " 1   5.744600   4.344583  39.902459   43.025549  0.005493,\n",
       " 'pnorm':            M          D         Fg          Rg      Mvsg      Dvsg     Ppeak\n",
       " 0  19.895678  12.197409  80.138509  126.078088  0.981245  2.533602  0.067277\n",
       " 1   5.744600   4.344583  39.902459   43.025549  0.587552  0.867664  0.036406}"
      ]
     },
     "execution_count": 72,
     "metadata": {},
     "output_type": "execute_result"
    }
   ],
   "source": [
    "# prepare nn data for visopf\n",
    "data_path = dir_path + '/VIS_opf/NN_train'\n",
    "\n",
    "fnorm = pd.read_csv(data_path + '/fnorm.csv')\n",
    "pnorm = pd.read_csv(data_path + '/pnorm.csv')\n",
    "norm = {'fnorm': fnorm, 'pnorm': pnorm }\n",
    "norm\n"
   ]
  },
  {
   "cell_type": "code",
   "execution_count": 73,
   "metadata": {},
   "outputs": [
    {
     "data": {
      "text/plain": [
       "5.74459957980676"
      ]
     },
     "execution_count": 73,
     "metadata": {},
     "output_type": "execute_result"
    }
   ],
   "source": [
    "# example to call norm data\n",
    "norm['fnorm']['M'].iloc[0] # mean\n",
    "norm['fnorm']['M'].iloc[1] # std "
   ]
  },
  {
   "cell_type": "markdown",
   "metadata": {},
   "source": [
    "### load nn parameter"
   ]
  },
  {
   "cell_type": "code",
   "execution_count": 74,
   "metadata": {},
   "outputs": [],
   "source": [
    "fw1 = pd.read_csv(data_path + '/fw1.csv', header=None)\n",
    "fw2 = pd.read_csv(data_path + '/fw2.csv', header=None)\n",
    "\n",
    "fb1 = pd.read_csv(data_path + '/fb1.csv', header=None)\n",
    "fb2 = pd.read_csv(data_path + '/fb2.csv', header=None)"
   ]
  },
  {
   "cell_type": "code",
   "execution_count": 75,
   "metadata": {},
   "outputs": [],
   "source": [
    "pw1 = pd.read_csv(data_path + '/pw1.csv', header=None)\n",
    "pw2 = pd.read_csv(data_path + '/pw2.csv', header=None)\n",
    "\n",
    "pb1 = pd.read_csv(data_path + '/pb1.csv', header=None)\n",
    "pb2 = pd.read_csv(data_path + '/pb2.csv', header=None)"
   ]
  },
  {
   "cell_type": "code",
   "execution_count": 76,
   "metadata": {},
   "outputs": [],
   "source": [
    "nn = {\n",
    "        'fw1': fw1,\n",
    "        'fw2': fw2,       \n",
    "        'fb1': fb1,\n",
    "        'fb2': fb2,\n",
    "        'pw1': pw1,\n",
    "        'pw2': pw2,\n",
    "        'pb1': pb1,\n",
    "        'pb2': pb2,\n",
    "    }"
   ]
  },
  {
   "cell_type": "markdown",
   "metadata": {},
   "source": [
    "### test opf model"
   ]
  },
  {
   "cell_type": "code",
   "execution_count": 77,
   "metadata": {},
   "outputs": [
    {
     "data": {
      "text/plain": [
       "{'fnorm':            M          D         Fg          Rg    fnadir\n",
       " 0  19.895678  12.197409  80.138509  126.078088 -0.012637\n",
       " 1   5.744600   4.344583  39.902459   43.025549  0.005493,\n",
       " 'pnorm':            M          D         Fg          Rg      Mvsg      Dvsg     Ppeak\n",
       " 0  19.895678  12.197409  80.138509  126.078088  0.981245  2.533602  0.067277\n",
       " 1   5.744600   4.344583  39.902459   43.025549  0.587552  0.867664  0.036406}"
      ]
     },
     "execution_count": 77,
     "metadata": {},
     "output_type": "execute_result"
    }
   ],
   "source": [
    "ss = vis1(norm=norm, nn=nn)\n",
    "ss.norm"
   ]
  },
  {
   "cell_type": "code",
   "execution_count": 93,
   "metadata": {},
   "outputs": [
    {
     "data": {
      "text/html": [
       "<div>\n",
       "<style scoped>\n",
       "    .dataframe tbody tr th:only-of-type {\n",
       "        vertical-align: middle;\n",
       "    }\n",
       "\n",
       "    .dataframe tbody tr th {\n",
       "        vertical-align: top;\n",
       "    }\n",
       "\n",
       "    .dataframe thead th {\n",
       "        text-align: right;\n",
       "    }\n",
       "</style>\n",
       "<table border=\"1\" class=\"dataframe\">\n",
       "  <thead>\n",
       "    <tr style=\"text-align: right;\">\n",
       "      <th></th>\n",
       "      <th>0</th>\n",
       "      <th>1</th>\n",
       "      <th>2</th>\n",
       "      <th>3</th>\n",
       "    </tr>\n",
       "  </thead>\n",
       "  <tbody>\n",
       "    <tr>\n",
       "      <th>0</th>\n",
       "      <td>0.053316</td>\n",
       "      <td>-0.018950</td>\n",
       "      <td>0.103133</td>\n",
       "      <td>0.005192</td>\n",
       "    </tr>\n",
       "    <tr>\n",
       "      <th>1</th>\n",
       "      <td>0.090899</td>\n",
       "      <td>-0.021882</td>\n",
       "      <td>-0.052110</td>\n",
       "      <td>-0.066491</td>\n",
       "    </tr>\n",
       "    <tr>\n",
       "      <th>2</th>\n",
       "      <td>-0.054552</td>\n",
       "      <td>0.081501</td>\n",
       "      <td>0.133793</td>\n",
       "      <td>0.073621</td>\n",
       "    </tr>\n",
       "    <tr>\n",
       "      <th>3</th>\n",
       "      <td>0.013614</td>\n",
       "      <td>0.007082</td>\n",
       "      <td>0.004717</td>\n",
       "      <td>-0.008138</td>\n",
       "    </tr>\n",
       "    <tr>\n",
       "      <th>4</th>\n",
       "      <td>0.017724</td>\n",
       "      <td>-0.007474</td>\n",
       "      <td>0.009466</td>\n",
       "      <td>-0.007022</td>\n",
       "    </tr>\n",
       "    <tr>\n",
       "      <th>...</th>\n",
       "      <td>...</td>\n",
       "      <td>...</td>\n",
       "      <td>...</td>\n",
       "      <td>...</td>\n",
       "    </tr>\n",
       "    <tr>\n",
       "      <th>59</th>\n",
       "      <td>0.009615</td>\n",
       "      <td>-0.005689</td>\n",
       "      <td>-0.002588</td>\n",
       "      <td>-0.018844</td>\n",
       "    </tr>\n",
       "    <tr>\n",
       "      <th>60</th>\n",
       "      <td>0.064262</td>\n",
       "      <td>-0.043027</td>\n",
       "      <td>0.112759</td>\n",
       "      <td>-0.003101</td>\n",
       "    </tr>\n",
       "    <tr>\n",
       "      <th>61</th>\n",
       "      <td>-0.140001</td>\n",
       "      <td>-0.125340</td>\n",
       "      <td>-0.942938</td>\n",
       "      <td>-0.133099</td>\n",
       "    </tr>\n",
       "    <tr>\n",
       "      <th>62</th>\n",
       "      <td>0.006305</td>\n",
       "      <td>-0.006394</td>\n",
       "      <td>-0.003145</td>\n",
       "      <td>0.004949</td>\n",
       "    </tr>\n",
       "    <tr>\n",
       "      <th>63</th>\n",
       "      <td>-0.009459</td>\n",
       "      <td>-0.012815</td>\n",
       "      <td>-0.002026</td>\n",
       "      <td>0.000786</td>\n",
       "    </tr>\n",
       "  </tbody>\n",
       "</table>\n",
       "<p>64 rows × 4 columns</p>\n",
       "</div>"
      ],
      "text/plain": [
       "           0         1         2         3\n",
       "0   0.053316 -0.018950  0.103133  0.005192\n",
       "1   0.090899 -0.021882 -0.052110 -0.066491\n",
       "2  -0.054552  0.081501  0.133793  0.073621\n",
       "3   0.013614  0.007082  0.004717 -0.008138\n",
       "4   0.017724 -0.007474  0.009466 -0.007022\n",
       "..       ...       ...       ...       ...\n",
       "59  0.009615 -0.005689 -0.002588 -0.018844\n",
       "60  0.064262 -0.043027  0.112759 -0.003101\n",
       "61 -0.140001 -0.125340 -0.942938 -0.133099\n",
       "62  0.006305 -0.006394 -0.003145  0.004949\n",
       "63 -0.009459 -0.012815 -0.002026  0.000786\n",
       "\n",
       "[64 rows x 4 columns]"
      ]
     },
     "execution_count": 93,
     "metadata": {},
     "output_type": "execute_result"
    }
   ],
   "source": [
    "ss.nn['fw1']"
   ]
  },
  {
   "cell_type": "code",
   "execution_count": 95,
   "metadata": {},
   "outputs": [
    {
     "data": {
      "text/plain": [
       "-0.021882491"
      ]
     },
     "execution_count": 95,
     "metadata": {},
     "output_type": "execute_result"
    }
   ],
   "source": [
    "ss.nn['fw1'][1].iloc[1]"
   ]
  },
  {
   "cell_type": "code",
   "execution_count": 78,
   "metadata": {},
   "outputs": [],
   "source": [
    "ss.from_andes(ssa, ['PV_6', 'PV_7'])"
   ]
  },
  {
   "cell_type": "code",
   "execution_count": 79,
   "metadata": {},
   "outputs": [
    {
     "data": {
      "text/html": [
       "<div>\n",
       "<style scoped>\n",
       "    .dataframe tbody tr th:only-of-type {\n",
       "        vertical-align: middle;\n",
       "    }\n",
       "\n",
       "    .dataframe tbody tr th {\n",
       "        vertical-align: top;\n",
       "    }\n",
       "\n",
       "    .dataframe thead th {\n",
       "        text-align: right;\n",
       "    }\n",
       "</style>\n",
       "<table border=\"1\" class=\"dataframe\">\n",
       "  <thead>\n",
       "    <tr style=\"text-align: right;\">\n",
       "      <th></th>\n",
       "      <th>idx</th>\n",
       "      <th>u</th>\n",
       "      <th>name</th>\n",
       "      <th>Sn</th>\n",
       "      <th>Vn</th>\n",
       "      <th>bus</th>\n",
       "      <th>p0</th>\n",
       "      <th>pmax</th>\n",
       "      <th>pmin</th>\n",
       "      <th>v0</th>\n",
       "      <th>...</th>\n",
       "      <th>type</th>\n",
       "      <th>p_pre</th>\n",
       "      <th>band</th>\n",
       "      <th>fg</th>\n",
       "      <th>K</th>\n",
       "      <th>M</th>\n",
       "      <th>D</th>\n",
       "      <th>R</th>\n",
       "      <th>Mvsg</th>\n",
       "      <th>Dvsg</th>\n",
       "    </tr>\n",
       "  </thead>\n",
       "  <tbody>\n",
       "    <tr>\n",
       "      <th>0</th>\n",
       "      <td>PV_2</td>\n",
       "      <td>1.0</td>\n",
       "      <td>PV_2</td>\n",
       "      <td>1.0</td>\n",
       "      <td>69.0</td>\n",
       "      <td>2</td>\n",
       "      <td>0.40000</td>\n",
       "      <td>0.5</td>\n",
       "      <td>0.1</td>\n",
       "      <td>1.03</td>\n",
       "      <td>...</td>\n",
       "      <td>1</td>\n",
       "      <td>0</td>\n",
       "      <td>0.4</td>\n",
       "      <td>1</td>\n",
       "      <td>0</td>\n",
       "      <td>8.0</td>\n",
       "      <td>0.0</td>\n",
       "      <td>0.12</td>\n",
       "      <td>0.0</td>\n",
       "      <td>0.0</td>\n",
       "    </tr>\n",
       "    <tr>\n",
       "      <th>1</th>\n",
       "      <td>PV_3</td>\n",
       "      <td>1.0</td>\n",
       "      <td>PV_3</td>\n",
       "      <td>1.0</td>\n",
       "      <td>69.0</td>\n",
       "      <td>3</td>\n",
       "      <td>0.40000</td>\n",
       "      <td>0.5</td>\n",
       "      <td>0.1</td>\n",
       "      <td>1.01</td>\n",
       "      <td>...</td>\n",
       "      <td>1</td>\n",
       "      <td>0</td>\n",
       "      <td>0.4</td>\n",
       "      <td>1</td>\n",
       "      <td>0</td>\n",
       "      <td>5.0</td>\n",
       "      <td>0.0</td>\n",
       "      <td>0.12</td>\n",
       "      <td>0.0</td>\n",
       "      <td>0.0</td>\n",
       "    </tr>\n",
       "    <tr>\n",
       "      <th>2</th>\n",
       "      <td>PV_4</td>\n",
       "      <td>1.0</td>\n",
       "      <td>PV_4</td>\n",
       "      <td>1.0</td>\n",
       "      <td>138.0</td>\n",
       "      <td>6</td>\n",
       "      <td>0.30000</td>\n",
       "      <td>1.0</td>\n",
       "      <td>0.1</td>\n",
       "      <td>1.03</td>\n",
       "      <td>...</td>\n",
       "      <td>1</td>\n",
       "      <td>0</td>\n",
       "      <td>0.9</td>\n",
       "      <td>1</td>\n",
       "      <td>0</td>\n",
       "      <td>5.0</td>\n",
       "      <td>0.0</td>\n",
       "      <td>0.05</td>\n",
       "      <td>0.0</td>\n",
       "      <td>0.0</td>\n",
       "    </tr>\n",
       "    <tr>\n",
       "      <th>3</th>\n",
       "      <td>PV_5</td>\n",
       "      <td>1.0</td>\n",
       "      <td>PV_5</td>\n",
       "      <td>1.0</td>\n",
       "      <td>69.0</td>\n",
       "      <td>8</td>\n",
       "      <td>0.30000</td>\n",
       "      <td>0.5</td>\n",
       "      <td>0.1</td>\n",
       "      <td>1.03</td>\n",
       "      <td>...</td>\n",
       "      <td>1</td>\n",
       "      <td>0</td>\n",
       "      <td>0.4</td>\n",
       "      <td>1</td>\n",
       "      <td>0</td>\n",
       "      <td>10.0</td>\n",
       "      <td>0.0</td>\n",
       "      <td>0.05</td>\n",
       "      <td>0.0</td>\n",
       "      <td>0.0</td>\n",
       "    </tr>\n",
       "    <tr>\n",
       "      <th>4</th>\n",
       "      <td>PV_6</td>\n",
       "      <td>1.0</td>\n",
       "      <td>PV_6</td>\n",
       "      <td>1.0</td>\n",
       "      <td>138.0</td>\n",
       "      <td>14</td>\n",
       "      <td>0.10000</td>\n",
       "      <td>0.1</td>\n",
       "      <td>0.0</td>\n",
       "      <td>1.01</td>\n",
       "      <td>...</td>\n",
       "      <td>2</td>\n",
       "      <td>0</td>\n",
       "      <td>0.1</td>\n",
       "      <td>1</td>\n",
       "      <td>0</td>\n",
       "      <td>0.0</td>\n",
       "      <td>0.0</td>\n",
       "      <td>0.00</td>\n",
       "      <td>0.0</td>\n",
       "      <td>3.0</td>\n",
       "    </tr>\n",
       "    <tr>\n",
       "      <th>5</th>\n",
       "      <td>PV_7</td>\n",
       "      <td>1.0</td>\n",
       "      <td>PV_7</td>\n",
       "      <td>1.0</td>\n",
       "      <td>138.0</td>\n",
       "      <td>12</td>\n",
       "      <td>0.10000</td>\n",
       "      <td>0.1</td>\n",
       "      <td>0.0</td>\n",
       "      <td>1.01</td>\n",
       "      <td>...</td>\n",
       "      <td>2</td>\n",
       "      <td>0</td>\n",
       "      <td>0.1</td>\n",
       "      <td>1</td>\n",
       "      <td>0</td>\n",
       "      <td>0.0</td>\n",
       "      <td>0.0</td>\n",
       "      <td>0.00</td>\n",
       "      <td>6.0</td>\n",
       "      <td>2.0</td>\n",
       "    </tr>\n",
       "    <tr>\n",
       "      <th>6</th>\n",
       "      <td>Slack_1</td>\n",
       "      <td>1.0</td>\n",
       "      <td>Slack_1</td>\n",
       "      <td>1.0</td>\n",
       "      <td>69.0</td>\n",
       "      <td>1</td>\n",
       "      <td>0.81442</td>\n",
       "      <td>3.0</td>\n",
       "      <td>0.5</td>\n",
       "      <td>1.03</td>\n",
       "      <td>...</td>\n",
       "      <td>1</td>\n",
       "      <td>0</td>\n",
       "      <td>2.5</td>\n",
       "      <td>1</td>\n",
       "      <td>0</td>\n",
       "      <td>8.0</td>\n",
       "      <td>0.0</td>\n",
       "      <td>0.12</td>\n",
       "      <td>0.0</td>\n",
       "      <td>0.0</td>\n",
       "    </tr>\n",
       "  </tbody>\n",
       "</table>\n",
       "<p>7 rows × 24 columns</p>\n",
       "</div>"
      ],
      "text/plain": [
       "       idx    u     name   Sn     Vn  bus       p0  pmax  pmin    v0  ...  \\\n",
       "0     PV_2  1.0     PV_2  1.0   69.0    2  0.40000   0.5   0.1  1.03  ...   \n",
       "1     PV_3  1.0     PV_3  1.0   69.0    3  0.40000   0.5   0.1  1.01  ...   \n",
       "2     PV_4  1.0     PV_4  1.0  138.0    6  0.30000   1.0   0.1  1.03  ...   \n",
       "3     PV_5  1.0     PV_5  1.0   69.0    8  0.30000   0.5   0.1  1.03  ...   \n",
       "4     PV_6  1.0     PV_6  1.0  138.0   14  0.10000   0.1   0.0  1.01  ...   \n",
       "5     PV_7  1.0     PV_7  1.0  138.0   12  0.10000   0.1   0.0  1.01  ...   \n",
       "6  Slack_1  1.0  Slack_1  1.0   69.0    1  0.81442   3.0   0.5  1.03  ...   \n",
       "\n",
       "   type  p_pre  band  fg  K     M    D     R  Mvsg  Dvsg  \n",
       "0     1      0   0.4   1  0   8.0  0.0  0.12   0.0   0.0  \n",
       "1     1      0   0.4   1  0   5.0  0.0  0.12   0.0   0.0  \n",
       "2     1      0   0.9   1  0   5.0  0.0  0.05   0.0   0.0  \n",
       "3     1      0   0.4   1  0  10.0  0.0  0.05   0.0   0.0  \n",
       "4     2      0   0.1   1  0   0.0  0.0  0.00   0.0   3.0  \n",
       "5     2      0   0.1   1  0   0.0  0.0  0.00   6.0   2.0  \n",
       "6     1      0   2.5   1  0   8.0  0.0  0.12   0.0   0.0  \n",
       "\n",
       "[7 rows x 24 columns]"
      ]
     },
     "execution_count": 79,
     "metadata": {},
     "output_type": "execute_result"
    }
   ],
   "source": [
    "ss.gen"
   ]
  },
  {
   "cell_type": "code",
   "execution_count": 80,
   "metadata": {},
   "outputs": [],
   "source": [
    "# ss.gendict"
   ]
  },
  {
   "cell_type": "code",
   "execution_count": 81,
   "metadata": {},
   "outputs": [
    {
     "data": {
      "text/plain": [
       "{'fnorm':            M          D         Fg          Rg    fnadir\n",
       " 0  19.895678  12.197409  80.138509  126.078088 -0.012637\n",
       " 1   5.744600   4.344583  39.902459   43.025549  0.005493,\n",
       " 'pnorm':            M          D         Fg          Rg      Mvsg      Dvsg     Ppeak\n",
       " 0  19.895678  12.197409  80.138509  126.078088  0.981245  2.533602  0.067277\n",
       " 1   5.744600   4.344583  39.902459   43.025549  0.587552  0.867664  0.036406}"
      ]
     },
     "execution_count": 81,
     "metadata": {},
     "output_type": "execute_result"
    }
   ],
   "source": [
    "ss.norm"
   ]
  },
  {
   "cell_type": "code",
   "execution_count": 82,
   "metadata": {},
   "outputs": [],
   "source": [
    "a_test = []\n",
    "for i in range(64):\n",
    "    a_test.append('a'+str(i))\n",
    "# a_test"
   ]
  },
  {
   "cell_type": "code",
   "execution_count": 83,
   "metadata": {},
   "outputs": [],
   "source": [
    "# ss.Mvsg"
   ]
  },
  {
   "cell_type": "code",
   "execution_count": null,
   "metadata": {},
   "outputs": [],
   "source": []
  },
  {
   "cell_type": "code",
   "execution_count": 84,
   "metadata": {},
   "outputs": [],
   "source": [
    "# ss.pru"
   ]
  },
  {
   "cell_type": "code",
   "execution_count": 85,
   "metadata": {},
   "outputs": [
    {
     "data": {
      "text/plain": [
       "{'PV_2': {'c2': 0, 'c1': 1, 'c0': 0, 'cr': 0, 'cru': 0, 'crd': 0},\n",
       " 'PV_3': {'c2': 0, 'c1': 1, 'c0': 0, 'cr': 0, 'cru': 0, 'crd': 0},\n",
       " 'PV_4': {'c2': 0, 'c1': 1, 'c0': 0, 'cr': 0, 'cru': 0, 'crd': 0},\n",
       " 'PV_5': {'c2': 0, 'c1': 1, 'c0': 0, 'cr': 0, 'cru': 0, 'crd': 0},\n",
       " 'PV_6': {'c2': 0, 'c1': 1, 'c0': 0, 'cr': 0, 'cru': 0, 'crd': 0},\n",
       " 'PV_7': {'c2': 0, 'c1': 1, 'c0': 0, 'cr': 0, 'cru': 0, 'crd': 0},\n",
       " 'Slack_1': {'c2': 0, 'c1': 1, 'c0': 0, 'cr': 0, 'cru': 0, 'crd': 0}}"
      ]
     },
     "execution_count": 85,
     "metadata": {},
     "output_type": "execute_result"
    }
   ],
   "source": [
    "ss.costdict"
   ]
  },
  {
   "cell_type": "code",
   "execution_count": 86,
   "metadata": {},
   "outputs": [
    {
     "data": {
      "text/plain": [
       "dict_keys(['PV_2', 'PV_3', 'PV_4', 'PV_5', 'PV_6', 'PV_7', 'Slack_1'])"
      ]
     },
     "execution_count": 86,
     "metadata": {},
     "output_type": "execute_result"
    }
   ],
   "source": [
    "ss.gendict.keys()"
   ]
  },
  {
   "cell_type": "code",
   "execution_count": 87,
   "metadata": {},
   "outputs": [
    {
     "name": "stdout",
     "output_type": "stream",
     "text": [
      "Successfully build var.\n",
      "Successfully build obj.\n",
      "Successfully build cons.\n"
     ]
    }
   ],
   "source": [
    "ss.build()\n",
    "\n",
    "# ss.mdl.optimize()"
   ]
  },
  {
   "cell_type": "code",
   "execution_count": 88,
   "metadata": {},
   "outputs": [
    {
     "name": "stdout",
     "output_type": "stream",
     "text": [
      "Minimize\n",
      "  <gurobi.LinExpr: 0.0>\n",
      "Subject To\n"
     ]
    }
   ],
   "source": [
    "ss.mdl.display()"
   ]
  },
  {
   "cell_type": "code",
   "execution_count": 89,
   "metadata": {},
   "outputs": [
    {
     "name": "stdout",
     "output_type": "stream",
     "text": [
      "Successfully build var.\n",
      "Successfully build obj.\n",
      "Successfully build cons.\n",
      "Gurobi Optimizer version 9.5.1 build v9.5.1rc2 (mac64[arm])\n",
      "Thread count: 8 physical cores, 8 logical processors, using up to 8 threads\n",
      "Optimize a model with 33 rows, 153 columns and 167 nonzeros\n",
      "Model fingerprint: 0xf292f6d9\n",
      "Variable types: 89 continuous, 64 integer (64 binary)\n",
      "Coefficient statistics:\n",
      "  Matrix range     [4e-04, 1e+00]\n",
      "  Objective range  [1e+00, 1e+00]\n",
      "  Bounds range     [1e-01, 5e+00]\n",
      "  RHS range        [1e-01, 4e+00]\n",
      "Found heuristic solution: objective 2.2870000\n",
      "Presolve removed 33 rows and 153 columns\n",
      "Presolve time: 0.00s\n",
      "Presolve: All rows and columns removed\n",
      "\n",
      "Explored 0 nodes (0 simplex iterations) in 0.01 seconds (0.00 work units)\n",
      "Thread count was 1 (of 8 available processors)\n",
      "\n",
      "Solution count 2: 2.287 2.287 \n",
      "\n",
      "Optimal solution found (tolerance 1.00e-04)\n",
      "Best objective 2.287000000000e+00, best bound 2.287000000000e+00, gap 0.0000%\n"
     ]
    },
    {
     "name": "stderr",
     "output_type": "stream",
     "text": [
      "Successfully solve RTED.\n"
     ]
    },
    {
     "data": {
      "text/html": [
       "<div>\n",
       "<style scoped>\n",
       "    .dataframe tbody tr th:only-of-type {\n",
       "        vertical-align: middle;\n",
       "    }\n",
       "\n",
       "    .dataframe tbody tr th {\n",
       "        vertical-align: top;\n",
       "    }\n",
       "\n",
       "    .dataframe thead th {\n",
       "        text-align: right;\n",
       "    }\n",
       "</style>\n",
       "<table border=\"1\" class=\"dataframe\">\n",
       "  <thead>\n",
       "    <tr style=\"text-align: right;\">\n",
       "      <th></th>\n",
       "      <th>gen</th>\n",
       "      <th>pg</th>\n",
       "      <th>pru</th>\n",
       "      <th>prd</th>\n",
       "    </tr>\n",
       "  </thead>\n",
       "  <tbody>\n",
       "    <tr>\n",
       "      <th>0</th>\n",
       "      <td>PV_2</td>\n",
       "      <td>0.100</td>\n",
       "      <td>0.0</td>\n",
       "      <td>0.0</td>\n",
       "    </tr>\n",
       "    <tr>\n",
       "      <th>1</th>\n",
       "      <td>PV_3</td>\n",
       "      <td>0.100</td>\n",
       "      <td>0.0</td>\n",
       "      <td>0.0</td>\n",
       "    </tr>\n",
       "    <tr>\n",
       "      <th>2</th>\n",
       "      <td>PV_4</td>\n",
       "      <td>0.100</td>\n",
       "      <td>0.0</td>\n",
       "      <td>0.0</td>\n",
       "    </tr>\n",
       "    <tr>\n",
       "      <th>3</th>\n",
       "      <td>PV_5</td>\n",
       "      <td>0.100</td>\n",
       "      <td>0.0</td>\n",
       "      <td>0.0</td>\n",
       "    </tr>\n",
       "    <tr>\n",
       "      <th>4</th>\n",
       "      <td>PV_6</td>\n",
       "      <td>0.000</td>\n",
       "      <td>0.0</td>\n",
       "      <td>0.0</td>\n",
       "    </tr>\n",
       "    <tr>\n",
       "      <th>5</th>\n",
       "      <td>PV_7</td>\n",
       "      <td>0.000</td>\n",
       "      <td>0.0</td>\n",
       "      <td>0.0</td>\n",
       "    </tr>\n",
       "    <tr>\n",
       "      <th>6</th>\n",
       "      <td>Slack_1</td>\n",
       "      <td>1.887</td>\n",
       "      <td>0.0</td>\n",
       "      <td>0.0</td>\n",
       "    </tr>\n",
       "  </tbody>\n",
       "</table>\n",
       "</div>"
      ],
      "text/plain": [
       "       gen     pg  pru  prd\n",
       "0     PV_2  0.100  0.0  0.0\n",
       "1     PV_3  0.100  0.0  0.0\n",
       "2     PV_4  0.100  0.0  0.0\n",
       "3     PV_5  0.100  0.0  0.0\n",
       "4     PV_6  0.000  0.0  0.0\n",
       "5     PV_7  0.000  0.0  0.0\n",
       "6  Slack_1  1.887  0.0  0.0"
      ]
     },
     "execution_count": 89,
     "metadata": {},
     "output_type": "execute_result"
    }
   ],
   "source": [
    "ss.get_res()"
   ]
  },
  {
   "cell_type": "code",
   "execution_count": 90,
   "metadata": {},
   "outputs": [
    {
     "data": {
      "text/plain": [
       "2.287"
      ]
     },
     "execution_count": 90,
     "metadata": {},
     "output_type": "execute_result"
    }
   ],
   "source": [
    "ss.load.p0.sum()"
   ]
  },
  {
   "cell_type": "code",
   "execution_count": null,
   "metadata": {},
   "outputs": [],
   "source": []
  }
 ],
 "metadata": {
  "interpreter": {
   "hash": "9fd2f637d50f75acdaba34db232df2fd9f5c3b2d8a0fb2dac035dfd85a42e943"
  },
  "kernelspec": {
   "display_name": "Python 3.9.12 ('andes')",
   "language": "python",
   "name": "python3"
  },
  "language_info": {
   "codemirror_mode": {
    "name": "ipython",
    "version": 3
   },
   "file_extension": ".py",
   "mimetype": "text/x-python",
   "name": "python",
   "nbconvert_exporter": "python",
   "pygments_lexer": "ipython3",
   "version": "3.9.12"
  },
  "orig_nbformat": 4
 },
 "nbformat": 4,
 "nbformat_minor": 2
}
