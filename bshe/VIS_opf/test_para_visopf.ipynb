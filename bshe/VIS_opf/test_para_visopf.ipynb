{
 "cells": [
  {
   "cell_type": "markdown",
   "metadata": {},
   "source": [
    "## Vistual inertia scheduling"
   ]
  },
  {
   "cell_type": "code",
   "execution_count": 1,
   "metadata": {},
   "outputs": [],
   "source": [
    "import andes\n",
    "import os\n",
    "\n",
    "from statistics import fmean\n",
    "from andes.interop.pandapower import to_pandapower\n",
    "from andes.interop.pandapower import make_GSF, build_group_table\n",
    "import gurobipy as gb\n",
    "import pandas as pd\n",
    "import numpy as np\n",
    "import logging\n",
    "\n",
    "logger = logging.getLogger(__name__)\n",
    "\n",
    "# from opf import dcopf\n",
    "from visopf import vis1"
   ]
  },
  {
   "cell_type": "markdown",
   "metadata": {},
   "source": [
    "## Main - IEEE 39\n"
   ]
  },
  {
   "cell_type": "markdown",
   "metadata": {},
   "source": [
    "### load case from andes excel"
   ]
  },
  {
   "cell_type": "code",
   "execution_count": 2,
   "metadata": {},
   "outputs": [
    {
     "data": {
      "text/plain": [
       "100"
      ]
     },
     "execution_count": 2,
     "metadata": {},
     "output_type": "execute_result"
    }
   ],
   "source": [
    "# get andes case from excel\n",
    "dir_path = os.path.abspath('..')\n",
    "case_path = '/VIS_opf/ieee39_vis.xlsx'\n",
    "case = dir_path + case_path\n",
    "ssa = andes.load(case, no_output=True)\n",
    "# ssa.config.mva = 1000\n",
    "\n",
    "ssa.config.mva"
   ]
  },
  {
   "cell_type": "markdown",
   "metadata": {},
   "source": [
    "### load norm parameter"
   ]
  },
  {
   "cell_type": "code",
   "execution_count": 3,
   "metadata": {},
   "outputs": [
    {
     "data": {
      "text/plain": [
       "{'fnorm':            M         D         Fg          Rg    fnadir\n",
       " 0  14.988180  7.492874  80.045126  124.959573 -0.013860\n",
       " 1   2.891501  1.438628  40.350784   43.546600  0.006387,\n",
       " 'pnorm':            M         D         Fg          Rg      Mvsg      Dvsg     Ppeak\n",
       " 0  14.988180  7.492874  80.045126  124.959573  4.018493  2.004602  0.143188\n",
       " 1   2.891501  1.438628  40.350784   43.546600  2.317657  1.151364  0.086313}"
      ]
     },
     "execution_count": 3,
     "metadata": {},
     "output_type": "execute_result"
    }
   ],
   "source": [
    "# prepare nn data for visopf\n",
    "data_path = dir_path + '/VIS_opf/NN_train'\n",
    "\n",
    "fnorm = pd.read_csv(data_path + '/fnorm.csv')\n",
    "pnorm = pd.read_csv(data_path + '/pnorm.csv')\n",
    "norm = {'fnorm': fnorm, 'pnorm': pnorm }\n",
    "norm\n"
   ]
  },
  {
   "cell_type": "code",
   "execution_count": 4,
   "metadata": {},
   "outputs": [
    {
     "data": {
      "text/plain": [
       "2.891501173118185"
      ]
     },
     "execution_count": 4,
     "metadata": {},
     "output_type": "execute_result"
    }
   ],
   "source": [
    "# example to call norm data\n",
    "norm['fnorm']['M'].iloc[0] # mean\n",
    "norm['fnorm']['M'].iloc[1] # std "
   ]
  },
  {
   "cell_type": "markdown",
   "metadata": {},
   "source": [
    "### load nn parameter"
   ]
  },
  {
   "cell_type": "code",
   "execution_count": 5,
   "metadata": {},
   "outputs": [],
   "source": [
    "fw1 = pd.read_csv(data_path + '/fw1.csv', header=None)\n",
    "fw2 = pd.read_csv(data_path + '/fw2.csv', header=None)\n",
    "\n",
    "fb1 = pd.read_csv(data_path + '/fb1.csv', header=None)\n",
    "fb2 = pd.read_csv(data_path + '/fb2.csv', header=None)"
   ]
  },
  {
   "cell_type": "code",
   "execution_count": 6,
   "metadata": {},
   "outputs": [],
   "source": [
    "pw1 = pd.read_csv(data_path + '/pw1.csv', header=None)\n",
    "pw2 = pd.read_csv(data_path + '/pw2.csv', header=None)\n",
    "\n",
    "pb1 = pd.read_csv(data_path + '/pb1.csv', header=None)\n",
    "pb2 = pd.read_csv(data_path + '/pb2.csv', header=None)"
   ]
  },
  {
   "cell_type": "code",
   "execution_count": 7,
   "metadata": {},
   "outputs": [],
   "source": [
    "nn = {\n",
    "        'fw1': fw1,\n",
    "        'fw2': fw2,       \n",
    "        'fb1': fb1,\n",
    "        'fb2': fb2,\n",
    "        'pw1': pw1,\n",
    "        'pw2': pw2,\n",
    "        'pb1': pb1,\n",
    "        'pb2': pb2,\n",
    "    }"
   ]
  },
  {
   "cell_type": "markdown",
   "metadata": {},
   "source": [
    "### test opf model"
   ]
  },
  {
   "cell_type": "code",
   "execution_count": 8,
   "metadata": {},
   "outputs": [
    {
     "name": "stdout",
     "output_type": "stream",
     "text": [
      "Restricted license - for non-production use only - expires 2023-10-25\n"
     ]
    },
    {
     "data": {
      "text/plain": [
       "{'fnorm':            M         D         Fg          Rg    fnadir\n",
       " 0  14.988180  7.492874  80.045126  124.959573 -0.013860\n",
       " 1   2.891501  1.438628  40.350784   43.546600  0.006387,\n",
       " 'pnorm':            M         D         Fg          Rg      Mvsg      Dvsg     Ppeak\n",
       " 0  14.988180  7.492874  80.045126  124.959573  4.018493  2.004602  0.143188\n",
       " 1   2.891501  1.438628  40.350784   43.546600  2.317657  1.151364  0.086313}"
      ]
     },
     "execution_count": 8,
     "metadata": {},
     "output_type": "execute_result"
    }
   ],
   "source": [
    "ss = vis1(norm=norm, nn=nn, dpe=0.05)\n",
    "ss.norm"
   ]
  },
  {
   "cell_type": "code",
   "execution_count": 9,
   "metadata": {},
   "outputs": [
    {
     "data": {
      "text/plain": [
       "14.988179599999995"
      ]
     },
     "execution_count": 9,
     "metadata": {},
     "output_type": "execute_result"
    }
   ],
   "source": [
    "ss.norm['fnorm']['M'].iloc[0]"
   ]
  },
  {
   "cell_type": "code",
   "execution_count": 10,
   "metadata": {},
   "outputs": [
    {
     "data": {
      "text/html": [
       "<div>\n",
       "<style scoped>\n",
       "    .dataframe tbody tr th:only-of-type {\n",
       "        vertical-align: middle;\n",
       "    }\n",
       "\n",
       "    .dataframe tbody tr th {\n",
       "        vertical-align: top;\n",
       "    }\n",
       "\n",
       "    .dataframe thead th {\n",
       "        text-align: right;\n",
       "    }\n",
       "</style>\n",
       "<table border=\"1\" class=\"dataframe\">\n",
       "  <thead>\n",
       "    <tr style=\"text-align: right;\">\n",
       "      <th></th>\n",
       "      <th>0</th>\n",
       "      <th>1</th>\n",
       "      <th>2</th>\n",
       "      <th>3</th>\n",
       "    </tr>\n",
       "  </thead>\n",
       "  <tbody>\n",
       "    <tr>\n",
       "      <th>0</th>\n",
       "      <td>0.007024</td>\n",
       "      <td>-0.009032</td>\n",
       "      <td>-0.003725</td>\n",
       "      <td>0.000279</td>\n",
       "    </tr>\n",
       "    <tr>\n",
       "      <th>1</th>\n",
       "      <td>0.011937</td>\n",
       "      <td>-0.004678</td>\n",
       "      <td>0.104979</td>\n",
       "      <td>0.009249</td>\n",
       "    </tr>\n",
       "    <tr>\n",
       "      <th>2</th>\n",
       "      <td>-0.021316</td>\n",
       "      <td>0.001189</td>\n",
       "      <td>-0.056554</td>\n",
       "      <td>-0.015670</td>\n",
       "    </tr>\n",
       "    <tr>\n",
       "      <th>3</th>\n",
       "      <td>-0.012752</td>\n",
       "      <td>-0.000368</td>\n",
       "      <td>-0.006217</td>\n",
       "      <td>0.004011</td>\n",
       "    </tr>\n",
       "    <tr>\n",
       "      <th>4</th>\n",
       "      <td>-0.015508</td>\n",
       "      <td>0.020023</td>\n",
       "      <td>-0.125958</td>\n",
       "      <td>-0.015702</td>\n",
       "    </tr>\n",
       "    <tr>\n",
       "      <th>...</th>\n",
       "      <td>...</td>\n",
       "      <td>...</td>\n",
       "      <td>...</td>\n",
       "      <td>...</td>\n",
       "    </tr>\n",
       "    <tr>\n",
       "      <th>59</th>\n",
       "      <td>-0.002516</td>\n",
       "      <td>0.007691</td>\n",
       "      <td>0.011266</td>\n",
       "      <td>0.005049</td>\n",
       "    </tr>\n",
       "    <tr>\n",
       "      <th>60</th>\n",
       "      <td>-0.036352</td>\n",
       "      <td>0.001531</td>\n",
       "      <td>-0.069906</td>\n",
       "      <td>-0.031887</td>\n",
       "    </tr>\n",
       "    <tr>\n",
       "      <th>61</th>\n",
       "      <td>-0.023868</td>\n",
       "      <td>0.009889</td>\n",
       "      <td>-0.104516</td>\n",
       "      <td>-0.015767</td>\n",
       "    </tr>\n",
       "    <tr>\n",
       "      <th>62</th>\n",
       "      <td>-0.006000</td>\n",
       "      <td>0.003099</td>\n",
       "      <td>-0.005233</td>\n",
       "      <td>-0.009474</td>\n",
       "    </tr>\n",
       "    <tr>\n",
       "      <th>63</th>\n",
       "      <td>0.019505</td>\n",
       "      <td>-0.018935</td>\n",
       "      <td>-0.066390</td>\n",
       "      <td>-0.030211</td>\n",
       "    </tr>\n",
       "  </tbody>\n",
       "</table>\n",
       "<p>64 rows × 4 columns</p>\n",
       "</div>"
      ],
      "text/plain": [
       "           0         1         2         3\n",
       "0   0.007024 -0.009032 -0.003725  0.000279\n",
       "1   0.011937 -0.004678  0.104979  0.009249\n",
       "2  -0.021316  0.001189 -0.056554 -0.015670\n",
       "3  -0.012752 -0.000368 -0.006217  0.004011\n",
       "4  -0.015508  0.020023 -0.125958 -0.015702\n",
       "..       ...       ...       ...       ...\n",
       "59 -0.002516  0.007691  0.011266  0.005049\n",
       "60 -0.036352  0.001531 -0.069906 -0.031887\n",
       "61 -0.023868  0.009889 -0.104516 -0.015767\n",
       "62 -0.006000  0.003099 -0.005233 -0.009474\n",
       "63  0.019505 -0.018935 -0.066390 -0.030211\n",
       "\n",
       "[64 rows x 4 columns]"
      ]
     },
     "execution_count": 10,
     "metadata": {},
     "output_type": "execute_result"
    }
   ],
   "source": [
    "ss.nn['fw1']"
   ]
  },
  {
   "cell_type": "code",
   "execution_count": 11,
   "metadata": {},
   "outputs": [
    {
     "data": {
      "text/plain": [
       "-0.004678414"
      ]
     },
     "execution_count": 11,
     "metadata": {},
     "output_type": "execute_result"
    }
   ],
   "source": [
    "ss.nn['fw1'][1].iloc[1]\n",
    "# ss.nn['fb1']"
   ]
  },
  {
   "cell_type": "code",
   "execution_count": 12,
   "metadata": {},
   "outputs": [
    {
     "data": {
      "text/html": [
       "<div>\n",
       "<style scoped>\n",
       "    .dataframe tbody tr th:only-of-type {\n",
       "        vertical-align: middle;\n",
       "    }\n",
       "\n",
       "    .dataframe tbody tr th {\n",
       "        vertical-align: top;\n",
       "    }\n",
       "\n",
       "    .dataframe thead th {\n",
       "        text-align: right;\n",
       "    }\n",
       "</style>\n",
       "<table border=\"1\" class=\"dataframe\">\n",
       "  <thead>\n",
       "    <tr style=\"text-align: right;\">\n",
       "      <th></th>\n",
       "      <th>idx</th>\n",
       "      <th>u</th>\n",
       "      <th>name</th>\n",
       "      <th>Sn</th>\n",
       "      <th>Vn</th>\n",
       "      <th>bus</th>\n",
       "      <th>p0</th>\n",
       "      <th>pmax</th>\n",
       "      <th>pmin</th>\n",
       "      <th>v0</th>\n",
       "      <th>...</th>\n",
       "      <th>ramp30</th>\n",
       "      <th>type</th>\n",
       "      <th>p_pre</th>\n",
       "      <th>band</th>\n",
       "      <th>K</th>\n",
       "      <th>M</th>\n",
       "      <th>D</th>\n",
       "      <th>R</th>\n",
       "      <th>Mvsg</th>\n",
       "      <th>Dvsg</th>\n",
       "    </tr>\n",
       "  </thead>\n",
       "  <tbody>\n",
       "    <tr>\n",
       "      <th>0</th>\n",
       "      <td>PV_1</td>\n",
       "      <td>1.0</td>\n",
       "      <td>PV_1</td>\n",
       "      <td>10.400</td>\n",
       "      <td>34.5</td>\n",
       "      <td>30</td>\n",
       "      <td>4.360864</td>\n",
       "      <td>15.0</td>\n",
       "      <td>2.0</td>\n",
       "      <td>1.035534</td>\n",
       "      <td>...</td>\n",
       "      <td>600</td>\n",
       "      <td>2</td>\n",
       "      <td>0</td>\n",
       "      <td>13.0</td>\n",
       "      <td>1</td>\n",
       "      <td>0.00000</td>\n",
       "      <td>0.000</td>\n",
       "      <td>0.000000</td>\n",
       "      <td>104.000</td>\n",
       "      <td>52.000</td>\n",
       "    </tr>\n",
       "    <tr>\n",
       "      <th>1</th>\n",
       "      <td>PV_2</td>\n",
       "      <td>1.0</td>\n",
       "      <td>PV_2</td>\n",
       "      <td>8.360</td>\n",
       "      <td>34.5</td>\n",
       "      <td>31</td>\n",
       "      <td>6.460000</td>\n",
       "      <td>9.0</td>\n",
       "      <td>1.5</td>\n",
       "      <td>1.013246</td>\n",
       "      <td>...</td>\n",
       "      <td>600</td>\n",
       "      <td>1</td>\n",
       "      <td>0</td>\n",
       "      <td>7.5</td>\n",
       "      <td>1</td>\n",
       "      <td>67.38160</td>\n",
       "      <td>8.360</td>\n",
       "      <td>0.005981</td>\n",
       "      <td>0.000</td>\n",
       "      <td>0.000</td>\n",
       "    </tr>\n",
       "    <tr>\n",
       "      <th>2</th>\n",
       "      <td>PV_3</td>\n",
       "      <td>1.0</td>\n",
       "      <td>PV_3</td>\n",
       "      <td>8.437</td>\n",
       "      <td>21.0</td>\n",
       "      <td>32</td>\n",
       "      <td>7.250000</td>\n",
       "      <td>8.0</td>\n",
       "      <td>1.0</td>\n",
       "      <td>1.020528</td>\n",
       "      <td>...</td>\n",
       "      <td>600</td>\n",
       "      <td>1</td>\n",
       "      <td>0</td>\n",
       "      <td>7.0</td>\n",
       "      <td>1</td>\n",
       "      <td>60.40892</td>\n",
       "      <td>8.437</td>\n",
       "      <td>0.005926</td>\n",
       "      <td>0.000</td>\n",
       "      <td>0.000</td>\n",
       "    </tr>\n",
       "    <tr>\n",
       "      <th>3</th>\n",
       "      <td>PV_4</td>\n",
       "      <td>1.0</td>\n",
       "      <td>PV_4</td>\n",
       "      <td>11.748</td>\n",
       "      <td>21.0</td>\n",
       "      <td>33</td>\n",
       "      <td>6.520000</td>\n",
       "      <td>7.0</td>\n",
       "      <td>1.0</td>\n",
       "      <td>1.013430</td>\n",
       "      <td>...</td>\n",
       "      <td>600</td>\n",
       "      <td>1</td>\n",
       "      <td>0</td>\n",
       "      <td>6.0</td>\n",
       "      <td>1</td>\n",
       "      <td>102.44256</td>\n",
       "      <td>11.748</td>\n",
       "      <td>0.004256</td>\n",
       "      <td>0.000</td>\n",
       "      <td>0.000</td>\n",
       "    </tr>\n",
       "    <tr>\n",
       "      <th>4</th>\n",
       "      <td>PV_5</td>\n",
       "      <td>1.0</td>\n",
       "      <td>PV_5</td>\n",
       "      <td>10.802</td>\n",
       "      <td>15.5</td>\n",
       "      <td>34</td>\n",
       "      <td>5.200000</td>\n",
       "      <td>7.0</td>\n",
       "      <td>1.0</td>\n",
       "      <td>1.019109</td>\n",
       "      <td>...</td>\n",
       "      <td>600</td>\n",
       "      <td>1</td>\n",
       "      <td>0</td>\n",
       "      <td>6.0</td>\n",
       "      <td>1</td>\n",
       "      <td>56.17040</td>\n",
       "      <td>10.802</td>\n",
       "      <td>0.004629</td>\n",
       "      <td>0.000</td>\n",
       "      <td>0.000</td>\n",
       "    </tr>\n",
       "    <tr>\n",
       "      <th>5</th>\n",
       "      <td>PV_6</td>\n",
       "      <td>1.0</td>\n",
       "      <td>PV_6</td>\n",
       "      <td>10.857</td>\n",
       "      <td>15.5</td>\n",
       "      <td>35</td>\n",
       "      <td>6.900000</td>\n",
       "      <td>8.0</td>\n",
       "      <td>1.0</td>\n",
       "      <td>1.060000</td>\n",
       "      <td>...</td>\n",
       "      <td>600</td>\n",
       "      <td>2</td>\n",
       "      <td>0</td>\n",
       "      <td>7.0</td>\n",
       "      <td>1</td>\n",
       "      <td>0.00000</td>\n",
       "      <td>0.000</td>\n",
       "      <td>0.000000</td>\n",
       "      <td>65.142</td>\n",
       "      <td>54.285</td>\n",
       "    </tr>\n",
       "    <tr>\n",
       "      <th>6</th>\n",
       "      <td>PV_7</td>\n",
       "      <td>1.0</td>\n",
       "      <td>PV_7</td>\n",
       "      <td>10.252</td>\n",
       "      <td>12.5</td>\n",
       "      <td>36</td>\n",
       "      <td>5.900000</td>\n",
       "      <td>7.0</td>\n",
       "      <td>1.0</td>\n",
       "      <td>1.060000</td>\n",
       "      <td>...</td>\n",
       "      <td>600</td>\n",
       "      <td>1</td>\n",
       "      <td>0</td>\n",
       "      <td>6.0</td>\n",
       "      <td>1</td>\n",
       "      <td>84.88656</td>\n",
       "      <td>10.252</td>\n",
       "      <td>0.004877</td>\n",
       "      <td>0.000</td>\n",
       "      <td>0.000</td>\n",
       "    </tr>\n",
       "    <tr>\n",
       "      <th>7</th>\n",
       "      <td>PV_8</td>\n",
       "      <td>1.0</td>\n",
       "      <td>PV_8</td>\n",
       "      <td>9.702</td>\n",
       "      <td>12.5</td>\n",
       "      <td>37</td>\n",
       "      <td>3.300000</td>\n",
       "      <td>7.0</td>\n",
       "      <td>1.0</td>\n",
       "      <td>1.013996</td>\n",
       "      <td>...</td>\n",
       "      <td>600</td>\n",
       "      <td>2</td>\n",
       "      <td>0</td>\n",
       "      <td>6.0</td>\n",
       "      <td>1</td>\n",
       "      <td>0.00000</td>\n",
       "      <td>0.000</td>\n",
       "      <td>0.000000</td>\n",
       "      <td>77.616</td>\n",
       "      <td>29.106</td>\n",
       "    </tr>\n",
       "    <tr>\n",
       "      <th>8</th>\n",
       "      <td>PV_9</td>\n",
       "      <td>1.0</td>\n",
       "      <td>PV_9</td>\n",
       "      <td>16.841</td>\n",
       "      <td>34.5</td>\n",
       "      <td>38</td>\n",
       "      <td>7.800000</td>\n",
       "      <td>10.0</td>\n",
       "      <td>1.0</td>\n",
       "      <td>1.052803</td>\n",
       "      <td>...</td>\n",
       "      <td>600</td>\n",
       "      <td>2</td>\n",
       "      <td>0</td>\n",
       "      <td>9.0</td>\n",
       "      <td>1</td>\n",
       "      <td>0.00000</td>\n",
       "      <td>0.000</td>\n",
       "      <td>0.000000</td>\n",
       "      <td>101.046</td>\n",
       "      <td>84.205</td>\n",
       "    </tr>\n",
       "    <tr>\n",
       "      <th>9</th>\n",
       "      <td>Slack_10</td>\n",
       "      <td>1.0</td>\n",
       "      <td>Slack_10</td>\n",
       "      <td>11.990</td>\n",
       "      <td>345.0</td>\n",
       "      <td>39</td>\n",
       "      <td>5.741700</td>\n",
       "      <td>15.0</td>\n",
       "      <td>3.0</td>\n",
       "      <td>1.030000</td>\n",
       "      <td>...</td>\n",
       "      <td>600</td>\n",
       "      <td>1</td>\n",
       "      <td>0</td>\n",
       "      <td>12.0</td>\n",
       "      <td>1</td>\n",
       "      <td>119.90000</td>\n",
       "      <td>11.990</td>\n",
       "      <td>0.004170</td>\n",
       "      <td>0.000</td>\n",
       "      <td>0.000</td>\n",
       "    </tr>\n",
       "  </tbody>\n",
       "</table>\n",
       "<p>10 rows × 23 columns</p>\n",
       "</div>"
      ],
      "text/plain": [
       "        idx    u      name      Sn     Vn  bus        p0  pmax  pmin  \\\n",
       "0      PV_1  1.0      PV_1  10.400   34.5   30  4.360864  15.0   2.0   \n",
       "1      PV_2  1.0      PV_2   8.360   34.5   31  6.460000   9.0   1.5   \n",
       "2      PV_3  1.0      PV_3   8.437   21.0   32  7.250000   8.0   1.0   \n",
       "3      PV_4  1.0      PV_4  11.748   21.0   33  6.520000   7.0   1.0   \n",
       "4      PV_5  1.0      PV_5  10.802   15.5   34  5.200000   7.0   1.0   \n",
       "5      PV_6  1.0      PV_6  10.857   15.5   35  6.900000   8.0   1.0   \n",
       "6      PV_7  1.0      PV_7  10.252   12.5   36  5.900000   7.0   1.0   \n",
       "7      PV_8  1.0      PV_8   9.702   12.5   37  3.300000   7.0   1.0   \n",
       "8      PV_9  1.0      PV_9  16.841   34.5   38  7.800000  10.0   1.0   \n",
       "9  Slack_10  1.0  Slack_10  11.990  345.0   39  5.741700  15.0   3.0   \n",
       "\n",
       "         v0  ...  ramp30  type  p_pre  band  K          M       D         R  \\\n",
       "0  1.035534  ...     600     2      0  13.0  1    0.00000   0.000  0.000000   \n",
       "1  1.013246  ...     600     1      0   7.5  1   67.38160   8.360  0.005981   \n",
       "2  1.020528  ...     600     1      0   7.0  1   60.40892   8.437  0.005926   \n",
       "3  1.013430  ...     600     1      0   6.0  1  102.44256  11.748  0.004256   \n",
       "4  1.019109  ...     600     1      0   6.0  1   56.17040  10.802  0.004629   \n",
       "5  1.060000  ...     600     2      0   7.0  1    0.00000   0.000  0.000000   \n",
       "6  1.060000  ...     600     1      0   6.0  1   84.88656  10.252  0.004877   \n",
       "7  1.013996  ...     600     2      0   6.0  1    0.00000   0.000  0.000000   \n",
       "8  1.052803  ...     600     2      0   9.0  1    0.00000   0.000  0.000000   \n",
       "9  1.030000  ...     600     1      0  12.0  1  119.90000  11.990  0.004170   \n",
       "\n",
       "      Mvsg    Dvsg  \n",
       "0  104.000  52.000  \n",
       "1    0.000   0.000  \n",
       "2    0.000   0.000  \n",
       "3    0.000   0.000  \n",
       "4    0.000   0.000  \n",
       "5   65.142  54.285  \n",
       "6    0.000   0.000  \n",
       "7   77.616  29.106  \n",
       "8  101.046  84.205  \n",
       "9    0.000   0.000  \n",
       "\n",
       "[10 rows x 23 columns]"
      ]
     },
     "execution_count": 12,
     "metadata": {},
     "output_type": "execute_result"
    }
   ],
   "source": [
    "vsg_ieee14 = ['PV_6', 'PV_7']\n",
    "vsg_ieee39 = ['PV_1', 'PV_6', 'PV_8', 'PV_9']\n",
    "\n",
    "ss.from_andes(ssa, vsg_ieee39)\n",
    "\n",
    "ss.gen"
   ]
  },
  {
   "cell_type": "code",
   "execution_count": 13,
   "metadata": {},
   "outputs": [
    {
     "data": {
      "text/plain": [
       "{'fnorm':            M         D         Fg          Rg    fnadir\n",
       " 0  14.988180  7.492874  80.045126  124.959573 -0.013860\n",
       " 1   2.891501  1.438628  40.350784   43.546600  0.006387,\n",
       " 'pnorm':            M         D         Fg          Rg      Mvsg      Dvsg     Ppeak\n",
       " 0  14.988180  7.492874  80.045126  124.959573  4.018493  2.004602  0.143188\n",
       " 1   2.891501  1.438628  40.350784   43.546600  2.317657  1.151364  0.086313}"
      ]
     },
     "execution_count": 13,
     "metadata": {},
     "output_type": "execute_result"
    }
   ],
   "source": [
    "ss.norm"
   ]
  },
  {
   "cell_type": "code",
   "execution_count": 14,
   "metadata": {},
   "outputs": [],
   "source": [
    "a_test = []\n",
    "for i in range(64):\n",
    "    a_test.append('a'+str(i))\n",
    "# a_test"
   ]
  },
  {
   "cell_type": "code",
   "execution_count": 15,
   "metadata": {},
   "outputs": [
    {
     "data": {
      "text/plain": [
       "dict_keys(['PV_1', 'PV_2', 'PV_3', 'PV_4', 'PV_5', 'PV_6', 'PV_7', 'PV_8', 'PV_9', 'Slack_10'])"
      ]
     },
     "execution_count": 15,
     "metadata": {},
     "output_type": "execute_result"
    }
   ],
   "source": [
    "ss.gendict.keys()"
   ]
  },
  {
   "cell_type": "code",
   "execution_count": 16,
   "metadata": {},
   "outputs": [
    {
     "data": {
      "text/plain": [
       "-0.13017723"
      ]
     },
     "execution_count": 16,
     "metadata": {},
     "output_type": "execute_result"
    }
   ],
   "source": [
    "ss.nn['fw2'][4].iloc[0]"
   ]
  },
  {
   "cell_type": "code",
   "execution_count": 17,
   "metadata": {},
   "outputs": [
    {
     "data": {
      "text/html": [
       "<div>\n",
       "<style scoped>\n",
       "    .dataframe tbody tr th:only-of-type {\n",
       "        vertical-align: middle;\n",
       "    }\n",
       "\n",
       "    .dataframe tbody tr th {\n",
       "        vertical-align: top;\n",
       "    }\n",
       "\n",
       "    .dataframe thead th {\n",
       "        text-align: right;\n",
       "    }\n",
       "</style>\n",
       "<table border=\"1\" class=\"dataframe\">\n",
       "  <thead>\n",
       "    <tr style=\"text-align: right;\">\n",
       "      <th></th>\n",
       "      <th>0</th>\n",
       "    </tr>\n",
       "  </thead>\n",
       "  <tbody>\n",
       "    <tr>\n",
       "      <th>0</th>\n",
       "      <td>-0.290703</td>\n",
       "    </tr>\n",
       "    <tr>\n",
       "      <th>1</th>\n",
       "      <td>0.202561</td>\n",
       "    </tr>\n",
       "    <tr>\n",
       "      <th>2</th>\n",
       "      <td>0.151374</td>\n",
       "    </tr>\n",
       "    <tr>\n",
       "      <th>3</th>\n",
       "      <td>-0.195499</td>\n",
       "    </tr>\n",
       "    <tr>\n",
       "      <th>4</th>\n",
       "      <td>0.256226</td>\n",
       "    </tr>\n",
       "    <tr>\n",
       "      <th>...</th>\n",
       "      <td>...</td>\n",
       "    </tr>\n",
       "    <tr>\n",
       "      <th>59</th>\n",
       "      <td>-0.389984</td>\n",
       "    </tr>\n",
       "    <tr>\n",
       "      <th>60</th>\n",
       "      <td>0.222762</td>\n",
       "    </tr>\n",
       "    <tr>\n",
       "      <th>61</th>\n",
       "      <td>0.228741</td>\n",
       "    </tr>\n",
       "    <tr>\n",
       "      <th>62</th>\n",
       "      <td>-0.170625</td>\n",
       "    </tr>\n",
       "    <tr>\n",
       "      <th>63</th>\n",
       "      <td>0.155144</td>\n",
       "    </tr>\n",
       "  </tbody>\n",
       "</table>\n",
       "<p>64 rows × 1 columns</p>\n",
       "</div>"
      ],
      "text/plain": [
       "           0\n",
       "0  -0.290703\n",
       "1   0.202561\n",
       "2   0.151374\n",
       "3  -0.195499\n",
       "4   0.256226\n",
       "..       ...\n",
       "59 -0.389984\n",
       "60  0.222762\n",
       "61  0.228741\n",
       "62 -0.170625\n",
       "63  0.155144\n",
       "\n",
       "[64 rows x 1 columns]"
      ]
     },
     "execution_count": 17,
     "metadata": {},
     "output_type": "execute_result"
    }
   ],
   "source": [
    "ss.nn['fb1']"
   ]
  },
  {
   "cell_type": "code",
   "execution_count": 18,
   "metadata": {},
   "outputs": [
    {
     "data": {
      "text/plain": [
       "100"
      ]
     },
     "execution_count": 18,
     "metadata": {},
     "output_type": "execute_result"
    }
   ],
   "source": [
    "ss.mva"
   ]
  },
  {
   "cell_type": "code",
   "execution_count": 19,
   "metadata": {},
   "outputs": [
    {
     "data": {
      "text/plain": [
       "0.26405954"
      ]
     },
     "execution_count": 19,
     "metadata": {},
     "output_type": "execute_result"
    }
   ],
   "source": [
    "ss.nn['fb2'][0].iloc[0]"
   ]
  },
  {
   "cell_type": "code",
   "execution_count": 20,
   "metadata": {},
   "outputs": [
    {
     "name": "stdout",
     "output_type": "stream",
     "text": [
      "Successfully build var.\n",
      "Successfully build obj.\n",
      "Warning for adding constraints: zero or small (< 1e-13) coefficients, ignored\n",
      "Successfully build cons.\n"
     ]
    }
   ],
   "source": [
    "ss.build()\n",
    "\n",
    "# ss.mdl.optimize()"
   ]
  },
  {
   "cell_type": "code",
   "execution_count": 21,
   "metadata": {},
   "outputs": [
    {
     "name": "stdout",
     "output_type": "stream",
     "text": [
      "Successfully build var.\n",
      "Successfully build obj.\n",
      "Warning for adding constraints: zero or small (< 1e-13) coefficients, ignored\n",
      "Successfully build cons.\n",
      "Gurobi Optimizer version 9.5.1 build v9.5.1rc2 (mac64[arm])\n",
      "Thread count: 8 physical cores, 8 logical processors, using up to 8 threads\n",
      "Optimize a model with 69 rows, 38 columns and 546 nonzeros\n",
      "Model fingerprint: 0xec486ba4\n",
      "Coefficient statistics:\n",
      "  Matrix range     [4e-03, 1e+00]\n",
      "  Objective range  [1e+00, 1e+00]\n",
      "  Bounds range     [1e+00, 2e+01]\n",
      "  RHS range        [4e-01, 6e+01]\n",
      "Presolve removed 54 rows and 30 columns\n",
      "Presolve time: 0.00s\n",
      "Presolved: 15 rows, 14 columns, 120 nonzeros\n",
      "\n",
      "Iteration    Objective       Primal Inf.    Dual Inf.      Time\n",
      "       0    5.8564000e+01   7.957149e+01   0.000000e+00      0s\n",
      "      15    5.8564000e+01   0.000000e+00   0.000000e+00      0s\n",
      "\n",
      "Solved in 15 iterations and 0.01 seconds (0.00 work units)\n",
      "Optimal objective  5.856400000e+01\n"
     ]
    },
    {
     "name": "stderr",
     "output_type": "stream",
     "text": [
      "Successfully solve vis1.\n"
     ]
    },
    {
     "data": {
      "text/plain": [
       "(        gen         pg  pru  prd\n",
       " 0      PV_1  12.515789  0.0  0.0\n",
       " 1      PV_2   5.895637  0.0  0.0\n",
       " 2      PV_3   8.000000  0.0  0.0\n",
       " 3      PV_4   5.851096  0.0  0.0\n",
       " 4      PV_5   7.000000  0.0  0.0\n",
       " 5      PV_6   4.800000  0.0  0.0\n",
       " 6      PV_7   3.501478  0.0  0.0\n",
       " 7      PV_8   7.000000  0.0  0.0\n",
       " 8      PV_9   1.000000  0.0  0.0\n",
       " 9  Slack_10   3.000000  0.0  0.0,\n",
       "     gen  Mvsg  Dvsg\n",
       " 0  PV_1   0.0   0.0\n",
       " 1  PV_6   0.0   0.0\n",
       " 2  PV_8   0.0   0.0\n",
       " 3  PV_9   0.0   0.0)"
      ]
     },
     "execution_count": 21,
     "metadata": {},
     "output_type": "execute_result"
    }
   ],
   "source": [
    "ss.get_res()"
   ]
  },
  {
   "cell_type": "code",
   "execution_count": 22,
   "metadata": {},
   "outputs": [
    {
     "data": {
      "text/plain": [
       "58.56399999999999"
      ]
     },
     "execution_count": 22,
     "metadata": {},
     "output_type": "execute_result"
    }
   ],
   "source": [
    "ss.load.p0.sum()\n"
   ]
  },
  {
   "cell_type": "code",
   "execution_count": 23,
   "metadata": {},
   "outputs": [
    {
     "data": {
      "text/plain": [
       "{'PV_1': {'c2': 0, 'c1': 1, 'c0': 0, 'cr': 0, 'cru': 0, 'crd': 0},\n",
       " 'PV_2': {'c2': 0, 'c1': 1, 'c0': 0, 'cr': 0, 'cru': 0, 'crd': 0},\n",
       " 'PV_3': {'c2': 0, 'c1': 1, 'c0': 0, 'cr': 0, 'cru': 0, 'crd': 0},\n",
       " 'PV_4': {'c2': 0, 'c1': 1, 'c0': 0, 'cr': 0, 'cru': 0, 'crd': 0},\n",
       " 'PV_5': {'c2': 0, 'c1': 1, 'c0': 0, 'cr': 0, 'cru': 0, 'crd': 0},\n",
       " 'PV_6': {'c2': 0, 'c1': 1, 'c0': 0, 'cr': 0, 'cru': 0, 'crd': 0},\n",
       " 'PV_7': {'c2': 0, 'c1': 1, 'c0': 0, 'cr': 0, 'cru': 0, 'crd': 0},\n",
       " 'PV_8': {'c2': 0, 'c1': 1, 'c0': 0, 'cr': 0, 'cru': 0, 'crd': 0},\n",
       " 'PV_9': {'c2': 0, 'c1': 1, 'c0': 0, 'cr': 0, 'cru': 0, 'crd': 0},\n",
       " 'Slack_10': {'c2': 0, 'c1': 1, 'c0': 0, 'cr': 0, 'cru': 0, 'crd': 0}}"
      ]
     },
     "execution_count": 23,
     "metadata": {},
     "output_type": "execute_result"
    }
   ],
   "source": [
    "ss.costdict"
   ]
  },
  {
   "cell_type": "code",
   "execution_count": 24,
   "metadata": {},
   "outputs": [
    {
     "name": "stdout",
     "output_type": "stream",
     "text": [
      "Minimize\n",
      "<gurobi.LinExpr: pg[PV_1] + pg[PV_2] + pg[PV_3] + pg[PV_4] + pg[PV_5] + pg[PV_6]\n",
      "+ pg[PV_7] + pg[PV_8] + pg[PV_9] + pg[Slack_10]>\n",
      "Subject To\n",
      "PowerBalance: <gurobi.LinExpr: pg[PV_1] + pg[PV_2] + pg[PV_3] + pg[PV_4] + pg[PV_5] +\n",
      " pg[PV_6] + pg[PV_7] + pg[PV_8] + pg[PV_9] + pg[Slack_10]> = 58.564\n",
      "Line_1_U: <gurobi.LinExpr: -0.5607822357546095 pg[PV_1] + -0.6089602208400834 pg[PV_2]\n",
      "+ -0.398309791005728 pg[PV_3] + -0.4219560834463752 pg[PV_4] + -0.5066725368514862\n",
      "pg[PV_5] + -0.5066725368514862 pg[PV_6] + -0.5066725368514856 pg[PV_7] +\n",
      "-0.5066725368514856 pg[PV_8] + -0.5988298865678321 pg[PV_9] + -0.5607822357546095\n",
      " pg[Slack_10]> <= -20.9585\n",
      "Line_1_D: <gurobi.LinExpr: -0.5607822357546095 pg[PV_1] + -0.6089602208400834 pg[PV_2]\n",
      "+ -0.398309791005728 pg[PV_3] + -0.4219560834463752 pg[PV_4] + -0.5066725368514862\n",
      "pg[PV_5] + -0.5066725368514862 pg[PV_6] + -0.5066725368514856 pg[PV_7] +\n",
      "-0.5066725368514856 pg[PV_8] + -0.5988298865678321 pg[PV_9] + -0.5607822357546095\n",
      " pg[Slack_10]> >= -32.9585\n",
      "Line_2_U: <gurobi.LinExpr: 0.5607822357546095 pg[PV_1] + 0.6089602208400834 pg[PV_2] +\n",
      "0.398309791005728 pg[PV_3] + 0.4219560834463752 pg[PV_4] + 0.5066725368514862 pg[PV_5] +\n",
      "0.5066725368514862 pg[PV_6] + 0.5066725368514856 pg[PV_7] + 0.5066725368514856 pg[PV_8]\n",
      " + 0.5988298865678321 pg[PV_9] + 0.5607822357546095 pg[Slack_10]> <= 36.9585\n",
      "Line_2_D: <gurobi.LinExpr: 0.5607822357546095 pg[PV_1] + 0.6089602208400834 pg[PV_2] +\n",
      "0.398309791005728 pg[PV_3] + 0.4219560834463752 pg[PV_4] + 0.5066725368514862 pg[PV_5] +\n",
      "0.5066725368514862 pg[PV_6] + 0.5066725368514856 pg[PV_7] + 0.5066725368514856 pg[PV_8]\n",
      " + 0.5988298865678321 pg[PV_9] + 0.5607822357546095 pg[Slack_10]> >= 16.9585\n",
      "Line_3_U: <gurobi.LinExpr: -0.03958885390307082 pg[PV_1] + 0.31317755876505526 pg[PV_2]\n",
      "+ -0.31831263561742434 pg[PV_3] + -0.3308447581160463 pg[PV_4] + -0.3222113652343364\n",
      "pg[PV_5] + -0.3222113652343364 pg[PV_6] + -0.322211365234336 pg[PV_7] +\n",
      "-0.322211365234336 pg[PV_8] + 0.2390017360524419 pg[PV_9] + -0.03958885390307081\n",
      " pg[Slack_10]> <= -10.197\n",
      "Line_3_D: <gurobi.LinExpr: -0.03958885390307082 pg[PV_1] + 0.31317755876505526 pg[PV_2]\n",
      "+ -0.31831263561742434 pg[PV_3] + -0.3308447581160463 pg[PV_4] + -0.3222113652343364\n",
      "pg[PV_5] + -0.3222113652343364 pg[PV_6] + -0.322211365234336 pg[PV_7] +\n",
      "-0.322211365234336 pg[PV_8] + 0.2390017360524419 pg[PV_9] + -0.03958885390307081\n",
      " pg[Slack_10]> >= -20.197\n",
      "Line_4_U: <gurobi.LinExpr: -0.5211933818515383 pg[PV_1] + 0.07786222039486176 pg[PV_2]\n",
      "+ -0.07999715538830335 pg[PV_3] + -0.09111132533032847 pg[PV_4] + -0.18446117161714937\n",
      "pg[PV_5] + -0.18446117161714937 pg[PV_6] + -0.18446117161714914 pg[PV_7] +\n",
      "-0.18446117161714914 pg[PV_8] + -0.8378316226202734 pg[PV_9] + -0.5211933818515383\n",
      " pg[Slack_10]> <= -6.76156\n",
      "Line_4_D: <gurobi.LinExpr: -0.5211933818515383 pg[PV_1] + 0.07786222039486176 pg[PV_2]\n",
      "+ -0.07999715538830335 pg[PV_3] + -0.09111132533032847 pg[PV_4] + -0.18446117161714937\n",
      "pg[PV_5] + -0.18446117161714937 pg[PV_6] + -0.18446117161714914 pg[PV_7] +\n",
      "-0.18446117161714914 pg[PV_8] + -0.8378316226202734 pg[PV_9] + -0.5211933818515383\n",
      " pg[Slack_10]> >= -16.7616\n",
      "Line_5_U: <gurobi.LinExpr: 0.21144397600580686 pg[PV_1] + 0.2691229201867758 pg[PV_2] +\n",
      "-0.2706255737576915 pg[PV_3] + -0.254274536300758 pg[PV_4] + 0.0769434159680718 pg[PV_5]\n",
      "+ 0.07694341596807179 pg[PV_6] + 0.0769434159680717 pg[PV_7] + 0.0769434159680717\n",
      " pg[PV_8] + 0.25699482923429817 pg[PV_9] + 0.21144397600580683 pg[Slack_10]> <= 11.2977\n",
      "Line_5_D: <gurobi.LinExpr: 0.21144397600580686 pg[PV_1] + 0.2691229201867758 pg[PV_2] +\n",
      "-0.2706255737576915 pg[PV_3] + -0.254274536300758 pg[PV_4] + 0.0769434159680718 pg[PV_5]\n",
      "+ 0.07694341596807179 pg[PV_6] + 0.0769434159680717 pg[PV_7] + 0.0769434159680717\n",
      " pg[PV_8] + 0.25699482923429817 pg[PV_9] + 0.21144397600580683 pg[Slack_10]> >= -6.70235\n",
      "Line_6_U: <gurobi.LinExpr: -0.2510328299088773 pg[PV_1] + 0.04405463857827977 pg[PV_2]\n",
      "+ -0.04768706185973279 pg[PV_3] + -0.07657022181528819 pg[PV_4] + -0.39915478120240805\n",
      "pg[PV_5] + -0.399154781202408 pg[PV_6] + -0.3991547812024076 pg[PV_7] +\n",
      "-0.3991547812024076 pg[PV_8] + -0.017993093181855952 pg[PV_9] + -0.2510328299088774\n",
      " pg[Slack_10]> <= -6.49462\n",
      "Line_6_D: <gurobi.LinExpr: -0.2510328299088773 pg[PV_1] + 0.04405463857827977 pg[PV_2]\n",
      "+ -0.04768706185973279 pg[PV_3] + -0.07657022181528819 pg[PV_4] + -0.39915478120240805\n",
      "pg[PV_5] + -0.399154781202408 pg[PV_6] + -0.3991547812024076 pg[PV_7] +\n",
      "-0.3991547812024076 pg[PV_8] + -0.017993093181855952 pg[PV_9] + -0.2510328299088774\n",
      " pg[Slack_10]> >= -16.4946\n",
      "Line_7_U: <gurobi.LinExpr: 0.272685138981093 pg[PV_1] + 0.2620275024828734 pg[PV_2] +\n",
      "-0.24207396144243068 pg[PV_3] + -0.02656337105678853 pg[PV_4] + 0.2680566461040373\n",
      "pg[PV_5] + 0.26805664610403723 pg[PV_6] + 0.2680566461040369 pg[PV_7] +\n",
      "0.2680566461040369 pg[PV_8] + 0.2642684725045038 pg[PV_9] + 0.272685138981093\n",
      " pg[Slack_10]> <= 16.0895\n",
      "Line_7_D: <gurobi.LinExpr: 0.272685138981093 pg[PV_1] + 0.2620275024828734 pg[PV_2] +\n",
      "-0.24207396144243068 pg[PV_3] + -0.02656337105678853 pg[PV_4] + 0.2680566461040373\n",
      "pg[PV_5] + 0.26805664610403723 pg[PV_6] + 0.2680566461040369 pg[PV_7] +\n",
      "0.2680566461040369 pg[PV_8] + 0.2642684725045038 pg[PV_9] + 0.272685138981093\n",
      " pg[Slack_10]> >= 6.08954\n",
      "Line_8_U: <gurobi.LinExpr: -0.061241162975285944 pg[PV_1] + 0.007095417703902582\n",
      "pg[PV_2] + -0.02855161231526045 pg[PV_3] + -0.22771116524396912 pg[PV_4] +\n",
      "-0.19111323013596515 pg[PV_5] + -0.19111323013596518 pg[PV_6] + -0.19111323013596496\n",
      "pg[PV_7] + -0.19111323013596496 pg[PV_8] + -0.007273643270205529 pg[PV_9] +\n",
      " -0.06124116297528595 pg[Slack_10]> <= 1.70812\n",
      "Line_8_D: <gurobi.LinExpr: -0.061241162975285944 pg[PV_1] + 0.007095417703902582\n",
      "pg[PV_2] + -0.02855161231526045 pg[PV_3] + -0.22771116524396912 pg[PV_4] +\n",
      "-0.19111323013596515 pg[PV_5] + -0.19111323013596518 pg[PV_6] + -0.19111323013596496\n",
      "pg[PV_7] + -0.19111323013596496 pg[PV_8] + -0.007273643270205529 pg[PV_9] +\n",
      " -0.06124116297528595 pg[Slack_10]> >= -10.2919\n",
      "Line_9_U: <gurobi.LinExpr: 0.027388526374670298 pg[PV_1] + 0.04182386266902016 pg[PV_2]\n",
      "+ -0.5201149971080359 pg[PV_3] + -0.3130829827847758 pg[PV_4] + -0.0038587985090081747\n",
      "pg[PV_5] + -0.0038587985090081742 pg[PV_6] + -0.003858798509008168 pg[PV_7] +\n",
      "-0.003858798509008167 pg[PV_8] + 0.03878855968292213 pg[PV_9] + 0.027388526374670295\n",
      " pg[Slack_10]> <= 4.63147\n",
      "Line_9_D: <gurobi.LinExpr: 0.027388526374670298 pg[PV_1] + 0.04182386266902016 pg[PV_2]\n",
      "+ -0.5201149971080359 pg[PV_3] + -0.3130829827847758 pg[PV_4] + -0.0038587985090081747\n",
      "pg[PV_5] + -0.0038587985090081742 pg[PV_6] + -0.003858798509008168 pg[PV_7] +\n",
      "-0.003858798509008167 pg[PV_8] + 0.03878855968292213 pg[PV_9] + 0.027388526374670295\n",
      " pg[Slack_10]> >= -5.36853\n",
      "Line_10_U: <gurobi.LinExpr: 0.2452966126064213 pg[PV_1] + 0.22020363981385227 pg[PV_2]\n",
      "+ 0.2780410356656025 pg[PV_3] + 0.28651961172798485 pg[PV_4] + 0.2719154446130437\n",
      "pg[PV_5] + 0.2719154446130436 pg[PV_6] + 0.27191544461304334 pg[PV_7] +\n",
      "0.27191544461304334 pg[PV_8] + 0.2254799128215807 pg[PV_9] + 0.24529661260642133\n",
      " pg[Slack_10]> <= 23.4581\n",
      "Line_10_D: <gurobi.LinExpr: 0.2452966126064213 pg[PV_1] + 0.22020363981385227 pg[PV_2]\n",
      "+ 0.2780410356656025 pg[PV_3] + 0.28651961172798485 pg[PV_4] + 0.2719154446130437\n",
      "pg[PV_5] + 0.2719154446130436 pg[PV_6] + 0.27191544461304334 pg[PV_7] +\n",
      "0.27191544461304334 pg[PV_8] + 0.2254799128215807 pg[PV_9] + 0.24529661260642133\n",
      " pg[Slack_10]> >= -0.541927\n",
      "Line_11_U: <gurobi.LinExpr: 0.19392115163896934 pg[PV_1] + 0.1708361393460648 pg[PV_2]\n",
      "+ 0.3236491733286699 pg[PV_3] + 0.2915243048256413 pg[PV_4] + 0.22141201853547188\n",
      "pg[PV_5] + 0.2214120185354719 pg[PV_6] + 0.22141201853547166 pg[PV_7] +\n",
      "0.22141201853547163 pg[PV_8] + 0.1756902006105875 pg[PV_9] + 0.1939211516389694\n",
      " pg[Slack_10]> <= 17.5894\n",
      "Line_11_D: <gurobi.LinExpr: 0.19392115163896934 pg[PV_1] + 0.1708361393460648 pg[PV_2]\n",
      "+ 0.3236491733286699 pg[PV_3] + 0.2915243048256413 pg[PV_4] + 0.22141201853547188\n",
      "pg[PV_5] + 0.2214120185354719 pg[PV_6] + 0.22141201853547166 pg[PV_7] +\n",
      "0.22141201853547163 pg[PV_8] + 0.1756902006105875 pg[PV_9] + 0.1939211516389694\n",
      " pg[Slack_10]> >= -0.410594\n",
      "Line_12_U: <gurobi.LinExpr: -0.166532625264299 pg[PV_1] + -0.12901227667704454 pg[PV_2]\n",
      "+ 0.15623582956329451 pg[PV_3] + -0.6046072876104168 pg[PV_4] + -0.2252708170444799\n",
      "pg[PV_5] + -0.2252708170444799 pg[PV_6] + -0.22527081704447965 pg[PV_7] +\n",
      "-0.22527081704447965 pg[PV_8] + -0.13690164092766527 pg[PV_9] + -0.166532625264299\n",
      " pg[Slack_10]> <= 0.84206\n",
      "Line_12_D: <gurobi.LinExpr: -0.166532625264299 pg[PV_1] + -0.12901227667704454 pg[PV_2]\n",
      "+ 0.15623582956329451 pg[PV_3] + -0.6046072876104168 pg[PV_4] + -0.2252708170444799\n",
      "pg[PV_5] + -0.2252708170444799 pg[PV_6] + -0.22527081704447965 pg[PV_7] +\n",
      "-0.22527081704447965 pg[PV_8] + -0.13690164092766527 pg[PV_9] + -0.166532625264299\n",
      " pg[Slack_10]> >= -17.1579\n",
      "Line_13_U: <gurobi.LinExpr: 0.1939211516389692 pg[PV_1] + 0.17083613934606467 pg[PV_2]\n",
      "+ 0.32364917332866955 pg[PV_3] + 0.29152430482564096 pg[PV_4] + 0.22141201853547166\n",
      "pg[PV_5] + 0.22141201853547163 pg[PV_6] + 0.22141201853547143 pg[PV_7] +\n",
      "0.22141201853547143 pg[PV_8] + 0.17569020061058738 pg[PV_9] + 0.19392115163896922\n",
      " pg[Slack_10]> <= 15.7274\n",
      "Line_13_D: <gurobi.LinExpr: 0.1939211516389692 pg[PV_1] + 0.17083613934606467 pg[PV_2]\n",
      "+ 0.32364917332866955 pg[PV_3] + 0.29152430482564096 pg[PV_4] + 0.22141201853547166\n",
      "pg[PV_5] + 0.22141201853547163 pg[PV_6] + 0.22141201853547143 pg[PV_7] +\n",
      "0.22141201853547143 pg[PV_8] + 0.17569020061058738 pg[PV_9] + 0.19392115163896922\n",
      " pg[Slack_10]> >= 6.12741\n",
      "Line_14_U: <gurobi.LinExpr: 0.43921776424539083 pg[PV_1] + 0.39103977915991717 pg[PV_2]\n",
      "+ 0.6016902089942728 pg[PV_3] + 0.5780439165536264 pg[PV_4] + 0.4933274631485158\n",
      "pg[PV_5] + 0.4933274631485157 pg[PV_6] + 0.4933274631485152 pg[PV_7] +\n",
      "0.4933274631485152 pg[PV_8] + 0.40117011343216824 pg[PV_9] + 0.4392177642453909\n",
      " pg[Slack_10]> <= 45.6055\n",
      "Line_14_D: <gurobi.LinExpr: 0.43921776424539083 pg[PV_1] + 0.39103977915991717 pg[PV_2]\n",
      "+ 0.6016902089942728 pg[PV_3] + 0.5780439165536264 pg[PV_4] + 0.4933274631485158\n",
      "pg[PV_5] + 0.4933274631485157 pg[PV_6] + 0.4933274631485152 pg[PV_7] +\n",
      "0.4933274631485152 pg[PV_8] + 0.40117011343216824 pg[PV_9] + 0.4392177642453909\n",
      " pg[Slack_10]> >= 9.60548\n",
      "Line_15_U: <gurobi.LinExpr: 0.43921776424539066 pg[PV_1] + 0.39103977915991694 pg[PV_2]\n",
      "+ 0.6016902089942727 pg[PV_3] + 0.5780439165536264 pg[PV_4] + 0.49332746314851567\n",
      "pg[PV_5] + 0.4933274631485156 pg[PV_6] + 0.4933274631485151 pg[PV_7] +\n",
      "0.49332746314851506 pg[PV_8] + 0.4011701134321681 pg[PV_9] + 0.4392177642453907\n",
      " pg[Slack_10]> <= 36.6055\n",
      "Line_15_D: <gurobi.LinExpr: 0.43921776424539066 pg[PV_1] + 0.39103977915991694 pg[PV_2]\n",
      "+ 0.6016902089942727 pg[PV_3] + 0.5780439165536264 pg[PV_4] + 0.49332746314851567\n",
      "pg[PV_5] + 0.4933274631485156 pg[PV_6] + 0.4933274631485151 pg[PV_7] +\n",
      "0.49332746314851506 pg[PV_8] + 0.4011701134321681 pg[PV_9] + 0.4392177642453907\n",
      " pg[Slack_10]> >= 18.6055\n",
      "Line_16_U: <gurobi.LinExpr: 0.15163301250891523 pg[PV_1] + 0.1174695957151149 pg[PV_2]\n",
      "+ -0.14225746733358335 pg[PV_3] + 0.5952481120475942 pg[PV_4] + 0.2051159198660758\n",
      "pg[PV_5] + 0.2051159198660758 pg[PV_6] + 0.20511591986607555 pg[PV_7] +\n",
      "0.20511591986607555 pg[PV_8] + 0.12465310144681861 pg[PV_9] + 0.15163301250891523\n",
      " pg[Slack_10]> <= 15.8817\n",
      "Line_16_D: <gurobi.LinExpr: 0.15163301250891523 pg[PV_1] + 0.1174695957151149 pg[PV_2]\n",
      "+ -0.14225746733358335 pg[PV_3] + 0.5952481120475942 pg[PV_4] + 0.2051159198660758\n",
      "pg[PV_5] + 0.2051159198660758 pg[PV_6] + 0.20511591986607555 pg[PV_7] +\n",
      "0.20511591986607555 pg[PV_8] + 0.12465310144681861 pg[PV_9] + 0.15163301250891523\n",
      " pg[Slack_10]> >= -2.11827\n",
      "Line_17_U: <gurobi.LinExpr: -0.15163301250891356 pg[PV_1] + -0.1174695957151137\n",
      "pg[PV_2] + 0.14225746733358627 pg[PV_3] + 0.40475188795240935 pg[PV_4] +\n",
      "-0.2051159198660736 pg[PV_5] + -0.20511591986607358 pg[PV_6] + -0.20511591986607336\n",
      "pg[PV_7] + -0.20511591986607333 pg[PV_8] + -0.12465310144681732 pg[PV_9] +\n",
      " -0.15163301250891356 pg[Slack_10]> <= 2.11827\n",
      "Line_17_D: <gurobi.LinExpr: -0.15163301250891356 pg[PV_1] + -0.1174695957151137\n",
      "pg[PV_2] + 0.14225746733358627 pg[PV_3] + 0.40475188795240935 pg[PV_4] +\n",
      "-0.2051159198660736 pg[PV_5] + -0.20511591986607358 pg[PV_6] + -0.20511591986607336\n",
      "pg[PV_7] + -0.20511591986607333 pg[PV_8] + -0.12465310144681732 pg[PV_9] +\n",
      " -0.15163301250891356 pg[Slack_10]> >= -15.8817\n",
      "Line_18_U: <gurobi.LinExpr: -0.16653262526429752 pg[PV_1] + -0.12901227667704349\n",
      "pg[PV_2] + 0.1562358295632971 pg[PV_3] + 0.39539271238958634 pg[PV_4] +\n",
      "-0.225270817044478 pg[PV_5] + -0.225270817044478 pg[PV_6] + -0.22527081704447774\n",
      "pg[PV_7] + -0.2252708170444777 pg[PV_8] + -0.13690164092766413 pg[PV_9] +\n",
      " -0.16653262526429752 pg[Slack_10]> <= -0.95794\n",
      "Line_18_D: <gurobi.LinExpr: -0.16653262526429752 pg[PV_1] + -0.12901227667704349\n",
      "pg[PV_2] + 0.1562358295632971 pg[PV_3] + 0.39539271238958634 pg[PV_4] +\n",
      "-0.225270817044478 pg[PV_5] + -0.225270817044478 pg[PV_6] + -0.22527081704447774\n",
      "pg[PV_7] + -0.2252708170444777 pg[PV_8] + -0.13690164092766413 pg[PV_9] +\n",
      " -0.16653262526429752 pg[Slack_10]> >= -12.9579\n",
      "Line_19_U: <gurobi.LinExpr: -0.22777378823958414 pg[PV_1] + -0.12191685897314145\n",
      "pg[PV_2] + 0.12768421724803572 pg[PV_3] + 0.16768154714561612 pg[PV_4] +\n",
      "-0.4163840471804441 pg[PV_5] + -0.41638404718044403 pg[PV_6] + -0.41638404718044364\n",
      "pg[PV_7] + -0.4163840471804436 pg[PV_8] + -0.14417528419787018 pg[PV_9] +\n",
      " -0.22777378823958414 pg[Slack_10]> <= -5.24982\n",
      "Line_19_D: <gurobi.LinExpr: -0.22777378823958414 pg[PV_1] + -0.12191685897314145\n",
      "pg[PV_2] + 0.12768421724803572 pg[PV_3] + 0.16768154714561612 pg[PV_4] +\n",
      "-0.4163840471804441 pg[PV_5] + -0.41638404718044403 pg[PV_6] + -0.41638404718044364\n",
      "pg[PV_7] + -0.4163840471804436 pg[PV_8] + -0.14417528419787018 pg[PV_9] +\n",
      " -0.22777378823958414 pg[Slack_10]> >= -17.2498\n",
      "Line_20_U: <gurobi.LinExpr: -0.22777378823958405 pg[PV_1] + -0.12191685897314136\n",
      "pg[PV_2] + 0.12768421724803586 pg[PV_3] + 0.1676815471456164 pg[PV_4] +\n",
      "-0.416384047180444 pg[PV_5] + -0.4163840471804439 pg[PV_6] + -0.4163840471804435\n",
      "pg[PV_7] + -0.4163840471804435 pg[PV_8] + -0.1441752841978701 pg[PV_9] +\n",
      " -0.22777378823958405 pg[Slack_10]> <= 0.950176\n",
      "Line_20_D: <gurobi.LinExpr: -0.22777378823958405 pg[PV_1] + -0.12191685897314136\n",
      "pg[PV_2] + 0.12768421724803586 pg[PV_3] + 0.1676815471456164 pg[PV_4] +\n",
      "-0.416384047180444 pg[PV_5] + -0.4163840471804439 pg[PV_6] + -0.4163840471804435\n",
      "pg[PV_7] + -0.4163840471804435 pg[PV_8] + -0.1441752841978701 pg[PV_9] +\n",
      " -0.22777378823958405 pg[Slack_10]> >= -17.0498\n",
      "Line_21_U: <gurobi.LinExpr: -0.2277737882395837 pg[PV_1] + -0.12191685897314107\n",
      "pg[PV_2] + 0.12768421724803616 pg[PV_3] + 0.16768154714561667 pg[PV_4] +\n",
      "0.5836159528195572 pg[PV_5] + 0.5836159528195571 pg[PV_6] + 0.5836159528195565 pg[PV_7]\n",
      "+ 0.5836159528195565 pg[PV_8] + -0.14417528419786982 pg[PV_9] + -0.22777378823958372\n",
      " pg[Slack_10]> <= 15.3412\n",
      "Line_21_D: <gurobi.LinExpr: -0.2277737882395837 pg[PV_1] + -0.12191685897314107\n",
      "pg[PV_2] + 0.12768421724803616 pg[PV_3] + 0.16768154714561667 pg[PV_4] +\n",
      "0.5836159528195572 pg[PV_5] + 0.5836159528195571 pg[PV_6] + 0.5836159528195565 pg[PV_7]\n",
      "+ 0.5836159528195565 pg[PV_8] + -0.14417528419786982 pg[PV_9] + -0.22777378823958372\n",
      " pg[Slack_10]> >= 5.34118\n",
      "Line_22_U: <gurobi.LinExpr: -1.000000000000001 pg[PV_5] + -1.000000000000001 pg[PV_6]>\n",
      " <= -1.8\n",
      "Line_22_D: <gurobi.LinExpr: -1.000000000000001 pg[PV_5] + -1.000000000000001 pg[PV_6]>\n",
      " >= -11.8\n",
      "Line_23_U: <gurobi.LinExpr: -0.6474358974358965 pg[PV_7] + -0.5243589743589735\n",
      " pg[PV_8]> <= 2.20301\n",
      "Line_23_D: <gurobi.LinExpr: -0.6474358974358965 pg[PV_7] + -0.5243589743589735\n",
      " pg[PV_8]> >= -9.79699\n",
      "Line_24_U: <gurobi.LinExpr: -0.3525641025641024 pg[PV_7] + -0.4756410256410255\n",
      " pg[PV_8]> <= 1.49599\n",
      "Line_24_D: <gurobi.LinExpr: -0.3525641025641024 pg[PV_7] + -0.4756410256410255\n",
      " pg[PV_8]> >= -10.504\n",
      "Line_25_U: <gurobi.LinExpr: 0.251032829908877 pg[PV_1] + -0.044054638578280014 pg[PV_2]\n",
      "+ 0.047687061859732524 pg[PV_3] + 0.07657022181528791 pg[PV_4] + 0.3991547812024076\n",
      "pg[PV_5] + 0.39915478120240755 pg[PV_6] + 0.3991547812024071 pg[PV_7] +\n",
      "0.39915478120240716 pg[PV_8] + 0.01799309318185569 pg[PV_9] + 0.251032829908877\n",
      " pg[Slack_10]> <= 15.9146\n",
      "Line_25_D: <gurobi.LinExpr: 0.251032829908877 pg[PV_1] + -0.044054638578280014 pg[PV_2]\n",
      "+ 0.047687061859732524 pg[PV_3] + 0.07657022181528791 pg[PV_4] + 0.3991547812024076\n",
      "pg[PV_5] + 0.39915478120240755 pg[PV_6] + 0.3991547812024071 pg[PV_7] +\n",
      "0.39915478120240716 pg[PV_8] + 0.01799309318185569 pg[PV_9] + 0.251032829908877\n",
      " pg[Slack_10]> >= 3.91462\n",
      "Line_26_U: <gurobi.LinExpr: -0.4788066181484596 pg[PV_1] + -0.07786222039486036\n",
      "pg[PV_2] + 0.07999715538830442 pg[PV_3] + 0.0911113253303296 pg[PV_4] +\n",
      "0.18446117161715084 pg[PV_5] + 0.18446117161715084 pg[PV_6] + 0.18446117161715067\n",
      "pg[PV_7] + 0.18446117161715064 pg[PV_8] + -0.16216837737972473 pg[PV_9] +\n",
      " -0.4788066181484595 pg[Slack_10]> <= 6.42656\n",
      "Line_26_D: <gurobi.LinExpr: -0.4788066181484596 pg[PV_1] + -0.07786222039486036\n",
      "pg[PV_2] + 0.07999715538830442 pg[PV_3] + 0.0911113253303296 pg[PV_4] +\n",
      "0.18446117161715084 pg[PV_5] + 0.18446117161715084 pg[PV_6] + 0.18446117161715067\n",
      "pg[PV_7] + 0.18446117161715064 pg[PV_8] + -0.16216837737972473 pg[PV_9] +\n",
      " -0.4788066181484595 pg[Slack_10]> >= -5.57344\n",
      "Line_27_U: <gurobi.LinExpr: -0.6474358974358965 pg[PV_7] + -0.5243589743589735\n",
      " pg[PV_8]> <= 4.94301\n",
      "Line_27_D: <gurobi.LinExpr: -0.6474358974358965 pg[PV_7] + -0.5243589743589735\n",
      " pg[PV_8]> >= -7.05699\n",
      "Line_28_U: <gurobi.LinExpr: 0.3525641025641024 pg[PV_7] + -0.5243589743589743 pg[PV_8]>\n",
      " <= 4.94301\n",
      "Line_28_D: <gurobi.LinExpr: 0.3525641025641024 pg[PV_7] + -0.5243589743589743 pg[PV_8]>\n",
      " >= -7.05699\n",
      "Line_29_U: <gurobi.LinExpr: 0.3525641025641017 pg[PV_7] + 0.4756410256410248 pg[PV_8]>\n",
      " <= 7.41801\n",
      "Line_29_D: <gurobi.LinExpr: 0.3525641025641017 pg[PV_7] + 0.4756410256410248 pg[PV_8]>\n",
      " >= -4.58199\n",
      "Line_30_U: <gurobi.LinExpr: -0.521193381851539 pg[PV_1] + 0.07786222039486088 pg[PV_2]\n",
      "+ -0.07999715538830394 pg[PV_3] + -0.09111132533032909 pg[PV_4] + -0.1844611716171501\n",
      "pg[PV_5] + -0.1844611716171501 pg[PV_6] + -0.1844611716171499 pg[PV_7] +\n",
      "-0.1844611716171499 pg[PV_8] + 0.1621683773797254 pg[PV_9] + -0.5211933818515391\n",
      " pg[Slack_10]> <= -3.52156\n",
      "Line_30_D: <gurobi.LinExpr: -0.521193381851539 pg[PV_1] + 0.07786222039486088 pg[PV_2]\n",
      "+ -0.07999715538830394 pg[PV_3] + -0.09111132533032909 pg[PV_4] + -0.1844611716171501\n",
      "pg[PV_5] + -0.1844611716171501 pg[PV_6] + -0.1844611716171499 pg[PV_7] +\n",
      "-0.1844611716171499 pg[PV_8] + 0.1621683773797254 pg[PV_9] + -0.5211933818515391\n",
      " pg[Slack_10]> >= -15.5216\n",
      "Line_31_U: <gurobi.LinExpr: 0.4788066181484596 pg[PV_1] + 0.0778622203948604 pg[PV_2] +\n",
      "-0.07999715538830433 pg[PV_3] + -0.09111132533032952 pg[PV_4] + -0.18446117161715067\n",
      "pg[PV_5] + -0.18446117161715067 pg[PV_6] + -0.18446117161715048 pg[PV_7] +\n",
      "-0.18446117161715048 pg[PV_8] + 0.16216837737972475 pg[PV_9] + 0.4788066181484595\n",
      " pg[Slack_10]> <= 2.76344\n",
      "Line_31_D: <gurobi.LinExpr: 0.4788066181484596 pg[PV_1] + 0.0778622203948604 pg[PV_2] +\n",
      "-0.07999715538830433 pg[PV_3] + -0.09111132533032952 pg[PV_4] + -0.18446117161715067\n",
      "pg[PV_5] + -0.18446117161715067 pg[PV_6] + -0.18446117161715048 pg[PV_7] +\n",
      "-0.18446117161715048 pg[PV_8] + 0.16216837737972475 pg[PV_9] + 0.4788066181484595\n",
      " pg[Slack_10]> >= -9.23656\n",
      "Line_32_U: <gurobi.LinExpr: -0.4999999999999995 pg[PV_1] + -0.49999999999999944\n",
      " pg[Slack_10]> <= 6.30365\n",
      "Line_32_D: <gurobi.LinExpr: -0.4999999999999995 pg[PV_1] + -0.49999999999999944\n",
      " pg[Slack_10]> >= -11.6963\n",
      "Line_33_U: <gurobi.LinExpr: -0.49999999999999956 pg[PV_1] + -0.49999999999999956\n",
      " pg[Slack_10]> <= 6.80135\n",
      "Line_33_D: <gurobi.LinExpr: -0.49999999999999956 pg[PV_1] + -0.49999999999999956\n",
      " pg[Slack_10]> >= -11.1987\n",
      "Line_34_U: <gurobi.LinExpr: -0.5000000000000001 pg[PV_1] + -0.5000000000000001\n",
      " pg[Slack_10]> <= 8.36365\n",
      "Line_34_D: <gurobi.LinExpr: -0.5000000000000001 pg[PV_1] + -0.5000000000000001\n",
      " pg[Slack_10]> >= -9.63635\n",
      "Bounds\n",
      "  2 <= pg[PV_1] <= 15\n",
      "  1.5 <= pg[PV_2] <= 9\n",
      "  1 <= pg[PV_3] <= 8\n",
      "  1 <= pg[PV_4] <= 7\n",
      "  1 <= pg[PV_5] <= 7\n",
      "  1 <= pg[PV_6] <= 8\n",
      "  1 <= pg[PV_7] <= 7\n",
      "  1 <= pg[PV_8] <= 7\n",
      "  1 <= pg[PV_9] <= 10\n",
      "  3 <= pg[Slack_10] <= 15\n",
      "  0 <= pru[PV_1] <= 13\n",
      "  0 <= pru[PV_2] <= 7.5\n",
      "  0 <= pru[PV_3] <= 7\n",
      "  0 <= pru[PV_4] <= 6\n",
      "  0 <= pru[PV_5] <= 6\n",
      "  0 <= pru[PV_6] <= 7\n",
      "  0 <= pru[PV_7] <= 6\n",
      "  0 <= pru[PV_8] <= 6\n",
      "  0 <= pru[PV_9] <= 9\n",
      "  0 <= pru[Slack_10] <= 12\n",
      "  0 <= prd[PV_1] <= 13\n",
      "  0 <= prd[PV_2] <= 7.5\n",
      "  0 <= prd[PV_3] <= 7\n",
      "  0 <= prd[PV_4] <= 6\n",
      "  0 <= prd[PV_5] <= 6\n",
      "  0 <= prd[PV_6] <= 7\n",
      "  0 <= prd[PV_7] <= 6\n",
      "  0 <= prd[PV_8] <= 6\n",
      "  0 <= prd[PV_9] <= 9\n",
      "  0 <= prd[Slack_10] <= 12\n",
      "  0 <= Mvsg[PV_1] <= 8\n",
      "  0 <= Mvsg[PV_6] <= 8\n",
      "  0 <= Mvsg[PV_8] <= 8\n",
      "  0 <= Mvsg[PV_9] <= 8\n",
      "  0 <= Dvsg[PV_1] <= 5\n",
      "  0 <= Dvsg[PV_6] <= 5\n",
      "  0 <= Dvsg[PV_8] <= 5\n",
      "  0 <= Dvsg[PV_9] <= 5\n"
     ]
    }
   ],
   "source": [
    "ss.mdl.display()"
   ]
  },
  {
   "cell_type": "code",
   "execution_count": 25,
   "metadata": {},
   "outputs": [
    {
     "data": {
      "text/plain": [
       "0.0"
      ]
     },
     "execution_count": 25,
     "metadata": {},
     "output_type": "execute_result"
    }
   ],
   "source": [
    "ss.Mvsg['PV_1'].X"
   ]
  },
  {
   "cell_type": "code",
   "execution_count": 26,
   "metadata": {},
   "outputs": [
    {
     "data": {
      "text/plain": [
       "0.0"
      ]
     },
     "execution_count": 26,
     "metadata": {},
     "output_type": "execute_result"
    }
   ],
   "source": [
    "ss.Mvsg['PV_8'].X"
   ]
  },
  {
   "cell_type": "code",
   "execution_count": 27,
   "metadata": {},
   "outputs": [
    {
     "data": {
      "text/plain": [
       "0.0"
      ]
     },
     "execution_count": 27,
     "metadata": {},
     "output_type": "execute_result"
    }
   ],
   "source": [
    "ss.Mvsg['PV_6'].X"
   ]
  },
  {
   "cell_type": "code",
   "execution_count": 28,
   "metadata": {},
   "outputs": [
    {
     "data": {
      "text/plain": [
       "0.0"
      ]
     },
     "execution_count": 28,
     "metadata": {},
     "output_type": "execute_result"
    }
   ],
   "source": [
    "ss.Mvsg['PV_9'].X"
   ]
  }
 ],
 "metadata": {
  "interpreter": {
   "hash": "9fd2f637d50f75acdaba34db232df2fd9f5c3b2d8a0fb2dac035dfd85a42e943"
  },
  "kernelspec": {
   "display_name": "Python 3.9.12 ('andes')",
   "language": "python",
   "name": "python3"
  },
  "language_info": {
   "codemirror_mode": {
    "name": "ipython",
    "version": 3
   },
   "file_extension": ".py",
   "mimetype": "text/x-python",
   "name": "python",
   "nbconvert_exporter": "python",
   "pygments_lexer": "ipython3",
   "version": "3.9.12"
  },
  "orig_nbformat": 4
 },
 "nbformat": 4,
 "nbformat_minor": 2
}
