{
 "cells": [
  {
   "cell_type": "code",
   "execution_count": 57,
   "metadata": {},
   "outputs": [],
   "source": [
    "import torch\n",
    "import pandas as pd\n",
    "from torch import nn"
   ]
  },
  {
   "cell_type": "markdown",
   "metadata": {},
   "source": [
    "## Load network and norm data"
   ]
  },
  {
   "cell_type": "code",
   "execution_count": 58,
   "metadata": {},
   "outputs": [],
   "source": [
    "# Load frequency model\n",
    "fnn = torch.jit.load('net_fnadir.pt')\n",
    "# Load vsg power model\n",
    "pnn = torch.jit.load('net_Ppeak.pt')"
   ]
  },
  {
   "cell_type": "code",
   "execution_count": 59,
   "metadata": {},
   "outputs": [],
   "source": [
    "# load norm dadta\n",
    "fnorm = pd.read_csv('fnorm.csv')\n",
    "pnorm = pd.read_csv('pnorm.csv')\n",
    "norm = {'fnorm': fnorm, 'pnorm': pnorm }"
   ]
  },
  {
   "cell_type": "code",
   "execution_count": 60,
   "metadata": {},
   "outputs": [
    {
     "data": {
      "text/html": [
       "<div>\n",
       "<style scoped>\n",
       "    .dataframe tbody tr th:only-of-type {\n",
       "        vertical-align: middle;\n",
       "    }\n",
       "\n",
       "    .dataframe tbody tr th {\n",
       "        vertical-align: top;\n",
       "    }\n",
       "\n",
       "    .dataframe thead th {\n",
       "        text-align: right;\n",
       "    }\n",
       "</style>\n",
       "<table border=\"1\" class=\"dataframe\">\n",
       "  <thead>\n",
       "    <tr style=\"text-align: right;\">\n",
       "      <th></th>\n",
       "      <th>M</th>\n",
       "      <th>D</th>\n",
       "      <th>Fg</th>\n",
       "      <th>Rg</th>\n",
       "      <th>fnadir</th>\n",
       "    </tr>\n",
       "  </thead>\n",
       "  <tbody>\n",
       "    <tr>\n",
       "      <th>0</th>\n",
       "      <td>14.988180</td>\n",
       "      <td>7.492874</td>\n",
       "      <td>80.045126</td>\n",
       "      <td>124.959573</td>\n",
       "      <td>-0.013860</td>\n",
       "    </tr>\n",
       "    <tr>\n",
       "      <th>1</th>\n",
       "      <td>2.891501</td>\n",
       "      <td>1.438628</td>\n",
       "      <td>40.350784</td>\n",
       "      <td>43.546600</td>\n",
       "      <td>0.006387</td>\n",
       "    </tr>\n",
       "  </tbody>\n",
       "</table>\n",
       "</div>"
      ],
      "text/plain": [
       "           M         D         Fg          Rg    fnadir\n",
       "0  14.988180  7.492874  80.045126  124.959573 -0.013860\n",
       "1   2.891501  1.438628  40.350784   43.546600  0.006387"
      ]
     },
     "execution_count": 60,
     "metadata": {},
     "output_type": "execute_result"
    }
   ],
   "source": [
    "fnorm"
   ]
  },
  {
   "cell_type": "code",
   "execution_count": 61,
   "metadata": {},
   "outputs": [
    {
     "data": {
      "text/html": [
       "<div>\n",
       "<style scoped>\n",
       "    .dataframe tbody tr th:only-of-type {\n",
       "        vertical-align: middle;\n",
       "    }\n",
       "\n",
       "    .dataframe tbody tr th {\n",
       "        vertical-align: top;\n",
       "    }\n",
       "\n",
       "    .dataframe thead th {\n",
       "        text-align: right;\n",
       "    }\n",
       "</style>\n",
       "<table border=\"1\" class=\"dataframe\">\n",
       "  <thead>\n",
       "    <tr style=\"text-align: right;\">\n",
       "      <th></th>\n",
       "      <th>M</th>\n",
       "      <th>D</th>\n",
       "      <th>Fg</th>\n",
       "      <th>Rg</th>\n",
       "      <th>Mvsg</th>\n",
       "      <th>Dvsg</th>\n",
       "      <th>Ppeak</th>\n",
       "    </tr>\n",
       "  </thead>\n",
       "  <tbody>\n",
       "    <tr>\n",
       "      <th>0</th>\n",
       "      <td>14.988180</td>\n",
       "      <td>7.492874</td>\n",
       "      <td>80.045126</td>\n",
       "      <td>124.959573</td>\n",
       "      <td>4.018493</td>\n",
       "      <td>2.004602</td>\n",
       "      <td>0.143188</td>\n",
       "    </tr>\n",
       "    <tr>\n",
       "      <th>1</th>\n",
       "      <td>2.891501</td>\n",
       "      <td>1.438628</td>\n",
       "      <td>40.350784</td>\n",
       "      <td>43.546600</td>\n",
       "      <td>2.317657</td>\n",
       "      <td>1.151364</td>\n",
       "      <td>0.086313</td>\n",
       "    </tr>\n",
       "  </tbody>\n",
       "</table>\n",
       "</div>"
      ],
      "text/plain": [
       "           M         D         Fg          Rg      Mvsg      Dvsg     Ppeak\n",
       "0  14.988180  7.492874  80.045126  124.959573  4.018493  2.004602  0.143188\n",
       "1   2.891501  1.438628  40.350784   43.546600  2.317657  1.151364  0.086313"
      ]
     },
     "execution_count": 61,
     "metadata": {},
     "output_type": "execute_result"
    }
   ],
   "source": [
    "pnorm"
   ]
  },
  {
   "cell_type": "markdown",
   "metadata": {},
   "source": [
    "## Test prediction results"
   ]
  },
  {
   "cell_type": "markdown",
   "metadata": {},
   "source": [
    "### frequency prediction"
   ]
  },
  {
   "cell_type": "code",
   "execution_count": 62,
   "metadata": {},
   "outputs": [],
   "source": [
    "fmean = fnorm.iloc[0].values\n",
    "fstd = fnorm.iloc[1].values"
   ]
  },
  {
   "cell_type": "code",
   "execution_count": 63,
   "metadata": {},
   "outputs": [
    {
     "data": {
      "text/plain": [
       "tensor([-1.0334, -3.1230,  0.4945, -0.1139])"
      ]
     },
     "execution_count": 63,
     "metadata": {},
     "output_type": "execute_result"
    }
   ],
   "source": [
    "xf = [12, 3, 100, 120]   \n",
    "xf = (xf - fmean[0:4]) / fstd[0:4]\n",
    "\n",
    "xf = torch.tensor(xf, dtype=torch.float32)\n",
    "xf"
   ]
  },
  {
   "cell_type": "code",
   "execution_count": 64,
   "metadata": {},
   "outputs": [
    {
     "data": {
      "text/plain": [
       "array([-0.01259668], dtype=float32)"
      ]
     },
     "execution_count": 64,
     "metadata": {},
     "output_type": "execute_result"
    }
   ],
   "source": [
    "delta_Pe = 1\n",
    "\n",
    "delta_f = fnn(xf).detach().numpy() * fstd[4] + fmean[4]\n",
    "\n",
    "delta_f *= delta_Pe\n",
    "\n",
    "delta_f"
   ]
  },
  {
   "cell_type": "markdown",
   "metadata": {},
   "source": [
    "### vsg power prediction"
   ]
  },
  {
   "cell_type": "code",
   "execution_count": 65,
   "metadata": {},
   "outputs": [],
   "source": [
    "pmean = pnorm.iloc[0].values\n",
    "pstd = pnorm.iloc[1].values"
   ]
  },
  {
   "cell_type": "code",
   "execution_count": 67,
   "metadata": {},
   "outputs": [
    {
     "data": {
      "text/plain": [
       "tensor([-1.0334, -3.1230,  0.4945, -0.1139, -0.0080, -0.0040])"
      ]
     },
     "execution_count": 67,
     "metadata": {},
     "output_type": "execute_result"
    }
   ],
   "source": [
    "xp = [12, 3, 100, 120, 4, 2]\n",
    "\n",
    "xp = (xp - pmean[0:6]) / pstd[0:6]\n",
    "\n",
    "xp = torch.tensor(xp, dtype=torch.float32)\n",
    "\n",
    "xp\n"
   ]
  },
  {
   "cell_type": "code",
   "execution_count": 68,
   "metadata": {},
   "outputs": [
    {
     "data": {
      "text/plain": [
       "array([0.14504695], dtype=float32)"
      ]
     },
     "execution_count": 68,
     "metadata": {},
     "output_type": "execute_result"
    }
   ],
   "source": [
    "delta_Pvsg = pnn(xp).detach().numpy() * pstd[6] + pmean[6]\n",
    "\n",
    "delta_Pvsg *= delta_Pe\n",
    "\n",
    "delta_Pvsg"
   ]
  },
  {
   "cell_type": "markdown",
   "metadata": {},
   "source": [
    "## Debug Note"
   ]
  },
  {
   "cell_type": "markdown",
   "metadata": {},
   "source": [
    "TODO:\n",
    "\n",
    "1. 确认andes的base，然后框定39case各个参数的优化空间\n",
    "\n",
    "2. 在优化空间内，重新生成训练数据，并训练网络。把神经网络的训练预测结果和matlab仿真结果对比验证\n",
    "\n",
    "3. 设计ieee 39 的cost，然后验证下dcopf的结果\n",
    "\n",
    "4. 顺一遍 visopf fnadir的code，包括formulation + code\n",
    "\n",
    "5. debug 优化结果\n",
    "   和飞哥确认，gorubypy 能不能看哪些约束bounded"
   ]
  }
 ],
 "metadata": {
  "interpreter": {
   "hash": "c9fd214a1cbb3faa0a3c1156df137b0ce1633e92a85d0d747c222fbaf100e27a"
  },
  "kernelspec": {
   "display_name": "Python 3.8.13 ('d2l')",
   "language": "python",
   "name": "python3"
  },
  "language_info": {
   "codemirror_mode": {
    "name": "ipython",
    "version": 3
   },
   "file_extension": ".py",
   "mimetype": "text/x-python",
   "name": "python",
   "nbconvert_exporter": "python",
   "pygments_lexer": "ipython3",
   "version": "3.8.13"
  },
  "orig_nbformat": 4
 },
 "nbformat": 4,
 "nbformat_minor": 2
}
