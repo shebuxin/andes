{
 "cells": [
  {
   "cell_type": "code",
   "execution_count": 78,
   "metadata": {},
   "outputs": [],
   "source": [
    "import torch\n",
    "import pandas as pd\n",
    "from torch import nn"
   ]
  },
  {
   "cell_type": "markdown",
   "metadata": {},
   "source": [
    "# Test trained neural network\n",
    "use case ieee39, under the base of devise ($S_{base} = 1000 MVA$)"
   ]
  },
  {
   "cell_type": "markdown",
   "metadata": {},
   "source": [
    "## Load network and norm data"
   ]
  },
  {
   "cell_type": "code",
   "execution_count": 79,
   "metadata": {},
   "outputs": [],
   "source": [
    "# Load frequency model\n",
    "fnn = torch.jit.load('net_fnadir.pt')\n",
    "# Load vsg power model\n",
    "pnn = torch.jit.load('net_Ppeak.pt')"
   ]
  },
  {
   "cell_type": "code",
   "execution_count": 80,
   "metadata": {},
   "outputs": [],
   "source": [
    "# load norm dadta\n",
    "fnorm = pd.read_csv('fnorm.csv')\n",
    "pnorm = pd.read_csv('pnorm.csv')\n",
    "norm = {'fnorm': fnorm, 'pnorm': pnorm }"
   ]
  },
  {
   "cell_type": "code",
   "execution_count": 81,
   "metadata": {},
   "outputs": [
    {
     "data": {
      "text/html": [
       "<div>\n",
       "<style scoped>\n",
       "    .dataframe tbody tr th:only-of-type {\n",
       "        vertical-align: middle;\n",
       "    }\n",
       "\n",
       "    .dataframe tbody tr th {\n",
       "        vertical-align: top;\n",
       "    }\n",
       "\n",
       "    .dataframe thead th {\n",
       "        text-align: right;\n",
       "    }\n",
       "</style>\n",
       "<table border=\"1\" class=\"dataframe\">\n",
       "  <thead>\n",
       "    <tr style=\"text-align: right;\">\n",
       "      <th></th>\n",
       "      <th>M</th>\n",
       "      <th>D</th>\n",
       "      <th>Fg</th>\n",
       "      <th>Rg</th>\n",
       "      <th>fnadir</th>\n",
       "    </tr>\n",
       "  </thead>\n",
       "  <tbody>\n",
       "    <tr>\n",
       "      <th>0</th>\n",
       "      <td>5.546693</td>\n",
       "      <td>1.18807</td>\n",
       "      <td>10.502496</td>\n",
       "      <td>19.996914</td>\n",
       "      <td>-0.079710</td>\n",
       "    </tr>\n",
       "    <tr>\n",
       "      <th>1</th>\n",
       "      <td>0.665088</td>\n",
       "      <td>0.39706</td>\n",
       "      <td>3.747091</td>\n",
       "      <td>2.903126</td>\n",
       "      <td>0.020099</td>\n",
       "    </tr>\n",
       "  </tbody>\n",
       "</table>\n",
       "</div>"
      ],
      "text/plain": [
       "          M        D         Fg         Rg    fnadir\n",
       "0  5.546693  1.18807  10.502496  19.996914 -0.079710\n",
       "1  0.665088  0.39706   3.747091   2.903126  0.020099"
      ]
     },
     "execution_count": 81,
     "metadata": {},
     "output_type": "execute_result"
    }
   ],
   "source": [
    "fnorm"
   ]
  },
  {
   "cell_type": "code",
   "execution_count": 82,
   "metadata": {},
   "outputs": [
    {
     "data": {
      "text/html": [
       "<div>\n",
       "<style scoped>\n",
       "    .dataframe tbody tr th:only-of-type {\n",
       "        vertical-align: middle;\n",
       "    }\n",
       "\n",
       "    .dataframe tbody tr th {\n",
       "        vertical-align: top;\n",
       "    }\n",
       "\n",
       "    .dataframe thead th {\n",
       "        text-align: right;\n",
       "    }\n",
       "</style>\n",
       "<table border=\"1\" class=\"dataframe\">\n",
       "  <thead>\n",
       "    <tr style=\"text-align: right;\">\n",
       "      <th></th>\n",
       "      <th>M</th>\n",
       "      <th>D</th>\n",
       "      <th>Fg</th>\n",
       "      <th>Rg</th>\n",
       "      <th>Mvsg</th>\n",
       "      <th>Dvsg</th>\n",
       "      <th>Ppeak</th>\n",
       "    </tr>\n",
       "  </thead>\n",
       "  <tbody>\n",
       "    <tr>\n",
       "      <th>0</th>\n",
       "      <td>5.546693</td>\n",
       "      <td>1.18807</td>\n",
       "      <td>10.502496</td>\n",
       "      <td>19.996914</td>\n",
       "      <td>2.511393</td>\n",
       "      <td>1.503477</td>\n",
       "      <td>0.344717</td>\n",
       "    </tr>\n",
       "    <tr>\n",
       "      <th>1</th>\n",
       "      <td>0.665088</td>\n",
       "      <td>0.39706</td>\n",
       "      <td>3.747091</td>\n",
       "      <td>2.903126</td>\n",
       "      <td>1.448681</td>\n",
       "      <td>0.863440</td>\n",
       "      <td>0.171101</td>\n",
       "    </tr>\n",
       "  </tbody>\n",
       "</table>\n",
       "</div>"
      ],
      "text/plain": [
       "          M        D         Fg         Rg      Mvsg      Dvsg     Ppeak\n",
       "0  5.546693  1.18807  10.502496  19.996914  2.511393  1.503477  0.344717\n",
       "1  0.665088  0.39706   3.747091   2.903126  1.448681  0.863440  0.171101"
      ]
     },
     "execution_count": 82,
     "metadata": {},
     "output_type": "execute_result"
    }
   ],
   "source": [
    "pnorm"
   ]
  },
  {
   "cell_type": "markdown",
   "metadata": {},
   "source": [
    "## Test prediction results"
   ]
  },
  {
   "cell_type": "markdown",
   "metadata": {},
   "source": [
    "### frequency prediction"
   ]
  },
  {
   "cell_type": "code",
   "execution_count": 83,
   "metadata": {},
   "outputs": [],
   "source": [
    "fmean = fnorm.iloc[0].values\n",
    "fstd = fnorm.iloc[1].values"
   ]
  },
  {
   "cell_type": "code",
   "execution_count": 84,
   "metadata": {},
   "outputs": [
    {
     "data": {
      "text/plain": [
       "tensor([-0.8220, -0.4737, -0.1341,  0.0011])"
      ]
     },
     "execution_count": 84,
     "metadata": {},
     "output_type": "execute_result"
    }
   ],
   "source": [
    "xf = [5, 1, 10, 20]   \n",
    "xf = (xf - fmean[0:4]) / fstd[0:4]\n",
    "\n",
    "xf = torch.tensor(xf, dtype=torch.float32)\n",
    "xf"
   ]
  },
  {
   "cell_type": "code",
   "execution_count": 85,
   "metadata": {},
   "outputs": [
    {
     "data": {
      "text/plain": [
       "array([0.00833493], dtype=float32)"
      ]
     },
     "execution_count": 85,
     "metadata": {},
     "output_type": "execute_result"
    }
   ],
   "source": [
    "delta_Pe = -0.1\n",
    "\n",
    "delta_f = fnn(xf).detach().numpy() * fstd[4] + fmean[4]\n",
    "\n",
    "delta_f *= delta_Pe\n",
    "\n",
    "delta_f"
   ]
  },
  {
   "cell_type": "markdown",
   "metadata": {},
   "source": [
    "### vsg power prediction"
   ]
  },
  {
   "cell_type": "code",
   "execution_count": 86,
   "metadata": {},
   "outputs": [],
   "source": [
    "pmean = pnorm.iloc[0].values\n",
    "pstd = pnorm.iloc[1].values"
   ]
  },
  {
   "cell_type": "code",
   "execution_count": 87,
   "metadata": {},
   "outputs": [
    {
     "data": {
      "text/plain": [
       "tensor([-0.8220, -0.4737, -0.1341,  0.0011,  1.0276,  0.5751])"
      ]
     },
     "execution_count": 87,
     "metadata": {},
     "output_type": "execute_result"
    }
   ],
   "source": [
    "xp = [5, 1, 10, 20, 4, 2]\n",
    "\n",
    "xp = (xp - pmean[0:6]) / pstd[0:6]\n",
    "\n",
    "xp = torch.tensor(xp, dtype=torch.float32)\n",
    "\n",
    "xp\n"
   ]
  },
  {
   "cell_type": "code",
   "execution_count": 88,
   "metadata": {},
   "outputs": [
    {
     "data": {
      "text/plain": [
       "array([-0.05625215], dtype=float32)"
      ]
     },
     "execution_count": 88,
     "metadata": {},
     "output_type": "execute_result"
    }
   ],
   "source": [
    "delta_Pvsg = pnn(xp).detach().numpy() * pstd[6] + pmean[6]\n",
    "\n",
    "delta_Pvsg *= delta_Pe\n",
    "\n",
    "delta_Pvsg"
   ]
  }
 ],
 "metadata": {
  "interpreter": {
   "hash": "c9fd214a1cbb3faa0a3c1156df137b0ce1633e92a85d0d747c222fbaf100e27a"
  },
  "kernelspec": {
   "display_name": "Python 3.8.13 ('d2l')",
   "language": "python",
   "name": "python3"
  },
  "language_info": {
   "codemirror_mode": {
    "name": "ipython",
    "version": 3
   },
   "file_extension": ".py",
   "mimetype": "text/x-python",
   "name": "python",
   "nbconvert_exporter": "python",
   "pygments_lexer": "ipython3",
   "version": "3.8.13"
  },
  "orig_nbformat": 4
 },
 "nbformat": 4,
 "nbformat_minor": 2
}
