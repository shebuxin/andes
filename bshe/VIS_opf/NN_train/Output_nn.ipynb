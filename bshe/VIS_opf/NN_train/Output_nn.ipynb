{
 "cells": [
  {
   "cell_type": "code",
   "execution_count": 1,
   "metadata": {},
   "outputs": [],
   "source": [
    "import torch\n",
    "import pandas as pd\n",
    "from torch import nn"
   ]
  },
  {
   "cell_type": "markdown",
   "metadata": {},
   "source": [
    "## Load network"
   ]
  },
  {
   "cell_type": "code",
   "execution_count": 2,
   "metadata": {},
   "outputs": [
    {
     "data": {
      "text/plain": [
       "RecursiveScriptModule(\n",
       "  original_name=Sequential\n",
       "  (0): RecursiveScriptModule(original_name=Linear)\n",
       "  (1): RecursiveScriptModule(original_name=ReLU)\n",
       "  (2): RecursiveScriptModule(original_name=Linear)\n",
       ")"
      ]
     },
     "execution_count": 2,
     "metadata": {},
     "output_type": "execute_result"
    }
   ],
   "source": [
    "# Load frequency model\n",
    "fnn = torch.jit.load('net_fnadir.pt')\n",
    "fnn.eval()"
   ]
  },
  {
   "cell_type": "code",
   "execution_count": 3,
   "metadata": {},
   "outputs": [
    {
     "data": {
      "text/plain": [
       "RecursiveScriptModule(\n",
       "  original_name=Sequential\n",
       "  (0): RecursiveScriptModule(original_name=Linear)\n",
       "  (1): RecursiveScriptModule(original_name=ReLU)\n",
       "  (2): RecursiveScriptModule(original_name=Linear)\n",
       ")"
      ]
     },
     "execution_count": 3,
     "metadata": {},
     "output_type": "execute_result"
    }
   ],
   "source": [
    "# Load vsg power model\n",
    "pnn = torch.jit.load('net_Ppeak.pt')\n",
    "pnn.eval()"
   ]
  },
  {
   "cell_type": "markdown",
   "metadata": {},
   "source": [
    "## Extract data and write to csv"
   ]
  },
  {
   "cell_type": "markdown",
   "metadata": {},
   "source": [
    "### frequency network"
   ]
  },
  {
   "cell_type": "code",
   "execution_count": 4,
   "metadata": {},
   "outputs": [],
   "source": [
    "Layer = []\n",
    "for layer in fnn.children():\n",
    "    Layer.append(layer)\n",
    "\n",
    "weight1 = Layer[0].state_dict()['weight']\n",
    "bias1 = Layer[0].state_dict()['bias']\n",
    "\n",
    "weight2 = Layer[2].state_dict()['weight']\n",
    "bias2 = Layer[2].state_dict()['bias']"
   ]
  },
  {
   "cell_type": "code",
   "execution_count": 5,
   "metadata": {},
   "outputs": [],
   "source": [
    "pd.DataFrame(weight1.detach().numpy()).to_csv(\"fw1.csv\", header=None, index=False)\n",
    "pd.DataFrame(weight2.detach().numpy()).to_csv(\"fw2.csv\", header=None, index=False)\n",
    "\n",
    "pd.DataFrame(bias1.detach().numpy()).to_csv(\"fb1.csv\", header=None, index=False)\n",
    "pd.DataFrame(bias2.detach().numpy()).to_csv(\"fb2.csv\", header=None, index=False)"
   ]
  },
  {
   "cell_type": "markdown",
   "metadata": {},
   "source": [
    "### power network"
   ]
  },
  {
   "cell_type": "code",
   "execution_count": 6,
   "metadata": {},
   "outputs": [],
   "source": [
    "Layer = []\n",
    "for layer in pnn.children():\n",
    "    Layer.append(layer)\n",
    "\n",
    "weight1 = Layer[0].state_dict()['weight']\n",
    "bias1 = Layer[0].state_dict()['bias']\n",
    "\n",
    "weight2 = Layer[2].state_dict()['weight']\n",
    "bias2 = Layer[2].state_dict()['bias']"
   ]
  },
  {
   "cell_type": "code",
   "execution_count": 7,
   "metadata": {},
   "outputs": [],
   "source": [
    "pd.DataFrame(weight1.detach().numpy()).to_csv(\"pw1.csv\", header=None, index=False)\n",
    "pd.DataFrame(weight2.detach().numpy()).to_csv(\"pw2.csv\", header=None, index=False)\n",
    "\n",
    "pd.DataFrame(bias1.detach().numpy()).to_csv(\"pb1.csv\", header=None, index=False)\n",
    "pd.DataFrame(bias2.detach().numpy()).to_csv(\"pb2.csv\", header=None, index=False)"
   ]
  }
 ],
 "metadata": {
  "interpreter": {
   "hash": "c9fd214a1cbb3faa0a3c1156df137b0ce1633e92a85d0d747c222fbaf100e27a"
  },
  "kernelspec": {
   "display_name": "Python 3.8.13 ('d2l')",
   "language": "python",
   "name": "python3"
  },
  "language_info": {
   "codemirror_mode": {
    "name": "ipython",
    "version": 3
   },
   "file_extension": ".py",
   "mimetype": "text/x-python",
   "name": "python",
   "nbconvert_exporter": "python",
   "pygments_lexer": "ipython3",
   "version": "3.8.13"
  },
  "orig_nbformat": 4
 },
 "nbformat": 4,
 "nbformat_minor": 2
}
