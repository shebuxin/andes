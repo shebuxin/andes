{
 "cells": [
  {
   "cell_type": "markdown",
   "metadata": {},
   "source": [
    "# Virtual inertia scheduling (VIS) for IEEE39"
   ]
  },
  {
   "cell_type": "code",
   "execution_count": 13,
   "metadata": {},
   "outputs": [],
   "source": [
    "from andes.interop.pandapower import to_pandapower\n",
    "from andes.interop.pandapower import make_GSF, build_group_table\n",
    "import andes\n",
    "import gurobipy as gb\n",
    "import pandas as pd\n",
    "import numpy as np\n",
    "import logging\n",
    "import torch\n",
    "import os\n",
    "\n",
    "logger = logging.getLogger(__name__)\n",
    "\n",
    "from visopf import vis1, vis2, loadnn"
   ]
  },
  {
   "cell_type": "markdown",
   "metadata": {},
   "source": [
    "## load data"
   ]
  },
  {
   "cell_type": "code",
   "execution_count": 14,
   "metadata": {},
   "outputs": [],
   "source": [
    "# ----- get andes case from excel ------\n",
    "dir_path = os.path.abspath('..')\n",
    "case_path = '/VIS_opf/ieee39_vis_opf.xlsx'\n",
    "case = dir_path + case_path\n",
    "ssa = andes.load(case, no_output=True)"
   ]
  },
  {
   "cell_type": "code",
   "execution_count": 15,
   "metadata": {},
   "outputs": [],
   "source": [
    "# ----- get neural network data ------\n",
    "nn_path = '/VIS_opf/NN_train'\n",
    "nn, norm = loadnn(nn_path)"
   ]
  },
  {
   "cell_type": "markdown",
   "metadata": {},
   "source": [
    "## build optimization model and solve"
   ]
  },
  {
   "cell_type": "code",
   "execution_count": 16,
   "metadata": {},
   "outputs": [
    {
     "name": "stderr",
     "output_type": "stream",
     "text": [
      "Note: Control (dynamic) parameters are renormalized based on case Sbase rather then to andes base\n"
     ]
    }
   ],
   "source": [
    "# ----- set sim scenario -----\n",
    "ss = vis2(norm=norm, nn=nn, dpe=0.05, rocof_lim=0.033, nadir_lim=0.01)\n",
    "\n",
    "# ----- set vsg gen -----\n",
    "vsg_ieee39 = ['PV_1', 'PV_6', 'PV_8', 'PV_9']\n",
    "ss.from_andes(ssa, vsg_ieee39, Sbase=1000)\n",
    "\n",
    "# ------ set gen cost ------\n",
    "# iloc[0] - iloc[9]\n",
    "# iloc[9]: slack bus\n",
    "# iloc[0],[5],[8],[9]: vsg\n",
    "ss.cost['c1'].iloc[0] = 1\n",
    "ss.cost['c1'].iloc[5] = 0.1\n",
    "ss.cost['c1'].iloc[9] = 1.5\n",
    "ss.update_dict()\n",
    "\n",
    "# ss.costdict"
   ]
  },
  {
   "cell_type": "code",
   "execution_count": 17,
   "metadata": {},
   "outputs": [
    {
     "name": "stdout",
     "output_type": "stream",
     "text": [
      "Successfully build var.\n",
      "Successfully build obj.\n",
      "Warning for adding constraints: zero or small (< 1e-13) coefficients, ignored\n",
      "Successfully build cons.\n"
     ]
    }
   ],
   "source": [
    "ss.build()"
   ]
  },
  {
   "cell_type": "code",
   "execution_count": 18,
   "metadata": {},
   "outputs": [
    {
     "name": "stdout",
     "output_type": "stream",
     "text": [
      "Successfully build var.\n",
      "Successfully build obj.\n",
      "Warning for adding constraints: zero or small (< 1e-13) coefficients, ignored\n",
      "Successfully build cons.\n",
      "Gurobi Optimizer version 9.5.1 build v9.5.1rc2 (mac64[arm])\n",
      "Thread count: 8 physical cores, 8 logical processors, using up to 8 threads\n",
      "Optimize a model with 1040 rows, 678 columns and 11758 nonzeros\n",
      "Model fingerprint: 0x34a0a1eb\n",
      "Variable types: 358 continuous, 320 integer (320 binary)\n",
      "Coefficient statistics:\n",
      "  Matrix range     [1e-07, 1e+02]\n",
      "  Objective range  [1e-01, 2e+00]\n",
      "  Bounds range     [1e-01, 1e+01]\n",
      "  RHS range        [5e-03, 2e+03]\n",
      "Found heuristic solution: objective 56.3751019\n",
      "Presolve removed 753 rows and 450 columns\n",
      "Presolve time: 0.01s\n",
      "Presolved: 287 rows, 228 columns, 3784 nonzeros\n",
      "Variable types: 163 continuous, 65 integer (65 binary)\n",
      "\n",
      "Root relaxation: objective 5.286856e+01, 179 iterations, 0.00 seconds (0.00 work units)\n",
      "\n",
      "    Nodes    |    Current Node    |     Objective Bounds      |     Work\n",
      " Expl Unexpl |  Obj  Depth IntInf | Incumbent    BestBd   Gap | It/Node Time\n",
      "\n",
      "     0     0   52.86856    0    8   56.37510   52.86856  6.22%     -    0s\n",
      "H    0     0                      52.8719626   52.86856  0.01%     -    0s\n",
      "\n",
      "Explored 1 nodes (182 simplex iterations) in 0.03 seconds (0.02 work units)\n",
      "Thread count was 8 (of 8 available processors)\n",
      "\n",
      "Solution count 2: 52.872 56.3751 \n",
      "\n",
      "Optimal solution found (tolerance 1.00e-04)\n",
      "Best objective 5.287196262784e+01, best bound 5.286855909662e+01, gap 0.0064%\n"
     ]
    },
    {
     "name": "stderr",
     "output_type": "stream",
     "text": [
      "Msys and Dsys are normlized by devise Sbase, transform to andes Sbase when do TDS\n"
     ]
    },
    {
     "name": "stdout",
     "output_type": "stream",
     "text": [
      "--------------------- Results -------------------\n",
      "Total Cost: 52.872\n",
      "RoCof prediction: 0.00717323 ; RoCof limit: 0.033\n",
      "Nadir prediction: -0.00124301 ; Nadir limit 0.01\n"
     ]
    },
    {
     "data": {
      "text/plain": [
       "(        gen      Sn        pg       pru  prd\n",
       " 0      PV_1  10.400  4.505841  0.032994  0.0\n",
       " 1      PV_2   8.360  7.000000  0.000000  0.0\n",
       " 2      PV_3   8.437  8.000000  0.000000  0.0\n",
       " 3      PV_4  11.748  7.000000  0.000000  0.0\n",
       " 4      PV_5  10.802  7.000000  0.000000  0.0\n",
       " 5      PV_6  10.857  7.991153  0.008847  0.0\n",
       " 6      PV_7  10.252  7.000000  0.000000  0.0\n",
       " 7      PV_8   9.702  6.967006  0.032994  0.0\n",
       " 8      PV_9  16.841  0.100000  0.032994  0.0\n",
       " 9  Slack_10  11.990  3.000000  0.000000  0.0,\n",
       "     gen  Mvsg  Dvsg    pg_vsg   pru_vsg  prd_vsg  pmax_vsg  pmin_vsg\n",
       " 0  PV_1   6.0   3.0  4.505841  0.032994      0.0       8.0       0.1\n",
       " 1  PV_6   2.0   0.5  7.991153  0.008847      0.0       8.0       0.1\n",
       " 2  PV_8   6.0   3.0  6.967006  0.032994      0.0       7.0       0.1\n",
       " 3  PV_9   6.0   3.0  0.100000  0.032994      0.0      14.0       0.1,\n",
       " {'Msys': 6.970359088061873,\n",
       "  'Dsys': 1.6520947087915607,\n",
       "  'Rsys': 20.933442043222,\n",
       "  'Fsys': 12.71655652795142})"
      ]
     },
     "execution_count": 18,
     "metadata": {},
     "output_type": "execute_result"
    }
   ],
   "source": [
    "ss.get_res()"
   ]
  }
 ],
 "metadata": {
  "interpreter": {
   "hash": "9fd2f637d50f75acdaba34db232df2fd9f5c3b2d8a0fb2dac035dfd85a42e943"
  },
  "kernelspec": {
   "display_name": "Python 3.9.12 ('andes')",
   "language": "python",
   "name": "python3"
  },
  "language_info": {
   "codemirror_mode": {
    "name": "ipython",
    "version": 3
   },
   "file_extension": ".py",
   "mimetype": "text/x-python",
   "name": "python",
   "nbconvert_exporter": "python",
   "pygments_lexer": "ipython3",
   "version": "3.9.12"
  },
  "orig_nbformat": 4
 },
 "nbformat": 4,
 "nbformat_minor": 2
}
