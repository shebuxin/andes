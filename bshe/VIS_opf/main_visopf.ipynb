{
 "cells": [
  {
   "cell_type": "markdown",
   "metadata": {},
   "source": [
    "# Virtual inertia scheduling (VIS) for IEEE39"
   ]
  },
  {
   "cell_type": "code",
   "execution_count": 1,
   "metadata": {},
   "outputs": [],
   "source": [
    "from andes.interop.pandapower import to_pandapower\n",
    "from andes.interop.pandapower import make_GSF, build_group_table\n",
    "import andes\n",
    "import gurobipy as gb\n",
    "import pandas as pd\n",
    "import numpy as np\n",
    "import logging\n",
    "import torch\n",
    "import os\n",
    "\n",
    "logger = logging.getLogger(__name__)\n",
    "\n",
    "from visopf import vis1, vis2, loadnn"
   ]
  },
  {
   "cell_type": "markdown",
   "metadata": {},
   "source": [
    "## load data"
   ]
  },
  {
   "cell_type": "code",
   "execution_count": 2,
   "metadata": {},
   "outputs": [],
   "source": [
    "# ----- get andes case from excel ------\n",
    "dir_path = os.path.abspath('..')\n",
    "case_path = '/VIS_opf/ieee39_vis.xlsx'\n",
    "case = dir_path + case_path\n",
    "ssa = andes.load(case, no_output=True)"
   ]
  },
  {
   "cell_type": "code",
   "execution_count": 3,
   "metadata": {},
   "outputs": [],
   "source": [
    "# ----- get neural network data ------\n",
    "nn_path = '/VIS_opf/NN_train'\n",
    "nn, norm = loadnn(nn_path)"
   ]
  },
  {
   "cell_type": "markdown",
   "metadata": {},
   "source": [
    "## build optimization model and solve"
   ]
  },
  {
   "cell_type": "code",
   "execution_count": 4,
   "metadata": {},
   "outputs": [
    {
     "name": "stdout",
     "output_type": "stream",
     "text": [
      "Restricted license - for non-production use only - expires 2023-10-25\n"
     ]
    },
    {
     "name": "stderr",
     "output_type": "stream",
     "text": [
      "Note: \\ Control (dynamic) parameters are renormalized based on case Sbase rather then to andes base\n"
     ]
    }
   ],
   "source": [
    "# ----- set sim scenario -----\n",
    "ss = vis2(norm=norm, nn=nn, dpe=0.1, rocof_lim=0.033, nadir_lim=0.01)\n",
    "\n",
    "# ----- set vsg gen -----\n",
    "vsg_ieee39 = ['PV_1', 'PV_6', 'PV_8', 'PV_9']\n",
    "ss.from_andes(ssa, vsg_ieee39, Sbase=1000)\n",
    "\n",
    "# ------ set gen cost ------\n",
    "# iloc[0] - iloc[9]\n",
    "# iloc[9]: slack bus\n",
    "# iloc[0],[5],[8],[9]: vsg\n",
    "ss.cost['c1'].iloc[0] = 1\n",
    "ss.cost['c1'].iloc[5] = 0.1\n",
    "ss.cost['c1'].iloc[9] = 1.5\n",
    "ss.update_dict()\n",
    "\n",
    "# ss.costdict"
   ]
  },
  {
   "cell_type": "code",
   "execution_count": 5,
   "metadata": {},
   "outputs": [
    {
     "name": "stdout",
     "output_type": "stream",
     "text": [
      "Successfully build var.\n",
      "Successfully build obj.\n",
      "Warning for adding constraints: zero or small (< 1e-13) coefficients, ignored\n",
      "Successfully build cons.\n"
     ]
    }
   ],
   "source": [
    "ss.build()"
   ]
  },
  {
   "cell_type": "code",
   "execution_count": 6,
   "metadata": {},
   "outputs": [
    {
     "name": "stdout",
     "output_type": "stream",
     "text": [
      "Successfully build var.\n",
      "Successfully build obj.\n",
      "Warning for adding constraints: zero or small (< 1e-13) coefficients, ignored\n",
      "Successfully build cons.\n",
      "Gurobi Optimizer version 9.5.1 build v9.5.1rc2 (mac64[arm])\n",
      "Thread count: 8 physical cores, 8 logical processors, using up to 8 threads\n",
      "Optimize a model with 1040 rows, 678 columns and 11758 nonzeros\n",
      "Model fingerprint: 0xd8f8258c\n",
      "Variable types: 358 continuous, 320 integer (320 binary)\n",
      "Coefficient statistics:\n",
      "  Matrix range     [2e-07, 1e+02]\n",
      "  Objective range  [1e-01, 2e+00]\n",
      "  Bounds range     [1e+00, 2e+01]\n",
      "  RHS range        [2e-03, 2e+03]\n",
      "Found heuristic solution: objective 55.9204017\n",
      "Presolve removed 553 rows and 338 columns\n",
      "Presolve time: 0.02s\n",
      "Presolved: 487 rows, 340 columns, 5736 nonzeros\n",
      "Variable types: 184 continuous, 156 integer (156 binary)\n",
      "\n",
      "Root relaxation: objective 5.286400e+01, 275 iterations, 0.00 seconds (0.00 work units)\n",
      "\n",
      "    Nodes    |    Current Node    |     Objective Bounds      |     Work\n",
      " Expl Unexpl |  Obj  Depth IntInf | Incumbent    BestBd   Gap | It/Node Time\n",
      "\n",
      "     0     0   52.86400    0    2   55.92040   52.86400  5.47%     -    0s\n",
      "H    0     0                      52.8665230   52.86400  0.00%     -    0s\n",
      "\n",
      "Explored 1 nodes (304 simplex iterations) in 0.04 seconds (0.03 work units)\n",
      "Thread count was 8 (of 8 available processors)\n",
      "\n",
      "Solution count 2: 52.8665 55.9204 \n",
      "\n",
      "Optimal solution found (tolerance 1.00e-04)\n",
      "Best objective 5.286652295252e+01, best bound 5.286400000000e+01, gap 0.0048%\n"
     ]
    },
    {
     "name": "stderr",
     "output_type": "stream",
     "text": [
      "Msys and Dsys are normlized by devise Sbase, transform to andes Sbase when do TDS\n"
     ]
    },
    {
     "name": "stdout",
     "output_type": "stream",
     "text": [
      "--------------------- Results -------------------\n",
      "Total Cost: 52.8665\n",
      "RoCof prediction: 0.020265 ; RoCof limit: 0.033\n",
      "Nadir prediction: -0.00312918 ; Nadir limit 0.01\n"
     ]
    },
    {
     "data": {
      "text/plain": [
       "(        gen      Sn        pg       pru  prd\n",
       " 0      PV_1  10.400  0.000000  0.010217  0.0\n",
       " 1      PV_2   8.360  9.000000  0.000000  0.0\n",
       " 2      PV_3   8.437  8.000000  0.000000  0.0\n",
       " 3      PV_4  11.748  7.000000  0.000000  0.0\n",
       " 4      PV_5  10.802  7.000000  0.000000  0.0\n",
       " 5      PV_6  10.857  7.997197  0.002803  0.0\n",
       " 6      PV_7  10.252  7.000000  0.000000  0.0\n",
       " 7      PV_8   9.702  6.989783  0.010217  0.0\n",
       " 8      PV_9  16.841  2.577020  0.010217  0.0\n",
       " 9  Slack_10  11.990  3.000000  0.000000  0.0,\n",
       "     gen      Mvsg      Dvsg    pg_vsg   pru_vsg  prd_vsg  pmax_vsg  pmin_vsg\n",
       " 0  PV_1  0.559906  0.738456  0.000000  0.010217      0.0      15.0       0.0\n",
       " 1  PV_6  0.000000  0.000000  7.997197  0.002803      0.0       8.0       0.0\n",
       " 2  PV_8  0.559906  0.738456  6.989783  0.010217      0.0       7.0       0.0\n",
       " 3  PV_9  0.559906  0.738456  2.577020  0.010217      0.0      10.0       0.0,\n",
       " {'Msys': 4.934620684999377,\n",
       "  'Dsys': 0.8386972689880854,\n",
       "  'Rsys': 20.933442043222,\n",
       "  'Fsys': 13.259510626897656})"
      ]
     },
     "execution_count": 6,
     "metadata": {},
     "output_type": "execute_result"
    }
   ],
   "source": [
    "ss.get_res()"
   ]
  }
 ],
 "metadata": {
  "interpreter": {
   "hash": "9fd2f637d50f75acdaba34db232df2fd9f5c3b2d8a0fb2dac035dfd85a42e943"
  },
  "kernelspec": {
   "display_name": "Python 3.9.12 ('andes')",
   "language": "python",
   "name": "python3"
  },
  "language_info": {
   "codemirror_mode": {
    "name": "ipython",
    "version": 3
   },
   "file_extension": ".py",
   "mimetype": "text/x-python",
   "name": "python",
   "nbconvert_exporter": "python",
   "pygments_lexer": "ipython3",
   "version": "3.9.12"
  },
  "orig_nbformat": 4
 },
 "nbformat": 4,
 "nbformat_minor": 2
}
