{
 "cells": [
  {
   "cell_type": "code",
   "execution_count": null,
   "metadata": {},
   "outputs": [],
   "source": [
    "import os\n",
    "import andes\n",
    "import numpy as np\n",
    "import pandas as pd\n",
    "import pandapower as pp\n",
    "import matplotlib.pyplot as plt\n",
    "import scipy.stats as stat\n",
    "import seaborn as sns\n",
    "\n",
    "from andes.interop.pandapower import to_pandapower, runopp_map\n",
    "from andes.interop.pandapower import add_gencost, build_group_table\n",
    "andes.config_logger(stream_level=20)\n",
    "from math import ceil, floor\n",
    "\n",
    "# virtual inertia scheduling class\n",
    "from pdpower import make_link_table\n",
    "from opf import dcopf\n",
    "from vistds import get_andes_case"
   ]
  },
  {
   "cell_type": "code",
   "execution_count": null,
   "metadata": {},
   "outputs": [],
   "source": [
    "# ini andes attribute\n",
    "case_path = '/VIS_opf/ieee39_vis_tds.xlsx'\n",
    "ssa = get_andes_case(case_path)\n",
    "ssa.TDS.config.no_tqdm = 1 # trun off tds progress fig to speed up sim\n",
    "\n",
    "# ini load\n",
    "ptotal = ssa.PQ.as_df()['p0'].sum()\n",
    "gentotal = ssa.PV.as_df()['Sn'].sum() + ssa.Slack.as_df()['Sn'].sum()\n",
    "gentotal /= ssa.config.mva\n",
    "l_rate = ptotal/gentotal\n",
    "\n",
    "print(f'Gen capacity is: {gentotal} p.u.\\\n",
    "        \\nInitial load is: {ptotal.round(4)} p.u.\\\n",
    "        \\ninitial load rate is {l_rate*100} %' )\n"
   ]
  },
  {
   "cell_type": "code",
   "execution_count": null,
   "metadata": {},
   "outputs": [],
   "source": [
    "ss = dcopf(ssa)\n",
    "\n",
    "# add gen cost:\n",
    "# Note: if two gens have the same cost, optimization results of\n",
    "#       pandapower and gurobipy may be different.\n",
    "linearcost = [\n",
    "                1,   # PV_1 vsg\n",
    "                20, \n",
    "                20,\n",
    "                20, \n",
    "                20, \n",
    "                1,   # PV_6 vsg\n",
    "                20, \n",
    "                1,   # PV_8 vsg\n",
    "                1,   # PV_9 vsg \n",
    "                20   # slack\n",
    "            ]\n",
    "\n",
    "quadraticcost = [\n",
    "                0.001,   # PV_1 vsg\n",
    "                0.014,\n",
    "                0.020,\n",
    "                0.019,\n",
    "                0.021,\n",
    "                0.001,   # PV_6 vsg\n",
    "                0.020,\n",
    "                0.001,   # PV_8 vsg\n",
    "                0.001,   # PV_9 vsg\n",
    "                0.026    # slack\n",
    "            ]\n",
    "for i in range(10):\n",
    "    linearcost[i] /= 12\n",
    "    quadraticcost[i] /= 12\n",
    "    \n",
    "# set up cost\n",
    "ss.cost['c1'] = linearcost\n",
    "ss.cost['c2'] = quadraticcost\n",
    "ss.update_dict()"
   ]
  }
 ],
 "metadata": {
  "language_info": {
   "name": "python"
  },
  "orig_nbformat": 4
 },
 "nbformat": 4,
 "nbformat_minor": 2
}
