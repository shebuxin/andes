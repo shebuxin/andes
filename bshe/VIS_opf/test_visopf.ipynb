{
 "cells": [
  {
   "cell_type": "markdown",
   "metadata": {},
   "source": [
    "## Vistual inertia scheduling"
   ]
  },
  {
   "cell_type": "code",
   "execution_count": 1,
   "metadata": {},
   "outputs": [],
   "source": [
    "import andes\n",
    "import os\n",
    "\n",
    "from statistics import fmean\n",
    "from andes.interop.pandapower import to_pandapower\n",
    "from andes.interop.pandapower import make_GSF, build_group_table\n",
    "import gurobipy as gb\n",
    "import pandas as pd\n",
    "import numpy as np\n",
    "import logging\n",
    "\n",
    "logger = logging.getLogger(__name__)\n",
    "\n",
    "from visopf import vis1"
   ]
  },
  {
   "cell_type": "markdown",
   "metadata": {},
   "source": [
    "## Main - IEEE 39\n"
   ]
  },
  {
   "cell_type": "markdown",
   "metadata": {},
   "source": [
    "### load case from andes excel"
   ]
  },
  {
   "cell_type": "code",
   "execution_count": 2,
   "metadata": {},
   "outputs": [
    {
     "name": "stderr",
     "output_type": "stream",
     "text": [
      "REGCV2: unused data {'KpId': 50, 'KiId': 100, 'KpIq': 50, 'KiIq': 100}\n",
      "REGCV2: unused data {'KpId': 50, 'KiId': 100, 'KpIq': 50, 'KiIq': 100}\n"
     ]
    }
   ],
   "source": [
    "# get andes case from excel\n",
    "dir_path = os.path.abspath('..')\n",
    "case_path = '/VIS_opf/ieee14_vis.xlsx'\n",
    "case = dir_path + case_path\n",
    "ssa = andes.load(case, no_output=True)"
   ]
  },
  {
   "cell_type": "markdown",
   "metadata": {},
   "source": [
    "### load norm parameter"
   ]
  },
  {
   "cell_type": "code",
   "execution_count": 3,
   "metadata": {},
   "outputs": [
    {
     "data": {
      "text/plain": [
       "{'fnorm':            M          D         Fg          Rg    fnadir\n",
       " 0  19.895678  12.197409  80.138509  126.078088 -0.012637\n",
       " 1   5.744600   4.344583  39.902459   43.025549  0.005493,\n",
       " 'pnorm':            M          D         Fg          Rg      Mvsg      Dvsg     Ppeak\n",
       " 0  19.895678  12.197409  80.138509  126.078088  0.981245  2.533602  0.067277\n",
       " 1   5.744600   4.344583  39.902459   43.025549  0.587552  0.867664  0.036406}"
      ]
     },
     "execution_count": 3,
     "metadata": {},
     "output_type": "execute_result"
    }
   ],
   "source": [
    "# prepare nn data for visopf\n",
    "data_path = dir_path + '/VIS_opf/NN_train'\n",
    "\n",
    "fnorm = pd.read_csv(data_path + '/fnorm.csv')\n",
    "pnorm = pd.read_csv(data_path + '/pnorm.csv')\n",
    "norm = {'fnorm': fnorm, 'pnorm': pnorm }\n",
    "norm\n"
   ]
  },
  {
   "cell_type": "code",
   "execution_count": 4,
   "metadata": {},
   "outputs": [
    {
     "data": {
      "text/plain": [
       "5.74459957980676"
      ]
     },
     "execution_count": 4,
     "metadata": {},
     "output_type": "execute_result"
    }
   ],
   "source": [
    "# example to call norm data\n",
    "norm['fnorm']['M'].iloc[0] # mean\n",
    "norm['fnorm']['M'].iloc[1] # std "
   ]
  },
  {
   "cell_type": "markdown",
   "metadata": {},
   "source": [
    "### load nn parameter"
   ]
  },
  {
   "cell_type": "code",
   "execution_count": 5,
   "metadata": {},
   "outputs": [],
   "source": [
    "fw1 = pd.read_csv(data_path + '/fw1.csv', header=None)\n",
    "fw2 = pd.read_csv(data_path + '/fw2.csv', header=None)\n",
    "\n",
    "fb1 = pd.read_csv(data_path + '/fb1.csv', header=None)\n",
    "fb2 = pd.read_csv(data_path + '/fb2.csv', header=None)"
   ]
  },
  {
   "cell_type": "code",
   "execution_count": 6,
   "metadata": {},
   "outputs": [],
   "source": [
    "pw1 = pd.read_csv(data_path + '/pw1.csv', header=None)\n",
    "pw2 = pd.read_csv(data_path + '/pw2.csv', header=None)\n",
    "\n",
    "pb1 = pd.read_csv(data_path + '/pb1.csv', header=None)\n",
    "pb2 = pd.read_csv(data_path + '/pb2.csv', header=None)"
   ]
  },
  {
   "cell_type": "code",
   "execution_count": 7,
   "metadata": {},
   "outputs": [],
   "source": [
    "nn = {\n",
    "        'fw1': fw1,\n",
    "        'fw2': fw2,       \n",
    "        'fb1': fb1,\n",
    "        'fb2': fb2,\n",
    "        'pw1': pw1,\n",
    "        'pw2': pw2,\n",
    "        'pb1': pb1,\n",
    "        'pb2': pb2,\n",
    "    }"
   ]
  },
  {
   "cell_type": "markdown",
   "metadata": {},
   "source": [
    "### test opf model"
   ]
  },
  {
   "cell_type": "code",
   "execution_count": 8,
   "metadata": {},
   "outputs": [
    {
     "name": "stdout",
     "output_type": "stream",
     "text": [
      "Restricted license - for non-production use only - expires 2023-10-25\n"
     ]
    },
    {
     "data": {
      "text/plain": [
       "{'fnorm':            M          D         Fg          Rg    fnadir\n",
       " 0  19.895678  12.197409  80.138509  126.078088 -0.012637\n",
       " 1   5.744600   4.344583  39.902459   43.025549  0.005493,\n",
       " 'pnorm':            M          D         Fg          Rg      Mvsg      Dvsg     Ppeak\n",
       " 0  19.895678  12.197409  80.138509  126.078088  0.981245  2.533602  0.067277\n",
       " 1   5.744600   4.344583  39.902459   43.025549  0.587552  0.867664  0.036406}"
      ]
     },
     "execution_count": 8,
     "metadata": {},
     "output_type": "execute_result"
    }
   ],
   "source": [
    "ss = vis1(norm=norm, nn=nn, dpe=0.05)\n",
    "ss.norm"
   ]
  },
  {
   "cell_type": "code",
   "execution_count": 9,
   "metadata": {},
   "outputs": [
    {
     "data": {
      "text/plain": [
       "19.895678"
      ]
     },
     "execution_count": 9,
     "metadata": {},
     "output_type": "execute_result"
    }
   ],
   "source": [
    "ss.norm['fnorm']['M'].iloc[0]"
   ]
  },
  {
   "cell_type": "code",
   "execution_count": 10,
   "metadata": {},
   "outputs": [
    {
     "data": {
      "text/html": [
       "<div>\n",
       "<style scoped>\n",
       "    .dataframe tbody tr th:only-of-type {\n",
       "        vertical-align: middle;\n",
       "    }\n",
       "\n",
       "    .dataframe tbody tr th {\n",
       "        vertical-align: top;\n",
       "    }\n",
       "\n",
       "    .dataframe thead th {\n",
       "        text-align: right;\n",
       "    }\n",
       "</style>\n",
       "<table border=\"1\" class=\"dataframe\">\n",
       "  <thead>\n",
       "    <tr style=\"text-align: right;\">\n",
       "      <th></th>\n",
       "      <th>0</th>\n",
       "      <th>1</th>\n",
       "      <th>2</th>\n",
       "      <th>3</th>\n",
       "    </tr>\n",
       "  </thead>\n",
       "  <tbody>\n",
       "    <tr>\n",
       "      <th>0</th>\n",
       "      <td>0.053316</td>\n",
       "      <td>-0.018950</td>\n",
       "      <td>0.103133</td>\n",
       "      <td>0.005192</td>\n",
       "    </tr>\n",
       "    <tr>\n",
       "      <th>1</th>\n",
       "      <td>0.090899</td>\n",
       "      <td>-0.021882</td>\n",
       "      <td>-0.052110</td>\n",
       "      <td>-0.066491</td>\n",
       "    </tr>\n",
       "    <tr>\n",
       "      <th>2</th>\n",
       "      <td>-0.054552</td>\n",
       "      <td>0.081501</td>\n",
       "      <td>0.133793</td>\n",
       "      <td>0.073621</td>\n",
       "    </tr>\n",
       "    <tr>\n",
       "      <th>3</th>\n",
       "      <td>0.013614</td>\n",
       "      <td>0.007082</td>\n",
       "      <td>0.004717</td>\n",
       "      <td>-0.008138</td>\n",
       "    </tr>\n",
       "    <tr>\n",
       "      <th>4</th>\n",
       "      <td>0.017724</td>\n",
       "      <td>-0.007474</td>\n",
       "      <td>0.009466</td>\n",
       "      <td>-0.007022</td>\n",
       "    </tr>\n",
       "    <tr>\n",
       "      <th>...</th>\n",
       "      <td>...</td>\n",
       "      <td>...</td>\n",
       "      <td>...</td>\n",
       "      <td>...</td>\n",
       "    </tr>\n",
       "    <tr>\n",
       "      <th>59</th>\n",
       "      <td>0.009615</td>\n",
       "      <td>-0.005689</td>\n",
       "      <td>-0.002588</td>\n",
       "      <td>-0.018844</td>\n",
       "    </tr>\n",
       "    <tr>\n",
       "      <th>60</th>\n",
       "      <td>0.064262</td>\n",
       "      <td>-0.043027</td>\n",
       "      <td>0.112759</td>\n",
       "      <td>-0.003101</td>\n",
       "    </tr>\n",
       "    <tr>\n",
       "      <th>61</th>\n",
       "      <td>-0.140001</td>\n",
       "      <td>-0.125340</td>\n",
       "      <td>-0.942938</td>\n",
       "      <td>-0.133099</td>\n",
       "    </tr>\n",
       "    <tr>\n",
       "      <th>62</th>\n",
       "      <td>0.006305</td>\n",
       "      <td>-0.006394</td>\n",
       "      <td>-0.003145</td>\n",
       "      <td>0.004949</td>\n",
       "    </tr>\n",
       "    <tr>\n",
       "      <th>63</th>\n",
       "      <td>-0.009459</td>\n",
       "      <td>-0.012815</td>\n",
       "      <td>-0.002026</td>\n",
       "      <td>0.000786</td>\n",
       "    </tr>\n",
       "  </tbody>\n",
       "</table>\n",
       "<p>64 rows × 4 columns</p>\n",
       "</div>"
      ],
      "text/plain": [
       "           0         1         2         3\n",
       "0   0.053316 -0.018950  0.103133  0.005192\n",
       "1   0.090899 -0.021882 -0.052110 -0.066491\n",
       "2  -0.054552  0.081501  0.133793  0.073621\n",
       "3   0.013614  0.007082  0.004717 -0.008138\n",
       "4   0.017724 -0.007474  0.009466 -0.007022\n",
       "..       ...       ...       ...       ...\n",
       "59  0.009615 -0.005689 -0.002588 -0.018844\n",
       "60  0.064262 -0.043027  0.112759 -0.003101\n",
       "61 -0.140001 -0.125340 -0.942938 -0.133099\n",
       "62  0.006305 -0.006394 -0.003145  0.004949\n",
       "63 -0.009459 -0.012815 -0.002026  0.000786\n",
       "\n",
       "[64 rows x 4 columns]"
      ]
     },
     "execution_count": 10,
     "metadata": {},
     "output_type": "execute_result"
    }
   ],
   "source": [
    "ss.nn['fw1']"
   ]
  },
  {
   "cell_type": "code",
   "execution_count": 11,
   "metadata": {},
   "outputs": [
    {
     "data": {
      "text/plain": [
       "-0.021882491"
      ]
     },
     "execution_count": 11,
     "metadata": {},
     "output_type": "execute_result"
    }
   ],
   "source": [
    "ss.nn['fw1'][1].iloc[1]\n",
    "# ss.nn['fb1']"
   ]
  },
  {
   "cell_type": "code",
   "execution_count": 12,
   "metadata": {},
   "outputs": [],
   "source": [
    "ss.from_andes(ssa, ['PV_6', 'PV_7'])"
   ]
  },
  {
   "cell_type": "code",
   "execution_count": 13,
   "metadata": {},
   "outputs": [
    {
     "data": {
      "text/html": [
       "<div>\n",
       "<style scoped>\n",
       "    .dataframe tbody tr th:only-of-type {\n",
       "        vertical-align: middle;\n",
       "    }\n",
       "\n",
       "    .dataframe tbody tr th {\n",
       "        vertical-align: top;\n",
       "    }\n",
       "\n",
       "    .dataframe thead th {\n",
       "        text-align: right;\n",
       "    }\n",
       "</style>\n",
       "<table border=\"1\" class=\"dataframe\">\n",
       "  <thead>\n",
       "    <tr style=\"text-align: right;\">\n",
       "      <th></th>\n",
       "      <th>idx</th>\n",
       "      <th>u</th>\n",
       "      <th>name</th>\n",
       "      <th>Sn</th>\n",
       "      <th>Vn</th>\n",
       "      <th>bus</th>\n",
       "      <th>p0</th>\n",
       "      <th>pmax</th>\n",
       "      <th>pmin</th>\n",
       "      <th>v0</th>\n",
       "      <th>...</th>\n",
       "      <th>ramp30</th>\n",
       "      <th>type</th>\n",
       "      <th>p_pre</th>\n",
       "      <th>band</th>\n",
       "      <th>K</th>\n",
       "      <th>M</th>\n",
       "      <th>D</th>\n",
       "      <th>R</th>\n",
       "      <th>Mvsg</th>\n",
       "      <th>Dvsg</th>\n",
       "    </tr>\n",
       "  </thead>\n",
       "  <tbody>\n",
       "    <tr>\n",
       "      <th>0</th>\n",
       "      <td>PV_2</td>\n",
       "      <td>1.0</td>\n",
       "      <td>PV_2</td>\n",
       "      <td>1.0</td>\n",
       "      <td>69.0</td>\n",
       "      <td>2</td>\n",
       "      <td>0.40000</td>\n",
       "      <td>0.5</td>\n",
       "      <td>0.1</td>\n",
       "      <td>1.03</td>\n",
       "      <td>...</td>\n",
       "      <td>600</td>\n",
       "      <td>1</td>\n",
       "      <td>0</td>\n",
       "      <td>0.4</td>\n",
       "      <td>1</td>\n",
       "      <td>8.0</td>\n",
       "      <td>0.0</td>\n",
       "      <td>0.12</td>\n",
       "      <td>0.0</td>\n",
       "      <td>0.0</td>\n",
       "    </tr>\n",
       "    <tr>\n",
       "      <th>1</th>\n",
       "      <td>PV_3</td>\n",
       "      <td>1.0</td>\n",
       "      <td>PV_3</td>\n",
       "      <td>1.0</td>\n",
       "      <td>69.0</td>\n",
       "      <td>3</td>\n",
       "      <td>0.40000</td>\n",
       "      <td>0.5</td>\n",
       "      <td>0.1</td>\n",
       "      <td>1.01</td>\n",
       "      <td>...</td>\n",
       "      <td>600</td>\n",
       "      <td>1</td>\n",
       "      <td>0</td>\n",
       "      <td>0.4</td>\n",
       "      <td>1</td>\n",
       "      <td>5.0</td>\n",
       "      <td>0.0</td>\n",
       "      <td>0.12</td>\n",
       "      <td>0.0</td>\n",
       "      <td>0.0</td>\n",
       "    </tr>\n",
       "    <tr>\n",
       "      <th>2</th>\n",
       "      <td>PV_4</td>\n",
       "      <td>1.0</td>\n",
       "      <td>PV_4</td>\n",
       "      <td>1.0</td>\n",
       "      <td>138.0</td>\n",
       "      <td>6</td>\n",
       "      <td>0.30000</td>\n",
       "      <td>1.0</td>\n",
       "      <td>0.1</td>\n",
       "      <td>1.03</td>\n",
       "      <td>...</td>\n",
       "      <td>600</td>\n",
       "      <td>1</td>\n",
       "      <td>0</td>\n",
       "      <td>0.9</td>\n",
       "      <td>1</td>\n",
       "      <td>5.0</td>\n",
       "      <td>0.0</td>\n",
       "      <td>0.05</td>\n",
       "      <td>0.0</td>\n",
       "      <td>0.0</td>\n",
       "    </tr>\n",
       "    <tr>\n",
       "      <th>3</th>\n",
       "      <td>PV_5</td>\n",
       "      <td>1.0</td>\n",
       "      <td>PV_5</td>\n",
       "      <td>1.0</td>\n",
       "      <td>69.0</td>\n",
       "      <td>8</td>\n",
       "      <td>0.30000</td>\n",
       "      <td>0.5</td>\n",
       "      <td>0.1</td>\n",
       "      <td>1.03</td>\n",
       "      <td>...</td>\n",
       "      <td>600</td>\n",
       "      <td>1</td>\n",
       "      <td>0</td>\n",
       "      <td>0.4</td>\n",
       "      <td>1</td>\n",
       "      <td>10.0</td>\n",
       "      <td>0.0</td>\n",
       "      <td>0.05</td>\n",
       "      <td>0.0</td>\n",
       "      <td>0.0</td>\n",
       "    </tr>\n",
       "    <tr>\n",
       "      <th>4</th>\n",
       "      <td>PV_6</td>\n",
       "      <td>1.0</td>\n",
       "      <td>PV_6</td>\n",
       "      <td>1.0</td>\n",
       "      <td>138.0</td>\n",
       "      <td>14</td>\n",
       "      <td>0.10000</td>\n",
       "      <td>0.1</td>\n",
       "      <td>0.0</td>\n",
       "      <td>1.01</td>\n",
       "      <td>...</td>\n",
       "      <td>600</td>\n",
       "      <td>2</td>\n",
       "      <td>0</td>\n",
       "      <td>0.1</td>\n",
       "      <td>1</td>\n",
       "      <td>0.0</td>\n",
       "      <td>0.0</td>\n",
       "      <td>0.00</td>\n",
       "      <td>0.0</td>\n",
       "      <td>3.0</td>\n",
       "    </tr>\n",
       "    <tr>\n",
       "      <th>5</th>\n",
       "      <td>PV_7</td>\n",
       "      <td>1.0</td>\n",
       "      <td>PV_7</td>\n",
       "      <td>1.0</td>\n",
       "      <td>138.0</td>\n",
       "      <td>12</td>\n",
       "      <td>0.10000</td>\n",
       "      <td>0.1</td>\n",
       "      <td>0.0</td>\n",
       "      <td>1.01</td>\n",
       "      <td>...</td>\n",
       "      <td>600</td>\n",
       "      <td>2</td>\n",
       "      <td>0</td>\n",
       "      <td>0.1</td>\n",
       "      <td>1</td>\n",
       "      <td>0.0</td>\n",
       "      <td>0.0</td>\n",
       "      <td>0.00</td>\n",
       "      <td>6.0</td>\n",
       "      <td>2.0</td>\n",
       "    </tr>\n",
       "    <tr>\n",
       "      <th>6</th>\n",
       "      <td>Slack_1</td>\n",
       "      <td>1.0</td>\n",
       "      <td>Slack_1</td>\n",
       "      <td>1.0</td>\n",
       "      <td>69.0</td>\n",
       "      <td>1</td>\n",
       "      <td>0.81442</td>\n",
       "      <td>3.0</td>\n",
       "      <td>0.5</td>\n",
       "      <td>1.03</td>\n",
       "      <td>...</td>\n",
       "      <td>600</td>\n",
       "      <td>1</td>\n",
       "      <td>0</td>\n",
       "      <td>2.5</td>\n",
       "      <td>1</td>\n",
       "      <td>8.0</td>\n",
       "      <td>0.0</td>\n",
       "      <td>0.12</td>\n",
       "      <td>0.0</td>\n",
       "      <td>0.0</td>\n",
       "    </tr>\n",
       "  </tbody>\n",
       "</table>\n",
       "<p>7 rows × 23 columns</p>\n",
       "</div>"
      ],
      "text/plain": [
       "       idx    u     name   Sn     Vn  bus       p0  pmax  pmin    v0  ...  \\\n",
       "0     PV_2  1.0     PV_2  1.0   69.0    2  0.40000   0.5   0.1  1.03  ...   \n",
       "1     PV_3  1.0     PV_3  1.0   69.0    3  0.40000   0.5   0.1  1.01  ...   \n",
       "2     PV_4  1.0     PV_4  1.0  138.0    6  0.30000   1.0   0.1  1.03  ...   \n",
       "3     PV_5  1.0     PV_5  1.0   69.0    8  0.30000   0.5   0.1  1.03  ...   \n",
       "4     PV_6  1.0     PV_6  1.0  138.0   14  0.10000   0.1   0.0  1.01  ...   \n",
       "5     PV_7  1.0     PV_7  1.0  138.0   12  0.10000   0.1   0.0  1.01  ...   \n",
       "6  Slack_1  1.0  Slack_1  1.0   69.0    1  0.81442   3.0   0.5  1.03  ...   \n",
       "\n",
       "   ramp30  type  p_pre  band  K     M    D     R  Mvsg  Dvsg  \n",
       "0     600     1      0   0.4  1   8.0  0.0  0.12   0.0   0.0  \n",
       "1     600     1      0   0.4  1   5.0  0.0  0.12   0.0   0.0  \n",
       "2     600     1      0   0.9  1   5.0  0.0  0.05   0.0   0.0  \n",
       "3     600     1      0   0.4  1  10.0  0.0  0.05   0.0   0.0  \n",
       "4     600     2      0   0.1  1   0.0  0.0  0.00   0.0   3.0  \n",
       "5     600     2      0   0.1  1   0.0  0.0  0.00   6.0   2.0  \n",
       "6     600     1      0   2.5  1   8.0  0.0  0.12   0.0   0.0  \n",
       "\n",
       "[7 rows x 23 columns]"
      ]
     },
     "execution_count": 13,
     "metadata": {},
     "output_type": "execute_result"
    }
   ],
   "source": [
    "ss.gen"
   ]
  },
  {
   "cell_type": "code",
   "execution_count": 14,
   "metadata": {},
   "outputs": [],
   "source": [
    "# ss.gendict"
   ]
  },
  {
   "cell_type": "code",
   "execution_count": 15,
   "metadata": {},
   "outputs": [
    {
     "data": {
      "text/plain": [
       "{'fnorm':            M          D         Fg          Rg    fnadir\n",
       " 0  19.895678  12.197409  80.138509  126.078088 -0.012637\n",
       " 1   5.744600   4.344583  39.902459   43.025549  0.005493,\n",
       " 'pnorm':            M          D         Fg          Rg      Mvsg      Dvsg     Ppeak\n",
       " 0  19.895678  12.197409  80.138509  126.078088  0.981245  2.533602  0.067277\n",
       " 1   5.744600   4.344583  39.902459   43.025549  0.587552  0.867664  0.036406}"
      ]
     },
     "execution_count": 15,
     "metadata": {},
     "output_type": "execute_result"
    }
   ],
   "source": [
    "ss.norm"
   ]
  },
  {
   "cell_type": "code",
   "execution_count": 16,
   "metadata": {},
   "outputs": [],
   "source": [
    "a_test = []\n",
    "for i in range(64):\n",
    "    a_test.append('a'+str(i))\n",
    "# a_test"
   ]
  },
  {
   "cell_type": "code",
   "execution_count": 17,
   "metadata": {},
   "outputs": [],
   "source": [
    "# ss.Mvsg"
   ]
  },
  {
   "cell_type": "code",
   "execution_count": 18,
   "metadata": {},
   "outputs": [],
   "source": [
    "# ss.pru"
   ]
  },
  {
   "cell_type": "code",
   "execution_count": 19,
   "metadata": {},
   "outputs": [
    {
     "data": {
      "text/plain": [
       "{'PV_2': {'c2': 0, 'c1': 1, 'c0': 0, 'cr': 0, 'cru': 0, 'crd': 0},\n",
       " 'PV_3': {'c2': 0, 'c1': 1, 'c0': 0, 'cr': 0, 'cru': 0, 'crd': 0},\n",
       " 'PV_4': {'c2': 0, 'c1': 1, 'c0': 0, 'cr': 0, 'cru': 0, 'crd': 0},\n",
       " 'PV_5': {'c2': 0, 'c1': 1, 'c0': 0, 'cr': 0, 'cru': 0, 'crd': 0},\n",
       " 'PV_6': {'c2': 0, 'c1': 1, 'c0': 0, 'cr': 0, 'cru': 0, 'crd': 0},\n",
       " 'PV_7': {'c2': 0, 'c1': 1, 'c0': 0, 'cr': 0, 'cru': 0, 'crd': 0},\n",
       " 'Slack_1': {'c2': 0, 'c1': 1, 'c0': 0, 'cr': 0, 'cru': 0, 'crd': 0}}"
      ]
     },
     "execution_count": 19,
     "metadata": {},
     "output_type": "execute_result"
    }
   ],
   "source": [
    "ss.costdict"
   ]
  },
  {
   "cell_type": "code",
   "execution_count": 20,
   "metadata": {},
   "outputs": [
    {
     "data": {
      "text/plain": [
       "dict_keys(['PV_2', 'PV_3', 'PV_4', 'PV_5', 'PV_6', 'PV_7', 'Slack_1'])"
      ]
     },
     "execution_count": 20,
     "metadata": {},
     "output_type": "execute_result"
    }
   ],
   "source": [
    "ss.gendict.keys()"
   ]
  },
  {
   "cell_type": "code",
   "execution_count": 21,
   "metadata": {},
   "outputs": [
    {
     "data": {
      "text/plain": [
       "0.009975906"
      ]
     },
     "execution_count": 21,
     "metadata": {},
     "output_type": "execute_result"
    }
   ],
   "source": [
    "ss.nn['fw2'][4].iloc[0]"
   ]
  },
  {
   "cell_type": "code",
   "execution_count": 22,
   "metadata": {},
   "outputs": [
    {
     "data": {
      "text/html": [
       "<div>\n",
       "<style scoped>\n",
       "    .dataframe tbody tr th:only-of-type {\n",
       "        vertical-align: middle;\n",
       "    }\n",
       "\n",
       "    .dataframe tbody tr th {\n",
       "        vertical-align: top;\n",
       "    }\n",
       "\n",
       "    .dataframe thead th {\n",
       "        text-align: right;\n",
       "    }\n",
       "</style>\n",
       "<table border=\"1\" class=\"dataframe\">\n",
       "  <thead>\n",
       "    <tr style=\"text-align: right;\">\n",
       "      <th></th>\n",
       "      <th>0</th>\n",
       "    </tr>\n",
       "  </thead>\n",
       "  <tbody>\n",
       "    <tr>\n",
       "      <th>0</th>\n",
       "      <td>0.288764</td>\n",
       "    </tr>\n",
       "    <tr>\n",
       "      <th>1</th>\n",
       "      <td>0.193274</td>\n",
       "    </tr>\n",
       "    <tr>\n",
       "      <th>2</th>\n",
       "      <td>0.329569</td>\n",
       "    </tr>\n",
       "    <tr>\n",
       "      <th>3</th>\n",
       "      <td>-0.045777</td>\n",
       "    </tr>\n",
       "    <tr>\n",
       "      <th>4</th>\n",
       "      <td>-0.388495</td>\n",
       "    </tr>\n",
       "    <tr>\n",
       "      <th>...</th>\n",
       "      <td>...</td>\n",
       "    </tr>\n",
       "    <tr>\n",
       "      <th>59</th>\n",
       "      <td>-0.407754</td>\n",
       "    </tr>\n",
       "    <tr>\n",
       "      <th>60</th>\n",
       "      <td>0.345564</td>\n",
       "    </tr>\n",
       "    <tr>\n",
       "      <th>61</th>\n",
       "      <td>-1.168843</td>\n",
       "    </tr>\n",
       "    <tr>\n",
       "      <th>62</th>\n",
       "      <td>-0.120155</td>\n",
       "    </tr>\n",
       "    <tr>\n",
       "      <th>63</th>\n",
       "      <td>0.210995</td>\n",
       "    </tr>\n",
       "  </tbody>\n",
       "</table>\n",
       "<p>64 rows × 1 columns</p>\n",
       "</div>"
      ],
      "text/plain": [
       "           0\n",
       "0   0.288764\n",
       "1   0.193274\n",
       "2   0.329569\n",
       "3  -0.045777\n",
       "4  -0.388495\n",
       "..       ...\n",
       "59 -0.407754\n",
       "60  0.345564\n",
       "61 -1.168843\n",
       "62 -0.120155\n",
       "63  0.210995\n",
       "\n",
       "[64 rows x 1 columns]"
      ]
     },
     "execution_count": 22,
     "metadata": {},
     "output_type": "execute_result"
    }
   ],
   "source": [
    "ss.nn['fb1']"
   ]
  },
  {
   "cell_type": "code",
   "execution_count": 23,
   "metadata": {},
   "outputs": [
    {
     "data": {
      "text/plain": [
       "-0.09059838"
      ]
     },
     "execution_count": 23,
     "metadata": {},
     "output_type": "execute_result"
    }
   ],
   "source": [
    "ss.nn['fb2'][0].iloc[0]"
   ]
  },
  {
   "cell_type": "code",
   "execution_count": 24,
   "metadata": {},
   "outputs": [
    {
     "name": "stdout",
     "output_type": "stream",
     "text": [
      "Successfully build var.\n",
      "Successfully build obj.\n",
      "Successfully build cons.\n"
     ]
    }
   ],
   "source": [
    "ss.build()\n",
    "\n",
    "# ss.mdl.optimize()"
   ]
  },
  {
   "cell_type": "code",
   "execution_count": 25,
   "metadata": {},
   "outputs": [
    {
     "data": {
      "text/plain": [
       "<zip at 0x146f25940>"
      ]
     },
     "execution_count": 25,
     "metadata": {},
     "output_type": "execute_result"
    }
   ],
   "source": [
    "zip(ss.zf_key, ss.af_key, ss.zf_bar)"
   ]
  },
  {
   "cell_type": "code",
   "execution_count": 26,
   "metadata": {},
   "outputs": [
    {
     "name": "stdout",
     "output_type": "stream",
     "text": [
      "Minimize\n",
      "  <gurobi.LinExpr: 0.0>\n",
      "Subject To\n"
     ]
    }
   ],
   "source": [
    "ss.mdl.display()"
   ]
  },
  {
   "cell_type": "code",
   "execution_count": 27,
   "metadata": {},
   "outputs": [
    {
     "name": "stdout",
     "output_type": "stream",
     "text": [
      "Successfully build var.\n",
      "Successfully build obj.\n",
      "Successfully build cons.\n",
      "Gurobi Optimizer version 9.5.1 build v9.5.1rc2 (mac64[arm])\n",
      "Thread count: 8 physical cores, 8 logical processors, using up to 8 threads\n",
      "Optimize a model with 228 rows, 153 columns and 1769 nonzeros\n",
      "Model fingerprint: 0x40b0b1ec\n",
      "Variable types: 89 continuous, 64 integer (64 binary)\n",
      "Coefficient statistics:\n",
      "  Matrix range     [2e-07, 1e+02]\n",
      "  Objective range  [1e+00, 1e+00]\n",
      "  Bounds range     [1e-01, 5e+00]\n",
      "  RHS range        [1e-03, 1e+02]\n",
      "Found heuristic solution: objective 2.2870000\n",
      "Presolve removed 220 rows and 142 columns\n",
      "Presolve time: 0.00s\n",
      "Presolved: 8 rows, 11 columns, 39 nonzeros\n",
      "Variable types: 9 continuous, 2 integer (2 binary)\n",
      "\n",
      "Root relaxation: cutoff, 0 iterations, 0.00 seconds (0.00 work units)\n",
      "\n",
      "Explored 1 nodes (0 simplex iterations) in 0.00 seconds (0.00 work units)\n",
      "Thread count was 8 (of 8 available processors)\n",
      "\n",
      "Solution count 1: 2.287 \n",
      "\n",
      "Optimal solution found (tolerance 1.00e-04)\n",
      "Best objective 2.287000000000e+00, best bound 2.287000000000e+00, gap 0.0000%\n"
     ]
    },
    {
     "name": "stderr",
     "output_type": "stream",
     "text": [
      "Successfully solve vis1.\n"
     ]
    },
    {
     "data": {
      "text/html": [
       "<div>\n",
       "<style scoped>\n",
       "    .dataframe tbody tr th:only-of-type {\n",
       "        vertical-align: middle;\n",
       "    }\n",
       "\n",
       "    .dataframe tbody tr th {\n",
       "        vertical-align: top;\n",
       "    }\n",
       "\n",
       "    .dataframe thead th {\n",
       "        text-align: right;\n",
       "    }\n",
       "</style>\n",
       "<table border=\"1\" class=\"dataframe\">\n",
       "  <thead>\n",
       "    <tr style=\"text-align: right;\">\n",
       "      <th></th>\n",
       "      <th>gen</th>\n",
       "      <th>pg</th>\n",
       "      <th>pru</th>\n",
       "      <th>prd</th>\n",
       "    </tr>\n",
       "  </thead>\n",
       "  <tbody>\n",
       "    <tr>\n",
       "      <th>0</th>\n",
       "      <td>PV_2</td>\n",
       "      <td>0.100</td>\n",
       "      <td>0.0</td>\n",
       "      <td>0.0</td>\n",
       "    </tr>\n",
       "    <tr>\n",
       "      <th>1</th>\n",
       "      <td>PV_3</td>\n",
       "      <td>0.100</td>\n",
       "      <td>0.0</td>\n",
       "      <td>0.0</td>\n",
       "    </tr>\n",
       "    <tr>\n",
       "      <th>2</th>\n",
       "      <td>PV_4</td>\n",
       "      <td>0.100</td>\n",
       "      <td>0.0</td>\n",
       "      <td>0.0</td>\n",
       "    </tr>\n",
       "    <tr>\n",
       "      <th>3</th>\n",
       "      <td>PV_5</td>\n",
       "      <td>0.100</td>\n",
       "      <td>0.0</td>\n",
       "      <td>0.0</td>\n",
       "    </tr>\n",
       "    <tr>\n",
       "      <th>4</th>\n",
       "      <td>PV_6</td>\n",
       "      <td>0.100</td>\n",
       "      <td>0.0</td>\n",
       "      <td>0.0</td>\n",
       "    </tr>\n",
       "    <tr>\n",
       "      <th>5</th>\n",
       "      <td>PV_7</td>\n",
       "      <td>0.100</td>\n",
       "      <td>0.0</td>\n",
       "      <td>0.0</td>\n",
       "    </tr>\n",
       "    <tr>\n",
       "      <th>6</th>\n",
       "      <td>Slack_1</td>\n",
       "      <td>1.687</td>\n",
       "      <td>0.0</td>\n",
       "      <td>0.0</td>\n",
       "    </tr>\n",
       "  </tbody>\n",
       "</table>\n",
       "</div>"
      ],
      "text/plain": [
       "       gen     pg  pru  prd\n",
       "0     PV_2  0.100  0.0  0.0\n",
       "1     PV_3  0.100  0.0  0.0\n",
       "2     PV_4  0.100  0.0  0.0\n",
       "3     PV_5  0.100  0.0  0.0\n",
       "4     PV_6  0.100  0.0  0.0\n",
       "5     PV_7  0.100  0.0  0.0\n",
       "6  Slack_1  1.687  0.0  0.0"
      ]
     },
     "execution_count": 27,
     "metadata": {},
     "output_type": "execute_result"
    }
   ],
   "source": [
    "ss.get_res()"
   ]
  },
  {
   "cell_type": "code",
   "execution_count": 28,
   "metadata": {},
   "outputs": [
    {
     "data": {
      "text/plain": [
       "<gurobi.LinExpr: 5.142857142857142 + 0.14285714285714285 Mvsg[PV_6] + 0.14285714285714285 Mvsg[PV_7]>"
      ]
     },
     "execution_count": 28,
     "metadata": {},
     "output_type": "execute_result"
    }
   ],
   "source": [
    "ss.load.p0.sum()\n",
    "\n",
    "ss.rocof\n",
    "\n",
    "ss.Msys # check whether dpe is reasonable"
   ]
  },
  {
   "cell_type": "code",
   "execution_count": 29,
   "metadata": {},
   "outputs": [
    {
     "data": {
      "text/plain": [
       "{'PV_2': {'c2': 0, 'c1': 1, 'c0': 0, 'cr': 0, 'cru': 0, 'crd': 0},\n",
       " 'PV_3': {'c2': 0, 'c1': 1, 'c0': 0, 'cr': 0, 'cru': 0, 'crd': 0},\n",
       " 'PV_4': {'c2': 0, 'c1': 1, 'c0': 0, 'cr': 0, 'cru': 0, 'crd': 0},\n",
       " 'PV_5': {'c2': 0, 'c1': 1, 'c0': 0, 'cr': 0, 'cru': 0, 'crd': 0},\n",
       " 'PV_6': {'c2': 0, 'c1': 1, 'c0': 0, 'cr': 0, 'cru': 0, 'crd': 0},\n",
       " 'PV_7': {'c2': 0, 'c1': 1, 'c0': 0, 'cr': 0, 'cru': 0, 'crd': 0},\n",
       " 'Slack_1': {'c2': 0, 'c1': 1, 'c0': 0, 'cr': 0, 'cru': 0, 'crd': 0}}"
      ]
     },
     "execution_count": 29,
     "metadata": {},
     "output_type": "execute_result"
    }
   ],
   "source": [
    "ss.costdict"
   ]
  },
  {
   "cell_type": "code",
   "execution_count": 30,
   "metadata": {},
   "outputs": [
    {
     "data": {
      "text/plain": [
       "{'zf0': <gurobi.Var zf[zf0] (value 0.0)>,\n",
       " 'zf1': <gurobi.Var zf[zf1] (value 0.2903845139326471)>,\n",
       " 'zf2': <gurobi.Var zf[zf2] (value 0.0)>,\n",
       " 'zf3': <gurobi.Var zf[zf3] (value 0.0)>,\n",
       " 'zf4': <gurobi.Var zf[zf4] (value 0.0)>,\n",
       " 'zf5': <gurobi.Var zf[zf5] (value 0.0)>,\n",
       " 'zf6': <gurobi.Var zf[zf6] (value 0.7514790790118727)>,\n",
       " 'zf7': <gurobi.Var zf[zf7] (value 0.5509051041506533)>,\n",
       " 'zf8': <gurobi.Var zf[zf8] (value 0.0)>,\n",
       " 'zf9': <gurobi.Var zf[zf9] (value 0.8105644520230719)>,\n",
       " 'zf10': <gurobi.Var zf[zf10] (value 0.5575928801176224)>,\n",
       " 'zf11': <gurobi.Var zf[zf11] (value 0.7277826137771208)>,\n",
       " 'zf12': <gurobi.Var zf[zf12] (value 0.0)>,\n",
       " 'zf13': <gurobi.Var zf[zf13] (value 0.0)>,\n",
       " 'zf14': <gurobi.Var zf[zf14] (value 0.0)>,\n",
       " 'zf15': <gurobi.Var zf[zf15] (value 0.5087339733179589)>,\n",
       " 'zf16': <gurobi.Var zf[zf16] (value 0.48162688443593943)>,\n",
       " 'zf17': <gurobi.Var zf[zf17] (value 0.03020337235283164)>,\n",
       " 'zf18': <gurobi.Var zf[zf18] (value 0.0)>,\n",
       " 'zf19': <gurobi.Var zf[zf19] (value 0.7111239353784026)>,\n",
       " 'zf20': <gurobi.Var zf[zf20] (value 0.10965159873746674)>,\n",
       " 'zf21': <gurobi.Var zf[zf21] (value 0.34932039186207364)>,\n",
       " 'zf22': <gurobi.Var zf[zf22] (value 0.0)>,\n",
       " 'zf23': <gurobi.Var zf[zf23] (value 0.0)>,\n",
       " 'zf24': <gurobi.Var zf[zf24] (value 0.7064977948129251)>,\n",
       " 'zf25': <gurobi.Var zf[zf25] (value 0.0)>,\n",
       " 'zf26': <gurobi.Var zf[zf26] (value 0.0)>,\n",
       " 'zf27': <gurobi.Var zf[zf27] (value 0.0)>,\n",
       " 'zf28': <gurobi.Var zf[zf28] (value 0.8636761797063202)>,\n",
       " 'zf29': <gurobi.Var zf[zf29] (value 0.0)>,\n",
       " 'zf30': <gurobi.Var zf[zf30] (value 0.0)>,\n",
       " 'zf31': <gurobi.Var zf[zf31] (value 0.0)>,\n",
       " 'zf32': <gurobi.Var zf[zf32] (value 0.0)>,\n",
       " 'zf33': <gurobi.Var zf[zf33] (value 0.0)>,\n",
       " 'zf34': <gurobi.Var zf[zf34] (value 0.0)>,\n",
       " 'zf35': <gurobi.Var zf[zf35] (value 0.06180836460642558)>,\n",
       " 'zf36': <gurobi.Var zf[zf36] (value 0.0)>,\n",
       " 'zf37': <gurobi.Var zf[zf37] (value 0.0)>,\n",
       " 'zf38': <gurobi.Var zf[zf38] (value 0.0)>,\n",
       " 'zf39': <gurobi.Var zf[zf39] (value 0.0)>,\n",
       " 'zf40': <gurobi.Var zf[zf40] (value 0.0)>,\n",
       " 'zf41': <gurobi.Var zf[zf41] (value 0.0)>,\n",
       " 'zf42': <gurobi.Var zf[zf42] (value 0.0)>,\n",
       " 'zf43': <gurobi.Var zf[zf43] (value 0.0)>,\n",
       " 'zf44': <gurobi.Var zf[zf44] (value 0.0)>,\n",
       " 'zf45': <gurobi.Var zf[zf45] (value 0.0)>,\n",
       " 'zf46': <gurobi.Var zf[zf46] (value 0.022412098492615953)>,\n",
       " 'zf47': <gurobi.Var zf[zf47] (value 0.0)>,\n",
       " 'zf48': <gurobi.Var zf[zf48] (value 0.5999105806965341)>,\n",
       " 'zf49': <gurobi.Var zf[zf49] (value 0.0)>,\n",
       " 'zf50': <gurobi.Var zf[zf50] (value 0.05892583860576613)>,\n",
       " 'zf51': <gurobi.Var zf[zf51] (value 1.3097890103503)>,\n",
       " 'zf52': <gurobi.Var zf[zf52] (value 0.37032426070598606)>,\n",
       " 'zf53': <gurobi.Var zf[zf53] (value 0.0)>,\n",
       " 'zf54': <gurobi.Var zf[zf54] (value 0.17380956363468325)>,\n",
       " 'zf55': <gurobi.Var zf[zf55] (value 0.0)>,\n",
       " 'zf56': <gurobi.Var zf[zf56] (value 0.5736021744426951)>,\n",
       " 'zf57': <gurobi.Var zf[zf57] (value 0.0)>,\n",
       " 'zf58': <gurobi.Var zf[zf58] (value 0.21835391464547907)>,\n",
       " 'zf59': <gurobi.Var zf[zf59] (value 0.0)>,\n",
       " 'zf60': <gurobi.Var zf[zf60] (value 0.08406363217382161)>,\n",
       " 'zf61': <gurobi.Var zf[zf61] (value 1.6634936934340976)>,\n",
       " 'zf62': <gurobi.Var zf[zf62] (value 0.0)>,\n",
       " 'zf63': <gurobi.Var zf[zf63] (value 0.2700578010874853)>}"
      ]
     },
     "execution_count": 30,
     "metadata": {},
     "output_type": "execute_result"
    }
   ],
   "source": [
    "ss.zf\n"
   ]
  },
  {
   "cell_type": "code",
   "execution_count": null,
   "metadata": {},
   "outputs": [],
   "source": [
    "ss.mdl.display()"
   ]
  }
 ],
 "metadata": {
  "interpreter": {
   "hash": "9fd2f637d50f75acdaba34db232df2fd9f5c3b2d8a0fb2dac035dfd85a42e943"
  },
  "kernelspec": {
   "display_name": "Python 3.9.12 ('andes')",
   "language": "python",
   "name": "python3"
  },
  "language_info": {
   "codemirror_mode": {
    "name": "ipython",
    "version": 3
   },
   "file_extension": ".py",
   "mimetype": "text/x-python",
   "name": "python",
   "nbconvert_exporter": "python",
   "pygments_lexer": "ipython3",
   "version": "3.9.12"
  },
  "orig_nbformat": 4
 },
 "nbformat": 4,
 "nbformat_minor": 2
}
