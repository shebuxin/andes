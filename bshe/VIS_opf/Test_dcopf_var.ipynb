{
 "cells": [
  {
   "cell_type": "code",
   "execution_count": 12,
   "metadata": {},
   "outputs": [],
   "source": [
    "import andes\n",
    "import os\n",
    "\n",
    "from andes.interop.pandapower import to_pandapower\n",
    "from andes.interop.pandapower import make_GSF, build_group_table\n",
    "import gurobipy as gb\n",
    "import pandas as pd\n",
    "import numpy as np\n",
    "import logging\n",
    "logger = logging.getLogger(__name__)\n",
    "\n",
    "# import opf class created by jwang\n",
    "from opf import dcopf"
   ]
  },
  {
   "cell_type": "markdown",
   "metadata": {},
   "source": [
    "## Test DCOPF model created by Jinning Wang\n"
   ]
  },
  {
   "cell_type": "markdown",
   "metadata": {},
   "source": [
    "## Test (main)\n",
    "\n",
    "show examples of editing dataframe\n"
   ]
  },
  {
   "cell_type": "code",
   "execution_count": 14,
   "metadata": {},
   "outputs": [],
   "source": [
    "# get andes case from excel\n",
    "dir_path = os.path.abspath('..')\n",
    "case_path = '/VIS_opf/ieee14_vsg.xlsx'\n",
    "case = dir_path + case_path\n",
    "ssa = andes.load(case, no_output=True)"
   ]
  },
  {
   "cell_type": "code",
   "execution_count": 15,
   "metadata": {},
   "outputs": [],
   "source": [
    "stg = build_group_table(ssa, 'StaticGen', ['u', 'idx']).reset_index(drop=True)"
   ]
  },
  {
   "cell_type": "code",
   "execution_count": 16,
   "metadata": {},
   "outputs": [
    {
     "data": {
      "text/html": [
       "<div>\n",
       "<style scoped>\n",
       "    .dataframe tbody tr th:only-of-type {\n",
       "        vertical-align: middle;\n",
       "    }\n",
       "\n",
       "    .dataframe tbody tr th {\n",
       "        vertical-align: top;\n",
       "    }\n",
       "\n",
       "    .dataframe thead th {\n",
       "        text-align: right;\n",
       "    }\n",
       "</style>\n",
       "<table border=\"1\" class=\"dataframe\">\n",
       "  <thead>\n",
       "    <tr style=\"text-align: right;\">\n",
       "      <th></th>\n",
       "      <th>u</th>\n",
       "      <th>idx</th>\n",
       "    </tr>\n",
       "  </thead>\n",
       "  <tbody>\n",
       "    <tr>\n",
       "      <th>0</th>\n",
       "      <td>1.0</td>\n",
       "      <td>PV_2</td>\n",
       "    </tr>\n",
       "    <tr>\n",
       "      <th>1</th>\n",
       "      <td>1.0</td>\n",
       "      <td>PV_3</td>\n",
       "    </tr>\n",
       "    <tr>\n",
       "      <th>2</th>\n",
       "      <td>1.0</td>\n",
       "      <td>PV_4</td>\n",
       "    </tr>\n",
       "    <tr>\n",
       "      <th>3</th>\n",
       "      <td>1.0</td>\n",
       "      <td>PV_5</td>\n",
       "    </tr>\n",
       "    <tr>\n",
       "      <th>4</th>\n",
       "      <td>1.0</td>\n",
       "      <td>PV_6</td>\n",
       "    </tr>\n",
       "    <tr>\n",
       "      <th>5</th>\n",
       "      <td>1.0</td>\n",
       "      <td>PV_7</td>\n",
       "    </tr>\n",
       "    <tr>\n",
       "      <th>6</th>\n",
       "      <td>1.0</td>\n",
       "      <td>Slack_1</td>\n",
       "    </tr>\n",
       "  </tbody>\n",
       "</table>\n",
       "</div>"
      ],
      "text/plain": [
       "     u      idx\n",
       "0  1.0     PV_2\n",
       "1  1.0     PV_3\n",
       "2  1.0     PV_4\n",
       "3  1.0     PV_5\n",
       "4  1.0     PV_6\n",
       "5  1.0     PV_7\n",
       "6  1.0  Slack_1"
      ]
     },
     "execution_count": 16,
     "metadata": {},
     "output_type": "execute_result"
    }
   ],
   "source": [
    "stg\n",
    "# build_group_table    把选中两个andes file按照head 合并\n",
    "# 'StaticGen' 在andes 里面默认包含 PV 和 slack\n",
    "# 这种包含关系在 andes model reference 里面查"
   ]
  },
  {
   "cell_type": "code",
   "execution_count": 17,
   "metadata": {},
   "outputs": [],
   "source": [
    "genrou = ssa.GENROU.as_df()[['idx', 'gen', 'M', 'D']].rename(columns={'idx':'genr'})"
   ]
  },
  {
   "cell_type": "code",
   "execution_count": 18,
   "metadata": {},
   "outputs": [],
   "source": [
    "res = pd.merge(left=stg.rename(columns={'idx':'gen'}), right=genrou, on='gen', how='left')"
   ]
  },
  {
   "cell_type": "code",
   "execution_count": 19,
   "metadata": {},
   "outputs": [
    {
     "data": {
      "text/html": [
       "<div>\n",
       "<style scoped>\n",
       "    .dataframe tbody tr th:only-of-type {\n",
       "        vertical-align: middle;\n",
       "    }\n",
       "\n",
       "    .dataframe tbody tr th {\n",
       "        vertical-align: top;\n",
       "    }\n",
       "\n",
       "    .dataframe thead th {\n",
       "        text-align: right;\n",
       "    }\n",
       "</style>\n",
       "<table border=\"1\" class=\"dataframe\">\n",
       "  <thead>\n",
       "    <tr style=\"text-align: right;\">\n",
       "      <th></th>\n",
       "      <th>u</th>\n",
       "      <th>gen</th>\n",
       "      <th>genr</th>\n",
       "      <th>M</th>\n",
       "      <th>D</th>\n",
       "    </tr>\n",
       "  </thead>\n",
       "  <tbody>\n",
       "    <tr>\n",
       "      <th>0</th>\n",
       "      <td>1.0</td>\n",
       "      <td>PV_2</td>\n",
       "      <td>GENROU_2</td>\n",
       "      <td>8.0</td>\n",
       "      <td>0.0</td>\n",
       "    </tr>\n",
       "    <tr>\n",
       "      <th>1</th>\n",
       "      <td>1.0</td>\n",
       "      <td>PV_3</td>\n",
       "      <td>GENROU_3</td>\n",
       "      <td>5.0</td>\n",
       "      <td>0.0</td>\n",
       "    </tr>\n",
       "    <tr>\n",
       "      <th>2</th>\n",
       "      <td>1.0</td>\n",
       "      <td>PV_4</td>\n",
       "      <td>GENROU_4</td>\n",
       "      <td>5.0</td>\n",
       "      <td>0.0</td>\n",
       "    </tr>\n",
       "    <tr>\n",
       "      <th>3</th>\n",
       "      <td>1.0</td>\n",
       "      <td>PV_5</td>\n",
       "      <td>GENROU_5</td>\n",
       "      <td>10.0</td>\n",
       "      <td>0.0</td>\n",
       "    </tr>\n",
       "    <tr>\n",
       "      <th>4</th>\n",
       "      <td>1.0</td>\n",
       "      <td>PV_6</td>\n",
       "      <td>NaN</td>\n",
       "      <td>NaN</td>\n",
       "      <td>NaN</td>\n",
       "    </tr>\n",
       "    <tr>\n",
       "      <th>5</th>\n",
       "      <td>1.0</td>\n",
       "      <td>PV_7</td>\n",
       "      <td>NaN</td>\n",
       "      <td>NaN</td>\n",
       "      <td>NaN</td>\n",
       "    </tr>\n",
       "    <tr>\n",
       "      <th>6</th>\n",
       "      <td>1.0</td>\n",
       "      <td>Slack_1</td>\n",
       "      <td>GENROU_1</td>\n",
       "      <td>8.0</td>\n",
       "      <td>0.0</td>\n",
       "    </tr>\n",
       "  </tbody>\n",
       "</table>\n",
       "</div>"
      ],
      "text/plain": [
       "     u      gen      genr     M    D\n",
       "0  1.0     PV_2  GENROU_2   8.0  0.0\n",
       "1  1.0     PV_3  GENROU_3   5.0  0.0\n",
       "2  1.0     PV_4  GENROU_4   5.0  0.0\n",
       "3  1.0     PV_5  GENROU_5  10.0  0.0\n",
       "4  1.0     PV_6       NaN   NaN  NaN\n",
       "5  1.0     PV_7       NaN   NaN  NaN\n",
       "6  1.0  Slack_1  GENROU_1   8.0  0.0"
      ]
     },
     "execution_count": 19,
     "metadata": {},
     "output_type": "execute_result"
    }
   ],
   "source": [
    "res"
   ]
  },
  {
   "cell_type": "code",
   "execution_count": 20,
   "metadata": {},
   "outputs": [],
   "source": [
    "vsg = ssa.REGCV1.as_df()[['idx', 'gen', 'M', 'D']].rename(columns={'idx':'vsg', 'M':'Mv', 'D':'Dv'})"
   ]
  },
  {
   "cell_type": "code",
   "execution_count": 21,
   "metadata": {},
   "outputs": [],
   "source": [
    "res = pd.merge(left=res, right=vsg, on='gen', how='left')"
   ]
  },
  {
   "cell_type": "code",
   "execution_count": 22,
   "metadata": {},
   "outputs": [
    {
     "data": {
      "text/html": [
       "<div>\n",
       "<style scoped>\n",
       "    .dataframe tbody tr th:only-of-type {\n",
       "        vertical-align: middle;\n",
       "    }\n",
       "\n",
       "    .dataframe tbody tr th {\n",
       "        vertical-align: top;\n",
       "    }\n",
       "\n",
       "    .dataframe thead th {\n",
       "        text-align: right;\n",
       "    }\n",
       "</style>\n",
       "<table border=\"1\" class=\"dataframe\">\n",
       "  <thead>\n",
       "    <tr style=\"text-align: right;\">\n",
       "      <th></th>\n",
       "      <th>u</th>\n",
       "      <th>gen</th>\n",
       "      <th>genr</th>\n",
       "      <th>M</th>\n",
       "      <th>D</th>\n",
       "      <th>vsg</th>\n",
       "      <th>Mv</th>\n",
       "      <th>Dv</th>\n",
       "    </tr>\n",
       "  </thead>\n",
       "  <tbody>\n",
       "    <tr>\n",
       "      <th>0</th>\n",
       "      <td>1.0</td>\n",
       "      <td>PV_2</td>\n",
       "      <td>GENROU_2</td>\n",
       "      <td>8.0</td>\n",
       "      <td>0.0</td>\n",
       "      <td>NaN</td>\n",
       "      <td>NaN</td>\n",
       "      <td>NaN</td>\n",
       "    </tr>\n",
       "    <tr>\n",
       "      <th>1</th>\n",
       "      <td>1.0</td>\n",
       "      <td>PV_3</td>\n",
       "      <td>GENROU_3</td>\n",
       "      <td>5.0</td>\n",
       "      <td>0.0</td>\n",
       "      <td>NaN</td>\n",
       "      <td>NaN</td>\n",
       "      <td>NaN</td>\n",
       "    </tr>\n",
       "    <tr>\n",
       "      <th>2</th>\n",
       "      <td>1.0</td>\n",
       "      <td>PV_4</td>\n",
       "      <td>GENROU_4</td>\n",
       "      <td>5.0</td>\n",
       "      <td>0.0</td>\n",
       "      <td>NaN</td>\n",
       "      <td>NaN</td>\n",
       "      <td>NaN</td>\n",
       "    </tr>\n",
       "    <tr>\n",
       "      <th>3</th>\n",
       "      <td>1.0</td>\n",
       "      <td>PV_5</td>\n",
       "      <td>GENROU_5</td>\n",
       "      <td>10.0</td>\n",
       "      <td>0.0</td>\n",
       "      <td>NaN</td>\n",
       "      <td>NaN</td>\n",
       "      <td>NaN</td>\n",
       "    </tr>\n",
       "    <tr>\n",
       "      <th>4</th>\n",
       "      <td>1.0</td>\n",
       "      <td>PV_6</td>\n",
       "      <td>NaN</td>\n",
       "      <td>NaN</td>\n",
       "      <td>NaN</td>\n",
       "      <td>NaN</td>\n",
       "      <td>NaN</td>\n",
       "      <td>NaN</td>\n",
       "    </tr>\n",
       "    <tr>\n",
       "      <th>5</th>\n",
       "      <td>1.0</td>\n",
       "      <td>PV_7</td>\n",
       "      <td>NaN</td>\n",
       "      <td>NaN</td>\n",
       "      <td>NaN</td>\n",
       "      <td>1.0</td>\n",
       "      <td>3.0</td>\n",
       "      <td>0.5</td>\n",
       "    </tr>\n",
       "    <tr>\n",
       "      <th>6</th>\n",
       "      <td>1.0</td>\n",
       "      <td>Slack_1</td>\n",
       "      <td>GENROU_1</td>\n",
       "      <td>8.0</td>\n",
       "      <td>0.0</td>\n",
       "      <td>NaN</td>\n",
       "      <td>NaN</td>\n",
       "      <td>NaN</td>\n",
       "    </tr>\n",
       "  </tbody>\n",
       "</table>\n",
       "</div>"
      ],
      "text/plain": [
       "     u      gen      genr     M    D  vsg   Mv   Dv\n",
       "0  1.0     PV_2  GENROU_2   8.0  0.0  NaN  NaN  NaN\n",
       "1  1.0     PV_3  GENROU_3   5.0  0.0  NaN  NaN  NaN\n",
       "2  1.0     PV_4  GENROU_4   5.0  0.0  NaN  NaN  NaN\n",
       "3  1.0     PV_5  GENROU_5  10.0  0.0  NaN  NaN  NaN\n",
       "4  1.0     PV_6       NaN   NaN  NaN  NaN  NaN  NaN\n",
       "5  1.0     PV_7       NaN   NaN  NaN  1.0  3.0  0.5\n",
       "6  1.0  Slack_1  GENROU_1   8.0  0.0  NaN  NaN  NaN"
      ]
     },
     "execution_count": 22,
     "metadata": {},
     "output_type": "execute_result"
    }
   ],
   "source": [
    "res"
   ]
  },
  {
   "cell_type": "code",
   "execution_count": null,
   "metadata": {},
   "outputs": [],
   "source": [
    "res = pd.merge(left=stg.rename(columns={'idx':'gen'}), right=vsg, on='gen', how='left')"
   ]
  },
  {
   "cell_type": "code",
   "execution_count": null,
   "metadata": {},
   "outputs": [
    {
     "data": {
      "text/plain": [
       "Index(['idx', 'u', 'name', 'bus', 'gen', 'coi', 'coi2', 'Sn', 'Vn', 'fn', 'D',\n",
       "       'M', 'ra', 'xl', 'xd1', 'kp', 'kw', 'S10', 'S12', 'gammap', 'gammaq',\n",
       "       'xd', 'xq', 'xd2', 'xq1', 'xq2', 'Td10', 'Td20', 'Tq10', 'Tq20'],\n",
       "      dtype='object')"
      ]
     },
     "execution_count": 19,
     "metadata": {},
     "output_type": "execute_result"
    }
   ],
   "source": [
    "vsg.columns"
   ]
  },
  {
   "cell_type": "code",
   "execution_count": null,
   "metadata": {},
   "outputs": [
    {
     "data": {
      "text/html": [
       "<div>\n",
       "<style scoped>\n",
       "    .dataframe tbody tr th:only-of-type {\n",
       "        vertical-align: middle;\n",
       "    }\n",
       "\n",
       "    .dataframe tbody tr th {\n",
       "        vertical-align: top;\n",
       "    }\n",
       "\n",
       "    .dataframe thead th {\n",
       "        text-align: right;\n",
       "    }\n",
       "</style>\n",
       "<table border=\"1\" class=\"dataframe\">\n",
       "  <thead>\n",
       "    <tr style=\"text-align: right;\">\n",
       "      <th></th>\n",
       "      <th>gen</th>\n",
       "      <th>M</th>\n",
       "      <th>D</th>\n",
       "    </tr>\n",
       "  </thead>\n",
       "  <tbody>\n",
       "    <tr>\n",
       "      <th>0</th>\n",
       "      <td>PV_2</td>\n",
       "      <td>8.0</td>\n",
       "      <td>0.0</td>\n",
       "    </tr>\n",
       "    <tr>\n",
       "      <th>1</th>\n",
       "      <td>PV_3</td>\n",
       "      <td>5.0</td>\n",
       "      <td>0.0</td>\n",
       "    </tr>\n",
       "    <tr>\n",
       "      <th>2</th>\n",
       "      <td>PV_4</td>\n",
       "      <td>5.0</td>\n",
       "      <td>0.0</td>\n",
       "    </tr>\n",
       "    <tr>\n",
       "      <th>3</th>\n",
       "      <td>PV_5</td>\n",
       "      <td>10.0</td>\n",
       "      <td>0.0</td>\n",
       "    </tr>\n",
       "    <tr>\n",
       "      <th>4</th>\n",
       "      <td>PV_6</td>\n",
       "      <td>NaN</td>\n",
       "      <td>NaN</td>\n",
       "    </tr>\n",
       "  </tbody>\n",
       "</table>\n",
       "</div>"
      ],
      "text/plain": [
       "    gen     M    D\n",
       "0  PV_2   8.0  0.0\n",
       "1  PV_3   5.0  0.0\n",
       "2  PV_4   5.0  0.0\n",
       "3  PV_5  10.0  0.0\n",
       "4  PV_6   NaN  NaN"
      ]
     },
     "execution_count": 17,
     "metadata": {},
     "output_type": "execute_result"
    }
   ],
   "source": [
    "res[['gen', 'M', 'D']]"
   ]
  },
  {
   "cell_type": "markdown",
   "metadata": {},
   "source": [
    "on is key name"
   ]
  },
  {
   "cell_type": "code",
   "execution_count": null,
   "metadata": {},
   "outputs": [
    {
     "ename": "TypeError",
     "evalue": "build_group_table() missing 1 required positional argument: 'columns'",
     "output_type": "error",
     "traceback": [
      "\u001b[0;31m---------------------------------------------------------------------------\u001b[0m",
      "\u001b[0;31mTypeError\u001b[0m                                 Traceback (most recent call last)",
      "\u001b[1;32m/home/bshe/repos/andes/bshe/VIS_opf/Test_dcopf.ipynb Cell 6'\u001b[0m in \u001b[0;36m<cell line: 1>\u001b[0;34m()\u001b[0m\n\u001b[0;32m----> <a href='vscode-notebook-cell://ssh-remote%2Bcepd00648.curent.utk.edu/home/bshe/repos/andes/bshe/VIS_opf/Test_dcopf.ipynb#ch0000027vscode-remote?line=0'>1</a>\u001b[0m build_group_table(ssa, \u001b[39m'\u001b[39;49m\u001b[39mStaticGen\u001b[39;49m\u001b[39m'\u001b[39;49m)\n",
      "\u001b[0;31mTypeError\u001b[0m: build_group_table() missing 1 required positional argument: 'columns'"
     ]
    }
   ],
   "source": [
    "build_group_table(ssa, 'StaticGen', [''])"
   ]
  },
  {
   "cell_type": "code",
   "execution_count": null,
   "metadata": {},
   "outputs": [
    {
     "ename": "NameError",
     "evalue": "name 'dcopf' is not defined",
     "output_type": "error",
     "traceback": [
      "\u001b[0;31m---------------------------------------------------------------------------\u001b[0m",
      "\u001b[0;31mNameError\u001b[0m                                 Traceback (most recent call last)",
      "\u001b[1;32m/home/bshe/repos/andes/bshe/VIS_opf/Test_dcopf.ipynb Cell 7'\u001b[0m in \u001b[0;36m<cell line: 1>\u001b[0;34m()\u001b[0m\n\u001b[0;32m----> <a href='vscode-notebook-cell://ssh-remote%2Bcepd00648.curent.utk.edu/home/bshe/repos/andes/bshe/VIS_opf/Test_dcopf.ipynb#ch0000004vscode-remote?line=0'>1</a>\u001b[0m ss \u001b[39m=\u001b[39m dcopf()\n",
      "\u001b[0;31mNameError\u001b[0m: name 'dcopf' is not defined"
     ]
    }
   ],
   "source": [
    "ss = dcopf()"
   ]
  },
  {
   "cell_type": "code",
   "execution_count": null,
   "metadata": {},
   "outputs": [],
   "source": [
    "ss.from_andes(ssa)"
   ]
  },
  {
   "cell_type": "code",
   "execution_count": null,
   "metadata": {},
   "outputs": [
    {
     "name": "stderr",
     "output_type": "stream",
     "text": [
      "Successfully build DCOPF model.\n"
     ]
    }
   ],
   "source": [
    "ss.build()"
   ]
  },
  {
   "cell_type": "code",
   "execution_count": null,
   "metadata": {},
   "outputs": [
    {
     "name": "stderr",
     "output_type": "stream",
     "text": [
      "Successfully build DCOPF model.\n"
     ]
    },
    {
     "name": "stdout",
     "output_type": "stream",
     "text": [
      "Gurobi Optimizer version 9.5.1 build v9.5.1rc2 (linux64)\n",
      "Thread count: 6 physical cores, 12 logical processors, using up to 12 threads\n",
      "Optimize a model with 66 rows, 12 columns and 268 nonzeros\n",
      "Model fingerprint: 0xd04bc91f\n",
      "Coefficient statistics:\n",
      "  Matrix range     [4e-04, 1e+00]\n",
      "  Objective range  [1e+00, 1e+00]\n",
      "  Bounds range     [1e-01, 3e+00]\n",
      "  RHS range        [1e-01, 4e+00]\n",
      "Presolve removed 64 rows and 7 columns\n",
      "Presolve time: 0.01s\n",
      "Presolved: 2 rows, 5 columns, 9 nonzeros\n",
      "\n",
      "Iteration    Objective       Primal Inf.    Dual Inf.      Time\n",
      "       0    2.2370000e+00   0.000000e+00   0.000000e+00      0s\n",
      "       0    2.2370000e+00   0.000000e+00   0.000000e+00      0s\n",
      "\n",
      "Solved in 0 iterations and 0.01 seconds (0.00 work units)\n",
      "Optimal objective  2.237000000e+00\n"
     ]
    },
    {
     "name": "stderr",
     "output_type": "stream",
     "text": [
      "Successfully solve DCOPF.\n"
     ]
    },
    {
     "data": {
      "text/html": [
       "<div>\n",
       "<style scoped>\n",
       "    .dataframe tbody tr th:only-of-type {\n",
       "        vertical-align: middle;\n",
       "    }\n",
       "\n",
       "    .dataframe tbody tr th {\n",
       "        vertical-align: top;\n",
       "    }\n",
       "\n",
       "    .dataframe thead th {\n",
       "        text-align: right;\n",
       "    }\n",
       "</style>\n",
       "<table border=\"1\" class=\"dataframe\">\n",
       "  <thead>\n",
       "    <tr style=\"text-align: right;\">\n",
       "      <th></th>\n",
       "      <th>gen</th>\n",
       "      <th>pg</th>\n",
       "    </tr>\n",
       "  </thead>\n",
       "  <tbody>\n",
       "    <tr>\n",
       "      <th>0</th>\n",
       "      <td>PV_2</td>\n",
       "      <td>0.100</td>\n",
       "    </tr>\n",
       "    <tr>\n",
       "      <th>1</th>\n",
       "      <td>PV_3</td>\n",
       "      <td>0.100</td>\n",
       "    </tr>\n",
       "    <tr>\n",
       "      <th>2</th>\n",
       "      <td>PV_4</td>\n",
       "      <td>0.100</td>\n",
       "    </tr>\n",
       "    <tr>\n",
       "      <th>3</th>\n",
       "      <td>PV_5</td>\n",
       "      <td>0.100</td>\n",
       "    </tr>\n",
       "    <tr>\n",
       "      <th>4</th>\n",
       "      <td>PV_6</td>\n",
       "      <td>-0.100</td>\n",
       "    </tr>\n",
       "    <tr>\n",
       "      <th>5</th>\n",
       "      <td>Slack_1</td>\n",
       "      <td>1.937</td>\n",
       "    </tr>\n",
       "  </tbody>\n",
       "</table>\n",
       "</div>"
      ],
      "text/plain": [
       "       gen     pg\n",
       "0     PV_2  0.100\n",
       "1     PV_3  0.100\n",
       "2     PV_4  0.100\n",
       "3     PV_5  0.100\n",
       "4     PV_6 -0.100\n",
       "5  Slack_1  1.937"
      ]
     },
     "execution_count": 9,
     "metadata": {},
     "output_type": "execute_result"
    }
   ],
   "source": [
    "ss.get_res()"
   ]
  },
  {
   "cell_type": "markdown",
   "metadata": {},
   "source": [
    "## Test Attributes and Var"
   ]
  },
  {
   "cell_type": "code",
   "execution_count": null,
   "metadata": {},
   "outputs": [
    {
     "data": {
      "text/html": [
       "<div>\n",
       "<style scoped>\n",
       "    .dataframe tbody tr th:only-of-type {\n",
       "        vertical-align: middle;\n",
       "    }\n",
       "\n",
       "    .dataframe tbody tr th {\n",
       "        vertical-align: top;\n",
       "    }\n",
       "\n",
       "    .dataframe thead th {\n",
       "        text-align: right;\n",
       "    }\n",
       "</style>\n",
       "<table border=\"1\" class=\"dataframe\">\n",
       "  <thead>\n",
       "    <tr style=\"text-align: right;\">\n",
       "      <th></th>\n",
       "      <th>idx</th>\n",
       "      <th>c2</th>\n",
       "      <th>c1</th>\n",
       "      <th>c0</th>\n",
       "      <th>cr</th>\n",
       "    </tr>\n",
       "  </thead>\n",
       "  <tbody>\n",
       "    <tr>\n",
       "      <th>0</th>\n",
       "      <td>PV_2</td>\n",
       "      <td>0</td>\n",
       "      <td>1</td>\n",
       "      <td>0</td>\n",
       "      <td>0</td>\n",
       "    </tr>\n",
       "    <tr>\n",
       "      <th>1</th>\n",
       "      <td>PV_3</td>\n",
       "      <td>0</td>\n",
       "      <td>1</td>\n",
       "      <td>0</td>\n",
       "      <td>0</td>\n",
       "    </tr>\n",
       "    <tr>\n",
       "      <th>2</th>\n",
       "      <td>PV_4</td>\n",
       "      <td>0</td>\n",
       "      <td>1</td>\n",
       "      <td>0</td>\n",
       "      <td>0</td>\n",
       "    </tr>\n",
       "    <tr>\n",
       "      <th>3</th>\n",
       "      <td>PV_5</td>\n",
       "      <td>0</td>\n",
       "      <td>1</td>\n",
       "      <td>0</td>\n",
       "      <td>0</td>\n",
       "    </tr>\n",
       "    <tr>\n",
       "      <th>4</th>\n",
       "      <td>PV_6</td>\n",
       "      <td>0</td>\n",
       "      <td>1</td>\n",
       "      <td>0</td>\n",
       "      <td>0</td>\n",
       "    </tr>\n",
       "    <tr>\n",
       "      <th>5</th>\n",
       "      <td>Slack_1</td>\n",
       "      <td>0</td>\n",
       "      <td>1</td>\n",
       "      <td>0</td>\n",
       "      <td>0</td>\n",
       "    </tr>\n",
       "  </tbody>\n",
       "</table>\n",
       "</div>"
      ],
      "text/plain": [
       "       idx  c2  c1  c0  cr\n",
       "0     PV_2   0   1   0   0\n",
       "1     PV_3   0   1   0   0\n",
       "2     PV_4   0   1   0   0\n",
       "3     PV_5   0   1   0   0\n",
       "4     PV_6   0   1   0   0\n",
       "5  Slack_1   0   1   0   0"
      ]
     },
     "execution_count": 10,
     "metadata": {},
     "output_type": "execute_result"
    }
   ],
   "source": [
    "ss.cost"
   ]
  },
  {
   "cell_type": "code",
   "execution_count": null,
   "metadata": {},
   "outputs": [
    {
     "data": {
      "text/plain": [
       "{'PV_2': {'c2': 0, 'c1': 1, 'c0': 0, 'cr': 0},\n",
       " 'PV_3': {'c2': 0, 'c1': 1, 'c0': 0, 'cr': 0},\n",
       " 'PV_4': {'c2': 0, 'c1': 1, 'c0': 0, 'cr': 0},\n",
       " 'PV_5': {'c2': 0, 'c1': 1, 'c0': 0, 'cr': 0},\n",
       " 'PV_6': {'c2': 0, 'c1': 1, 'c0': 0, 'cr': 0},\n",
       " 'Slack_1': {'c2': 0, 'c1': 1, 'c0': 0, 'cr': 0}}"
      ]
     },
     "execution_count": 11,
     "metadata": {},
     "output_type": "execute_result"
    }
   ],
   "source": [
    "ss.costdict"
   ]
  },
  {
   "cell_type": "code",
   "execution_count": null,
   "metadata": {},
   "outputs": [],
   "source": [
    "ss.cost['c2'] = 2"
   ]
  },
  {
   "cell_type": "code",
   "execution_count": null,
   "metadata": {},
   "outputs": [
    {
     "data": {
      "text/html": [
       "<div>\n",
       "<style scoped>\n",
       "    .dataframe tbody tr th:only-of-type {\n",
       "        vertical-align: middle;\n",
       "    }\n",
       "\n",
       "    .dataframe tbody tr th {\n",
       "        vertical-align: top;\n",
       "    }\n",
       "\n",
       "    .dataframe thead th {\n",
       "        text-align: right;\n",
       "    }\n",
       "</style>\n",
       "<table border=\"1\" class=\"dataframe\">\n",
       "  <thead>\n",
       "    <tr style=\"text-align: right;\">\n",
       "      <th></th>\n",
       "      <th>idx</th>\n",
       "      <th>c2</th>\n",
       "      <th>c1</th>\n",
       "      <th>c0</th>\n",
       "      <th>cr</th>\n",
       "    </tr>\n",
       "  </thead>\n",
       "  <tbody>\n",
       "    <tr>\n",
       "      <th>0</th>\n",
       "      <td>PV_2</td>\n",
       "      <td>2</td>\n",
       "      <td>1</td>\n",
       "      <td>0</td>\n",
       "      <td>0</td>\n",
       "    </tr>\n",
       "    <tr>\n",
       "      <th>1</th>\n",
       "      <td>PV_3</td>\n",
       "      <td>2</td>\n",
       "      <td>1</td>\n",
       "      <td>0</td>\n",
       "      <td>0</td>\n",
       "    </tr>\n",
       "    <tr>\n",
       "      <th>2</th>\n",
       "      <td>PV_4</td>\n",
       "      <td>2</td>\n",
       "      <td>1</td>\n",
       "      <td>0</td>\n",
       "      <td>0</td>\n",
       "    </tr>\n",
       "    <tr>\n",
       "      <th>3</th>\n",
       "      <td>PV_5</td>\n",
       "      <td>2</td>\n",
       "      <td>1</td>\n",
       "      <td>0</td>\n",
       "      <td>0</td>\n",
       "    </tr>\n",
       "    <tr>\n",
       "      <th>4</th>\n",
       "      <td>PV_6</td>\n",
       "      <td>2</td>\n",
       "      <td>1</td>\n",
       "      <td>0</td>\n",
       "      <td>0</td>\n",
       "    </tr>\n",
       "    <tr>\n",
       "      <th>5</th>\n",
       "      <td>Slack_1</td>\n",
       "      <td>2</td>\n",
       "      <td>1</td>\n",
       "      <td>0</td>\n",
       "      <td>0</td>\n",
       "    </tr>\n",
       "  </tbody>\n",
       "</table>\n",
       "</div>"
      ],
      "text/plain": [
       "       idx  c2  c1  c0  cr\n",
       "0     PV_2   2   1   0   0\n",
       "1     PV_3   2   1   0   0\n",
       "2     PV_4   2   1   0   0\n",
       "3     PV_5   2   1   0   0\n",
       "4     PV_6   2   1   0   0\n",
       "5  Slack_1   2   1   0   0"
      ]
     },
     "execution_count": 13,
     "metadata": {},
     "output_type": "execute_result"
    }
   ],
   "source": [
    "ss.cost"
   ]
  },
  {
   "cell_type": "code",
   "execution_count": null,
   "metadata": {},
   "outputs": [
    {
     "data": {
      "text/plain": [
       "(16, 14)"
      ]
     },
     "execution_count": 14,
     "metadata": {},
     "output_type": "execute_result"
    }
   ],
   "source": [
    "ss.gsf_matrix.shape"
   ]
  },
  {
   "cell_type": "code",
   "execution_count": null,
   "metadata": {},
   "outputs": [
    {
     "data": {
      "text/html": [
       "<div>\n",
       "<style scoped>\n",
       "    .dataframe tbody tr th:only-of-type {\n",
       "        vertical-align: middle;\n",
       "    }\n",
       "\n",
       "    .dataframe tbody tr th {\n",
       "        vertical-align: top;\n",
       "    }\n",
       "\n",
       "    .dataframe thead th {\n",
       "        text-align: right;\n",
       "    }\n",
       "</style>\n",
       "<table border=\"1\" class=\"dataframe\">\n",
       "  <thead>\n",
       "    <tr style=\"text-align: right;\">\n",
       "      <th></th>\n",
       "      <th>idx</th>\n",
       "      <th>u</th>\n",
       "      <th>name</th>\n",
       "      <th>Sn</th>\n",
       "      <th>Vn</th>\n",
       "      <th>bus</th>\n",
       "      <th>p0</th>\n",
       "      <th>pmax</th>\n",
       "      <th>pmin</th>\n",
       "      <th>v0</th>\n",
       "      <th>ctrl</th>\n",
       "      <th>ramp5</th>\n",
       "      <th>ramp10</th>\n",
       "      <th>ramp30</th>\n",
       "    </tr>\n",
       "  </thead>\n",
       "  <tbody>\n",
       "    <tr>\n",
       "      <th>0</th>\n",
       "      <td>PV_2</td>\n",
       "      <td>1.0</td>\n",
       "      <td>PV_2</td>\n",
       "      <td>100.0</td>\n",
       "      <td>69.0</td>\n",
       "      <td>2</td>\n",
       "      <td>0.4</td>\n",
       "      <td>0.5</td>\n",
       "      <td>0.1</td>\n",
       "      <td>1.03</td>\n",
       "      <td>1</td>\n",
       "      <td>100</td>\n",
       "      <td>200</td>\n",
       "      <td>600</td>\n",
       "    </tr>\n",
       "    <tr>\n",
       "      <th>1</th>\n",
       "      <td>PV_3</td>\n",
       "      <td>1.0</td>\n",
       "      <td>PV_3</td>\n",
       "      <td>100.0</td>\n",
       "      <td>69.0</td>\n",
       "      <td>3</td>\n",
       "      <td>0.4</td>\n",
       "      <td>0.5</td>\n",
       "      <td>0.1</td>\n",
       "      <td>1.01</td>\n",
       "      <td>1</td>\n",
       "      <td>100</td>\n",
       "      <td>200</td>\n",
       "      <td>600</td>\n",
       "    </tr>\n",
       "    <tr>\n",
       "      <th>2</th>\n",
       "      <td>PV_4</td>\n",
       "      <td>1.0</td>\n",
       "      <td>PV_4</td>\n",
       "      <td>100.0</td>\n",
       "      <td>138.0</td>\n",
       "      <td>6</td>\n",
       "      <td>0.3</td>\n",
       "      <td>1.0</td>\n",
       "      <td>0.1</td>\n",
       "      <td>1.03</td>\n",
       "      <td>1</td>\n",
       "      <td>100</td>\n",
       "      <td>200</td>\n",
       "      <td>600</td>\n",
       "    </tr>\n",
       "    <tr>\n",
       "      <th>3</th>\n",
       "      <td>PV_5</td>\n",
       "      <td>1.0</td>\n",
       "      <td>PV_5</td>\n",
       "      <td>100.0</td>\n",
       "      <td>69.0</td>\n",
       "      <td>8</td>\n",
       "      <td>0.3</td>\n",
       "      <td>0.5</td>\n",
       "      <td>0.1</td>\n",
       "      <td>1.03</td>\n",
       "      <td>1</td>\n",
       "      <td>100</td>\n",
       "      <td>200</td>\n",
       "      <td>600</td>\n",
       "    </tr>\n",
       "    <tr>\n",
       "      <th>4</th>\n",
       "      <td>PV_6</td>\n",
       "      <td>1.0</td>\n",
       "      <td>PV_6</td>\n",
       "      <td>100.0</td>\n",
       "      <td>69.0</td>\n",
       "      <td>4</td>\n",
       "      <td>-0.01</td>\n",
       "      <td>0.1</td>\n",
       "      <td>-0.1</td>\n",
       "      <td>1.01</td>\n",
       "      <td>1</td>\n",
       "      <td>100</td>\n",
       "      <td>200</td>\n",
       "      <td>600</td>\n",
       "    </tr>\n",
       "    <tr>\n",
       "      <th>5</th>\n",
       "      <td>Slack_1</td>\n",
       "      <td>1.0</td>\n",
       "      <td>Slack_1</td>\n",
       "      <td>100.0</td>\n",
       "      <td>69.0</td>\n",
       "      <td>1</td>\n",
       "      <td>0.81442</td>\n",
       "      <td>3.0</td>\n",
       "      <td>0.5</td>\n",
       "      <td>1.03</td>\n",
       "      <td>1</td>\n",
       "      <td>100</td>\n",
       "      <td>200</td>\n",
       "      <td>600</td>\n",
       "    </tr>\n",
       "  </tbody>\n",
       "</table>\n",
       "</div>"
      ],
      "text/plain": [
       "       idx    u     name     Sn     Vn bus       p0 pmax pmin    v0  ctrl  \\\n",
       "0     PV_2  1.0     PV_2  100.0   69.0   2      0.4  0.5  0.1  1.03     1   \n",
       "1     PV_3  1.0     PV_3  100.0   69.0   3      0.4  0.5  0.1  1.01     1   \n",
       "2     PV_4  1.0     PV_4  100.0  138.0   6      0.3  1.0  0.1  1.03     1   \n",
       "3     PV_5  1.0     PV_5  100.0   69.0   8      0.3  0.5  0.1  1.03     1   \n",
       "4     PV_6  1.0     PV_6  100.0   69.0   4    -0.01  0.1 -0.1  1.01     1   \n",
       "5  Slack_1  1.0  Slack_1  100.0   69.0   1  0.81442  3.0  0.5  1.03     1   \n",
       "\n",
       "   ramp5  ramp10  ramp30  \n",
       "0    100     200     600  \n",
       "1    100     200     600  \n",
       "2    100     200     600  \n",
       "3    100     200     600  \n",
       "4    100     200     600  \n",
       "5    100     200     600  "
      ]
     },
     "execution_count": 15,
     "metadata": {},
     "output_type": "execute_result"
    }
   ],
   "source": [
    "ss.gen"
   ]
  },
  {
   "cell_type": "code",
   "execution_count": null,
   "metadata": {},
   "outputs": [
    {
     "data": {
      "text/plain": [
       "{'PV_2': <gurobi.Var pg[PV_2] (value 0.1)>,\n",
       " 'PV_3': <gurobi.Var pg[PV_3] (value 0.1)>,\n",
       " 'PV_4': <gurobi.Var pg[PV_4] (value 0.1)>,\n",
       " 'PV_5': <gurobi.Var pg[PV_5] (value 0.1)>,\n",
       " 'PV_6': <gurobi.Var pg[PV_6] (value -0.1)>,\n",
       " 'Slack_1': <gurobi.Var pg[Slack_1] (value 1.9369999999999998)>}"
      ]
     },
     "execution_count": 16,
     "metadata": {},
     "output_type": "execute_result"
    }
   ],
   "source": [
    "ss.pg"
   ]
  },
  {
   "cell_type": "code",
   "execution_count": null,
   "metadata": {},
   "outputs": [
    {
     "data": {
      "text/plain": [
       "dict_keys(['PV_2', 'PV_3', 'PV_4', 'PV_5', 'PV_6', 'Slack_1'])"
      ]
     },
     "execution_count": 17,
     "metadata": {},
     "output_type": "execute_result"
    }
   ],
   "source": [
    "ss.gendict.keys()"
   ]
  },
  {
   "cell_type": "code",
   "execution_count": null,
   "metadata": {},
   "outputs": [
    {
     "data": {
      "text/plain": [
       "{'PV_2': {'c2': 0, 'c1': 1, 'c0': 0, 'cr': 0},\n",
       " 'PV_3': {'c2': 0, 'c1': 1, 'c0': 0, 'cr': 0},\n",
       " 'PV_4': {'c2': 0, 'c1': 1, 'c0': 0, 'cr': 0},\n",
       " 'PV_5': {'c2': 0, 'c1': 1, 'c0': 0, 'cr': 0},\n",
       " 'PV_6': {'c2': 0, 'c1': 1, 'c0': 0, 'cr': 0},\n",
       " 'Slack_1': {'c2': 0, 'c1': 1, 'c0': 0, 'cr': 0}}"
      ]
     },
     "execution_count": 18,
     "metadata": {},
     "output_type": "execute_result"
    }
   ],
   "source": [
    "ss.costdict\n"
   ]
  },
  {
   "cell_type": "code",
   "execution_count": null,
   "metadata": {},
   "outputs": [
    {
     "data": {
      "text/plain": [
       "2.237"
      ]
     },
     "execution_count": 19,
     "metadata": {},
     "output_type": "execute_result"
    }
   ],
   "source": [
    "ss.load.p0.sum()"
   ]
  },
  {
   "cell_type": "code",
   "execution_count": null,
   "metadata": {},
   "outputs": [
    {
     "data": {
      "text/plain": [
       "2.237"
      ]
     },
     "execution_count": 20,
     "metadata": {},
     "output_type": "execute_result"
    }
   ],
   "source": [
    "ss.res_cost"
   ]
  },
  {
   "cell_type": "code",
   "execution_count": null,
   "metadata": {},
   "outputs": [
    {
     "name": "stdout",
     "output_type": "stream",
     "text": [
      "Minimize\n",
      "  <gurobi.LinExpr: pg[PV_2] + pg[PV_3] + pg[PV_4] + pg[PV_5] + pg[PV_6] + pg[Slack_1]>\n",
      "Subject To\n",
      "PowerBalance: <gurobi.LinExpr: pg[PV_2] + pg[PV_3] + pg[PV_4] + pg[PV_5] + pg[PV_6] +\n",
      " pg[Slack_1]> = 2.237\n",
      "Line_1_U: <gurobi.LinExpr: -0.8380258373889505 pg[PV_3] + -0.6105580062323537 pg[PV_4]\n",
      " + -0.6573114828670689 pg[PV_5] + -0.746539270176955 pg[PV_6]> <= 0.4592\n",
      "Line_1_D: <gurobi.LinExpr: -0.8380258373889505 pg[PV_3] + -0.6105580062323537 pg[PV_4]\n",
      " + -0.6573114828670689 pg[PV_5] + -0.746539270176955 pg[PV_6]> >= -3.5408\n",
      "Line_2_U: <gurobi.LinExpr: -0.16197416261104897 pg[PV_3] + -0.3894419937676453 pg[PV_4]\n",
      " + -0.3426885171329301 pg[PV_5] + -0.25346072982304424 pg[PV_6]> <= 0.3038\n",
      "Line_2_D: <gurobi.LinExpr: -0.16197416261104897 pg[PV_3] + -0.3894419937676453 pg[PV_4]\n",
      " + -0.3426885171329301 pg[PV_5] + -0.25346072982304424 pg[PV_6]> >= -1.6962\n",
      "Line_3_U: <gurobi.LinExpr: 0.0273438408947506 pg[PV_3] + -0.10307200056050626 pg[PV_4]\n",
      " + -0.1427239899061679 pg[PV_5] + -0.5320311371153111 pg[PV_6]> <= 0.534372\n",
      "Line_3_D: <gurobi.LinExpr: 0.0273438408947506 pg[PV_3] + -0.10307200056050626 pg[PV_4]\n",
      " + -0.1427239899061679 pg[PV_5] + -0.5320311371153111 pg[PV_6]> >= -1.46563\n",
      "Line_4_U: <gurobi.LinExpr: 0.057224803142938825 pg[PV_3] + -0.2157076236775568 pg[PV_4]\n",
      " + -0.2986907456634299 pg[PV_5] + -0.14342950088220185 pg[PV_6]> <= 0.510539\n",
      "Line_4_D: <gurobi.LinExpr: 0.057224803142938825 pg[PV_3] + -0.2157076236775568 pg[PV_4]\n",
      " + -0.2986907456634299 pg[PV_5] + -0.14342950088220185 pg[PV_6]> >= -1.48946\n",
      "Line_5_U: <gurobi.LinExpr: 0.07740551857336 pg[PV_3] + -0.2917783819942906 pg[PV_4] +\n",
      " -0.21589674729747102 pg[PV_5] + -0.07107863217944196 pg[PV_6]> <= 0.631289\n",
      "Line_5_D: <gurobi.LinExpr: 0.07740551857336 pg[PV_3] + -0.2917783819942906 pg[PV_4] +\n",
      " -0.21589674729747102 pg[PV_5] + -0.07107863217944196 pg[PV_6]> >= -1.36871\n",
      "Line_6_U: <gurobi.LinExpr: 0.027343840894750594 pg[PV_3] + -0.1030720005605063 pg[PV_4]\n",
      " + -0.14272398990616791 pg[PV_5] + 0.4679688628846888 pg[PV_6]> <= 0.534372\n",
      "Line_6_D: <gurobi.LinExpr: 0.027343840894750594 pg[PV_3] + -0.1030720005605063 pg[PV_4]\n",
      " + -0.14272398990616791 pg[PV_5] + 0.4679688628846888 pg[PV_6]> >= -0.465628\n",
      "Line_7_U: <gurobi.LinExpr: 0.08001411254744407 pg[PV_3] + -0.30161141900594685 pg[PV_4]\n",
      " + 0.3591789564305798 pg[PV_5] + 0.3070609601564586 pg[PV_6]> <= 1.52696\n",
      "Line_7_D: <gurobi.LinExpr: 0.08001411254744407 pg[PV_3] + -0.30161141900594685 pg[PV_4]\n",
      " + 0.3591789564305798 pg[PV_5] + 0.3070609601564586 pg[PV_6]> >= -0.473039\n",
      "Line_8_U: <gurobi.LinExpr: -0.0027426322098929516 pg[PV_3] + 0.010338291162658919\n",
      " pg[PV_4] + -0.12007780917696341 pg[PV_5] + -0.010525084299677884 pg[PV_6]> <= 0.446615\n",
      "Line_8_D: <gurobi.LinExpr: -0.0027426322098929516 pg[PV_3] + 0.010338291162658919\n",
      " pg[PV_4] + -0.12007780917696341 pg[PV_5] + -0.010525084299677884 pg[PV_6]> >= -0.553385\n",
      "Line_9_U: <gurobi.LinExpr: -0.00040281950858675827 pg[PV_3] + 0.0015184191853167839\n",
      " pg[PV_4] + -0.01763622694664108 pg[PV_5] + -0.001545854114210954 pg[PV_6]> <= 0.421708\n",
      "Line_9_D: <gurobi.LinExpr: -0.00040281950858675827 pg[PV_3] + 0.0015184191853167839\n",
      " pg[PV_4] + -0.01763622694664108 pg[PV_5] + -0.001545854114210954 pg[PV_6]> >= -0.578292\n",
      "Line_10_U: <gurobi.LinExpr: -0.0014090797717655852 pg[PV_3] + 0.005311494884140623\n",
      " pg[PV_4] + -0.06169227187621774 pg[PV_5] + -0.005407463432139359 pg[PV_6]> <= 0.819727\n",
      "Line_10_D: <gurobi.LinExpr: -0.0014090797717655852 pg[PV_3] + 0.005311494884140623\n",
      " pg[PV_4] + -0.06169227187621774 pg[PV_5] + -0.005407463432139359 pg[PV_6]> >= -1.18027\n",
      "Line_11_U: <gurobi.LinExpr: 0.002892812927381223 pg[PV_3] + -0.010904394039599056\n",
      " pg[PV_4] + 0.3654653984421005 pg[PV_5] + 0.011101415572258994 pg[PV_6]> <= 0.179852\n",
      "Line_11_D: <gurobi.LinExpr: 0.002892812927381223 pg[PV_3] + -0.010904394039599056\n",
      " pg[PV_4] + 0.3654653984421005 pg[PV_5] + 0.011101415572258994 pg[PV_6]> >= -0.820148\n",
      "Line_12_U: <gurobi.LinExpr: 0.0027426322098930566 pg[PV_3] + -0.010338291162658702\n",
      " pg[PV_4] + 0.1200778091769639 pg[PV_5] + 0.01052508429967806 pg[PV_6]> <= 0.128385\n",
      "Line_12_D: <gurobi.LinExpr: 0.0027426322098930566 pg[PV_3] + -0.010338291162658702\n",
      " pg[PV_4] + 0.1200778091769639 pg[PV_5] + 0.01052508429967806 pg[PV_6]> >= -0.271615\n",
      "Line_13_U: <gurobi.LinExpr: 0.0018118992803523703 pg[PV_3] + -0.006829914069457349\n",
      " pg[PV_4] + 0.07932849882285892 pg[PV_5] + 0.006953317546350358 pg[PV_6]> <= 0.362565\n",
      "Line_13_D: <gurobi.LinExpr: 0.0018118992803523703 pg[PV_3] + -0.006829914069457349\n",
      " pg[PV_4] + 0.07932849882285892 pg[PV_5] + 0.006953317546350358 pg[PV_6]> >= -0.637435\n",
      "Line_14_U: <gurobi.LinExpr: 0.0027426322098929577 pg[PV_3] + -0.010338291162658908\n",
      " pg[PV_4] + 0.12007780917696347 pg[PV_5] + 0.010525084299677894 pg[PV_6]> <= 0.518385\n",
      "Line_14_D: <gurobi.LinExpr: 0.0027426322098929577 pg[PV_3] + -0.010338291162658908\n",
      " pg[PV_4] + 0.12007780917696347 pg[PV_5] + 0.010525084299677894 pg[PV_6]> >= -0.481615\n",
      "Line_15_U: <gurobi.LinExpr: -0.00040281950858677806 pg[PV_3] + 0.0015184191853167411\n",
      " pg[PV_4] + -0.017636226946641152 pg[PV_5] + -0.0015458541142109865 pg[PV_6]> <= 0.482708\n",
      "Line_15_D: <gurobi.LinExpr: -0.00040281950858677806 pg[PV_3] + 0.0015184191853167411\n",
      " pg[PV_4] + -0.017636226946641152 pg[PV_5] + -0.0015458541142109865 pg[PV_6]> >= -0.517292\n",
      "Line_16_U: <gurobi.LinExpr: -0.0018118992803523675 pg[PV_3] + 0.006829914069457353\n",
      " pg[PV_4] + -0.0793284988228589 pg[PV_5] + -0.006953317546350352 pg[PV_6]> <= 0.137435\n",
      "Line_16_D: <gurobi.LinExpr: -0.0018118992803523675 pg[PV_3] + 0.006829914069457353\n",
      " pg[PV_4] + -0.0793284988228589 pg[PV_5] + -0.006953317546350352 pg[PV_6]> >= -0.262565\n",
      "PowerBalance: <gurobi.LinExpr: pg[PV_2] + pg[PV_3] + pg[PV_4] + pg[PV_5] + pg[PV_6] +\n",
      " pg[Slack_1]> = 2.237\n",
      "Line_1_U: <gurobi.LinExpr: -0.8380258373889505 pg[PV_3] + -0.6105580062323537 pg[PV_4]\n",
      " + -0.6573114828670689 pg[PV_5] + -0.746539270176955 pg[PV_6]> <= 0.4592\n",
      "Line_1_D: <gurobi.LinExpr: -0.8380258373889505 pg[PV_3] + -0.6105580062323537 pg[PV_4]\n",
      " + -0.6573114828670689 pg[PV_5] + -0.746539270176955 pg[PV_6]> >= -3.5408\n",
      "Line_2_U: <gurobi.LinExpr: -0.16197416261104897 pg[PV_3] + -0.3894419937676453 pg[PV_4]\n",
      " + -0.3426885171329301 pg[PV_5] + -0.25346072982304424 pg[PV_6]> <= 0.3038\n",
      "Line_2_D: <gurobi.LinExpr: -0.16197416261104897 pg[PV_3] + -0.3894419937676453 pg[PV_4]\n",
      " + -0.3426885171329301 pg[PV_5] + -0.25346072982304424 pg[PV_6]> >= -1.6962\n",
      "Line_3_U: <gurobi.LinExpr: 0.0273438408947506 pg[PV_3] + -0.10307200056050626 pg[PV_4]\n",
      " + -0.1427239899061679 pg[PV_5] + -0.5320311371153111 pg[PV_6]> <= 0.534372\n",
      "Line_3_D: <gurobi.LinExpr: 0.0273438408947506 pg[PV_3] + -0.10307200056050626 pg[PV_4]\n",
      " + -0.1427239899061679 pg[PV_5] + -0.5320311371153111 pg[PV_6]> >= -1.46563\n",
      "Line_4_U: <gurobi.LinExpr: 0.057224803142938825 pg[PV_3] + -0.2157076236775568 pg[PV_4]\n",
      " + -0.2986907456634299 pg[PV_5] + -0.14342950088220185 pg[PV_6]> <= 0.510539\n",
      "Line_4_D: <gurobi.LinExpr: 0.057224803142938825 pg[PV_3] + -0.2157076236775568 pg[PV_4]\n",
      " + -0.2986907456634299 pg[PV_5] + -0.14342950088220185 pg[PV_6]> >= -1.48946\n",
      "Line_5_U: <gurobi.LinExpr: 0.07740551857336 pg[PV_3] + -0.2917783819942906 pg[PV_4] +\n",
      " -0.21589674729747102 pg[PV_5] + -0.07107863217944196 pg[PV_6]> <= 0.631289\n",
      "Line_5_D: <gurobi.LinExpr: 0.07740551857336 pg[PV_3] + -0.2917783819942906 pg[PV_4] +\n",
      " -0.21589674729747102 pg[PV_5] + -0.07107863217944196 pg[PV_6]> >= -1.36871\n",
      "Line_6_U: <gurobi.LinExpr: 0.027343840894750594 pg[PV_3] + -0.1030720005605063 pg[PV_4]\n",
      " + -0.14272398990616791 pg[PV_5] + 0.4679688628846888 pg[PV_6]> <= 0.534372\n",
      "Line_6_D: <gurobi.LinExpr: 0.027343840894750594 pg[PV_3] + -0.1030720005605063 pg[PV_4]\n",
      " + -0.14272398990616791 pg[PV_5] + 0.4679688628846888 pg[PV_6]> >= -0.465628\n",
      "Line_7_U: <gurobi.LinExpr: 0.08001411254744407 pg[PV_3] + -0.30161141900594685 pg[PV_4]\n",
      " + 0.3591789564305798 pg[PV_5] + 0.3070609601564586 pg[PV_6]> <= 1.52696\n",
      "Line_7_D: <gurobi.LinExpr: 0.08001411254744407 pg[PV_3] + -0.30161141900594685 pg[PV_4]\n",
      " + 0.3591789564305798 pg[PV_5] + 0.3070609601564586 pg[PV_6]> >= -0.473039\n",
      "Line_8_U: <gurobi.LinExpr: -0.0027426322098929516 pg[PV_3] + 0.010338291162658919\n",
      " pg[PV_4] + -0.12007780917696341 pg[PV_5] + -0.010525084299677884 pg[PV_6]> <= 0.446615\n",
      "Line_8_D: <gurobi.LinExpr: -0.0027426322098929516 pg[PV_3] + 0.010338291162658919\n",
      " pg[PV_4] + -0.12007780917696341 pg[PV_5] + -0.010525084299677884 pg[PV_6]> >= -0.553385\n",
      "Line_9_U: <gurobi.LinExpr: -0.00040281950858675827 pg[PV_3] + 0.0015184191853167839\n",
      " pg[PV_4] + -0.01763622694664108 pg[PV_5] + -0.001545854114210954 pg[PV_6]> <= 0.421708\n",
      "Line_9_D: <gurobi.LinExpr: -0.00040281950858675827 pg[PV_3] + 0.0015184191853167839\n",
      " pg[PV_4] + -0.01763622694664108 pg[PV_5] + -0.001545854114210954 pg[PV_6]> >= -0.578292\n",
      "Line_10_U: <gurobi.LinExpr: -0.0014090797717655852 pg[PV_3] + 0.005311494884140623\n",
      " pg[PV_4] + -0.06169227187621774 pg[PV_5] + -0.005407463432139359 pg[PV_6]> <= 0.819727\n",
      "Line_10_D: <gurobi.LinExpr: -0.0014090797717655852 pg[PV_3] + 0.005311494884140623\n",
      " pg[PV_4] + -0.06169227187621774 pg[PV_5] + -0.005407463432139359 pg[PV_6]> >= -1.18027\n",
      "Line_11_U: <gurobi.LinExpr: 0.002892812927381223 pg[PV_3] + -0.010904394039599056\n",
      " pg[PV_4] + 0.3654653984421005 pg[PV_5] + 0.011101415572258994 pg[PV_6]> <= 0.179852\n",
      "Line_11_D: <gurobi.LinExpr: 0.002892812927381223 pg[PV_3] + -0.010904394039599056\n",
      " pg[PV_4] + 0.3654653984421005 pg[PV_5] + 0.011101415572258994 pg[PV_6]> >= -0.820148\n",
      "Line_12_U: <gurobi.LinExpr: 0.0027426322098930566 pg[PV_3] + -0.010338291162658702\n",
      " pg[PV_4] + 0.1200778091769639 pg[PV_5] + 0.01052508429967806 pg[PV_6]> <= 0.128385\n",
      "Line_12_D: <gurobi.LinExpr: 0.0027426322098930566 pg[PV_3] + -0.010338291162658702\n",
      " pg[PV_4] + 0.1200778091769639 pg[PV_5] + 0.01052508429967806 pg[PV_6]> >= -0.271615\n",
      "Line_13_U: <gurobi.LinExpr: 0.0018118992803523703 pg[PV_3] + -0.006829914069457349\n",
      " pg[PV_4] + 0.07932849882285892 pg[PV_5] + 0.006953317546350358 pg[PV_6]> <= 0.362565\n",
      "Line_13_D: <gurobi.LinExpr: 0.0018118992803523703 pg[PV_3] + -0.006829914069457349\n",
      " pg[PV_4] + 0.07932849882285892 pg[PV_5] + 0.006953317546350358 pg[PV_6]> >= -0.637435\n",
      "Line_14_U: <gurobi.LinExpr: 0.0027426322098929577 pg[PV_3] + -0.010338291162658908\n",
      " pg[PV_4] + 0.12007780917696347 pg[PV_5] + 0.010525084299677894 pg[PV_6]> <= 0.518385\n",
      "Line_14_D: <gurobi.LinExpr: 0.0027426322098929577 pg[PV_3] + -0.010338291162658908\n",
      " pg[PV_4] + 0.12007780917696347 pg[PV_5] + 0.010525084299677894 pg[PV_6]> >= -0.481615\n",
      "Line_15_U: <gurobi.LinExpr: -0.00040281950858677806 pg[PV_3] + 0.0015184191853167411\n",
      " pg[PV_4] + -0.017636226946641152 pg[PV_5] + -0.0015458541142109865 pg[PV_6]> <= 0.482708\n",
      "Line_15_D: <gurobi.LinExpr: -0.00040281950858677806 pg[PV_3] + 0.0015184191853167411\n",
      " pg[PV_4] + -0.017636226946641152 pg[PV_5] + -0.0015458541142109865 pg[PV_6]> >= -0.517292\n",
      "Line_16_U: <gurobi.LinExpr: -0.0018118992803523675 pg[PV_3] + 0.006829914069457353\n",
      " pg[PV_4] + -0.0793284988228589 pg[PV_5] + -0.006953317546350352 pg[PV_6]> <= 0.137435\n",
      "Line_16_D: <gurobi.LinExpr: -0.0018118992803523675 pg[PV_3] + 0.006829914069457353\n",
      " pg[PV_4] + -0.0793284988228589 pg[PV_5] + -0.006953317546350352 pg[PV_6]> >= -0.262565\n",
      "Bounds\n",
      "  0.1 <= pg[PV_2] <= 0.5\n",
      "  0.1 <= pg[PV_3] <= 0.5\n",
      "  0.1 <= pg[PV_4] <= 1\n",
      "  0.1 <= pg[PV_5] <= 0.5\n",
      "  -0.1 <= pg[PV_6] <= 0.1\n",
      "  0.5 <= pg[Slack_1] <= 3\n",
      "  0.1 <= pg[PV_2] <= 0.5\n",
      "  0.1 <= pg[PV_3] <= 0.5\n",
      "  0.1 <= pg[PV_4] <= 1\n",
      "  0.1 <= pg[PV_5] <= 0.5\n",
      "  -0.1 <= pg[PV_6] <= 0.1\n",
      "  0.5 <= pg[Slack_1] <= 3\n"
     ]
    }
   ],
   "source": [
    "ss.mdl.display()"
   ]
  },
  {
   "cell_type": "code",
   "execution_count": null,
   "metadata": {},
   "outputs": [
    {
     "data": {
      "text/plain": [
       "0       PV_2\n",
       "1       PV_3\n",
       "2       PV_4\n",
       "3       PV_5\n",
       "4       PV_6\n",
       "5    Slack_1\n",
       "Name: idx, dtype: object"
      ]
     },
     "execution_count": 22,
     "metadata": {},
     "output_type": "execute_result"
    }
   ],
   "source": [
    "ss.gen.idx"
   ]
  },
  {
   "cell_type": "code",
   "execution_count": null,
   "metadata": {},
   "outputs": [
    {
     "data": {
      "text/plain": [
       "'PV_2'"
      ]
     },
     "execution_count": 23,
     "metadata": {},
     "output_type": "execute_result"
    }
   ],
   "source": [
    "ss.gen.idx[0]"
   ]
  },
  {
   "cell_type": "code",
   "execution_count": null,
   "metadata": {},
   "outputs": [
    {
     "data": {
      "text/plain": [
       "{'PV_2': <gurobi.Var pg[PV_2] (value 0.1)>,\n",
       " 'PV_3': <gurobi.Var pg[PV_3] (value 0.1)>,\n",
       " 'PV_4': <gurobi.Var pg[PV_4] (value 0.1)>,\n",
       " 'PV_5': <gurobi.Var pg[PV_5] (value 0.1)>,\n",
       " 'PV_6': <gurobi.Var pg[PV_6] (value -0.1)>,\n",
       " 'Slack_1': <gurobi.Var pg[Slack_1] (value 1.9369999999999998)>}"
      ]
     },
     "execution_count": 24,
     "metadata": {},
     "output_type": "execute_result"
    }
   ],
   "source": [
    "ss.pg"
   ]
  },
  {
   "cell_type": "code",
   "execution_count": null,
   "metadata": {},
   "outputs": [
    {
     "data": {
      "text/plain": [
       "0.1"
      ]
     },
     "execution_count": 25,
     "metadata": {},
     "output_type": "execute_result"
    }
   ],
   "source": [
    "ss.pg['PV_2'].X"
   ]
  }
 ],
 "metadata": {
  "interpreter": {
   "hash": "9fd2f637d50f75acdaba34db232df2fd9f5c3b2d8a0fb2dac035dfd85a42e943"
  },
  "kernelspec": {
   "display_name": "Python 3.9.12 ('andes')",
   "language": "python",
   "name": "python3"
  },
  "language_info": {
   "codemirror_mode": {
    "name": "ipython",
    "version": 3
   },
   "file_extension": ".py",
   "mimetype": "text/x-python",
   "name": "python",
   "nbconvert_exporter": "python",
   "pygments_lexer": "ipython3",
   "version": "3.9.12"
  },
  "orig_nbformat": 4
 },
 "nbformat": 4,
 "nbformat_minor": 2
}
