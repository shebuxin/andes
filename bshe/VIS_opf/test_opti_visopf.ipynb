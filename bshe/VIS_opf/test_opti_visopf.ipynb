{
 "cells": [
  {
   "cell_type": "markdown",
   "metadata": {},
   "source": [
    "## Vistual inertia scheduling"
   ]
  },
  {
   "cell_type": "code",
   "execution_count": 1,
   "metadata": {},
   "outputs": [],
   "source": [
    "import andes\n",
    "import os\n",
    "\n",
    "from statistics import fmean\n",
    "from andes.interop.pandapower import to_pandapower\n",
    "from andes.interop.pandapower import make_GSF, build_group_table\n",
    "import gurobipy as gb\n",
    "import pandas as pd\n",
    "import numpy as np\n",
    "import logging\n",
    "import torch\n",
    "\n",
    "logger = logging.getLogger(__name__)\n",
    "\n",
    "# from opf import dcopf\n",
    "from visopf import vis1\n",
    "\n",
    "import andes.interop.pandapower as adpp"
   ]
  },
  {
   "cell_type": "markdown",
   "metadata": {},
   "source": [
    "## Main - load IEEE 39 and external parameters\n"
   ]
  },
  {
   "cell_type": "markdown",
   "metadata": {},
   "source": [
    "### load case from andes excel"
   ]
  },
  {
   "cell_type": "code",
   "execution_count": 2,
   "metadata": {},
   "outputs": [],
   "source": [
    "# get andes case from excel\n",
    "dir_path = os.path.abspath('..')\n",
    "case_path = '/VIS_opf/ieee39_vis.xlsx'\n",
    "case = dir_path + case_path\n",
    "ssa = andes.load(case, no_output=True)"
   ]
  },
  {
   "cell_type": "markdown",
   "metadata": {},
   "source": [
    "### load norm parameter"
   ]
  },
  {
   "cell_type": "code",
   "execution_count": 3,
   "metadata": {},
   "outputs": [],
   "source": [
    "# prepare nn data for visopf\n",
    "data_path = dir_path + '/VIS_opf/NN_train'\n",
    "\n",
    "fnorm = pd.read_csv(data_path + '/fnorm.csv')\n",
    "pnorm = pd.read_csv(data_path + '/pnorm.csv')\n",
    "norm = {'fnorm': fnorm, 'pnorm': pnorm }\n"
   ]
  },
  {
   "cell_type": "markdown",
   "metadata": {},
   "source": [
    "### load nn parameter"
   ]
  },
  {
   "cell_type": "code",
   "execution_count": 4,
   "metadata": {},
   "outputs": [],
   "source": [
    "# frequency nadir prediction network\n",
    "fw1 = pd.read_csv(data_path + '/fw1.csv', header=None)\n",
    "fw2 = pd.read_csv(data_path + '/fw2.csv', header=None)\n",
    "\n",
    "fb1 = pd.read_csv(data_path + '/fb1.csv', header=None)\n",
    "fb2 = pd.read_csv(data_path + '/fb2.csv', header=None)"
   ]
  },
  {
   "cell_type": "code",
   "execution_count": 5,
   "metadata": {},
   "outputs": [],
   "source": [
    "# vsg peak power prediction network\n",
    "pw1 = pd.read_csv(data_path + '/pw1.csv', header=None)\n",
    "pw2 = pd.read_csv(data_path + '/pw2.csv', header=None)\n",
    "\n",
    "pb1 = pd.read_csv(data_path + '/pb1.csv', header=None)\n",
    "pb2 = pd.read_csv(data_path + '/pb2.csv', header=None)"
   ]
  },
  {
   "cell_type": "code",
   "execution_count": 6,
   "metadata": {},
   "outputs": [],
   "source": [
    "nn = {\n",
    "        'fw1': fw1,\n",
    "        'fw2': fw2,       \n",
    "        'fb1': fb1,\n",
    "        'fb2': fb2,\n",
    "        'pw1': pw1,\n",
    "        'pw2': pw2,\n",
    "        'pb1': pb1,\n",
    "        'pb2': pb2,\n",
    "    }"
   ]
  },
  {
   "cell_type": "markdown",
   "metadata": {},
   "source": [
    "### test opf model"
   ]
  },
  {
   "cell_type": "code",
   "execution_count": 7,
   "metadata": {},
   "outputs": [
    {
     "name": "stdout",
     "output_type": "stream",
     "text": [
      "Restricted license - for non-production use only - expires 2023-10-25\n"
     ]
    }
   ],
   "source": [
    "ss = vis1(norm=norm, nn=nn, dpe=0.067, rocof_lim=0.01, nadir_lim=0.01)"
   ]
  },
  {
   "cell_type": "code",
   "execution_count": 8,
   "metadata": {},
   "outputs": [],
   "source": [
    "# define typeII gen (VSG inverter)\n",
    "vsg_ieee14 = ['PV_6', 'PV_7']\n",
    "vsg_ieee39 = ['PV_1', 'PV_6', 'PV_8', 'PV_9']\n",
    "\n",
    "ss.from_andes(ssa, vsg_ieee39, Sbase=1000)"
   ]
  },
  {
   "cell_type": "code",
   "execution_count": 9,
   "metadata": {},
   "outputs": [
    {
     "name": "stdout",
     "output_type": "stream",
     "text": [
      "Successfully build var.\n",
      "Successfully build obj.\n",
      "Warning for adding constraints: zero or small (< 1e-13) coefficients, ignored\n",
      "Successfully build cons.\n"
     ]
    }
   ],
   "source": [
    "ss.build()"
   ]
  },
  {
   "cell_type": "code",
   "execution_count": 10,
   "metadata": {},
   "outputs": [
    {
     "data": {
      "text/plain": [
       "{'PV_1': {'c2': 0.0, 'c1': 1.0, 'c0': 0.0, 'cr': 0.0, 'cru': 0.0, 'crd': 0.0},\n",
       " 'PV_2': {'c2': 0.0, 'c1': 1.0, 'c0': 0.0, 'cr': 0.0, 'cru': 0.0, 'crd': 0.0},\n",
       " 'PV_3': {'c2': 0.0, 'c1': 1.0, 'c0': 0.0, 'cr': 0.0, 'cru': 0.0, 'crd': 0.0},\n",
       " 'PV_4': {'c2': 0.0, 'c1': 1.0, 'c0': 0.0, 'cr': 0.0, 'cru': 0.0, 'crd': 0.0},\n",
       " 'PV_5': {'c2': 0.0, 'c1': 1.0, 'c0': 0.0, 'cr': 0.0, 'cru': 0.0, 'crd': 0.0},\n",
       " 'PV_6': {'c2': 0.0, 'c1': 0.5, 'c0': 0.0, 'cr': 0.0, 'cru': 0.0, 'crd': 0.0},\n",
       " 'PV_7': {'c2': 0.0, 'c1': 1.0, 'c0': 0.0, 'cr': 0.0, 'cru': 0.0, 'crd': 0.0},\n",
       " 'PV_8': {'c2': 0.0, 'c1': 1.0, 'c0': 0.0, 'cr': 0.0, 'cru': 0.0, 'crd': 0.0},\n",
       " 'PV_9': {'c2': 0.0, 'c1': 1.0, 'c0': 0.0, 'cr': 0.0, 'cru': 0.0, 'crd': 0.0},\n",
       " 'Slack_10': {'c2': 0.0,\n",
       "  'c1': 1.5,\n",
       "  'c0': 0.0,\n",
       "  'cr': 0.0,\n",
       "  'cru': 0.0,\n",
       "  'crd': 0.0}}"
      ]
     },
     "execution_count": 10,
     "metadata": {},
     "output_type": "execute_result"
    }
   ],
   "source": [
    "# revise gen cost\n",
    "ss.cost['c1'].iloc[0] = 1\n",
    "ss.cost['c1'].iloc[5] = 0.5\n",
    "ss.cost['c1'].iloc[9] = 1.5\n",
    "\n",
    "ss.update_dict()\n",
    "ss.costdict"
   ]
  },
  {
   "cell_type": "code",
   "execution_count": 11,
   "metadata": {},
   "outputs": [
    {
     "name": "stdout",
     "output_type": "stream",
     "text": [
      "Successfully build var.\n",
      "Successfully build obj.\n",
      "Warning for adding constraints: zero or small (< 1e-13) coefficients, ignored\n",
      "Successfully build cons.\n",
      "Gurobi Optimizer version 9.5.1 build v9.5.1rc2 (mac64[arm])\n",
      "Thread count: 8 physical cores, 8 logical processors, using up to 8 threads\n",
      "Optimize a model with 264 rows, 166 columns and 2790 nonzeros\n",
      "Model fingerprint: 0xe49cf77e\n",
      "Variable types: 102 continuous, 64 integer (64 binary)\n",
      "Coefficient statistics:\n",
      "  Matrix range     [1e-07, 1e+02]\n",
      "  Objective range  [5e-01, 2e+00]\n",
      "  Bounds range     [1e+00, 2e+01]\n",
      "  RHS range        [5e-03, 1e+02]\n",
      "Presolve removed 183 rows and 114 columns\n",
      "Presolve time: 0.00s\n",
      "Presolved: 81 rows, 52 columns, 613 nonzeros\n",
      "Variable types: 32 continuous, 20 integer (20 binary)\n",
      "\n",
      "Root relaxation: objective 5.606400e+01, 47 iterations, 0.00 seconds (0.00 work units)\n",
      "\n",
      "    Nodes    |    Current Node    |     Objective Bounds      |     Work\n",
      " Expl Unexpl |  Obj  Depth IntInf | Incumbent    BestBd   Gap | It/Node Time\n",
      "\n",
      "*    0     0               0      56.0640000   56.06400  0.00%     -    0s\n",
      "\n",
      "Explored 1 nodes (47 simplex iterations) in 0.01 seconds (0.00 work units)\n",
      "Thread count was 8 (of 8 available processors)\n",
      "\n",
      "Solution count 1: 56.064 \n",
      "\n",
      "Optimal solution found (tolerance 1.00e-04)\n",
      "Best objective 5.606400000000e+01, best bound 5.606400000000e+01, gap 0.0000%\n",
      "Total Cost: 56.064\n",
      "RoCof prediction: 0.00966756 ; RoCof limit: 0.01\n",
      "Nadir prediction: -0.00234824 ; Nadir limit 0.01\n"
     ]
    },
    {
     "data": {
      "text/plain": [
       "(        gen      Sn         pg  pru  prd\n",
       " 0      PV_1  10.400  11.714575  0.0  0.0\n",
       " 1      PV_2   8.360   2.886426  0.0  0.0\n",
       " 2      PV_3   8.437   8.000000  0.0  0.0\n",
       " 3      PV_4  11.748   5.851096  0.0  0.0\n",
       " 4      PV_5  10.802   3.800000  0.0  0.0\n",
       " 5      PV_6  10.857   8.000000  0.0  0.0\n",
       " 6      PV_7  10.252   7.000000  0.0  0.0\n",
       " 7      PV_8   9.702   3.501478  0.0  0.0\n",
       " 8      PV_9  16.841   4.810425  0.0  0.0\n",
       " 9  Slack_10  11.990   3.000000  0.0  0.0,\n",
       "     gen  Mvsg  Dvsg\n",
       " 0  PV_1   5.0   0.0\n",
       " 1  PV_6   5.0   0.0\n",
       " 2  PV_8   5.0   0.0\n",
       " 3  PV_9   5.0   0.0,\n",
       " {'Msys': 6.930391632467617,\n",
       "  'Dsys': 0.5893050315845287,\n",
       "  'Rsys': 20.933442043222,\n",
       "  'Fsys': 10.039026364939438})"
      ]
     },
     "execution_count": 11,
     "metadata": {},
     "output_type": "execute_result"
    }
   ],
   "source": [
    "ss.get_res()"
   ]
  }
 ],
 "metadata": {
  "interpreter": {
   "hash": "9fd2f637d50f75acdaba34db232df2fd9f5c3b2d8a0fb2dac035dfd85a42e943"
  },
  "kernelspec": {
   "display_name": "Python 3.9.12 ('andes')",
   "language": "python",
   "name": "python3"
  },
  "language_info": {
   "codemirror_mode": {
    "name": "ipython",
    "version": 3
   },
   "file_extension": ".py",
   "mimetype": "text/x-python",
   "name": "python",
   "nbconvert_exporter": "python",
   "pygments_lexer": "ipython3",
   "version": "3.9.12"
  },
  "orig_nbformat": 4,
  "vscode": {
   "interpreter": {
    "hash": "92db1f2a11a76f7a418d851adb0781f3e73d5b182acdc0024399e5c6e3e8abd7"
   }
  }
 },
 "nbformat": 4,
 "nbformat_minor": 2
}
