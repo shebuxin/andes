{
 "cells": [
  {
   "cell_type": "markdown",
   "metadata": {},
   "source": [
    "## Vistual inertia scheduling"
   ]
  },
  {
   "cell_type": "code",
   "execution_count": 125,
   "metadata": {},
   "outputs": [],
   "source": [
    "import andes\n",
    "import os\n",
    "\n",
    "from statistics import fmean\n",
    "from andes.interop.pandapower import to_pandapower\n",
    "from andes.interop.pandapower import make_GSF, build_group_table\n",
    "import gurobipy as gb\n",
    "import pandas as pd\n",
    "import numpy as np\n",
    "import logging\n",
    "import torch\n",
    "\n",
    "logger = logging.getLogger(__name__)\n",
    "\n",
    "# from opf import dcopf\n",
    "from visopf import vis2\n",
    "\n",
    "import andes.interop.pandapower as adpp"
   ]
  },
  {
   "cell_type": "markdown",
   "metadata": {},
   "source": [
    "## Main - load IEEE 39 and external parameters\n"
   ]
  },
  {
   "cell_type": "markdown",
   "metadata": {},
   "source": [
    "### load case from andes excel"
   ]
  },
  {
   "cell_type": "code",
   "execution_count": 126,
   "metadata": {},
   "outputs": [],
   "source": [
    "# get andes case from excel\n",
    "dir_path = os.path.abspath('..')\n",
    "case_path = '/VIS_opf/ieee39_vis_opf.xlsx'\n",
    "case = dir_path + case_path\n",
    "ssa = andes.load(case, no_output=True)"
   ]
  },
  {
   "cell_type": "markdown",
   "metadata": {},
   "source": [
    "### load norm parameter"
   ]
  },
  {
   "cell_type": "code",
   "execution_count": 127,
   "metadata": {},
   "outputs": [],
   "source": [
    "# prepare nn data for visopf\n",
    "data_path = dir_path + '/VIS_opf/NN_train'\n",
    "\n",
    "fnorm = pd.read_csv(data_path + '/fnorm.csv')\n",
    "pnorm = pd.read_csv(data_path + '/pnorm.csv')\n",
    "norm = {'fnorm': fnorm, 'pnorm': pnorm }\n"
   ]
  },
  {
   "cell_type": "markdown",
   "metadata": {},
   "source": [
    "### load nn parameter"
   ]
  },
  {
   "cell_type": "code",
   "execution_count": 128,
   "metadata": {},
   "outputs": [],
   "source": [
    "# frequency nadir prediction network\n",
    "fw1 = pd.read_csv(data_path + '/fw1.csv', header=None)\n",
    "fw2 = pd.read_csv(data_path + '/fw2.csv', header=None)\n",
    "\n",
    "fb1 = pd.read_csv(data_path + '/fb1.csv', header=None)\n",
    "fb2 = pd.read_csv(data_path + '/fb2.csv', header=None)"
   ]
  },
  {
   "cell_type": "code",
   "execution_count": 129,
   "metadata": {},
   "outputs": [],
   "source": [
    "# vsg peak power prediction network\n",
    "pw1 = pd.read_csv(data_path + '/pw1.csv', header=None)\n",
    "pw2 = pd.read_csv(data_path + '/pw2.csv', header=None)\n",
    "\n",
    "pb1 = pd.read_csv(data_path + '/pb1.csv', header=None)\n",
    "pb2 = pd.read_csv(data_path + '/pb2.csv', header=None)"
   ]
  },
  {
   "cell_type": "code",
   "execution_count": 130,
   "metadata": {},
   "outputs": [],
   "source": [
    "nn = {\n",
    "        'fw1': fw1,\n",
    "        'fw2': fw2,       \n",
    "        'fb1': fb1,\n",
    "        'fb2': fb2,\n",
    "        'pw1': pw1,\n",
    "        'pw2': pw2,\n",
    "        'pb1': pb1,\n",
    "        'pb2': pb2,\n",
    "    }"
   ]
  },
  {
   "cell_type": "markdown",
   "metadata": {},
   "source": [
    "### test opf model"
   ]
  },
  {
   "cell_type": "code",
   "execution_count": 131,
   "metadata": {},
   "outputs": [],
   "source": [
    "ss = vis2(norm=norm, nn=nn, dpe=0.0123, rocof_lim=0.0069, nadir_lim=0.01)"
   ]
  },
  {
   "cell_type": "code",
   "execution_count": 132,
   "metadata": {},
   "outputs": [
    {
     "name": "stderr",
     "output_type": "stream",
     "text": [
      "Note: Control (dynamic) parameters are renormalized based on case Sbase rather then to andes base\n"
     ]
    }
   ],
   "source": [
    "# define typeII gen (VSG inverter)\n",
    "vsg_ieee14 = ['PV_6', 'PV_7']\n",
    "vsg_ieee39 = ['PV_1', 'PV_6', 'PV_8', 'PV_9']\n",
    "\n",
    "ss.from_andes(ssa, vsg_ieee39, Sbase=1000)"
   ]
  },
  {
   "cell_type": "code",
   "execution_count": 133,
   "metadata": {},
   "outputs": [
    {
     "name": "stdout",
     "output_type": "stream",
     "text": [
      "Warning for adding constraints: zero or small (< 1e-13) coefficients, ignored\n"
     ]
    }
   ],
   "source": [
    "ss.build()"
   ]
  },
  {
   "cell_type": "code",
   "execution_count": 134,
   "metadata": {},
   "outputs": [
    {
     "data": {
      "text/plain": [
       "{'PV_1': {'c2': 0.0, 'c1': 0.5, 'c0': 0.0, 'cru': 0.0, 'crd': 0.0},\n",
       " 'PV_2': {'c2': 0.0, 'c1': 1.0, 'c0': 0.0, 'cru': 0.0, 'crd': 0.0},\n",
       " 'PV_3': {'c2': 0.0, 'c1': 1.2, 'c0': 0.0, 'cru': 0.0, 'crd': 0.0},\n",
       " 'PV_4': {'c2': 0.0, 'c1': 0.8, 'c0': 0.0, 'cru': 0.0, 'crd': 0.0},\n",
       " 'PV_5': {'c2': 0.0, 'c1': 0.8, 'c0': 0.0, 'cru': 0.0, 'crd': 0.0},\n",
       " 'PV_6': {'c2': 0.0, 'c1': 0.1, 'c0': 0.0, 'cru': 0.0, 'crd': 0.0},\n",
       " 'PV_7': {'c2': 0.0, 'c1': 1.0, 'c0': 0.0, 'cru': 0.0, 'crd': 0.0},\n",
       " 'PV_8': {'c2': 0.0, 'c1': 0.1, 'c0': 0.0, 'cru': 0.0, 'crd': 0.0},\n",
       " 'PV_9': {'c2': 0.0, 'c1': 0.1, 'c0': 0.0, 'cru': 0.0, 'crd': 0.0},\n",
       " 'Slack_10': {'c2': 0.0, 'c1': 1.5, 'c0': 0.0, 'cru': 0.0, 'crd': 0.0}}"
      ]
     },
     "execution_count": 134,
     "metadata": {},
     "output_type": "execute_result"
    }
   ],
   "source": [
    "# revise gen cost\n",
    "linearcost = [\n",
    "                0.5,   # PV_1 vsg\n",
    "                1, \n",
    "                1.2,\n",
    "                0.8, \n",
    "                0.8, \n",
    "                0.1,     # PV_6 vsg\n",
    "                1, \n",
    "                0.1,   # PV_8 vsg\n",
    "                0.1,   # PV_9 vsg \n",
    "                1.5    # slack\n",
    "            ]\n",
    "ss.cost['c1'] = linearcost\n",
    "ss.update_dict()\n",
    "ss.costdict"
   ]
  },
  {
   "cell_type": "code",
   "execution_count": 135,
   "metadata": {},
   "outputs": [
    {
     "name": "stdout",
     "output_type": "stream",
     "text": [
      "Warning for adding constraints: zero or small (< 1e-13) coefficients, ignored\n",
      "Gurobi Optimizer version 9.5.1 build v9.5.1rc2 (mac64[arm])\n",
      "Thread count: 8 physical cores, 8 logical processors, using up to 8 threads\n",
      "Optimize a model with 1040 rows, 678 columns and 11758 nonzeros\n",
      "Model fingerprint: 0x2b007a82\n",
      "Variable types: 358 continuous, 320 integer (320 binary)\n",
      "Coefficient statistics:\n",
      "  Matrix range     [3e-08, 1e+02]\n",
      "  Objective range  [1e-01, 2e+00]\n",
      "  Bounds range     [1e-01, 1e+01]\n",
      "  RHS range        [3e-03, 2e+03]\n",
      "Found heuristic solution: objective 41.7240000\n",
      "Presolve removed 722 rows and 439 columns\n",
      "Presolve time: 0.01s\n",
      "Presolved: 318 rows, 239 columns, 3929 nonzeros\n",
      "Variable types: 153 continuous, 86 integer (86 binary)\n",
      "\n",
      "Root relaxation: objective 2.737580e+01, 380 iterations, 0.00 seconds (0.01 work units)\n",
      "\n",
      "    Nodes    |    Current Node    |     Objective Bounds      |     Work\n",
      " Expl Unexpl |  Obj  Depth IntInf | Incumbent    BestBd   Gap | It/Node Time\n",
      "\n",
      "     0     0   27.37580    0   45   41.72400   27.37580  34.4%     -    0s\n",
      "     0     0   27.37907    0   38   41.72400   27.37907  34.4%     -    0s\n",
      "     0     0   27.37910    0   35   41.72400   27.37910  34.4%     -    0s\n",
      "H    0     0                      27.3792508   27.37916  0.00%     -    0s\n",
      "     0     0   27.37916    0   33   27.37925   27.37916  0.00%     -    0s\n",
      "\n",
      "Cutting planes:\n",
      "  Cover: 4\n",
      "  Implied bound: 22\n",
      "  Clique: 2\n",
      "  MIR: 45\n",
      "  Flow cover: 24\n",
      "  RLT: 6\n",
      "  Relax-and-lift: 27\n",
      "\n",
      "Explored 1 nodes (513 simplex iterations) in 0.06 seconds (0.05 work units)\n",
      "Thread count was 8 (of 8 available processors)\n",
      "\n",
      "Solution count 2: 27.3793 41.724 \n",
      "\n",
      "Optimal solution found (tolerance 1.00e-04)\n",
      "Best objective 2.737925075559e+01, best bound 2.737916295410e+01, gap 0.0003%\n"
     ]
    },
    {
     "name": "stderr",
     "output_type": "stream",
     "text": [
      "Msys and Dsys are normlized by devise Sbase, transform to andes Sbase when do TDS\n"
     ]
    },
    {
     "name": "stdout",
     "output_type": "stream",
     "text": [
      "--------------------- Results -------------------\n",
      "Total Cost: 27.3793\n",
      "RoCof prediction: 0.00205607 ; RoCof limit: 0.0069\n",
      "Nadir prediction: -0.000396481 ; Nadir limit 0.01\n"
     ]
    },
    {
     "data": {
      "text/plain": [
       "(        gen      Sn         pg       pru  prd\n",
       " 0      PV_1  10.400   7.996298  0.003702  0.0\n",
       " 1      PV_2   8.360   1.500000  0.000000  0.0\n",
       " 2      PV_3   8.437   1.000000  0.000000  0.0\n",
       " 3      PV_4  11.748   7.000000  0.000000  0.0\n",
       " 4      PV_5  10.802   7.000000  0.000000  0.0\n",
       " 5      PV_6  10.857   7.994808  0.005192  0.0\n",
       " 6      PV_7  10.252   2.082590  0.000000  0.0\n",
       " 7      PV_8   9.702   6.996580  0.003420  0.0\n",
       " 8      PV_9  16.841  13.993723  0.006277  0.0\n",
       " 9  Slack_10  11.990   3.000000  0.000000  0.0,\n",
       "     gen  Mvsg  Dvsg     pg_vsg   pru_vsg  prd_vsg  pmax_vsg  pmin_vsg\n",
       " 0  PV_1   2.0   2.0   7.996298  0.003702      0.0       8.0       0.1\n",
       " 1  PV_6   3.0   2.3   7.994808  0.005192      0.0       8.0       0.1\n",
       " 2  PV_8   1.5   3.0   6.996580  0.003420      0.0       7.0       0.1\n",
       " 3  PV_9   4.0   1.0  13.993723  0.006277      0.0      14.0       0.1,\n",
       " {'Msys': 5.9822889896059035,\n",
       "  'Dsys': 1.4277631946539417,\n",
       "  'Rsys': 20.933442043222,\n",
       "  'Fsys': 7.668503053753275})"
      ]
     },
     "execution_count": 135,
     "metadata": {},
     "output_type": "execute_result"
    }
   ],
   "source": [
    "ss.get_res()"
   ]
  },
  {
   "cell_type": "code",
   "execution_count": null,
   "metadata": {},
   "outputs": [],
   "source": []
  }
 ],
 "metadata": {
  "kernelspec": {
   "display_name": "Python 3.9.12 ('andes')",
   "language": "python",
   "name": "python3"
  },
  "language_info": {
   "codemirror_mode": {
    "name": "ipython",
    "version": 3
   },
   "file_extension": ".py",
   "mimetype": "text/x-python",
   "name": "python",
   "nbconvert_exporter": "python",
   "pygments_lexer": "ipython3",
   "version": "3.9.12"
  },
  "orig_nbformat": 4,
  "vscode": {
   "interpreter": {
    "hash": "9fd2f637d50f75acdaba34db232df2fd9f5c3b2d8a0fb2dac035dfd85a42e943"
   }
  }
 },
 "nbformat": 4,
 "nbformat_minor": 2
}
