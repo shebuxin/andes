{
 "cells": [
  {
   "cell_type": "code",
   "execution_count": 2,
   "metadata": {},
   "outputs": [],
   "source": [
    "import andes\n",
    "import os\n",
    "\n",
    "from andes.interop.pandapower import to_pandapower\n",
    "from andes.interop.pandapower import make_GSF, build_group_table\n",
    "import gurobipy as gb\n",
    "import pandas as pd\n",
    "import numpy as np\n",
    "import logging\n",
    "logger = logging.getLogger(__name__)"
   ]
  },
  {
   "cell_type": "markdown",
   "metadata": {},
   "source": [
    "## Test OPF model created by Jinning Wang\n"
   ]
  },
  {
   "cell_type": "markdown",
   "metadata": {},
   "source": [
    "### Based system\n",
    "Import data from andes instant"
   ]
  },
  {
   "cell_type": "code",
   "execution_count": 3,
   "metadata": {},
   "outputs": [],
   "source": [
    "class system:\n",
    "    \"\"\"\n",
    "    Base class of jams system.\n",
    "    \n",
    "    Parameters\n",
    "    ----------\n",
    "    name : str\n",
    "        Name of the system.\n",
    "\n",
    "    Attributes\n",
    "    ----------\n",
    "    bus: pandas.DataFrame\n",
    "        Bus data.\n",
    "    gen: pandas.DataFrame\n",
    "        Generator data.\n",
    "    line: pandas.DataFrame\n",
    "        Line data.\n",
    "    load: pandas.DataFrame\n",
    "        Load data.\n",
    "    gen_gsf: pandas.DataFrame\n",
    "        Generator shift factor of gen bus data.\n",
    "    cost: pandas.DataFrame\n",
    "        Cost data.\n",
    "    \"\"\"\n",
    "\n",
    "    def __init__(self, name='system'):\n",
    "        self.name = name\n",
    "\n",
    "    def update_dict(self, model=None):\n",
    "        \"\"\"\n",
    "        Update model DataFrame into model dict.\n",
    "\n",
    "        Parameters\n",
    "        ----------\n",
    "        model : list\n",
    "            list of models that need to be updated.\n",
    "            If None is given, update all models.\n",
    "        \"\"\"\n",
    "        # --- validity check ---\n",
    "        if not hasattr(self, 'cost'):\n",
    "            self._default_cost()\n",
    "\n",
    "        # --- build dict ---\n",
    "        if not model:\n",
    "            mdl_list = ['bus', 'gen', 'line', 'gen_gsf', 'cost']\n",
    "        else:\n",
    "            mdl_list = model\n",
    "        for mdl in mdl_list:\n",
    "            mdl_df = getattr(self, mdl).copy()\n",
    "            mdl_df.set_index(['idx'], inplace=True)\n",
    "            setattr(self, mdl+'dict', mdl_df.T.to_dict())\n",
    "\n",
    "    def from_andes(self, ssa):\n",
    "        \"\"\"\n",
    "        Create jams system from ANDES system.\n",
    "\n",
    "        Parameters\n",
    "        ----------\n",
    "        ssa : andes.system.system\n",
    "            ANDES system.\n",
    "            \n",
    "        Notes\n",
    "        -----\n",
    "        All generators are set as controllable.\n",
    "        \"\"\"\n",
    "        # --- base mva ---\n",
    "        self.mva = ssa.config.mva\n",
    "\n",
    "        # --- bus ---\n",
    "        bus_cols = ['idx', 'u', 'name', 'Vn', 'vmax', 'vmin', 'v0', 'a0', 'area', 'zone', 'owner']\n",
    "        self.bus = ssa.Bus.as_df()[bus_cols]\n",
    "        self.bus.sort_values('idx', inplace=True)\n",
    "\n",
    "        # --- generator ---\n",
    "        stg_cols = ['idx', 'u', 'name', 'Sn', 'Vn', 'bus', 'p0',\n",
    "                    'pmax', 'pmin', 'v0']\n",
    "        self.gen = build_group_table(ssa, 'StaticGen', stg_cols).reset_index(drop=True)\n",
    "        self.gen['ctrl'] = 1\n",
    "        # TODO: later on, merge 'ramp5', 'ramp10', 'ramp30'\n",
    "        self.gen['ramp5'] = 100\n",
    "        self.gen['ramp10'] = 200\n",
    "        self.gen['ramp30'] = 600\n",
    "        # --- later on ---\n",
    "        # self.gen['ramp5'] = self.gen['ramp5'] / self.mva\n",
    "        # self.gen['ramp10'] = self.gen['ramp10'] / self.mva\n",
    "        # self.gen['ramp30'] = self.gen['ramp30'] / self.mva\n",
    "        # if self.gen['ramp5'].max() == 0:\n",
    "        #     self.gen['ramp5'] = 100\n",
    "        #     self.gen['ramp10'] = 100\n",
    "        #     self.gen['ramp30'] = 100\n",
    "\n",
    "        # --- load ---\n",
    "        pq_cols = ['idx', 'u', 'name', 'bus', 'Vn', 'p0', 'q0',\n",
    "                   'vmax', 'vmin', 'owner']\n",
    "        self.load = ssa.PQ.as_df()[pq_cols]\n",
    "        self.load.sort_values(by='idx', inplace=True)\n",
    "\n",
    "        # --- line ---\n",
    "        line_cols = ['idx', 'u', 'name', 'bus1', 'bus2', 'Sn', 'fn', 'Vn1', 'Vn2',\n",
    "                     'trans', 'tap', 'phi', 'rate_a', 'rate_b', 'rate_c']\n",
    "        ssa_line = ssa.Line.as_df()\n",
    "        self.line = ssa_line[line_cols][ssa_line['trans'] == 0].reset_index(drop=True)\n",
    "\n",
    "        self.load.sort_values(by='idx', inplace=True)\n",
    "        if self.line['rate_a'].max() == 0:\n",
    "            self.line['rate_a'] = 2000\n",
    "            self.line['rate_b'] = 2000\n",
    "            self.line['rate_c'] = 2000\n",
    "        self.line['rate_a'] = self.line['rate_a'] / self.mva\n",
    "        self.line['rate_b'] = self.line['rate_b'] / self.mva\n",
    "        self.line['rate_c'] = self.line['rate_c'] / self.mva\n",
    "\n",
    "        # --- GSF ---\n",
    "        ssp = to_pandapower(ssa)\n",
    "        gsf_matrix = make_GSF(ssp)\n",
    "        self.gsf_matrix = gsf_matrix\n",
    "        gsfdata = pd.DataFrame(gsf_matrix)\n",
    "        \n",
    "        gsfdata.columns = self.bus['idx']\n",
    "        gsfdata['line'] = self.line.idx\n",
    "        gsfdata.set_index('line', inplace=True)\n",
    "        gsfT = gsfdata.T\n",
    "        gsfT['bus'] = self.bus['idx']\n",
    "        self.gen_gsf = self.gen[['idx', 'name', 'bus']].merge(gsfT, on='bus', how='left')\n",
    "        self.gen_gsf.sort_values(by='idx', inplace=True)\n",
    "\n",
    "        # add power surplus, where the controlled gen is removed\n",
    "        sup = pd.DataFrame()\n",
    "        sup['bus'] = self.bus['idx']\n",
    "        sup = sup.merge(self.load[['bus', 'p0']],\n",
    "                        on='bus', how='left').fillna(0).rename(columns={'p0': 'load'})\n",
    "        sup['net'] = (-1 * sup.load)\n",
    "        sup2 = sup[['bus', 'net']].groupby('bus').sum()\n",
    "        self.line['sup'] = np.matmul(gsf_matrix, sup2.net.values)\n",
    "\n",
    "        # --- update dict ---\n",
    "        self.update_dict(model=None)\n",
    "\n",
    "    def _default_cost(self):\n",
    "        \"\"\"\n",
    "        Default cost data: c1=1, all other are 0.\n",
    "        \"\"\"\n",
    "        self.cost = pd.DataFrame()\n",
    "        self.cost['idx'] = self.gen['idx']\n",
    "        self.cost['c2'] = 0\n",
    "        self.cost['c1'] = 1\n",
    "        self.cost['c0'] = 0\n",
    "        self.cost['cr'] = 0"
   ]
  },
  {
   "cell_type": "markdown",
   "metadata": {},
   "source": [
    "### DCOPF\n",
    "Formulate DCOPF cosntraints based on base system"
   ]
  },
  {
   "cell_type": "code",
   "execution_count": 4,
   "metadata": {},
   "outputs": [],
   "source": [
    "class dcopf(system):\n",
    "    \"\"\"\n",
    "    DCOPF class.\n",
    "    \n",
    "    Parameters\n",
    "    ----------\n",
    "    name : str\n",
    "        Name of the system.\n",
    "\n",
    "    Attributes\n",
    "    ----------\n",
    "    bus: pandas.DataFrame\n",
    "        Bus data.\n",
    "    gen: pandas.DataFrame\n",
    "        Generator data.\n",
    "    line: pandas.DataFrame\n",
    "        Line data.\n",
    "    load: pandas.DataFrame\n",
    "        Load data.\n",
    "    gen_gsf: pandas.DataFrame\n",
    "        Generator shift factor of gen bus data.\n",
    "    cost: pandas.DataFrame\n",
    "        Cost data.\n",
    "    \"\"\"\n",
    "\n",
    "    def __init__(self, name='dcopf'):\n",
    "        super().__init__(name)\n",
    "        self.mdl = gb.Model(name)\n",
    "        self.res_cost = 0\n",
    "\n",
    "    def build(self):\n",
    "        self.update_dict()\n",
    "        # --- build DCOPF model ---\n",
    "        self.mdl = self._build_vars(self.mdl)\n",
    "        self.mdl = self._build_obj(self.mdl)\n",
    "        self.mdl = self._build_cons(self.mdl)\n",
    "        logger.warning('Successfully build DCOPF model.')\n",
    "\n",
    "    def _build_vars(self, mdl):\n",
    "        GEN = self.gendict.keys()\n",
    "        # --- uncontrollable generators limit to p0 ---\n",
    "        gencp = self.gen.copy()\n",
    "        gencp['pmax'][gencp.ctrl == 0] = gencp['p0'][gencp.ctrl == 0]\n",
    "        gencp['pmin'][gencp.ctrl == 0] = gencp['p0'][gencp.ctrl == 0]\n",
    "        # --- offline geenrators limit to 0 ---\n",
    "        gencp['pmax'][gencp.u == 0] = 0\n",
    "        gencp['pmin'][gencp.u == 0] = 0\n",
    "        # --- gen: pg ---\n",
    "        self.pg = mdl.addVars(GEN, name='pg', vtype=gb.GRB.CONTINUOUS, obj=0,\n",
    "                              ub=gencp.pmax.tolist(), lb=gencp.pmin.tolist())\n",
    "        return mdl\n",
    "\n",
    "    def _build_obj(self, mdl):\n",
    "        GEN = self.gendict.keys()\n",
    "        gendict = self.gendict\n",
    "        costdict = self.costdict\n",
    "        # --- minimize generation cost ---\n",
    "        cost_pg = sum(self.pg[gen] * costdict[gen]['c1']\n",
    "                      + self.pg[gen] * self.pg[gen] * costdict[gen]['c2']\n",
    "                      + costdict[gen]['c0'] * gendict[gen]['u']  # online status\n",
    "                      for gen in GEN)\n",
    "        self.obj = mdl.setObjective(expr=cost_pg, sense=gb.GRB.MINIMIZE)\n",
    "        return mdl\n",
    "\n",
    "    def _build_cons(self, mdl):\n",
    "        ptotal = self.load.p0.sum() \n",
    "\n",
    "        gendict = self.gendict\n",
    "        linedict = self.linedict\n",
    "        gen_gsfdict = self.gen_gsfdict\n",
    "\n",
    "        GEN = gendict.keys()\n",
    "        LINE = linedict.keys()\n",
    "\n",
    "        # --- power balance ---\n",
    "        p_sum = sum(self.pg[gen] for gen in GEN)\n",
    "        mdl.addConstr(p_sum == ptotal, name='PowerBalance')\n",
    "\n",
    "        # --- line limits ---\n",
    "        for line in LINE:\n",
    "            lhs1 = sum(self.pg[gen] * gen_gsfdict[gen][line] for gen in GEN)\n",
    "            mdl.addConstr(lhs1+linedict[line]['sup'] <= linedict[line]['rate_a'], name=f'{line}_U')\n",
    "            mdl.addConstr(lhs1+linedict[line]['sup'] >= -linedict[line]['rate_a'], name=f'{line}_D')\n",
    "        return mdl\n",
    "\n",
    "    def get_res(self):\n",
    "        \"\"\"\n",
    "        Get resutlts, can be used after mdl.optimize().\n",
    "        Returns\n",
    "        -------\n",
    "        DataFrame\n",
    "            The output DataFrame contains setpoints ``pg``\n",
    "        \"\"\"\n",
    "        self.build()\n",
    "        self.mdl.optimize()\n",
    "        # --- check if mdl is sovled ---\n",
    "        if not hasattr(self.pg[self.gen.idx[0]], 'X'):\n",
    "            logger.warning('DCOPF has no valid resutls!')\n",
    "            pg = [0] * self.gen.shape[0]\n",
    "        else:\n",
    "            logger.warning('Successfully solve DCOPF.')\n",
    "            # --- gather data --\n",
    "            pg = []\n",
    "            for gen in self.gendict.keys():\n",
    "                pg.append(self.pg[gen].X)\n",
    "            # --- cost ---\n",
    "            self.res_cost = self.mdl.getObjective().getValue()\n",
    "            logger.info(f'Total cost={np.round(self.res_cost, 3)}')\n",
    "        \n",
    "        # --- build output table ---\n",
    "        dcres = pd.DataFrame()\n",
    "        dcres['gen'] = self.gen['idx']\n",
    "        dcres['pg'] = pg\n",
    "        dcres.fillna(0, inplace=True) # unsolved gurobipy result is nan\n",
    "        return dcres"
   ]
  },
  {
   "cell_type": "markdown",
   "metadata": {},
   "source": [
    "## Test (main)\n"
   ]
  },
  {
   "cell_type": "code",
   "execution_count": 5,
   "metadata": {},
   "outputs": [],
   "source": [
    "# get andes case from excel\n",
    "dir_path = os.path.abspath('..')\n",
    "case_path = '/VIS_opf/ieee14_base.xlsx'\n",
    "case = dir_path + case_path\n",
    "ssa = andes.load(case, no_output=True)"
   ]
  },
  {
   "cell_type": "code",
   "execution_count": 6,
   "metadata": {},
   "outputs": [
    {
     "name": "stdout",
     "output_type": "stream",
     "text": [
      "Restricted license - for non-production use only - expires 2023-10-25\n"
     ]
    }
   ],
   "source": [
    "ss = dcopf()"
   ]
  },
  {
   "cell_type": "code",
   "execution_count": 7,
   "metadata": {},
   "outputs": [],
   "source": [
    "ss.from_andes(ssa)"
   ]
  },
  {
   "cell_type": "code",
   "execution_count": 8,
   "metadata": {},
   "outputs": [
    {
     "name": "stderr",
     "output_type": "stream",
     "text": [
      "Successfully build DCOPF model.\n"
     ]
    }
   ],
   "source": [
    "ss.build()"
   ]
  },
  {
   "cell_type": "code",
   "execution_count": 9,
   "metadata": {},
   "outputs": [
    {
     "name": "stderr",
     "output_type": "stream",
     "text": [
      "Successfully build DCOPF model.\n"
     ]
    },
    {
     "name": "stdout",
     "output_type": "stream",
     "text": [
      "Gurobi Optimizer version 9.5.1 build v9.5.1rc2 (linux64)\n",
      "Thread count: 6 physical cores, 12 logical processors, using up to 12 threads\n",
      "Optimize a model with 66 rows, 12 columns and 268 nonzeros\n",
      "Model fingerprint: 0xd04bc91f\n",
      "Coefficient statistics:\n",
      "  Matrix range     [4e-04, 1e+00]\n",
      "  Objective range  [1e+00, 1e+00]\n",
      "  Bounds range     [1e-01, 3e+00]\n",
      "  RHS range        [1e-01, 4e+00]\n",
      "Presolve removed 64 rows and 7 columns\n",
      "Presolve time: 0.00s\n",
      "Presolved: 2 rows, 5 columns, 9 nonzeros\n",
      "\n",
      "Iteration    Objective       Primal Inf.    Dual Inf.      Time\n",
      "       0    2.2370000e+00   0.000000e+00   0.000000e+00      0s\n",
      "       0    2.2370000e+00   0.000000e+00   0.000000e+00      0s\n",
      "\n",
      "Solved in 0 iterations and 0.01 seconds (0.00 work units)\n",
      "Optimal objective  2.237000000e+00\n"
     ]
    },
    {
     "name": "stderr",
     "output_type": "stream",
     "text": [
      "Successfully solve DCOPF.\n"
     ]
    },
    {
     "data": {
      "text/html": [
       "<div>\n",
       "<style scoped>\n",
       "    .dataframe tbody tr th:only-of-type {\n",
       "        vertical-align: middle;\n",
       "    }\n",
       "\n",
       "    .dataframe tbody tr th {\n",
       "        vertical-align: top;\n",
       "    }\n",
       "\n",
       "    .dataframe thead th {\n",
       "        text-align: right;\n",
       "    }\n",
       "</style>\n",
       "<table border=\"1\" class=\"dataframe\">\n",
       "  <thead>\n",
       "    <tr style=\"text-align: right;\">\n",
       "      <th></th>\n",
       "      <th>gen</th>\n",
       "      <th>pg</th>\n",
       "    </tr>\n",
       "  </thead>\n",
       "  <tbody>\n",
       "    <tr>\n",
       "      <th>0</th>\n",
       "      <td>PV_2</td>\n",
       "      <td>0.100</td>\n",
       "    </tr>\n",
       "    <tr>\n",
       "      <th>1</th>\n",
       "      <td>PV_3</td>\n",
       "      <td>0.100</td>\n",
       "    </tr>\n",
       "    <tr>\n",
       "      <th>2</th>\n",
       "      <td>PV_4</td>\n",
       "      <td>0.100</td>\n",
       "    </tr>\n",
       "    <tr>\n",
       "      <th>3</th>\n",
       "      <td>PV_5</td>\n",
       "      <td>0.100</td>\n",
       "    </tr>\n",
       "    <tr>\n",
       "      <th>4</th>\n",
       "      <td>PV_6</td>\n",
       "      <td>-0.100</td>\n",
       "    </tr>\n",
       "    <tr>\n",
       "      <th>5</th>\n",
       "      <td>Slack_1</td>\n",
       "      <td>1.937</td>\n",
       "    </tr>\n",
       "  </tbody>\n",
       "</table>\n",
       "</div>"
      ],
      "text/plain": [
       "       gen     pg\n",
       "0     PV_2  0.100\n",
       "1     PV_3  0.100\n",
       "2     PV_4  0.100\n",
       "3     PV_5  0.100\n",
       "4     PV_6 -0.100\n",
       "5  Slack_1  1.937"
      ]
     },
     "execution_count": 9,
     "metadata": {},
     "output_type": "execute_result"
    }
   ],
   "source": [
    "ss.get_res()"
   ]
  },
  {
   "cell_type": "markdown",
   "metadata": {},
   "source": [
    "## Test Attributes and Var"
   ]
  },
  {
   "cell_type": "code",
   "execution_count": 10,
   "metadata": {},
   "outputs": [
    {
     "data": {
      "text/html": [
       "<div>\n",
       "<style scoped>\n",
       "    .dataframe tbody tr th:only-of-type {\n",
       "        vertical-align: middle;\n",
       "    }\n",
       "\n",
       "    .dataframe tbody tr th {\n",
       "        vertical-align: top;\n",
       "    }\n",
       "\n",
       "    .dataframe thead th {\n",
       "        text-align: right;\n",
       "    }\n",
       "</style>\n",
       "<table border=\"1\" class=\"dataframe\">\n",
       "  <thead>\n",
       "    <tr style=\"text-align: right;\">\n",
       "      <th></th>\n",
       "      <th>idx</th>\n",
       "      <th>c2</th>\n",
       "      <th>c1</th>\n",
       "      <th>c0</th>\n",
       "      <th>cr</th>\n",
       "    </tr>\n",
       "  </thead>\n",
       "  <tbody>\n",
       "    <tr>\n",
       "      <th>0</th>\n",
       "      <td>PV_2</td>\n",
       "      <td>0</td>\n",
       "      <td>1</td>\n",
       "      <td>0</td>\n",
       "      <td>0</td>\n",
       "    </tr>\n",
       "    <tr>\n",
       "      <th>1</th>\n",
       "      <td>PV_3</td>\n",
       "      <td>0</td>\n",
       "      <td>1</td>\n",
       "      <td>0</td>\n",
       "      <td>0</td>\n",
       "    </tr>\n",
       "    <tr>\n",
       "      <th>2</th>\n",
       "      <td>PV_4</td>\n",
       "      <td>0</td>\n",
       "      <td>1</td>\n",
       "      <td>0</td>\n",
       "      <td>0</td>\n",
       "    </tr>\n",
       "    <tr>\n",
       "      <th>3</th>\n",
       "      <td>PV_5</td>\n",
       "      <td>0</td>\n",
       "      <td>1</td>\n",
       "      <td>0</td>\n",
       "      <td>0</td>\n",
       "    </tr>\n",
       "    <tr>\n",
       "      <th>4</th>\n",
       "      <td>PV_6</td>\n",
       "      <td>0</td>\n",
       "      <td>1</td>\n",
       "      <td>0</td>\n",
       "      <td>0</td>\n",
       "    </tr>\n",
       "    <tr>\n",
       "      <th>5</th>\n",
       "      <td>Slack_1</td>\n",
       "      <td>0</td>\n",
       "      <td>1</td>\n",
       "      <td>0</td>\n",
       "      <td>0</td>\n",
       "    </tr>\n",
       "  </tbody>\n",
       "</table>\n",
       "</div>"
      ],
      "text/plain": [
       "       idx  c2  c1  c0  cr\n",
       "0     PV_2   0   1   0   0\n",
       "1     PV_3   0   1   0   0\n",
       "2     PV_4   0   1   0   0\n",
       "3     PV_5   0   1   0   0\n",
       "4     PV_6   0   1   0   0\n",
       "5  Slack_1   0   1   0   0"
      ]
     },
     "execution_count": 10,
     "metadata": {},
     "output_type": "execute_result"
    }
   ],
   "source": [
    "ss.cost"
   ]
  },
  {
   "cell_type": "code",
   "execution_count": 11,
   "metadata": {},
   "outputs": [
    {
     "data": {
      "text/plain": [
       "{'PV_2': {'c2': 0, 'c1': 1, 'c0': 0, 'cr': 0},\n",
       " 'PV_3': {'c2': 0, 'c1': 1, 'c0': 0, 'cr': 0},\n",
       " 'PV_4': {'c2': 0, 'c1': 1, 'c0': 0, 'cr': 0},\n",
       " 'PV_5': {'c2': 0, 'c1': 1, 'c0': 0, 'cr': 0},\n",
       " 'PV_6': {'c2': 0, 'c1': 1, 'c0': 0, 'cr': 0},\n",
       " 'Slack_1': {'c2': 0, 'c1': 1, 'c0': 0, 'cr': 0}}"
      ]
     },
     "execution_count": 11,
     "metadata": {},
     "output_type": "execute_result"
    }
   ],
   "source": [
    "ss.costdict"
   ]
  },
  {
   "cell_type": "code",
   "execution_count": 12,
   "metadata": {},
   "outputs": [],
   "source": [
    "ss.cost['c2'] = 2"
   ]
  },
  {
   "cell_type": "code",
   "execution_count": 13,
   "metadata": {},
   "outputs": [
    {
     "data": {
      "text/html": [
       "<div>\n",
       "<style scoped>\n",
       "    .dataframe tbody tr th:only-of-type {\n",
       "        vertical-align: middle;\n",
       "    }\n",
       "\n",
       "    .dataframe tbody tr th {\n",
       "        vertical-align: top;\n",
       "    }\n",
       "\n",
       "    .dataframe thead th {\n",
       "        text-align: right;\n",
       "    }\n",
       "</style>\n",
       "<table border=\"1\" class=\"dataframe\">\n",
       "  <thead>\n",
       "    <tr style=\"text-align: right;\">\n",
       "      <th></th>\n",
       "      <th>idx</th>\n",
       "      <th>c2</th>\n",
       "      <th>c1</th>\n",
       "      <th>c0</th>\n",
       "      <th>cr</th>\n",
       "    </tr>\n",
       "  </thead>\n",
       "  <tbody>\n",
       "    <tr>\n",
       "      <th>0</th>\n",
       "      <td>PV_2</td>\n",
       "      <td>2</td>\n",
       "      <td>1</td>\n",
       "      <td>0</td>\n",
       "      <td>0</td>\n",
       "    </tr>\n",
       "    <tr>\n",
       "      <th>1</th>\n",
       "      <td>PV_3</td>\n",
       "      <td>2</td>\n",
       "      <td>1</td>\n",
       "      <td>0</td>\n",
       "      <td>0</td>\n",
       "    </tr>\n",
       "    <tr>\n",
       "      <th>2</th>\n",
       "      <td>PV_4</td>\n",
       "      <td>2</td>\n",
       "      <td>1</td>\n",
       "      <td>0</td>\n",
       "      <td>0</td>\n",
       "    </tr>\n",
       "    <tr>\n",
       "      <th>3</th>\n",
       "      <td>PV_5</td>\n",
       "      <td>2</td>\n",
       "      <td>1</td>\n",
       "      <td>0</td>\n",
       "      <td>0</td>\n",
       "    </tr>\n",
       "    <tr>\n",
       "      <th>4</th>\n",
       "      <td>PV_6</td>\n",
       "      <td>2</td>\n",
       "      <td>1</td>\n",
       "      <td>0</td>\n",
       "      <td>0</td>\n",
       "    </tr>\n",
       "    <tr>\n",
       "      <th>5</th>\n",
       "      <td>Slack_1</td>\n",
       "      <td>2</td>\n",
       "      <td>1</td>\n",
       "      <td>0</td>\n",
       "      <td>0</td>\n",
       "    </tr>\n",
       "  </tbody>\n",
       "</table>\n",
       "</div>"
      ],
      "text/plain": [
       "       idx  c2  c1  c0  cr\n",
       "0     PV_2   2   1   0   0\n",
       "1     PV_3   2   1   0   0\n",
       "2     PV_4   2   1   0   0\n",
       "3     PV_5   2   1   0   0\n",
       "4     PV_6   2   1   0   0\n",
       "5  Slack_1   2   1   0   0"
      ]
     },
     "execution_count": 13,
     "metadata": {},
     "output_type": "execute_result"
    }
   ],
   "source": [
    "ss.cost"
   ]
  },
  {
   "cell_type": "code",
   "execution_count": 14,
   "metadata": {},
   "outputs": [
    {
     "data": {
      "text/plain": [
       "(16, 14)"
      ]
     },
     "execution_count": 14,
     "metadata": {},
     "output_type": "execute_result"
    }
   ],
   "source": [
    "ss.gsf_matrix.shape"
   ]
  },
  {
   "cell_type": "code",
   "execution_count": 15,
   "metadata": {},
   "outputs": [
    {
     "data": {
      "text/html": [
       "<div>\n",
       "<style scoped>\n",
       "    .dataframe tbody tr th:only-of-type {\n",
       "        vertical-align: middle;\n",
       "    }\n",
       "\n",
       "    .dataframe tbody tr th {\n",
       "        vertical-align: top;\n",
       "    }\n",
       "\n",
       "    .dataframe thead th {\n",
       "        text-align: right;\n",
       "    }\n",
       "</style>\n",
       "<table border=\"1\" class=\"dataframe\">\n",
       "  <thead>\n",
       "    <tr style=\"text-align: right;\">\n",
       "      <th></th>\n",
       "      <th>idx</th>\n",
       "      <th>u</th>\n",
       "      <th>name</th>\n",
       "      <th>Sn</th>\n",
       "      <th>Vn</th>\n",
       "      <th>bus</th>\n",
       "      <th>p0</th>\n",
       "      <th>pmax</th>\n",
       "      <th>pmin</th>\n",
       "      <th>v0</th>\n",
       "      <th>ctrl</th>\n",
       "      <th>ramp5</th>\n",
       "      <th>ramp10</th>\n",
       "      <th>ramp30</th>\n",
       "    </tr>\n",
       "  </thead>\n",
       "  <tbody>\n",
       "    <tr>\n",
       "      <th>0</th>\n",
       "      <td>PV_2</td>\n",
       "      <td>1.0</td>\n",
       "      <td>PV_2</td>\n",
       "      <td>100.0</td>\n",
       "      <td>69.0</td>\n",
       "      <td>2</td>\n",
       "      <td>0.4</td>\n",
       "      <td>0.5</td>\n",
       "      <td>0.1</td>\n",
       "      <td>1.03</td>\n",
       "      <td>1</td>\n",
       "      <td>100</td>\n",
       "      <td>200</td>\n",
       "      <td>600</td>\n",
       "    </tr>\n",
       "    <tr>\n",
       "      <th>1</th>\n",
       "      <td>PV_3</td>\n",
       "      <td>1.0</td>\n",
       "      <td>PV_3</td>\n",
       "      <td>100.0</td>\n",
       "      <td>69.0</td>\n",
       "      <td>3</td>\n",
       "      <td>0.4</td>\n",
       "      <td>0.5</td>\n",
       "      <td>0.1</td>\n",
       "      <td>1.01</td>\n",
       "      <td>1</td>\n",
       "      <td>100</td>\n",
       "      <td>200</td>\n",
       "      <td>600</td>\n",
       "    </tr>\n",
       "    <tr>\n",
       "      <th>2</th>\n",
       "      <td>PV_4</td>\n",
       "      <td>1.0</td>\n",
       "      <td>PV_4</td>\n",
       "      <td>100.0</td>\n",
       "      <td>138.0</td>\n",
       "      <td>6</td>\n",
       "      <td>0.3</td>\n",
       "      <td>1.0</td>\n",
       "      <td>0.1</td>\n",
       "      <td>1.03</td>\n",
       "      <td>1</td>\n",
       "      <td>100</td>\n",
       "      <td>200</td>\n",
       "      <td>600</td>\n",
       "    </tr>\n",
       "    <tr>\n",
       "      <th>3</th>\n",
       "      <td>PV_5</td>\n",
       "      <td>1.0</td>\n",
       "      <td>PV_5</td>\n",
       "      <td>100.0</td>\n",
       "      <td>69.0</td>\n",
       "      <td>8</td>\n",
       "      <td>0.3</td>\n",
       "      <td>0.5</td>\n",
       "      <td>0.1</td>\n",
       "      <td>1.03</td>\n",
       "      <td>1</td>\n",
       "      <td>100</td>\n",
       "      <td>200</td>\n",
       "      <td>600</td>\n",
       "    </tr>\n",
       "    <tr>\n",
       "      <th>4</th>\n",
       "      <td>PV_6</td>\n",
       "      <td>1.0</td>\n",
       "      <td>PV_6</td>\n",
       "      <td>100.0</td>\n",
       "      <td>69.0</td>\n",
       "      <td>4</td>\n",
       "      <td>-0.01</td>\n",
       "      <td>0.1</td>\n",
       "      <td>-0.1</td>\n",
       "      <td>1.01</td>\n",
       "      <td>1</td>\n",
       "      <td>100</td>\n",
       "      <td>200</td>\n",
       "      <td>600</td>\n",
       "    </tr>\n",
       "    <tr>\n",
       "      <th>5</th>\n",
       "      <td>Slack_1</td>\n",
       "      <td>1.0</td>\n",
       "      <td>Slack_1</td>\n",
       "      <td>100.0</td>\n",
       "      <td>69.0</td>\n",
       "      <td>1</td>\n",
       "      <td>0.81442</td>\n",
       "      <td>3.0</td>\n",
       "      <td>0.5</td>\n",
       "      <td>1.03</td>\n",
       "      <td>1</td>\n",
       "      <td>100</td>\n",
       "      <td>200</td>\n",
       "      <td>600</td>\n",
       "    </tr>\n",
       "  </tbody>\n",
       "</table>\n",
       "</div>"
      ],
      "text/plain": [
       "       idx    u     name     Sn     Vn bus       p0 pmax pmin    v0  ctrl  \\\n",
       "0     PV_2  1.0     PV_2  100.0   69.0   2      0.4  0.5  0.1  1.03     1   \n",
       "1     PV_3  1.0     PV_3  100.0   69.0   3      0.4  0.5  0.1  1.01     1   \n",
       "2     PV_4  1.0     PV_4  100.0  138.0   6      0.3  1.0  0.1  1.03     1   \n",
       "3     PV_5  1.0     PV_5  100.0   69.0   8      0.3  0.5  0.1  1.03     1   \n",
       "4     PV_6  1.0     PV_6  100.0   69.0   4    -0.01  0.1 -0.1  1.01     1   \n",
       "5  Slack_1  1.0  Slack_1  100.0   69.0   1  0.81442  3.0  0.5  1.03     1   \n",
       "\n",
       "   ramp5  ramp10  ramp30  \n",
       "0    100     200     600  \n",
       "1    100     200     600  \n",
       "2    100     200     600  \n",
       "3    100     200     600  \n",
       "4    100     200     600  \n",
       "5    100     200     600  "
      ]
     },
     "execution_count": 15,
     "metadata": {},
     "output_type": "execute_result"
    }
   ],
   "source": [
    "ss.gen"
   ]
  },
  {
   "cell_type": "code",
   "execution_count": 16,
   "metadata": {},
   "outputs": [
    {
     "data": {
      "text/plain": [
       "{'PV_2': <gurobi.Var pg[PV_2] (value 0.1)>,\n",
       " 'PV_3': <gurobi.Var pg[PV_3] (value 0.1)>,\n",
       " 'PV_4': <gurobi.Var pg[PV_4] (value 0.1)>,\n",
       " 'PV_5': <gurobi.Var pg[PV_5] (value 0.1)>,\n",
       " 'PV_6': <gurobi.Var pg[PV_6] (value -0.1)>,\n",
       " 'Slack_1': <gurobi.Var pg[Slack_1] (value 1.9369999999999998)>}"
      ]
     },
     "execution_count": 16,
     "metadata": {},
     "output_type": "execute_result"
    }
   ],
   "source": [
    "ss.pg"
   ]
  },
  {
   "cell_type": "code",
   "execution_count": 17,
   "metadata": {},
   "outputs": [
    {
     "data": {
      "text/plain": [
       "dict_keys(['PV_2', 'PV_3', 'PV_4', 'PV_5', 'PV_6', 'Slack_1'])"
      ]
     },
     "execution_count": 17,
     "metadata": {},
     "output_type": "execute_result"
    }
   ],
   "source": [
    "ss.gendict.keys()"
   ]
  },
  {
   "cell_type": "code",
   "execution_count": 18,
   "metadata": {},
   "outputs": [
    {
     "data": {
      "text/plain": [
       "{'PV_2': {'c2': 0, 'c1': 1, 'c0': 0, 'cr': 0},\n",
       " 'PV_3': {'c2': 0, 'c1': 1, 'c0': 0, 'cr': 0},\n",
       " 'PV_4': {'c2': 0, 'c1': 1, 'c0': 0, 'cr': 0},\n",
       " 'PV_5': {'c2': 0, 'c1': 1, 'c0': 0, 'cr': 0},\n",
       " 'PV_6': {'c2': 0, 'c1': 1, 'c0': 0, 'cr': 0},\n",
       " 'Slack_1': {'c2': 0, 'c1': 1, 'c0': 0, 'cr': 0}}"
      ]
     },
     "execution_count": 18,
     "metadata": {},
     "output_type": "execute_result"
    }
   ],
   "source": [
    "ss.costdict\n"
   ]
  },
  {
   "cell_type": "code",
   "execution_count": 19,
   "metadata": {},
   "outputs": [
    {
     "data": {
      "text/plain": [
       "2.237"
      ]
     },
     "execution_count": 19,
     "metadata": {},
     "output_type": "execute_result"
    }
   ],
   "source": [
    "ss.load.p0.sum()"
   ]
  },
  {
   "cell_type": "code",
   "execution_count": 20,
   "metadata": {},
   "outputs": [
    {
     "data": {
      "text/plain": [
       "2.237"
      ]
     },
     "execution_count": 20,
     "metadata": {},
     "output_type": "execute_result"
    }
   ],
   "source": [
    "ss.res_cost"
   ]
  },
  {
   "cell_type": "code",
   "execution_count": 22,
   "metadata": {},
   "outputs": [
    {
     "name": "stdout",
     "output_type": "stream",
     "text": [
      "Minimize\n",
      "  <gurobi.LinExpr: pg[PV_2] + pg[PV_3] + pg[PV_4] + pg[PV_5] + pg[PV_6] + pg[Slack_1]>\n",
      "Subject To\n",
      "PowerBalance: <gurobi.LinExpr: pg[PV_2] + pg[PV_3] + pg[PV_4] + pg[PV_5] + pg[PV_6] +\n",
      " pg[Slack_1]> = 2.237\n",
      "Line_1_U: <gurobi.LinExpr: -0.8380258373889505 pg[PV_3] + -0.6105580062323537 pg[PV_4]\n",
      " + -0.6573114828670689 pg[PV_5] + -0.746539270176955 pg[PV_6]> <= 0.4592\n",
      "Line_1_D: <gurobi.LinExpr: -0.8380258373889505 pg[PV_3] + -0.6105580062323537 pg[PV_4]\n",
      " + -0.6573114828670689 pg[PV_5] + -0.746539270176955 pg[PV_6]> >= -3.5408\n",
      "Line_2_U: <gurobi.LinExpr: -0.16197416261104897 pg[PV_3] + -0.3894419937676453 pg[PV_4]\n",
      " + -0.3426885171329301 pg[PV_5] + -0.25346072982304424 pg[PV_6]> <= 0.3038\n",
      "Line_2_D: <gurobi.LinExpr: -0.16197416261104897 pg[PV_3] + -0.3894419937676453 pg[PV_4]\n",
      " + -0.3426885171329301 pg[PV_5] + -0.25346072982304424 pg[PV_6]> >= -1.6962\n",
      "Line_3_U: <gurobi.LinExpr: 0.0273438408947506 pg[PV_3] + -0.10307200056050626 pg[PV_4]\n",
      " + -0.1427239899061679 pg[PV_5] + -0.5320311371153111 pg[PV_6]> <= 0.534372\n",
      "Line_3_D: <gurobi.LinExpr: 0.0273438408947506 pg[PV_3] + -0.10307200056050626 pg[PV_4]\n",
      " + -0.1427239899061679 pg[PV_5] + -0.5320311371153111 pg[PV_6]> >= -1.46563\n",
      "Line_4_U: <gurobi.LinExpr: 0.057224803142938825 pg[PV_3] + -0.2157076236775568 pg[PV_4]\n",
      " + -0.2986907456634299 pg[PV_5] + -0.14342950088220185 pg[PV_6]> <= 0.510539\n",
      "Line_4_D: <gurobi.LinExpr: 0.057224803142938825 pg[PV_3] + -0.2157076236775568 pg[PV_4]\n",
      " + -0.2986907456634299 pg[PV_5] + -0.14342950088220185 pg[PV_6]> >= -1.48946\n",
      "Line_5_U: <gurobi.LinExpr: 0.07740551857336 pg[PV_3] + -0.2917783819942906 pg[PV_4] +\n",
      " -0.21589674729747102 pg[PV_5] + -0.07107863217944196 pg[PV_6]> <= 0.631289\n",
      "Line_5_D: <gurobi.LinExpr: 0.07740551857336 pg[PV_3] + -0.2917783819942906 pg[PV_4] +\n",
      " -0.21589674729747102 pg[PV_5] + -0.07107863217944196 pg[PV_6]> >= -1.36871\n",
      "Line_6_U: <gurobi.LinExpr: 0.027343840894750594 pg[PV_3] + -0.1030720005605063 pg[PV_4]\n",
      " + -0.14272398990616791 pg[PV_5] + 0.4679688628846888 pg[PV_6]> <= 0.534372\n",
      "Line_6_D: <gurobi.LinExpr: 0.027343840894750594 pg[PV_3] + -0.1030720005605063 pg[PV_4]\n",
      " + -0.14272398990616791 pg[PV_5] + 0.4679688628846888 pg[PV_6]> >= -0.465628\n",
      "Line_7_U: <gurobi.LinExpr: 0.08001411254744407 pg[PV_3] + -0.30161141900594685 pg[PV_4]\n",
      " + 0.3591789564305798 pg[PV_5] + 0.3070609601564586 pg[PV_6]> <= 1.52696\n",
      "Line_7_D: <gurobi.LinExpr: 0.08001411254744407 pg[PV_3] + -0.30161141900594685 pg[PV_4]\n",
      " + 0.3591789564305798 pg[PV_5] + 0.3070609601564586 pg[PV_6]> >= -0.473039\n",
      "Line_8_U: <gurobi.LinExpr: -0.0027426322098929516 pg[PV_3] + 0.010338291162658919\n",
      " pg[PV_4] + -0.12007780917696341 pg[PV_5] + -0.010525084299677884 pg[PV_6]> <= 0.446615\n",
      "Line_8_D: <gurobi.LinExpr: -0.0027426322098929516 pg[PV_3] + 0.010338291162658919\n",
      " pg[PV_4] + -0.12007780917696341 pg[PV_5] + -0.010525084299677884 pg[PV_6]> >= -0.553385\n",
      "Line_9_U: <gurobi.LinExpr: -0.00040281950858675827 pg[PV_3] + 0.0015184191853167839\n",
      " pg[PV_4] + -0.01763622694664108 pg[PV_5] + -0.001545854114210954 pg[PV_6]> <= 0.421708\n",
      "Line_9_D: <gurobi.LinExpr: -0.00040281950858675827 pg[PV_3] + 0.0015184191853167839\n",
      " pg[PV_4] + -0.01763622694664108 pg[PV_5] + -0.001545854114210954 pg[PV_6]> >= -0.578292\n",
      "Line_10_U: <gurobi.LinExpr: -0.0014090797717655852 pg[PV_3] + 0.005311494884140623\n",
      " pg[PV_4] + -0.06169227187621774 pg[PV_5] + -0.005407463432139359 pg[PV_6]> <= 0.819727\n",
      "Line_10_D: <gurobi.LinExpr: -0.0014090797717655852 pg[PV_3] + 0.005311494884140623\n",
      " pg[PV_4] + -0.06169227187621774 pg[PV_5] + -0.005407463432139359 pg[PV_6]> >= -1.18027\n",
      "Line_11_U: <gurobi.LinExpr: 0.002892812927381223 pg[PV_3] + -0.010904394039599056\n",
      " pg[PV_4] + 0.3654653984421005 pg[PV_5] + 0.011101415572258994 pg[PV_6]> <= 0.179852\n",
      "Line_11_D: <gurobi.LinExpr: 0.002892812927381223 pg[PV_3] + -0.010904394039599056\n",
      " pg[PV_4] + 0.3654653984421005 pg[PV_5] + 0.011101415572258994 pg[PV_6]> >= -0.820148\n",
      "Line_12_U: <gurobi.LinExpr: 0.0027426322098930566 pg[PV_3] + -0.010338291162658702\n",
      " pg[PV_4] + 0.1200778091769639 pg[PV_5] + 0.01052508429967806 pg[PV_6]> <= 0.128385\n",
      "Line_12_D: <gurobi.LinExpr: 0.0027426322098930566 pg[PV_3] + -0.010338291162658702\n",
      " pg[PV_4] + 0.1200778091769639 pg[PV_5] + 0.01052508429967806 pg[PV_6]> >= -0.271615\n",
      "Line_13_U: <gurobi.LinExpr: 0.0018118992803523703 pg[PV_3] + -0.006829914069457349\n",
      " pg[PV_4] + 0.07932849882285892 pg[PV_5] + 0.006953317546350358 pg[PV_6]> <= 0.362565\n",
      "Line_13_D: <gurobi.LinExpr: 0.0018118992803523703 pg[PV_3] + -0.006829914069457349\n",
      " pg[PV_4] + 0.07932849882285892 pg[PV_5] + 0.006953317546350358 pg[PV_6]> >= -0.637435\n",
      "Line_14_U: <gurobi.LinExpr: 0.0027426322098929577 pg[PV_3] + -0.010338291162658908\n",
      " pg[PV_4] + 0.12007780917696347 pg[PV_5] + 0.010525084299677894 pg[PV_6]> <= 0.518385\n",
      "Line_14_D: <gurobi.LinExpr: 0.0027426322098929577 pg[PV_3] + -0.010338291162658908\n",
      " pg[PV_4] + 0.12007780917696347 pg[PV_5] + 0.010525084299677894 pg[PV_6]> >= -0.481615\n",
      "Line_15_U: <gurobi.LinExpr: -0.00040281950858677806 pg[PV_3] + 0.0015184191853167411\n",
      " pg[PV_4] + -0.017636226946641152 pg[PV_5] + -0.0015458541142109865 pg[PV_6]> <= 0.482708\n",
      "Line_15_D: <gurobi.LinExpr: -0.00040281950858677806 pg[PV_3] + 0.0015184191853167411\n",
      " pg[PV_4] + -0.017636226946641152 pg[PV_5] + -0.0015458541142109865 pg[PV_6]> >= -0.517292\n",
      "Line_16_U: <gurobi.LinExpr: -0.0018118992803523675 pg[PV_3] + 0.006829914069457353\n",
      " pg[PV_4] + -0.0793284988228589 pg[PV_5] + -0.006953317546350352 pg[PV_6]> <= 0.137435\n",
      "Line_16_D: <gurobi.LinExpr: -0.0018118992803523675 pg[PV_3] + 0.006829914069457353\n",
      " pg[PV_4] + -0.0793284988228589 pg[PV_5] + -0.006953317546350352 pg[PV_6]> >= -0.262565\n",
      "PowerBalance: <gurobi.LinExpr: pg[PV_2] + pg[PV_3] + pg[PV_4] + pg[PV_5] + pg[PV_6] +\n",
      " pg[Slack_1]> = 2.237\n",
      "Line_1_U: <gurobi.LinExpr: -0.8380258373889505 pg[PV_3] + -0.6105580062323537 pg[PV_4]\n",
      " + -0.6573114828670689 pg[PV_5] + -0.746539270176955 pg[PV_6]> <= 0.4592\n",
      "Line_1_D: <gurobi.LinExpr: -0.8380258373889505 pg[PV_3] + -0.6105580062323537 pg[PV_4]\n",
      " + -0.6573114828670689 pg[PV_5] + -0.746539270176955 pg[PV_6]> >= -3.5408\n",
      "Line_2_U: <gurobi.LinExpr: -0.16197416261104897 pg[PV_3] + -0.3894419937676453 pg[PV_4]\n",
      " + -0.3426885171329301 pg[PV_5] + -0.25346072982304424 pg[PV_6]> <= 0.3038\n",
      "Line_2_D: <gurobi.LinExpr: -0.16197416261104897 pg[PV_3] + -0.3894419937676453 pg[PV_4]\n",
      " + -0.3426885171329301 pg[PV_5] + -0.25346072982304424 pg[PV_6]> >= -1.6962\n",
      "Line_3_U: <gurobi.LinExpr: 0.0273438408947506 pg[PV_3] + -0.10307200056050626 pg[PV_4]\n",
      " + -0.1427239899061679 pg[PV_5] + -0.5320311371153111 pg[PV_6]> <= 0.534372\n",
      "Line_3_D: <gurobi.LinExpr: 0.0273438408947506 pg[PV_3] + -0.10307200056050626 pg[PV_4]\n",
      " + -0.1427239899061679 pg[PV_5] + -0.5320311371153111 pg[PV_6]> >= -1.46563\n",
      "Line_4_U: <gurobi.LinExpr: 0.057224803142938825 pg[PV_3] + -0.2157076236775568 pg[PV_4]\n",
      " + -0.2986907456634299 pg[PV_5] + -0.14342950088220185 pg[PV_6]> <= 0.510539\n",
      "Line_4_D: <gurobi.LinExpr: 0.057224803142938825 pg[PV_3] + -0.2157076236775568 pg[PV_4]\n",
      " + -0.2986907456634299 pg[PV_5] + -0.14342950088220185 pg[PV_6]> >= -1.48946\n",
      "Line_5_U: <gurobi.LinExpr: 0.07740551857336 pg[PV_3] + -0.2917783819942906 pg[PV_4] +\n",
      " -0.21589674729747102 pg[PV_5] + -0.07107863217944196 pg[PV_6]> <= 0.631289\n",
      "Line_5_D: <gurobi.LinExpr: 0.07740551857336 pg[PV_3] + -0.2917783819942906 pg[PV_4] +\n",
      " -0.21589674729747102 pg[PV_5] + -0.07107863217944196 pg[PV_6]> >= -1.36871\n",
      "Line_6_U: <gurobi.LinExpr: 0.027343840894750594 pg[PV_3] + -0.1030720005605063 pg[PV_4]\n",
      " + -0.14272398990616791 pg[PV_5] + 0.4679688628846888 pg[PV_6]> <= 0.534372\n",
      "Line_6_D: <gurobi.LinExpr: 0.027343840894750594 pg[PV_3] + -0.1030720005605063 pg[PV_4]\n",
      " + -0.14272398990616791 pg[PV_5] + 0.4679688628846888 pg[PV_6]> >= -0.465628\n",
      "Line_7_U: <gurobi.LinExpr: 0.08001411254744407 pg[PV_3] + -0.30161141900594685 pg[PV_4]\n",
      " + 0.3591789564305798 pg[PV_5] + 0.3070609601564586 pg[PV_6]> <= 1.52696\n",
      "Line_7_D: <gurobi.LinExpr: 0.08001411254744407 pg[PV_3] + -0.30161141900594685 pg[PV_4]\n",
      " + 0.3591789564305798 pg[PV_5] + 0.3070609601564586 pg[PV_6]> >= -0.473039\n",
      "Line_8_U: <gurobi.LinExpr: -0.0027426322098929516 pg[PV_3] + 0.010338291162658919\n",
      " pg[PV_4] + -0.12007780917696341 pg[PV_5] + -0.010525084299677884 pg[PV_6]> <= 0.446615\n",
      "Line_8_D: <gurobi.LinExpr: -0.0027426322098929516 pg[PV_3] + 0.010338291162658919\n",
      " pg[PV_4] + -0.12007780917696341 pg[PV_5] + -0.010525084299677884 pg[PV_6]> >= -0.553385\n",
      "Line_9_U: <gurobi.LinExpr: -0.00040281950858675827 pg[PV_3] + 0.0015184191853167839\n",
      " pg[PV_4] + -0.01763622694664108 pg[PV_5] + -0.001545854114210954 pg[PV_6]> <= 0.421708\n",
      "Line_9_D: <gurobi.LinExpr: -0.00040281950858675827 pg[PV_3] + 0.0015184191853167839\n",
      " pg[PV_4] + -0.01763622694664108 pg[PV_5] + -0.001545854114210954 pg[PV_6]> >= -0.578292\n",
      "Line_10_U: <gurobi.LinExpr: -0.0014090797717655852 pg[PV_3] + 0.005311494884140623\n",
      " pg[PV_4] + -0.06169227187621774 pg[PV_5] + -0.005407463432139359 pg[PV_6]> <= 0.819727\n",
      "Line_10_D: <gurobi.LinExpr: -0.0014090797717655852 pg[PV_3] + 0.005311494884140623\n",
      " pg[PV_4] + -0.06169227187621774 pg[PV_5] + -0.005407463432139359 pg[PV_6]> >= -1.18027\n",
      "Line_11_U: <gurobi.LinExpr: 0.002892812927381223 pg[PV_3] + -0.010904394039599056\n",
      " pg[PV_4] + 0.3654653984421005 pg[PV_5] + 0.011101415572258994 pg[PV_6]> <= 0.179852\n",
      "Line_11_D: <gurobi.LinExpr: 0.002892812927381223 pg[PV_3] + -0.010904394039599056\n",
      " pg[PV_4] + 0.3654653984421005 pg[PV_5] + 0.011101415572258994 pg[PV_6]> >= -0.820148\n",
      "Line_12_U: <gurobi.LinExpr: 0.0027426322098930566 pg[PV_3] + -0.010338291162658702\n",
      " pg[PV_4] + 0.1200778091769639 pg[PV_5] + 0.01052508429967806 pg[PV_6]> <= 0.128385\n",
      "Line_12_D: <gurobi.LinExpr: 0.0027426322098930566 pg[PV_3] + -0.010338291162658702\n",
      " pg[PV_4] + 0.1200778091769639 pg[PV_5] + 0.01052508429967806 pg[PV_6]> >= -0.271615\n",
      "Line_13_U: <gurobi.LinExpr: 0.0018118992803523703 pg[PV_3] + -0.006829914069457349\n",
      " pg[PV_4] + 0.07932849882285892 pg[PV_5] + 0.006953317546350358 pg[PV_6]> <= 0.362565\n",
      "Line_13_D: <gurobi.LinExpr: 0.0018118992803523703 pg[PV_3] + -0.006829914069457349\n",
      " pg[PV_4] + 0.07932849882285892 pg[PV_5] + 0.006953317546350358 pg[PV_6]> >= -0.637435\n",
      "Line_14_U: <gurobi.LinExpr: 0.0027426322098929577 pg[PV_3] + -0.010338291162658908\n",
      " pg[PV_4] + 0.12007780917696347 pg[PV_5] + 0.010525084299677894 pg[PV_6]> <= 0.518385\n",
      "Line_14_D: <gurobi.LinExpr: 0.0027426322098929577 pg[PV_3] + -0.010338291162658908\n",
      " pg[PV_4] + 0.12007780917696347 pg[PV_5] + 0.010525084299677894 pg[PV_6]> >= -0.481615\n",
      "Line_15_U: <gurobi.LinExpr: -0.00040281950858677806 pg[PV_3] + 0.0015184191853167411\n",
      " pg[PV_4] + -0.017636226946641152 pg[PV_5] + -0.0015458541142109865 pg[PV_6]> <= 0.482708\n",
      "Line_15_D: <gurobi.LinExpr: -0.00040281950858677806 pg[PV_3] + 0.0015184191853167411\n",
      " pg[PV_4] + -0.017636226946641152 pg[PV_5] + -0.0015458541142109865 pg[PV_6]> >= -0.517292\n",
      "Line_16_U: <gurobi.LinExpr: -0.0018118992803523675 pg[PV_3] + 0.006829914069457353\n",
      " pg[PV_4] + -0.0793284988228589 pg[PV_5] + -0.006953317546350352 pg[PV_6]> <= 0.137435\n",
      "Line_16_D: <gurobi.LinExpr: -0.0018118992803523675 pg[PV_3] + 0.006829914069457353\n",
      " pg[PV_4] + -0.0793284988228589 pg[PV_5] + -0.006953317546350352 pg[PV_6]> >= -0.262565\n",
      "Bounds\n",
      "  0.1 <= pg[PV_2] <= 0.5\n",
      "  0.1 <= pg[PV_3] <= 0.5\n",
      "  0.1 <= pg[PV_4] <= 1\n",
      "  0.1 <= pg[PV_5] <= 0.5\n",
      "  -0.1 <= pg[PV_6] <= 0.1\n",
      "  0.5 <= pg[Slack_1] <= 3\n",
      "  0.1 <= pg[PV_2] <= 0.5\n",
      "  0.1 <= pg[PV_3] <= 0.5\n",
      "  0.1 <= pg[PV_4] <= 1\n",
      "  0.1 <= pg[PV_5] <= 0.5\n",
      "  -0.1 <= pg[PV_6] <= 0.1\n",
      "  0.5 <= pg[Slack_1] <= 3\n"
     ]
    }
   ],
   "source": [
    "ss.mdl.display()"
   ]
  },
  {
   "cell_type": "code",
   "execution_count": 23,
   "metadata": {},
   "outputs": [
    {
     "data": {
      "text/plain": [
       "0       PV_2\n",
       "1       PV_3\n",
       "2       PV_4\n",
       "3       PV_5\n",
       "4       PV_6\n",
       "5    Slack_1\n",
       "Name: idx, dtype: object"
      ]
     },
     "execution_count": 23,
     "metadata": {},
     "output_type": "execute_result"
    }
   ],
   "source": [
    "ss.gen.idx"
   ]
  },
  {
   "cell_type": "code",
   "execution_count": 24,
   "metadata": {},
   "outputs": [
    {
     "data": {
      "text/plain": [
       "'PV_2'"
      ]
     },
     "execution_count": 24,
     "metadata": {},
     "output_type": "execute_result"
    }
   ],
   "source": [
    "ss.gen.idx[0]"
   ]
  },
  {
   "cell_type": "code",
   "execution_count": 26,
   "metadata": {},
   "outputs": [
    {
     "data": {
      "text/plain": [
       "{'PV_2': <gurobi.Var pg[PV_2] (value 0.1)>,\n",
       " 'PV_3': <gurobi.Var pg[PV_3] (value 0.1)>,\n",
       " 'PV_4': <gurobi.Var pg[PV_4] (value 0.1)>,\n",
       " 'PV_5': <gurobi.Var pg[PV_5] (value 0.1)>,\n",
       " 'PV_6': <gurobi.Var pg[PV_6] (value -0.1)>,\n",
       " 'Slack_1': <gurobi.Var pg[Slack_1] (value 1.9369999999999998)>}"
      ]
     },
     "execution_count": 26,
     "metadata": {},
     "output_type": "execute_result"
    }
   ],
   "source": [
    "ss.pg"
   ]
  },
  {
   "cell_type": "code",
   "execution_count": 28,
   "metadata": {},
   "outputs": [
    {
     "data": {
      "text/plain": [
       "0.1"
      ]
     },
     "execution_count": 28,
     "metadata": {},
     "output_type": "execute_result"
    }
   ],
   "source": [
    "ss.pg['PV_2'].X"
   ]
  },
  {
   "cell_type": "code",
   "execution_count": null,
   "metadata": {},
   "outputs": [],
   "source": []
  }
 ],
 "metadata": {
  "interpreter": {
   "hash": "92db1f2a11a76f7a418d851adb0781f3e73d5b182acdc0024399e5c6e3e8abd7"
  },
  "kernelspec": {
   "display_name": "Python 3.8.13 ('andes': conda)",
   "language": "python",
   "name": "python3"
  },
  "language_info": {
   "codemirror_mode": {
    "name": "ipython",
    "version": 3
   },
   "file_extension": ".py",
   "mimetype": "text/x-python",
   "name": "python",
   "nbconvert_exporter": "python",
   "pygments_lexer": "ipython3",
   "version": "3.8.13"
  },
  "orig_nbformat": 4
 },
 "nbformat": 4,
 "nbformat_minor": 2
}
