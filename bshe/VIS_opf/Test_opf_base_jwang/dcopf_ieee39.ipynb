{
 "cells": [
  {
   "cell_type": "code",
   "execution_count": 10,
   "metadata": {},
   "outputs": [],
   "source": [
    "import andes\n",
    "import os\n",
    "\n",
    "from andes.interop.pandapower import to_pandapower\n",
    "from andes.interop.pandapower import make_GSF, build_group_table\n",
    "import gurobipy as gb\n",
    "import pandas as pd\n",
    "import numpy as np\n",
    "import logging\n",
    "logger = logging.getLogger(__name__)\n",
    "\n",
    "# import opf class created by jwang\n",
    "from opf import dcopf"
   ]
  },
  {
   "cell_type": "markdown",
   "metadata": {},
   "source": [
    "## Test DCOPF model created by Jinning Wang\n"
   ]
  },
  {
   "cell_type": "markdown",
   "metadata": {},
   "source": [
    "## Test (main)\n"
   ]
  },
  {
   "cell_type": "code",
   "execution_count": 11,
   "metadata": {},
   "outputs": [],
   "source": [
    "import andes\n",
    "from andes.interop.pandapower import build_group_table\n"
   ]
  },
  {
   "cell_type": "code",
   "execution_count": 12,
   "metadata": {},
   "outputs": [],
   "source": [
    "# get andes case from excel\n",
    "dir_path = os.path.abspath('..')\n",
    "case_path = '/Test_opf_base_jwang/ieee39_vis_base.xlsx'\n",
    "case = dir_path + case_path\n",
    "ssa = andes.load(case, no_output=True)"
   ]
  },
  {
   "cell_type": "code",
   "execution_count": 13,
   "metadata": {},
   "outputs": [],
   "source": [
    "ss = dcopf()"
   ]
  },
  {
   "cell_type": "code",
   "execution_count": 14,
   "metadata": {},
   "outputs": [],
   "source": [
    "ss.from_andes(ssa)"
   ]
  },
  {
   "cell_type": "code",
   "execution_count": 15,
   "metadata": {},
   "outputs": [
    {
     "data": {
      "text/html": [
       "<div>\n",
       "<style scoped>\n",
       "    .dataframe tbody tr th:only-of-type {\n",
       "        vertical-align: middle;\n",
       "    }\n",
       "\n",
       "    .dataframe tbody tr th {\n",
       "        vertical-align: top;\n",
       "    }\n",
       "\n",
       "    .dataframe thead th {\n",
       "        text-align: right;\n",
       "    }\n",
       "</style>\n",
       "<table border=\"1\" class=\"dataframe\">\n",
       "  <thead>\n",
       "    <tr style=\"text-align: right;\">\n",
       "      <th></th>\n",
       "      <th>idx</th>\n",
       "      <th>c2</th>\n",
       "      <th>c1</th>\n",
       "      <th>c0</th>\n",
       "      <th>cru</th>\n",
       "      <th>crd</th>\n",
       "    </tr>\n",
       "  </thead>\n",
       "  <tbody>\n",
       "    <tr>\n",
       "      <th>0</th>\n",
       "      <td>PV_1</td>\n",
       "      <td>0.000083</td>\n",
       "      <td>0.083333</td>\n",
       "      <td>0</td>\n",
       "      <td>0</td>\n",
       "      <td>0</td>\n",
       "    </tr>\n",
       "    <tr>\n",
       "      <th>1</th>\n",
       "      <td>PV_2</td>\n",
       "      <td>0.001167</td>\n",
       "      <td>1.666667</td>\n",
       "      <td>0</td>\n",
       "      <td>0</td>\n",
       "      <td>0</td>\n",
       "    </tr>\n",
       "    <tr>\n",
       "      <th>2</th>\n",
       "      <td>PV_3</td>\n",
       "      <td>0.001667</td>\n",
       "      <td>1.666667</td>\n",
       "      <td>0</td>\n",
       "      <td>0</td>\n",
       "      <td>0</td>\n",
       "    </tr>\n",
       "    <tr>\n",
       "      <th>3</th>\n",
       "      <td>PV_4</td>\n",
       "      <td>0.001583</td>\n",
       "      <td>1.666667</td>\n",
       "      <td>0</td>\n",
       "      <td>0</td>\n",
       "      <td>0</td>\n",
       "    </tr>\n",
       "    <tr>\n",
       "      <th>4</th>\n",
       "      <td>PV_5</td>\n",
       "      <td>0.001750</td>\n",
       "      <td>1.666667</td>\n",
       "      <td>0</td>\n",
       "      <td>0</td>\n",
       "      <td>0</td>\n",
       "    </tr>\n",
       "    <tr>\n",
       "      <th>5</th>\n",
       "      <td>PV_6</td>\n",
       "      <td>0.000083</td>\n",
       "      <td>0.083333</td>\n",
       "      <td>0</td>\n",
       "      <td>0</td>\n",
       "      <td>0</td>\n",
       "    </tr>\n",
       "    <tr>\n",
       "      <th>6</th>\n",
       "      <td>PV_7</td>\n",
       "      <td>0.001667</td>\n",
       "      <td>1.666667</td>\n",
       "      <td>0</td>\n",
       "      <td>0</td>\n",
       "      <td>0</td>\n",
       "    </tr>\n",
       "    <tr>\n",
       "      <th>7</th>\n",
       "      <td>PV_8</td>\n",
       "      <td>0.000083</td>\n",
       "      <td>0.083333</td>\n",
       "      <td>0</td>\n",
       "      <td>0</td>\n",
       "      <td>0</td>\n",
       "    </tr>\n",
       "    <tr>\n",
       "      <th>8</th>\n",
       "      <td>PV_9</td>\n",
       "      <td>0.000083</td>\n",
       "      <td>0.083333</td>\n",
       "      <td>0</td>\n",
       "      <td>0</td>\n",
       "      <td>0</td>\n",
       "    </tr>\n",
       "    <tr>\n",
       "      <th>9</th>\n",
       "      <td>Slack_10</td>\n",
       "      <td>0.002167</td>\n",
       "      <td>1.666667</td>\n",
       "      <td>0</td>\n",
       "      <td>0</td>\n",
       "      <td>0</td>\n",
       "    </tr>\n",
       "  </tbody>\n",
       "</table>\n",
       "</div>"
      ],
      "text/plain": [
       "        idx        c2        c1  c0  cru  crd\n",
       "0      PV_1  0.000083  0.083333   0    0    0\n",
       "1      PV_2  0.001167  1.666667   0    0    0\n",
       "2      PV_3  0.001667  1.666667   0    0    0\n",
       "3      PV_4  0.001583  1.666667   0    0    0\n",
       "4      PV_5  0.001750  1.666667   0    0    0\n",
       "5      PV_6  0.000083  0.083333   0    0    0\n",
       "6      PV_7  0.001667  1.666667   0    0    0\n",
       "7      PV_8  0.000083  0.083333   0    0    0\n",
       "8      PV_9  0.000083  0.083333   0    0    0\n",
       "9  Slack_10  0.002167  1.666667   0    0    0"
      ]
     },
     "execution_count": 15,
     "metadata": {},
     "output_type": "execute_result"
    }
   ],
   "source": [
    "linearcost = [\n",
    "                1,   # PV_1 vsg\n",
    "                20, \n",
    "                20,\n",
    "                20, \n",
    "                20, \n",
    "                1,   # PV_6 vsg\n",
    "                20, \n",
    "                1,   # PV_8 vsg\n",
    "                1,   # PV_9 vsg \n",
    "                20   # slack\n",
    "            ]\n",
    "quadraticcost = [\n",
    "                0.001,   # PV_1 vsg\n",
    "                0.014,\n",
    "                0.020,\n",
    "                0.019,\n",
    "                0.021,\n",
    "                0.001,   # PV_6 vsg\n",
    "                0.020,\n",
    "                0.001,   # PV_8 vsg\n",
    "                0.001,   # PV_9 vsg\n",
    "                0.026    # slack\n",
    "            ]\n",
    "for i in range(10):\n",
    "    linearcost[i] /= 12\n",
    "    quadraticcost[i] /= 12\n",
    "    \n",
    "# set up cost\n",
    "ss.cost['c1'] = linearcost\n",
    "ss.cost['c2'] = quadraticcost\n",
    "ss.update_dict()\n",
    "\n",
    "ss.cost"
   ]
  },
  {
   "cell_type": "code",
   "execution_count": 16,
   "metadata": {},
   "outputs": [
    {
     "name": "stdout",
     "output_type": "stream",
     "text": [
      "Warning for adding constraints: zero or small (< 1e-13) coefficients, ignored\n"
     ]
    },
    {
     "name": "stderr",
     "output_type": "stream",
     "text": [
      "Successfully build DCOPF model.\n"
     ]
    },
    {
     "name": "stdout",
     "output_type": "stream",
     "text": [
      "Gurobi Optimizer version 9.5.1 build v9.5.1rc2 (mac64[arm])\n",
      "Thread count: 8 physical cores, 8 logical processors, using up to 8 threads\n",
      "Optimize a model with 69 rows, 10 columns and 546 nonzeros\n",
      "Model fingerprint: 0x7f8e70d9\n",
      "Model has 10 quadratic objective terms\n",
      "Coefficient statistics:\n",
      "  Matrix range     [4e-03, 1e+00]\n",
      "  Objective range  [8e-02, 2e+00]\n",
      "  QObjective range [2e-04, 4e-03]\n",
      "  Bounds range     [1e-01, 1e+01]\n",
      "  RHS range        [6e+01, 2e+03]\n",
      "Presolve removed 68 rows and 0 columns\n",
      "Presolve time: 0.03s\n",
      "Presolved: 1 rows, 10 columns, 10 nonzeros\n",
      "Presolved model has 10 quadratic objective terms\n",
      "Ordering time: 0.00s\n",
      "\n",
      "Barrier statistics:\n",
      " AA' NZ     : 0.000e+00\n",
      " Factor NZ  : 1.000e+00\n",
      " Factor Ops : 1.000e+00 (less than 1 second per iteration)\n",
      " Threads    : 1\n",
      "\n",
      "                  Objective                Residual\n",
      "Iter       Primal          Dual         Primal    Dual     Compl     Time\n",
      "   0   3.67901819e+06 -3.51389671e+06  5.38e+03 8.96e+02  1.00e+06     0s\n",
      "   1   2.21294085e+02 -3.30899461e+03  5.33e+00 8.89e-01  1.16e+03     0s\n",
      "   2   4.99756775e+01 -2.18305486e+03  5.33e-06 8.89e-07  1.12e+02     0s\n",
      "   3   4.90929661e+01  2.51181315e+01  1.18e-08 1.96e-09  1.20e+00     0s\n",
      "   4   4.00084612e+01  3.71113538e+01  1.17e-14 2.00e-14  1.45e-01     0s\n",
      "   5   3.92241352e+01  3.91063669e+01  5.55e-16 1.94e-16  5.89e-03     0s\n",
      "   6   3.91822463e+01  3.91751754e+01  0.00e+00 3.71e-15  3.54e-04     0s\n",
      "   7   3.91799429e+01  3.91795168e+01  0.00e+00 6.51e-15  2.13e-05     0s\n",
      "   8   3.91796513e+01  3.91796218e+01  1.11e-16 8.02e-15  1.48e-06     0s\n",
      "   9   3.91796242e+01  3.91796241e+01  1.11e-16 2.57e-14  5.32e-09     0s\n",
      "\n",
      "Barrier solved model in 9 iterations and 0.06 seconds (0.00 work units)\n",
      "Optimal objective 3.91796242e+01\n",
      "\n"
     ]
    },
    {
     "name": "stderr",
     "output_type": "stream",
     "text": [
      "Successfully solve DCOPF.\n"
     ]
    },
    {
     "data": {
      "text/html": [
       "<div>\n",
       "<style scoped>\n",
       "    .dataframe tbody tr th:only-of-type {\n",
       "        vertical-align: middle;\n",
       "    }\n",
       "\n",
       "    .dataframe tbody tr th {\n",
       "        vertical-align: top;\n",
       "    }\n",
       "\n",
       "    .dataframe thead th {\n",
       "        text-align: right;\n",
       "    }\n",
       "</style>\n",
       "<table border=\"1\" class=\"dataframe\">\n",
       "  <thead>\n",
       "    <tr style=\"text-align: right;\">\n",
       "      <th></th>\n",
       "      <th>gen</th>\n",
       "      <th>pg</th>\n",
       "    </tr>\n",
       "  </thead>\n",
       "  <tbody>\n",
       "    <tr>\n",
       "      <th>0</th>\n",
       "      <td>PV_1</td>\n",
       "      <td>8.000000</td>\n",
       "    </tr>\n",
       "    <tr>\n",
       "      <th>1</th>\n",
       "      <td>PV_2</td>\n",
       "      <td>4.880739</td>\n",
       "    </tr>\n",
       "    <tr>\n",
       "      <th>2</th>\n",
       "      <td>PV_3</td>\n",
       "      <td>3.416518</td>\n",
       "    </tr>\n",
       "    <tr>\n",
       "      <th>3</th>\n",
       "      <td>PV_4</td>\n",
       "      <td>3.596334</td>\n",
       "    </tr>\n",
       "    <tr>\n",
       "      <th>4</th>\n",
       "      <td>PV_5</td>\n",
       "      <td>3.253826</td>\n",
       "    </tr>\n",
       "    <tr>\n",
       "      <th>5</th>\n",
       "      <td>PV_6</td>\n",
       "      <td>8.000000</td>\n",
       "    </tr>\n",
       "    <tr>\n",
       "      <th>6</th>\n",
       "      <td>PV_7</td>\n",
       "      <td>3.416518</td>\n",
       "    </tr>\n",
       "    <tr>\n",
       "      <th>7</th>\n",
       "      <td>PV_8</td>\n",
       "      <td>7.000000</td>\n",
       "    </tr>\n",
       "    <tr>\n",
       "      <th>8</th>\n",
       "      <td>PV_9</td>\n",
       "      <td>14.000000</td>\n",
       "    </tr>\n",
       "    <tr>\n",
       "      <th>9</th>\n",
       "      <td>Slack_10</td>\n",
       "      <td>3.000065</td>\n",
       "    </tr>\n",
       "  </tbody>\n",
       "</table>\n",
       "</div>"
      ],
      "text/plain": [
       "        gen         pg\n",
       "0      PV_1   8.000000\n",
       "1      PV_2   4.880739\n",
       "2      PV_3   3.416518\n",
       "3      PV_4   3.596334\n",
       "4      PV_5   3.253826\n",
       "5      PV_6   8.000000\n",
       "6      PV_7   3.416518\n",
       "7      PV_8   7.000000\n",
       "8      PV_9  14.000000\n",
       "9  Slack_10   3.000065"
      ]
     },
     "execution_count": 16,
     "metadata": {},
     "output_type": "execute_result"
    }
   ],
   "source": [
    "ss.get_res()"
   ]
  },
  {
   "cell_type": "code",
   "execution_count": 17,
   "metadata": {},
   "outputs": [
    {
     "data": {
      "text/plain": [
       "47.04"
      ]
     },
     "execution_count": 17,
     "metadata": {},
     "output_type": "execute_result"
    }
   ],
   "source": [
    "3.92*12"
   ]
  },
  {
   "cell_type": "code",
   "execution_count": null,
   "metadata": {},
   "outputs": [],
   "source": []
  }
 ],
 "metadata": {
  "interpreter": {
   "hash": "9fd2f637d50f75acdaba34db232df2fd9f5c3b2d8a0fb2dac035dfd85a42e943"
  },
  "kernelspec": {
   "display_name": "Python 3.9.12 ('andes')",
   "language": "python",
   "name": "python3"
  },
  "language_info": {
   "codemirror_mode": {
    "name": "ipython",
    "version": 3
   },
   "file_extension": ".py",
   "mimetype": "text/x-python",
   "name": "python",
   "nbconvert_exporter": "python",
   "pygments_lexer": "ipython3",
   "version": "3.9.12"
  },
  "orig_nbformat": 4
 },
 "nbformat": 4,
 "nbformat_minor": 2
}
