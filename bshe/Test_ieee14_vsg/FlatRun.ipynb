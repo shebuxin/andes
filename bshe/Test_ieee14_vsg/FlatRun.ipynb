{
 "cells": [
  {
   "cell_type": "markdown",
   "metadata": {},
   "source": [
    "# Andes ieee14 vsg -- Flat Run\n",
    "\n",
    "```\n",
    "To do: vsg case is not stable\n",
    "```"
   ]
  },
  {
   "cell_type": "markdown",
   "metadata": {},
   "source": [
    "**Scope**: import ieee14_vsg and flat run\n",
    "\n",
    "Tips regarding andes:\n",
    "\n",
    "1. static Gen is for power flow calculation, including 'PV' and 'Slack' <br>\n",
    "dynamci Gen is for TDS, indlucing 'GENROW' and 'GENCAL'\n",
    "\n",
    "2. Do not connect VSG to a GENROW <br>\n",
    "VSG needs to share power from unit static gen\n"
   ]
  },
  {
   "cell_type": "markdown",
   "metadata": {},
   "source": [
    "## Case info\n",
    "'ieee14_vsg'  ---  a new REGCV2 (vsg-controlled inverter) connect to  BUS14\n",
    " \n",
    "'ieee14_vsg1' ---  a REGCV2  (vsg-controlled inverter) replace GENROW_5 of base case"
   ]
  },
  {
   "cell_type": "code",
   "execution_count": 52,
   "metadata": {},
   "outputs": [
    {
     "name": "stdout",
     "output_type": "stream",
     "text": [
      "Andes version: 1.6.5.post4.dev0+gae11a531\n",
      "Pandapower version: 2.8.0\n"
     ]
    }
   ],
   "source": [
    "import andes\n",
    "import os\n",
    "import pandas as pd\n",
    "import pandapower as pp\n",
    "\n",
    "# andes and pandapower version\n",
    "print(f'Andes version: {andes.__version__}')\n",
    "print(f'Pandapower version: {pp.__version__}')"
   ]
  },
  {
   "cell_type": "code",
   "execution_count": 53,
   "metadata": {},
   "outputs": [],
   "source": [
    "# Choose case\n",
    "dir_path = os.path.abspath('..')\n",
    "case_path = '/Test_ieee14_vsg/ieee14_vsg.xlsx'\n",
    "case = dir_path + case_path\n",
    "\n",
    "ssa = andes.load(case,\n",
    "                 setup=True,\n",
    "                 no_output=True,\n",
    "                 default_config=False)"
   ]
  },
  {
   "cell_type": "code",
   "execution_count": 54,
   "metadata": {},
   "outputs": [
    {
     "data": {
      "text/plain": [
       "True"
      ]
     },
     "execution_count": 54,
     "metadata": {},
     "output_type": "execute_result"
    }
   ],
   "source": [
    "# Turn on numba to accelerate TDS\n",
    "ssa.config.numba\n",
    "ssa.PFlow.run()"
   ]
  },
  {
   "cell_type": "code",
   "execution_count": 55,
   "metadata": {},
   "outputs": [
    {
     "name": "stderr",
     "output_type": "stream",
     "text": [
      "Suspect initialization issue! Simulation may crash!\n",
      "\n",
      "    Name     | Var. Value | Eqn. Mismatch\n",
      "-------------+------------+--------------\n",
      " Pe REGCV2 1 | 0.100      | -0.200       \n",
      " Id REGCV2 1 | -0.099     | 0.198        \n",
      "\n",
      "\n",
      "Initialization failed!!\n",
      "If you are developing a new model, check the initialization with\n",
      "   andes -v 10 run -r tds --init /Users/buxinshe/Documents/git-repo/andes/bshe/Test_ieee14_vsg/ieee14_vsg.xlsx\n",
      "Otherwise, check the variables that are initialized out of limits.\n"
     ]
    },
    {
     "data": {
      "application/vnd.jupyter.widget-view+json": {
       "model_id": "4f92819f07e74626b0c84aad44cec5f1",
       "version_major": 2,
       "version_minor": 0
      },
      "text/plain": [
       "  0%|          | 0/100 [00:00<?, ?%/s]"
      ]
     },
     "metadata": {},
     "output_type": "display_data"
    },
    {
     "data": {
      "text/plain": [
       "True"
      ]
     },
     "execution_count": 55,
     "metadata": {},
     "output_type": "execute_result"
    }
   ],
   "source": [
    "ssa.TDS.run()"
   ]
  },
  {
   "cell_type": "code",
   "execution_count": 56,
   "metadata": {},
   "outputs": [
    {
     "data": {
      "image/png": "[encoded data removed]",
      "text/plain": [
       "<Figure size 480x320 with 1 Axes>"
      ]
     },
     "metadata": {
      "needs_background": "light"
     },
     "output_type": "display_data"
    },
    {
     "data": {
      "image/png": "[encoded data removed]",
      "text/plain": [
       "<Figure size 480x320 with 1 Axes>"
      ]
     },
     "metadata": {
      "needs_background": "light"
     },
     "output_type": "display_data"
    },
    {
     "data": {
      "text/plain": [
       "(<Figure size 480x320 with 1 Axes>, <AxesSubplot:xlabel='Time [s]'>)"
      ]
     },
     "execution_count": 56,
     "metadata": {},
     "output_type": "execute_result"
    }
   ],
   "source": [
    "ssa.TDS.load_plotter()\n",
    "\n",
    "ssa.TDS.plt.plot(ssa.GENROU.omega,\n",
    "                a=(0, 2, 3),\n",
    "                ytimes=60,\n",
    "               )\n",
    "\n",
    "ssa.TDS.plt.plot(ssa.GENROU.v)"
   ]
  },
  {
   "cell_type": "code",
   "execution_count": 57,
   "metadata": {},
   "outputs": [
    {
     "data": {
      "image/png": "[encoded data removed]",
      "text/plain": [
       "<Figure size 480x320 with 1 Axes>"
      ]
     },
     "metadata": {
      "needs_background": "light"
     },
     "output_type": "display_data"
    },
    {
     "data": {
      "text/plain": [
       "(<Figure size 480x320 with 1 Axes>, <AxesSubplot:xlabel='Time [s]'>)"
      ]
     },
     "execution_count": 57,
     "metadata": {},
     "output_type": "execute_result"
    }
   ],
   "source": [
    "ssa.TDS.plt.plot(ssa.Bus.v)"
   ]
  },
  {
   "cell_type": "markdown",
   "metadata": {},
   "source": [
    "## Eigenvalue analysis"
   ]
  },
  {
   "cell_type": "code",
   "execution_count": 58,
   "metadata": {},
   "outputs": [
    {
     "name": "stderr",
     "output_type": "stream",
     "text": [
      "Singular matrix. Case is not solvable\n"
     ]
    },
    {
     "data": {
      "image/png": "[encoded data removed]",
      "text/plain": [
       "<Figure size 600x400 with 1 Axes>"
      ]
     },
     "metadata": {
      "needs_background": "light"
     },
     "output_type": "display_data"
    },
    {
     "data": {
      "text/plain": [
       "(<Figure size 600x400 with 1 Axes>,\n",
       " <AxesSubplot:xlabel='Real [$s^{-1}$]', ylabel='Imaginary [$s^{-1}$]'>)"
      ]
     },
     "execution_count": 58,
     "metadata": {},
     "output_type": "execute_result"
    }
   ],
   "source": [
    "ssa.EIG.run()\n",
    "ssa.EIG.plot()"
   ]
  }
 ],
 "metadata": {
  "interpreter": {
   "hash": "92db1f2a11a76f7a418d851adb0781f3e73d5b182acdc0024399e5c6e3e8abd7"
  },
  "kernelspec": {
   "display_name": "Python 3.8.12 ('andes': conda)",
   "language": "python",
   "name": "python3"
  },
  "language_info": {
   "codemirror_mode": {
    "name": "ipython",
    "version": 3
   },
   "file_extension": ".py",
   "mimetype": "text/x-python",
   "name": "python",
   "nbconvert_exporter": "python",
   "pygments_lexer": "ipython3",
   "version": "3.8.13"
  },
  "orig_nbformat": 4
 },
 "nbformat": 4,
 "nbformat_minor": 2
}
