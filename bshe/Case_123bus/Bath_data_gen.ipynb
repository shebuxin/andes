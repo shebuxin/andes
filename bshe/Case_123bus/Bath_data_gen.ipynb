{
 "cells": [
  {
   "cell_type": "code",
   "execution_count": 1,
   "metadata": {},
   "outputs": [],
   "source": [
    "import andes\n",
    "import os\n",
    "\n",
    "import matplotlib\n",
    "%matplotlib inline"
   ]
  },
  {
   "cell_type": "markdown",
   "metadata": {},
   "source": [
    "Example code for batch data generation:\n",
    "\n",
    "https://docs.andes.app/en/latest/_examples/ex6.html"
   ]
  },
  {
   "cell_type": "code",
   "execution_count": null,
   "metadata": {},
   "outputs": [],
   "source": [
    "# Verify transient stability of the system\n",
    "\n",
    "delta = ssa.dae.ts.y[:, ssa.GENROU.a.a]\n",
    "\n",
    "diff = np.max(delta, axis=1) - np.min(delta, axis=1)\n",
    "\n",
    "diff_max = np.max(diff)\n",
    "\n",
    "diff_max"
   ]
  },
  {
   "cell_type": "code",
   "execution_count": null,
   "metadata": {},
   "outputs": [],
   "source": [
    "delta = ssa.dae.ts.y[:, ssa.REGCV1.a.a]\n",
    "\n",
    "diff = np.max(delta, axis=1) - np.min(delta, axis=1)\n",
    "\n",
    "diff_max = np.max(diff)\n",
    "\n",
    "diff_max"
   ]
  }
 ],
 "metadata": {
  "kernelspec": {
   "display_name": "base",
   "language": "python",
   "name": "python3"
  },
  "language_info": {
   "codemirror_mode": {
    "name": "ipython",
    "version": 3
   },
   "file_extension": ".py",
   "mimetype": "text/x-python",
   "name": "python",
   "nbconvert_exporter": "python",
   "pygments_lexer": "ipython3",
   "version": "3.9.17"
  },
  "orig_nbformat": 4
 },
 "nbformat": 4,
 "nbformat_minor": 2
}
