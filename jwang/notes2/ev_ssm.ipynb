{
 "cells": [
  {
   "cell_type": "markdown",
   "metadata": {},
   "source": [
    "# EV State-Space Model\n",
    "\n",
    "This  notebook is used to reproduce the State Space Model of aggregateed EV for frequency regulation.\n",
    "\n",
    "Running on Jinning's local machine, in the env \"ev\"."
   ]
  },
  {
   "cell_type": "markdown",
   "metadata": {},
   "source": [
    "Working notes:\n",
    "\n",
    "02/06/2022: the EV data generation is completed. It looks weired, we may need update it later on.\n"
   ]
  },
  {
   "cell_type": "code",
   "execution_count": 42,
   "metadata": {},
   "outputs": [
    {
     "name": "stdout",
     "output_type": "stream",
     "text": [
      "ANDES Version: 1.6.5.post60+ga84a2f4e\n"
     ]
    }
   ],
   "source": [
    "import andes\n",
    "import pandas as pd\n",
    "import numpy as np\n",
    "import scipy.stats as stats\n",
    "import matplotlib.pyplot as plt\n",
    "import logging\n",
    "logger = logging.getLogger(__name__)\n",
    "\n",
    "print(f\"ANDES Version: {andes.__version__}\")"
   ]
  },
  {
   "cell_type": "markdown",
   "metadata": {},
   "source": [
    "## EV data"
   ]
  },
  {
   "cell_type": "markdown",
   "metadata": {},
   "source": [
    "### Define parameters\n",
    "\n",
    "The EV parameters are defined as two types. Type I follows uniform distribution, which is stored in a Dict `ev_param`. Type II follows normal distribution, which is stored in a pd.DataFrame `ev_pdf`.\n",
    "\n",
    "The data are cited from:\n",
    "\n",
    "M. Wang et al., \"State Space Model of Aggregated Electric Vehicles for Frequency Regulation,\" in IEEE Transactions on Smart Grid, vol. 11, no. 2, pp. 981-994, March 2020, doi: 10.1109/TSG.2019.2929052."
   ]
  },
  {
   "cell_type": "code",
   "execution_count": 124,
   "metadata": {},
   "outputs": [
    {
     "name": "stderr",
     "output_type": "stream",
     "text": [
      "EVA:\n",
      "tnow=10 [24H]\n",
      "50000 EVs, 9678 online, Total En=1249.73 MWh, SoC intervals: 20\n",
      "Online En=242.05 MWh, mean SoC=30.0%\n",
      "EVA: Successfully reset to time=10\n"
     ]
    },
    {
     "data": {
      "image/png": "[encoded data removed]",
      "text/plain": [
       "<Figure size 432x288 with 1 Axes>"
      ]
     },
     "metadata": {
      "needs_background": "light"
     },
     "output_type": "display_data"
    }
   ],
   "source": [
    "import scipy.stats as stats\n",
    "\n",
    "\n",
    "def find_x(x, soc_intv):\n",
    "    for idx in soc_intv.keys():\n",
    "        if x >= soc_intv[idx][0] and x <= soc_intv[idx][1]:\n",
    "            return idx\n",
    "\n",
    "\n",
    "class ev_ssm():\n",
    "    \"\"\"\n",
    "    EV State Space Model.\n",
    "\n",
    "    EV parameters:\n",
    "    Pc, Pd, nc, nd, En follow uniform distribution.\n",
    "    soci, socd, ts, tf follows normal distribution.\n",
    "\n",
    "    Attributes\n",
    "    ----------\n",
    "    ev: pandas.DataFrame\n",
    "        EV dataset\n",
    "        u: online status\n",
    "        Pc/Pd: charging/discharging power (kW)\n",
    "        nc/nd: charging/discharging efficiency\n",
    "        En: capacity (kWh)\n",
    "        soci/socd: initial/demand SOC (unit: %)\n",
    "        ts/tf: start/finish time (unit: 24H)\n",
    "        socx: SOC interval\n",
    "    tnow: float\n",
    "        current time (unit: 24H)\n",
    "    N: int\n",
    "        Total number of EVs\n",
    "    Ns: int\n",
    "        Total number of SoC intervals\n",
    "    ne: int\n",
    "        Online number of EVs\n",
    "\n",
    "    Notes\n",
    "    -----\n",
    "    ev_ufparam:\n",
    "        Pl: rated charging/discharging power (kW) lower bound\n",
    "        Pu: rated charging/discharging power (kW) upper bound\n",
    "        nl: charging/discharging efficiency lower bound\n",
    "        nu: charging/discharging efficiency upper bound\n",
    "        Enl: Battery capacity (kWh) lower bound\n",
    "        Enu: Battery capacity (kWh) upper bound\n",
    "        socl: Minimum SoC value\n",
    "        socu: Maximum SoC value\n",
    "    ev_nfparam:\n",
    "        soci: initial SoC\n",
    "        socd: demanded SoC\n",
    "        ts1: start charging time, [24H]\n",
    "        ts2: start charging time, [24H]\n",
    "        tf1: finish charging time, [24H]\n",
    "        tf2: finish charging time, [24H]\n",
    "    \"\"\"\n",
    "\n",
    "    def find_socx(self):\n",
    "        self.ev['socx'] = self.ev['soc'].apply(lambda x: find_x(x, self.soc_intv))\n",
    "\n",
    "    def build(self):\n",
    "        \"\"\"\n",
    "        Build the ev DataFrame.\n",
    "\n",
    "        Returns\n",
    "        -------\n",
    "        ev: pandas.DataFrame\n",
    "            EV dataset\n",
    "        \"\"\"\n",
    "        self.socl = self.ev_ufparam['socl']\n",
    "        self.socu = self.ev_ufparam['socu']\n",
    "\n",
    "        #  --- 1a. uniform distribution parameters range ---\n",
    "        unit = self.ev_ufparam['socu']/self.ev_ufparam['Ns']\n",
    "        self.soc_intv = {}\n",
    "        decimal = 4\n",
    "        for i in range(self.ev_ufparam['Ns']):\n",
    "            intv_single = [np.around(i*unit, decimal), np.around((i+1)*unit, decimal)]\n",
    "            self.soc_intv[i] = intv_single\n",
    "        self.Ns = self.ev_ufparam['Ns']\n",
    "        ev_pdf = pd.DataFrame(data=self.ev_pdf_data, index=self.ev_pdf_name).transpose()\n",
    "        self.ev_nfparam = ev_pdf.to_dict()\n",
    "\n",
    "        # --- 1c. generate EV dataset ---\n",
    "        self.ev = pd.DataFrame()\n",
    "        np.random.seed(self.seed)\n",
    "\n",
    "        #  data from uniform distribution\n",
    "        cols = ['Pc', 'Pd', 'nc', 'nd', 'En']\n",
    "        cols_bound = {'Pc':   ['Pl', 'Pu'],\n",
    "                      'Pd':   ['Pl', 'Pu'],\n",
    "                      'nc':   ['nl', 'nu'],\n",
    "                      'nd':   ['nl', 'nu'],\n",
    "                      'En':    ['Enl', 'Enu']}\n",
    "        for col in cols:\n",
    "            idxl = cols_bound[col][0]\n",
    "            idxh = cols_bound[col][1]\n",
    "            self.ev[col] = np.random.uniform(\n",
    "                low=self.ev_ufparam[idxl],\n",
    "                high=self.ev_ufparam[idxh],\n",
    "                size=self.N)\n",
    "\n",
    "        #  data from normal distribution\n",
    "        # soci, socd\n",
    "        for col in self.ev_pdf_name:\n",
    "            self.ev[col] = stats.truncnorm(\n",
    "                (ev_pdf[col]['lb'] - ev_pdf[col]['mean']) / ev_pdf[col]['var'],\n",
    "                (ev_pdf[col]['ub'] - ev_pdf[col]['mean']) / ev_pdf[col]['var'],\n",
    "                loc=ev_pdf[col]['mean'], scale=ev_pdf[col]['var']).rvs(self.N)\n",
    "        self.ev['soc'] = self.ev['soci']\n",
    "        # ts1, ts2, tf1, tf2\n",
    "        et = self.ev.copy()\n",
    "        r1 = 0.5  # ratio of t1\n",
    "        tp1 = self.ev[['ts1', 'tf1']].sample(n=int(et.shape[0]*r1), random_state=2021)\n",
    "        tp2 = self.ev[['ts2', 'tf2']].sample(n=int(et.shape[0]*(1-r1)), random_state=2021)\n",
    "        tp = pd.concat([tp1, tp2], axis=0).reset_index(drop=True).fillna(0)\n",
    "        tp['ts'] = tp['ts1'] + tp['ts2']\n",
    "        tp['tf'] = tp['tf1'] + tp['tf2']\n",
    "        check = tp.ts > tp.tf\n",
    "        row_idx = tp[check].index\n",
    "        mid = tp.tf.iloc[row_idx].values\n",
    "        tp.tf.iloc[row_idx] = tp.ts.iloc[row_idx]\n",
    "        tp.ts.iloc[row_idx] = mid\n",
    "        check = tp.ts > tp.tf\n",
    "        self.ev['ts'] = tp['ts']\n",
    "        self.ev['tf'] = tp['tf']\n",
    "        self.ev['u'] = 1\n",
    "        self.ev = self.ev[['u', 'Pc', 'Pd', 'nc', 'nd', 'En', 'soc', 'soci', 'socd', 'ts', 'tf']]\n",
    "\n",
    "        # --- update soc interval and online status ---\n",
    "        self.find_socx()\n",
    "        self.g_u()\n",
    "        self.ne = self.ev.u.sum()\n",
    "\n",
    "    def __init__(self, tnow=0, N=20000, seed=2021, name=\"EVA\"):\n",
    "        \"\"\"\n",
    "        Parameters\n",
    "        ----------\n",
    "        N: int\n",
    "            Number of EVs\n",
    "        seed: int\n",
    "            Random seed\n",
    "        \"\"\"\n",
    "        # --- 1. init ---\n",
    "        self.name = name\n",
    "        self.tnow = tnow  # time now\n",
    "        self.N = N\n",
    "        self.seed = seed\n",
    "        # --- 1a. uniform distribution parameters range ---\n",
    "        self.ev_ufparam = dict(Ns=20,\n",
    "                               Pl=5.0, Pu=7.0,\n",
    "                               nl=0.88, nu=0.95,\n",
    "                               Enl=20.0, Enu=30.0,\n",
    "                               socl=0, socu=1)\n",
    "        #  --- 1b. normal distribution parameters range ---\n",
    "        self.ev_pdf_name = ['soci', 'socd', 'ts1', 'ts2', 'tf1', 'tf2']\n",
    "        self.ev_pdf_data = {'mean':     [0.3,    0.8,    -6.5,   17.5,   8.9,    32.9],\n",
    "                            'var':      [0.05, 0.03, 3.4, 3.4, 3.4, 3.4],\n",
    "                            'lb':       [0.2, 0.7, 0.0, 5.5, 0.0, 20.9],\n",
    "                            'ub':       [0.4, 0.9, 5.5, 24.0, 20.9, 24.0],\n",
    "                            'info':  ['initial SoC', 'demanded SoC',\n",
    "                                      'start charging time 1', 'start charging time 2',\n",
    "                                      'finish charging time 1', 'finish charging time 2']}\n",
    "        self.build()\n",
    "        self.report()\n",
    "\n",
    "        # --- SSM ---\n",
    "        # --- input: AGC signal ---\n",
    "\n",
    "        # --- output: estimated FRC ---\n",
    "        self.prumax = 0\n",
    "        self.prdmax = 0\n",
    "\n",
    "    def report(self):\n",
    "        \"\"\"\n",
    "        Report EVA.\n",
    "        \"\"\"\n",
    "        # --- EV summary info ---\n",
    "        self.En = self.ev.En.sum()/1e3\n",
    "        self.wEn = np.sum(self.ev.u * self.ev.En)/1e3\n",
    "        # --- report info ---\n",
    "        msg1 = f\"{self.name}:\\n\"\n",
    "        msg_time = f'tnow={np.round(self.tnow, 4)} [24H]\\n'\n",
    "        msg_ev = f\"{self.N} EVs, {self.ne} online, Total En={self.En.round(2)} MWh, SoC intervals: {len(self.soc_intv)}\\n\"\n",
    "        msg_soc = f\"Online En={self.wEn.round(2)} MWh, mean SoC={100*self.ev.soc.mean().round(2)}%\"\n",
    "        logger.warning(msg1 + msg_time + msg_ev + msg_soc)\n",
    "\n",
    "    def act(self, t=4, tnow=10):\n",
    "        \"\"\"\n",
    "        Response of the EV_SSM to the control signal.\n",
    "\n",
    "        Parameters\n",
    "        ----------\n",
    "        t: int\n",
    "            Action time (second).\n",
    "        tnow: int\n",
    "            current time (hour with decimals).\n",
    "        \"\"\"\n",
    "        self.tnow = tnow\n",
    "        self.g_ctrl()  # generate charging signal\n",
    "        self.g_u()  # update online status\n",
    "        # charging/discharging power, kW\n",
    "        self.ev['dP'] = self.ev[['Pc', 'Pd', 'nc', 'nd', 'ctrl', 'u']].apply(\n",
    "            lambda x: x[0]*x[2]*x[5] if x[4] >= 0 else -1*x[1]*x[3]*x[5], axis=1)\n",
    "        self.ev['dP'] = self.ev['dP'] * self.ev['u']  # consider online status\n",
    "        self.ev['soc'] = self.ev.soc + t/3600 * self.ev['dP'] / self.ev['En']  # update SoC\n",
    "        self.ev['soc'] = self.ev['soc'].apply(lambda x: x if x < self.socu else self.socu)\n",
    "        self.ev['soc'] = self.ev['soc'].apply(lambda x: x if x > self.socl else self.socu)\n",
    "        self.find_socx()\n",
    "\n",
    "    def g_u(self, tnow=10):\n",
    "        \"\"\"\n",
    "        Update online status of EV at given time.\n",
    "\n",
    "        Parameters\n",
    "        ----------\n",
    "        tnow: int\n",
    "            current time (hour with decimals).\n",
    "        \"\"\"\n",
    "        self.tnow=tnow\n",
    "        self.ev['u'] = (self.ev.ts <= self.tnow) & (self.ev.tf >= self.tnow)\n",
    "        self.ev['u'] = self.ev['u'].astype(int)\n",
    "        self.ne = self.ev.u.sum()\n",
    "\n",
    "    def g_ctrl(self):\n",
    "        \"\"\"\n",
    "        Generate the charging signal.\n",
    "        \"\"\"\n",
    "        # --- default signal is charging for all ---\n",
    "        # TODO: replace with SSM later on\n",
    "        self.ev['ctrl'] = np.ones(self.ne)\n",
    "        # self.ev['ctrl'] = np.random.choice([-1, 0, 1], size=self.ne)\n",
    "\n",
    "    def reset(self, tnow=10):\n",
    "        \"\"\"\n",
    "        Reset the EV_SSM to before charging state.\n",
    "\n",
    "        Parameters\n",
    "        ----------\n",
    "        tnow: float\n",
    "            current time (hour with decimals).\n",
    "        \"\"\"\n",
    "        self.ev.soc = self.ev.soci\n",
    "        self.tnow = tnow\n",
    "        self.g_u()\n",
    "        self.find_socx()\n",
    "        logger.warning(f\"{self.name}: Successfully reset to time={self.tnow}\")\n",
    "\n",
    "# initialize\n",
    "sse = ev_ssm(N=50000, tnow=10)\n",
    "\n",
    "# --- plot online EV numbers ---\n",
    "time = np.arange(0, 24, 0.1)\n",
    "num = []\n",
    "for t in time:\n",
    "    sse.g_u(t)\n",
    "    num.append(sse.ne)\n",
    "\n",
    "fig, ax = plt.subplots()\n",
    "ax.plot(time, num)\n",
    "ax.set_title('Number of online EVs')\n",
    "ax.set_xlabel('Time [h]')\n",
    "ax.legend(['Online EV', 'Online capacity'])\n",
    "ax.set_xlim(0, 24)\n",
    "\n",
    "# reset sse\n",
    "sse.reset(tnow=10)\n"
   ]
  },
  {
   "cell_type": "code",
   "execution_count": 3,
   "metadata": {},
   "outputs": [
    {
     "data": {
      "text/plain": [
       "[<matplotlib.lines.Line2D at 0x106b57b80>]"
      ]
     },
     "execution_count": 3,
     "metadata": {},
     "output_type": "execute_result"
    },
    {
     "data": {
      "image/png": "[encoded data removed]",
      "text/plain": [
       "<Figure size 432x288 with 1 Axes>"
      ]
     },
     "metadata": {
      "needs_background": "light"
     },
     "output_type": "display_data"
    }
   ],
   "source": [
    "# Online EV numbers during hour 10\n",
    "num = []\n",
    "for i in range(3600):\n",
    "    sse.g_u(tnow=10+i/3600)\n",
    "    num.append(sse.ev.u.sum())\n",
    "plt.plot(range(3600), num)"
   ]
  },
  {
   "cell_type": "markdown",
   "metadata": {},
   "source": [
    "## SSM Matrix"
   ]
  },
  {
   "cell_type": "code",
   "execution_count": 39,
   "metadata": {},
   "outputs": [],
   "source": [
    "soc_res = pd.DataFrame()\n",
    "soc_s = pd.DataFrame()\n",
    "for i, t in enumerate(range(0, 3600*10+1, 300)):\n",
    "    t = t/3600\n",
    "    sse.act(t=300, tnow=t)\n",
    "    soc_s['col'] = sse.ev.socx.values\n",
    "    soc_res = pd.concat([soc_res, soc_s], axis=0)\n"
   ]
  },
  {
   "cell_type": "code",
   "execution_count": 41,
   "metadata": {},
   "outputs": [
    {
     "data": {
      "text/plain": [
       "9678"
      ]
     },
     "execution_count": 41,
     "metadata": {},
     "output_type": "execute_result"
    }
   ],
   "source": [
    "sse.ev.u.sum()"
   ]
  },
  {
   "cell_type": "code",
   "execution_count": 16,
   "metadata": {},
   "outputs": [],
   "source": [
    "from hmmlearn import hmm"
   ]
  },
  {
   "cell_type": "code",
   "execution_count": 23,
   "metadata": {},
   "outputs": [],
   "source": [
    "ssm = hmm.GaussianHMM(n_components=20, covariance_type=\"full\", n_iter=100)"
   ]
  },
  {
   "cell_type": "code",
   "execution_count": 24,
   "metadata": {},
   "outputs": [
    {
     "ename": "ValueError",
     "evalue": "'covars' must be symmetric, positive-definite",
     "output_type": "error",
     "traceback": [
      "\u001b[0;31m---------------------------------------------------------------------------\u001b[0m",
      "\u001b[0;31mLinAlgError\u001b[0m                               Traceback (most recent call last)",
      "File \u001b[0;32m~/Documents/work/mambaforge/envs/andes/lib/python3.9/site-packages/hmmlearn/stats.py:82\u001b[0m, in \u001b[0;36m_log_multivariate_normal_density_full\u001b[0;34m(X, means, covars, min_covar)\u001b[0m\n\u001b[1;32m     <a href='file:///Users/jinningwang/Documents/work/mambaforge/envs/andes/lib/python3.9/site-packages/hmmlearn/stats.py?line=80'>81</a>\u001b[0m \u001b[39mtry\u001b[39;00m:\n\u001b[0;32m---> <a href='file:///Users/jinningwang/Documents/work/mambaforge/envs/andes/lib/python3.9/site-packages/hmmlearn/stats.py?line=81'>82</a>\u001b[0m     cv_chol \u001b[39m=\u001b[39m linalg\u001b[39m.\u001b[39;49mcholesky(cv, lower\u001b[39m=\u001b[39;49m\u001b[39mTrue\u001b[39;49;00m)\n\u001b[1;32m     <a href='file:///Users/jinningwang/Documents/work/mambaforge/envs/andes/lib/python3.9/site-packages/hmmlearn/stats.py?line=82'>83</a>\u001b[0m \u001b[39mexcept\u001b[39;00m linalg\u001b[39m.\u001b[39mLinAlgError:\n\u001b[1;32m     <a href='file:///Users/jinningwang/Documents/work/mambaforge/envs/andes/lib/python3.9/site-packages/hmmlearn/stats.py?line=83'>84</a>\u001b[0m     \u001b[39m# The model is most probably stuck in a component with too\u001b[39;00m\n\u001b[1;32m     <a href='file:///Users/jinningwang/Documents/work/mambaforge/envs/andes/lib/python3.9/site-packages/hmmlearn/stats.py?line=84'>85</a>\u001b[0m     \u001b[39m# few observations, we need to reinitialize this components\u001b[39;00m\n",
      "File \u001b[0;32m~/Documents/work/mambaforge/envs/andes/lib/python3.9/site-packages/scipy/linalg/_decomp_cholesky.py:88\u001b[0m, in \u001b[0;36mcholesky\u001b[0;34m(a, lower, overwrite_a, check_finite)\u001b[0m\n\u001b[1;32m     <a href='file:///Users/jinningwang/Documents/work/mambaforge/envs/andes/lib/python3.9/site-packages/scipy/linalg/_decomp_cholesky.py?line=45'>46</a>\u001b[0m \u001b[39m\"\"\"\u001b[39;00m\n\u001b[1;32m     <a href='file:///Users/jinningwang/Documents/work/mambaforge/envs/andes/lib/python3.9/site-packages/scipy/linalg/_decomp_cholesky.py?line=46'>47</a>\u001b[0m \u001b[39mCompute the Cholesky decomposition of a matrix.\u001b[39;00m\n\u001b[1;32m     <a href='file:///Users/jinningwang/Documents/work/mambaforge/envs/andes/lib/python3.9/site-packages/scipy/linalg/_decomp_cholesky.py?line=47'>48</a>\u001b[0m \n\u001b[0;32m   (...)\u001b[0m\n\u001b[1;32m     <a href='file:///Users/jinningwang/Documents/work/mambaforge/envs/andes/lib/python3.9/site-packages/scipy/linalg/_decomp_cholesky.py?line=85'>86</a>\u001b[0m \n\u001b[1;32m     <a href='file:///Users/jinningwang/Documents/work/mambaforge/envs/andes/lib/python3.9/site-packages/scipy/linalg/_decomp_cholesky.py?line=86'>87</a>\u001b[0m \u001b[39m\"\"\"\u001b[39;00m\n\u001b[0;32m---> <a href='file:///Users/jinningwang/Documents/work/mambaforge/envs/andes/lib/python3.9/site-packages/scipy/linalg/_decomp_cholesky.py?line=87'>88</a>\u001b[0m c, lower \u001b[39m=\u001b[39m _cholesky(a, lower\u001b[39m=\u001b[39;49mlower, overwrite_a\u001b[39m=\u001b[39;49moverwrite_a, clean\u001b[39m=\u001b[39;49m\u001b[39mTrue\u001b[39;49;00m,\n\u001b[1;32m     <a href='file:///Users/jinningwang/Documents/work/mambaforge/envs/andes/lib/python3.9/site-packages/scipy/linalg/_decomp_cholesky.py?line=88'>89</a>\u001b[0m                      check_finite\u001b[39m=\u001b[39;49mcheck_finite)\n\u001b[1;32m     <a href='file:///Users/jinningwang/Documents/work/mambaforge/envs/andes/lib/python3.9/site-packages/scipy/linalg/_decomp_cholesky.py?line=89'>90</a>\u001b[0m \u001b[39mreturn\u001b[39;00m c\n",
      "File \u001b[0;32m~/Documents/work/mambaforge/envs/andes/lib/python3.9/site-packages/scipy/linalg/_decomp_cholesky.py:37\u001b[0m, in \u001b[0;36m_cholesky\u001b[0;34m(a, lower, overwrite_a, clean, check_finite)\u001b[0m\n\u001b[1;32m     <a href='file:///Users/jinningwang/Documents/work/mambaforge/envs/andes/lib/python3.9/site-packages/scipy/linalg/_decomp_cholesky.py?line=35'>36</a>\u001b[0m \u001b[39mif\u001b[39;00m info \u001b[39m>\u001b[39m \u001b[39m0\u001b[39m:\n\u001b[0;32m---> <a href='file:///Users/jinningwang/Documents/work/mambaforge/envs/andes/lib/python3.9/site-packages/scipy/linalg/_decomp_cholesky.py?line=36'>37</a>\u001b[0m     \u001b[39mraise\u001b[39;00m LinAlgError(\u001b[39m\"\u001b[39m\u001b[39m%d\u001b[39;00m\u001b[39m-th leading minor of the array is not positive \u001b[39m\u001b[39m\"\u001b[39m\n\u001b[1;32m     <a href='file:///Users/jinningwang/Documents/work/mambaforge/envs/andes/lib/python3.9/site-packages/scipy/linalg/_decomp_cholesky.py?line=37'>38</a>\u001b[0m                       \u001b[39m\"\u001b[39m\u001b[39mdefinite\u001b[39m\u001b[39m\"\u001b[39m \u001b[39m%\u001b[39m info)\n\u001b[1;32m     <a href='file:///Users/jinningwang/Documents/work/mambaforge/envs/andes/lib/python3.9/site-packages/scipy/linalg/_decomp_cholesky.py?line=38'>39</a>\u001b[0m \u001b[39mif\u001b[39;00m info \u001b[39m<\u001b[39m \u001b[39m0\u001b[39m:\n",
      "\u001b[0;31mLinAlgError\u001b[0m: 2-th leading minor of the array is not positive definite",
      "\nDuring handling of the above exception, another exception occurred:\n",
      "\u001b[0;31mLinAlgError\u001b[0m                               Traceback (most recent call last)",
      "File \u001b[0;32m~/Documents/work/mambaforge/envs/andes/lib/python3.9/site-packages/hmmlearn/stats.py:87\u001b[0m, in \u001b[0;36m_log_multivariate_normal_density_full\u001b[0;34m(X, means, covars, min_covar)\u001b[0m\n\u001b[1;32m     <a href='file:///Users/jinningwang/Documents/work/mambaforge/envs/andes/lib/python3.9/site-packages/hmmlearn/stats.py?line=85'>86</a>\u001b[0m \u001b[39mtry\u001b[39;00m:\n\u001b[0;32m---> <a href='file:///Users/jinningwang/Documents/work/mambaforge/envs/andes/lib/python3.9/site-packages/hmmlearn/stats.py?line=86'>87</a>\u001b[0m     cv_chol \u001b[39m=\u001b[39m linalg\u001b[39m.\u001b[39;49mcholesky(cv \u001b[39m+\u001b[39;49m min_covar \u001b[39m*\u001b[39;49m np\u001b[39m.\u001b[39;49meye(n_dim),\n\u001b[1;32m     <a href='file:///Users/jinningwang/Documents/work/mambaforge/envs/andes/lib/python3.9/site-packages/hmmlearn/stats.py?line=87'>88</a>\u001b[0m                               lower\u001b[39m=\u001b[39;49m\u001b[39mTrue\u001b[39;49;00m)\n\u001b[1;32m     <a href='file:///Users/jinningwang/Documents/work/mambaforge/envs/andes/lib/python3.9/site-packages/hmmlearn/stats.py?line=88'>89</a>\u001b[0m \u001b[39mexcept\u001b[39;00m linalg\u001b[39m.\u001b[39mLinAlgError:\n",
      "File \u001b[0;32m~/Documents/work/mambaforge/envs/andes/lib/python3.9/site-packages/scipy/linalg/_decomp_cholesky.py:88\u001b[0m, in \u001b[0;36mcholesky\u001b[0;34m(a, lower, overwrite_a, check_finite)\u001b[0m\n\u001b[1;32m     <a href='file:///Users/jinningwang/Documents/work/mambaforge/envs/andes/lib/python3.9/site-packages/scipy/linalg/_decomp_cholesky.py?line=45'>46</a>\u001b[0m \u001b[39m\"\"\"\u001b[39;00m\n\u001b[1;32m     <a href='file:///Users/jinningwang/Documents/work/mambaforge/envs/andes/lib/python3.9/site-packages/scipy/linalg/_decomp_cholesky.py?line=46'>47</a>\u001b[0m \u001b[39mCompute the Cholesky decomposition of a matrix.\u001b[39;00m\n\u001b[1;32m     <a href='file:///Users/jinningwang/Documents/work/mambaforge/envs/andes/lib/python3.9/site-packages/scipy/linalg/_decomp_cholesky.py?line=47'>48</a>\u001b[0m \n\u001b[0;32m   (...)\u001b[0m\n\u001b[1;32m     <a href='file:///Users/jinningwang/Documents/work/mambaforge/envs/andes/lib/python3.9/site-packages/scipy/linalg/_decomp_cholesky.py?line=85'>86</a>\u001b[0m \n\u001b[1;32m     <a href='file:///Users/jinningwang/Documents/work/mambaforge/envs/andes/lib/python3.9/site-packages/scipy/linalg/_decomp_cholesky.py?line=86'>87</a>\u001b[0m \u001b[39m\"\"\"\u001b[39;00m\n\u001b[0;32m---> <a href='file:///Users/jinningwang/Documents/work/mambaforge/envs/andes/lib/python3.9/site-packages/scipy/linalg/_decomp_cholesky.py?line=87'>88</a>\u001b[0m c, lower \u001b[39m=\u001b[39m _cholesky(a, lower\u001b[39m=\u001b[39;49mlower, overwrite_a\u001b[39m=\u001b[39;49moverwrite_a, clean\u001b[39m=\u001b[39;49m\u001b[39mTrue\u001b[39;49;00m,\n\u001b[1;32m     <a href='file:///Users/jinningwang/Documents/work/mambaforge/envs/andes/lib/python3.9/site-packages/scipy/linalg/_decomp_cholesky.py?line=88'>89</a>\u001b[0m                      check_finite\u001b[39m=\u001b[39;49mcheck_finite)\n\u001b[1;32m     <a href='file:///Users/jinningwang/Documents/work/mambaforge/envs/andes/lib/python3.9/site-packages/scipy/linalg/_decomp_cholesky.py?line=89'>90</a>\u001b[0m \u001b[39mreturn\u001b[39;00m c\n",
      "File \u001b[0;32m~/Documents/work/mambaforge/envs/andes/lib/python3.9/site-packages/scipy/linalg/_decomp_cholesky.py:37\u001b[0m, in \u001b[0;36m_cholesky\u001b[0;34m(a, lower, overwrite_a, clean, check_finite)\u001b[0m\n\u001b[1;32m     <a href='file:///Users/jinningwang/Documents/work/mambaforge/envs/andes/lib/python3.9/site-packages/scipy/linalg/_decomp_cholesky.py?line=35'>36</a>\u001b[0m \u001b[39mif\u001b[39;00m info \u001b[39m>\u001b[39m \u001b[39m0\u001b[39m:\n\u001b[0;32m---> <a href='file:///Users/jinningwang/Documents/work/mambaforge/envs/andes/lib/python3.9/site-packages/scipy/linalg/_decomp_cholesky.py?line=36'>37</a>\u001b[0m     \u001b[39mraise\u001b[39;00m LinAlgError(\u001b[39m\"\u001b[39m\u001b[39m%d\u001b[39;00m\u001b[39m-th leading minor of the array is not positive \u001b[39m\u001b[39m\"\u001b[39m\n\u001b[1;32m     <a href='file:///Users/jinningwang/Documents/work/mambaforge/envs/andes/lib/python3.9/site-packages/scipy/linalg/_decomp_cholesky.py?line=37'>38</a>\u001b[0m                       \u001b[39m\"\u001b[39m\u001b[39mdefinite\u001b[39m\u001b[39m\"\u001b[39m \u001b[39m%\u001b[39m info)\n\u001b[1;32m     <a href='file:///Users/jinningwang/Documents/work/mambaforge/envs/andes/lib/python3.9/site-packages/scipy/linalg/_decomp_cholesky.py?line=38'>39</a>\u001b[0m \u001b[39mif\u001b[39;00m info \u001b[39m<\u001b[39m \u001b[39m0\u001b[39m:\n",
      "\u001b[0;31mLinAlgError\u001b[0m: 2-th leading minor of the array is not positive definite",
      "\nDuring handling of the above exception, another exception occurred:\n",
      "\u001b[0;31mValueError\u001b[0m                                Traceback (most recent call last)",
      "\u001b[1;32m/Users/jinningwang/Documents/work/andes/jwang/notes2/ev_ssm.ipynb Cell 13'\u001b[0m in \u001b[0;36m<cell line: 1>\u001b[0;34m()\u001b[0m\n\u001b[0;32m----> <a href='vscode-notebook-cell:/Users/jinningwang/Documents/work/andes/jwang/notes2/ev_ssm.ipynb#ch0000023?line=0'>1</a>\u001b[0m ssm\u001b[39m.\u001b[39;49mfit(soc_res\u001b[39m.\u001b[39;49mvalues)\n",
      "File \u001b[0;32m~/Documents/work/mambaforge/envs/andes/lib/python3.9/site-packages/hmmlearn/base.py:508\u001b[0m, in \u001b[0;36mBaseHMM.fit\u001b[0;34m(self, X, lengths)\u001b[0m\n\u001b[1;32m    <a href='file:///Users/jinningwang/Documents/work/mambaforge/envs/andes/lib/python3.9/site-packages/hmmlearn/base.py?line=504'>505</a>\u001b[0m curr_log_prob \u001b[39m=\u001b[39m \u001b[39m0\u001b[39m\n\u001b[1;32m    <a href='file:///Users/jinningwang/Documents/work/mambaforge/envs/andes/lib/python3.9/site-packages/hmmlearn/base.py?line=505'>506</a>\u001b[0m \u001b[39mfor\u001b[39;00m sub_X \u001b[39min\u001b[39;00m _utils\u001b[39m.\u001b[39msplit_X_lengths(X, lengths):\n\u001b[1;32m    <a href='file:///Users/jinningwang/Documents/work/mambaforge/envs/andes/lib/python3.9/site-packages/hmmlearn/base.py?line=506'>507</a>\u001b[0m     lattice, log_prob, posteriors, fwdlattice, bwdlattice \u001b[39m=\u001b[39m \\\n\u001b[0;32m--> <a href='file:///Users/jinningwang/Documents/work/mambaforge/envs/andes/lib/python3.9/site-packages/hmmlearn/base.py?line=507'>508</a>\u001b[0m             impl(sub_X)\n\u001b[1;32m    <a href='file:///Users/jinningwang/Documents/work/mambaforge/envs/andes/lib/python3.9/site-packages/hmmlearn/base.py?line=508'>509</a>\u001b[0m     \u001b[39m# Derived HMM classes will implement the following method to\u001b[39;00m\n\u001b[1;32m    <a href='file:///Users/jinningwang/Documents/work/mambaforge/envs/andes/lib/python3.9/site-packages/hmmlearn/base.py?line=509'>510</a>\u001b[0m     \u001b[39m# update their probability distributions, so keep\u001b[39;00m\n\u001b[1;32m    <a href='file:///Users/jinningwang/Documents/work/mambaforge/envs/andes/lib/python3.9/site-packages/hmmlearn/base.py?line=510'>511</a>\u001b[0m     \u001b[39m# a single call to this method for simplicity.\u001b[39;00m\n\u001b[1;32m    <a href='file:///Users/jinningwang/Documents/work/mambaforge/envs/andes/lib/python3.9/site-packages/hmmlearn/base.py?line=511'>512</a>\u001b[0m     \u001b[39mself\u001b[39m\u001b[39m.\u001b[39m_accumulate_sufficient_statistics(\n\u001b[1;32m    <a href='file:///Users/jinningwang/Documents/work/mambaforge/envs/andes/lib/python3.9/site-packages/hmmlearn/base.py?line=512'>513</a>\u001b[0m         stats, sub_X, lattice, posteriors, fwdlattice,\n\u001b[1;32m    <a href='file:///Users/jinningwang/Documents/work/mambaforge/envs/andes/lib/python3.9/site-packages/hmmlearn/base.py?line=513'>514</a>\u001b[0m         bwdlattice)\n",
      "File \u001b[0;32m~/Documents/work/mambaforge/envs/andes/lib/python3.9/site-packages/hmmlearn/base.py:540\u001b[0m, in \u001b[0;36mBaseHMM._fit_log\u001b[0;34m(self, X)\u001b[0m\n\u001b[1;32m    <a href='file:///Users/jinningwang/Documents/work/mambaforge/envs/andes/lib/python3.9/site-packages/hmmlearn/base.py?line=538'>539</a>\u001b[0m \u001b[39mdef\u001b[39;00m \u001b[39m_fit_log\u001b[39m(\u001b[39mself\u001b[39m, X):\n\u001b[0;32m--> <a href='file:///Users/jinningwang/Documents/work/mambaforge/envs/andes/lib/python3.9/site-packages/hmmlearn/base.py?line=539'>540</a>\u001b[0m     log_frameprob \u001b[39m=\u001b[39m \u001b[39mself\u001b[39;49m\u001b[39m.\u001b[39;49m_compute_log_likelihood(X)\n\u001b[1;32m    <a href='file:///Users/jinningwang/Documents/work/mambaforge/envs/andes/lib/python3.9/site-packages/hmmlearn/base.py?line=540'>541</a>\u001b[0m     log_prob, fwdlattice \u001b[39m=\u001b[39m \u001b[39mself\u001b[39m\u001b[39m.\u001b[39m_do_forward_log_pass(log_frameprob)\n\u001b[1;32m    <a href='file:///Users/jinningwang/Documents/work/mambaforge/envs/andes/lib/python3.9/site-packages/hmmlearn/base.py?line=541'>542</a>\u001b[0m     bwdlattice \u001b[39m=\u001b[39m \u001b[39mself\u001b[39m\u001b[39m.\u001b[39m_do_backward_log_pass(log_frameprob)\n",
      "File \u001b[0;32m~/Documents/work/mambaforge/envs/andes/lib/python3.9/site-packages/hmmlearn/hmm.py:223\u001b[0m, in \u001b[0;36mGaussianHMM._compute_log_likelihood\u001b[0;34m(self, X)\u001b[0m\n\u001b[1;32m    <a href='file:///Users/jinningwang/Documents/work/mambaforge/envs/andes/lib/python3.9/site-packages/hmmlearn/hmm.py?line=221'>222</a>\u001b[0m \u001b[39mdef\u001b[39;00m \u001b[39m_compute_log_likelihood\u001b[39m(\u001b[39mself\u001b[39m, X):\n\u001b[0;32m--> <a href='file:///Users/jinningwang/Documents/work/mambaforge/envs/andes/lib/python3.9/site-packages/hmmlearn/hmm.py?line=222'>223</a>\u001b[0m     \u001b[39mreturn\u001b[39;00m log_multivariate_normal_density(\n\u001b[1;32m    <a href='file:///Users/jinningwang/Documents/work/mambaforge/envs/andes/lib/python3.9/site-packages/hmmlearn/hmm.py?line=223'>224</a>\u001b[0m         X, \u001b[39mself\u001b[39;49m\u001b[39m.\u001b[39;49mmeans_, \u001b[39mself\u001b[39;49m\u001b[39m.\u001b[39;49m_covars_, \u001b[39mself\u001b[39;49m\u001b[39m.\u001b[39;49mcovariance_type)\n",
      "File \u001b[0;32m~/Documents/work/mambaforge/envs/andes/lib/python3.9/site-packages/hmmlearn/stats.py:42\u001b[0m, in \u001b[0;36mlog_multivariate_normal_density\u001b[0;34m(X, means, covars, covariance_type)\u001b[0m\n\u001b[1;32m      <a href='file:///Users/jinningwang/Documents/work/mambaforge/envs/andes/lib/python3.9/site-packages/hmmlearn/stats.py?line=5'>6</a>\u001b[0m \u001b[39m\"\"\"\u001b[39;00m\n\u001b[1;32m      <a href='file:///Users/jinningwang/Documents/work/mambaforge/envs/andes/lib/python3.9/site-packages/hmmlearn/stats.py?line=6'>7</a>\u001b[0m \u001b[39mCompute the log probability under a multivariate Gaussian distribution.\u001b[39;00m\n\u001b[1;32m      <a href='file:///Users/jinningwang/Documents/work/mambaforge/envs/andes/lib/python3.9/site-packages/hmmlearn/stats.py?line=7'>8</a>\u001b[0m \n\u001b[0;32m   (...)\u001b[0m\n\u001b[1;32m     <a href='file:///Users/jinningwang/Documents/work/mambaforge/envs/andes/lib/python3.9/site-packages/hmmlearn/stats.py?line=34'>35</a>\u001b[0m \u001b[39m    X under each of the n_components multivariate Gaussian distributions.\u001b[39;00m\n\u001b[1;32m     <a href='file:///Users/jinningwang/Documents/work/mambaforge/envs/andes/lib/python3.9/site-packages/hmmlearn/stats.py?line=35'>36</a>\u001b[0m \u001b[39m\"\"\"\u001b[39;00m\n\u001b[1;32m     <a href='file:///Users/jinningwang/Documents/work/mambaforge/envs/andes/lib/python3.9/site-packages/hmmlearn/stats.py?line=36'>37</a>\u001b[0m log_multivariate_normal_density_dict \u001b[39m=\u001b[39m {\n\u001b[1;32m     <a href='file:///Users/jinningwang/Documents/work/mambaforge/envs/andes/lib/python3.9/site-packages/hmmlearn/stats.py?line=37'>38</a>\u001b[0m     \u001b[39m'\u001b[39m\u001b[39mspherical\u001b[39m\u001b[39m'\u001b[39m: _log_multivariate_normal_density_spherical,\n\u001b[1;32m     <a href='file:///Users/jinningwang/Documents/work/mambaforge/envs/andes/lib/python3.9/site-packages/hmmlearn/stats.py?line=38'>39</a>\u001b[0m     \u001b[39m'\u001b[39m\u001b[39mtied\u001b[39m\u001b[39m'\u001b[39m: _log_multivariate_normal_density_tied,\n\u001b[1;32m     <a href='file:///Users/jinningwang/Documents/work/mambaforge/envs/andes/lib/python3.9/site-packages/hmmlearn/stats.py?line=39'>40</a>\u001b[0m     \u001b[39m'\u001b[39m\u001b[39mdiag\u001b[39m\u001b[39m'\u001b[39m: _log_multivariate_normal_density_diag,\n\u001b[1;32m     <a href='file:///Users/jinningwang/Documents/work/mambaforge/envs/andes/lib/python3.9/site-packages/hmmlearn/stats.py?line=40'>41</a>\u001b[0m     \u001b[39m'\u001b[39m\u001b[39mfull\u001b[39m\u001b[39m'\u001b[39m: _log_multivariate_normal_density_full}\n\u001b[0;32m---> <a href='file:///Users/jinningwang/Documents/work/mambaforge/envs/andes/lib/python3.9/site-packages/hmmlearn/stats.py?line=41'>42</a>\u001b[0m \u001b[39mreturn\u001b[39;00m log_multivariate_normal_density_dict[covariance_type](\n\u001b[1;32m     <a href='file:///Users/jinningwang/Documents/work/mambaforge/envs/andes/lib/python3.9/site-packages/hmmlearn/stats.py?line=42'>43</a>\u001b[0m     X, means, covars\n\u001b[1;32m     <a href='file:///Users/jinningwang/Documents/work/mambaforge/envs/andes/lib/python3.9/site-packages/hmmlearn/stats.py?line=43'>44</a>\u001b[0m )\n",
      "File \u001b[0;32m~/Documents/work/mambaforge/envs/andes/lib/python3.9/site-packages/hmmlearn/stats.py:90\u001b[0m, in \u001b[0;36m_log_multivariate_normal_density_full\u001b[0;34m(X, means, covars, min_covar)\u001b[0m\n\u001b[1;32m     <a href='file:///Users/jinningwang/Documents/work/mambaforge/envs/andes/lib/python3.9/site-packages/hmmlearn/stats.py?line=86'>87</a>\u001b[0m         cv_chol \u001b[39m=\u001b[39m linalg\u001b[39m.\u001b[39mcholesky(cv \u001b[39m+\u001b[39m min_covar \u001b[39m*\u001b[39m np\u001b[39m.\u001b[39meye(n_dim),\n\u001b[1;32m     <a href='file:///Users/jinningwang/Documents/work/mambaforge/envs/andes/lib/python3.9/site-packages/hmmlearn/stats.py?line=87'>88</a>\u001b[0m                                   lower\u001b[39m=\u001b[39m\u001b[39mTrue\u001b[39;00m)\n\u001b[1;32m     <a href='file:///Users/jinningwang/Documents/work/mambaforge/envs/andes/lib/python3.9/site-packages/hmmlearn/stats.py?line=88'>89</a>\u001b[0m     \u001b[39mexcept\u001b[39;00m linalg\u001b[39m.\u001b[39mLinAlgError:\n\u001b[0;32m---> <a href='file:///Users/jinningwang/Documents/work/mambaforge/envs/andes/lib/python3.9/site-packages/hmmlearn/stats.py?line=89'>90</a>\u001b[0m         \u001b[39mraise\u001b[39;00m \u001b[39mValueError\u001b[39;00m(\u001b[39m\"\u001b[39m\u001b[39m'\u001b[39m\u001b[39mcovars\u001b[39m\u001b[39m'\u001b[39m\u001b[39m must be symmetric, \u001b[39m\u001b[39m\"\u001b[39m\n\u001b[1;32m     <a href='file:///Users/jinningwang/Documents/work/mambaforge/envs/andes/lib/python3.9/site-packages/hmmlearn/stats.py?line=90'>91</a>\u001b[0m                          \u001b[39m\"\u001b[39m\u001b[39mpositive-definite\u001b[39m\u001b[39m\"\u001b[39m)\n\u001b[1;32m     <a href='file:///Users/jinningwang/Documents/work/mambaforge/envs/andes/lib/python3.9/site-packages/hmmlearn/stats.py?line=92'>93</a>\u001b[0m cv_log_det \u001b[39m=\u001b[39m \u001b[39m2\u001b[39m \u001b[39m*\u001b[39m np\u001b[39m.\u001b[39msum(np\u001b[39m.\u001b[39mlog(np\u001b[39m.\u001b[39mdiagonal(cv_chol)))\n\u001b[1;32m     <a href='file:///Users/jinningwang/Documents/work/mambaforge/envs/andes/lib/python3.9/site-packages/hmmlearn/stats.py?line=93'>94</a>\u001b[0m cv_sol \u001b[39m=\u001b[39m linalg\u001b[39m.\u001b[39msolve_triangular(cv_chol, (X \u001b[39m-\u001b[39m mu)\u001b[39m.\u001b[39mT, lower\u001b[39m=\u001b[39m\u001b[39mTrue\u001b[39;00m)\u001b[39m.\u001b[39mT\n",
      "\u001b[0;31mValueError\u001b[0m: 'covars' must be symmetric, positive-definite"
     ]
    }
   ],
   "source": [
    "ssm.fit(soc_res.values)"
   ]
  },
  {
   "cell_type": "code",
   "execution_count": 22,
   "metadata": {},
   "outputs": [
    {
     "ename": "ValueError",
     "evalue": "Expected 2D array, got 1D array instead:\narray=[ 9  5 10 ...  5  5  5].\nReshape your data either using array.reshape(-1, 1) if your data has a single feature or array.reshape(1, -1) if it contains a single sample.",
     "output_type": "error",
     "traceback": [
      "\u001b[0;31m---------------------------------------------------------------------------\u001b[0m",
      "\u001b[0;31mValueError\u001b[0m                                Traceback (most recent call last)",
      "\u001b[1;32m/Users/jinningwang/Documents/work/andes/jwang/notes2/ev_ssm.ipynb Cell 14'\u001b[0m in \u001b[0;36m<cell line: 1>\u001b[0;34m()\u001b[0m\n\u001b[0;32m----> <a href='vscode-notebook-cell:/Users/jinningwang/Documents/work/andes/jwang/notes2/ev_ssm.ipynb#ch0000024?line=0'>1</a>\u001b[0m ssm\u001b[39m.\u001b[39;49mpredict(sse\u001b[39m.\u001b[39;49mev\u001b[39m.\u001b[39;49msocx\u001b[39m.\u001b[39;49mvalues)\n",
      "File \u001b[0;32m~/Documents/work/mambaforge/envs/andes/lib/python3.9/site-packages/hmmlearn/base.py:393\u001b[0m, in \u001b[0;36mBaseHMM.predict\u001b[0;34m(self, X, lengths)\u001b[0m\n\u001b[1;32m    <a href='file:///Users/jinningwang/Documents/work/mambaforge/envs/andes/lib/python3.9/site-packages/hmmlearn/base.py?line=375'>376</a>\u001b[0m \u001b[39mdef\u001b[39;00m \u001b[39mpredict\u001b[39m(\u001b[39mself\u001b[39m, X, lengths\u001b[39m=\u001b[39m\u001b[39mNone\u001b[39;00m):\n\u001b[1;32m    <a href='file:///Users/jinningwang/Documents/work/mambaforge/envs/andes/lib/python3.9/site-packages/hmmlearn/base.py?line=376'>377</a>\u001b[0m     \u001b[39m\"\"\"\u001b[39;00m\n\u001b[1;32m    <a href='file:///Users/jinningwang/Documents/work/mambaforge/envs/andes/lib/python3.9/site-packages/hmmlearn/base.py?line=377'>378</a>\u001b[0m \u001b[39m    Find most likely state sequence corresponding to ``X``.\u001b[39;00m\n\u001b[1;32m    <a href='file:///Users/jinningwang/Documents/work/mambaforge/envs/andes/lib/python3.9/site-packages/hmmlearn/base.py?line=378'>379</a>\u001b[0m \n\u001b[0;32m   (...)\u001b[0m\n\u001b[1;32m    <a href='file:///Users/jinningwang/Documents/work/mambaforge/envs/andes/lib/python3.9/site-packages/hmmlearn/base.py?line=390'>391</a>\u001b[0m \u001b[39m        Labels for each sample from ``X``.\u001b[39;00m\n\u001b[1;32m    <a href='file:///Users/jinningwang/Documents/work/mambaforge/envs/andes/lib/python3.9/site-packages/hmmlearn/base.py?line=391'>392</a>\u001b[0m \u001b[39m    \"\"\"\u001b[39;00m\n\u001b[0;32m--> <a href='file:///Users/jinningwang/Documents/work/mambaforge/envs/andes/lib/python3.9/site-packages/hmmlearn/base.py?line=392'>393</a>\u001b[0m     _, state_sequence \u001b[39m=\u001b[39m \u001b[39mself\u001b[39;49m\u001b[39m.\u001b[39;49mdecode(X, lengths)\n\u001b[1;32m    <a href='file:///Users/jinningwang/Documents/work/mambaforge/envs/andes/lib/python3.9/site-packages/hmmlearn/base.py?line=393'>394</a>\u001b[0m     \u001b[39mreturn\u001b[39;00m state_sequence\n",
      "File \u001b[0;32m~/Documents/work/mambaforge/envs/andes/lib/python3.9/site-packages/hmmlearn/base.py:365\u001b[0m, in \u001b[0;36mBaseHMM.decode\u001b[0;34m(self, X, lengths, algorithm)\u001b[0m\n\u001b[1;32m    <a href='file:///Users/jinningwang/Documents/work/mambaforge/envs/andes/lib/python3.9/site-packages/hmmlearn/base.py?line=357'>358</a>\u001b[0m     \u001b[39mraise\u001b[39;00m \u001b[39mValueError\u001b[39;00m(\u001b[39mf\u001b[39m\u001b[39m\"\u001b[39m\u001b[39mUnknown decoder \u001b[39m\u001b[39m{\u001b[39;00malgorithm\u001b[39m!r}\u001b[39;00m\u001b[39m\"\u001b[39m)\n\u001b[1;32m    <a href='file:///Users/jinningwang/Documents/work/mambaforge/envs/andes/lib/python3.9/site-packages/hmmlearn/base.py?line=359'>360</a>\u001b[0m decoder \u001b[39m=\u001b[39m {\n\u001b[1;32m    <a href='file:///Users/jinningwang/Documents/work/mambaforge/envs/andes/lib/python3.9/site-packages/hmmlearn/base.py?line=360'>361</a>\u001b[0m     \u001b[39m\"\u001b[39m\u001b[39mviterbi\u001b[39m\u001b[39m\"\u001b[39m: \u001b[39mself\u001b[39m\u001b[39m.\u001b[39m_decode_viterbi,\n\u001b[1;32m    <a href='file:///Users/jinningwang/Documents/work/mambaforge/envs/andes/lib/python3.9/site-packages/hmmlearn/base.py?line=361'>362</a>\u001b[0m     \u001b[39m\"\u001b[39m\u001b[39mmap\u001b[39m\u001b[39m\"\u001b[39m: \u001b[39mself\u001b[39m\u001b[39m.\u001b[39m_decode_map\n\u001b[1;32m    <a href='file:///Users/jinningwang/Documents/work/mambaforge/envs/andes/lib/python3.9/site-packages/hmmlearn/base.py?line=362'>363</a>\u001b[0m }[algorithm]\n\u001b[0;32m--> <a href='file:///Users/jinningwang/Documents/work/mambaforge/envs/andes/lib/python3.9/site-packages/hmmlearn/base.py?line=364'>365</a>\u001b[0m X \u001b[39m=\u001b[39m check_array(X)\n\u001b[1;32m    <a href='file:///Users/jinningwang/Documents/work/mambaforge/envs/andes/lib/python3.9/site-packages/hmmlearn/base.py?line=365'>366</a>\u001b[0m log_prob \u001b[39m=\u001b[39m \u001b[39m0\u001b[39m\n\u001b[1;32m    <a href='file:///Users/jinningwang/Documents/work/mambaforge/envs/andes/lib/python3.9/site-packages/hmmlearn/base.py?line=366'>367</a>\u001b[0m sub_state_sequences \u001b[39m=\u001b[39m []\n",
      "File \u001b[0;32m~/Documents/work/mambaforge/envs/andes/lib/python3.9/site-packages/sklearn/utils/validation.py:769\u001b[0m, in \u001b[0;36mcheck_array\u001b[0;34m(array, accept_sparse, accept_large_sparse, dtype, order, copy, force_all_finite, ensure_2d, allow_nd, ensure_min_samples, ensure_min_features, estimator)\u001b[0m\n\u001b[1;32m    <a href='file:///Users/jinningwang/Documents/work/mambaforge/envs/andes/lib/python3.9/site-packages/sklearn/utils/validation.py?line=766'>767</a>\u001b[0m     \u001b[39m# If input is 1D raise error\u001b[39;00m\n\u001b[1;32m    <a href='file:///Users/jinningwang/Documents/work/mambaforge/envs/andes/lib/python3.9/site-packages/sklearn/utils/validation.py?line=767'>768</a>\u001b[0m     \u001b[39mif\u001b[39;00m array\u001b[39m.\u001b[39mndim \u001b[39m==\u001b[39m \u001b[39m1\u001b[39m:\n\u001b[0;32m--> <a href='file:///Users/jinningwang/Documents/work/mambaforge/envs/andes/lib/python3.9/site-packages/sklearn/utils/validation.py?line=768'>769</a>\u001b[0m         \u001b[39mraise\u001b[39;00m \u001b[39mValueError\u001b[39;00m(\n\u001b[1;32m    <a href='file:///Users/jinningwang/Documents/work/mambaforge/envs/andes/lib/python3.9/site-packages/sklearn/utils/validation.py?line=769'>770</a>\u001b[0m             \u001b[39m\"\u001b[39m\u001b[39mExpected 2D array, got 1D array instead:\u001b[39m\u001b[39m\\n\u001b[39;00m\u001b[39marray=\u001b[39m\u001b[39m{}\u001b[39;00m\u001b[39m.\u001b[39m\u001b[39m\\n\u001b[39;00m\u001b[39m\"\u001b[39m\n\u001b[1;32m    <a href='file:///Users/jinningwang/Documents/work/mambaforge/envs/andes/lib/python3.9/site-packages/sklearn/utils/validation.py?line=770'>771</a>\u001b[0m             \u001b[39m\"\u001b[39m\u001b[39mReshape your data either using array.reshape(-1, 1) if \u001b[39m\u001b[39m\"\u001b[39m\n\u001b[1;32m    <a href='file:///Users/jinningwang/Documents/work/mambaforge/envs/andes/lib/python3.9/site-packages/sklearn/utils/validation.py?line=771'>772</a>\u001b[0m             \u001b[39m\"\u001b[39m\u001b[39myour data has a single feature or array.reshape(1, -1) \u001b[39m\u001b[39m\"\u001b[39m\n\u001b[1;32m    <a href='file:///Users/jinningwang/Documents/work/mambaforge/envs/andes/lib/python3.9/site-packages/sklearn/utils/validation.py?line=772'>773</a>\u001b[0m             \u001b[39m\"\u001b[39m\u001b[39mif it contains a single sample.\u001b[39m\u001b[39m\"\u001b[39m\u001b[39m.\u001b[39mformat(array)\n\u001b[1;32m    <a href='file:///Users/jinningwang/Documents/work/mambaforge/envs/andes/lib/python3.9/site-packages/sklearn/utils/validation.py?line=773'>774</a>\u001b[0m         )\n\u001b[1;32m    <a href='file:///Users/jinningwang/Documents/work/mambaforge/envs/andes/lib/python3.9/site-packages/sklearn/utils/validation.py?line=775'>776</a>\u001b[0m \u001b[39m# make sure we actually converted to numeric:\u001b[39;00m\n\u001b[1;32m    <a href='file:///Users/jinningwang/Documents/work/mambaforge/envs/andes/lib/python3.9/site-packages/sklearn/utils/validation.py?line=776'>777</a>\u001b[0m \u001b[39mif\u001b[39;00m dtype_numeric \u001b[39mand\u001b[39;00m array\u001b[39m.\u001b[39mdtype\u001b[39m.\u001b[39mkind \u001b[39min\u001b[39;00m \u001b[39m\"\u001b[39m\u001b[39mOUSV\u001b[39m\u001b[39m\"\u001b[39m:\n",
      "\u001b[0;31mValueError\u001b[0m: Expected 2D array, got 1D array instead:\narray=[ 9  5 10 ...  5  5  5].\nReshape your data either using array.reshape(-1, 1) if your data has a single feature or array.reshape(1, -1) if it contains a single sample."
     ]
    }
   ],
   "source": [
    "ssm.predict(sse.ev.socx.values)"
   ]
  },
  {
   "cell_type": "code",
   "execution_count": null,
   "metadata": {},
   "outputs": [],
   "source": [
    "A = np.zeros((sse.Ns, sse.Ns))\n",
    "B1 = -1 * np.ones((sse.Ns, sse.Ns))\n",
    "B2 = np.eye(sse.Ns)\n",
    "B3 = np.zeros((sse.Ns, sse.Ns))\n",
    "B = np.vstack((B1, B2, B3))\n",
    "\n",
    "C1 = np.zeros((sse.Ns, sse.Ns))\n",
    "C2 = -1 * np.eye(sse.Ns)\n",
    "C3 = np.ones((sse.Ns, sse.Ns))\n",
    "C = np.vstack((C1, C2, C3))\n",
    "\n",
    "Pave = 1 # TODO: average power of online EV\n",
    "D1 = -1 * np.ones((1, sse.Ns))\n",
    "D2 = np.zeros((1, sse.Ns))\n",
    "D3 = np.ones((1, sse.Ns))\n",
    "D = Pave * np.hstack((D1, D2, D3))\n",
    "D"
   ]
  },
  {
   "cell_type": "code",
   "execution_count": null,
   "metadata": {},
   "outputs": [],
   "source": [
    "np.matrix"
   ]
  },
  {
   "cell_type": "markdown",
   "metadata": {},
   "source": [
    "## Simulation\n",
    "\n",
    "Issues: how to integerate the SSM when using ADNES?\n",
    "\n",
    "flow_chart:\n",
    "```{python}\n",
    "prep grid data:\n",
    "ADNES: topology,  gen. limits, ramp. limits, line limits,\n",
    "Outside: gen. cost, ramp. cost,\n",
    "\n",
    "for $t_{OPF}$ in T (interval: 5min; total: 1h; [n=12]):\n",
    "    aggregate EV data (from SSM), generate $PR_{e,i,u,t}$\n",
    "    Do OPF, generate $PG_{i, t}$, $PR_{g, i, u, t}$, $PR_{g, i, d, t}$\n",
    "\n",
    "    for t in $t_{OPF}$ (interval: 4s; total: 5min; [n=75]):\n",
    "        Update data into dynamic system:\n",
    "            # Note, constant power model should be used in TDS.\n",
    "            # Use TimeSeries as the load. \n",
    "            power change: TGOV1.paux0\n",
    "            load change: \n",
    "\n",
    "        Run TDS: generate SFR mileage\n",
    "```"
   ]
  },
  {
   "cell_type": "markdown",
   "metadata": {},
   "source": [
    "Co-Sim list:\n",
    "```{python}\n",
    "for $t_{OPF}$ in T:\n",
    "    EVA report $pru_{max}$ $prd_{max}$, eqn xxx\n",
    "    TCC do OPF, eqn xxx\n",
    "    Assign dispatch signal to generation units\n",
    "\n",
    "    for t in $t_{AGC}$:\n",
    "        Assign AGC signal to AGC units\n",
    "        Run TDS\n",
    "```"
   ]
  }
 ],
 "metadata": {
  "interpreter": {
   "hash": "ef6cb5c8d99d66a3614f491d51fd40cd94c9138687df3d2045e3a510da5efc66"
  },
  "kernelspec": {
   "display_name": "Python 3.9.12 ('andes')",
   "language": "python",
   "name": "python3"
  },
  "language_info": {
   "codemirror_mode": {
    "name": "ipython",
    "version": 3
   },
   "file_extension": ".py",
   "mimetype": "text/x-python",
   "name": "python",
   "nbconvert_exporter": "python",
   "pygments_lexer": "ipython3",
   "version": "3.9.12"
  },
  "orig_nbformat": 4
 },
 "nbformat": 4,
 "nbformat_minor": 2
}
