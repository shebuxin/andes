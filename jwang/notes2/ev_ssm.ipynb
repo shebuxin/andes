{
 "cells": [
  {
   "cell_type": "markdown",
   "metadata": {},
   "source": [
    "# EV State-Space Model\n",
    "\n",
    "This  notebook is used to reproduce the State Space Model of aggregateed EV for frequency regulation.\n",
    "\n",
    "Running on Jinning's local machine, in the env \"ev\"."
   ]
  },
  {
   "cell_type": "markdown",
   "metadata": {},
   "source": [
    "Working notes:\n",
    "\n",
    "02/06/2022: the EV data generation is completed. It looks weired, we may need update it later on.\n"
   ]
  },
  {
   "cell_type": "markdown",
   "metadata": {},
   "source": [
    "## EV data"
   ]
  },
  {
   "cell_type": "markdown",
   "metadata": {},
   "source": [
    "### Define parameters\n",
    "\n",
    "The EV parameters are defined as two types. Type I follows uniform distribution, which is stored in a Dict `ev_param`. Type II follows normal distribution, which is stored in a pd.DataFrame `ev_pdf`.\n",
    "\n",
    "The data are cited from:\n",
    "\n",
    "M. Wang et al., \"State Space Model of Aggregated Electric Vehicles for Frequency Regulation,\" in IEEE Transactions on Smart Grid, vol. 11, no. 2, pp. 981-994, March 2020, doi: 10.1109/TSG.2019.2929052."
   ]
  },
  {
   "cell_type": "code",
   "execution_count": 1,
   "metadata": {},
   "outputs": [],
   "source": [
    "import itertools\n",
    "import random\n",
    "from tqdm import tqdm\n",
    "import pandas as pd\n",
    "import numpy as np\n",
    "import scipy.stats as stats\n",
    "import matplotlib.pyplot as plt\n",
    "from hmmlearn import hmm\n",
    "\n",
    "import logging\n",
    "logger = logging.getLogger(__name__)\n",
    "\n",
    "\n",
    "def find_x(x, soc_intv):\n",
    "    out = -1\n",
    "    for idx in soc_intv.keys():\n",
    "        if x > soc_intv[idx][0] and x <= soc_intv[idx][1]:\n",
    "            out = idx\n",
    "    return out\n",
    "\n",
    "\n",
    "def update_xl(inl_input):\n",
    "    \"\"\"\n",
    "    Update x series.\n",
    "    columns:\n",
    "    ['socx', 'xl', 'u', 'u0', 'ctrl']\n",
    "      0,   1,    2,    3,     4\n",
    "    \"\"\"\n",
    "    inl = inl_input.copy()\n",
    "    x = inl[0]\n",
    "    dc = inl[1].copy()\n",
    "    u = inl[2]\n",
    "    u0 = inl[3]\n",
    "    state = inl[4]\n",
    "    # --- Continuous online ---\n",
    "    if u*u0 == 1:\n",
    "        if len(dc[0]) == 0:\n",
    "            # print(\"Online: init\")\n",
    "            dc[0] = [state]\n",
    "            dc[1] = [x]\n",
    "        else:\n",
    "            # print(\"Online: not init\")\n",
    "            dc[0].append(state)\n",
    "            dc[1].append(x)\n",
    "    # --- offline -> online ---\n",
    "    elif (1-u0)*u == 1:\n",
    "        if len(dc[0]) == 0:\n",
    "            # print(\"Offline -> online: init\")\n",
    "            dc[0] = [state]\n",
    "            dc[1] = [x]\n",
    "        else:\n",
    "            # print(\"Offline -> online: not init\")\n",
    "            dc[0].append([state])\n",
    "            dc[1].append([x])\n",
    "    return dc\n",
    "\n",
    "\n",
    "def safe_div(x, y):\n",
    "    if y == 0:\n",
    "        return 0\n",
    "    else:\n",
    "        return x/y\n",
    "\n",
    "\n",
    "class ev_ssm():\n",
    "    \"\"\"\n",
    "    EV State Space Model.\n",
    "\n",
    "    EV parameters:\n",
    "    Pc, Pd, nc, nd, En follow uniform distribution.\n",
    "    soci, socd, ts, tf follows normal distribution.\n",
    "\n",
    "    Attributes\n",
    "    ----------\n",
    "    xtab: pandas.DataFrame\n",
    "        EV states table, only online EVs are counted.\n",
    "    ne: int\n",
    "        Number of online EVs\n",
    "    N: int\n",
    "        Number of total EVs\n",
    "    ev: pandas.DataFrame\n",
    "        EV dataset\n",
    "        u: online status\n",
    "        Pc/Pd: charging/discharging power (kW)\n",
    "        nc/nd: charging/discharging efficiency\n",
    "        En: capacity (kWh)\n",
    "        soci/socd: initial/demand SOC (unit: %)\n",
    "        ts/tf: start/finish time (unit: 24H)\n",
    "        socx: SOC interval\n",
    "    tnow: float\n",
    "        current time (unit: 24H)\n",
    "    Ns: int\n",
    "        Number of SoC intervals\n",
    "\n",
    "    Notes\n",
    "    -----\n",
    "    ev_ufparam:\n",
    "        Pl: rated charging/discharging power (kW) lower bound\n",
    "        Pu: rated charging/discharging power (kW) upper bound\n",
    "        nl: charging/discharging efficiency lower bound\n",
    "        nu: charging/discharging efficiency upper bound\n",
    "        Enl: Battery capacity (kWh) lower bound\n",
    "        Enu: Battery capacity (kWh) upper bound\n",
    "        socl: Minimum SoC value\n",
    "        socu: Maximum SoC value\n",
    "    ev_nfparam:\n",
    "        soci: initial SoC\n",
    "        socd: demanded SoC\n",
    "        ts1: start charging time, [24H]\n",
    "        ts2: start charging time, [24H]\n",
    "        tf1: finish charging time, [24H]\n",
    "        tf2: finish charging time, [24H]\n",
    "    \"\"\"\n",
    "\n",
    "    def find_socx(self):\n",
    "        self.ev['socx'] = self.ev['soc'].apply(lambda x: find_x(x, self.soc_intv))\n",
    "\n",
    "    def report(self):\n",
    "        \"\"\"\n",
    "        Report EVA.\n",
    "        \"\"\"\n",
    "        # --- EV summary info ---\n",
    "        self.En = self.ev.En.sum()/1e3\n",
    "        self.wEn = np.sum(self.ev.u * self.ev.En)/1e3\n",
    "        # --- report info ---\n",
    "        msg1 = f\"{self.name}:\\n\"\n",
    "        msg_time = f'tnow={np.round(self.tnow, 4)} [24H]\\n'\n",
    "        msg_ev = f\"{self.N} EVs, {self.ne} online, Total En={self.En.round(2)} MWh, SoC intervals: {len(self.soc_intv)}\\n\"\n",
    "        msg_soc = f\"Online En={self.wEn.round(2)} MWh, mean SoC={100*self.ev.soc.mean().round(2)}%\"\n",
    "        logger.warning(msg1 + msg_time + msg_ev + msg_soc)\n",
    "\n",
    "    def g_tnow(self, tnow):\n",
    "        \"\"\"\n",
    "        Update time and time series.\n",
    "        \"\"\"\n",
    "        self.ts.append(tnow)\n",
    "        tnow = tnow if tnow < 24 else tnow-24\n",
    "        return tnow\n",
    "\n",
    "    def __init__(self, tnow=0, N=20000, seed=None, name=\"EVA\"):\n",
    "        \"\"\"\n",
    "        Parameters\n",
    "        ----------\n",
    "        N: int\n",
    "            Number of EVs\n",
    "        seed: int\n",
    "            Random seed. ``None`` for random.\n",
    "        \"\"\"\n",
    "        # --- 1. init ---\n",
    "        self.name = name\n",
    "        self.N = N\n",
    "        if not seed:\n",
    "            self.seed = seed\n",
    "            np.random.seed(self.seed)\n",
    "        # --- 1a. uniform distribution parameters range ---\n",
    "        self.ev_ufparam = dict(Ns=20,\n",
    "                               Pl=5.0, Pu=7.0,\n",
    "                               nl=0.88, nu=0.95,\n",
    "                               Enl=20.0, Enu=30.0,\n",
    "                               socl=0, socu=1)\n",
    "        #  --- 1b. normal distribution parameters range ---\n",
    "        self.ev_pdf_name = ['soci', 'socd', 'ts1', 'ts2', 'tf1', 'tf2']\n",
    "        self.ev_pdf_data = {'mean':     [0.3,    0.8,    -6.5,   17.5,   8.9,    32.9],\n",
    "                            'var':      [0.05, 0.03, 3.4, 3.4, 3.4, 3.4],\n",
    "                            'lb':       [0.2, 0.7, 0.0, 5.5, 0.0, 20.9],\n",
    "                            'ub':       [0.4, 0.9, 5.5, 24.0, 20.9, 24.0],\n",
    "                            'info':  ['initial SoC', 'demanded SoC',\n",
    "                                      'start charging time 1', 'start charging time 2',\n",
    "                                      'finish charging time 1', 'finish charging time 2']}\n",
    "        self.tnow = tnow\n",
    "        self.ts = [tnow]\n",
    "        self.build(tnow=tnow)\n",
    "        self.report()\n",
    "\n",
    "        # --- SSM ---\n",
    "        # --- input: AGC signal ---\n",
    "\n",
    "        # --- output: estimated FRC ---\n",
    "        self.prumax = 0\n",
    "        self.prdmax = 0\n",
    "\n",
    "    def build(self, tnow):\n",
    "        \"\"\"\n",
    "        Build the ev DataFrame.\n",
    "\n",
    "        Returns\n",
    "        -------\n",
    "        ev: pandas.DataFrame\n",
    "            EV dataset\n",
    "        \"\"\"\n",
    "        self.socl = self.ev_ufparam['socl']\n",
    "        self.socu = self.ev_ufparam['socu']\n",
    "\n",
    "        #  --- 1a. uniform distribution parameters range ---\n",
    "        unit = self.ev_ufparam['socu']/self.ev_ufparam['Ns']\n",
    "        self.soc_intv = {}\n",
    "        decimal = 4\n",
    "        for i in range(self.ev_ufparam['Ns']):\n",
    "            intv_single = [np.around(i*unit, decimal), np.around((i+1)*unit, decimal)]\n",
    "            self.soc_intv[i] = intv_single\n",
    "        self.Ns = self.ev_ufparam['Ns']\n",
    "        ev_pdf = pd.DataFrame(data=self.ev_pdf_data, index=self.ev_pdf_name).transpose()\n",
    "        self.ev_nfparam = ev_pdf.to_dict()\n",
    "\n",
    "        # --- 1c. generate EV dataset ---\n",
    "        self.ev = pd.DataFrame()\n",
    "\n",
    "        #  data from uniform distribution\n",
    "        cols = ['Pc', 'Pd', 'nc', 'nd', 'En']\n",
    "        cols_bound = {'Pc':   ['Pl', 'Pu'],\n",
    "                      'Pd':   ['Pl', 'Pu'],\n",
    "                      'nc':   ['nl', 'nu'],\n",
    "                      'nd':   ['nl', 'nu'],\n",
    "                      'En':    ['Enl', 'Enu']}\n",
    "        for col in cols:\n",
    "            idxl = cols_bound[col][0]\n",
    "            idxh = cols_bound[col][1]\n",
    "            self.ev[col] = np.random.uniform(\n",
    "                low=self.ev_ufparam[idxl],\n",
    "                high=self.ev_ufparam[idxh],\n",
    "                size=self.N)\n",
    "\n",
    "        #  data from normal distribution\n",
    "        # soci, socd\n",
    "        for col in self.ev_pdf_name:\n",
    "            self.ev[col] = stats.truncnorm(\n",
    "                (ev_pdf[col]['lb'] - ev_pdf[col]['mean']) / ev_pdf[col]['var'],\n",
    "                (ev_pdf[col]['ub'] - ev_pdf[col]['mean']) / ev_pdf[col]['var'],\n",
    "                loc=ev_pdf[col]['mean'], scale=ev_pdf[col]['var']).rvs(self.N)\n",
    "\n",
    "        # ts1, ts2, tf1, tf2\n",
    "        et = self.ev.copy()\n",
    "        r1 = 0.5  # ratio of t1\n",
    "        tp1 = self.ev[['ts1', 'tf1']].sample(n=int(et.shape[0]*r1), random_state=2021)\n",
    "        tp2 = self.ev[['ts2', 'tf2']].sample(n=int(et.shape[0]*(1-r1)), random_state=2021)\n",
    "        tp = pd.concat([tp1, tp2], axis=0).reset_index(drop=True).fillna(0)\n",
    "        tp['ts'] = tp['ts1'] + tp['ts2']\n",
    "        tp['tf'] = tp['tf1'] + tp['tf2']\n",
    "        check = tp.ts > tp.tf\n",
    "        row_idx = tp[check].index\n",
    "        mid = tp.tf.iloc[row_idx].values\n",
    "        tp.tf.iloc[row_idx] = tp.ts.iloc[row_idx]\n",
    "        tp.ts.iloc[row_idx] = mid\n",
    "        check = tp.ts > tp.tf\n",
    "        self.ev['ts'] = tp['ts']\n",
    "        self.ev['tf'] = tp['tf']\n",
    "        self.ev['u'] = 1\n",
    "\n",
    "        # Initialize delta power\n",
    "        self.ev['dP'] = 0\n",
    "\n",
    "        self.states = list(itertools.product([1, 0, -1], self.soc_intv.keys()))\n",
    "        self.states_str = [str(s[1])+'S'+str(s[0]) for s in self.states]\n",
    "\n",
    "        # --- update soc interval and online status ---\n",
    "        # --- ev online status: u0 as u ---\n",
    "        self.ev['u0'] = 0\n",
    "        self.g_u()\n",
    "        self.ev['u0'] = self.ev.u\n",
    "\n",
    "        # soc is initialzied considering random behavior\n",
    "        self.ev['soc'] = self.ev[['soci', 'ts', 'Pc', 'nc', 'En', 'tf']].apply(\n",
    "            lambda x: x[0] + (min(tnow-x[1], x[5]-x[1]))*x[2]*x[3]/x[4] if tnow > x[1] else x[0], axis=1)\n",
    "        self.ev['soc'] = self.ev['soc'].apply(lambda x: min(x, self.socu))\n",
    "\n",
    "        # Initiallize control signal\n",
    "        self.ev['ctrl'] = self.ev['u']  # initially use cahrging signal\n",
    "        self.g_ctrl(is_charge=False)\n",
    "\n",
    "        self.find_socx()\n",
    "        self.g_x()\n",
    "\n",
    "        ev_cols = ['u', 'u0', 'Pc', 'Pd', 'nc', 'nd', 'En', 'soc',\n",
    "                   'soci', 'socd', 'socx', 'ts', 'tf', 'ctrl', 'dP']\n",
    "        self.ev = self.ev[ev_cols]\n",
    "\n",
    "        # initialize x series\n",
    "        self.ev['xl'] = [[[], []]] * self.N\n",
    "        self.ne = self.ev.u.sum()\n",
    "\n",
    "        self.ssm_basic()\n",
    "        return True\n",
    "\n",
    "    def g_u(self):\n",
    "        \"\"\"\n",
    "        Update online status of EV at given time.\n",
    "        \"\"\"\n",
    "        self.ev['u0'] = self.ev.u.astype(int)\n",
    "        self.ev['u'] = (self.ev.ts <= self.tnow) & (self.ev.tf >= self.tnow)\n",
    "        self.ev['u'] = self.ev['u'].astype(int)\n",
    "        self.ne = self.ev.u.sum()\n",
    "        return True\n",
    "\n",
    "    def g_x(self):\n",
    "        \"\"\"\n",
    "        Update EV x and SSM x.\n",
    "        \"\"\"\n",
    "        # --- find single EV socx ---\n",
    "        self.ev['socx'] = self.ev['soc'].apply(lambda x: find_x(x, self.soc_intv))\n",
    "\n",
    "        # --- find SSM X ---\n",
    "        states = self.ev[['ctrl', 'socx', 'u']].apply(lambda x: (x[0], x[1]) if x[2] else (-1, -1), axis=1)\n",
    "        res = dict(states.value_counts())\n",
    "        self.xtab = pd.DataFrame(columns=range(20), index=[1, 0, -1], data=0)\n",
    "        for key in res.keys():\n",
    "            if key[1] > -1:\n",
    "                self.xtab.loc[key[0], key[1]] = res[key]\n",
    "        self.xtab.fillna(0, inplace=True)\n",
    "        return True\n",
    "\n",
    "    def ssm_basic(self):\n",
    "        \"\"\"\n",
    "        Build SSM B, C, D matrix.\n",
    "        \"\"\"\n",
    "        B1 = -1 * np.eye(self.Ns)\n",
    "        B2 = np.eye(self.Ns)\n",
    "        B3 = np.zeros((self.Ns, self.Ns))\n",
    "        self.B = np.vstack((B1, B2, B3))\n",
    "\n",
    "        C1 = np.zeros((self.Ns, self.Ns))\n",
    "        C2 = -1 * np.eye(self.Ns)\n",
    "        C3 = np.eye(self.Ns)\n",
    "        self.C = np.vstack((C1, C2, C3))\n",
    "\n",
    "        # P average\n",
    "        kde = stats.gaussian_kde(self.ev.Pc)\n",
    "        Pave = 0  # TODO: consider Pave as an attribute\n",
    "        step = 0.01\n",
    "        for Pl in np.arange(self.ev.Pc.min(), self.ev.Pc.max(), step):\n",
    "            Pave += (kde.integrate_box(Pl, Pl+step)) * (Pl + 0.05 * step)\n",
    "\n",
    "        D1 = -1 * np.ones((1, self.Ns))\n",
    "        D2 = np.zeros((1, self.Ns))\n",
    "        D3 = np.ones((1, self.Ns))\n",
    "        # TODO: should use online numbers?\n",
    "        self.D = Pave * self.N * np.hstack((D1, D2, D3))\n",
    "\n",
    "    def g_A(self):\n",
    "        \"\"\"\n",
    "        Build A matrix.\n",
    "        \"\"\"\n",
    "        # TODO: put the code here, consider the time interval of A\n",
    "\n",
    "    def run(self, t_step=20, t_end=10, is_charge=False, is_record=True):\n",
    "        \"\"\"\n",
    "        Response of the EV_SSM to the control signal.\n",
    "\n",
    "        Parameters\n",
    "        ----------\n",
    "        t_step: int\n",
    "            Action time (second).\n",
    "        tnow: int\n",
    "            current time (hour with decimals).\n",
    "        \"\"\"\n",
    "        t_step = t_step / 3600\n",
    "        if t_end - self.tnow < 1e-6:\n",
    "            logger.warning(f\"{self.name}: t_end={t_end} is too close to tnow={self.tnow}\")\n",
    "        else:\n",
    "            for t in tqdm(np.arange(self.tnow, t_end, t_step), desc=self.name):\n",
    "                self.tnow = self.g_tnow(t)\n",
    "                self.g_u()  # update online status\n",
    "                self.g_ctrl(is_charge=is_charge)  # update control signal\n",
    "\n",
    "                # --- update soc interval and online status ---\n",
    "                # charging/discharging power, kW\n",
    "                self.ev['dP'] = self.ev[['Pc', 'Pd', 'nc', 'nd', 'ctrl', 'u']].apply(\n",
    "                    lambda x: x[0]*x[2]*x[5] if x[4] >= 0 else -1*x[1]*x[3]*x[5], axis=1)\n",
    "                # --- update an revise SoC ---\n",
    "                self.ev['soc'] = self.ev.soc + t_step * self.ev['dP'] / self.ev['En']\n",
    "                self.ev['soc'] = self.ev['soc'].apply(lambda x: x if x < self.socu else self.socu)\n",
    "                self.ev['soc'] = self.ev['soc'].apply(lambda x: x if x > self.socl else self.socl)\n",
    "\n",
    "                # update x\n",
    "                self.find_socx()\n",
    "                self.g_x()\n",
    "\n",
    "                if is_record:\n",
    "                    self.g_xl()\n",
    "\n",
    "    def g_A(self):\n",
    "        \"\"\"\n",
    "        Build A matrix after run().\n",
    "        \"\"\"\n",
    "        # --- gather results ---\n",
    "        seq = []\n",
    "        states = []\n",
    "        for item in sse.ev.xl.tolist():\n",
    "            if len (item[0]) > 0:\n",
    "                seq.append(item[1])\n",
    "                states.append(item[0])\n",
    "\n",
    "        # --- build A with HMM ---\n",
    "        hmdl = hmm.MultinomialHMM(n_components=3)\n",
    "        X = np.concatenate(seq).reshape(-1, 1)\n",
    "        length = [len(item) for item in seq]\n",
    "        hmdl.fit(X, length)\n",
    "        self.Tm = hmdl.transmat_\n",
    "        self.Em = hmdl.emissionprob_\n",
    "\n",
    "        # --- build A with frequency ---\n",
    "        Ef = np.zeros((3, sse.Ns))\n",
    "        for t, s in zip(states, seq):\n",
    "            for i in range(len(t)):\n",
    "                Ef[t[i], s[i]] += 1\n",
    "        rf = Ef.sum(axis=1)\n",
    "        self.Ef = Ef / rf[:, None]\n",
    "\n",
    "        Tf = np.zeros((3, 3))\n",
    "        for state in states:\n",
    "            for i in range(len(state)-1):\n",
    "                Tf[state[i+1]][state[i]] += 1\n",
    "        ra = Tf.sum(axis=1)\n",
    "        self.Tf = Tf / ra[:,None]\n",
    "\n",
    "    def g_xl(self):\n",
    "        \"\"\"\n",
    "        Update EV x series.\n",
    "        \"\"\"\n",
    "        self.ev['xl'] = self.ev[['socx', 'xl', 'u', 'u0', 'ctrl']].apply(update_xl, axis=1)\n",
    "\n",
    "    def g_ctrl(self, is_charge=False):\n",
    "        \"\"\"\n",
    "        Generate the charging signal.\n",
    "        \"\"\"\n",
    "        # --- default signal is charging for all ---\n",
    "        # TODO: replace with SSM later on\n",
    "        # --- charging signal ---\n",
    "        self.ev['ctrl'] = self.ev.u  # charge all online cars\n",
    "        if is_charge:\n",
    "            # charged to demanded soc EVs set as idle state\n",
    "            self.ev['ctrl'] = self.ev[['soc', 'ctrl', 'socd']].apply(\n",
    "                lambda x: 0 if x[0] >= x[2] else x[1], axis=1)\n",
    "        else:\n",
    "            # already max(0.95, socd) EVs are randomly discharging\n",
    "            self.ev['ctrl'] = self.ev[['ctrl', 'u', 'soc', 'socd']].apply(\n",
    "                lambda x: np.random.choice([0, -1], p=[0.9, 0.1]) if x[1]*(x[2] > max(x[3], 0.95)) else x[0], axis=1)\n",
    "        # --- revise control ---\n",
    "        # low charged EVs are FORCED charging\n",
    "        self.ev['ctrl'] = self.ev[['soc', 'ctrl']].apply(\n",
    "            lambda x: 1 if x[0] <= 0.1 else x[1], axis=1)\n",
    "        # offline EVs set as idle state\n",
    "        self.ev['ctrl'] = self.ev[['ctrl', 'u']].apply(\n",
    "            lambda x: x[0]*x[1], axis=1)\n",
    "        # format\n",
    "        self.ev['ctrl'] = self.ev['ctrl'].astype(int)\n",
    "    \n",
    "    def g_res(self, states_p, mode='hmm'):\n",
    "        \"\"\"\n",
    "        Generate the response of the EV_SSM to the control signal.\n",
    "\n",
    "        Parameters\n",
    "        ----------\n",
    "        states_p: list\n",
    "            [CS, DS, IS], proportion of states of the initial time step.\n",
    "        mode: str\n",
    "            'hmm' stand for Hidden Markov Model, 'freq' stand for frequency estimation.\n",
    "        \"\"\"\n",
    "        # --- charging ---\n",
    "        res = pd.DataFrame(columns=range(20), index=[1, 0, -1])\n",
    "        res.loc[1] = [sp[0] * sse.Em[0, socx] for socx in range(20)]\n",
    "        res.loc[0] = [sp[1] * sse.Em[1, socx] for socx in range(20)]\n",
    "        res.loc[-1] = [sp[2] * sse.Em[2, socx] for socx in range(20)]\n",
    "\n",
    "# initialize\n",
    "# sse = ev_ssm(N=50000, tnow=10, name='SSE1')\n",
    "# sse.ev[['u', 'u0', 'ctrl', 'xl']]\n",
    "# sse.run(t_step=20, t_end=10.01, is_charge=False, is_record=True)\n",
    "# sse.ev = sse.ev[0:100]\n",
    "# sse.g_xl()\n"
   ]
  },
  {
   "cell_type": "markdown",
   "metadata": {},
   "source": [
    "Run the ev model to get data"
   ]
  },
  {
   "cell_type": "code",
   "execution_count": 2,
   "metadata": {},
   "outputs": [
    {
     "name": "stderr",
     "output_type": "stream",
     "text": [
      "SSE1:\n",
      "tnow=10 [24H]\n",
      "10000 EVs, 1927 online, Total En=250.23 MWh, SoC intervals: 20\n",
      "Online En=48.26 MWh, mean SoC=63.0%\n",
      "SSE1: 100%|██████████| 18/18 [00:07<00:00,  2.30it/s]\n"
     ]
    }
   ],
   "source": [
    "t_end = 10.1\n",
    "\n",
    "sse = ev_ssm(N=10000, tnow=10, name='SSE1')\n",
    "\n",
    "sse.run(t_step=20, t_end=t_end, is_charge=False, is_record=True)"
   ]
  },
  {
   "cell_type": "code",
   "execution_count": 3,
   "metadata": {},
   "outputs": [],
   "source": [
    "sse.g_A()"
   ]
  },
  {
   "cell_type": "code",
   "execution_count": 4,
   "metadata": {},
   "outputs": [
    {
     "data": {
      "text/plain": [
       "array([[0.60345038, 0.15908901, 0.23746062],\n",
       "       [0.05009646, 0.36442857, 0.58547497],\n",
       "       [0.04327584, 0.33727159, 0.61945257]])"
      ]
     },
     "execution_count": 4,
     "metadata": {},
     "output_type": "execute_result"
    }
   ],
   "source": [
    "sse.Tm"
   ]
  },
  {
   "cell_type": "code",
   "execution_count": 5,
   "metadata": {},
   "outputs": [
    {
     "data": {
      "text/plain": [
       "array([[0.89898307, 0.        , 0.10101693],\n",
       "       [0.        , 1.        , 0.        ],\n",
       "       [0.8989547 , 0.        , 0.1010453 ]])"
      ]
     },
     "execution_count": 5,
     "metadata": {},
     "output_type": "execute_result"
    }
   ],
   "source": [
    "sse.Tf"
   ]
  },
  {
   "cell_type": "code",
   "execution_count": null,
   "metadata": {},
   "outputs": [],
   "source": [
    "sse.xtab"
   ]
  },
  {
   "cell_type": "code",
   "execution_count": 9,
   "metadata": {},
   "outputs": [
    {
     "ename": "IndexError",
     "evalue": "invalid index to scalar variable.",
     "output_type": "error",
     "traceback": [
      "\u001b[0;31m---------------------------------------------------------------------------\u001b[0m",
      "\u001b[0;31mIndexError\u001b[0m                                Traceback (most recent call last)",
      "\u001b[1;32m/Users/jinningwang/Documents/work/andes/jwang/notes2/ev_ssm.ipynb Cell 12'\u001b[0m in \u001b[0;36m<cell line: 1>\u001b[0;34m()\u001b[0m\n\u001b[0;32m----> <a href='vscode-notebook-cell:/Users/jinningwang/Documents/work/andes/jwang/notes2/ev_ssm.ipynb#ch0000043?line=0'>1</a>\u001b[0m sse\u001b[39m.\u001b[39mxtab\u001b[39m.\u001b[39msum(axis\u001b[39m=\u001b[39m\u001b[39m1\u001b[39m)\u001b[39m/\u001b[39msse\u001b[39m.\u001b[39;49mxtab\u001b[39m.\u001b[39;49msum()\u001b[39m.\u001b[39;49msum() [\u001b[39m0\u001b[39;49m]\n",
      "\u001b[0;31mIndexError\u001b[0m: invalid index to scalar variable."
     ]
    }
   ],
   "source": [
    "sse.xtab.sum(axis=1)/sse.xtab.sum().sum() [0]"
   ]
  },
  {
   "cell_type": "code",
   "execution_count": 14,
   "metadata": {},
   "outputs": [
    {
     "data": {
      "text/plain": [
       "0.674391602908416"
      ]
     },
     "execution_count": 14,
     "metadata": {},
     "output_type": "execute_result"
    }
   ],
   "source": [
    "sse.Em[0, 19]"
   ]
  },
  {
   "cell_type": "code",
   "execution_count": 18,
   "metadata": {},
   "outputs": [
    {
     "data": {
      "text/plain": [
       " 1    0.037606\n",
       " 0    0.861758\n",
       "-1    0.100636\n",
       "dtype: float64"
      ]
     },
     "execution_count": 18,
     "metadata": {},
     "output_type": "execute_result"
    }
   ],
   "source": [
    "sp"
   ]
  },
  {
   "cell_type": "code",
   "execution_count": 26,
   "metadata": {},
   "outputs": [
    {
     "data": {
      "text/plain": [
       " 1    0.037606\n",
       " 0    0.861758\n",
       "-1    0.100636\n",
       "dtype: float64"
      ]
     },
     "execution_count": 26,
     "metadata": {},
     "output_type": "execute_result"
    }
   ],
   "source": [
    "sp"
   ]
  },
  {
   "cell_type": "code",
   "execution_count": 28,
   "metadata": {},
   "outputs": [
    {
     "data": {
      "text/plain": [
       "0.03760593220338983"
      ]
     },
     "execution_count": 28,
     "metadata": {},
     "output_type": "execute_result"
    }
   ],
   "source": [
    "[sum(sp[0]*sse.Tm[0, 0] + sp[1]*sse.Tm[0, 1] + sp[2]*sse.Tm[0, 2]) * sse.Em[0, socx] for socx in range(20)]"
   ]
  },
  {
   "cell_type": "code",
   "execution_count": 33,
   "metadata": {},
   "outputs": [
    {
     "data": {
      "text/plain": [
       "0.5260111655579601"
      ]
     },
     "execution_count": 33,
     "metadata": {},
     "output_type": "execute_result"
    }
   ],
   "source": [
    "x = [sum([sp[i]*sse.Tm[0, i] for i in range(2)]) * sse.Em[0, socx] for socx in range(20)]\n",
    "sum(x)"
   ]
  },
  {
   "cell_type": "code",
   "execution_count": 38,
   "metadata": {},
   "outputs": [
    {
     "data": {
      "text/plain": [
       "array([[0.   , 0.   , 0.   , 0.   , 0.   , 0.009, 0.038, 0.05 , 0.058,\n",
       "        0.017, 0.025, 0.027, 0.028, 0.028, 0.015, 0.002, 0.01 , 0.015,\n",
       "        0.005, 0.674],\n",
       "       [0.   , 0.   , 0.   , 0.   , 0.   , 0.   , 0.001, 0.   , 0.   ,\n",
       "        0.   , 0.   , 0.   , 0.   , 0.   , 0.   , 0.   , 0.   , 0.   ,\n",
       "        0.   , 0.999],\n",
       "       [0.   , 0.   , 0.   , 0.   , 0.   , 0.   , 0.001, 0.   , 0.   ,\n",
       "        0.   , 0.   , 0.   , 0.   , 0.   , 0.   , 0.   , 0.   , 0.   ,\n",
       "        0.   , 0.999]])"
      ]
     },
     "execution_count": 38,
     "metadata": {},
     "output_type": "execute_result"
    }
   ],
   "source": [
    "sse.Em.round(3)"
   ]
  },
  {
   "cell_type": "code",
   "execution_count": 36,
   "metadata": {},
   "outputs": [
    {
     "data": {
      "text/plain": [
       "0.6328636254192996"
      ]
     },
     "execution_count": 36,
     "metadata": {},
     "output_type": "execute_result"
    }
   ],
   "source": [
    "# state percentage\n",
    "sp = sse.xtab.sum(axis=1)/sse.xtab.sum().sum()\n",
    "\n",
    "out = pd.DataFrame(columns=range(20), index=[1, 0, -1])\n",
    "out.loc[1] = [sum([sp[i]*sse.Tm[0, i] for i in range(2)]) * sse.Em[0, socx] for socx in range(20)]\n",
    "out.loc[0] = [sum([sp[i]*sse.Tm[1, i] for i in range(2)]) * sse.Em[1, socx] for socx in range(20)]\n",
    "out.loc[-1] = [sum([sp[i]*sse.Tm[2, i] for i in range(2)]) * sse.Em[2, socx] for socx in range(20)]\n",
    "\n",
    "out.round(3).sum().sum()"
   ]
  },
  {
   "cell_type": "code",
   "execution_count": 30,
   "metadata": {},
   "outputs": [
    {
     "data": {
      "text/plain": [
       "0.9999999999999999"
      ]
     },
     "execution_count": 30,
     "metadata": {},
     "output_type": "execute_result"
    }
   ],
   "source": [
    "# state percentage\n",
    "sp = sse.xtab.sum(axis=1)/sse.xtab.sum().sum()\n",
    "\n",
    "out = pd.DataFrame(columns=range(20), index=[1, 0, -1])\n",
    "out.loc[1] = [sp[1] * sse.Em[0, socx] for socx in range(20)]\n",
    "out.loc[0] = [sp[0] * sse.Em[1, socx] for socx in range(20)]\n",
    "out.loc[-1] = [sp[-1] * sse.Em[2, socx] for socx in range(20)]\n",
    "\n",
    "out.round(3).sum().sum()"
   ]
  },
  {
   "cell_type": "code",
   "execution_count": 35,
   "metadata": {},
   "outputs": [
    {
     "data": {
      "text/plain": [
       " 1    0.037606\n",
       " 0    0.861758\n",
       "-1    0.100636\n",
       "dtype: float64"
      ]
     },
     "execution_count": 35,
     "metadata": {},
     "output_type": "execute_result"
    }
   ],
   "source": [
    "out.sum(axis=1)"
   ]
  },
  {
   "cell_type": "code",
   "execution_count": 23,
   "metadata": {},
   "outputs": [
    {
     "data": {
      "text/html": [
       "<div>\n",
       "<style scoped>\n",
       "    .dataframe tbody tr th:only-of-type {\n",
       "        vertical-align: middle;\n",
       "    }\n",
       "\n",
       "    .dataframe tbody tr th {\n",
       "        vertical-align: top;\n",
       "    }\n",
       "\n",
       "    .dataframe thead th {\n",
       "        text-align: right;\n",
       "    }\n",
       "</style>\n",
       "<table border=\"1\" class=\"dataframe\">\n",
       "  <thead>\n",
       "    <tr style=\"text-align: right;\">\n",
       "      <th></th>\n",
       "      <th>0</th>\n",
       "      <th>1</th>\n",
       "      <th>2</th>\n",
       "      <th>3</th>\n",
       "      <th>4</th>\n",
       "      <th>5</th>\n",
       "      <th>6</th>\n",
       "      <th>7</th>\n",
       "      <th>8</th>\n",
       "      <th>9</th>\n",
       "      <th>10</th>\n",
       "      <th>11</th>\n",
       "      <th>12</th>\n",
       "      <th>13</th>\n",
       "      <th>14</th>\n",
       "      <th>15</th>\n",
       "      <th>16</th>\n",
       "      <th>17</th>\n",
       "      <th>18</th>\n",
       "      <th>19</th>\n",
       "    </tr>\n",
       "  </thead>\n",
       "  <tbody>\n",
       "    <tr>\n",
       "      <th>1</th>\n",
       "      <td>0.0</td>\n",
       "      <td>0.0</td>\n",
       "      <td>0.0</td>\n",
       "      <td>0.0</td>\n",
       "      <td>0.0</td>\n",
       "      <td>0.0</td>\n",
       "      <td>0.001</td>\n",
       "      <td>0.002</td>\n",
       "      <td>0.002</td>\n",
       "      <td>0.001</td>\n",
       "      <td>0.001</td>\n",
       "      <td>0.001</td>\n",
       "      <td>0.001</td>\n",
       "      <td>0.001</td>\n",
       "      <td>0.001</td>\n",
       "      <td>0.0</td>\n",
       "      <td>0.0</td>\n",
       "      <td>0.001</td>\n",
       "      <td>0.0</td>\n",
       "      <td>0.025</td>\n",
       "    </tr>\n",
       "    <tr>\n",
       "      <th>2</th>\n",
       "      <td>0.0</td>\n",
       "      <td>0.0</td>\n",
       "      <td>0.0</td>\n",
       "      <td>0.0</td>\n",
       "      <td>0.0</td>\n",
       "      <td>0.0</td>\n",
       "      <td>0.001</td>\n",
       "      <td>0.000</td>\n",
       "      <td>0.000</td>\n",
       "      <td>0.000</td>\n",
       "      <td>0.000</td>\n",
       "      <td>0.000</td>\n",
       "      <td>0.000</td>\n",
       "      <td>0.000</td>\n",
       "      <td>0.000</td>\n",
       "      <td>0.0</td>\n",
       "      <td>0.0</td>\n",
       "      <td>0.000</td>\n",
       "      <td>0.0</td>\n",
       "      <td>0.861</td>\n",
       "    </tr>\n",
       "    <tr>\n",
       "      <th>3</th>\n",
       "      <td>0.0</td>\n",
       "      <td>0.0</td>\n",
       "      <td>0.0</td>\n",
       "      <td>0.0</td>\n",
       "      <td>0.0</td>\n",
       "      <td>0.0</td>\n",
       "      <td>0.000</td>\n",
       "      <td>0.000</td>\n",
       "      <td>0.000</td>\n",
       "      <td>0.000</td>\n",
       "      <td>0.000</td>\n",
       "      <td>0.000</td>\n",
       "      <td>0.000</td>\n",
       "      <td>0.000</td>\n",
       "      <td>0.000</td>\n",
       "      <td>0.0</td>\n",
       "      <td>0.0</td>\n",
       "      <td>0.000</td>\n",
       "      <td>0.0</td>\n",
       "      <td>0.101</td>\n",
       "    </tr>\n",
       "  </tbody>\n",
       "</table>\n",
       "</div>"
      ],
      "text/plain": [
       "    0    1    2    3    4    5      6      7      8      9      10     11  \\\n",
       "1  0.0  0.0  0.0  0.0  0.0  0.0  0.001  0.002  0.002  0.001  0.001  0.001   \n",
       "2  0.0  0.0  0.0  0.0  0.0  0.0  0.001  0.000  0.000  0.000  0.000  0.000   \n",
       "3  0.0  0.0  0.0  0.0  0.0  0.0  0.000  0.000  0.000  0.000  0.000  0.000   \n",
       "\n",
       "      12     13     14   15   16     17   18     19  \n",
       "1  0.001  0.001  0.001  0.0  0.0  0.001  0.0  0.025  \n",
       "2  0.000  0.000  0.000  0.0  0.0  0.000  0.0  0.861  \n",
       "3  0.000  0.000  0.000  0.0  0.0  0.000  0.0  0.101  "
      ]
     },
     "execution_count": 23,
     "metadata": {},
     "output_type": "execute_result"
    }
   ],
   "source": [
    "out.round(3)"
   ]
  },
  {
   "cell_type": "code",
   "execution_count": null,
   "metadata": {},
   "outputs": [],
   "source": [
    "sse.ne"
   ]
  },
  {
   "cell_type": "code",
   "execution_count": null,
   "metadata": {},
   "outputs": [],
   "source": []
  },
  {
   "cell_type": "markdown",
   "metadata": {},
   "source": [
    "Calculate Mat. A, with interval 20s. from 10 to 11."
   ]
  },
  {
   "cell_type": "code",
   "execution_count": null,
   "metadata": {},
   "outputs": [],
   "source": [
    "sse.x"
   ]
  },
  {
   "cell_type": "code",
   "execution_count": null,
   "metadata": {},
   "outputs": [],
   "source": [
    "# xres = pd.DataFrame()\n",
    "\n",
    "# # calc to 10.1\n",
    "# ss1 = ev_ssm(N=50000, tnow=10, name='ss1, calc')\n",
    "\n",
    "# ss1.ev['soci'] = np.random.uniform(\n",
    "#     low=0.0001,\n",
    "#     high=0.9999,\n",
    "#     size=sse.N)\n",
    "# ss1.ev['socd'] = np.random.uniform(\n",
    "#     low=0.0001,\n",
    "#     high=0.9999,\n",
    "#     size=sse.N)\n",
    "\n",
    "# x1 = list(ss1.x.values())\n",
    "# x1 = np.array(x1)\n",
    "# for i in range(int(0.01*3600/20)):\n",
    "#     x1 = np.matmul(A, x1)\n",
    "# xres['calc0'] = list(ss1.x.values())\n",
    "# xres['calc'] = x1\n",
    "\n",
    "# # run to 10.1\n",
    "# ss2 =  ev_ssm(N=50000, tnow=10, name='ss2, run')\n",
    "# ss2.ev['soci'] = np.random.uniform(\n",
    "#     low=0.0001,\n",
    "#     high=0.9999,\n",
    "#     size=sse.N)\n",
    "# ss2.ev['socd'] = np.random.uniform(\n",
    "#     low=0.0001,\n",
    "#     high=0.9999,\n",
    "#     size=sse.N)\n",
    "\n",
    "# xres['run0'] = list(ss2.x.values())\n",
    "# ss2.run(t_step=20, t_end=10.01, is_charge=True, is_record=False)\n",
    "# xres['run'] = list(ss2.x.values())\n",
    "\n",
    "# xres.round(4)"
   ]
  },
  {
   "cell_type": "code",
   "execution_count": null,
   "metadata": {},
   "outputs": [],
   "source": [
    "# np.matmul(A.loc[39, :].values, list(ss1.x.values()))"
   ]
  },
  {
   "cell_type": "code",
   "execution_count": null,
   "metadata": {},
   "outputs": [],
   "source": [
    "# ma = np.array([[0.2, 0.3], [0.8, 0.7]])\n",
    "# mx = np.array([[50], [50]])\n",
    "# mx1 = mx\n",
    "# for i in range(100):\n",
    "#     mx1 = np.matmul(ma, mx1)\n",
    "# mx1"
   ]
  },
  {
   "cell_type": "code",
   "execution_count": null,
   "metadata": {},
   "outputs": [],
   "source": [
    "# --- plot online EV numbers ---\n",
    "time = np.arange(0, 24, 0.1)\n",
    "num = []\n",
    "for t in time:\n",
    "    sse.g_u(t)\n",
    "    num.append(sse.ne)\n",
    "\n",
    "fig, ax = plt.subplots()\n",
    "ax.plot(time, num)\n",
    "ax.set_title('Number of online EVs')\n",
    "ax.set_xlabel('Time [h]')\n",
    "ax.legend(['Online EV', 'Online capacity'])\n",
    "ax.set_xlim(0, 24)"
   ]
  },
  {
   "cell_type": "code",
   "execution_count": null,
   "metadata": {},
   "outputs": [],
   "source": [
    "# # --- plot online EV numbers ---\n",
    "# # time = np.arange(0, 24, 0.1)\n",
    "# # num = []\n",
    "# # for t in time:\n",
    "# #     sse.g_u(t)\n",
    "# #     num.append(sse.ne)\n",
    "\n",
    "# # fig, ax = plt.subplots()\n",
    "# # ax.plot(time, num)\n",
    "# # ax.set_title('Number of online EVs')\n",
    "# # ax.set_xlabel('Time [h]')\n",
    "# # ax.legend(['Online EV', 'Online capacity'])\n",
    "# # ax.set_xlim(0, 24)\n",
    "\n",
    "# # update g_x()\n",
    "\n",
    "# # # reset sse\n",
    "# # sse.reset(tnow=10)\n",
    "# # sse.ev\n",
    "\n",
    "# # --- Analytical method ---\n",
    "# data = sse.ev.copy()\n",
    "# data['dsc'] = data.Pc * data.nc / data.En / 6\n",
    "# data['dsd'] = data.Pc * data.nc / data.En / 1\n",
    "# data[['dsc', 'dsd']].plot(kind='kde')\n",
    "\n",
    "# kde = stats.gaussian_kde(data.dsc)\n",
    "# for i in range(-1,18,1):\n",
    "#     lb = 0.05+0.05*i\n",
    "#     ub = 0.1+0.05*i\n",
    "#     ires = kde.integrate_box(lb, ub)\n",
    "#     # print(np.round(ires, 4))"
   ]
  },
  {
   "cell_type": "code",
   "execution_count": null,
   "metadata": {},
   "outputs": [],
   "source": [
    "# xdf = pd.DataFrame(xres)\n",
    "# from hmmlearn import hmm\n",
    "# gen_model = hmm.GaussianHMM(n_components=60, covariance_type=\"full\")\n",
    "\n",
    "\n",
    "# sse.reset(tnow=0)\n",
    "# xres = []\n",
    "# xres.append(sse.x.values())\n",
    "# for t in np.arange(0, 24, 300/3600):\n",
    "#     sse.act(t=300, tnow=t)\n",
    "#     xres.append(sse.x.values())\n",
    "# xdf = pd.DataFrame(xres)\n",
    "\n",
    "\n",
    "# gen_model.fit(pd.concat([xdf]*100).reset_index(drop=True))\n",
    "# gen_model.predict_proba(xdf.iloc[2].values.reshape(1, -1))"
   ]
  },
  {
   "cell_type": "markdown",
   "metadata": {},
   "source": [
    "## SSM Matrix"
   ]
  },
  {
   "cell_type": "code",
   "execution_count": null,
   "metadata": {},
   "outputs": [],
   "source": [
    "# get the x res by iterate EV from t=0 to t=14.01\n",
    "# sse.reset(tnow=0)\n",
    "# x_res = []\n",
    "# for i, t in enumerate(np.arange(0, 14.01, 1/12)):\n",
    "#     sse.act(t=300, tnow=t)\n",
    "#     x_res.append(sse.x.tolist())\n",
    "\n",
    "# pd.DataFrame(x_res).plot(legend=True)"
   ]
  },
  {
   "cell_type": "markdown",
   "metadata": {},
   "source": [
    "## Simulation\n",
    "\n",
    "Issues: how to integerate the SSM when using ADNES?\n",
    "\n",
    "flow_chart:\n",
    "```{python}\n",
    "prep grid data:\n",
    "ADNES: topology,  gen. limits, ramp. limits, line limits,\n",
    "Outside: gen. cost, ramp. cost,\n",
    "\n",
    "for $t_{OPF}$ in T (interval: 5min; total: 1h; [n=12]):\n",
    "    aggregate EV data (from SSM), generate $PR_{e,i,u,t}$\n",
    "    Do OPF, generate $PG_{i, t}$, $PR_{g, i, u, t}$, $PR_{g, i, d, t}$\n",
    "\n",
    "    for t in $t_{OPF}$ (interval: 4s; total: 5min; [n=75]):\n",
    "        Update data into dynamic system:\n",
    "            # Note, constant power model should be used in TDS.\n",
    "            # Use TimeSeries as the load. \n",
    "            power change: TGOV1.paux0\n",
    "            load change: \n",
    "\n",
    "        Run TDS: generate SFR mileage\n",
    "```"
   ]
  },
  {
   "cell_type": "markdown",
   "metadata": {},
   "source": [
    "Co-Sim list:\n",
    "```{python}\n",
    "for $t_{OPF}$ in T:\n",
    "    EVA report $pru_{max}$ $prd_{max}$, eqn xxx\n",
    "    TCC do OPF, eqn xxx\n",
    "    Assign dispatch signal to generation units\n",
    "\n",
    "    for t in $t_{AGC}$:\n",
    "        Assign AGC signal to AGC units\n",
    "        Run TDS\n",
    "```"
   ]
  }
 ],
 "metadata": {
  "interpreter": {
   "hash": "ef6cb5c8d99d66a3614f491d51fd40cd94c9138687df3d2045e3a510da5efc66"
  },
  "kernelspec": {
   "display_name": "Python 3.9.12 ('andes')",
   "language": "python",
   "name": "python3"
  },
  "language_info": {
   "codemirror_mode": {
    "name": "ipython",
    "version": 3
   },
   "file_extension": ".py",
   "mimetype": "text/x-python",
   "name": "python",
   "nbconvert_exporter": "python",
   "pygments_lexer": "ipython3",
   "version": "3.9.12"
  },
  "orig_nbformat": 4
 },
 "nbformat": 4,
 "nbformat_minor": 2
}
