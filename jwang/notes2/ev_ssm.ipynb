{
 "cells": [
  {
   "cell_type": "markdown",
   "metadata": {},
   "source": [
    "# EV State-Space Model\n",
    "\n",
    "This  notebook is used to reproduce the State Space Model of aggregateed EV for frequency regulation.\n",
    "\n",
    "Running on Jinning's local machine, in the env \"ev\"."
   ]
  },
  {
   "cell_type": "markdown",
   "metadata": {},
   "source": [
    "Working notes:\n",
    "\n",
    "02/06/2022: the EV data generation is completed. It looks weired, we may need update it later on.\n"
   ]
  },
  {
   "cell_type": "code",
   "execution_count": 7,
   "metadata": {},
   "outputs": [
    {
     "name": "stdout",
     "output_type": "stream",
     "text": [
      "ANDES Version: 1.6.5.post60+ga84a2f4e\n"
     ]
    }
   ],
   "source": [
    "import andes\n",
    "import pandas as pd\n",
    "import numpy as np\n",
    "import scipy.stats as stats\n",
    "import matplotlib.pyplot as plt\n",
    "import logging\n",
    "logger = logging.getLogger(__name__)\n",
    "\n",
    "print(f\"ANDES Version: {andes.__version__}\")"
   ]
  },
  {
   "cell_type": "markdown",
   "metadata": {},
   "source": [
    "## EV data"
   ]
  },
  {
   "cell_type": "markdown",
   "metadata": {},
   "source": [
    "### Define parameters\n",
    "\n",
    "The EV parameters are defined as two types. Type I follows uniform distribution, which is stored in a Dict `ev_param`. Type II follows normal distribution, which is stored in a pd.DataFrame `ev_pdf`.\n",
    "\n",
    "The data are cited from:\n",
    "\n",
    "M. Wang et al., \"State Space Model of Aggregated Electric Vehicles for Frequency Regulation,\" in IEEE Transactions on Smart Grid, vol. 11, no. 2, pp. 981-994, March 2020, doi: 10.1109/TSG.2019.2929052."
   ]
  },
  {
   "cell_type": "code",
   "execution_count": 105,
   "metadata": {},
   "outputs": [
    {
     "name": "stderr",
     "output_type": "stream",
     "text": [
      "EV_SSM initialization:\n",
      "50000 EVs, 10020 online, SoC intervals: 20\n",
      "Possible En=250.6 MWh, weighted SoCi=30.0%, SoCd=80.0%\n"
     ]
    },
    {
     "data": {
      "text/plain": [
       "9678"
      ]
     },
     "execution_count": 105,
     "metadata": {},
     "output_type": "execute_result"
    }
   ],
   "source": [
    "import scipy.stats as stats\n",
    "\n",
    "\n",
    "def find_x(x, soc_intv):\n",
    "    for idx in soc_intv.keys():\n",
    "        if x >= soc_intv[idx][0] and x <= soc_intv[idx][1]:\n",
    "            return idx\n",
    "\n",
    "\n",
    "class ev_ssm():\n",
    "    \"\"\"\n",
    "    EV State Space Model.\n",
    "\n",
    "    For now, only possible online EV will be kept after initialization.\n",
    "\n",
    "    EV parameters:\n",
    "    P, n, En follow uniform distribution.\n",
    "\n",
    "    Attributes\n",
    "    ----------\n",
    "    ev: pandas.DataFrame\n",
    "        EV dataset: (kW, kWh, h)\n",
    "        'Pc', 'Pd', 'nc', 'nd', 'En', 'soci', 'socd', 'ts', 'tf',\n",
    "\n",
    "        'socx', current soc interval\n",
    "    N: int\n",
    "        Total number of EVs\n",
    "    n: int\n",
    "        Possible online number of EVs\n",
    "    soc_intv: dict\n",
    "        SoC interval\n",
    "    ev_ufparam: dict\n",
    "        EV uniform parameters range\n",
    "    ev_nfparam: dict\n",
    "        EV normal parameters range\n",
    "\n",
    "    Notes\n",
    "    -----\n",
    "    ev_param\n",
    "        Ns: Number of SoC intervals\n",
    "        Pl: rated charging/discharging power (kW) lower bound\n",
    "        Pu: rated charging/discharging power (kW) upper bound\n",
    "        nl: charging/discharging efficiency lower bound\n",
    "        nu: charging/discharging efficiency upper bound\n",
    "        Enl: Battery capacity (kWh) lower bound\n",
    "        Enu: Battery capacity (kWh) upper bound\n",
    "        socl: Minimum SoC value\n",
    "        socu: Maximum SoC value\n",
    "        P, n, En follow uniform distribution.\n",
    "    \"\"\"\n",
    "\n",
    "    def find_socx(self):\n",
    "        self.ev['socx'] = self.ev['soc'].apply(lambda x: find_x(x, self.soc_intv))\n",
    "\n",
    "    def __init__(self, t_start=0, t_end=24, N=20000, seed=2021):\n",
    "        \"\"\"\n",
    "        Parameters\n",
    "        ----------\n",
    "        N: int\n",
    "            Number of EVs\n",
    "        seed: int\n",
    "            Random seed\n",
    "        \"\"\"\n",
    "        # --- 1. init ---\n",
    "        self.N = N\n",
    "        self.ev_ufparam = dict(Ns=20,\n",
    "                               Pl=5.0, Pu=7.0,\n",
    "                               nl=0.88, nu=0.95,\n",
    "                               Enl=20.0, Enu=30.0,\n",
    "                               socl=0, socu=1)\n",
    "        #  --- 1a. uniform distribution parameters range ---\n",
    "        unit = self.ev_ufparam['socu']/self.ev_ufparam['Ns']\n",
    "        self.soc_intv = {}\n",
    "        decimal = 4\n",
    "        for i in range(self.ev_ufparam['Ns']):\n",
    "            intv_single = [np.around(i*unit, decimal), np.around((i+1)*unit, decimal)]\n",
    "            self.soc_intv[i] = intv_single\n",
    "\n",
    "        #  --- 1b. normal distribution parameters range ---\n",
    "        ev_pdf_name = ['soci', 'socd', 'ts1', 'ts2', 'tf1', 'tf2']\n",
    "        ev_pdf_data = {'mean':     [0.3,    0.8,    -6.5,   17.5,   8.9,    32.9],\n",
    "                       'var':      [0.05, 0.03, 3.4, 3.4, 3.4, 3.4],\n",
    "                       'lb':       [0.2, 0.7, 0.0, 5.5, 0.0, 20.9],\n",
    "                       'ub':       [0.4, 0.9, 5.5, 24.0, 20.9, 24.0],\n",
    "                       'info':  ['initial SoC', 'demanded SoC',\n",
    "                                 'start charging time 1', 'start charging time 2',\n",
    "                                 'finish charging time 1', 'finish charging time 2']}\n",
    "        ev_pdf = pd.DataFrame(data=ev_pdf_data, index=ev_pdf_name).transpose()\n",
    "        self.ev_nfparam = ev_pdf.to_dict()\n",
    "\n",
    "        # --- 1c. generate EV dataset ---\n",
    "        self.ev = pd.DataFrame()\n",
    "        np.random.seed(seed)\n",
    "\n",
    "        #  data from uniform distribution\n",
    "        cols = ['Pc', 'Pd', 'nc', 'nd', 'En']\n",
    "        cols_bound = {'Pc':   ['Pl', 'Pu'],\n",
    "                      'Pd':   ['Pl', 'Pu'],\n",
    "                      'nc':   ['nl', 'nu'],\n",
    "                      'nd':   ['nl', 'nu'],\n",
    "                      'En':    ['Enl', 'Enu']}\n",
    "        for col in cols:\n",
    "            idxl = cols_bound[col][0]\n",
    "            idxh = cols_bound[col][1]\n",
    "            self.ev[col] = np.random.uniform(\n",
    "                low=self.ev_ufparam[idxl],\n",
    "                high=self.ev_ufparam[idxh],\n",
    "                size=self.N)\n",
    "\n",
    "        #  data from normal distribution\n",
    "        # soci, socd\n",
    "        for col in ev_pdf_name:\n",
    "            self.ev[col] = stats.truncnorm(\n",
    "                (ev_pdf[col]['lb'] - ev_pdf[col]['mean']) / ev_pdf[col]['var'],\n",
    "                (ev_pdf[col]['ub'] - ev_pdf[col]['mean']) / ev_pdf[col]['var'],\n",
    "                loc=ev_pdf[col]['mean'], scale=ev_pdf[col]['var']).rvs(self.N)\n",
    "        self.ev['soc'] = self.ev['soci']\n",
    "        # ts1, ts2, tf1, tf2\n",
    "        et = self.ev.copy()\n",
    "        r1 = 0.5  # ratio of t1\n",
    "        tp1 = self.ev[['ts1', 'tf1']].sample(n=int(et.shape[0]*r1), random_state=2021)\n",
    "        tp2 = self.ev[['ts2', 'tf2']].sample(n=int(et.shape[0]*(1-r1)), random_state=2021)\n",
    "        tp = pd.concat([tp1, tp2], axis=0).reset_index(drop=True).fillna(0)\n",
    "        tp['ts'] = tp['ts1'] + tp['ts2']\n",
    "        tp['tf'] = tp['tf1'] + tp['tf2']\n",
    "        check = tp.ts > tp.tf\n",
    "        row_idx = tp[check].index\n",
    "        mid = tp.tf.iloc[row_idx].values\n",
    "        tp.tf.iloc[row_idx] = tp.ts.iloc[row_idx]\n",
    "        tp.ts.iloc[row_idx] = mid\n",
    "        check = tp.ts > tp.tf\n",
    "        self.ev['ts'] = tp['ts']\n",
    "        self.ev['tf'] = tp['tf']\n",
    "        self.ev['u'] = 1\n",
    "        self.ev = self.ev[['u', 'Pc', 'Pd', 'nc', 'nd', 'En', 'soc', 'soci', 'socd', 'ts', 'tf']]\n",
    "\n",
    "        # --- find soc interval ---\n",
    "        self.find_socx()\n",
    "        self.init_u(t_start=t_start, t_end=t_end)\n",
    "        self.n = self.ev.shape[0]\n",
    "\n",
    "        # --- EV summary info ---\n",
    "        self.En = self.ev.En.sum()/1e3\n",
    "        self.soci = np.sum(self.ev.soci * self.ev.En) / self.ev.En.sum()\n",
    "        self.socd = np.sum(self.ev.socd * self.ev.En) / self.ev.En.sum()\n",
    "        # --- report info ---\n",
    "        msg1 = \"EV_SSM initialization:\\n\"\n",
    "        msg_ev = f\"{self.N} EVs, {self.n} online, SoC intervals: {len(self.soc_intv)}\\n\"\n",
    "        msg_soc = f\"Possible En={self.En.round(2)} MWh, weighted SoCi={100*self.soci.round(3)}%, SoCd={100*self.socd.round(3)}%\"\n",
    "        logger.warning(msg1 + msg_ev + msg_soc)\n",
    "\n",
    "        # --- SSM ---\n",
    "        # --- input: AGC signal ---\n",
    "\n",
    "        # --- output: estimated FRC ---\n",
    "        self.prumax = 0\n",
    "        self.prdmax = 0\n",
    "\n",
    "    def act(self, t=4, t_now=10):\n",
    "        \"\"\"\n",
    "        Response of the EV_SSM to the AGC signal.\n",
    "\n",
    "        Parameters\n",
    "        ----------\n",
    "        t: int\n",
    "            AGC interval (second).\n",
    "        t_now: int\n",
    "            current time (hour with decimals).\n",
    "        \"\"\"\n",
    "        self.g_ctrl()  # generate AGC signal\n",
    "        self.g_u(t_now=t_now)  # update online status\n",
    "        # charging/discharging power, kW\n",
    "        self.ev['dP'] = self.ev[['Pc', 'Pd', 'nc', 'nd', 'ctrl']].apply(\n",
    "            lambda x: x[0]*x[2] if x[4] >= 0 else -1*x[1]*x[3], axis=1)\n",
    "        self.ev['dP'] = self.ev['dP'] * self.ev['u']  # consider online status\n",
    "        self.ev['dsoc'] = self.ev.soc + t/3600 * self.ev['dP'] / self.ev['En']  # update SoC\n",
    "\n",
    "    def g_u(self, t_now=0):\n",
    "        \"\"\"\n",
    "        Update online status of EV at given time.\n",
    "\n",
    "        Parameters\n",
    "        ----------\n",
    "        t_now: float\n",
    "            current time (hour with decimals).\n",
    "        \"\"\"\n",
    "        self.ev['u'] = (self.ev.ts <= t_now) & (self.ev.tf >= t_now)\n",
    "        self.ev['u'] = self.ev['u'].astype(int)\n",
    "\n",
    "    def g_ctrl(self):\n",
    "        \"\"\"\n",
    "        Generate the charging signal.\n",
    "        \"\"\"\n",
    "        # --- replace with SSM later on ---\n",
    "        self.ev['ctrl'] = np.random.choice([-1, 0, 1], size=self.n)\n",
    "\n",
    "    def init_u(self, t_start=0, t_end=24):\n",
    "        self.ev['u'] = (self.ev.ts >= t_end) | (self.ev.tf <= t_start)\n",
    "        self.ev['u'] = 1 - self.ev['u'].astype(int)\n",
    "        drop_idx = self.ev[self.ev['u'] == 0].index\n",
    "        self.ev.drop(drop_idx, inplace=True)\n",
    "        self.ev.reset_index(drop=True, inplace=True)\n",
    "\n",
    "\n",
    "sse = ev_ssm(N=50000, t_start=10, t_end=11)\n",
    "\n",
    "# test method act\n",
    "sse.act()\n",
    "\n",
    "sse.ev.u.sum()\n"
   ]
  },
  {
   "cell_type": "code",
   "execution_count": 104,
   "metadata": {},
   "outputs": [
    {
     "data": {
      "text/plain": [
       "[<matplotlib.lines.Line2D at 0x12f990130>]"
      ]
     },
     "execution_count": 104,
     "metadata": {},
     "output_type": "execute_result"
    },
    {
     "data": {
      "image/png": "[encoded data removed]",
      "text/plain": [
       "<Figure size 432x288 with 1 Axes>"
      ]
     },
     "metadata": {
      "needs_background": "light"
     },
     "output_type": "display_data"
    }
   ],
   "source": [
    "# Online EV numbers during hour 10\n",
    "num = []\n",
    "for i in range(3600):\n",
    "    sse.g_u(t_now=10+i/3600)\n",
    "    num.append(sse.ev.u.sum())\n",
    "plt.plot(range(3600), num)"
   ]
  },
  {
   "cell_type": "markdown",
   "metadata": {},
   "source": [
    "## SSM Matrix"
   ]
  },
  {
   "cell_type": "code",
   "execution_count": null,
   "metadata": {},
   "outputs": [],
   "source": [
    "ev_pdf_name[0:2]"
   ]
  },
  {
   "cell_type": "markdown",
   "metadata": {},
   "source": [
    "## Simulation\n",
    "\n",
    "Issues: how to integerate the SSM when using ADNES?\n",
    "\n",
    "flow_chart:\n",
    "```{python}\n",
    "prep grid data:\n",
    "ADNES: topology,  gen. limits, ramp. limits, line limits,\n",
    "Outside: gen. cost, ramp. cost,\n",
    "\n",
    "for $t_{OPF}$ in T (interval: 5min; total: 1h; [n=12]):\n",
    "    aggregate EV data (from SSM), generate $PR_{e,i,u,t}$\n",
    "    Do OPF, generate $PG_{i, t}$, $PR_{g, i, u, t}$, $PR_{g, i, d, t}$\n",
    "\n",
    "    for t in $t_{OPF}$ (interval: 4s; total: 5min; [n=75]):\n",
    "        Update data into dynamic system:\n",
    "            # Note, constant power model should be used in TDS.\n",
    "            # Use TimeSeries as the load. \n",
    "            power change: TGOV1.paux0\n",
    "            load change: \n",
    "\n",
    "        Run TDS: generate SFR mileage\n",
    "```"
   ]
  },
  {
   "cell_type": "markdown",
   "metadata": {},
   "source": [
    "Co-Sim list:\n",
    "```{python}\n",
    "for $t_{OPF}$ in T:\n",
    "    EVA report $pru_{max}$ $prd_{max}$, eqn xxx\n",
    "    TCC do OPF, eqn xxx\n",
    "    Assign dispatch signal to generation units\n",
    "\n",
    "    for t in $t_{AGC}$:\n",
    "        Assign AGC signal to AGC units\n",
    "        Run TDS\n",
    "```"
   ]
  }
 ],
 "metadata": {
  "interpreter": {
   "hash": "ef6cb5c8d99d66a3614f491d51fd40cd94c9138687df3d2045e3a510da5efc66"
  },
  "kernelspec": {
   "display_name": "Python 3.9.12 ('andes')",
   "language": "python",
   "name": "python3"
  },
  "language_info": {
   "codemirror_mode": {
    "name": "ipython",
    "version": 3
   },
   "file_extension": ".py",
   "mimetype": "text/x-python",
   "name": "python",
   "nbconvert_exporter": "python",
   "pygments_lexer": "ipython3",
   "version": "3.9.12"
  },
  "orig_nbformat": 4
 },
 "nbformat": 4,
 "nbformat_minor": 2
}
