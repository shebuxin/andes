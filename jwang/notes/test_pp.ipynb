{
 "cells": [
  {
   "cell_type": "code",
   "execution_count": 19,
   "metadata": {},
   "outputs": [],
   "source": [
    "import pandapower as pp\n",
    "import andes\n",
    "from andes.interop.pandapower import to_pandapower"
   ]
  },
  {
   "cell_type": "code",
   "execution_count": 20,
   "metadata": {},
   "outputs": [],
   "source": [
    "dir_path = os.path.abspath('..')\n",
    "case_path = '/case/ieee39_ev.xlsx'\n",
    "case = dir_path + case_path\n",
    "ssa = andes.load(case,\n",
    "                 setup=True,\n",
    "                 no_output=True,\n",
    "                 default_config=False)"
   ]
  },
  {
   "cell_type": "code",
   "execution_count": 21,
   "metadata": {},
   "outputs": [],
   "source": [
    "ssp = to_pandapower(ssa)"
   ]
  },
  {
   "cell_type": "code",
   "execution_count": 24,
   "metadata": {},
   "outputs": [
    {
     "data": {
      "text/plain": [
       "This pandapower network includes the following parameter tables:\n",
       "   - bus (39 elements)\n",
       "   - load (19 elements)\n",
       "   - gen (11 elements)\n",
       "   - shunt (2 elements)\n",
       "   - line (34 elements)\n",
       "   - trafo (12 elements)\n",
       " and the following results tables:\n",
       "   - res_bus (39 elements)\n",
       "   - res_line (34 elements)\n",
       "   - res_trafo (12 elements)\n",
       "   - res_load (19 elements)\n",
       "   - res_shunt (2 elements)\n",
       "   - res_gen (11 elements)"
      ]
     },
     "execution_count": 24,
     "metadata": {},
     "output_type": "execute_result"
    }
   ],
   "source": [
    "ssp"
   ]
  },
  {
   "cell_type": "code",
   "execution_count": 26,
   "metadata": {},
   "outputs": [
    {
     "data": {
      "text/plain": [
       "This pandapower network includes the following parameter tables:\n",
       "   - bus (39 elements)\n",
       "   - load (19 elements)\n",
       "   - gen (11 elements)\n",
       "   - shunt (2 elements)\n",
       "   - line (34 elements)\n",
       "   - trafo (12 elements)"
      ]
     },
     "execution_count": 26,
     "metadata": {},
     "output_type": "execute_result"
    }
   ],
   "source": [
    "ss0 = pp.create_empty_network(f_hz=ssa.config.freq,\n",
    "                              sn_mva=ssa.config.mva,\n",
    "                              )\n",
    "\n",
    "mdl_list = ['bus', 'load', 'gen', 'shunt', 'line', 'trafo']\n",
    "for mdl in mdl_list:\n",
    "    setattr(ss0, mdl, getattr(ssp, mdl))\n",
    "\n",
    "ss0"
   ]
  },
  {
   "cell_type": "code",
   "execution_count": 28,
   "metadata": {},
   "outputs": [],
   "source": [
    "pp.runpp(ss0)"
   ]
  },
  {
   "cell_type": "code",
   "execution_count": 12,
   "metadata": {},
   "outputs": [],
   "source": [
    "gendf = ssp.gen.copy()"
   ]
  },
  {
   "cell_type": "code",
   "execution_count": 13,
   "metadata": {},
   "outputs": [],
   "source": [
    "delattr(ssp, 'gen')"
   ]
  },
  {
   "cell_type": "code",
   "execution_count": 14,
   "metadata": {},
   "outputs": [],
   "source": [
    "setattr(ssp, 'gen', gendf)"
   ]
  },
  {
   "cell_type": "code",
   "execution_count": 15,
   "metadata": {},
   "outputs": [],
   "source": [
    "pp.runpp(ssp)"
   ]
  },
  {
   "cell_type": "code",
   "execution_count": 18,
   "metadata": {},
   "outputs": [
    {
     "data": {
      "text/plain": [
       "This pandapower network includes the following parameter tables:\n",
       "   - bus (39 elements)\n",
       "   - load (19 elements)\n",
       "   - shunt (2 elements)\n",
       "   - line (34 elements)\n",
       "   - trafo (12 elements)\n",
       "   - gen (11 elements)\n",
       " and the following results tables:\n",
       "   - res_bus (39 elements)\n",
       "   - res_line (34 elements)\n",
       "   - res_trafo (12 elements)\n",
       "   - res_load (19 elements)\n",
       "   - res_shunt (2 elements)\n",
       "   - res_gen (11 elements)"
      ]
     },
     "execution_count": 18,
     "metadata": {},
     "output_type": "execute_result"
    }
   ],
   "source": [
    "ssp"
   ]
  },
  {
   "cell_type": "code",
   "execution_count": 17,
   "metadata": {},
   "outputs": [
    {
     "data": {
      "text/html": [
       "<div>\n",
       "<style scoped>\n",
       "    .dataframe tbody tr th:only-of-type {\n",
       "        vertical-align: middle;\n",
       "    }\n",
       "\n",
       "    .dataframe tbody tr th {\n",
       "        vertical-align: top;\n",
       "    }\n",
       "\n",
       "    .dataframe thead th {\n",
       "        text-align: right;\n",
       "    }\n",
       "</style>\n",
       "<table border=\"1\" class=\"dataframe\">\n",
       "  <thead>\n",
       "    <tr style=\"text-align: right;\">\n",
       "      <th></th>\n",
       "      <th>p_mw</th>\n",
       "      <th>q_mvar</th>\n",
       "      <th>va_degree</th>\n",
       "      <th>vm_pu</th>\n",
       "    </tr>\n",
       "  </thead>\n",
       "  <tbody>\n",
       "    <tr>\n",
       "      <th>0</th>\n",
       "      <td>436.086385</td>\n",
       "      <td>91.721528</td>\n",
       "      <td>2.984990</td>\n",
       "      <td>1.035534</td>\n",
       "    </tr>\n",
       "    <tr>\n",
       "      <th>1</th>\n",
       "      <td>645.999998</td>\n",
       "      <td>311.370989</td>\n",
       "      <td>4.243218</td>\n",
       "      <td>1.013246</td>\n",
       "    </tr>\n",
       "    <tr>\n",
       "      <th>2</th>\n",
       "      <td>724.999998</td>\n",
       "      <td>149.293426</td>\n",
       "      <td>7.643576</td>\n",
       "      <td>1.020528</td>\n",
       "    </tr>\n",
       "    <tr>\n",
       "      <th>3</th>\n",
       "      <td>651.999998</td>\n",
       "      <td>131.004236</td>\n",
       "      <td>8.006690</td>\n",
       "      <td>1.013430</td>\n",
       "    </tr>\n",
       "    <tr>\n",
       "      <th>4</th>\n",
       "      <td>520.000000</td>\n",
       "      <td>146.497277</td>\n",
       "      <td>6.747540</td>\n",
       "      <td>1.019109</td>\n",
       "    </tr>\n",
       "    <tr>\n",
       "      <th>5</th>\n",
       "      <td>690.000000</td>\n",
       "      <td>227.597221</td>\n",
       "      <td>10.457219</td>\n",
       "      <td>1.060000</td>\n",
       "    </tr>\n",
       "    <tr>\n",
       "      <th>6</th>\n",
       "      <td>590.000000</td>\n",
       "      <td>63.133957</td>\n",
       "      <td>13.371219</td>\n",
       "      <td>1.060000</td>\n",
       "    </tr>\n",
       "    <tr>\n",
       "      <th>7</th>\n",
       "      <td>330.000000</td>\n",
       "      <td>-27.033467</td>\n",
       "      <td>3.064579</td>\n",
       "      <td>1.013996</td>\n",
       "    </tr>\n",
       "    <tr>\n",
       "      <th>8</th>\n",
       "      <td>780.000000</td>\n",
       "      <td>116.236721</td>\n",
       "      <td>7.590391</td>\n",
       "      <td>1.052803</td>\n",
       "    </tr>\n",
       "    <tr>\n",
       "      <th>9</th>\n",
       "      <td>-50.000000</td>\n",
       "      <td>0.000000</td>\n",
       "      <td>7.590391</td>\n",
       "      <td>1.052803</td>\n",
       "    </tr>\n",
       "    <tr>\n",
       "      <th>10</th>\n",
       "      <td>574.105373</td>\n",
       "      <td>-29.933851</td>\n",
       "      <td>0.000000</td>\n",
       "      <td>1.030000</td>\n",
       "    </tr>\n",
       "  </tbody>\n",
       "</table>\n",
       "</div>"
      ],
      "text/plain": [
       "          p_mw      q_mvar  va_degree     vm_pu\n",
       "0   436.086385   91.721528   2.984990  1.035534\n",
       "1   645.999998  311.370989   4.243218  1.013246\n",
       "2   724.999998  149.293426   7.643576  1.020528\n",
       "3   651.999998  131.004236   8.006690  1.013430\n",
       "4   520.000000  146.497277   6.747540  1.019109\n",
       "5   690.000000  227.597221  10.457219  1.060000\n",
       "6   590.000000   63.133957  13.371219  1.060000\n",
       "7   330.000000  -27.033467   3.064579  1.013996\n",
       "8   780.000000  116.236721   7.590391  1.052803\n",
       "9   -50.000000    0.000000   7.590391  1.052803\n",
       "10  574.105373  -29.933851   0.000000  1.030000"
      ]
     },
     "execution_count": 17,
     "metadata": {},
     "output_type": "execute_result"
    }
   ],
   "source": [
    "ssp.res_gen"
   ]
  }
 ],
 "metadata": {
  "interpreter": {
   "hash": "b8c542af61804583455bb3cc02c5acff1b7eab71b36b048085e6e502c5a0f30d"
  },
  "kernelspec": {
   "display_name": "Python 3.7.10 ('andes')",
   "language": "python",
   "name": "python3"
  },
  "language_info": {
   "codemirror_mode": {
    "name": "ipython",
    "version": 3
   },
   "file_extension": ".py",
   "mimetype": "text/x-python",
   "name": "python",
   "nbconvert_exporter": "python",
   "pygments_lexer": "ipython3",
   "version": "3.7.10"
  },
  "orig_nbformat": 4
 },
 "nbformat": 4,
 "nbformat_minor": 2
}
