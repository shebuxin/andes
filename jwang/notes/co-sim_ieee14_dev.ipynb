{
 "cells": [
  {
   "cell_type": "markdown",
   "metadata": {},
   "source": [
    "# RTED-TDS Co-Sim\n",
    "\n",
    "This notebook is used to implement the Co-Simulation of Real Time Economic Dispatch (RTED) and Time-Domain Simulation (TDS).\n",
    "In the RTED, SFR is considered. In the TDS, AGC is implemented.\n",
    "\n",
    "RTED is seperated into two DCOPF and ACOPF: 1) DCOPF with SFR is solved in gurobipy, which is packaged into the class ``rted`` in the file ``rted.py``. 2) ACOPF is solved in pandapower.\n",
    "\n",
    "\n",
    "Table of contents:\n",
    "- Import case: import ADNES case\n",
    "- Load synthetic: build load curve as a scalar\n",
    "- Setup ``ssp`` and ``ssd``\n",
    "- Prepare: define some functions\n",
    "- Define param: define RTED loop parameters\n",
    "- Loop: Co-Sim loop\n",
    "\n",
    "List of major vars:\n",
    "\n",
    "- ``ssa`` ANDES system\n",
    "- ``ssp`` pandapower net\n",
    "- ``ssd`` DCOPF instance\n",
    "\n",
    "Things need to be done when switching to other cases:\n",
    "- Assign generator cost data. The rows of gen_cost array should be the same with the length of ``ssp.gen``\n",
    "  including those uncontrollable ones, so the DCOPF model can build correctly.\n",
    "- Define generator controllability of ``ssp``, all generators are controllable by default\n",
    "- Define power system data: SFR cost, ramp limit (5-min-based)\n",
    "- Define generator type in ``ssd``, default as type I. For type I generator, generator limtis have impact on both generation and SFR capacity. For yype II generator, SFR capacity is determined by param ``pru_max`` and ``prd_max``\n",
    "\n",
    "Environment requirements:\n",
    "- ANDES (1.6.3+)\n",
    "- pandapower (2.7.0 is tested to be function correctly)\n",
    "- gurobipy\n",
    "- pandas, amtplotlib, scipy"
   ]
  },
  {
   "cell_type": "markdown",
   "metadata": {},
   "source": [
    "## Import case"
   ]
  },
  {
   "cell_type": "code",
   "execution_count": 1,
   "metadata": {
    "ExecuteTime": {
     "end_time": "2021-03-20T14:50:27.821845Z",
     "start_time": "2021-03-20T14:50:27.457672Z"
    },
    "execution": {
     "iopub.execute_input": "2021-09-26T22:41:51.096056Z",
     "iopub.status.busy": "2021-09-26T22:41:51.095687Z",
     "iopub.status.idle": "2021-09-26T22:41:51.787388Z",
     "shell.execute_reply": "2021-09-26T22:41:51.787697Z"
    }
   },
   "outputs": [],
   "source": [
    "import andes\n",
    "import numpy as np\n",
    "from andes.interop.pandapower import to_pandapower, make_link_table, runopp_map\n",
    "from andes.interop.pandapower import add_gencost, build_group_table\n",
    "andes.config_logger(stream_level=20)\n",
    "\n",
    "import pandas as pd\n",
    "import pandapower as pp\n",
    "from math import ceil, floor\n",
    "\n",
    "import os\n",
    "\n",
    "import matplotlib.pyplot as plt\n",
    "\n",
    "import scipy.stats as stat\n",
    "\n",
    "from rted import rted"
   ]
  },
  {
   "cell_type": "markdown",
   "metadata": {},
   "source": [
    "Package version"
   ]
  },
  {
   "cell_type": "code",
   "execution_count": 2,
   "metadata": {},
   "outputs": [
    {
     "name": "stdout",
     "output_type": "stream",
     "text": [
      "1.6.3.post51.dev0+g9544a123\n",
      "2.7.0\n"
     ]
    }
   ],
   "source": [
    "print(andes.__version__)\n",
    "print(pp.__version__)"
   ]
  },
  {
   "cell_type": "markdown",
   "metadata": {},
   "source": [
    "Import ADNES case"
   ]
  },
  {
   "cell_type": "code",
   "execution_count": 3,
   "metadata": {
    "ExecuteTime": {
     "end_time": "2021-03-20T14:50:33.843520Z",
     "start_time": "2021-03-20T14:50:33.664077Z"
    },
    "execution": {
     "iopub.execute_input": "2021-09-26T22:41:59.401976Z",
     "iopub.status.busy": "2021-09-26T22:41:59.401670Z",
     "iopub.status.idle": "2021-09-26T22:41:59.781185Z",
     "shell.execute_reply": "2021-09-26T22:41:59.780928Z"
    }
   },
   "outputs": [
    {
     "name": "stderr",
     "output_type": "stream",
     "text": [
      "Working directory: \"/Users/jinningwang/Documents/work/andes/jwang/notes\"\n",
      "> Loaded config from file \"/Users/jinningwang/.andes/andes.rc\"\n",
      "> Loaded generated Python code in \"/Users/jinningwang/.andes/pycode\".\n",
      "Parsing input file \"/Users/jinningwang/Documents/work/andes/jwang/case/ieee14_base.xlsx\"...\n",
      "Input file parsed in 0.1963 seconds.\n",
      "System internal structure set up in 0.0340 seconds.\n"
     ]
    }
   ],
   "source": [
    "# ss0 is used for PP conversion\n",
    "dir_path = os.path.abspath('..')\n",
    "case_path = '/case/ieee14_base.xlsx'\n",
    "case = dir_path + case_path\n",
    "ssa = andes.load(case,\n",
    "                 setup=True,\n",
    "                 no_output=True,\n",
    "                 default_config=False)"
   ]
  },
  {
   "cell_type": "markdown",
   "metadata": {},
   "source": [
    "Set load as constant load."
   ]
  },
  {
   "cell_type": "code",
   "execution_count": 4,
   "metadata": {},
   "outputs": [],
   "source": [
    "ssa.PQ.config.p2p = 1\n",
    "ssa.PQ.config.q2q = 1\n",
    "ssa.PQ.config.p2z = 0\n",
    "ssa.PQ.config.q2z = 0\n",
    "ssa.PQ.pq2z = 0"
   ]
  },
  {
   "cell_type": "markdown",
   "metadata": {},
   "source": [
    "Turn on ``numba`` can accelerate TDS."
   ]
  },
  {
   "cell_type": "code",
   "execution_count": 5,
   "metadata": {},
   "outputs": [
    {
     "data": {
      "text/plain": [
       "1"
      ]
     },
     "execution_count": 5,
     "metadata": {},
     "output_type": "execute_result"
    }
   ],
   "source": [
    "ssa.config.numba"
   ]
  },
  {
   "cell_type": "markdown",
   "metadata": {},
   "source": [
    "## Load synthetic\n",
    "\n",
    "Create load data ``d_syn``, which is a ``DataFrame`` that have three columns: ``time``, ``s10``, ``h10``. ``time`` is by seconds, ``s10`` is scalar load."
   ]
  },
  {
   "cell_type": "code",
   "execution_count": 6,
   "metadata": {
    "scrolled": false
   },
   "outputs": [
    {
     "name": "stdout",
     "output_type": "stream",
     "text": [
      "ANDES total load is: 2.237 p.u.\n"
     ]
    },
    {
     "data": {
      "text/plain": [
       "Text(0.5, 0, 'Time [s]')"
      ]
     },
     "execution_count": 6,
     "metadata": {},
     "output_type": "execute_result"
    },
    {
     "data": {
      "image/png": "[encoded data removed]",
      "text/plain": [
       "<Figure size 360x288 with 1 Axes>"
      ]
     },
     "metadata": {
      "needs_background": "light"
     },
     "output_type": "display_data"
    }
   ],
   "source": [
    "# --- get ANDES load ---\n",
    "ptotal = ssa.PQ.as_df()['p0'].sum()\n",
    "print('ANDES total load is:',ptotal.round(4),'p.u.')\n",
    "\n",
    "# --- scale d_syn ---\n",
    "ddata_path = '/case/d_syn2.csv'\n",
    "ddata = dir_path + ddata_path\n",
    "d_syn = pd.read_csv(ddata)\n",
    "\n",
    "ratio = 100\n",
    "d_syn['s10'] = (d_syn['h10'] - d_syn['h10'].mean()) / d_syn['h10'].var() * ratio + 1\n",
    "\n",
    "# calculate expected load\n",
    "step = 300\n",
    "d_exp = d_syn.groupby(d_syn.index // step).mean().copy()\n",
    "d_exp['time'] = range(0,3600,300)\n",
    "\n",
    "fig_load, ax_load = plt.subplots(figsize=(5, 4))\n",
    "ax_load.plot(d_syn['time'], d_syn['s10'], color='tab:blue', linestyle='-')\n",
    "ystep = list(d_exp['s10'])\n",
    "ystep.insert(0, d_exp['s10'].iloc[0])\n",
    "ax_load.step(range(0,3900,300), ystep, color='tab:blue', linestyle='--')\n",
    "ax_load.set_xlim([0, 3600])\n",
    "ax_load.legend(['Actual load', 'Forecasted load'])\n",
    "ax_load.set_title('Load profile')\n",
    "ax_load.set_ylabel('ratio')\n",
    "ax_load.set_xlabel('Time [s]')"
   ]
  },
  {
   "cell_type": "markdown",
   "metadata": {},
   "source": [
    "## Setup ``ssp`` and ``ssd``\n",
    "\n",
    "Convert ``ssa`` to pandapower net ``ssp``, add generator cost\n",
    "\n",
    "The input cost array follow the matpower/pypower format, now only poly_cost is supported"
   ]
  },
  {
   "cell_type": "code",
   "execution_count": 7,
   "metadata": {},
   "outputs": [
    {
     "name": "stderr",
     "output_type": "stream",
     "text": [
      "-> System connectivity check results:\n",
      "  No islanded bus detected.\n",
      "  System is interconnected.\n",
      "  Each island has a slack bus correctly defined and enabled.\n",
      "\n",
      "-> Power flow calculation\n",
      "           Numba: On\n",
      "   Sparse solver: KLU\n",
      " Solution method: NR method\n",
      "Numba compilation initiated with caching.\n",
      "Power flow initialized in 0.1227 seconds.\n",
      "0: |F(x)| = 0.5605182162\n",
      "1: |F(x)| = 0.006127943757\n",
      "2: |F(x)| = 5.694809117e-06\n",
      "3: |F(x)| = 5.725184216e-12\n",
      "Converged in 4 iterations in 0.0051 seconds.\n",
      "Power flow results are consistent. Conversion is successful.\n"
     ]
    },
    {
     "data": {
      "text/plain": [
       "True"
      ]
     },
     "execution_count": 7,
     "metadata": {},
     "output_type": "execute_result"
    }
   ],
   "source": [
    "# --- conversion ---\n",
    "ssp = to_pandapower(ssa)\n",
    "\n",
    "# add gen cost\n",
    "gen_cost = np.array([\n",
    "    [2, 0, 0, 3, 0.0, 40, 0],\n",
    "    [2, 0, 0, 3, 0.0, 25, 0],\n",
    "    [2, 0, 0, 3, 0.0, 30, 0],\n",
    "    [2, 0, 0, 3, 0.0, 31, 0],\n",
    "    [2, 0, 0, 3, 0.0, 32, 0],\n",
    "    [2, 0, 0, 3, 0.0, 33, 0]\n",
    "])\n",
    "\n",
    "add_gencost(ssp, gen_cost)"
   ]
  },
  {
   "cell_type": "markdown",
   "metadata": {},
   "source": [
    "**NOTE**: Alter the controllability of generator by modifying ``ssp.gen.controllable``"
   ]
  },
  {
   "cell_type": "code",
   "execution_count": 8,
   "metadata": {},
   "outputs": [],
   "source": [
    "# set EV generator as uncontrollable\n",
    "ssp.gen.controllable.iloc[4] = False"
   ]
  },
  {
   "cell_type": "code",
   "execution_count": 9,
   "metadata": {
    "scrolled": true
   },
   "outputs": [
    {
     "data": {
      "text/html": [
       "<div>\n",
       "<style scoped>\n",
       "    .dataframe tbody tr th:only-of-type {\n",
       "        vertical-align: middle;\n",
       "    }\n",
       "\n",
       "    .dataframe tbody tr th {\n",
       "        vertical-align: top;\n",
       "    }\n",
       "\n",
       "    .dataframe thead th {\n",
       "        text-align: right;\n",
       "    }\n",
       "</style>\n",
       "<table border=\"1\" class=\"dataframe\">\n",
       "  <thead>\n",
       "    <tr style=\"text-align: right;\">\n",
       "      <th></th>\n",
       "      <th>name</th>\n",
       "      <th>bus</th>\n",
       "      <th>p_mw</th>\n",
       "      <th>vm_pu</th>\n",
       "      <th>sn_mva</th>\n",
       "      <th>min_q_mvar</th>\n",
       "      <th>max_q_mvar</th>\n",
       "      <th>scaling</th>\n",
       "      <th>slack</th>\n",
       "      <th>in_service</th>\n",
       "      <th>type</th>\n",
       "      <th>controllable</th>\n",
       "      <th>min_p_mw</th>\n",
       "      <th>max_p_mw</th>\n",
       "      <th>power_station_trafo</th>\n",
       "    </tr>\n",
       "  </thead>\n",
       "  <tbody>\n",
       "    <tr>\n",
       "      <th>0</th>\n",
       "      <td>PV_2</td>\n",
       "      <td>1</td>\n",
       "      <td>40.000</td>\n",
       "      <td>1.03</td>\n",
       "      <td>100.0</td>\n",
       "      <td>-40.0</td>\n",
       "      <td>15.0</td>\n",
       "      <td>1.0</td>\n",
       "      <td>False</td>\n",
       "      <td>True</td>\n",
       "      <td>None</td>\n",
       "      <td>True</td>\n",
       "      <td>10.0</td>\n",
       "      <td>50.0</td>\n",
       "      <td>NaN</td>\n",
       "    </tr>\n",
       "    <tr>\n",
       "      <th>1</th>\n",
       "      <td>PV_3</td>\n",
       "      <td>2</td>\n",
       "      <td>40.000</td>\n",
       "      <td>1.01</td>\n",
       "      <td>100.0</td>\n",
       "      <td>-10.0</td>\n",
       "      <td>15.0</td>\n",
       "      <td>1.0</td>\n",
       "      <td>False</td>\n",
       "      <td>True</td>\n",
       "      <td>None</td>\n",
       "      <td>True</td>\n",
       "      <td>10.0</td>\n",
       "      <td>50.0</td>\n",
       "      <td>NaN</td>\n",
       "    </tr>\n",
       "    <tr>\n",
       "      <th>2</th>\n",
       "      <td>PV_4</td>\n",
       "      <td>5</td>\n",
       "      <td>30.000</td>\n",
       "      <td>1.03</td>\n",
       "      <td>100.0</td>\n",
       "      <td>-6.0</td>\n",
       "      <td>10.0</td>\n",
       "      <td>1.0</td>\n",
       "      <td>False</td>\n",
       "      <td>True</td>\n",
       "      <td>None</td>\n",
       "      <td>True</td>\n",
       "      <td>10.0</td>\n",
       "      <td>100.0</td>\n",
       "      <td>NaN</td>\n",
       "    </tr>\n",
       "    <tr>\n",
       "      <th>3</th>\n",
       "      <td>PV_5</td>\n",
       "      <td>7</td>\n",
       "      <td>30.000</td>\n",
       "      <td>1.03</td>\n",
       "      <td>100.0</td>\n",
       "      <td>-6.0</td>\n",
       "      <td>10.0</td>\n",
       "      <td>1.0</td>\n",
       "      <td>False</td>\n",
       "      <td>True</td>\n",
       "      <td>None</td>\n",
       "      <td>True</td>\n",
       "      <td>10.0</td>\n",
       "      <td>50.0</td>\n",
       "      <td>NaN</td>\n",
       "    </tr>\n",
       "    <tr>\n",
       "      <th>4</th>\n",
       "      <td>PV_6</td>\n",
       "      <td>3</td>\n",
       "      <td>-1.000</td>\n",
       "      <td>1.01</td>\n",
       "      <td>100.0</td>\n",
       "      <td>0.0</td>\n",
       "      <td>0.0</td>\n",
       "      <td>1.0</td>\n",
       "      <td>False</td>\n",
       "      <td>True</td>\n",
       "      <td>None</td>\n",
       "      <td>False</td>\n",
       "      <td>-10.0</td>\n",
       "      <td>10.0</td>\n",
       "      <td>NaN</td>\n",
       "    </tr>\n",
       "    <tr>\n",
       "      <th>5</th>\n",
       "      <td>Slack_1</td>\n",
       "      <td>0</td>\n",
       "      <td>81.442</td>\n",
       "      <td>1.03</td>\n",
       "      <td>100.0</td>\n",
       "      <td>-50.0</td>\n",
       "      <td>100.0</td>\n",
       "      <td>1.0</td>\n",
       "      <td>True</td>\n",
       "      <td>True</td>\n",
       "      <td>None</td>\n",
       "      <td>True</td>\n",
       "      <td>50.0</td>\n",
       "      <td>300.0</td>\n",
       "      <td>NaN</td>\n",
       "    </tr>\n",
       "  </tbody>\n",
       "</table>\n",
       "</div>"
      ],
      "text/plain": [
       "      name  bus    p_mw  vm_pu  sn_mva  min_q_mvar  max_q_mvar  scaling  \\\n",
       "0     PV_2    1  40.000   1.03   100.0       -40.0        15.0      1.0   \n",
       "1     PV_3    2  40.000   1.01   100.0       -10.0        15.0      1.0   \n",
       "2     PV_4    5  30.000   1.03   100.0        -6.0        10.0      1.0   \n",
       "3     PV_5    7  30.000   1.03   100.0        -6.0        10.0      1.0   \n",
       "4     PV_6    3  -1.000   1.01   100.0         0.0         0.0      1.0   \n",
       "5  Slack_1    0  81.442   1.03   100.0       -50.0       100.0      1.0   \n",
       "\n",
       "   slack  in_service  type  controllable  min_p_mw  max_p_mw  \\\n",
       "0  False        True  None          True      10.0      50.0   \n",
       "1  False        True  None          True      10.0      50.0   \n",
       "2  False        True  None          True      10.0     100.0   \n",
       "3  False        True  None          True      10.0      50.0   \n",
       "4  False        True  None         False     -10.0      10.0   \n",
       "5   True        True  None          True      50.0     300.0   \n",
       "\n",
       "   power_station_trafo  \n",
       "0                  NaN  \n",
       "1                  NaN  \n",
       "2                  NaN  \n",
       "3                  NaN  \n",
       "4                  NaN  \n",
       "5                  NaN  "
      ]
     },
     "execution_count": 9,
     "metadata": {},
     "output_type": "execute_result"
    }
   ],
   "source": [
    "ssp.gen"
   ]
  },
  {
   "cell_type": "markdown",
   "metadata": {},
   "source": [
    "Build DCOPF instance ``ssd``"
   ]
  },
  {
   "cell_type": "code",
   "execution_count": 10,
   "metadata": {},
   "outputs": [
    {
     "name": "stderr",
     "output_type": "stream",
     "text": [
      "GSF is consistent.\n"
     ]
    }
   ],
   "source": [
    "ssd = rted(ssp)"
   ]
  },
  {
   "cell_type": "markdown",
   "metadata": {},
   "source": [
    "Alter the EV generator type in ``ssd``"
   ]
  },
  {
   "cell_type": "code",
   "execution_count": 11,
   "metadata": {},
   "outputs": [
    {
     "data": {
      "text/plain": [
       "True"
      ]
     },
     "execution_count": 11,
     "metadata": {},
     "output_type": "execute_result"
    }
   ],
   "source": [
    "ssd.def_type(['gen6'])"
   ]
  },
  {
   "cell_type": "markdown",
   "metadata": {},
   "source": [
    "Benchmark Standard DCOPF of ``ssd`` with ``ssp``"
   ]
  },
  {
   "cell_type": "code",
   "execution_count": 12,
   "metadata": {},
   "outputs": [
    {
     "name": "stderr",
     "output_type": "stream",
     "text": [
      "pru_max length does not match Type II generator numbers!\n",
      "prd_max length does not match Type II generator numbers!\n"
     ]
    },
    {
     "name": "stdout",
     "output_type": "stream",
     "text": [
      "Restricted license - for non-production use only - expires 2023-10-25\n",
      "Gurobi Optimizer version 9.5.1 build v9.5.1rc2 (mac64[rosetta2])\n",
      "Thread count: 8 physical cores, 8 logical processors, using up to 8 threads\n",
      "Optimize a model with 73 rows, 18 columns and 226 nonzeros\n",
      "Model fingerprint: 0xb9d846ea\n",
      "Coefficient statistics:\n",
      "  Matrix range     [4e-04, 1e+00]\n",
      "  Objective range  [2e+01, 4e+01]\n",
      "  Bounds range     [1e-02, 3e+00]\n",
      "  RHS range        [1e-02, 1e+01]\n",
      "Presolve removed 71 rows and 13 columns\n",
      "Presolve time: 0.00s\n",
      "Presolved: 2 rows, 5 columns, 9 nonzeros\n",
      "\n",
      "Iteration    Objective       Primal Inf.    Dual Inf.      Time\n",
      "       0    6.2775000e+01   9.470000e-01   0.000000e+00      0s\n",
      "       1    6.7557000e+01   0.000000e+00   0.000000e+00      0s\n",
      "\n",
      "Solved in 1 iterations and 0.01 seconds (0.00 work units)\n",
      "Optimal objective  6.755700000e+01\n"
     ]
    },
    {
     "data": {
      "text/html": [
       "<div>\n",
       "<style scoped>\n",
       "    .dataframe tbody tr th:only-of-type {\n",
       "        vertical-align: middle;\n",
       "    }\n",
       "\n",
       "    .dataframe tbody tr th {\n",
       "        vertical-align: top;\n",
       "    }\n",
       "\n",
       "    .dataframe thead th {\n",
       "        text-align: right;\n",
       "    }\n",
       "</style>\n",
       "<table border=\"1\" class=\"dataframe\">\n",
       "  <thead>\n",
       "    <tr style=\"text-align: right;\">\n",
       "      <th></th>\n",
       "      <th>p_mw</th>\n",
       "      <th>q_mvar</th>\n",
       "      <th>va_degree</th>\n",
       "      <th>vm_pu</th>\n",
       "      <th>gb</th>\n",
       "    </tr>\n",
       "  </thead>\n",
       "  <tbody>\n",
       "    <tr>\n",
       "      <th>0</th>\n",
       "      <td>10.0</td>\n",
       "      <td>NaN</td>\n",
       "      <td>-1.233634</td>\n",
       "      <td>1.0</td>\n",
       "      <td>10.0</td>\n",
       "    </tr>\n",
       "    <tr>\n",
       "      <th>1</th>\n",
       "      <td>50.0</td>\n",
       "      <td>NaN</td>\n",
       "      <td>-1.952871</td>\n",
       "      <td>1.0</td>\n",
       "      <td>50.0</td>\n",
       "    </tr>\n",
       "    <tr>\n",
       "      <th>2</th>\n",
       "      <td>100.0</td>\n",
       "      <td>NaN</td>\n",
       "      <td>1.644258</td>\n",
       "      <td>1.0</td>\n",
       "      <td>100.0</td>\n",
       "    </tr>\n",
       "    <tr>\n",
       "      <th>3</th>\n",
       "      <td>14.7</td>\n",
       "      <td>NaN</td>\n",
       "      <td>-1.284473</td>\n",
       "      <td>1.0</td>\n",
       "      <td>14.7</td>\n",
       "    </tr>\n",
       "    <tr>\n",
       "      <th>4</th>\n",
       "      <td>-1.0</td>\n",
       "      <td>NaN</td>\n",
       "      <td>-2.574234</td>\n",
       "      <td>1.0</td>\n",
       "      <td>-1.0</td>\n",
       "    </tr>\n",
       "    <tr>\n",
       "      <th>5</th>\n",
       "      <td>50.0</td>\n",
       "      <td>NaN</td>\n",
       "      <td>0.000000</td>\n",
       "      <td>1.0</td>\n",
       "      <td>50.0</td>\n",
       "    </tr>\n",
       "  </tbody>\n",
       "</table>\n",
       "</div>"
      ],
      "text/plain": [
       "    p_mw  q_mvar  va_degree  vm_pu     gb\n",
       "0   10.0     NaN  -1.233634    1.0   10.0\n",
       "1   50.0     NaN  -1.952871    1.0   50.0\n",
       "2  100.0     NaN   1.644258    1.0  100.0\n",
       "3   14.7     NaN  -1.284473    1.0   14.7\n",
       "4   -1.0     NaN  -2.574234    1.0   -1.0\n",
       "5   50.0     NaN   0.000000    1.0   50.0"
      ]
     },
     "execution_count": 12,
     "metadata": {},
     "output_type": "execute_result"
    }
   ],
   "source": [
    "ssd.def_var(ptotal=ssp.load.p_mw.sum() / ssp.sn_mva,\n",
    "            dpd_u=0.0, dpd_d=0.0, p_pre=[0.1, 0.5, 1, 0.147, -0.01, 0.5])\n",
    "ssd.build_s()\n",
    "ssd.mdls.optimize()\n",
    "\n",
    "# access the vars value\n",
    "gbres = []\n",
    "for gen in ssd.gendict.keys():\n",
    "    gbres.append(ssd.p_sch[gen].X)\n",
    "\n",
    "pp.rundcopp(ssp)\n",
    "ppres = ssp.res_gen.copy()\n",
    "ppres['gb'] = ssp.sn_mva * np.array(gbres)\n",
    "ppres"
   ]
  },
  {
   "cell_type": "markdown",
   "metadata": {},
   "source": [
    "Test DCOPF with SFR of ``ssd``"
   ]
  },
  {
   "cell_type": "code",
   "execution_count": 13,
   "metadata": {},
   "outputs": [
    {
     "name": "stdout",
     "output_type": "stream",
     "text": [
      "Gurobi Optimizer version 9.5.1 build v9.5.1rc2 (mac64[rosetta2])\n",
      "Thread count: 8 physical cores, 8 logical processors, using up to 8 threads\n",
      "Optimize a model with 61 rows, 18 columns and 214 nonzeros\n",
      "Model fingerprint: 0x8665d982\n",
      "Coefficient statistics:\n",
      "  Matrix range     [4e-04, 1e+00]\n",
      "  Objective range  [2e+01, 4e+01]\n",
      "  Bounds range     [1e-02, 3e+00]\n",
      "  RHS range        [1e-02, 1e+01]\n",
      "Presolve removed 59 rows and 13 columns\n",
      "Presolve time: 0.00s\n",
      "Presolved: 2 rows, 5 columns, 9 nonzeros\n",
      "\n",
      "Iteration    Objective       Primal Inf.    Dual Inf.      Time\n",
      "       0    6.2775000e+01   9.470000e-01   0.000000e+00      0s\n",
      "       1    6.7557000e+01   0.000000e+00   0.000000e+00      0s\n",
      "\n",
      "Solved in 1 iterations and 0.01 seconds (0.00 work units)\n",
      "Optimal objective  6.755700000e+01\n",
      "[0.1, 0.5, 1.0, 0.14700000000000002, -0.01, 0.5]\n"
     ]
    }
   ],
   "source": [
    "# def. parameters\n",
    "ssd.def_ps(c_ru=[], c_rd=[], rampu=[], rampd=[])\n",
    "# # def. variables\n",
    "ssd.def_var(ptotal=ssp.load.p_mw.sum() / ssp.sn_mva,\n",
    "            dpd_u=0.0, dpd_d=0.0, p_pre=[],\n",
    "            gen=['gen6'], pru_max=[0], prd_max=[0])\n",
    "\n",
    "ssd.build()\n",
    "\n",
    "ssd.mdl.optimize()\n",
    "\n",
    "gbres = []\n",
    "for gen in ssd.gendict.keys():\n",
    "    gbres.append(ssd.p_sch[gen].X)\n",
    "print(gbres)"
   ]
  },
  {
   "cell_type": "markdown",
   "metadata": {},
   "source": [
    "## Prepare"
   ]
  },
  {
   "cell_type": "markdown",
   "metadata": {},
   "source": [
    "### Make link table"
   ]
  },
  {
   "cell_type": "code",
   "execution_count": 14,
   "metadata": {},
   "outputs": [
    {
     "data": {
      "text/html": [
       "<div>\n",
       "<style scoped>\n",
       "    .dataframe tbody tr th:only-of-type {\n",
       "        vertical-align: middle;\n",
       "    }\n",
       "\n",
       "    .dataframe tbody tr th {\n",
       "        vertical-align: top;\n",
       "    }\n",
       "\n",
       "    .dataframe thead th {\n",
       "        text-align: right;\n",
       "    }\n",
       "</style>\n",
       "<table border=\"1\" class=\"dataframe\">\n",
       "  <thead>\n",
       "    <tr style=\"text-align: right;\">\n",
       "      <th></th>\n",
       "      <th>stg_name</th>\n",
       "      <th>stg_u</th>\n",
       "      <th>stg_idx</th>\n",
       "      <th>bus_idx</th>\n",
       "      <th>dg_idx</th>\n",
       "      <th>syg_idx</th>\n",
       "      <th>exc_idx</th>\n",
       "      <th>gov_idx</th>\n",
       "      <th>bus_name</th>\n",
       "      <th>gammap</th>\n",
       "      <th>gammaq</th>\n",
       "      <th>gen_pp</th>\n",
       "      <th>ctrl</th>\n",
       "    </tr>\n",
       "  </thead>\n",
       "  <tbody>\n",
       "    <tr>\n",
       "      <th>0</th>\n",
       "      <td>Slack_1</td>\n",
       "      <td>1.0</td>\n",
       "      <td>Slack_1</td>\n",
       "      <td>1</td>\n",
       "      <td>False</td>\n",
       "      <td>GENROU_1</td>\n",
       "      <td>ESST3A_2</td>\n",
       "      <td>TGOV1_1</td>\n",
       "      <td>BUS1</td>\n",
       "      <td>1.0</td>\n",
       "      <td>1.0</td>\n",
       "      <td>5</td>\n",
       "      <td>True</td>\n",
       "    </tr>\n",
       "    <tr>\n",
       "      <th>1</th>\n",
       "      <td>PV_2</td>\n",
       "      <td>1.0</td>\n",
       "      <td>PV_2</td>\n",
       "      <td>2</td>\n",
       "      <td>False</td>\n",
       "      <td>GENROU_2</td>\n",
       "      <td>EXST1_1</td>\n",
       "      <td>TGOV1_2</td>\n",
       "      <td>BUS2</td>\n",
       "      <td>1.0</td>\n",
       "      <td>1.0</td>\n",
       "      <td>0</td>\n",
       "      <td>True</td>\n",
       "    </tr>\n",
       "    <tr>\n",
       "      <th>2</th>\n",
       "      <td>PV_3</td>\n",
       "      <td>1.0</td>\n",
       "      <td>PV_3</td>\n",
       "      <td>3</td>\n",
       "      <td>False</td>\n",
       "      <td>GENROU_3</td>\n",
       "      <td>ESST3A_3</td>\n",
       "      <td>TGOV1_3</td>\n",
       "      <td>BUS3</td>\n",
       "      <td>1.0</td>\n",
       "      <td>1.0</td>\n",
       "      <td>1</td>\n",
       "      <td>True</td>\n",
       "    </tr>\n",
       "    <tr>\n",
       "      <th>3</th>\n",
       "      <td>PV_4</td>\n",
       "      <td>1.0</td>\n",
       "      <td>PV_4</td>\n",
       "      <td>6</td>\n",
       "      <td>False</td>\n",
       "      <td>GENROU_4</td>\n",
       "      <td>ESST3A_4</td>\n",
       "      <td>TGOV1_4</td>\n",
       "      <td>BUS6</td>\n",
       "      <td>1.0</td>\n",
       "      <td>1.0</td>\n",
       "      <td>2</td>\n",
       "      <td>True</td>\n",
       "    </tr>\n",
       "    <tr>\n",
       "      <th>4</th>\n",
       "      <td>PV_5</td>\n",
       "      <td>1.0</td>\n",
       "      <td>PV_5</td>\n",
       "      <td>8</td>\n",
       "      <td>False</td>\n",
       "      <td>GENROU_5</td>\n",
       "      <td>ESST3A_5</td>\n",
       "      <td>TGOV1_5</td>\n",
       "      <td>BUS8</td>\n",
       "      <td>1.0</td>\n",
       "      <td>1.0</td>\n",
       "      <td>3</td>\n",
       "      <td>True</td>\n",
       "    </tr>\n",
       "    <tr>\n",
       "      <th>5</th>\n",
       "      <td>PV_6</td>\n",
       "      <td>1.0</td>\n",
       "      <td>PV_6</td>\n",
       "      <td>4</td>\n",
       "      <td>EV_1</td>\n",
       "      <td>False</td>\n",
       "      <td>False</td>\n",
       "      <td>False</td>\n",
       "      <td>BUS4</td>\n",
       "      <td>0.5</td>\n",
       "      <td>0.5</td>\n",
       "      <td>4</td>\n",
       "      <td>False</td>\n",
       "    </tr>\n",
       "    <tr>\n",
       "      <th>6</th>\n",
       "      <td>PV_6</td>\n",
       "      <td>1.0</td>\n",
       "      <td>PV_6</td>\n",
       "      <td>4</td>\n",
       "      <td>EV_2</td>\n",
       "      <td>False</td>\n",
       "      <td>False</td>\n",
       "      <td>False</td>\n",
       "      <td>BUS4</td>\n",
       "      <td>0.5</td>\n",
       "      <td>0.5</td>\n",
       "      <td>4</td>\n",
       "      <td>False</td>\n",
       "    </tr>\n",
       "  </tbody>\n",
       "</table>\n",
       "</div>"
      ],
      "text/plain": [
       "  stg_name  stg_u  stg_idx  bus_idx dg_idx   syg_idx   exc_idx  gov_idx  \\\n",
       "0  Slack_1    1.0  Slack_1        1  False  GENROU_1  ESST3A_2  TGOV1_1   \n",
       "1     PV_2    1.0     PV_2        2  False  GENROU_2   EXST1_1  TGOV1_2   \n",
       "2     PV_3    1.0     PV_3        3  False  GENROU_3  ESST3A_3  TGOV1_3   \n",
       "3     PV_4    1.0     PV_4        6  False  GENROU_4  ESST3A_4  TGOV1_4   \n",
       "4     PV_5    1.0     PV_5        8  False  GENROU_5  ESST3A_5  TGOV1_5   \n",
       "5     PV_6    1.0     PV_6        4   EV_1     False     False    False   \n",
       "6     PV_6    1.0     PV_6        4   EV_2     False     False    False   \n",
       "\n",
       "  bus_name  gammap  gammaq  gen_pp   ctrl  \n",
       "0     BUS1     1.0     1.0       5   True  \n",
       "1     BUS2     1.0     1.0       0   True  \n",
       "2     BUS3     1.0     1.0       1   True  \n",
       "3     BUS6     1.0     1.0       2   True  \n",
       "4     BUS8     1.0     1.0       3   True  \n",
       "5     BUS4     0.5     0.5       4  False  \n",
       "6     BUS4     0.5     0.5       4  False  "
      ]
     },
     "execution_count": 14,
     "metadata": {},
     "output_type": "execute_result"
    }
   ],
   "source": [
    "# --- link_table ---\n",
    "ssa_key = make_link_table(ssa)\n",
    "\n",
    "# --- add controllable in the link table ---\n",
    "ssa_bus = ssa.Bus.as_df().reset_index().rename(columns={'uid':'bus_pp', 'idx':'bus_idx'})\n",
    "ssp_gen = ssp.gen.reset_index().rename(columns={'index':'gen_pp', 'name':'stg_idx', 'controllable':'ctrl'})\n",
    "ssa_key2 = pd.merge(left=ssa_key,\n",
    "                    right=ssp_gen[['stg_idx', 'gen_pp', 'ctrl']],\n",
    "                    on='stg_idx', how='left')\n",
    "\n",
    "# --- device idx ---\n",
    "ssa_dg_idx = ssa_key2.dg_idx.dropna().tolist()\n",
    "ssa_syg_idx = ssa_key2.syg_idx.dropna().tolist()\n",
    "ssa_gov_idx = ssa_key2.gov_idx.dropna().tolist()\n",
    "ssa_stg_idx = ssa_key2.stg_idx.dropna().tolist()\n",
    "\n",
    "# --- online and controllable device idx ---\n",
    "ctrl_cond = ssa_key2.ctrl * ssa_key2.stg_u.astype(bool)\n",
    "ssa_dg_idx_ctrl = ssa_key2.dg_idx[ctrl_cond].dropna().tolist()\n",
    "ssa_syg_idx_ctrl = ssa_key2.syg_idx[ctrl_cond].dropna().tolist()\n",
    "ssa_gov_idx_ctrl = ssa_key2.gov_idx[ctrl_cond].dropna().tolist()\n",
    "ssa_stg_idx_ctrl = ssa_key2.stg_idx[ctrl_cond].dropna().tolist()\n",
    "\n",
    "# fill NaN with False\n",
    "ssa_key2.fillna(value=False, inplace=True)\n",
    "\n",
    "ssa_key2"
   ]
  },
  {
   "cell_type": "markdown",
   "metadata": {},
   "source": [
    "### Define functions used in loop"
   ]
  },
  {
   "cell_type": "code",
   "execution_count": 15,
   "metadata": {},
   "outputs": [],
   "source": [
    "# --- def functions ---\n",
    "def get_pe(ssa, syg_idx, dg_idx, ssa_key2):\n",
    "    \"\"\"Get the active power (SynGen/DG) after TDS\"\"\"\n",
    "    # SynGen\n",
    "    pe_syg = ssa.SynGen.get(src='Pe', idx=syg_idx, attr='v')\n",
    "    # DG\n",
    "    Ip_dg = ssa.DG.get(src='Ipout_y', idx=dg_idx, attr='v')\n",
    "    v_dg = ssa.DG.get(src='v', idx=dg_idx, attr='v')\n",
    "    pe_dg = Ip_dg*v_dg\n",
    "    # out\n",
    "    pe = pd.DataFrame()\n",
    "    pe['idx'] = syg_idx + dg_idx\n",
    "    pe['pe'] = np.concatenate((pe_syg, pe_dg))\n",
    "    ldf = pd.merge(left=ssa_key2.rename(columns={'dg_idx':'idx'}),\n",
    "         right=pe, how='right', on='idx')\n",
    "    rdf = pd.merge(left=ssa_key2.rename(columns={'syg_idx':'idx'}),\n",
    "             right=pe, how='right', on='idx')\n",
    "    pe['stg_idx'] = ldf['stg_idx'].fillna('') + rdf['stg_idx'].fillna('')\n",
    "    return pe.groupby('stg_idx').sum().pe.tolist()\n",
    "\n",
    "def dp_calc(d_syn, idx_ed, intv_ed, ssa_p0_sum):\n",
    "    \"\"\"Calc SFR requirements ``dpd_u``and ``dpd_d``, and load forecasted value\"\"\"\n",
    "    load = d_syn['s10'].iloc[idx_ed*intv_ed:(idx_ed*intv_ed + intv_ed)]\n",
    "    load_exp = load.mean()\n",
    "    # TODO: check if the estimation is reasonable\n",
    "    load_ci = stat.t.interval(alpha=0.95, df=len(load)-1, loc=np.mean(load), scale=stat.sem(load))\n",
    "    load_d = abs(ssa_p0_sum * (load_ci[0] - load_exp))\n",
    "    load_u = abs(ssa_p0_sum * (load_ci[1] - load_exp))\n",
    "    return load_u, load_d, load_exp"
   ]
  },
  {
   "cell_type": "markdown",
   "metadata": {},
   "source": [
    "## Define param"
   ]
  },
  {
   "cell_type": "code",
   "execution_count": 16,
   "metadata": {},
   "outputs": [],
   "source": [
    "# --- constants ---\n",
    "t_total = 3600    # 3600s\n",
    "\n",
    "intv_ed = 300  # RTED interval, 300s\n",
    "intv_agc = 4    # AGC interval, 4s\n",
    "intv_pq = 1     # PQ interval, 1s; alter load and AGC\n",
    "intv_step = 100 # step change interval; smooth the setpoitns\n",
    "\n",
    "n_ed = int(t_total/intv_ed)\n",
    "n_agc = int(intv_ed/intv_agc)\n",
    "n_pq = int(intv_agc/intv_pq)\n",
    "n_step = floor(intv_step/intv_agc)\n",
    "\n",
    "# --- vars ---\n",
    "# AGC table\n",
    "agc_table = ssp.gen[['name']].rename(columns={'name':'stg_idx'})\n",
    "agc_table['paux'] = 0\n",
    "\n",
    "# ACE vars\n",
    "ACE_integral = 0\n",
    "ACE_raw = 0\n",
    "Kp = 0.1\n",
    "Ki = 0.1\n",
    "\n",
    "# initial load\n",
    "ssa_p0 = ssa.PQ.p0.v.copy()\n",
    "ssa_q0 = ssa.PQ.q0.v.copy()\n",
    "ssa_pq_idx = ssa.PQ.idx.v\n",
    "ssa_p0_sum = ssa_p0.sum()"
   ]
  },
  {
   "cell_type": "markdown",
   "metadata": {},
   "source": [
    "## Loop\n",
    "\n",
    "In the loop, there are mainly X parts:\n",
    "\n",
    "- interval RTED: run DCOPF (``ssd.mdl``), run ACOPF(``ssp``), \n",
    "\n",
    "- interval AGC: do AGC, do dispatch with smooth setpoints\n",
    "\n",
    "- interval PQ: alter load, run TDS(``ssa.TDS``)\n",
    "\n",
    "Notes:\n",
    "\n",
    "- The setpoints for DG are coded but not verified yet.\n",
    "\n",
    "- After the development of ANDES control room, the dispatch and AGC part can be refactored.\n",
    "\n",
    "- interface variables: ``DG.pmx``: DPV profile, ``DG.pref0``: setpoints, ``DG.pext0``: AGC\n",
    "\n",
    "- ACOPF in pandapower considered generator limtis of ramping and SFR reserve"
   ]
  },
  {
   "cell_type": "code",
   "execution_count": 17,
   "metadata": {},
   "outputs": [
    {
     "name": "stderr",
     "output_type": "stream",
     "text": [
      "GSF is consistent.\n"
     ]
    },
    {
     "name": "stdout",
     "output_type": "stream",
     "text": [
      "Gurobi Optimizer version 9.5.1 build v9.5.1rc2 (mac64[rosetta2])\n",
      "Thread count: 8 physical cores, 8 logical processors, using up to 8 threads\n",
      "Optimize a model with 59 rows, 18 columns and 214 nonzeros\n",
      "Model fingerprint: 0x57a4f9bb\n",
      "Coefficient statistics:\n",
      "  Matrix range     [4e-04, 1e+00]\n",
      "  Objective range  [2e+01, 4e+01]\n",
      "  Bounds range     [1e-02, 3e+00]\n",
      "  RHS range        [5e-03, 1e+01]\n",
      "Presolve removed 51 rows and 9 columns\n",
      "Presolve time: 0.01s\n",
      "Presolved: 8 rows, 9 columns, 26 nonzeros\n",
      "\n",
      "Iteration    Objective       Primal Inf.    Dual Inf.      Time\n",
      "       0    8.0588421e+01   4.745375e-03   0.000000e+00      0s\n",
      "       1    8.0588421e+01   0.000000e+00   0.000000e+00      0s\n",
      "\n",
      "Solved in 1 iterations and 0.01 seconds (0.00 work units)\n",
      "Optimal objective  8.058842146e+01\n"
     ]
    },
    {
     "name": "stderr",
     "output_type": "stream",
     "text": [
      "/Users/jinningwang/Documents/work/miniconda3/envs/andes/lib/python3.7/site-packages/ipykernel_launcher.py:91: UserWarning: Pandas doesn't allow columns to be created via a new attribute name - see https://pandas.pydata.org/pandas-docs/stable/indexing.html#attribute-access\n",
      "/Users/jinningwang/Documents/work/miniconda3/envs/andes/lib/python3.7/site-packages/ipykernel_launcher.py:100: UserWarning: Pandas doesn't allow columns to be created via a new attribute name - see https://pandas.pydata.org/pandas-docs/stable/indexing.html#attribute-access\n",
      "-> System connectivity check results:\n",
      "  No islanded bus detected.\n",
      "  System is interconnected.\n",
      "  Each island has a slack bus correctly defined and enabled.\n",
      "\n",
      "-> Power flow calculation\n",
      "           Numba: On\n",
      "   Sparse solver: KLU\n",
      " Solution method: NR method\n",
      "Numba compilation initiated with caching.\n",
      "Power flow initialized in 0.0041 seconds.\n",
      "0: |F(x)| = 0.5758162603\n",
      "1: |F(x)| = 0.02959091614\n",
      "2: |F(x)| = 4.682927244e-05\n",
      "3: |F(x)| = 1.231706126e-10\n",
      "Converged in 4 iterations in 0.0036 seconds.\n",
      "\n",
      "-> Time Domain Simulation Summary:\n",
      "Sparse Solver: KLU\n",
      "Simulation time: 0.0-0 s.\n",
      "Fixed step size: h=33.33 ms. Shrink if not converged.\n",
      "Numba compilation initiated with caching.\n",
      "Initialization for dynamics completed in 20.7848 seconds.\n",
      "Initialization was successful.\n"
     ]
    },
    {
     "data": {
      "application/vnd.jupyter.widget-view+json": {
       "model_id": "a1ccbea7d23a46a58296f8e1bd896375",
       "version_major": 2,
       "version_minor": 0
      },
      "text/plain": [
       "  0%|          | 0/100 [00:00<?, ?%/s]"
      ]
     },
     "metadata": {},
     "output_type": "display_data"
    },
    {
     "name": "stderr",
     "output_type": "stream",
     "text": [
      "Simulation completed in 0.0009 seconds.\n",
      "TimeSeries does not contain any time stamp.\n",
      "\n",
      "-> Time Domain Simulation Summary:\n",
      "Sparse Solver: KLU\n",
      "Simulation time: 0.0-1 s.\n",
      "Fixed step size: h=33.33 ms. Shrink if not converged.\n"
     ]
    },
    {
     "data": {
      "application/vnd.jupyter.widget-view+json": {
       "model_id": "9ba0f805e96647c3b6ab388366046214",
       "version_major": 2,
       "version_minor": 0
      },
      "text/plain": [
       "  0%|          | 0/100 [00:00<?, ?%/s]"
      ]
     },
     "metadata": {},
     "output_type": "display_data"
    },
    {
     "name": "stderr",
     "output_type": "stream",
     "text": [
      "Current step size is zero. Integration is not permitted.\n",
      "Simulation completed in 0.0728 seconds.\n"
     ]
    },
    {
     "data": {
      "application/vnd.jupyter.widget-view+json": {
       "model_id": "ec217836bb964befa46b35a845c60e8b",
       "version_major": 2,
       "version_minor": 0
      },
      "text/plain": [
       "  0%|          | 0/100 [00:00<?, ?%/s]"
      ]
     },
     "metadata": {},
     "output_type": "display_data"
    },
    {
     "name": "stderr",
     "output_type": "stream",
     "text": [
      "Simulation completed in 0.0860 seconds.\n"
     ]
    },
    {
     "data": {
      "application/vnd.jupyter.widget-view+json": {
       "model_id": "c0d3a3e6bd2244b0b096744d983d17ba",
       "version_major": 2,
       "version_minor": 0
      },
      "text/plain": [
       "  0%|          | 0/100 [00:00<?, ?%/s]"
      ]
     },
     "metadata": {},
     "output_type": "display_data"
    },
    {
     "name": "stderr",
     "output_type": "stream",
     "text": [
      "Simulation completed in 0.0637 seconds.\n",
      "/Users/jinningwang/Documents/work/miniconda3/envs/andes/lib/python3.7/site-packages/ipykernel_launcher.py:91: UserWarning: Pandas doesn't allow columns to be created via a new attribute name - see https://pandas.pydata.org/pandas-docs/stable/indexing.html#attribute-access\n",
      "/Users/jinningwang/Documents/work/miniconda3/envs/andes/lib/python3.7/site-packages/ipykernel_launcher.py:100: UserWarning: Pandas doesn't allow columns to be created via a new attribute name - see https://pandas.pydata.org/pandas-docs/stable/indexing.html#attribute-access\n"
     ]
    },
    {
     "data": {
      "application/vnd.jupyter.widget-view+json": {
       "model_id": "8279c63e95684429bb1795f903fe4b1b",
       "version_major": 2,
       "version_minor": 0
      },
      "text/plain": [
       "  0%|          | 0/100 [00:00<?, ?%/s]"
      ]
     },
     "metadata": {},
     "output_type": "display_data"
    },
    {
     "name": "stderr",
     "output_type": "stream",
     "text": [
      "Simulation completed in 0.0841 seconds.\n"
     ]
    },
    {
     "data": {
      "application/vnd.jupyter.widget-view+json": {
       "model_id": "c0b9602c31414e4da91d7f2ffaecbe22",
       "version_major": 2,
       "version_minor": 0
      },
      "text/plain": [
       "  0%|          | 0/100 [00:00<?, ?%/s]"
      ]
     },
     "metadata": {},
     "output_type": "display_data"
    },
    {
     "name": "stderr",
     "output_type": "stream",
     "text": [
      "Simulation completed in 0.0844 seconds.\n"
     ]
    },
    {
     "data": {
      "application/vnd.jupyter.widget-view+json": {
       "model_id": "3cf24601b02f4ebe8eaa89760442107a",
       "version_major": 2,
       "version_minor": 0
      },
      "text/plain": [
       "  0%|          | 0/100 [00:00<?, ?%/s]"
      ]
     },
     "metadata": {},
     "output_type": "display_data"
    },
    {
     "name": "stderr",
     "output_type": "stream",
     "text": [
      "Simulation completed in 0.0874 seconds.\n"
     ]
    },
    {
     "data": {
      "application/vnd.jupyter.widget-view+json": {
       "model_id": "4e13d034af784247894033b4d76e7770",
       "version_major": 2,
       "version_minor": 0
      },
      "text/plain": [
       "  0%|          | 0/100 [00:00<?, ?%/s]"
      ]
     },
     "metadata": {},
     "output_type": "display_data"
    },
    {
     "name": "stderr",
     "output_type": "stream",
     "text": [
      "Simulation completed in 0.0898 seconds.\n"
     ]
    },
    {
     "data": {
      "application/vnd.jupyter.widget-view+json": {
       "model_id": "ed59ffa15d15492da61bcc25112728a1",
       "version_major": 2,
       "version_minor": 0
      },
      "text/plain": [
       "  0%|          | 0/100 [00:00<?, ?%/s]"
      ]
     },
     "metadata": {},
     "output_type": "display_data"
    },
    {
     "name": "stderr",
     "output_type": "stream",
     "text": [
      "Simulation completed in 0.0873 seconds.\n"
     ]
    },
    {
     "data": {
      "application/vnd.jupyter.widget-view+json": {
       "model_id": "612a7adc7c924877ae508ba1aa859545",
       "version_major": 2,
       "version_minor": 0
      },
      "text/plain": [
       "  0%|          | 0/100 [00:00<?, ?%/s]"
      ]
     },
     "metadata": {},
     "output_type": "display_data"
    },
    {
     "name": "stderr",
     "output_type": "stream",
     "text": [
      "Simulation completed in 0.0716 seconds.\n"
     ]
    },
    {
     "data": {
      "application/vnd.jupyter.widget-view+json": {
       "model_id": "42dd95d1cf7a4d52acdb118b87c801b8",
       "version_major": 2,
       "version_minor": 0
      },
      "text/plain": [
       "  0%|          | 0/100 [00:00<?, ?%/s]"
      ]
     },
     "metadata": {},
     "output_type": "display_data"
    },
    {
     "name": "stderr",
     "output_type": "stream",
     "text": [
      "Simulation completed in 0.0664 seconds.\n"
     ]
    },
    {
     "data": {
      "application/vnd.jupyter.widget-view+json": {
       "model_id": "6665b236d923462c92f8269715bf138b",
       "version_major": 2,
       "version_minor": 0
      },
      "text/plain": [
       "  0%|          | 0/100 [00:00<?, ?%/s]"
      ]
     },
     "metadata": {},
     "output_type": "display_data"
    },
    {
     "name": "stderr",
     "output_type": "stream",
     "text": [
      "Simulation completed in 0.0661 seconds.\n"
     ]
    },
    {
     "data": {
      "application/vnd.jupyter.widget-view+json": {
       "model_id": "2a8513c62f724f10a97757127e278bca",
       "version_major": 2,
       "version_minor": 0
      },
      "text/plain": [
       "  0%|          | 0/100 [00:00<?, ?%/s]"
      ]
     },
     "metadata": {},
     "output_type": "display_data"
    },
    {
     "name": "stderr",
     "output_type": "stream",
     "text": [
      "Simulation completed in 0.0666 seconds.\n"
     ]
    },
    {
     "data": {
      "application/vnd.jupyter.widget-view+json": {
       "model_id": "9545490ca2394ab6ac6df59231e37083",
       "version_major": 2,
       "version_minor": 0
      },
      "text/plain": [
       "  0%|          | 0/100 [00:00<?, ?%/s]"
      ]
     },
     "metadata": {},
     "output_type": "display_data"
    },
    {
     "name": "stderr",
     "output_type": "stream",
     "text": [
      "Simulation completed in 0.0885 seconds.\n"
     ]
    },
    {
     "data": {
      "application/vnd.jupyter.widget-view+json": {
       "model_id": "e4297f6a36004d9e8f25349a50959106",
       "version_major": 2,
       "version_minor": 0
      },
      "text/plain": [
       "  0%|          | 0/100 [00:00<?, ?%/s]"
      ]
     },
     "metadata": {},
     "output_type": "display_data"
    },
    {
     "name": "stderr",
     "output_type": "stream",
     "text": [
      "Simulation completed in 0.0696 seconds.\n"
     ]
    },
    {
     "data": {
      "application/vnd.jupyter.widget-view+json": {
       "model_id": "35955116372e4722a198eb900a99a7fa",
       "version_major": 2,
       "version_minor": 0
      },
      "text/plain": [
       "  0%|          | 0/100 [00:00<?, ?%/s]"
      ]
     },
     "metadata": {},
     "output_type": "display_data"
    },
    {
     "name": "stderr",
     "output_type": "stream",
     "text": [
      "Simulation completed in 0.0699 seconds.\n"
     ]
    },
    {
     "data": {
      "application/vnd.jupyter.widget-view+json": {
       "model_id": "524d1eacba5d48af8bcaadaa093146a0",
       "version_major": 2,
       "version_minor": 0
      },
      "text/plain": [
       "  0%|          | 0/100 [00:00<?, ?%/s]"
      ]
     },
     "metadata": {},
     "output_type": "display_data"
    },
    {
     "name": "stderr",
     "output_type": "stream",
     "text": [
      "Simulation completed in 0.0685 seconds.\n"
     ]
    },
    {
     "data": {
      "application/vnd.jupyter.widget-view+json": {
       "model_id": "769ee63b00ed47278bb2254a42bf8c2c",
       "version_major": 2,
       "version_minor": 0
      },
      "text/plain": [
       "  0%|          | 0/100 [00:00<?, ?%/s]"
      ]
     },
     "metadata": {},
     "output_type": "display_data"
    },
    {
     "name": "stderr",
     "output_type": "stream",
     "text": [
      "Simulation completed in 0.0656 seconds.\n"
     ]
    },
    {
     "data": {
      "application/vnd.jupyter.widget-view+json": {
       "model_id": "93a60c3c874948f69d6e518e444e13f3",
       "version_major": 2,
       "version_minor": 0
      },
      "text/plain": [
       "  0%|          | 0/100 [00:00<?, ?%/s]"
      ]
     },
     "metadata": {},
     "output_type": "display_data"
    },
    {
     "name": "stderr",
     "output_type": "stream",
     "text": [
      "Simulation completed in 0.0646 seconds.\n"
     ]
    },
    {
     "data": {
      "application/vnd.jupyter.widget-view+json": {
       "model_id": "1bce665ff3814d899545358aad3cc773",
       "version_major": 2,
       "version_minor": 0
      },
      "text/plain": [
       "  0%|          | 0/100 [00:00<?, ?%/s]"
      ]
     },
     "metadata": {},
     "output_type": "display_data"
    },
    {
     "name": "stderr",
     "output_type": "stream",
     "text": [
      "Simulation completed in 0.0675 seconds.\n"
     ]
    },
    {
     "data": {
      "application/vnd.jupyter.widget-view+json": {
       "model_id": "f479e9659a754ef1b0e38beba7613532",
       "version_major": 2,
       "version_minor": 0
      },
      "text/plain": [
       "  0%|          | 0/100 [00:00<?, ?%/s]"
      ]
     },
     "metadata": {},
     "output_type": "display_data"
    },
    {
     "name": "stderr",
     "output_type": "stream",
     "text": [
      "Simulation completed in 0.0637 seconds.\n"
     ]
    },
    {
     "data": {
      "application/vnd.jupyter.widget-view+json": {
       "model_id": "ec6c404522d5448cac9763262c91a994",
       "version_major": 2,
       "version_minor": 0
      },
      "text/plain": [
       "  0%|          | 0/100 [00:00<?, ?%/s]"
      ]
     },
     "metadata": {},
     "output_type": "display_data"
    },
    {
     "name": "stderr",
     "output_type": "stream",
     "text": [
      "Simulation completed in 0.0765 seconds.\n"
     ]
    },
    {
     "data": {
      "application/vnd.jupyter.widget-view+json": {
       "model_id": "864b9940ceda474d8327a42901435d8d",
       "version_major": 2,
       "version_minor": 0
      },
      "text/plain": [
       "  0%|          | 0/100 [00:00<?, ?%/s]"
      ]
     },
     "metadata": {},
     "output_type": "display_data"
    },
    {
     "name": "stderr",
     "output_type": "stream",
     "text": [
      "Simulation completed in 0.0690 seconds.\n"
     ]
    },
    {
     "data": {
      "application/vnd.jupyter.widget-view+json": {
       "model_id": "29578d4bb96b44c498949941b644b09c",
       "version_major": 2,
       "version_minor": 0
      },
      "text/plain": [
       "  0%|          | 0/100 [00:00<?, ?%/s]"
      ]
     },
     "metadata": {},
     "output_type": "display_data"
    },
    {
     "name": "stderr",
     "output_type": "stream",
     "text": [
      "Simulation completed in 0.0681 seconds.\n"
     ]
    },
    {
     "data": {
      "application/vnd.jupyter.widget-view+json": {
       "model_id": "c4453406d6834ebbbdcac51388eb7dfe",
       "version_major": 2,
       "version_minor": 0
      },
      "text/plain": [
       "  0%|          | 0/100 [00:00<?, ?%/s]"
      ]
     },
     "metadata": {},
     "output_type": "display_data"
    },
    {
     "name": "stderr",
     "output_type": "stream",
     "text": [
      "Simulation completed in 0.0684 seconds.\n"
     ]
    },
    {
     "data": {
      "application/vnd.jupyter.widget-view+json": {
       "model_id": "e19d19ef668b4bb1a7d39b34f808f7f7",
       "version_major": 2,
       "version_minor": 0
      },
      "text/plain": [
       "  0%|          | 0/100 [00:00<?, ?%/s]"
      ]
     },
     "metadata": {},
     "output_type": "display_data"
    },
    {
     "name": "stderr",
     "output_type": "stream",
     "text": [
      "Simulation completed in 0.0682 seconds.\n"
     ]
    },
    {
     "data": {
      "application/vnd.jupyter.widget-view+json": {
       "model_id": "85e366e2f81647e9a516c5cf11c1b8f9",
       "version_major": 2,
       "version_minor": 0
      },
      "text/plain": [
       "  0%|          | 0/100 [00:00<?, ?%/s]"
      ]
     },
     "metadata": {},
     "output_type": "display_data"
    },
    {
     "name": "stderr",
     "output_type": "stream",
     "text": [
      "Simulation completed in 0.0675 seconds.\n"
     ]
    },
    {
     "data": {
      "application/vnd.jupyter.widget-view+json": {
       "model_id": "60236ce72f5f4e4082b799fb41bea23a",
       "version_major": 2,
       "version_minor": 0
      },
      "text/plain": [
       "  0%|          | 0/100 [00:00<?, ?%/s]"
      ]
     },
     "metadata": {},
     "output_type": "display_data"
    },
    {
     "name": "stderr",
     "output_type": "stream",
     "text": [
      "Simulation completed in 0.0760 seconds.\n"
     ]
    },
    {
     "data": {
      "application/vnd.jupyter.widget-view+json": {
       "model_id": "f705c1a0f2594e49a9d77eb2cfb12725",
       "version_major": 2,
       "version_minor": 0
      },
      "text/plain": [
       "  0%|          | 0/100 [00:00<?, ?%/s]"
      ]
     },
     "metadata": {},
     "output_type": "display_data"
    },
    {
     "name": "stderr",
     "output_type": "stream",
     "text": [
      "Simulation completed in 0.0648 seconds.\n"
     ]
    },
    {
     "data": {
      "application/vnd.jupyter.widget-view+json": {
       "model_id": "cf40e9053dda422a840eb004d77670bd",
       "version_major": 2,
       "version_minor": 0
      },
      "text/plain": [
       "  0%|          | 0/100 [00:00<?, ?%/s]"
      ]
     },
     "metadata": {},
     "output_type": "display_data"
    },
    {
     "name": "stderr",
     "output_type": "stream",
     "text": [
      "Simulation completed in 0.0693 seconds.\n"
     ]
    },
    {
     "data": {
      "application/vnd.jupyter.widget-view+json": {
       "model_id": "450d46a197ad405da2955fd2b3320d96",
       "version_major": 2,
       "version_minor": 0
      },
      "text/plain": [
       "  0%|          | 0/100 [00:00<?, ?%/s]"
      ]
     },
     "metadata": {},
     "output_type": "display_data"
    },
    {
     "name": "stderr",
     "output_type": "stream",
     "text": [
      "Simulation completed in 0.0679 seconds.\n"
     ]
    },
    {
     "data": {
      "application/vnd.jupyter.widget-view+json": {
       "model_id": "1709d91c7b5d460194633b98f6f6ece7",
       "version_major": 2,
       "version_minor": 0
      },
      "text/plain": [
       "  0%|          | 0/100 [00:00<?, ?%/s]"
      ]
     },
     "metadata": {},
     "output_type": "display_data"
    },
    {
     "name": "stderr",
     "output_type": "stream",
     "text": [
      "Simulation completed in 0.0698 seconds.\n"
     ]
    },
    {
     "data": {
      "application/vnd.jupyter.widget-view+json": {
       "model_id": "36f7db6ef98b49a59cbda0412ea81f35",
       "version_major": 2,
       "version_minor": 0
      },
      "text/plain": [
       "  0%|          | 0/100 [00:00<?, ?%/s]"
      ]
     },
     "metadata": {},
     "output_type": "display_data"
    },
    {
     "name": "stderr",
     "output_type": "stream",
     "text": [
      "Simulation completed in 0.0657 seconds.\n"
     ]
    },
    {
     "data": {
      "application/vnd.jupyter.widget-view+json": {
       "model_id": "6cea209cd6724ff2bec9bc3ea34b6992",
       "version_major": 2,
       "version_minor": 0
      },
      "text/plain": [
       "  0%|          | 0/100 [00:00<?, ?%/s]"
      ]
     },
     "metadata": {},
     "output_type": "display_data"
    },
    {
     "name": "stderr",
     "output_type": "stream",
     "text": [
      "Simulation completed in 0.0753 seconds.\n"
     ]
    },
    {
     "data": {
      "application/vnd.jupyter.widget-view+json": {
       "model_id": "d6a8e763e5b144119b8649807245f123",
       "version_major": 2,
       "version_minor": 0
      },
      "text/plain": [
       "  0%|          | 0/100 [00:00<?, ?%/s]"
      ]
     },
     "metadata": {},
     "output_type": "display_data"
    },
    {
     "name": "stderr",
     "output_type": "stream",
     "text": [
      "Simulation completed in 0.0723 seconds.\n"
     ]
    },
    {
     "data": {
      "application/vnd.jupyter.widget-view+json": {
       "model_id": "71a29a8dbe5d41ff88fa532b1e67a69c",
       "version_major": 2,
       "version_minor": 0
      },
      "text/plain": [
       "  0%|          | 0/100 [00:00<?, ?%/s]"
      ]
     },
     "metadata": {},
     "output_type": "display_data"
    },
    {
     "name": "stderr",
     "output_type": "stream",
     "text": [
      "Simulation completed in 0.0695 seconds.\n"
     ]
    },
    {
     "data": {
      "application/vnd.jupyter.widget-view+json": {
       "model_id": "9e0b1048403b4cf18752ae3066b249f0",
       "version_major": 2,
       "version_minor": 0
      },
      "text/plain": [
       "  0%|          | 0/100 [00:00<?, ?%/s]"
      ]
     },
     "metadata": {},
     "output_type": "display_data"
    },
    {
     "name": "stderr",
     "output_type": "stream",
     "text": [
      "Simulation completed in 0.0721 seconds.\n"
     ]
    },
    {
     "data": {
      "application/vnd.jupyter.widget-view+json": {
       "model_id": "918845f8fc8544759f906aad1f968865",
       "version_major": 2,
       "version_minor": 0
      },
      "text/plain": [
       "  0%|          | 0/100 [00:00<?, ?%/s]"
      ]
     },
     "metadata": {},
     "output_type": "display_data"
    },
    {
     "name": "stderr",
     "output_type": "stream",
     "text": [
      "Simulation completed in 0.0713 seconds.\n"
     ]
    },
    {
     "data": {
      "application/vnd.jupyter.widget-view+json": {
       "model_id": "ae820ed82daf4f9d8e3d993de3e3eb3e",
       "version_major": 2,
       "version_minor": 0
      },
      "text/plain": [
       "  0%|          | 0/100 [00:00<?, ?%/s]"
      ]
     },
     "metadata": {},
     "output_type": "display_data"
    },
    {
     "name": "stderr",
     "output_type": "stream",
     "text": [
      "Simulation completed in 0.0738 seconds.\n"
     ]
    },
    {
     "data": {
      "application/vnd.jupyter.widget-view+json": {
       "model_id": "93fca99aaa8842c4b73aeee6aa9517e5",
       "version_major": 2,
       "version_minor": 0
      },
      "text/plain": [
       "  0%|          | 0/100 [00:00<?, ?%/s]"
      ]
     },
     "metadata": {},
     "output_type": "display_data"
    },
    {
     "name": "stderr",
     "output_type": "stream",
     "text": [
      "Simulation completed in 0.0770 seconds.\n"
     ]
    },
    {
     "data": {
      "application/vnd.jupyter.widget-view+json": {
       "model_id": "7050b243db944132b0ffaad0ee0b8ed7",
       "version_major": 2,
       "version_minor": 0
      },
      "text/plain": [
       "  0%|          | 0/100 [00:00<?, ?%/s]"
      ]
     },
     "metadata": {},
     "output_type": "display_data"
    },
    {
     "name": "stderr",
     "output_type": "stream",
     "text": [
      "Simulation completed in 0.0693 seconds.\n"
     ]
    },
    {
     "data": {
      "application/vnd.jupyter.widget-view+json": {
       "model_id": "a0470f681a1540bca5b777a257ec638a",
       "version_major": 2,
       "version_minor": 0
      },
      "text/plain": [
       "  0%|          | 0/100 [00:00<?, ?%/s]"
      ]
     },
     "metadata": {},
     "output_type": "display_data"
    },
    {
     "name": "stderr",
     "output_type": "stream",
     "text": [
      "Simulation completed in 0.0734 seconds.\n"
     ]
    },
    {
     "data": {
      "application/vnd.jupyter.widget-view+json": {
       "model_id": "7a93b5486a7c4d1c8cb7feb6c6941f2c",
       "version_major": 2,
       "version_minor": 0
      },
      "text/plain": [
       "  0%|          | 0/100 [00:00<?, ?%/s]"
      ]
     },
     "metadata": {},
     "output_type": "display_data"
    },
    {
     "name": "stderr",
     "output_type": "stream",
     "text": [
      "Simulation completed in 0.0732 seconds.\n"
     ]
    },
    {
     "data": {
      "application/vnd.jupyter.widget-view+json": {
       "model_id": "fe9df98e0f1046aa86a242fc25814f5a",
       "version_major": 2,
       "version_minor": 0
      },
      "text/plain": [
       "  0%|          | 0/100 [00:00<?, ?%/s]"
      ]
     },
     "metadata": {},
     "output_type": "display_data"
    },
    {
     "name": "stderr",
     "output_type": "stream",
     "text": [
      "Simulation completed in 0.0780 seconds.\n"
     ]
    },
    {
     "data": {
      "application/vnd.jupyter.widget-view+json": {
       "model_id": "af70c9cf146346dcb38452f16c100328",
       "version_major": 2,
       "version_minor": 0
      },
      "text/plain": [
       "  0%|          | 0/100 [00:00<?, ?%/s]"
      ]
     },
     "metadata": {},
     "output_type": "display_data"
    },
    {
     "name": "stderr",
     "output_type": "stream",
     "text": [
      "Simulation completed in 0.0760 seconds.\n"
     ]
    },
    {
     "data": {
      "application/vnd.jupyter.widget-view+json": {
       "model_id": "8bf0ee91e5de42a18df796b920c37464",
       "version_major": 2,
       "version_minor": 0
      },
      "text/plain": [
       "  0%|          | 0/100 [00:00<?, ?%/s]"
      ]
     },
     "metadata": {},
     "output_type": "display_data"
    },
    {
     "name": "stderr",
     "output_type": "stream",
     "text": [
      "Simulation completed in 0.0779 seconds.\n"
     ]
    },
    {
     "data": {
      "application/vnd.jupyter.widget-view+json": {
       "model_id": "902525f824d64b0587faa439361509dc",
       "version_major": 2,
       "version_minor": 0
      },
      "text/plain": [
       "  0%|          | 0/100 [00:00<?, ?%/s]"
      ]
     },
     "metadata": {},
     "output_type": "display_data"
    },
    {
     "name": "stderr",
     "output_type": "stream",
     "text": [
      "Simulation completed in 0.0764 seconds.\n"
     ]
    },
    {
     "data": {
      "application/vnd.jupyter.widget-view+json": {
       "model_id": "ced38e0fc74446f8a582bbd1b8542dbe",
       "version_major": 2,
       "version_minor": 0
      },
      "text/plain": [
       "  0%|          | 0/100 [00:00<?, ?%/s]"
      ]
     },
     "metadata": {},
     "output_type": "display_data"
    },
    {
     "name": "stderr",
     "output_type": "stream",
     "text": [
      "Simulation completed in 0.0735 seconds.\n"
     ]
    },
    {
     "data": {
      "application/vnd.jupyter.widget-view+json": {
       "model_id": "7d2e774a5387473e952648083b44a796",
       "version_major": 2,
       "version_minor": 0
      },
      "text/plain": [
       "  0%|          | 0/100 [00:00<?, ?%/s]"
      ]
     },
     "metadata": {},
     "output_type": "display_data"
    },
    {
     "name": "stderr",
     "output_type": "stream",
     "text": [
      "Simulation completed in 0.0709 seconds.\n"
     ]
    },
    {
     "data": {
      "application/vnd.jupyter.widget-view+json": {
       "model_id": "19db33300c3743da89aa5d30f62a2554",
       "version_major": 2,
       "version_minor": 0
      },
      "text/plain": [
       "  0%|          | 0/100 [00:00<?, ?%/s]"
      ]
     },
     "metadata": {},
     "output_type": "display_data"
    },
    {
     "name": "stderr",
     "output_type": "stream",
     "text": [
      "Simulation completed in 0.0750 seconds.\n"
     ]
    },
    {
     "data": {
      "application/vnd.jupyter.widget-view+json": {
       "model_id": "2085c633b93c44c3bf4c57d5c3b71895",
       "version_major": 2,
       "version_minor": 0
      },
      "text/plain": [
       "  0%|          | 0/100 [00:00<?, ?%/s]"
      ]
     },
     "metadata": {},
     "output_type": "display_data"
    },
    {
     "name": "stderr",
     "output_type": "stream",
     "text": [
      "Simulation completed in 0.0737 seconds.\n"
     ]
    },
    {
     "data": {
      "application/vnd.jupyter.widget-view+json": {
       "model_id": "68c41c15a74a42fba695bc0cf00c03eb",
       "version_major": 2,
       "version_minor": 0
      },
      "text/plain": [
       "  0%|          | 0/100 [00:00<?, ?%/s]"
      ]
     },
     "metadata": {},
     "output_type": "display_data"
    },
    {
     "name": "stderr",
     "output_type": "stream",
     "text": [
      "Simulation completed in 0.0723 seconds.\n"
     ]
    },
    {
     "data": {
      "application/vnd.jupyter.widget-view+json": {
       "model_id": "845d07e302ed4df997ceb56e6cfb4bed",
       "version_major": 2,
       "version_minor": 0
      },
      "text/plain": [
       "  0%|          | 0/100 [00:00<?, ?%/s]"
      ]
     },
     "metadata": {},
     "output_type": "display_data"
    },
    {
     "name": "stderr",
     "output_type": "stream",
     "text": [
      "Simulation completed in 0.0746 seconds.\n"
     ]
    },
    {
     "data": {
      "application/vnd.jupyter.widget-view+json": {
       "model_id": "bbc64ad7428a437aa433c53a203f8ffc",
       "version_major": 2,
       "version_minor": 0
      },
      "text/plain": [
       "  0%|          | 0/100 [00:00<?, ?%/s]"
      ]
     },
     "metadata": {},
     "output_type": "display_data"
    },
    {
     "name": "stderr",
     "output_type": "stream",
     "text": [
      "Simulation completed in 0.0752 seconds.\n"
     ]
    },
    {
     "data": {
      "application/vnd.jupyter.widget-view+json": {
       "model_id": "075df7ecddec4d618d8612d38ad7d263",
       "version_major": 2,
       "version_minor": 0
      },
      "text/plain": [
       "  0%|          | 0/100 [00:00<?, ?%/s]"
      ]
     },
     "metadata": {},
     "output_type": "display_data"
    },
    {
     "name": "stderr",
     "output_type": "stream",
     "text": [
      "Simulation completed in 0.0719 seconds.\n"
     ]
    },
    {
     "data": {
      "application/vnd.jupyter.widget-view+json": {
       "model_id": "8405b9e2ab86434880d85a288746137e",
       "version_major": 2,
       "version_minor": 0
      },
      "text/plain": [
       "  0%|          | 0/100 [00:00<?, ?%/s]"
      ]
     },
     "metadata": {},
     "output_type": "display_data"
    },
    {
     "name": "stderr",
     "output_type": "stream",
     "text": [
      "Simulation completed in 0.0752 seconds.\n"
     ]
    },
    {
     "data": {
      "application/vnd.jupyter.widget-view+json": {
       "model_id": "1f887d27cba24b808d3419e2d2e71113",
       "version_major": 2,
       "version_minor": 0
      },
      "text/plain": [
       "  0%|          | 0/100 [00:00<?, ?%/s]"
      ]
     },
     "metadata": {},
     "output_type": "display_data"
    },
    {
     "name": "stderr",
     "output_type": "stream",
     "text": [
      "Simulation completed in 0.0773 seconds.\n"
     ]
    },
    {
     "data": {
      "application/vnd.jupyter.widget-view+json": {
       "model_id": "61d8a33570124b30841ecfdc95bd2f4c",
       "version_major": 2,
       "version_minor": 0
      },
      "text/plain": [
       "  0%|          | 0/100 [00:00<?, ?%/s]"
      ]
     },
     "metadata": {},
     "output_type": "display_data"
    },
    {
     "name": "stderr",
     "output_type": "stream",
     "text": [
      "Simulation completed in 0.0766 seconds.\n"
     ]
    },
    {
     "data": {
      "application/vnd.jupyter.widget-view+json": {
       "model_id": "d7a60e7990974957bfcb84fdf7a24300",
       "version_major": 2,
       "version_minor": 0
      },
      "text/plain": [
       "  0%|          | 0/100 [00:00<?, ?%/s]"
      ]
     },
     "metadata": {},
     "output_type": "display_data"
    },
    {
     "name": "stderr",
     "output_type": "stream",
     "text": [
      "Simulation completed in 0.0732 seconds.\n"
     ]
    },
    {
     "data": {
      "application/vnd.jupyter.widget-view+json": {
       "model_id": "ba9461b9d12c4eddbedb991b778b5f2f",
       "version_major": 2,
       "version_minor": 0
      },
      "text/plain": [
       "  0%|          | 0/100 [00:00<?, ?%/s]"
      ]
     },
     "metadata": {},
     "output_type": "display_data"
    },
    {
     "name": "stderr",
     "output_type": "stream",
     "text": [
      "Simulation completed in 0.0813 seconds.\n"
     ]
    },
    {
     "data": {
      "application/vnd.jupyter.widget-view+json": {
       "model_id": "eefd133797104a6a908659d2c8e88b3e",
       "version_major": 2,
       "version_minor": 0
      },
      "text/plain": [
       "  0%|          | 0/100 [00:00<?, ?%/s]"
      ]
     },
     "metadata": {},
     "output_type": "display_data"
    },
    {
     "name": "stderr",
     "output_type": "stream",
     "text": [
      "Simulation completed in 0.0862 seconds.\n"
     ]
    },
    {
     "data": {
      "application/vnd.jupyter.widget-view+json": {
       "model_id": "02e74d760eae4736aa2472098670a8f1",
       "version_major": 2,
       "version_minor": 0
      },
      "text/plain": [
       "  0%|          | 0/100 [00:00<?, ?%/s]"
      ]
     },
     "metadata": {},
     "output_type": "display_data"
    },
    {
     "name": "stderr",
     "output_type": "stream",
     "text": [
      "Simulation completed in 0.0732 seconds.\n"
     ]
    },
    {
     "data": {
      "application/vnd.jupyter.widget-view+json": {
       "model_id": "c35dddf80b0d48c1a352cbbecf407452",
       "version_major": 2,
       "version_minor": 0
      },
      "text/plain": [
       "  0%|          | 0/100 [00:00<?, ?%/s]"
      ]
     },
     "metadata": {},
     "output_type": "display_data"
    },
    {
     "name": "stderr",
     "output_type": "stream",
     "text": [
      "Simulation completed in 0.0719 seconds.\n"
     ]
    },
    {
     "data": {
      "application/vnd.jupyter.widget-view+json": {
       "model_id": "92fd1c9860e846628b8641276e8c9af2",
       "version_major": 2,
       "version_minor": 0
      },
      "text/plain": [
       "  0%|          | 0/100 [00:00<?, ?%/s]"
      ]
     },
     "metadata": {},
     "output_type": "display_data"
    },
    {
     "name": "stderr",
     "output_type": "stream",
     "text": [
      "Simulation completed in 0.0721 seconds.\n"
     ]
    },
    {
     "data": {
      "application/vnd.jupyter.widget-view+json": {
       "model_id": "b15482ac6012442a82c101672b50f7bd",
       "version_major": 2,
       "version_minor": 0
      },
      "text/plain": [
       "  0%|          | 0/100 [00:00<?, ?%/s]"
      ]
     },
     "metadata": {},
     "output_type": "display_data"
    },
    {
     "name": "stderr",
     "output_type": "stream",
     "text": [
      "Simulation completed in 0.0745 seconds.\n"
     ]
    },
    {
     "data": {
      "application/vnd.jupyter.widget-view+json": {
       "model_id": "a80f487f6d324bb9939f5a972aabe9aa",
       "version_major": 2,
       "version_minor": 0
      },
      "text/plain": [
       "  0%|          | 0/100 [00:00<?, ?%/s]"
      ]
     },
     "metadata": {},
     "output_type": "display_data"
    },
    {
     "name": "stderr",
     "output_type": "stream",
     "text": [
      "Simulation completed in 0.0729 seconds.\n"
     ]
    },
    {
     "data": {
      "application/vnd.jupyter.widget-view+json": {
       "model_id": "7ad11514ad53420f965a1f35eabc4a52",
       "version_major": 2,
       "version_minor": 0
      },
      "text/plain": [
       "  0%|          | 0/100 [00:00<?, ?%/s]"
      ]
     },
     "metadata": {},
     "output_type": "display_data"
    },
    {
     "name": "stderr",
     "output_type": "stream",
     "text": [
      "Simulation completed in 0.0687 seconds.\n"
     ]
    },
    {
     "data": {
      "application/vnd.jupyter.widget-view+json": {
       "model_id": "6415d211c9534e6d8e389c091073f583",
       "version_major": 2,
       "version_minor": 0
      },
      "text/plain": [
       "  0%|          | 0/100 [00:00<?, ?%/s]"
      ]
     },
     "metadata": {},
     "output_type": "display_data"
    },
    {
     "name": "stderr",
     "output_type": "stream",
     "text": [
      "Simulation completed in 0.0739 seconds.\n"
     ]
    },
    {
     "data": {
      "application/vnd.jupyter.widget-view+json": {
       "model_id": "5d7a0d6a89bd4f5c9b973584d608b686",
       "version_major": 2,
       "version_minor": 0
      },
      "text/plain": [
       "  0%|          | 0/100 [00:00<?, ?%/s]"
      ]
     },
     "metadata": {},
     "output_type": "display_data"
    },
    {
     "name": "stderr",
     "output_type": "stream",
     "text": [
      "Simulation completed in 0.0730 seconds.\n"
     ]
    },
    {
     "data": {
      "application/vnd.jupyter.widget-view+json": {
       "model_id": "7ab97daabd284fca9925e578c701eec0",
       "version_major": 2,
       "version_minor": 0
      },
      "text/plain": [
       "  0%|          | 0/100 [00:00<?, ?%/s]"
      ]
     },
     "metadata": {},
     "output_type": "display_data"
    },
    {
     "name": "stderr",
     "output_type": "stream",
     "text": [
      "Simulation completed in 0.0717 seconds.\n"
     ]
    },
    {
     "data": {
      "application/vnd.jupyter.widget-view+json": {
       "model_id": "a47fa24da3dc4b1181a3e89c2043abfd",
       "version_major": 2,
       "version_minor": 0
      },
      "text/plain": [
       "  0%|          | 0/100 [00:00<?, ?%/s]"
      ]
     },
     "metadata": {},
     "output_type": "display_data"
    },
    {
     "name": "stderr",
     "output_type": "stream",
     "text": [
      "Simulation completed in 0.0772 seconds.\n"
     ]
    },
    {
     "data": {
      "application/vnd.jupyter.widget-view+json": {
       "model_id": "e0ff4824a8804053a6e9934c09671d47",
       "version_major": 2,
       "version_minor": 0
      },
      "text/plain": [
       "  0%|          | 0/100 [00:00<?, ?%/s]"
      ]
     },
     "metadata": {},
     "output_type": "display_data"
    },
    {
     "name": "stderr",
     "output_type": "stream",
     "text": [
      "Simulation completed in 0.0733 seconds.\n"
     ]
    },
    {
     "data": {
      "application/vnd.jupyter.widget-view+json": {
       "model_id": "fe57d3e7b49b4ddeb8134b2edbe18721",
       "version_major": 2,
       "version_minor": 0
      },
      "text/plain": [
       "  0%|          | 0/100 [00:00<?, ?%/s]"
      ]
     },
     "metadata": {},
     "output_type": "display_data"
    },
    {
     "name": "stderr",
     "output_type": "stream",
     "text": [
      "Simulation completed in 0.0719 seconds.\n"
     ]
    },
    {
     "data": {
      "application/vnd.jupyter.widget-view+json": {
       "model_id": "f4a3cea7cf17457193fa9e8ff9aa7de0",
       "version_major": 2,
       "version_minor": 0
      },
      "text/plain": [
       "  0%|          | 0/100 [00:00<?, ?%/s]"
      ]
     },
     "metadata": {},
     "output_type": "display_data"
    },
    {
     "name": "stderr",
     "output_type": "stream",
     "text": [
      "Simulation completed in 0.0741 seconds.\n"
     ]
    },
    {
     "data": {
      "application/vnd.jupyter.widget-view+json": {
       "model_id": "7ae5000802f046c6a95cf4ff47347384",
       "version_major": 2,
       "version_minor": 0
      },
      "text/plain": [
       "  0%|          | 0/100 [00:00<?, ?%/s]"
      ]
     },
     "metadata": {},
     "output_type": "display_data"
    },
    {
     "name": "stderr",
     "output_type": "stream",
     "text": [
      "Simulation completed in 0.0724 seconds.\n"
     ]
    },
    {
     "data": {
      "application/vnd.jupyter.widget-view+json": {
       "model_id": "40e5be8343364767845f2ac7b66f0d87",
       "version_major": 2,
       "version_minor": 0
      },
      "text/plain": [
       "  0%|          | 0/100 [00:00<?, ?%/s]"
      ]
     },
     "metadata": {},
     "output_type": "display_data"
    },
    {
     "name": "stderr",
     "output_type": "stream",
     "text": [
      "Simulation completed in 0.0698 seconds.\n"
     ]
    },
    {
     "data": {
      "application/vnd.jupyter.widget-view+json": {
       "model_id": "c5da71e876f247f8a380de4e46ab21a6",
       "version_major": 2,
       "version_minor": 0
      },
      "text/plain": [
       "  0%|          | 0/100 [00:00<?, ?%/s]"
      ]
     },
     "metadata": {},
     "output_type": "display_data"
    },
    {
     "name": "stderr",
     "output_type": "stream",
     "text": [
      "Simulation completed in 0.0694 seconds.\n"
     ]
    },
    {
     "data": {
      "application/vnd.jupyter.widget-view+json": {
       "model_id": "7866c86f8e824a99a6ee826f23d5d26f",
       "version_major": 2,
       "version_minor": 0
      },
      "text/plain": [
       "  0%|          | 0/100 [00:00<?, ?%/s]"
      ]
     },
     "metadata": {},
     "output_type": "display_data"
    },
    {
     "name": "stderr",
     "output_type": "stream",
     "text": [
      "Simulation completed in 0.0724 seconds.\n"
     ]
    },
    {
     "data": {
      "application/vnd.jupyter.widget-view+json": {
       "model_id": "e1671d1501094e4ebc604f15fc957e29",
       "version_major": 2,
       "version_minor": 0
      },
      "text/plain": [
       "  0%|          | 0/100 [00:00<?, ?%/s]"
      ]
     },
     "metadata": {},
     "output_type": "display_data"
    },
    {
     "name": "stderr",
     "output_type": "stream",
     "text": [
      "Simulation completed in 0.0721 seconds.\n"
     ]
    },
    {
     "data": {
      "application/vnd.jupyter.widget-view+json": {
       "model_id": "3ffaddfdfcaf4beaaf3c3fd60dcc97de",
       "version_major": 2,
       "version_minor": 0
      },
      "text/plain": [
       "  0%|          | 0/100 [00:00<?, ?%/s]"
      ]
     },
     "metadata": {},
     "output_type": "display_data"
    },
    {
     "name": "stderr",
     "output_type": "stream",
     "text": [
      "Simulation completed in 0.0735 seconds.\n"
     ]
    },
    {
     "data": {
      "application/vnd.jupyter.widget-view+json": {
       "model_id": "f252eb15f17449f1998e1858370fc513",
       "version_major": 2,
       "version_minor": 0
      },
      "text/plain": [
       "  0%|          | 0/100 [00:00<?, ?%/s]"
      ]
     },
     "metadata": {},
     "output_type": "display_data"
    },
    {
     "name": "stderr",
     "output_type": "stream",
     "text": [
      "Simulation completed in 0.0719 seconds.\n"
     ]
    },
    {
     "data": {
      "application/vnd.jupyter.widget-view+json": {
       "model_id": "11189666c8fe4c6580a0c675e675aba0",
       "version_major": 2,
       "version_minor": 0
      },
      "text/plain": [
       "  0%|          | 0/100 [00:00<?, ?%/s]"
      ]
     },
     "metadata": {},
     "output_type": "display_data"
    },
    {
     "name": "stderr",
     "output_type": "stream",
     "text": [
      "Simulation completed in 0.0705 seconds.\n"
     ]
    },
    {
     "data": {
      "application/vnd.jupyter.widget-view+json": {
       "model_id": "b01e676fccfd4c80b0c2d732f0210195",
       "version_major": 2,
       "version_minor": 0
      },
      "text/plain": [
       "  0%|          | 0/100 [00:00<?, ?%/s]"
      ]
     },
     "metadata": {},
     "output_type": "display_data"
    },
    {
     "name": "stderr",
     "output_type": "stream",
     "text": [
      "Simulation completed in 0.0723 seconds.\n"
     ]
    },
    {
     "data": {
      "application/vnd.jupyter.widget-view+json": {
       "model_id": "283259a89b3a48ac9e2661fc16e81dfd",
       "version_major": 2,
       "version_minor": 0
      },
      "text/plain": [
       "  0%|          | 0/100 [00:00<?, ?%/s]"
      ]
     },
     "metadata": {},
     "output_type": "display_data"
    },
    {
     "name": "stderr",
     "output_type": "stream",
     "text": [
      "Simulation completed in 0.0724 seconds.\n"
     ]
    },
    {
     "data": {
      "application/vnd.jupyter.widget-view+json": {
       "model_id": "1753ed976331478b8758bfcaf526e0fe",
       "version_major": 2,
       "version_minor": 0
      },
      "text/plain": [
       "  0%|          | 0/100 [00:00<?, ?%/s]"
      ]
     },
     "metadata": {},
     "output_type": "display_data"
    },
    {
     "name": "stderr",
     "output_type": "stream",
     "text": [
      "Simulation completed in 0.0720 seconds.\n"
     ]
    },
    {
     "data": {
      "application/vnd.jupyter.widget-view+json": {
       "model_id": "aea70f62515f446485be50b75b19277a",
       "version_major": 2,
       "version_minor": 0
      },
      "text/plain": [
       "  0%|          | 0/100 [00:00<?, ?%/s]"
      ]
     },
     "metadata": {},
     "output_type": "display_data"
    },
    {
     "name": "stderr",
     "output_type": "stream",
     "text": [
      "Simulation completed in 0.0700 seconds.\n"
     ]
    },
    {
     "data": {
      "application/vnd.jupyter.widget-view+json": {
       "model_id": "cb260a44953046d9a45006b66a2b02f3",
       "version_major": 2,
       "version_minor": 0
      },
      "text/plain": [
       "  0%|          | 0/100 [00:00<?, ?%/s]"
      ]
     },
     "metadata": {},
     "output_type": "display_data"
    },
    {
     "name": "stderr",
     "output_type": "stream",
     "text": [
      "Simulation completed in 0.0706 seconds.\n"
     ]
    },
    {
     "data": {
      "application/vnd.jupyter.widget-view+json": {
       "model_id": "21c6b8b497f948fe877268aae98a50a3",
       "version_major": 2,
       "version_minor": 0
      },
      "text/plain": [
       "  0%|          | 0/100 [00:00<?, ?%/s]"
      ]
     },
     "metadata": {},
     "output_type": "display_data"
    },
    {
     "name": "stderr",
     "output_type": "stream",
     "text": [
      "Simulation completed in 0.0693 seconds.\n"
     ]
    },
    {
     "data": {
      "application/vnd.jupyter.widget-view+json": {
       "model_id": "8d7ae6846c254fb3ba067f880c3208a9",
       "version_major": 2,
       "version_minor": 0
      },
      "text/plain": [
       "  0%|          | 0/100 [00:00<?, ?%/s]"
      ]
     },
     "metadata": {},
     "output_type": "display_data"
    },
    {
     "name": "stderr",
     "output_type": "stream",
     "text": [
      "Simulation completed in 0.0788 seconds.\n"
     ]
    },
    {
     "data": {
      "application/vnd.jupyter.widget-view+json": {
       "model_id": "90e848215a9641a595f647e8d07136f3",
       "version_major": 2,
       "version_minor": 0
      },
      "text/plain": [
       "  0%|          | 0/100 [00:00<?, ?%/s]"
      ]
     },
     "metadata": {},
     "output_type": "display_data"
    },
    {
     "name": "stderr",
     "output_type": "stream",
     "text": [
      "Simulation completed in 0.0715 seconds.\n"
     ]
    },
    {
     "data": {
      "application/vnd.jupyter.widget-view+json": {
       "model_id": "ab9af4a0ffcf45048ea8109f7afa4648",
       "version_major": 2,
       "version_minor": 0
      },
      "text/plain": [
       "  0%|          | 0/100 [00:00<?, ?%/s]"
      ]
     },
     "metadata": {},
     "output_type": "display_data"
    },
    {
     "name": "stderr",
     "output_type": "stream",
     "text": [
      "Simulation completed in 0.0764 seconds.\n"
     ]
    },
    {
     "data": {
      "application/vnd.jupyter.widget-view+json": {
       "model_id": "5b4a43b9d19e4c388d161c7c72aad709",
       "version_major": 2,
       "version_minor": 0
      },
      "text/plain": [
       "  0%|          | 0/100 [00:00<?, ?%/s]"
      ]
     },
     "metadata": {},
     "output_type": "display_data"
    },
    {
     "name": "stderr",
     "output_type": "stream",
     "text": [
      "Simulation completed in 0.0690 seconds.\n"
     ]
    },
    {
     "data": {
      "application/vnd.jupyter.widget-view+json": {
       "model_id": "97addda68ebd43a4a8901ebc983743eb",
       "version_major": 2,
       "version_minor": 0
      },
      "text/plain": [
       "  0%|          | 0/100 [00:00<?, ?%/s]"
      ]
     },
     "metadata": {},
     "output_type": "display_data"
    },
    {
     "name": "stderr",
     "output_type": "stream",
     "text": [
      "Simulation completed in 0.0683 seconds.\n"
     ]
    },
    {
     "data": {
      "application/vnd.jupyter.widget-view+json": {
       "model_id": "715951d6898a4c6f8a9ebaf9974e94f9",
       "version_major": 2,
       "version_minor": 0
      },
      "text/plain": [
       "  0%|          | 0/100 [00:00<?, ?%/s]"
      ]
     },
     "metadata": {},
     "output_type": "display_data"
    },
    {
     "name": "stderr",
     "output_type": "stream",
     "text": [
      "Simulation completed in 0.0697 seconds.\n"
     ]
    },
    {
     "data": {
      "application/vnd.jupyter.widget-view+json": {
       "model_id": "b484d502b3454c3490284cd453768870",
       "version_major": 2,
       "version_minor": 0
      },
      "text/plain": [
       "  0%|          | 0/100 [00:00<?, ?%/s]"
      ]
     },
     "metadata": {},
     "output_type": "display_data"
    },
    {
     "name": "stderr",
     "output_type": "stream",
     "text": [
      "Simulation completed in 0.0688 seconds.\n"
     ]
    },
    {
     "data": {
      "application/vnd.jupyter.widget-view+json": {
       "model_id": "9a7672987fc7442aa1c1dcee95a904bc",
       "version_major": 2,
       "version_minor": 0
      },
      "text/plain": [
       "  0%|          | 0/100 [00:00<?, ?%/s]"
      ]
     },
     "metadata": {},
     "output_type": "display_data"
    },
    {
     "name": "stderr",
     "output_type": "stream",
     "text": [
      "Simulation completed in 0.0718 seconds.\n"
     ]
    },
    {
     "data": {
      "application/vnd.jupyter.widget-view+json": {
       "model_id": "6122c2e0c5ae44b4bb65b5cf446d86c3",
       "version_major": 2,
       "version_minor": 0
      },
      "text/plain": [
       "  0%|          | 0/100 [00:00<?, ?%/s]"
      ]
     },
     "metadata": {},
     "output_type": "display_data"
    },
    {
     "name": "stderr",
     "output_type": "stream",
     "text": [
      "Simulation completed in 0.0687 seconds.\n"
     ]
    },
    {
     "data": {
      "application/vnd.jupyter.widget-view+json": {
       "model_id": "12722e32c799444e8a3925b5b3e731e0",
       "version_major": 2,
       "version_minor": 0
      },
      "text/plain": [
       "  0%|          | 0/100 [00:00<?, ?%/s]"
      ]
     },
     "metadata": {},
     "output_type": "display_data"
    },
    {
     "name": "stderr",
     "output_type": "stream",
     "text": [
      "Simulation completed in 0.0699 seconds.\n"
     ]
    },
    {
     "data": {
      "application/vnd.jupyter.widget-view+json": {
       "model_id": "a9a26dc8e55b4bb0b4db704d5cae7561",
       "version_major": 2,
       "version_minor": 0
      },
      "text/plain": [
       "  0%|          | 0/100 [00:00<?, ?%/s]"
      ]
     },
     "metadata": {},
     "output_type": "display_data"
    },
    {
     "name": "stderr",
     "output_type": "stream",
     "text": [
      "Simulation completed in 0.0695 seconds.\n"
     ]
    },
    {
     "data": {
      "application/vnd.jupyter.widget-view+json": {
       "model_id": "9eb054d321854479b0b54eaf50217ced",
       "version_major": 2,
       "version_minor": 0
      },
      "text/plain": [
       "  0%|          | 0/100 [00:00<?, ?%/s]"
      ]
     },
     "metadata": {},
     "output_type": "display_data"
    },
    {
     "name": "stderr",
     "output_type": "stream",
     "text": [
      "Simulation completed in 0.0676 seconds.\n"
     ]
    }
   ],
   "source": [
    "# Reserve some capacity to avoid TDS crush\n",
    "ssp.gen.max_p_mw = ssp.gen.max_p_mw * 0.98\n",
    "\n",
    "# store original generator data\n",
    "ssp_gen0 = ssp.gen.copy()\n",
    "\n",
    "for end_time in range(t_total): # t_total\n",
    "    # --- interval RTED ---\n",
    "    if end_time % intv_ed == 0:\n",
    "        idx_ed = end_time // intv_ed\n",
    "        # --- Load update ---\n",
    "        du, dd, load_exp = dp_calc(d_syn, idx_ed, intv_ed, ssa_p0_sum)\n",
    "        ssp.load['p_mw'] = ssa_p0 * load_exp * ssp.sn_mva\n",
    "        ssp.load['q_mvar'] = ssa_q0 * load_exp * ssp.sn_mva\n",
    "\n",
    "        # --- RTED, update gen limits after SFR ---\n",
    "        ssd = rted(ssp)\n",
    "        if end_time > 0:\n",
    "            # TODO: INPUT ramp limits data\n",
    "            rampu = [100] * ssd.gendata.shape[0]\n",
    "            rampd = [100] * ssd.gendata.shape[0]\n",
    "            p_pre = get_pe(ssa, ssa_syg_idx, ssa_dg_idx, ssa_key2) # generator outpus from TDS\n",
    "        else:\n",
    "            rampu = [100] * ssd.gendata.shape[0]\n",
    "            rampd = [100] * ssd.gendata.shape[0]\n",
    "            # DCOPF results as the initial previous setpoints\n",
    "            p_pre = list(ssp.res_gen.p_mw / ssp.sn_mva)\n",
    "\n",
    "        # TODO: INPUT cost and ramp, ramp should be p.u.\n",
    "        ssd.def_ps(c_ru=[], c_rd=[], rampu=[], rampd=[])\n",
    "\n",
    "        # def sfr requirements and ev sfr limtis (p.u.)\n",
    "        # TODO: Integrate EV; EV limits FROM EV; now set 0 to disable EV SFR\n",
    "        ssd.def_var(ptotal=ssa_p0_sum * load_exp,\n",
    "                    dpd_u=du, dpd_d=dd, p_pre=p_pre,\n",
    "                    gen=['gen5'], pru_max=[0], prd_max=[0])\n",
    "\n",
    "        # build and solve the RTED-DC\n",
    "        ssd.build()\n",
    "        res = ssd.mdl.optimize()\n",
    "\n",
    "        dcres = ssd.get_dcres()  # get RTED-DC resutls\n",
    "        # TODO: Integrate EV; send SFR back to EV\n",
    "\n",
    "        # Reserve SFR and ramp from Generator limits in ``ssp``\n",
    "        ssp_gen = pd.merge(left=ssp.gen.rename(columns={'name':'stg_idx'}),\n",
    "                           right=dcres, on='stg_idx', how='left')\n",
    "        # SFR limits\n",
    "        ssp_gen['max_sfr'] = ssp_gen.max_p_mw - ssp_gen.pru * ssp.sn_mva\n",
    "        ssp_gen['min_sfr'] = ssp_gen.min_p_mw + ssp_gen.prd * ssp.sn_mva\n",
    "        # ramp limits\n",
    "        ssp_gen['max_ramp'] = ssp.sn_mva * (np.array(p_pre) + np.array(rampu))\n",
    "        ssp_gen['min_ramp'] = ssp.sn_mva * (np.array(p_pre) - np.array(rampd))\n",
    "        # alter generator limits\n",
    "        ssp.gen.max_p_mw = ssp_gen[['max_sfr','max_ramp']].min(axis=1)\n",
    "        ssp.gen.min_p_mw = ssp_gen[['min_sfr','min_ramp']].max(axis=1)\n",
    "\n",
    "        # --- ACOPF, update setpoints ---\n",
    "        # store setpoints\n",
    "        if end_time > 0:\n",
    "            popf0 = ssp_res['p']  # save the previous dispatch results\n",
    "            pe0 = get_pe(ssa, ssa_syg_idx, ssa_dg_idx, ssa_key2)  # generator output from TDS\n",
    "\n",
    "        # run ACOPF\n",
    "        ssp_res = runopp_map(ssp, ssa_key)  # ACOPF resutls\n",
    "        popf = ssp_res.p                    # store setpoints\n",
    "        ssp_res.fillna(False, inplace=True) # Fill NA wil False\n",
    "\n",
    "        # reset Generator limtis\n",
    "        ssp.gen.max_p_mw = ssp_gen0.max_p_mw\n",
    "        ssp.gen.min_p_mw = ssp_gen0.min_p_mw\n",
    "\n",
    "    # --- interval AGC ---\n",
    "    ace_gain = 1\n",
    "    if end_time % intv_agc == 0:\n",
    "        idx_agc = end_time // intv_agc - idx_ed * n_agc\n",
    "        # --- AGC allocation, with a power cap ---\n",
    "        ACE_input = min(ACE_raw, dcres.pru.sum())\n",
    "        if ACE_raw >= 0:\n",
    "            ACE_input = min(ACE_raw, dcres.pru.sum())\n",
    "            agc_table['paux'] = ACE_input * ace_gain * dcres.bu.values\n",
    "        else:\n",
    "            ACE_input = max(ACE_raw, -1 * dcres.prd.sum())\n",
    "            agc_table['paux'] = ACE_input * ace_gain * dcres.bd.values\n",
    "\n",
    "        # --- Do AGC ---\n",
    "        # a.SynGen\n",
    "        agc_syg = pd.merge(left=agc_table,\n",
    "                           right=ssa_key2,\n",
    "                           on='stg_idx', how='right')\n",
    "        agc_syg.paux2 = agc_syg.paux * agc_syg.gammap\n",
    "        cond_gov = agc_syg.ctrl * agc_syg.gov_idx.astype(bool)\n",
    "        agc_gov = agc_syg.gov_idx[cond_gov].tolist()\n",
    "        ssa.TurbineGov.set(src='paux0', idx=agc_gov, attr='v',\n",
    "                           value=agc_syg.paux2.values)\n",
    "        # b.DG\n",
    "        agc_dg = pd.merge(left=agc_table,\n",
    "                          right=ssa_key2,\n",
    "                          on='stg_idx', how='right')\n",
    "        agc_dg.paux2 = agc_dg.paux * agc_dg.gammap\n",
    "        cond_dg = agc_dg.ctrl * agc_dg.dg_idx.astype(bool)\n",
    "        agc_dg_idx = agc_dg.dg_idx[cond_dg].tolist()\n",
    "        ssa.DG.set(src='pext0', idx=agc_dg_idx, attr='v',\n",
    "                           value=agc_dg.paux2.values)\n",
    "        \n",
    "        # --- smooth setpoints ---\n",
    "        if idx_ed == 0:\n",
    "            ssp_res['pref'] = popf\n",
    "        else:\n",
    "            idx_step = min((end_time - idx_ed * intv_ed) // intv_agc + 1, n_step)\n",
    "            # if run into error, replace pe0 with popf0\n",
    "            ssp_res['pref'] = popf + (popf - pe0) / n_step * idx_step\n",
    "        # update SynGen setpoints\n",
    "        cond_gov = ssp_res.controllable * ssp_res.gov_idx.astype(bool)\n",
    "        ssa.TurbineGov.set(src='pref0', idx=ssp_res.gov_idx[cond_gov].tolist(),\n",
    "                           attr='v', value=ssp_res.pref[cond_gov].values)\n",
    "        # update DG setpoints\n",
    "        cond_dg = ssp_res.controllable * ssp_res.dg_idx.astype(bool)\n",
    "        ssa.DG.set(src='pref0', idx=ssp_res.dg_idx[cond_dg].tolist(),\n",
    "                   attr='v', value=ssp_res.pref[cond_dg].values)\n",
    "\n",
    "    # --- intv_pq: alter load, run TDS ---\n",
    "    if end_time == 0:\n",
    "        # Initially, alter StaticGen: p0 and q0, RUN power flow\n",
    "        stg_opf_idx = ssp_res.stg_idx[ssp_res.controllable].tolist()\n",
    "        stg_opf_val = ssp_res.p[ssp_res.controllable].tolist()\n",
    "        ssa.StaticGen.set(src='p0', idx=stg_opf_idx, attr='v', value=stg_opf_val)\n",
    "        ssa.PQ.set(src='p0', idx=ssa_pq_idx, attr='v',\n",
    "                   value=ssa_p0 * d_syn['s10'].iloc[end_time])\n",
    "        ssa.PQ.set(src='q0', idx=ssa_pq_idx, attr='v',\n",
    "                   value=ssa_q0 * d_syn['s10'].iloc[end_time])\n",
    "        ssa.PFlow.run()\n",
    "    else:\n",
    "        # Otherwise, alter Ppf and Qpf\n",
    "        ssa.PQ.set(src='Ppf', idx=ssa_pq_idx, attr='v',\n",
    "                    value=ssa_p0 * d_syn['s10'].iloc[end_time])\n",
    "        ssa.PQ.set(src='Qpf', idx=ssa_pq_idx, attr='v',\n",
    "                    value=ssa_q0 * d_syn['s10'].iloc[end_time])\n",
    "\n",
    "    # RUN TDS\n",
    "    ssa.TDS.config.tf = end_time\n",
    "    ssa.TDS.run()\n",
    "    # ACE calculation\n",
    "    ACE_integral = ACE_integral + ssa.ACEc.ace.v.sum()\n",
    "    ACE_raw = -(Kp*ssa.ACEc.ace.v.sum() + Ki*ACE_integral)\n",
    "\n",
    "    # ACE_raw = 0  # delete when run TDS\n",
    "    # break loop if TDS run into error\n",
    "    if ssa.exit_code != 0:\n",
    "        raise ValueError(f\"TDS error! Exit with {ssa.exit_code}, end at {end_time}s.\")"
   ]
  },
  {
   "cell_type": "code",
   "execution_count": 18,
   "metadata": {},
   "outputs": [
    {
     "data": {
      "text/plain": [
       "[Text(0.5, 51.00000000000006, 'Deviation [p.u.]'),\n",
       " Text(446.23636363636354, 0.5, '')]"
      ]
     },
     "execution_count": 18,
     "metadata": {},
     "output_type": "execute_result"
    },
    {
     "data": {
      "image/png": "[encoded data removed]",
      "text/plain": [
       "<Figure size 864x576 with 4 Axes>"
      ]
     },
     "metadata": {
      "needs_background": "light"
     },
     "output_type": "display_data"
    }
   ],
   "source": [
    "color=['tab:blue', 'tab:orange', 'tab:green',\n",
    "       'tab:red', 'tab:purple']\n",
    "right=end_time\n",
    "\n",
    "fig_gen, ax_gen = plt.subplots(2, 2, figsize=(12, 8))\n",
    "plt.subplots_adjust(left=None, bottom=None, right=None, top=None, wspace=None, hspace=0.35)\n",
    "\n",
    "yheader=['GEN 1', 'GEN 2', 'GEN 3', 'GEN 4', 'GEN 5']\n",
    "\n",
    "ssa.TDS.plt.plot(ssa.TGOV1N.pout,\n",
    "                 linestyles=['-'],\n",
    "                   yheader=yheader, color=color,\n",
    "                   legend=True, show=False, right=right,\n",
    "                   title=r'Generation (solid: pout; dash: pref)',\n",
    "                   ylabel='p.u.',\n",
    "                   fig=fig_gen, ax=ax_gen[0, 0])\n",
    "\n",
    "ssa.TDS.plt.plot(ssa.TGOV1N.pref,\n",
    "                 legend=False, show=False, right=right,\n",
    "                   linestyles=['--'],\n",
    "                   color=color,\n",
    "                   fig=fig_gen, ax=ax_gen[0, 0])\n",
    "\n",
    "ssa.TDS.plt.plot(ssa.TGOV1N.paux,\n",
    "                linestyles=['-'],\n",
    "                yheader=yheader, color=color,\n",
    "                legend=False, show=False, right=right,\n",
    "                title=r'AGC power',\n",
    "                ylabel='p.u.',\n",
    "                fig=fig_gen, ax=ax_gen[0, 1])\n",
    "\n",
    "ssa.TDS.plt.plot(ssa.COI.omega,\n",
    "                 legend=False, show=False, right=right,\n",
    "                 linestyles=['-'],\n",
    "                 ytimes=60,\n",
    "                 title=r'COI Frequency',\n",
    "                 ylabel='Hz',\n",
    "                 fig=fig_gen, ax=ax_gen[1, 0])\n",
    "\n",
    "font = {'family' : 'TimesNewRoma',\n",
    "        'weight' : '1',\n",
    "        'size'   : 12}\n",
    "\n",
    "plt.rc('font', **font)\n",
    "\n",
    "ace_tds = ssa.dae.ts.y[:, ssa.ACEc.ace.a].reshape(-1).copy()\n",
    "ace_df = pd.DataFrame()\n",
    "ace_df['ace'] = ace_tds\n",
    "ace_df.plot(kind='kde', legend=False, linewidth=1,\n",
    "            fig=fig_gen, ax=ax_gen[1, 1],\n",
    "            title=f'ACE Density, mean={ace_df.ace.mean().round(4)}')\n",
    "ax_gen[1, 1].set(xlabel='Deviation [p.u.]', ylabel='')"
   ]
  }
 ],
 "metadata": {
  "interpreter": {
   "hash": "b1e368b1d2ca574a59ba26b0fa9d68a1b1a89bb0ecca26237e963f08092745f3"
  },
  "kernelspec": {
   "display_name": "Python 3 (ipykernel)",
   "language": "python",
   "name": "python3"
  },
  "language_info": {
   "codemirror_mode": {
    "name": "ipython",
    "version": 3
   },
   "file_extension": ".py",
   "mimetype": "text/x-python",
   "name": "python",
   "nbconvert_exporter": "python",
   "pygments_lexer": "ipython3",
   "version": "3.7.10"
  },
  "varInspector": {
   "cols": {
    "lenName": 16,
    "lenType": 16,
    "lenVar": 40
   },
   "kernels_config": {
    "python": {
     "delete_cmd_postfix": "",
     "delete_cmd_prefix": "del ",
     "library": "var_list.py",
     "varRefreshCmd": "print(var_dic_list())"
    },
    "r": {
     "delete_cmd_postfix": ") ",
     "delete_cmd_prefix": "rm(",
     "library": "var_list.r",
     "varRefreshCmd": "cat(var_dic_list()) "
    }
   },
   "types_to_exclude": [
    "module",
    "function",
    "builtin_function_or_method",
    "instance",
    "_Feature"
   ],
   "window_display": false
  }
 },
 "nbformat": 4,
 "nbformat_minor": 4
}
