{
 "cells": [
  {
   "cell_type": "code",
   "execution_count": 1,
   "metadata": {},
   "outputs": [],
   "source": [
    "import andes\n",
    "andes.config_logger(stream_level=20)\n",
    "\n",
    "import os"
   ]
  },
  {
   "cell_type": "markdown",
   "metadata": {},
   "source": [
    "Find the approriate load scaling factor"
   ]
  },
  {
   "cell_type": "code",
   "execution_count": 2,
   "metadata": {},
   "outputs": [
    {
     "name": "stderr",
     "output_type": "stream",
     "text": [
      "Working directory: \"/Users/jinningwang/Documents/work/andes/jwang/notes\"\n",
      "> Loaded config from file \"/Users/jinningwang/.andes/andes.rc\"\n",
      "> Loaded generated Python code in \"/Users/jinningwang/.andes/pycode\".\n",
      "Parsing input file \"/Users/jinningwang/Documents/work/andes/jwang/case/ieee39_ev2.xlsx\"...\n",
      "Input file parsed in 0.3203 seconds.\n",
      "ACEc <1> added BusFreq <BusFreq_11> linked to bus <1>\n",
      "System internal structure set up in 0.0237 seconds.\n"
     ]
    }
   ],
   "source": [
    "dir_path = os.path.abspath('..')\n",
    "case_path = '/case/ieee39_ev2.xlsx'\n",
    "case = dir_path + case_path\n",
    "ssa = andes.load(case,\n",
    "                 setup=True,\n",
    "                 no_output=True,\n",
    "                 default_config=False)"
   ]
  },
  {
   "cell_type": "code",
   "execution_count": 3,
   "metadata": {},
   "outputs": [
    {
     "name": "stdout",
     "output_type": "stream",
     "text": [
      "StatigGen.p0.sum()= 58.932563789999996\n",
      "PQ.p0.sum()= 58.564\n",
      "PQ.q0.sum()= 17.345000000000002\n"
     ]
    }
   ],
   "source": [
    "# --- Generation ---\n",
    "stg_idx = ssa.PV.idx.v + ssa.Slack.idx.v\n",
    "stg_p0 = ssa.StaticGen.get(src='p0', idx=stg_idx, attr='v')\n",
    "print('StatigGen.p0.sum()=',stg_p0.sum())\n",
    "\n",
    "# --- Load ---\n",
    "pq_p0 = ssa.PQ.get(src='p0', idx=ssa.PQ.idx.v, attr='v')\n",
    "pq_q0 = ssa.PQ.get(src='q0', idx=ssa.PQ.idx.v, attr='v')\n",
    "print('PQ.p0.sum()=',pq_p0.sum())\n",
    "print('PQ.q0.sum()=',pq_q0.sum())"
   ]
  },
  {
   "cell_type": "markdown",
   "metadata": {},
   "source": [
    "ieee39_b:\n",
    "\n",
    "k: [1, 1.4], ok\n",
    "\n",
    "ieee39_ev:\n",
    "\n",
    "k: [1, 1.4], ok\n",
    "\n",
    "\n",
    "ieee39_ev, add GEN min:\n",
    "\n",
    "k: [1, 1.4], ok"
   ]
  },
  {
   "cell_type": "code",
   "execution_count": 4,
   "metadata": {},
   "outputs": [
    {
     "name": "stdout",
     "output_type": "stream",
     "text": [
      "PQ.p0.sum()= 58.564\n",
      "PQ.q0.sum()= 17.345000000000002\n"
     ]
    }
   ],
   "source": [
    "# --- load scale ---\n",
    "k=1.0\n",
    "ssa.PQ.set(src='p0', idx=ssa.PQ.idx.v, attr='v',\n",
    "            value=pq_p0 * k)\n",
    "ssa.PQ.set(src='q0', idx=ssa.PQ.idx.v, attr='v',\n",
    "           value=pq_q0 * k)\n",
    "\n",
    "pq_p = ssa.PQ.get(src='p0', idx=ssa.PQ.idx.v, attr='v')\n",
    "pq_q = ssa.PQ.get(src='q0', idx=ssa.PQ.idx.v, attr='v')\n",
    "print('PQ.p0.sum()=',pq_p.sum())\n",
    "print('PQ.q0.sum()=',pq_q.sum())"
   ]
  },
  {
   "cell_type": "code",
   "execution_count": 5,
   "metadata": {},
   "outputs": [
    {
     "name": "stderr",
     "output_type": "stream",
     "text": [
      "-> System connectivity check results:\n",
      "  No islanded bus detected.\n",
      "  System is interconnected.\n",
      "  Each island has a slack bus correctly defined and enabled.\n",
      "\n",
      "-> Power flow calculation\n",
      "           Numba: On\n",
      "   Sparse solver: KLU\n",
      " Solution method: NR method\n",
      "Numba compilation initiated with caching.\n",
      "Power flow initialized in 0.3040 seconds.\n",
      "0: |F(x)| = 7.561234474\n",
      "1: |F(x)| = 2.916785548\n",
      "2: |F(x)| = 0.1314169328\n",
      "3: |F(x)| = 0.0003491192315\n",
      "4: |F(x)| = 4.240441775e-09\n",
      "Converged in 5 iterations in 0.0039 seconds.\n",
      "\n",
      "-> Time Domain Simulation Summary:\n",
      "Sparse Solver: KLU\n",
      "Simulation time: 0.0-20.0 s.\n",
      "Fixed step size: h=33.33 ms. Shrink if not converged.\n",
      "Numba compilation initiated with caching.\n",
      "GENROU (xl <= xd2) out of typical upper limit.\n",
      "\n",
      "   idx     | values | limit\n",
      "-----------+--------+------\n",
      " GENROU_1  | 0.012  | 0.001\n",
      " GENROU_2  | 0.042  | 0.036\n",
      " GENROU_3  | 0.036  | 0.003\n",
      " GENROU_4  | 0.025  | 0.001\n",
      " GENROU_5  | 0.050  | 0.001\n",
      " GENROU_7  | 0.031  | 0.002\n",
      " GENROU_8  | 0.029  | 0.006\n",
      " GENROU_9  | 0.018  | 0.001\n",
      " GENROU_10 | 0.003  | 0.000\n",
      "\n",
      "\n",
      "Initialization for dynamics completed in 0.1758 seconds.\n",
      "Initialization was successful.\n"
     ]
    },
    {
     "data": {
      "application/vnd.jupyter.widget-view+json": {
       "model_id": "e9813856cbe445368165111134651960",
       "version_major": 2,
       "version_minor": 0
      },
      "text/plain": [
       "  0%|          | 0/100 [00:00<?, ?%/s]"
      ]
     },
     "metadata": {},
     "output_type": "display_data"
    },
    {
     "name": "stderr",
     "output_type": "stream",
     "text": [
      "Simulation completed in 0.5399 seconds.\n"
     ]
    },
    {
     "data": {
      "text/plain": [
       "True"
      ]
     },
     "execution_count": 5,
     "metadata": {},
     "output_type": "execute_result"
    }
   ],
   "source": [
    "ssa.PFlow.run()\n",
    "ssa.TDS.run()"
   ]
  },
  {
   "cell_type": "code",
   "execution_count": 7,
   "metadata": {},
   "outputs": [
    {
     "data": {
      "image/png": "[encoded data removed]",
      "text/plain": [
       "<Figure size 480x320 with 1 Axes>"
      ]
     },
     "metadata": {
      "needs_background": "light"
     },
     "output_type": "display_data"
    },
    {
     "data": {
      "image/png": "[encoded data removed]",
      "text/plain": [
       "<Figure size 480x320 with 1 Axes>"
      ]
     },
     "metadata": {
      "needs_background": "light"
     },
     "output_type": "display_data"
    },
    {
     "data": {
      "text/plain": [
       "(<Figure size 480x320 with 1 Axes>, <AxesSubplot:xlabel='Time [s]'>)"
      ]
     },
     "execution_count": 7,
     "metadata": {},
     "output_type": "execute_result"
    }
   ],
   "source": [
    "Ipout = -1 * ssa.dae.ts.x[:, ssa.EV2.Ipout_y.a]\n",
    "v = ssa.dae.ts.y[:, ssa.EV2.v.a]\n",
    "p_ev = Ipout * v\n",
    "ssa.TDS.plt.plot_data(ssa.dae.ts.t, p_ev,\n",
    "                      yheader=['EV1 load'], ylable='p.u.')\n",
    "ssa.TDS.plt.plot(ssa.GENROU.Pe)"
   ]
  }
 ],
 "metadata": {
  "interpreter": {
   "hash": "ef6cb5c8d99d66a3614f491d51fd40cd94c9138687df3d2045e3a510da5efc66"
  },
  "kernelspec": {
   "display_name": "Python 3.9.12 ('andes')",
   "language": "python",
   "name": "python3"
  },
  "language_info": {
   "codemirror_mode": {
    "name": "ipython",
    "version": 3
   },
   "file_extension": ".py",
   "mimetype": "text/x-python",
   "name": "python",
   "nbconvert_exporter": "python",
   "pygments_lexer": "ipython3",
   "version": "3.9.12"
  },
  "orig_nbformat": 4
 },
 "nbformat": 4,
 "nbformat_minor": 2
}
