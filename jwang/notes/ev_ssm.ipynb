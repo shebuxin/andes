{
 "cells": [
  {
   "cell_type": "markdown",
   "metadata": {},
   "source": [
    "# EV SSM Model\n",
    "\n",
    "This  notebook is used to reproduce the State Space Model of aggregateed EV for frequency regulation.\n",
    "\n",
    "Running on Jinning's local machine, in the env \"ev\"."
   ]
  },
  {
   "cell_type": "markdown",
   "metadata": {},
   "source": [
    "Working notes:\n",
    "\n",
    "02/06/2022: the EV data generation is completed. It looks weired, we may need update it later on.\n"
   ]
  },
  {
   "cell_type": "code",
   "execution_count": 2,
   "metadata": {},
   "outputs": [
    {
     "name": "stdout",
     "output_type": "stream",
     "text": [
      "ANDES Version: 1.5.10.post8.dev0+g8a4acd78\n"
     ]
    }
   ],
   "source": [
    "import andes\n",
    "import pandas as pd\n",
    "import numpy as np\n",
    "import scipy.stats as stats\n",
    "import matplotlib.pyplot as plt\n",
    "\n",
    "print(f\"ANDES Version: {andes.__version__}\")"
   ]
  },
  {
   "cell_type": "markdown",
   "metadata": {},
   "source": [
    "## EV data"
   ]
  },
  {
   "cell_type": "markdown",
   "metadata": {},
   "source": [
    "### Define parameters\n",
    "\n",
    "The EV parameters are defined as two types. Type I follows uniform distribution, which is stored in a Dict `ev_param`. Type II follows normal distribution, which is stored in a pd.DataFrame `ev_pdf`.\n",
    "\n",
    "The data are cited from:\n",
    "\n",
    "M. Wang et al., \"State Space Model of Aggregated Electric Vehicles for Frequency Regulation,\" in IEEE Transactions on Smart Grid, vol. 11, no. 2, pp. 981-994, March 2020, doi: 10.1109/TSG.2019.2929052."
   ]
  },
  {
   "cell_type": "code",
   "execution_count": 3,
   "metadata": {},
   "outputs": [
    {
     "name": "stdout",
     "output_type": "stream",
     "text": [
      "SoC are seperated into Ns(=20) intervals:\n",
      "{0: [0.0, 0.05], 1: [0.05, 0.1], 2: [0.1, 0.15], 3: [0.15, 0.2], 4: [0.2, 0.25], 5: [0.25, 0.3], 6: [0.3, 0.35], 7: [0.35, 0.4], 8: [0.4, 0.45], 9: [0.45, 0.5], 10: [0.5, 0.55], 11: [0.55, 0.6], 12: [0.6, 0.65], 13: [0.65, 0.7], 14: [0.7, 0.75], 15: [0.75, 0.8], 16: [0.8, 0.85], 17: [0.85, 0.9], 18: [0.9, 0.95], 19: [0.95, 1.0]}\n",
      "Parameters that follow a normal distribution is stored in ``ev_pdf``:\n"
     ]
    },
    {
     "data": {
      "text/html": [
       "<div>\n",
       "<style scoped>\n",
       "    .dataframe tbody tr th:only-of-type {\n",
       "        vertical-align: middle;\n",
       "    }\n",
       "\n",
       "    .dataframe tbody tr th {\n",
       "        vertical-align: top;\n",
       "    }\n",
       "\n",
       "    .dataframe thead th {\n",
       "        text-align: right;\n",
       "    }\n",
       "</style>\n",
       "<table border=\"1\" class=\"dataframe\">\n",
       "  <thead>\n",
       "    <tr style=\"text-align: right;\">\n",
       "      <th></th>\n",
       "      <th>soci</th>\n",
       "      <th>socd</th>\n",
       "      <th>ti1</th>\n",
       "      <th>ti2</th>\n",
       "      <th>tf1</th>\n",
       "      <th>tf2</th>\n",
       "    </tr>\n",
       "  </thead>\n",
       "  <tbody>\n",
       "    <tr>\n",
       "      <th>mean</th>\n",
       "      <td>0.3</td>\n",
       "      <td>0.8</td>\n",
       "      <td>-6.5</td>\n",
       "      <td>17.5</td>\n",
       "      <td>8.9</td>\n",
       "      <td>32.9</td>\n",
       "    </tr>\n",
       "    <tr>\n",
       "      <th>var</th>\n",
       "      <td>0.05</td>\n",
       "      <td>0.03</td>\n",
       "      <td>3.4</td>\n",
       "      <td>3.4</td>\n",
       "      <td>3.4</td>\n",
       "      <td>3.4</td>\n",
       "    </tr>\n",
       "    <tr>\n",
       "      <th>lb</th>\n",
       "      <td>0.2</td>\n",
       "      <td>0.7</td>\n",
       "      <td>0.0</td>\n",
       "      <td>5.5</td>\n",
       "      <td>0.0</td>\n",
       "      <td>20.9</td>\n",
       "    </tr>\n",
       "    <tr>\n",
       "      <th>ub</th>\n",
       "      <td>0.4</td>\n",
       "      <td>0.9</td>\n",
       "      <td>5.5</td>\n",
       "      <td>24.0</td>\n",
       "      <td>20.9</td>\n",
       "      <td>24.0</td>\n",
       "    </tr>\n",
       "    <tr>\n",
       "      <th>comment</th>\n",
       "      <td>initial SoC</td>\n",
       "      <td>demanded SoC</td>\n",
       "      <td>start charging time 1</td>\n",
       "      <td>start charging time 2</td>\n",
       "      <td>finish charging time 1</td>\n",
       "      <td>finish charging time 2</td>\n",
       "    </tr>\n",
       "  </tbody>\n",
       "</table>\n",
       "</div>"
      ],
      "text/plain": [
       "                soci          socd                    ti1  \\\n",
       "mean             0.3           0.8                   -6.5   \n",
       "var             0.05          0.03                    3.4   \n",
       "lb               0.2           0.7                    0.0   \n",
       "ub               0.4           0.9                    5.5   \n",
       "comment  initial SoC  demanded SoC  start charging time 1   \n",
       "\n",
       "                           ti2                     tf1                     tf2  \n",
       "mean                      17.5                     8.9                    32.9  \n",
       "var                        3.4                     3.4                     3.4  \n",
       "lb                         5.5                     0.0                    20.9  \n",
       "ub                        24.0                    20.9                    24.0  \n",
       "comment  start charging time 2  finish charging time 1  finish charging time 2  "
      ]
     },
     "execution_count": 3,
     "metadata": {},
     "output_type": "execute_result"
    }
   ],
   "source": [
    "#  rated charging/discharging power, charging/discharging efficiency, battery capacity follow uniform distribution\n",
    "ev_param = dict(\n",
    "  N=10000,      # Number of EV\n",
    "  Ns=20,        # Number of SoC intervals\n",
    "  Pl = 5.0,     # Rated charging/discharging power (kW) lower bound\n",
    "  Pu = 7.0,     # Rated charging/discharging power (kW) upper bound\n",
    "  nl = 0.88,    # charging/discharging efficiency lower bound\n",
    "  nu = 0.95,    # charging/discharging efficiency upper bound\n",
    "  Ql = 20.0,    # Battery capacity (kWh) lower bound\n",
    "  Qu = 30.0,    # Battery capacity (kWh) upper bound\n",
    "  socl = 0,     # Minimum SoC value\n",
    "  socu= 1,      # Maximum SoC value\n",
    ")\n",
    "\n",
    "#  soc intervals\n",
    "unit = ev_param['socu']/ev_param['Ns']\n",
    "intv = {}\n",
    "decimal = 4\n",
    "for i in range(ev_param['Ns']):\n",
    "    intv_single = [np.around(i*unit, decimal), np.around((i+1)*unit, decimal)]\n",
    "    intv[i] = intv_single\n",
    "print(f\"SoC are seperated into Ns(={ev_param['Ns']}) intervals:\")\n",
    "print(intv)\n",
    "\n",
    "#  others follow normal distribution\n",
    "ev_pdf_name = ['soci', 'socd', 'ti1', 'ti2', 'tf1', 'tf2']\n",
    "ev_pdf_data = {\n",
    "    'mean':     [0.3, 0.8, -6.5, 17.5, 8.9, 32.9],\n",
    "    'var':      [0.05, 0.03, 3.4, 3.4, 3.4, 3.4],\n",
    "    'lb':       [0.2, 0.7, 0.0, 5.5, 0.0, 20.9],\n",
    "    'ub':       [0.4, 0.9, 5.5, 24.0, 20.9, 24.0],\n",
    "    'comment':  ['initial SoC', 'demanded SoC', 'start charging time 1', 'start charging time 2',\n",
    "                 'finish charging time 1', 'finish charging time 2'],\n",
    "    }\n",
    "ev_pdf = pd.DataFrame(data = ev_pdf_data, index =ev_pdf_name).transpose()\n",
    "print(\"Parameters that follow a normal distribution is stored in ``ev_pdf``:\")\n",
    "ev_pdf"
   ]
  },
  {
   "cell_type": "markdown",
   "metadata": {},
   "source": [
    "### Generate EV dataset\n",
    "\n",
    "The generated EV data are stored in a pd.DataFrame ``ev_data``:\n",
    "\n",
    "| Parameter | Definition                      |\n",
    "|-----------|---------------------------------|\n",
    "| Pc/Pd     | charging/discharging rate       |\n",
    "| nc/nd     | charging/discharging efficiency |\n",
    "| Q         | capacity                        |\n",
    "| soci/socd | initial/demand SoC level        |\n",
    "| ti/tf     | start/finish time               |"
   ]
  },
  {
   "cell_type": "code",
   "execution_count": 4,
   "metadata": {},
   "outputs": [
    {
     "name": "stdout",
     "output_type": "stream",
     "text": [
      "Consistency check passed.\n"
     ]
    },
    {
     "data": {
      "text/html": [
       "<div>\n",
       "<style scoped>\n",
       "    .dataframe tbody tr th:only-of-type {\n",
       "        vertical-align: middle;\n",
       "    }\n",
       "\n",
       "    .dataframe tbody tr th {\n",
       "        vertical-align: top;\n",
       "    }\n",
       "\n",
       "    .dataframe thead th {\n",
       "        text-align: right;\n",
       "    }\n",
       "</style>\n",
       "<table border=\"1\" class=\"dataframe\">\n",
       "  <thead>\n",
       "    <tr style=\"text-align: right;\">\n",
       "      <th></th>\n",
       "      <th>Pc</th>\n",
       "      <th>Pd</th>\n",
       "      <th>nc</th>\n",
       "      <th>nd</th>\n",
       "      <th>Q</th>\n",
       "      <th>soci</th>\n",
       "      <th>socd</th>\n",
       "      <th>ti</th>\n",
       "      <th>tf</th>\n",
       "    </tr>\n",
       "  </thead>\n",
       "  <tbody>\n",
       "    <tr>\n",
       "      <th>0</th>\n",
       "      <td>6.211957</td>\n",
       "      <td>5.510671</td>\n",
       "      <td>0.906904</td>\n",
       "      <td>0.880400</td>\n",
       "      <td>21.677801</td>\n",
       "      <td>0.305890</td>\n",
       "      <td>0.818166</td>\n",
       "      <td>12.683174</td>\n",
       "      <td>23.807004</td>\n",
       "    </tr>\n",
       "    <tr>\n",
       "      <th>1</th>\n",
       "      <td>6.466739</td>\n",
       "      <td>6.283294</td>\n",
       "      <td>0.922561</td>\n",
       "      <td>0.918585</td>\n",
       "      <td>29.654122</td>\n",
       "      <td>0.312636</td>\n",
       "      <td>0.801906</td>\n",
       "      <td>0.411095</td>\n",
       "      <td>21.917349</td>\n",
       "    </tr>\n",
       "    <tr>\n",
       "      <th>2</th>\n",
       "      <td>5.277894</td>\n",
       "      <td>6.471517</td>\n",
       "      <td>0.900035</td>\n",
       "      <td>0.934780</td>\n",
       "      <td>23.550309</td>\n",
       "      <td>0.358089</td>\n",
       "      <td>0.755766</td>\n",
       "      <td>0.219800</td>\n",
       "      <td>13.185378</td>\n",
       "    </tr>\n",
       "    <tr>\n",
       "      <th>3</th>\n",
       "      <td>5.625346</td>\n",
       "      <td>6.125349</td>\n",
       "      <td>0.909166</td>\n",
       "      <td>0.942975</td>\n",
       "      <td>23.177159</td>\n",
       "      <td>0.281295</td>\n",
       "      <td>0.832347</td>\n",
       "      <td>1.398694</td>\n",
       "      <td>23.220399</td>\n",
       "    </tr>\n",
       "    <tr>\n",
       "      <th>4</th>\n",
       "      <td>6.994487</td>\n",
       "      <td>6.657985</td>\n",
       "      <td>0.916865</td>\n",
       "      <td>0.927107</td>\n",
       "      <td>22.621299</td>\n",
       "      <td>0.363501</td>\n",
       "      <td>0.807914</td>\n",
       "      <td>2.210912</td>\n",
       "      <td>23.611554</td>\n",
       "    </tr>\n",
       "  </tbody>\n",
       "</table>\n",
       "</div>"
      ],
      "text/plain": [
       "         Pc        Pd        nc        nd          Q      soci      socd  \\\n",
       "0  6.211957  5.510671  0.906904  0.880400  21.677801  0.305890  0.818166   \n",
       "1  6.466739  6.283294  0.922561  0.918585  29.654122  0.312636  0.801906   \n",
       "2  5.277894  6.471517  0.900035  0.934780  23.550309  0.358089  0.755766   \n",
       "3  5.625346  6.125349  0.909166  0.942975  23.177159  0.281295  0.832347   \n",
       "4  6.994487  6.657985  0.916865  0.927107  22.621299  0.363501  0.807914   \n",
       "\n",
       "          ti         tf  \n",
       "0  12.683174  23.807004  \n",
       "1   0.411095  21.917349  \n",
       "2   0.219800  13.185378  \n",
       "3   1.398694  23.220399  \n",
       "4   2.210912  23.611554  "
      ]
     },
     "execution_count": 4,
     "metadata": {},
     "output_type": "execute_result"
    }
   ],
   "source": [
    "#  store the EV data in a df\n",
    "ev_data = pd.DataFrame()\n",
    "\n",
    "np.random.seed(2021)  # set the random seed\n",
    "\n",
    "#  data from uniform distribution\n",
    "cols = ['Pc', 'Pd', 'nc', 'nd', 'Q']\n",
    "cols_bound = {\n",
    "    'Pc':   ['Pl', 'Pu'],\n",
    "    'Pd':   ['Pl', 'Pu'],\n",
    "    'nc':   ['nl', 'nu'],\n",
    "    'nd':   ['nl', 'nu'],\n",
    "    'Q':    ['Ql', 'Qu'],\n",
    "}\n",
    "\n",
    "for col in cols:\n",
    "    idxl = cols_bound[col][0]\n",
    "    idxh = cols_bound[col][1]\n",
    "    ev_data[col] = np.random.uniform(low=ev_param[idxl], high=ev_param[idxh], size=ev_param['N'])\n",
    "\n",
    "#  data from normal distribution\n",
    "for col in ev_pdf_name[0:2]:\n",
    "    ev_data[col] = stats.truncnorm(\n",
    "                    (ev_pdf[col]['lb'] - ev_pdf[col]['mean']) / ev_pdf[col]['var'], \n",
    "                    (ev_pdf[col]['ub'] - ev_pdf[col]['mean']) / ev_pdf[col]['var'],\n",
    "                    loc=ev_pdf[col]['mean'], scale=ev_pdf[col]['var']).rvs(ev_param['N'])\n",
    "\n",
    "#  data from ref1 is confusing, now data from ref2 is used. 02/06/2022\n",
    "\n",
    "#  data from ref1\n",
    "#  there are two types of ti/tf, ratio_t1 is used to control the proportion of ti1/tf1\n",
    "\n",
    "# initialization\n",
    "ratio_t1 = 0.5\n",
    "amt1 = int(ev_param['N']*ratio_t1)\n",
    "amt2 = ev_param['N'] - amt1\n",
    "col = 'ti1'\n",
    "ti1 = stats.truncnorm(\n",
    "                (ev_pdf[col]['lb'] - ev_pdf[col]['mean']) / ev_pdf[col]['var'], \n",
    "                (ev_pdf[col]['ub'] - ev_pdf[col]['mean']) / ev_pdf[col]['var'],\n",
    "                loc=ev_pdf[col]['mean'], scale=ev_pdf[col]['var']).rvs(amt1)\n",
    "col = 'tf1'\n",
    "tf1 = stats.truncnorm(\n",
    "                (ev_pdf[col]['lb'] - ev_pdf[col]['mean']) / ev_pdf[col]['var'], \n",
    "                (ev_pdf[col]['ub'] - ev_pdf[col]['mean']) / ev_pdf[col]['var'],\n",
    "                loc=ev_pdf[col]['mean'], scale=ev_pdf[col]['var']).rvs(amt1)\n",
    "col = 'ti2'\n",
    "ti2 = stats.truncnorm(\n",
    "                (ev_pdf[col]['lb'] - ev_pdf[col]['mean']) / ev_pdf[col]['var'], \n",
    "                (ev_pdf[col]['ub'] - ev_pdf[col]['mean']) / ev_pdf[col]['var'],\n",
    "                loc=ev_pdf[col]['mean'], scale=ev_pdf[col]['var']).rvs(amt2)\n",
    "col = 'tf2'\n",
    "tf2 = stats.truncnorm(\n",
    "                (ev_pdf[col]['lb'] - ev_pdf[col]['mean']) / ev_pdf[col]['var'], \n",
    "                (ev_pdf[col]['ub'] - ev_pdf[col]['mean']) / ev_pdf[col]['var'],\n",
    "                loc=ev_pdf[col]['mean'], scale=ev_pdf[col]['var']).rvs(amt2)\n",
    "\n",
    "ti = np.concatenate((ti1, ti2))\n",
    "tf = np.concatenate((tf1, tf2))\n",
    "np.random.shuffle(ti)\n",
    "np.random.shuffle(tf)\n",
    "\n",
    "ev_data['ti'] = ti\n",
    "ev_data['tf'] = tf\n",
    "\n",
    "# while loop\n",
    "ncount = 0\n",
    "bad_amount = ev_data[ev_data['ti'] > ev_data['tf']].shape[0]\n",
    "while ncount < 100 and bad_amount > 0:\n",
    "    ncount += 1\n",
    "    # print(f\"Loop {ncount}\")\n",
    "    amt1 = int(bad_amount * ratio_t1)\n",
    "    amt2 = bad_amount - amt1\n",
    "\n",
    "    col = 'ti1'\n",
    "    ti1 = stats.truncnorm(\n",
    "                    (ev_pdf[col]['lb'] - ev_pdf[col]['mean']) / ev_pdf[col]['var'], \n",
    "                    (ev_pdf[col]['ub'] - ev_pdf[col]['mean']) / ev_pdf[col]['var'],\n",
    "                    loc=ev_pdf[col]['mean'], scale=ev_pdf[col]['var']).rvs(amt1)\n",
    "    col = 'tf1'\n",
    "    tf1 = stats.truncnorm(\n",
    "                    (ev_pdf[col]['lb'] - ev_pdf[col]['mean']) / ev_pdf[col]['var'], \n",
    "                    (ev_pdf[col]['ub'] - ev_pdf[col]['mean']) / ev_pdf[col]['var'],\n",
    "                    loc=ev_pdf[col]['mean'], scale=ev_pdf[col]['var']).rvs(amt1)\n",
    "    col = 'ti2'\n",
    "    ti2 = stats.truncnorm(\n",
    "                    (ev_pdf[col]['lb'] - ev_pdf[col]['mean']) / ev_pdf[col]['var'], \n",
    "                    (ev_pdf[col]['ub'] - ev_pdf[col]['mean']) / ev_pdf[col]['var'],\n",
    "                    loc=ev_pdf[col]['mean'], scale=ev_pdf[col]['var']).rvs(amt2)\n",
    "    col = 'tf2'\n",
    "    tf2 = stats.truncnorm(\n",
    "                    (ev_pdf[col]['lb'] - ev_pdf[col]['mean']) / ev_pdf[col]['var'], \n",
    "                    (ev_pdf[col]['ub'] - ev_pdf[col]['mean']) / ev_pdf[col]['var'],\n",
    "                    loc=ev_pdf[col]['mean'], scale=ev_pdf[col]['var']).rvs(amt2)\n",
    "    \n",
    "    ti = np.concatenate((ti1, ti2))\n",
    "    tf = np.concatenate((tf1, tf2))\n",
    "    np.random.shuffle(ti)\n",
    "    np.random.shuffle(tf)\n",
    "\n",
    "    old_idx = ev_data['ti'][ev_data['ti'] > ev_data['tf']].index\n",
    "    ev_data['ti'][old_idx] = ti\n",
    "    ev_data['tf'][old_idx] = tf\n",
    "\n",
    "    bad_amount = ev_data[ev_data['ti'] > ev_data['tf']].shape[0]\n",
    "\n",
    "#  data consistance check:\n",
    "#  1) soci <= socd; 2) ti <= tf\n",
    "cond1 = ev_data[ev_data['soci'] > ev_data['socd']].shape[0] == 0\n",
    "cond2 = ev_data[ev_data['ti'] > ev_data['tf']].shape[0] == 0\n",
    "if cond1 and cond2:\n",
    "    print(\"Consistency check passed.\")\n",
    "\n",
    "#  sample data\n",
    "ev_data.head()"
   ]
  },
  {
   "cell_type": "markdown",
   "metadata": {},
   "source": [
    "### Examine EV data\n",
    "\n",
    "The data looks unreasonable for now, may need to update the data set. But we can continue with it for now."
   ]
  },
  {
   "cell_type": "code",
   "execution_count": null,
   "metadata": {},
   "outputs": [],
   "source": []
  },
  {
   "cell_type": "code",
   "execution_count": 7,
   "metadata": {},
   "outputs": [
    {
     "data": {
      "image/png": "[encoded data removed]",
      "image/svg+xml": "<?xml version=\"1.0\" encoding=\"utf-8\" standalone=\"no\"?>\n<!DOCTYPE svg PUBLIC \"-//W3C//DTD SVG 1.1//EN\"\n  \"http://www.w3.org/Graphics/SVG/1.1/DTD/svg11.dtd\">\n<svg xmlns:xlink=\"http://www.w3.org/1999/xlink\" width=\"385.477897pt\" height=\"248.518125pt\" viewBox=\"0 0 385.477897 248.518125\" xmlns=\"http://www.w3.org/2000/svg\" version=\"1.1\">\n <metadata>\n  <rdf:RDF xmlns:dc=\"http://purl.org/dc/elements/1.1/\" xmlns:cc=\"http://creativecommons.org/ns#\" xmlns:rdf=\"http://www.w3.org/1999/02/22-rdf-syntax-ns#\">\n   <cc:Work>\n    <dc:type rdf:resource=\"http://purl.org/dc/dcmitype/StillImage\"/>\n    <dc:date>2022-02-06T21:27:40.887004</dc:date>\n    <dc:format>image/svg+xml</dc:format>\n    <dc:creator>\n     <cc:Agent>\n      <dc:title>Matplotlib v3.5.1, https://matplotlib.org/</dc:title>\n     </cc:Agent>\n    </dc:creator>\n   </cc:Work>\n  </rdf:RDF>\n </metadata>\n <defs>\n  <style type=\"text/css\">*{stroke-linejoin: round; stroke-linecap: butt}</style>\n </defs>\n <g id=\"figure_1\">\n  <g id=\"patch_1\">\n   <path d=\"M -0 248.518125 \nL 385.477897 248.518125 \nL 385.477897 0 \nL -0 0 \nL -0 248.518125 \nz\n\" style=\"fill: none\"/>\n  </g>\n  <g id=\"axes_1\">\n   <g id=\"patch_2\">\n    <path d=\"M 39.65 224.64 \nL 374.45 224.64 \nL 374.45 7.2 \nL 39.65 7.2 \nz\n\" style=\"fill: #ffffff\"/>\n   </g>\n   <g id=\"patch_3\">\n    <path d=\"M 54.868182 224.64 \nL 84.819491 224.64 \nL 84.819491 37.999796 \nL 54.868182 37.999796 \nz\n\" clip-path=\"url(#pdbd0267078)\" style=\"fill: #1f77b4\"/>\n   </g>\n   <g id=\"patch_4\">\n    <path d=\"M 84.819491 224.64 \nL 114.7708 224.64 \nL 114.7708 192.539883 \nL 84.819491 192.539883 \nz\n\" clip-path=\"url(#pdbd0267078)\" style=\"fill: #1f77b4\"/>\n   </g>\n   <g id=\"patch_5\">\n    <path d=\"M 114.7708 224.64 \nL 144.72211 224.64 \nL 144.72211 222.608769 \nL 114.7708 222.608769 \nz\n\" clip-path=\"url(#pdbd0267078)\" style=\"fill: #1f77b4\"/>\n   </g>\n   <g id=\"patch_6\">\n    <path d=\"M 144.72211 224.64 \nL 174.673419 224.64 \nL 174.673419 223.241447 \nL 144.72211 223.241447 \nz\n\" clip-path=\"url(#pdbd0267078)\" style=\"fill: #1f77b4\"/>\n   </g>\n   <g id=\"patch_7\">\n    <path d=\"M 174.673419 224.64 \nL 204.624728 224.64 \nL 204.624728 219.31218 \nL 174.673419 219.31218 \nz\n\" clip-path=\"url(#pdbd0267078)\" style=\"fill: #1f77b4\"/>\n   </g>\n   <g id=\"patch_8\">\n    <path d=\"M 204.624728 224.64 \nL 234.576038 224.64 \nL 234.576038 210.254885 \nL 204.624728 210.254885 \nz\n\" clip-path=\"url(#pdbd0267078)\" style=\"fill: #1f77b4\"/>\n   </g>\n   <g id=\"patch_9\">\n    <path d=\"M 234.576038 224.64 \nL 264.527347 224.64 \nL 264.527347 196.835438 \nL 234.576038 196.835438 \nz\n\" clip-path=\"url(#pdbd0267078)\" style=\"fill: #1f77b4\"/>\n   </g>\n   <g id=\"patch_10\">\n    <path d=\"M 264.527347 224.64 \nL 294.478656 224.64 \nL 294.478656 193.605447 \nL 264.527347 193.605447 \nz\n\" clip-path=\"url(#pdbd0267078)\" style=\"fill: #1f77b4\"/>\n   </g>\n   <g id=\"patch_11\">\n    <path d=\"M 294.478656 224.64 \nL 324.429966 224.64 \nL 324.429966 201.397384 \nL 294.478656 201.397384 \nz\n\" clip-path=\"url(#pdbd0267078)\" style=\"fill: #1f77b4\"/>\n   </g>\n   <g id=\"patch_12\">\n    <path d=\"M 324.429966 224.64 \nL 354.381275 224.64 \nL 354.381275 215.616004 \nL 324.429966 215.616004 \nz\n\" clip-path=\"url(#pdbd0267078)\" style=\"fill: #1f77b4\"/>\n   </g>\n   <g id=\"patch_13\">\n    <path d=\"M 58.586018 224.64 \nL 88.650598 224.64 \nL 88.650598 222.242481 \nL 58.586018 222.242481 \nz\n\" clip-path=\"url(#pdbd0267078)\" style=\"fill: #ff7f0e\"/>\n   </g>\n   <g id=\"patch_14\">\n    <path d=\"M 88.650598 224.64 \nL 118.715178 224.64 \nL 118.715178 215.715901 \nL 88.650598 215.715901 \nz\n\" clip-path=\"url(#pdbd0267078)\" style=\"fill: #ff7f0e\"/>\n   </g>\n   <g id=\"patch_15\">\n    <path d=\"M 118.715178 224.64 \nL 148.779758 224.64 \nL 148.779758 200.964499 \nL 118.715178 200.964499 \nz\n\" clip-path=\"url(#pdbd0267078)\" style=\"fill: #ff7f0e\"/>\n   </g>\n   <g id=\"patch_16\">\n    <path d=\"M 148.779758 224.64 \nL 178.844338 224.64 \nL 178.844338 193.405654 \nL 148.779758 193.405654 \nz\n\" clip-path=\"url(#pdbd0267078)\" style=\"fill: #ff7f0e\"/>\n   </g>\n   <g id=\"patch_17\">\n    <path d=\"M 178.844338 224.64 \nL 208.908918 224.64 \nL 208.908918 198.933267 \nL 178.844338 198.933267 \nz\n\" clip-path=\"url(#pdbd0267078)\" style=\"fill: #ff7f0e\"/>\n   </g>\n   <g id=\"patch_18\">\n    <path d=\"M 208.908918 224.64 \nL 238.973498 224.64 \nL 238.973498 209.52231 \nL 208.908918 209.52231 \nz\n\" clip-path=\"url(#pdbd0267078)\" style=\"fill: #ff7f0e\"/>\n   </g>\n   <g id=\"patch_19\">\n    <path d=\"M 238.973498 224.64 \nL 269.038078 224.64 \nL 269.038078 219.511973 \nL 238.973498 219.511973 \nz\n\" clip-path=\"url(#pdbd0267078)\" style=\"fill: #ff7f0e\"/>\n   </g>\n   <g id=\"patch_20\">\n    <path d=\"M 269.038078 224.64 \nL 299.102658 224.64 \nL 299.102658 223.041654 \nL 269.038078 223.041654 \nz\n\" clip-path=\"url(#pdbd0267078)\" style=\"fill: #ff7f0e\"/>\n   </g>\n   <g id=\"patch_21\">\n    <path d=\"M 299.102658 224.64 \nL 329.167238 224.64 \nL 329.167238 212.519209 \nL 299.102658 212.519209 \nz\n\" clip-path=\"url(#pdbd0267078)\" style=\"fill: #ff7f0e\"/>\n   </g>\n   <g id=\"patch_22\">\n    <path d=\"M 329.167238 224.64 \nL 359.231818 224.64 \nL 359.231818 17.554286 \nL 329.167238 17.554286 \nz\n\" clip-path=\"url(#pdbd0267078)\" style=\"fill: #ff7f0e\"/>\n   </g>\n   <g id=\"matplotlib.axis_1\">\n    <g id=\"xtick_1\">\n     <g id=\"line2d_1\">\n      <defs>\n       <path id=\"m377ca99464\" d=\"M 0 0 \nL 0 3.5 \n\" style=\"stroke: #000000; stroke-width: 0.8\"/>\n      </defs>\n      <g>\n       <use xlink:href=\"#m377ca99464\" x=\"54.856512\" y=\"224.64\" style=\"stroke: #000000; stroke-width: 0.8\"/>\n      </g>\n     </g>\n     <g id=\"text_1\">\n      <!-- 0 -->\n      <g transform=\"translate(51.675262 239.238437)scale(0.1 -0.1)\">\n       <defs>\n        <path id=\"DejaVuSans-30\" d=\"M 2034 4250 \nQ 1547 4250 1301 3770 \nQ 1056 3291 1056 2328 \nQ 1056 1369 1301 889 \nQ 1547 409 2034 409 \nQ 2525 409 2770 889 \nQ 3016 1369 3016 2328 \nQ 3016 3291 2770 3770 \nQ 2525 4250 2034 4250 \nz\nM 2034 4750 \nQ 2819 4750 3233 4129 \nQ 3647 3509 3647 2328 \nQ 3647 1150 3233 529 \nQ 2819 -91 2034 -91 \nQ 1250 -91 836 529 \nQ 422 1150 422 2328 \nQ 422 3509 836 4129 \nQ 1250 4750 2034 4750 \nz\n\" transform=\"scale(0.015625)\"/>\n       </defs>\n       <use xlink:href=\"#DejaVuSans-30\"/>\n      </g>\n     </g>\n    </g>\n    <g id=\"xtick_2\">\n     <g id=\"line2d_2\">\n      <g>\n       <use xlink:href=\"#m377ca99464\" x=\"118.268289\" y=\"224.64\" style=\"stroke: #000000; stroke-width: 0.8\"/>\n      </g>\n     </g>\n     <g id=\"text_2\">\n      <!-- 5 -->\n      <g transform=\"translate(115.087039 239.238437)scale(0.1 -0.1)\">\n       <defs>\n        <path id=\"DejaVuSans-35\" d=\"M 691 4666 \nL 3169 4666 \nL 3169 4134 \nL 1269 4134 \nL 1269 2991 \nQ 1406 3038 1543 3061 \nQ 1681 3084 1819 3084 \nQ 2600 3084 3056 2656 \nQ 3513 2228 3513 1497 \nQ 3513 744 3044 326 \nQ 2575 -91 1722 -91 \nQ 1428 -91 1123 -41 \nQ 819 9 494 109 \nL 494 744 \nQ 775 591 1075 516 \nQ 1375 441 1709 441 \nQ 2250 441 2565 725 \nQ 2881 1009 2881 1497 \nQ 2881 1984 2565 2268 \nQ 2250 2553 1709 2553 \nQ 1456 2553 1204 2497 \nQ 953 2441 691 2322 \nL 691 4666 \nz\n\" transform=\"scale(0.015625)\"/>\n       </defs>\n       <use xlink:href=\"#DejaVuSans-35\"/>\n      </g>\n     </g>\n    </g>\n    <g id=\"xtick_3\">\n     <g id=\"line2d_3\">\n      <g>\n       <use xlink:href=\"#m377ca99464\" x=\"181.680066\" y=\"224.64\" style=\"stroke: #000000; stroke-width: 0.8\"/>\n      </g>\n     </g>\n     <g id=\"text_3\">\n      <!-- 10 -->\n      <g transform=\"translate(175.317566 239.238437)scale(0.1 -0.1)\">\n       <defs>\n        <path id=\"DejaVuSans-31\" d=\"M 794 531 \nL 1825 531 \nL 1825 4091 \nL 703 3866 \nL 703 4441 \nL 1819 4666 \nL 2450 4666 \nL 2450 531 \nL 3481 531 \nL 3481 0 \nL 794 0 \nL 794 531 \nz\n\" transform=\"scale(0.015625)\"/>\n       </defs>\n       <use xlink:href=\"#DejaVuSans-31\"/>\n       <use xlink:href=\"#DejaVuSans-30\" x=\"63.623047\"/>\n      </g>\n     </g>\n    </g>\n    <g id=\"xtick_4\">\n     <g id=\"line2d_4\">\n      <g>\n       <use xlink:href=\"#m377ca99464\" x=\"245.091843\" y=\"224.64\" style=\"stroke: #000000; stroke-width: 0.8\"/>\n      </g>\n     </g>\n     <g id=\"text_4\">\n      <!-- 15 -->\n      <g transform=\"translate(238.729343 239.238437)scale(0.1 -0.1)\">\n       <use xlink:href=\"#DejaVuSans-31\"/>\n       <use xlink:href=\"#DejaVuSans-35\" x=\"63.623047\"/>\n      </g>\n     </g>\n    </g>\n    <g id=\"xtick_5\">\n     <g id=\"line2d_5\">\n      <g>\n       <use xlink:href=\"#m377ca99464\" x=\"308.50362\" y=\"224.64\" style=\"stroke: #000000; stroke-width: 0.8\"/>\n      </g>\n     </g>\n     <g id=\"text_5\">\n      <!-- 20 -->\n      <g transform=\"translate(302.14112 239.238437)scale(0.1 -0.1)\">\n       <defs>\n        <path id=\"DejaVuSans-32\" d=\"M 1228 531 \nL 3431 531 \nL 3431 0 \nL 469 0 \nL 469 531 \nQ 828 903 1448 1529 \nQ 2069 2156 2228 2338 \nQ 2531 2678 2651 2914 \nQ 2772 3150 2772 3378 \nQ 2772 3750 2511 3984 \nQ 2250 4219 1831 4219 \nQ 1534 4219 1204 4116 \nQ 875 4013 500 3803 \nL 500 4441 \nQ 881 4594 1212 4672 \nQ 1544 4750 1819 4750 \nQ 2544 4750 2975 4387 \nQ 3406 4025 3406 3419 \nQ 3406 3131 3298 2873 \nQ 3191 2616 2906 2266 \nQ 2828 2175 2409 1742 \nQ 1991 1309 1228 531 \nz\n\" transform=\"scale(0.015625)\"/>\n       </defs>\n       <use xlink:href=\"#DejaVuSans-32\"/>\n       <use xlink:href=\"#DejaVuSans-30\" x=\"63.623047\"/>\n      </g>\n     </g>\n    </g>\n    <g id=\"xtick_6\">\n     <g id=\"line2d_6\">\n      <g>\n       <use xlink:href=\"#m377ca99464\" x=\"371.915397\" y=\"224.64\" style=\"stroke: #000000; stroke-width: 0.8\"/>\n      </g>\n     </g>\n     <g id=\"text_6\">\n      <!-- 25 -->\n      <g transform=\"translate(365.552897 239.238437)scale(0.1 -0.1)\">\n       <use xlink:href=\"#DejaVuSans-32\"/>\n       <use xlink:href=\"#DejaVuSans-35\" x=\"63.623047\"/>\n      </g>\n     </g>\n    </g>\n   </g>\n   <g id=\"matplotlib.axis_2\">\n    <g id=\"ytick_1\">\n     <g id=\"line2d_7\">\n      <defs>\n       <path id=\"md1cd2f98b4\" d=\"M 0 0 \nL -3.5 0 \n\" style=\"stroke: #000000; stroke-width: 0.8\"/>\n      </defs>\n      <g>\n       <use xlink:href=\"#md1cd2f98b4\" x=\"39.65\" y=\"224.64\" style=\"stroke: #000000; stroke-width: 0.8\"/>\n      </g>\n     </g>\n     <g id=\"text_7\">\n      <!-- 0 -->\n      <g transform=\"translate(26.2875 228.439219)scale(0.1 -0.1)\">\n       <use xlink:href=\"#DejaVuSans-30\"/>\n      </g>\n     </g>\n    </g>\n    <g id=\"ytick_2\">\n     <g id=\"line2d_8\">\n      <g>\n       <use xlink:href=\"#md1cd2f98b4\" x=\"39.65\" y=\"191.341123\" style=\"stroke: #000000; stroke-width: 0.8\"/>\n      </g>\n     </g>\n     <g id=\"text_8\">\n      <!-- 1000 -->\n      <g transform=\"translate(7.2 195.140342)scale(0.1 -0.1)\">\n       <use xlink:href=\"#DejaVuSans-31\"/>\n       <use xlink:href=\"#DejaVuSans-30\" x=\"63.623047\"/>\n       <use xlink:href=\"#DejaVuSans-30\" x=\"127.246094\"/>\n       <use xlink:href=\"#DejaVuSans-30\" x=\"190.869141\"/>\n      </g>\n     </g>\n    </g>\n    <g id=\"ytick_3\">\n     <g id=\"line2d_9\">\n      <g>\n       <use xlink:href=\"#md1cd2f98b4\" x=\"39.65\" y=\"158.042247\" style=\"stroke: #000000; stroke-width: 0.8\"/>\n      </g>\n     </g>\n     <g id=\"text_9\">\n      <!-- 2000 -->\n      <g transform=\"translate(7.2 161.841465)scale(0.1 -0.1)\">\n       <use xlink:href=\"#DejaVuSans-32\"/>\n       <use xlink:href=\"#DejaVuSans-30\" x=\"63.623047\"/>\n       <use xlink:href=\"#DejaVuSans-30\" x=\"127.246094\"/>\n       <use xlink:href=\"#DejaVuSans-30\" x=\"190.869141\"/>\n      </g>\n     </g>\n    </g>\n    <g id=\"ytick_4\">\n     <g id=\"line2d_10\">\n      <g>\n       <use xlink:href=\"#md1cd2f98b4\" x=\"39.65\" y=\"124.74337\" style=\"stroke: #000000; stroke-width: 0.8\"/>\n      </g>\n     </g>\n     <g id=\"text_10\">\n      <!-- 3000 -->\n      <g transform=\"translate(7.2 128.542589)scale(0.1 -0.1)\">\n       <defs>\n        <path id=\"DejaVuSans-33\" d=\"M 2597 2516 \nQ 3050 2419 3304 2112 \nQ 3559 1806 3559 1356 \nQ 3559 666 3084 287 \nQ 2609 -91 1734 -91 \nQ 1441 -91 1130 -33 \nQ 819 25 488 141 \nL 488 750 \nQ 750 597 1062 519 \nQ 1375 441 1716 441 \nQ 2309 441 2620 675 \nQ 2931 909 2931 1356 \nQ 2931 1769 2642 2001 \nQ 2353 2234 1838 2234 \nL 1294 2234 \nL 1294 2753 \nL 1863 2753 \nQ 2328 2753 2575 2939 \nQ 2822 3125 2822 3475 \nQ 2822 3834 2567 4026 \nQ 2313 4219 1838 4219 \nQ 1578 4219 1281 4162 \nQ 984 4106 628 3988 \nL 628 4550 \nQ 988 4650 1302 4700 \nQ 1616 4750 1894 4750 \nQ 2613 4750 3031 4423 \nQ 3450 4097 3450 3541 \nQ 3450 3153 3228 2886 \nQ 3006 2619 2597 2516 \nz\n\" transform=\"scale(0.015625)\"/>\n       </defs>\n       <use xlink:href=\"#DejaVuSans-33\"/>\n       <use xlink:href=\"#DejaVuSans-30\" x=\"63.623047\"/>\n       <use xlink:href=\"#DejaVuSans-30\" x=\"127.246094\"/>\n       <use xlink:href=\"#DejaVuSans-30\" x=\"190.869141\"/>\n      </g>\n     </g>\n    </g>\n    <g id=\"ytick_5\">\n     <g id=\"line2d_11\">\n      <g>\n       <use xlink:href=\"#md1cd2f98b4\" x=\"39.65\" y=\"91.444493\" style=\"stroke: #000000; stroke-width: 0.8\"/>\n      </g>\n     </g>\n     <g id=\"text_11\">\n      <!-- 4000 -->\n      <g transform=\"translate(7.2 95.243712)scale(0.1 -0.1)\">\n       <defs>\n        <path id=\"DejaVuSans-34\" d=\"M 2419 4116 \nL 825 1625 \nL 2419 1625 \nL 2419 4116 \nz\nM 2253 4666 \nL 3047 4666 \nL 3047 1625 \nL 3713 1625 \nL 3713 1100 \nL 3047 1100 \nL 3047 0 \nL 2419 0 \nL 2419 1100 \nL 313 1100 \nL 313 1709 \nL 2253 4666 \nz\n\" transform=\"scale(0.015625)\"/>\n       </defs>\n       <use xlink:href=\"#DejaVuSans-34\"/>\n       <use xlink:href=\"#DejaVuSans-30\" x=\"63.623047\"/>\n       <use xlink:href=\"#DejaVuSans-30\" x=\"127.246094\"/>\n       <use xlink:href=\"#DejaVuSans-30\" x=\"190.869141\"/>\n      </g>\n     </g>\n    </g>\n    <g id=\"ytick_6\">\n     <g id=\"line2d_12\">\n      <g>\n       <use xlink:href=\"#md1cd2f98b4\" x=\"39.65\" y=\"58.145616\" style=\"stroke: #000000; stroke-width: 0.8\"/>\n      </g>\n     </g>\n     <g id=\"text_12\">\n      <!-- 5000 -->\n      <g transform=\"translate(7.2 61.944835)scale(0.1 -0.1)\">\n       <use xlink:href=\"#DejaVuSans-35\"/>\n       <use xlink:href=\"#DejaVuSans-30\" x=\"63.623047\"/>\n       <use xlink:href=\"#DejaVuSans-30\" x=\"127.246094\"/>\n       <use xlink:href=\"#DejaVuSans-30\" x=\"190.869141\"/>\n      </g>\n     </g>\n    </g>\n    <g id=\"ytick_7\">\n     <g id=\"line2d_13\">\n      <g>\n       <use xlink:href=\"#md1cd2f98b4\" x=\"39.65\" y=\"24.84674\" style=\"stroke: #000000; stroke-width: 0.8\"/>\n      </g>\n     </g>\n     <g id=\"text_13\">\n      <!-- 6000 -->\n      <g transform=\"translate(7.2 28.645958)scale(0.1 -0.1)\">\n       <defs>\n        <path id=\"DejaVuSans-36\" d=\"M 2113 2584 \nQ 1688 2584 1439 2293 \nQ 1191 2003 1191 1497 \nQ 1191 994 1439 701 \nQ 1688 409 2113 409 \nQ 2538 409 2786 701 \nQ 3034 994 3034 1497 \nQ 3034 2003 2786 2293 \nQ 2538 2584 2113 2584 \nz\nM 3366 4563 \nL 3366 3988 \nQ 3128 4100 2886 4159 \nQ 2644 4219 2406 4219 \nQ 1781 4219 1451 3797 \nQ 1122 3375 1075 2522 \nQ 1259 2794 1537 2939 \nQ 1816 3084 2150 3084 \nQ 2853 3084 3261 2657 \nQ 3669 2231 3669 1497 \nQ 3669 778 3244 343 \nQ 2819 -91 2113 -91 \nQ 1303 -91 875 529 \nQ 447 1150 447 2328 \nQ 447 3434 972 4092 \nQ 1497 4750 2381 4750 \nQ 2619 4750 2861 4703 \nQ 3103 4656 3366 4563 \nz\n\" transform=\"scale(0.015625)\"/>\n       </defs>\n       <use xlink:href=\"#DejaVuSans-36\"/>\n       <use xlink:href=\"#DejaVuSans-30\" x=\"63.623047\"/>\n       <use xlink:href=\"#DejaVuSans-30\" x=\"127.246094\"/>\n       <use xlink:href=\"#DejaVuSans-30\" x=\"190.869141\"/>\n      </g>\n     </g>\n    </g>\n   </g>\n   <g id=\"patch_23\">\n    <path d=\"M 39.65 224.64 \nL 39.65 7.2 \n\" style=\"fill: none; stroke: #000000; stroke-width: 0.8; stroke-linejoin: miter; stroke-linecap: square\"/>\n   </g>\n   <g id=\"patch_24\">\n    <path d=\"M 374.45 224.64 \nL 374.45 7.2 \n\" style=\"fill: none; stroke: #000000; stroke-width: 0.8; stroke-linejoin: miter; stroke-linecap: square\"/>\n   </g>\n   <g id=\"patch_25\">\n    <path d=\"M 39.65 224.64 \nL 374.45 224.64 \n\" style=\"fill: none; stroke: #000000; stroke-width: 0.8; stroke-linejoin: miter; stroke-linecap: square\"/>\n   </g>\n   <g id=\"patch_26\">\n    <path d=\"M 39.65 7.2 \nL 374.45 7.2 \n\" style=\"fill: none; stroke: #000000; stroke-width: 0.8; stroke-linejoin: miter; stroke-linecap: square\"/>\n   </g>\n  </g>\n </g>\n <defs>\n  <clipPath id=\"pdbd0267078\">\n   <rect x=\"39.65\" y=\"7.2\" width=\"334.8\" height=\"217.44\"/>\n  </clipPath>\n </defs>\n</svg>\n",
      "text/plain": [
       "<Figure size 432x288 with 1 Axes>"
      ]
     },
     "metadata": {
      "needs_background": "light"
     },
     "output_type": "display_data"
    },
    {
     "data": {
      "text/plain": [
       "(array([ 989., 1027.,  973., 1013., 1005., 1039.,  986.,  963., 1002.,\n",
       "        1003.]),\n",
       " array([20.00053301, 21.00014164, 21.99975027, 22.9993589 , 23.99896754,\n",
       "        24.99857617, 25.9981848 , 26.99779343, 27.99740207, 28.9970107 ,\n",
       "        29.99661933]),\n",
       " <BarContainer object of 10 artists>)"
      ]
     },
     "execution_count": 7,
     "metadata": {},
     "output_type": "execute_result"
    },
    {
     "data": {
      "image/png": "[encoded data removed]",
      "image/svg+xml": "<?xml version=\"1.0\" encoding=\"utf-8\" standalone=\"no\"?>\n<!DOCTYPE svg PUBLIC \"-//W3C//DTD SVG 1.1//EN\"\n  \"http://www.w3.org/Graphics/SVG/1.1/DTD/svg11.dtd\">\n<svg xmlns:xlink=\"http://www.w3.org/1999/xlink\" width=\"381.65pt\" height=\"248.518125pt\" viewBox=\"0 0 381.65 248.518125\" xmlns=\"http://www.w3.org/2000/svg\" version=\"1.1\">\n <metadata>\n  <rdf:RDF xmlns:dc=\"http://purl.org/dc/elements/1.1/\" xmlns:cc=\"http://creativecommons.org/ns#\" xmlns:rdf=\"http://www.w3.org/1999/02/22-rdf-syntax-ns#\">\n   <cc:Work>\n    <dc:type rdf:resource=\"http://purl.org/dc/dcmitype/StillImage\"/>\n    <dc:date>2022-02-06T21:27:41.087427</dc:date>\n    <dc:format>image/svg+xml</dc:format>\n    <dc:creator>\n     <cc:Agent>\n      <dc:title>Matplotlib v3.5.1, https://matplotlib.org/</dc:title>\n     </cc:Agent>\n    </dc:creator>\n   </cc:Work>\n  </rdf:RDF>\n </metadata>\n <defs>\n  <style type=\"text/css\">*{stroke-linejoin: round; stroke-linecap: butt}</style>\n </defs>\n <g id=\"figure_1\">\n  <g id=\"patch_1\">\n   <path d=\"M -0 248.518125 \nL 381.65 248.518125 \nL 381.65 0 \nL -0 0 \nL -0 248.518125 \nz\n\" style=\"fill: none\"/>\n  </g>\n  <g id=\"axes_1\">\n   <g id=\"patch_2\">\n    <path d=\"M 39.65 224.64 \nL 374.45 224.64 \nL 374.45 7.2 \nL 39.65 7.2 \nz\n\" style=\"fill: #ffffff\"/>\n   </g>\n   <g id=\"patch_3\">\n    <path d=\"M 54.868182 224.64 \nL 85.304545 224.64 \nL 85.304545 27.519912 \nL 54.868182 27.519912 \nz\n\" clip-path=\"url(#pec19e92087)\" style=\"fill: #1f77b4\"/>\n   </g>\n   <g id=\"patch_4\">\n    <path d=\"M 85.304545 224.64 \nL 115.740909 224.64 \nL 115.740909 19.946036 \nL 85.304545 19.946036 \nz\n\" clip-path=\"url(#pec19e92087)\" style=\"fill: #1f77b4\"/>\n   </g>\n   <g id=\"patch_5\">\n    <path d=\"M 115.740909 224.64 \nL 146.177273 224.64 \nL 146.177273 30.708912 \nL 115.740909 30.708912 \nz\n\" clip-path=\"url(#pec19e92087)\" style=\"fill: #1f77b4\"/>\n   </g>\n   <g id=\"patch_6\">\n    <path d=\"M 146.177273 224.64 \nL 176.613636 224.64 \nL 176.613636 22.736411 \nL 146.177273 22.736411 \nz\n\" clip-path=\"url(#pec19e92087)\" style=\"fill: #1f77b4\"/>\n   </g>\n   <g id=\"patch_7\">\n    <path d=\"M 176.613636 224.64 \nL 207.05 224.64 \nL 207.05 24.330912 \nL 176.613636 24.330912 \nz\n\" clip-path=\"url(#pec19e92087)\" style=\"fill: #1f77b4\"/>\n   </g>\n   <g id=\"patch_8\">\n    <path d=\"M 207.05 224.64 \nL 237.486364 224.64 \nL 237.486364 17.554286 \nL 207.05 17.554286 \nz\n\" clip-path=\"url(#pec19e92087)\" style=\"fill: #1f77b4\"/>\n   </g>\n   <g id=\"patch_9\">\n    <path d=\"M 237.486364 224.64 \nL 267.922727 224.64 \nL 267.922727 28.11785 \nL 237.486364 28.11785 \nz\n\" clip-path=\"url(#pec19e92087)\" style=\"fill: #1f77b4\"/>\n   </g>\n   <g id=\"patch_10\">\n    <path d=\"M 267.922727 224.64 \nL 298.359091 224.64 \nL 298.359091 32.702038 \nL 267.922727 32.702038 \nz\n\" clip-path=\"url(#pec19e92087)\" style=\"fill: #1f77b4\"/>\n   </g>\n   <g id=\"patch_11\">\n    <path d=\"M 298.359091 224.64 \nL 328.795455 224.64 \nL 328.795455 24.928849 \nL 298.359091 24.928849 \nz\n\" clip-path=\"url(#pec19e92087)\" style=\"fill: #1f77b4\"/>\n   </g>\n   <g id=\"patch_12\">\n    <path d=\"M 328.795455 224.64 \nL 359.231818 224.64 \nL 359.231818 24.729537 \nL 328.795455 24.729537 \nz\n\" clip-path=\"url(#pec19e92087)\" style=\"fill: #1f77b4\"/>\n   </g>\n   <g id=\"matplotlib.axis_1\">\n    <g id=\"xtick_1\">\n     <g id=\"line2d_1\">\n      <defs>\n       <path id=\"m9968eb9fc7\" d=\"M 0 0 \nL 0 3.5 \n\" style=\"stroke: #000000; stroke-width: 0.8\"/>\n      </defs>\n      <g>\n       <use xlink:href=\"#m9968eb9fc7\" x=\"54.851953\" y=\"224.64\" style=\"stroke: #000000; stroke-width: 0.8\"/>\n      </g>\n     </g>\n     <g id=\"text_1\">\n      <!-- 20 -->\n      <g transform=\"translate(48.489453 239.238437)scale(0.1 -0.1)\">\n       <defs>\n        <path id=\"DejaVuSans-32\" d=\"M 1228 531 \nL 3431 531 \nL 3431 0 \nL 469 0 \nL 469 531 \nQ 828 903 1448 1529 \nQ 2069 2156 2228 2338 \nQ 2531 2678 2651 2914 \nQ 2772 3150 2772 3378 \nQ 2772 3750 2511 3984 \nQ 2250 4219 1831 4219 \nQ 1534 4219 1204 4116 \nQ 875 4013 500 3803 \nL 500 4441 \nQ 881 4594 1212 4672 \nQ 1544 4750 1819 4750 \nQ 2544 4750 2975 4387 \nQ 3406 4025 3406 3419 \nQ 3406 3131 3298 2873 \nQ 3191 2616 2906 2266 \nQ 2828 2175 2409 1742 \nQ 1991 1309 1228 531 \nz\n\" transform=\"scale(0.015625)\"/>\n        <path id=\"DejaVuSans-30\" d=\"M 2034 4250 \nQ 1547 4250 1301 3770 \nQ 1056 3291 1056 2328 \nQ 1056 1369 1301 889 \nQ 1547 409 2034 409 \nQ 2525 409 2770 889 \nQ 3016 1369 3016 2328 \nQ 3016 3291 2770 3770 \nQ 2525 4250 2034 4250 \nz\nM 2034 4750 \nQ 2819 4750 3233 4129 \nQ 3647 3509 3647 2328 \nQ 3647 1150 3233 529 \nQ 2819 -91 2034 -91 \nQ 1250 -91 836 529 \nQ 422 1150 422 2328 \nQ 422 3509 836 4129 \nQ 1250 4750 2034 4750 \nz\n\" transform=\"scale(0.015625)\"/>\n       </defs>\n       <use xlink:href=\"#DejaVuSans-32\"/>\n       <use xlink:href=\"#DejaVuSans-30\" x=\"63.623047\"/>\n      </g>\n     </g>\n    </g>\n    <g id=\"xtick_2\">\n     <g id=\"line2d_2\">\n      <g>\n       <use xlink:href=\"#m9968eb9fc7\" x=\"115.748513\" y=\"224.64\" style=\"stroke: #000000; stroke-width: 0.8\"/>\n      </g>\n     </g>\n     <g id=\"text_2\">\n      <!-- 22 -->\n      <g transform=\"translate(109.386013 239.238437)scale(0.1 -0.1)\">\n       <use xlink:href=\"#DejaVuSans-32\"/>\n       <use xlink:href=\"#DejaVuSans-32\" x=\"63.623047\"/>\n      </g>\n     </g>\n    </g>\n    <g id=\"xtick_3\">\n     <g id=\"line2d_3\">\n      <g>\n       <use xlink:href=\"#m9968eb9fc7\" x=\"176.645073\" y=\"224.64\" style=\"stroke: #000000; stroke-width: 0.8\"/>\n      </g>\n     </g>\n     <g id=\"text_3\">\n      <!-- 24 -->\n      <g transform=\"translate(170.282573 239.238437)scale(0.1 -0.1)\">\n       <defs>\n        <path id=\"DejaVuSans-34\" d=\"M 2419 4116 \nL 825 1625 \nL 2419 1625 \nL 2419 4116 \nz\nM 2253 4666 \nL 3047 4666 \nL 3047 1625 \nL 3713 1625 \nL 3713 1100 \nL 3047 1100 \nL 3047 0 \nL 2419 0 \nL 2419 1100 \nL 313 1100 \nL 313 1709 \nL 2253 4666 \nz\n\" transform=\"scale(0.015625)\"/>\n       </defs>\n       <use xlink:href=\"#DejaVuSans-32\"/>\n       <use xlink:href=\"#DejaVuSans-34\" x=\"63.623047\"/>\n      </g>\n     </g>\n    </g>\n    <g id=\"xtick_4\">\n     <g id=\"line2d_4\">\n      <g>\n       <use xlink:href=\"#m9968eb9fc7\" x=\"237.541633\" y=\"224.64\" style=\"stroke: #000000; stroke-width: 0.8\"/>\n      </g>\n     </g>\n     <g id=\"text_4\">\n      <!-- 26 -->\n      <g transform=\"translate(231.179133 239.238437)scale(0.1 -0.1)\">\n       <defs>\n        <path id=\"DejaVuSans-36\" d=\"M 2113 2584 \nQ 1688 2584 1439 2293 \nQ 1191 2003 1191 1497 \nQ 1191 994 1439 701 \nQ 1688 409 2113 409 \nQ 2538 409 2786 701 \nQ 3034 994 3034 1497 \nQ 3034 2003 2786 2293 \nQ 2538 2584 2113 2584 \nz\nM 3366 4563 \nL 3366 3988 \nQ 3128 4100 2886 4159 \nQ 2644 4219 2406 4219 \nQ 1781 4219 1451 3797 \nQ 1122 3375 1075 2522 \nQ 1259 2794 1537 2939 \nQ 1816 3084 2150 3084 \nQ 2853 3084 3261 2657 \nQ 3669 2231 3669 1497 \nQ 3669 778 3244 343 \nQ 2819 -91 2113 -91 \nQ 1303 -91 875 529 \nQ 447 1150 447 2328 \nQ 447 3434 972 4092 \nQ 1497 4750 2381 4750 \nQ 2619 4750 2861 4703 \nQ 3103 4656 3366 4563 \nz\n\" transform=\"scale(0.015625)\"/>\n       </defs>\n       <use xlink:href=\"#DejaVuSans-32\"/>\n       <use xlink:href=\"#DejaVuSans-36\" x=\"63.623047\"/>\n      </g>\n     </g>\n    </g>\n    <g id=\"xtick_5\">\n     <g id=\"line2d_5\">\n      <g>\n       <use xlink:href=\"#m9968eb9fc7\" x=\"298.438194\" y=\"224.64\" style=\"stroke: #000000; stroke-width: 0.8\"/>\n      </g>\n     </g>\n     <g id=\"text_5\">\n      <!-- 28 -->\n      <g transform=\"translate(292.075694 239.238437)scale(0.1 -0.1)\">\n       <defs>\n        <path id=\"DejaVuSans-38\" d=\"M 2034 2216 \nQ 1584 2216 1326 1975 \nQ 1069 1734 1069 1313 \nQ 1069 891 1326 650 \nQ 1584 409 2034 409 \nQ 2484 409 2743 651 \nQ 3003 894 3003 1313 \nQ 3003 1734 2745 1975 \nQ 2488 2216 2034 2216 \nz\nM 1403 2484 \nQ 997 2584 770 2862 \nQ 544 3141 544 3541 \nQ 544 4100 942 4425 \nQ 1341 4750 2034 4750 \nQ 2731 4750 3128 4425 \nQ 3525 4100 3525 3541 \nQ 3525 3141 3298 2862 \nQ 3072 2584 2669 2484 \nQ 3125 2378 3379 2068 \nQ 3634 1759 3634 1313 \nQ 3634 634 3220 271 \nQ 2806 -91 2034 -91 \nQ 1263 -91 848 271 \nQ 434 634 434 1313 \nQ 434 1759 690 2068 \nQ 947 2378 1403 2484 \nz\nM 1172 3481 \nQ 1172 3119 1398 2916 \nQ 1625 2713 2034 2713 \nQ 2441 2713 2670 2916 \nQ 2900 3119 2900 3481 \nQ 2900 3844 2670 4047 \nQ 2441 4250 2034 4250 \nQ 1625 4250 1398 4047 \nQ 1172 3844 1172 3481 \nz\n\" transform=\"scale(0.015625)\"/>\n       </defs>\n       <use xlink:href=\"#DejaVuSans-32\"/>\n       <use xlink:href=\"#DejaVuSans-38\" x=\"63.623047\"/>\n      </g>\n     </g>\n    </g>\n    <g id=\"xtick_6\">\n     <g id=\"line2d_6\">\n      <g>\n       <use xlink:href=\"#m9968eb9fc7\" x=\"359.334754\" y=\"224.64\" style=\"stroke: #000000; stroke-width: 0.8\"/>\n      </g>\n     </g>\n     <g id=\"text_6\">\n      <!-- 30 -->\n      <g transform=\"translate(352.972254 239.238437)scale(0.1 -0.1)\">\n       <defs>\n        <path id=\"DejaVuSans-33\" d=\"M 2597 2516 \nQ 3050 2419 3304 2112 \nQ 3559 1806 3559 1356 \nQ 3559 666 3084 287 \nQ 2609 -91 1734 -91 \nQ 1441 -91 1130 -33 \nQ 819 25 488 141 \nL 488 750 \nQ 750 597 1062 519 \nQ 1375 441 1716 441 \nQ 2309 441 2620 675 \nQ 2931 909 2931 1356 \nQ 2931 1769 2642 2001 \nQ 2353 2234 1838 2234 \nL 1294 2234 \nL 1294 2753 \nL 1863 2753 \nQ 2328 2753 2575 2939 \nQ 2822 3125 2822 3475 \nQ 2822 3834 2567 4026 \nQ 2313 4219 1838 4219 \nQ 1578 4219 1281 4162 \nQ 984 4106 628 3988 \nL 628 4550 \nQ 988 4650 1302 4700 \nQ 1616 4750 1894 4750 \nQ 2613 4750 3031 4423 \nQ 3450 4097 3450 3541 \nQ 3450 3153 3228 2886 \nQ 3006 2619 2597 2516 \nz\n\" transform=\"scale(0.015625)\"/>\n       </defs>\n       <use xlink:href=\"#DejaVuSans-33\"/>\n       <use xlink:href=\"#DejaVuSans-30\" x=\"63.623047\"/>\n      </g>\n     </g>\n    </g>\n   </g>\n   <g id=\"matplotlib.axis_2\">\n    <g id=\"ytick_1\">\n     <g id=\"line2d_7\">\n      <defs>\n       <path id=\"m7f25619955\" d=\"M 0 0 \nL -3.5 0 \n\" style=\"stroke: #000000; stroke-width: 0.8\"/>\n      </defs>\n      <g>\n       <use xlink:href=\"#m7f25619955\" x=\"39.65\" y=\"224.64\" style=\"stroke: #000000; stroke-width: 0.8\"/>\n      </g>\n     </g>\n     <g id=\"text_7\">\n      <!-- 0 -->\n      <g transform=\"translate(26.2875 228.439219)scale(0.1 -0.1)\">\n       <use xlink:href=\"#DejaVuSans-30\"/>\n      </g>\n     </g>\n    </g>\n    <g id=\"ytick_2\">\n     <g id=\"line2d_8\">\n      <g>\n       <use xlink:href=\"#m7f25619955\" x=\"39.65\" y=\"184.777495\" style=\"stroke: #000000; stroke-width: 0.8\"/>\n      </g>\n     </g>\n     <g id=\"text_8\">\n      <!-- 200 -->\n      <g transform=\"translate(13.5625 188.576714)scale(0.1 -0.1)\">\n       <use xlink:href=\"#DejaVuSans-32\"/>\n       <use xlink:href=\"#DejaVuSans-30\" x=\"63.623047\"/>\n       <use xlink:href=\"#DejaVuSans-30\" x=\"127.246094\"/>\n      </g>\n     </g>\n    </g>\n    <g id=\"ytick_3\">\n     <g id=\"line2d_9\">\n      <g>\n       <use xlink:href=\"#m7f25619955\" x=\"39.65\" y=\"144.91499\" style=\"stroke: #000000; stroke-width: 0.8\"/>\n      </g>\n     </g>\n     <g id=\"text_9\">\n      <!-- 400 -->\n      <g transform=\"translate(13.5625 148.714208)scale(0.1 -0.1)\">\n       <use xlink:href=\"#DejaVuSans-34\"/>\n       <use xlink:href=\"#DejaVuSans-30\" x=\"63.623047\"/>\n       <use xlink:href=\"#DejaVuSans-30\" x=\"127.246094\"/>\n      </g>\n     </g>\n    </g>\n    <g id=\"ytick_4\">\n     <g id=\"line2d_10\">\n      <g>\n       <use xlink:href=\"#m7f25619955\" x=\"39.65\" y=\"105.052485\" style=\"stroke: #000000; stroke-width: 0.8\"/>\n      </g>\n     </g>\n     <g id=\"text_10\">\n      <!-- 600 -->\n      <g transform=\"translate(13.5625 108.851703)scale(0.1 -0.1)\">\n       <use xlink:href=\"#DejaVuSans-36\"/>\n       <use xlink:href=\"#DejaVuSans-30\" x=\"63.623047\"/>\n       <use xlink:href=\"#DejaVuSans-30\" x=\"127.246094\"/>\n      </g>\n     </g>\n    </g>\n    <g id=\"ytick_5\">\n     <g id=\"line2d_11\">\n      <g>\n       <use xlink:href=\"#m7f25619955\" x=\"39.65\" y=\"65.189979\" style=\"stroke: #000000; stroke-width: 0.8\"/>\n      </g>\n     </g>\n     <g id=\"text_11\">\n      <!-- 800 -->\n      <g transform=\"translate(13.5625 68.989198)scale(0.1 -0.1)\">\n       <use xlink:href=\"#DejaVuSans-38\"/>\n       <use xlink:href=\"#DejaVuSans-30\" x=\"63.623047\"/>\n       <use xlink:href=\"#DejaVuSans-30\" x=\"127.246094\"/>\n      </g>\n     </g>\n    </g>\n    <g id=\"ytick_6\">\n     <g id=\"line2d_12\">\n      <g>\n       <use xlink:href=\"#m7f25619955\" x=\"39.65\" y=\"25.327474\" style=\"stroke: #000000; stroke-width: 0.8\"/>\n      </g>\n     </g>\n     <g id=\"text_12\">\n      <!-- 1000 -->\n      <g transform=\"translate(7.2 29.126693)scale(0.1 -0.1)\">\n       <defs>\n        <path id=\"DejaVuSans-31\" d=\"M 794 531 \nL 1825 531 \nL 1825 4091 \nL 703 3866 \nL 703 4441 \nL 1819 4666 \nL 2450 4666 \nL 2450 531 \nL 3481 531 \nL 3481 0 \nL 794 0 \nL 794 531 \nz\n\" transform=\"scale(0.015625)\"/>\n       </defs>\n       <use xlink:href=\"#DejaVuSans-31\"/>\n       <use xlink:href=\"#DejaVuSans-30\" x=\"63.623047\"/>\n       <use xlink:href=\"#DejaVuSans-30\" x=\"127.246094\"/>\n       <use xlink:href=\"#DejaVuSans-30\" x=\"190.869141\"/>\n      </g>\n     </g>\n    </g>\n   </g>\n   <g id=\"patch_13\">\n    <path d=\"M 39.65 224.64 \nL 39.65 7.2 \n\" style=\"fill: none; stroke: #000000; stroke-width: 0.8; stroke-linejoin: miter; stroke-linecap: square\"/>\n   </g>\n   <g id=\"patch_14\">\n    <path d=\"M 374.45 224.64 \nL 374.45 7.2 \n\" style=\"fill: none; stroke: #000000; stroke-width: 0.8; stroke-linejoin: miter; stroke-linecap: square\"/>\n   </g>\n   <g id=\"patch_15\">\n    <path d=\"M 39.65 224.64 \nL 374.45 224.64 \n\" style=\"fill: none; stroke: #000000; stroke-width: 0.8; stroke-linejoin: miter; stroke-linecap: square\"/>\n   </g>\n   <g id=\"patch_16\">\n    <path d=\"M 39.65 7.2 \nL 374.45 7.2 \n\" style=\"fill: none; stroke: #000000; stroke-width: 0.8; stroke-linejoin: miter; stroke-linecap: square\"/>\n   </g>\n  </g>\n </g>\n <defs>\n  <clipPath id=\"pec19e92087\">\n   <rect x=\"39.65\" y=\"7.2\" width=\"334.8\" height=\"217.44\"/>\n  </clipPath>\n </defs>\n</svg>\n",
      "text/plain": [
       "<Figure size 432x288 with 1 Axes>"
      ]
     },
     "metadata": {
      "needs_background": "light"
     },
     "output_type": "display_data"
    }
   ],
   "source": [
    "plt.hist(ev_data[\"ti\"])\n",
    "plt.hist(ev_data[\"tf\"])\n",
    "plt.show()\n",
    "\n",
    "plt.hist(ev_data[\"Q\"])"
   ]
  },
  {
   "cell_type": "markdown",
   "metadata": {},
   "source": [
    "## SSM Matrix"
   ]
  },
  {
   "cell_type": "code",
   "execution_count": 6,
   "metadata": {},
   "outputs": [
    {
     "data": {
      "text/plain": [
       "['soci', 'socd']"
      ]
     },
     "execution_count": 6,
     "metadata": {},
     "output_type": "execute_result"
    }
   ],
   "source": [
    "ev_pdf_name[0:2]"
   ]
  },
  {
   "cell_type": "markdown",
   "metadata": {},
   "source": [
    "## Simulation\n",
    "\n",
    "Issues: how to integerate the SSM when using ADNES?\n",
    "\n",
    "flow_chart:\n",
    "```{python}\n",
    "prep grid data:\n",
    "ADNES: topology,  gen. limits, ramp. limits, line limits,\n",
    "Outside: gen. cost, ramp. cost,\n",
    "\n",
    "for $t_{OPF}$ in T (interval: 5min; total: 1h; [n=12]):\n",
    "    aggregate EV data (from SSM), generate $PR_{e,i,u,t}$\n",
    "    Do OPF, generate $PG_{i, t}$, $PR_{g, i, u, t}$, $PR_{g, i, d, t}$\n",
    "\n",
    "    for t in $t_{OPF}$ (interval: 4s; total: 5min; [n=75]):\n",
    "        Update data into dynamic system:\n",
    "            # Note, constant power model should be used in TDS.\n",
    "            # Use TimeSeries as the load. \n",
    "            power change: TGOV1.paux0\n",
    "            load change: \n",
    "\n",
    "        Run TDS: generate SFR mileage\n",
    "```"
   ]
  }
 ],
 "metadata": {
  "interpreter": {
   "hash": "b8c542af61804583455bb3cc02c5acff1b7eab71b36b048085e6e502c5a0f30d"
  },
  "kernelspec": {
   "display_name": "Python 3.7.10 64-bit ('andes': conda)",
   "language": "python",
   "name": "python3"
  },
  "language_info": {
   "codemirror_mode": {
    "name": "ipython",
    "version": 3
   },
   "file_extension": ".py",
   "mimetype": "text/x-python",
   "name": "python",
   "nbconvert_exporter": "python",
   "pygments_lexer": "ipython3",
   "version": "3.9.10"
  },
  "orig_nbformat": 4
 },
 "nbformat": 4,
 "nbformat_minor": 2
}
