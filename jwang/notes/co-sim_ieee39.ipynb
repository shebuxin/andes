{
 "cells": [
  {
   "cell_type": "markdown",
   "metadata": {},
   "source": [
    "# RTED-TDS Co-Sim\n",
    "\n",
    "This notebook is used to implement the Co-Simulation of Real Time Economic Dispatch (RTED) and Time-Domain Simulation (TDS).\n",
    "In the RTED, SFR is considered. In the TDS, AGC is implemented.\n",
    "\n",
    "RTED is seperated into two DCOPF and ACOPF: 1) DCOPF with SFR is solved in gurobipy, which is packaged into the class ``rted`` in the file ``rted.py``. 2) ACOPF is solved in pandapower.\n",
    "\n",
    "Class ``rted`` has attributes ``rted`` and ``dcopf``. The two attributes are the RTED model and standard DCOPF model.\n",
    "The two model can be built by methods ``build_rted()`` and ``build_dcopf()``, respectively. The results can be accessed by method ``get_res()``, after successfully solved the ``rted`` or ``dcopf``.\n",
    "\n",
    "Table of contents:\n",
    "- Import case: import ADNES case\n",
    "- Load synthetic: build load curve as a scalar\n",
    "- Setup ``ssp`` and ``ssd``\n",
    "- Prepare: define some functions\n",
    "- Define param: define RTED loop parameters\n",
    "- Loop: Co-Sim loop\n",
    "\n",
    "List of major vars:\n",
    "\n",
    "- ``ssa`` ANDES system\n",
    "- ``ssp`` pandapower net\n",
    "- ``ssd`` DCOPF instance\n",
    "\n",
    "Things need to be done when switching to other cases:\n",
    "- Assign generator cost data. The rows of gen_cost array should be the same with the length of ``ssp.gen``\n",
    "  including those uncontrollable ones, so the DCOPF model can build correctly.\n",
    "- Define generator controllability of ``ssp``, all generators are controllable by default\n",
    "- Define power system data: SFR cost, ramp limit (5-min-based)\n",
    "- Define generator type in ``ssd``, default as type I. For type I generator, generator limtis have impact on both generation and SFR capacity. For yype II generator, SFR capacity is determined by param ``pru_max`` and ``prd_max``\n",
    "\n",
    "Environment requirements:\n",
    "- ANDES (1.6.3+)\n",
    "- pandapower (2.7.0 is tested to be function correctly)\n",
    "- gurobipy\n",
    "- pandas, amtplotlib, scipy"
   ]
  },
  {
   "cell_type": "markdown",
   "metadata": {},
   "source": [
    "## Import case"
   ]
  },
  {
   "cell_type": "code",
   "execution_count": 1,
   "metadata": {
    "ExecuteTime": {
     "end_time": "2021-03-20T14:50:27.821845Z",
     "start_time": "2021-03-20T14:50:27.457672Z"
    },
    "execution": {
     "iopub.execute_input": "2021-09-26T22:41:51.096056Z",
     "iopub.status.busy": "2021-09-26T22:41:51.095687Z",
     "iopub.status.idle": "2021-09-26T22:41:51.787388Z",
     "shell.execute_reply": "2021-09-26T22:41:51.787697Z"
    }
   },
   "outputs": [],
   "source": [
    "import andes\n",
    "import numpy as np\n",
    "from andes.interop.pandapower import to_pandapower, make_link_table, runopp_map\n",
    "from andes.interop.pandapower import add_gencost, build_group_table\n",
    "andes.config_logger(stream_level=20)\n",
    "\n",
    "import pandas as pd\n",
    "import pandapower as pp\n",
    "from math import ceil, floor\n",
    "\n",
    "import os\n",
    "\n",
    "import matplotlib.pyplot as plt\n",
    "\n",
    "import scipy.stats as stat\n",
    "\n",
    "from rted import rted"
   ]
  },
  {
   "cell_type": "markdown",
   "metadata": {},
   "source": [
    "Package version"
   ]
  },
  {
   "cell_type": "code",
   "execution_count": 2,
   "metadata": {},
   "outputs": [
    {
     "name": "stdout",
     "output_type": "stream",
     "text": [
      "1.6.5.post24.dev0+g9db4f326\n",
      "2.8.0\n"
     ]
    }
   ],
   "source": [
    "print(andes.__version__)\n",
    "print(pp.__version__)"
   ]
  },
  {
   "cell_type": "markdown",
   "metadata": {},
   "source": [
    "Import ADNES case"
   ]
  },
  {
   "cell_type": "code",
   "execution_count": 3,
   "metadata": {
    "ExecuteTime": {
     "end_time": "2021-03-20T14:50:33.843520Z",
     "start_time": "2021-03-20T14:50:33.664077Z"
    },
    "execution": {
     "iopub.execute_input": "2021-09-26T22:41:59.401976Z",
     "iopub.status.busy": "2021-09-26T22:41:59.401670Z",
     "iopub.status.idle": "2021-09-26T22:41:59.781185Z",
     "shell.execute_reply": "2021-09-26T22:41:59.780928Z"
    }
   },
   "outputs": [
    {
     "name": "stderr",
     "output_type": "stream",
     "text": [
      "Working directory: \"/Users/jinningwang/Documents/work/andes/jwang/notes\"\n",
      "> Loaded config from file \"/Users/jinningwang/.andes/andes.rc\"\n",
      "> Loaded generated Python code in \"/Users/jinningwang/.andes/pycode\".\n",
      "Parsing input file \"/Users/jinningwang/Documents/work/andes/jwang/case/ieee39_ev2.xlsx\"...\n",
      "Input file parsed in 0.0599 seconds.\n",
      "ACEc <1> added BusFreq <BusFreq_11> linked to bus <1>\n",
      "System internal structure set up in 0.0247 seconds.\n"
     ]
    }
   ],
   "source": [
    "# ss0 is used for PP conversion\n",
    "dir_path = os.path.abspath('..')\n",
    "case_path = '/case/ieee39_ev2.xlsx'\n",
    "case = dir_path + case_path\n",
    "ssa = andes.load(case,\n",
    "                 setup=True,\n",
    "                 no_output=True,\n",
    "                 default_config=False)"
   ]
  },
  {
   "cell_type": "markdown",
   "metadata": {},
   "source": [
    "Set load as constant load."
   ]
  },
  {
   "cell_type": "code",
   "execution_count": 4,
   "metadata": {},
   "outputs": [],
   "source": [
    "ssa.PQ.config.p2p = 1\n",
    "ssa.PQ.config.q2q = 1\n",
    "ssa.PQ.config.p2z = 0\n",
    "ssa.PQ.config.q2z = 0\n",
    "ssa.PQ.pq2z = 0"
   ]
  },
  {
   "cell_type": "markdown",
   "metadata": {},
   "source": [
    "Turn on ``numba`` can accelerate TDS."
   ]
  },
  {
   "cell_type": "code",
   "execution_count": 5,
   "metadata": {},
   "outputs": [
    {
     "data": {
      "text/plain": [
       "1"
      ]
     },
     "execution_count": 5,
     "metadata": {},
     "output_type": "execute_result"
    }
   ],
   "source": [
    "ssa.config.numba"
   ]
  },
  {
   "cell_type": "markdown",
   "metadata": {},
   "source": [
    "## Load synthetic\n",
    "\n",
    "Create load data ``d_syn``, which is a ``DataFrame`` that have three columns: ``time``, ``s10``, ``h10``. ``time`` is by seconds, ``s10`` is scalar load."
   ]
  },
  {
   "cell_type": "code",
   "execution_count": 6,
   "metadata": {
    "scrolled": false
   },
   "outputs": [
    {
     "name": "stdout",
     "output_type": "stream",
     "text": [
      "ANDES total load is: 58.564 p.u.\n"
     ]
    },
    {
     "data": {
      "text/plain": [
       "Text(0.5, 0, 'Time [s]')"
      ]
     },
     "execution_count": 6,
     "metadata": {},
     "output_type": "execute_result"
    },
    {
     "data": {
      "image/png": "[encoded data removed]",
      "text/plain": [
       "<Figure size 360x288 with 1 Axes>"
      ]
     },
     "metadata": {
      "needs_background": "light"
     },
     "output_type": "display_data"
    }
   ],
   "source": [
    "# --- get ANDES load ---\n",
    "ptotal = ssa.PQ.as_df()['p0'].sum()\n",
    "print('ANDES total load is:',ptotal.round(4),'p.u.')\n",
    "\n",
    "# --- scale d_syn ---\n",
    "ddata_path = '/case/d_syn2.csv'\n",
    "ddata = dir_path + ddata_path\n",
    "d_syn = pd.read_csv(ddata)\n",
    "\n",
    "ratio = 30\n",
    "# The equation is tuned for ieee39\n",
    "# original: (d_syn['h10'] - d_syn['h10'].mean()) / d_syn['h10'].var() * ratio + 1\n",
    "d_syn['s10'] = ratio*(d_syn['ph10'] - d_syn['ph10'].min()) / d_syn['h10'].var() + 1\n",
    "\n",
    "# calculate expected load\n",
    "step = 300\n",
    "d_exp = d_syn.groupby(d_syn.index // step).mean().copy()\n",
    "d_exp['time'] = range(0,3600,300)\n",
    "\n",
    "fig_load, ax_load = plt.subplots(figsize=(5, 4))\n",
    "ax_load.plot(d_syn['time'], d_syn['s10'], color='tab:blue', linestyle='-')\n",
    "ystep = list(d_exp['s10'])\n",
    "ystep.insert(0, d_exp['s10'].iloc[0])\n",
    "ax_load.step(range(0,3900,300), ystep, color='tab:blue', linestyle='--')\n",
    "ax_load.set_xlim([0, 3600])\n",
    "ax_load.legend(['Actual load', 'Forecasted load'])\n",
    "ax_load.set_title('Load profile')\n",
    "ax_load.set_ylabel('ratio')\n",
    "ax_load.set_xlabel('Time [s]')"
   ]
  },
  {
   "cell_type": "markdown",
   "metadata": {},
   "source": [
    "## Setup ``ssp`` and ``ssd``\n",
    "\n",
    "Convert ``ssa`` to pandapower net ``ssp``, add generator cost\n",
    "\n",
    "The input cost array follow the matpower/pypower format, now only poly_cost is supported"
   ]
  },
  {
   "cell_type": "code",
   "execution_count": 7,
   "metadata": {},
   "outputs": [],
   "source": [
    "# --- quadratic cost ---\n",
    "# gen_cost = np.array([\n",
    "#     [2, 0, 0, 3, 0.01, 0.29, 0.2],\n",
    "#     [2, 0, 0, 3, 0.01, 0.24, 0.2],\n",
    "#     [2, 0, 0, 3, 0.01, 0.26, 0.2],\n",
    "#     [2, 0, 0, 3, 0.01, 0.31, 0.2],\n",
    "#     [2, 0, 0, 3, 0.01, 0.32, 0.2],\n",
    "#     [2, 0, 0, 3, 0.01, 0.33, 0.2],\n",
    "#     [2, 0, 0, 3, 0.01, 0.34, 0.2],\n",
    "#     [2, 0, 0, 3, 0.01, 0.21, 0.2],\n",
    "#     [2, 0, 0, 3, 0.01, 0.35, 0.2],\n",
    "#     [2, 0, 0, 3, 0.00, 0.00, 0.0],    # EV\n",
    "#     [2, 0, 0, 3, 0.01, 0.40, 0.2],    # Slack\n",
    "# ])"
   ]
  },
  {
   "cell_type": "code",
   "execution_count": 8,
   "metadata": {},
   "outputs": [
    {
     "name": "stderr",
     "output_type": "stream",
     "text": [
      "-> System connectivity check results:\n",
      "  No islanded bus detected.\n",
      "  System is interconnected.\n",
      "  Each island has a slack bus correctly defined and enabled.\n",
      "\n",
      "-> Power flow calculation\n",
      "           Numba: On\n",
      "   Sparse solver: KLU\n",
      " Solution method: NR method\n",
      "Numba compilation initiated with caching.\n",
      "Power flow initialized in 0.0867 seconds.\n",
      "0: |F(x)| = 7.561234474\n",
      "1: |F(x)| = 2.916785548\n",
      "2: |F(x)| = 0.1314169328\n",
      "3: |F(x)| = 0.0003491192315\n",
      "4: |F(x)| = 4.240441775e-09\n",
      "Converged in 5 iterations in 0.0040 seconds.\n",
      "Power flow results are consistent. Conversion is successful.\n"
     ]
    },
    {
     "data": {
      "text/plain": [
       "True"
      ]
     },
     "execution_count": 8,
     "metadata": {},
     "output_type": "execute_result"
    }
   ],
   "source": [
    "# --- conversion ---\n",
    "ssp = to_pandapower(ssa)\n",
    "\n",
    "# add gen cost\n",
    "gen_cost = np.array([\n",
    "    [2, 0, 0, 3, 0.0, 0.29, 0],\n",
    "    [2, 0, 0, 3, 0.0, 0.24, 0],\n",
    "    [2, 0, 0, 3, 0.0, 0.26, 0],\n",
    "    [2, 0, 0, 3, 0.0, 0.31, 0],\n",
    "    [2, 0, 0, 3, 0.0, 0.32, 0],\n",
    "    [2, 0, 0, 3, 0.0, 0.33, 0],\n",
    "    [2, 0, 0, 3, 0.0, 0.34, 0],\n",
    "    [2, 0, 0, 3, 0.0, 0.21, 0],\n",
    "    [2, 0, 0, 3, 0.0, 0.35, 0],\n",
    "    [2, 0, 0, 3, 0.0, 0.00, 0],    # EV\n",
    "    [2, 0, 0, 3, 0.0, 0.40, 0],    # Slack\n",
    "])\n",
    "\n",
    "add_gencost(ssp, gen_cost)"
   ]
  },
  {
   "cell_type": "markdown",
   "metadata": {},
   "source": [
    "**NOTE**: Alter the controllability of generator by modifying ``ssp.gen.controllable``"
   ]
  },
  {
   "cell_type": "code",
   "execution_count": 9,
   "metadata": {},
   "outputs": [],
   "source": [
    "# set EV generator as uncontrollable\n",
    "ssp.gen.controllable.iloc[9] = False"
   ]
  },
  {
   "cell_type": "code",
   "execution_count": 10,
   "metadata": {
    "scrolled": true
   },
   "outputs": [
    {
     "data": {
      "text/html": [
       "<div>\n",
       "<style scoped>\n",
       "    .dataframe tbody tr th:only-of-type {\n",
       "        vertical-align: middle;\n",
       "    }\n",
       "\n",
       "    .dataframe tbody tr th {\n",
       "        vertical-align: top;\n",
       "    }\n",
       "\n",
       "    .dataframe thead th {\n",
       "        text-align: right;\n",
       "    }\n",
       "</style>\n",
       "<table border=\"1\" class=\"dataframe\">\n",
       "  <thead>\n",
       "    <tr style=\"text-align: right;\">\n",
       "      <th></th>\n",
       "      <th>name</th>\n",
       "      <th>bus</th>\n",
       "      <th>p_mw</th>\n",
       "      <th>vm_pu</th>\n",
       "      <th>sn_mva</th>\n",
       "      <th>min_q_mvar</th>\n",
       "      <th>max_q_mvar</th>\n",
       "      <th>scaling</th>\n",
       "      <th>slack</th>\n",
       "      <th>in_service</th>\n",
       "      <th>slack_weight</th>\n",
       "      <th>type</th>\n",
       "      <th>controllable</th>\n",
       "      <th>min_p_mw</th>\n",
       "      <th>max_p_mw</th>\n",
       "      <th>power_station_trafo</th>\n",
       "    </tr>\n",
       "  </thead>\n",
       "  <tbody>\n",
       "    <tr>\n",
       "      <th>0</th>\n",
       "      <td>PV_1</td>\n",
       "      <td>29</td>\n",
       "      <td>436.086385</td>\n",
       "      <td>1.035534</td>\n",
       "      <td>100.0</td>\n",
       "      <td>-58.084</td>\n",
       "      <td>153.180</td>\n",
       "      <td>1.0</td>\n",
       "      <td>False</td>\n",
       "      <td>True</td>\n",
       "      <td>0.0</td>\n",
       "      <td>None</td>\n",
       "      <td>True</td>\n",
       "      <td>10.0</td>\n",
       "      <td>1200.0</td>\n",
       "      <td>NaN</td>\n",
       "    </tr>\n",
       "    <tr>\n",
       "      <th>1</th>\n",
       "      <td>PV_2</td>\n",
       "      <td>30</td>\n",
       "      <td>645.999998</td>\n",
       "      <td>1.013246</td>\n",
       "      <td>100.0</td>\n",
       "      <td>-122.665</td>\n",
       "      <td>429.804</td>\n",
       "      <td>1.0</td>\n",
       "      <td>False</td>\n",
       "      <td>True</td>\n",
       "      <td>0.0</td>\n",
       "      <td>None</td>\n",
       "      <td>True</td>\n",
       "      <td>10.0</td>\n",
       "      <td>800.0</td>\n",
       "      <td>NaN</td>\n",
       "    </tr>\n",
       "    <tr>\n",
       "      <th>2</th>\n",
       "      <td>PV_3</td>\n",
       "      <td>31</td>\n",
       "      <td>724.999998</td>\n",
       "      <td>1.020528</td>\n",
       "      <td>100.0</td>\n",
       "      <td>-180.218</td>\n",
       "      <td>446.722</td>\n",
       "      <td>1.0</td>\n",
       "      <td>False</td>\n",
       "      <td>True</td>\n",
       "      <td>0.0</td>\n",
       "      <td>None</td>\n",
       "      <td>True</td>\n",
       "      <td>10.0</td>\n",
       "      <td>1000.0</td>\n",
       "      <td>NaN</td>\n",
       "    </tr>\n",
       "    <tr>\n",
       "      <th>3</th>\n",
       "      <td>PV_4</td>\n",
       "      <td>32</td>\n",
       "      <td>651.999998</td>\n",
       "      <td>1.013430</td>\n",
       "      <td>100.0</td>\n",
       "      <td>-213.780</td>\n",
       "      <td>548.208</td>\n",
       "      <td>1.0</td>\n",
       "      <td>False</td>\n",
       "      <td>True</td>\n",
       "      <td>0.0</td>\n",
       "      <td>None</td>\n",
       "      <td>True</td>\n",
       "      <td>10.0</td>\n",
       "      <td>800.0</td>\n",
       "      <td>NaN</td>\n",
       "    </tr>\n",
       "    <tr>\n",
       "      <th>4</th>\n",
       "      <td>PV_5</td>\n",
       "      <td>33</td>\n",
       "      <td>520.000000</td>\n",
       "      <td>1.019109</td>\n",
       "      <td>100.0</td>\n",
       "      <td>-188.028</td>\n",
       "      <td>611.495</td>\n",
       "      <td>1.0</td>\n",
       "      <td>False</td>\n",
       "      <td>True</td>\n",
       "      <td>0.0</td>\n",
       "      <td>None</td>\n",
       "      <td>True</td>\n",
       "      <td>10.0</td>\n",
       "      <td>800.0</td>\n",
       "      <td>NaN</td>\n",
       "    </tr>\n",
       "    <tr>\n",
       "      <th>5</th>\n",
       "      <td>PV_6</td>\n",
       "      <td>34</td>\n",
       "      <td>690.000000</td>\n",
       "      <td>1.060000</td>\n",
       "      <td>100.0</td>\n",
       "      <td>-234.972</td>\n",
       "      <td>593.788</td>\n",
       "      <td>1.0</td>\n",
       "      <td>False</td>\n",
       "      <td>True</td>\n",
       "      <td>0.0</td>\n",
       "      <td>None</td>\n",
       "      <td>True</td>\n",
       "      <td>10.0</td>\n",
       "      <td>700.0</td>\n",
       "      <td>NaN</td>\n",
       "    </tr>\n",
       "    <tr>\n",
       "      <th>6</th>\n",
       "      <td>PV_7</td>\n",
       "      <td>35</td>\n",
       "      <td>590.000000</td>\n",
       "      <td>1.060000</td>\n",
       "      <td>100.0</td>\n",
       "      <td>-249.132</td>\n",
       "      <td>568.372</td>\n",
       "      <td>1.0</td>\n",
       "      <td>False</td>\n",
       "      <td>True</td>\n",
       "      <td>0.0</td>\n",
       "      <td>None</td>\n",
       "      <td>True</td>\n",
       "      <td>10.0</td>\n",
       "      <td>700.0</td>\n",
       "      <td>NaN</td>\n",
       "    </tr>\n",
       "    <tr>\n",
       "      <th>7</th>\n",
       "      <td>PV_8</td>\n",
       "      <td>36</td>\n",
       "      <td>330.000000</td>\n",
       "      <td>1.013996</td>\n",
       "      <td>100.0</td>\n",
       "      <td>-216.122</td>\n",
       "      <td>443.468</td>\n",
       "      <td>1.0</td>\n",
       "      <td>False</td>\n",
       "      <td>True</td>\n",
       "      <td>0.0</td>\n",
       "      <td>None</td>\n",
       "      <td>True</td>\n",
       "      <td>10.0</td>\n",
       "      <td>700.0</td>\n",
       "      <td>NaN</td>\n",
       "    </tr>\n",
       "    <tr>\n",
       "      <th>8</th>\n",
       "      <td>PV_9</td>\n",
       "      <td>37</td>\n",
       "      <td>780.000000</td>\n",
       "      <td>1.052803</td>\n",
       "      <td>100.0</td>\n",
       "      <td>-356.889</td>\n",
       "      <td>834.775</td>\n",
       "      <td>1.0</td>\n",
       "      <td>False</td>\n",
       "      <td>True</td>\n",
       "      <td>0.0</td>\n",
       "      <td>None</td>\n",
       "      <td>True</td>\n",
       "      <td>10.0</td>\n",
       "      <td>1000.0</td>\n",
       "      <td>NaN</td>\n",
       "    </tr>\n",
       "    <tr>\n",
       "      <th>9</th>\n",
       "      <td>PV_10</td>\n",
       "      <td>37</td>\n",
       "      <td>-50.000000</td>\n",
       "      <td>1.052803</td>\n",
       "      <td>100.0</td>\n",
       "      <td>0.000</td>\n",
       "      <td>0.000</td>\n",
       "      <td>1.0</td>\n",
       "      <td>False</td>\n",
       "      <td>True</td>\n",
       "      <td>0.0</td>\n",
       "      <td>None</td>\n",
       "      <td>False</td>\n",
       "      <td>-60.0</td>\n",
       "      <td>70.0</td>\n",
       "      <td>NaN</td>\n",
       "    </tr>\n",
       "    <tr>\n",
       "      <th>10</th>\n",
       "      <td>Slack_10</td>\n",
       "      <td>38</td>\n",
       "      <td>574.170000</td>\n",
       "      <td>1.030000</td>\n",
       "      <td>100.0</td>\n",
       "      <td>-173.261</td>\n",
       "      <td>574.850</td>\n",
       "      <td>1.0</td>\n",
       "      <td>True</td>\n",
       "      <td>True</td>\n",
       "      <td>0.0</td>\n",
       "      <td>None</td>\n",
       "      <td>True</td>\n",
       "      <td>300.0</td>\n",
       "      <td>1500.0</td>\n",
       "      <td>NaN</td>\n",
       "    </tr>\n",
       "  </tbody>\n",
       "</table>\n",
       "</div>"
      ],
      "text/plain": [
       "        name  bus        p_mw     vm_pu  sn_mva  min_q_mvar  max_q_mvar  \\\n",
       "0       PV_1   29  436.086385  1.035534   100.0     -58.084     153.180   \n",
       "1       PV_2   30  645.999998  1.013246   100.0    -122.665     429.804   \n",
       "2       PV_3   31  724.999998  1.020528   100.0    -180.218     446.722   \n",
       "3       PV_4   32  651.999998  1.013430   100.0    -213.780     548.208   \n",
       "4       PV_5   33  520.000000  1.019109   100.0    -188.028     611.495   \n",
       "5       PV_6   34  690.000000  1.060000   100.0    -234.972     593.788   \n",
       "6       PV_7   35  590.000000  1.060000   100.0    -249.132     568.372   \n",
       "7       PV_8   36  330.000000  1.013996   100.0    -216.122     443.468   \n",
       "8       PV_9   37  780.000000  1.052803   100.0    -356.889     834.775   \n",
       "9      PV_10   37  -50.000000  1.052803   100.0       0.000       0.000   \n",
       "10  Slack_10   38  574.170000  1.030000   100.0    -173.261     574.850   \n",
       "\n",
       "    scaling  slack  in_service  slack_weight  type controllable  min_p_mw  \\\n",
       "0       1.0  False        True           0.0  None         True      10.0   \n",
       "1       1.0  False        True           0.0  None         True      10.0   \n",
       "2       1.0  False        True           0.0  None         True      10.0   \n",
       "3       1.0  False        True           0.0  None         True      10.0   \n",
       "4       1.0  False        True           0.0  None         True      10.0   \n",
       "5       1.0  False        True           0.0  None         True      10.0   \n",
       "6       1.0  False        True           0.0  None         True      10.0   \n",
       "7       1.0  False        True           0.0  None         True      10.0   \n",
       "8       1.0  False        True           0.0  None         True      10.0   \n",
       "9       1.0  False        True           0.0  None        False     -60.0   \n",
       "10      1.0   True        True           0.0  None         True     300.0   \n",
       "\n",
       "    max_p_mw  power_station_trafo  \n",
       "0     1200.0                  NaN  \n",
       "1      800.0                  NaN  \n",
       "2     1000.0                  NaN  \n",
       "3      800.0                  NaN  \n",
       "4      800.0                  NaN  \n",
       "5      700.0                  NaN  \n",
       "6      700.0                  NaN  \n",
       "7      700.0                  NaN  \n",
       "8     1000.0                  NaN  \n",
       "9       70.0                  NaN  \n",
       "10    1500.0                  NaN  "
      ]
     },
     "execution_count": 10,
     "metadata": {},
     "output_type": "execute_result"
    }
   ],
   "source": [
    "ssp.gen"
   ]
  },
  {
   "cell_type": "markdown",
   "metadata": {},
   "source": [
    "Build DCOPF instance ``ssd``"
   ]
  },
  {
   "cell_type": "code",
   "execution_count": 11,
   "metadata": {},
   "outputs": [
    {
     "name": "stderr",
     "output_type": "stream",
     "text": [
      "GSF is consistent.\n"
     ]
    }
   ],
   "source": [
    "ssd = rted(ssp)"
   ]
  },
  {
   "cell_type": "markdown",
   "metadata": {},
   "source": [
    "Alter the EV generator type in ``ssd``"
   ]
  },
  {
   "cell_type": "code",
   "execution_count": 12,
   "metadata": {},
   "outputs": [
    {
     "data": {
      "text/plain": [
       "True"
      ]
     },
     "execution_count": 12,
     "metadata": {},
     "output_type": "execute_result"
    }
   ],
   "source": [
    "ssd.def_typeII(['gen10'])"
   ]
  },
  {
   "cell_type": "code",
   "execution_count": 13,
   "metadata": {},
   "outputs": [
    {
     "data": {
      "text/html": [
       "<div>\n",
       "<style scoped>\n",
       "    .dataframe tbody tr th:only-of-type {\n",
       "        vertical-align: middle;\n",
       "    }\n",
       "\n",
       "    .dataframe tbody tr th {\n",
       "        vertical-align: top;\n",
       "    }\n",
       "\n",
       "    .dataframe thead th {\n",
       "        text-align: right;\n",
       "    }\n",
       "</style>\n",
       "<table border=\"1\" class=\"dataframe\">\n",
       "  <thead>\n",
       "    <tr style=\"text-align: right;\">\n",
       "      <th></th>\n",
       "      <th>gen_pp</th>\n",
       "      <th>cp1</th>\n",
       "      <th>cp2</th>\n",
       "      <th>cp0</th>\n",
       "      <th>bus</th>\n",
       "      <th>ctrl</th>\n",
       "      <th>p0</th>\n",
       "      <th>pmax</th>\n",
       "      <th>pmin</th>\n",
       "      <th>type</th>\n",
       "      <th>c_ru</th>\n",
       "      <th>c_rd</th>\n",
       "      <th>rampu</th>\n",
       "      <th>rampd</th>\n",
       "      <th>p_pre</th>\n",
       "      <th>pru_max</th>\n",
       "      <th>prd_max</th>\n",
       "    </tr>\n",
       "    <tr>\n",
       "      <th>name</th>\n",
       "      <th></th>\n",
       "      <th></th>\n",
       "      <th></th>\n",
       "      <th></th>\n",
       "      <th></th>\n",
       "      <th></th>\n",
       "      <th></th>\n",
       "      <th></th>\n",
       "      <th></th>\n",
       "      <th></th>\n",
       "      <th></th>\n",
       "      <th></th>\n",
       "      <th></th>\n",
       "      <th></th>\n",
       "      <th></th>\n",
       "      <th></th>\n",
       "      <th></th>\n",
       "    </tr>\n",
       "  </thead>\n",
       "  <tbody>\n",
       "    <tr>\n",
       "      <th>gen1</th>\n",
       "      <td>PV_1</td>\n",
       "      <td>0.29</td>\n",
       "      <td>0.0</td>\n",
       "      <td>0.0</td>\n",
       "      <td>29</td>\n",
       "      <td>1</td>\n",
       "      <td>4.360864</td>\n",
       "      <td>12.0</td>\n",
       "      <td>0.1</td>\n",
       "      <td>I</td>\n",
       "      <td>0</td>\n",
       "      <td>0</td>\n",
       "      <td>10</td>\n",
       "      <td>10</td>\n",
       "      <td>0</td>\n",
       "      <td>0</td>\n",
       "      <td>0</td>\n",
       "    </tr>\n",
       "    <tr>\n",
       "      <th>gen2</th>\n",
       "      <td>PV_2</td>\n",
       "      <td>0.24</td>\n",
       "      <td>0.0</td>\n",
       "      <td>0.0</td>\n",
       "      <td>30</td>\n",
       "      <td>1</td>\n",
       "      <td>6.460000</td>\n",
       "      <td>8.0</td>\n",
       "      <td>0.1</td>\n",
       "      <td>I</td>\n",
       "      <td>0</td>\n",
       "      <td>0</td>\n",
       "      <td>10</td>\n",
       "      <td>10</td>\n",
       "      <td>0</td>\n",
       "      <td>0</td>\n",
       "      <td>0</td>\n",
       "    </tr>\n",
       "    <tr>\n",
       "      <th>gen3</th>\n",
       "      <td>PV_3</td>\n",
       "      <td>0.26</td>\n",
       "      <td>0.0</td>\n",
       "      <td>0.0</td>\n",
       "      <td>31</td>\n",
       "      <td>1</td>\n",
       "      <td>7.250000</td>\n",
       "      <td>10.0</td>\n",
       "      <td>0.1</td>\n",
       "      <td>I</td>\n",
       "      <td>0</td>\n",
       "      <td>0</td>\n",
       "      <td>10</td>\n",
       "      <td>10</td>\n",
       "      <td>0</td>\n",
       "      <td>0</td>\n",
       "      <td>0</td>\n",
       "    </tr>\n",
       "    <tr>\n",
       "      <th>gen4</th>\n",
       "      <td>PV_4</td>\n",
       "      <td>0.31</td>\n",
       "      <td>0.0</td>\n",
       "      <td>0.0</td>\n",
       "      <td>32</td>\n",
       "      <td>1</td>\n",
       "      <td>6.520000</td>\n",
       "      <td>8.0</td>\n",
       "      <td>0.1</td>\n",
       "      <td>I</td>\n",
       "      <td>0</td>\n",
       "      <td>0</td>\n",
       "      <td>10</td>\n",
       "      <td>10</td>\n",
       "      <td>0</td>\n",
       "      <td>0</td>\n",
       "      <td>0</td>\n",
       "    </tr>\n",
       "    <tr>\n",
       "      <th>gen5</th>\n",
       "      <td>PV_5</td>\n",
       "      <td>0.32</td>\n",
       "      <td>0.0</td>\n",
       "      <td>0.0</td>\n",
       "      <td>33</td>\n",
       "      <td>1</td>\n",
       "      <td>5.200000</td>\n",
       "      <td>8.0</td>\n",
       "      <td>0.1</td>\n",
       "      <td>I</td>\n",
       "      <td>0</td>\n",
       "      <td>0</td>\n",
       "      <td>10</td>\n",
       "      <td>10</td>\n",
       "      <td>0</td>\n",
       "      <td>0</td>\n",
       "      <td>0</td>\n",
       "    </tr>\n",
       "    <tr>\n",
       "      <th>gen6</th>\n",
       "      <td>PV_6</td>\n",
       "      <td>0.33</td>\n",
       "      <td>0.0</td>\n",
       "      <td>0.0</td>\n",
       "      <td>34</td>\n",
       "      <td>1</td>\n",
       "      <td>6.900000</td>\n",
       "      <td>7.0</td>\n",
       "      <td>0.1</td>\n",
       "      <td>I</td>\n",
       "      <td>0</td>\n",
       "      <td>0</td>\n",
       "      <td>10</td>\n",
       "      <td>10</td>\n",
       "      <td>0</td>\n",
       "      <td>0</td>\n",
       "      <td>0</td>\n",
       "    </tr>\n",
       "    <tr>\n",
       "      <th>gen7</th>\n",
       "      <td>PV_7</td>\n",
       "      <td>0.34</td>\n",
       "      <td>0.0</td>\n",
       "      <td>0.0</td>\n",
       "      <td>35</td>\n",
       "      <td>1</td>\n",
       "      <td>5.900000</td>\n",
       "      <td>7.0</td>\n",
       "      <td>0.1</td>\n",
       "      <td>I</td>\n",
       "      <td>0</td>\n",
       "      <td>0</td>\n",
       "      <td>10</td>\n",
       "      <td>10</td>\n",
       "      <td>0</td>\n",
       "      <td>0</td>\n",
       "      <td>0</td>\n",
       "    </tr>\n",
       "    <tr>\n",
       "      <th>gen8</th>\n",
       "      <td>PV_8</td>\n",
       "      <td>0.21</td>\n",
       "      <td>0.0</td>\n",
       "      <td>0.0</td>\n",
       "      <td>36</td>\n",
       "      <td>1</td>\n",
       "      <td>3.300000</td>\n",
       "      <td>7.0</td>\n",
       "      <td>0.1</td>\n",
       "      <td>I</td>\n",
       "      <td>0</td>\n",
       "      <td>0</td>\n",
       "      <td>10</td>\n",
       "      <td>10</td>\n",
       "      <td>0</td>\n",
       "      <td>0</td>\n",
       "      <td>0</td>\n",
       "    </tr>\n",
       "    <tr>\n",
       "      <th>gen9</th>\n",
       "      <td>PV_9</td>\n",
       "      <td>0.35</td>\n",
       "      <td>0.0</td>\n",
       "      <td>0.0</td>\n",
       "      <td>37</td>\n",
       "      <td>1</td>\n",
       "      <td>7.800000</td>\n",
       "      <td>10.0</td>\n",
       "      <td>0.1</td>\n",
       "      <td>I</td>\n",
       "      <td>0</td>\n",
       "      <td>0</td>\n",
       "      <td>10</td>\n",
       "      <td>10</td>\n",
       "      <td>0</td>\n",
       "      <td>0</td>\n",
       "      <td>0</td>\n",
       "    </tr>\n",
       "    <tr>\n",
       "      <th>gen10</th>\n",
       "      <td>PV_10</td>\n",
       "      <td>0.00</td>\n",
       "      <td>0.0</td>\n",
       "      <td>0.0</td>\n",
       "      <td>37</td>\n",
       "      <td>0</td>\n",
       "      <td>-0.500000</td>\n",
       "      <td>-0.5</td>\n",
       "      <td>-0.5</td>\n",
       "      <td>II</td>\n",
       "      <td>0</td>\n",
       "      <td>0</td>\n",
       "      <td>10</td>\n",
       "      <td>10</td>\n",
       "      <td>0</td>\n",
       "      <td>0</td>\n",
       "      <td>0</td>\n",
       "    </tr>\n",
       "    <tr>\n",
       "      <th>gen11</th>\n",
       "      <td>Slack_10</td>\n",
       "      <td>0.40</td>\n",
       "      <td>0.0</td>\n",
       "      <td>0.0</td>\n",
       "      <td>38</td>\n",
       "      <td>1</td>\n",
       "      <td>5.741700</td>\n",
       "      <td>15.0</td>\n",
       "      <td>3.0</td>\n",
       "      <td>I</td>\n",
       "      <td>0</td>\n",
       "      <td>0</td>\n",
       "      <td>10</td>\n",
       "      <td>10</td>\n",
       "      <td>0</td>\n",
       "      <td>0</td>\n",
       "      <td>0</td>\n",
       "    </tr>\n",
       "  </tbody>\n",
       "</table>\n",
       "</div>"
      ],
      "text/plain": [
       "         gen_pp   cp1  cp2  cp0  bus  ctrl        p0  pmax  pmin type  c_ru  \\\n",
       "name                                                                          \n",
       "gen1       PV_1  0.29  0.0  0.0   29     1  4.360864  12.0   0.1    I     0   \n",
       "gen2       PV_2  0.24  0.0  0.0   30     1  6.460000   8.0   0.1    I     0   \n",
       "gen3       PV_3  0.26  0.0  0.0   31     1  7.250000  10.0   0.1    I     0   \n",
       "gen4       PV_4  0.31  0.0  0.0   32     1  6.520000   8.0   0.1    I     0   \n",
       "gen5       PV_5  0.32  0.0  0.0   33     1  5.200000   8.0   0.1    I     0   \n",
       "gen6       PV_6  0.33  0.0  0.0   34     1  6.900000   7.0   0.1    I     0   \n",
       "gen7       PV_7  0.34  0.0  0.0   35     1  5.900000   7.0   0.1    I     0   \n",
       "gen8       PV_8  0.21  0.0  0.0   36     1  3.300000   7.0   0.1    I     0   \n",
       "gen9       PV_9  0.35  0.0  0.0   37     1  7.800000  10.0   0.1    I     0   \n",
       "gen10     PV_10  0.00  0.0  0.0   37     0 -0.500000  -0.5  -0.5   II     0   \n",
       "gen11  Slack_10  0.40  0.0  0.0   38     1  5.741700  15.0   3.0    I     0   \n",
       "\n",
       "       c_rd  rampu  rampd  p_pre  pru_max  prd_max  \n",
       "name                                                \n",
       "gen1      0     10     10      0        0        0  \n",
       "gen2      0     10     10      0        0        0  \n",
       "gen3      0     10     10      0        0        0  \n",
       "gen4      0     10     10      0        0        0  \n",
       "gen5      0     10     10      0        0        0  \n",
       "gen6      0     10     10      0        0        0  \n",
       "gen7      0     10     10      0        0        0  \n",
       "gen8      0     10     10      0        0        0  \n",
       "gen9      0     10     10      0        0        0  \n",
       "gen10     0     10     10      0        0        0  \n",
       "gen11     0     10     10      0        0        0  "
      ]
     },
     "execution_count": 13,
     "metadata": {},
     "output_type": "execute_result"
    }
   ],
   "source": [
    "ssd.gendata"
   ]
  },
  {
   "cell_type": "markdown",
   "metadata": {},
   "source": [
    "Benchmark Standard DCOPF of ``ssd`` with ``ssp``"
   ]
  },
  {
   "cell_type": "code",
   "execution_count": 14,
   "metadata": {},
   "outputs": [
    {
     "data": {
      "text/html": [
       "<div>\n",
       "<style scoped>\n",
       "    .dataframe tbody tr th:only-of-type {\n",
       "        vertical-align: middle;\n",
       "    }\n",
       "\n",
       "    .dataframe tbody tr th {\n",
       "        vertical-align: top;\n",
       "    }\n",
       "\n",
       "    .dataframe thead th {\n",
       "        text-align: right;\n",
       "    }\n",
       "</style>\n",
       "<table border=\"1\" class=\"dataframe\">\n",
       "  <thead>\n",
       "    <tr style=\"text-align: right;\">\n",
       "      <th></th>\n",
       "      <th>name</th>\n",
       "      <th>bus</th>\n",
       "      <th>p_mw</th>\n",
       "      <th>vm_pu</th>\n",
       "      <th>sn_mva</th>\n",
       "      <th>min_q_mvar</th>\n",
       "      <th>max_q_mvar</th>\n",
       "      <th>scaling</th>\n",
       "      <th>slack</th>\n",
       "      <th>in_service</th>\n",
       "      <th>slack_weight</th>\n",
       "      <th>type</th>\n",
       "      <th>controllable</th>\n",
       "      <th>min_p_mw</th>\n",
       "      <th>max_p_mw</th>\n",
       "      <th>power_station_trafo</th>\n",
       "    </tr>\n",
       "  </thead>\n",
       "  <tbody>\n",
       "    <tr>\n",
       "      <th>0</th>\n",
       "      <td>PV_1</td>\n",
       "      <td>29</td>\n",
       "      <td>436.086385</td>\n",
       "      <td>1.035534</td>\n",
       "      <td>100.0</td>\n",
       "      <td>-58.084</td>\n",
       "      <td>153.180</td>\n",
       "      <td>1.0</td>\n",
       "      <td>False</td>\n",
       "      <td>True</td>\n",
       "      <td>0.0</td>\n",
       "      <td>None</td>\n",
       "      <td>True</td>\n",
       "      <td>10.0</td>\n",
       "      <td>1200.0</td>\n",
       "      <td>NaN</td>\n",
       "    </tr>\n",
       "    <tr>\n",
       "      <th>1</th>\n",
       "      <td>PV_2</td>\n",
       "      <td>30</td>\n",
       "      <td>645.999998</td>\n",
       "      <td>1.013246</td>\n",
       "      <td>100.0</td>\n",
       "      <td>-122.665</td>\n",
       "      <td>429.804</td>\n",
       "      <td>1.0</td>\n",
       "      <td>False</td>\n",
       "      <td>True</td>\n",
       "      <td>0.0</td>\n",
       "      <td>None</td>\n",
       "      <td>True</td>\n",
       "      <td>10.0</td>\n",
       "      <td>800.0</td>\n",
       "      <td>NaN</td>\n",
       "    </tr>\n",
       "    <tr>\n",
       "      <th>2</th>\n",
       "      <td>PV_3</td>\n",
       "      <td>31</td>\n",
       "      <td>724.999998</td>\n",
       "      <td>1.020528</td>\n",
       "      <td>100.0</td>\n",
       "      <td>-180.218</td>\n",
       "      <td>446.722</td>\n",
       "      <td>1.0</td>\n",
       "      <td>False</td>\n",
       "      <td>True</td>\n",
       "      <td>0.0</td>\n",
       "      <td>None</td>\n",
       "      <td>True</td>\n",
       "      <td>10.0</td>\n",
       "      <td>1000.0</td>\n",
       "      <td>NaN</td>\n",
       "    </tr>\n",
       "    <tr>\n",
       "      <th>3</th>\n",
       "      <td>PV_4</td>\n",
       "      <td>32</td>\n",
       "      <td>651.999998</td>\n",
       "      <td>1.013430</td>\n",
       "      <td>100.0</td>\n",
       "      <td>-213.780</td>\n",
       "      <td>548.208</td>\n",
       "      <td>1.0</td>\n",
       "      <td>False</td>\n",
       "      <td>True</td>\n",
       "      <td>0.0</td>\n",
       "      <td>None</td>\n",
       "      <td>True</td>\n",
       "      <td>10.0</td>\n",
       "      <td>800.0</td>\n",
       "      <td>NaN</td>\n",
       "    </tr>\n",
       "    <tr>\n",
       "      <th>4</th>\n",
       "      <td>PV_5</td>\n",
       "      <td>33</td>\n",
       "      <td>520.000000</td>\n",
       "      <td>1.019109</td>\n",
       "      <td>100.0</td>\n",
       "      <td>-188.028</td>\n",
       "      <td>611.495</td>\n",
       "      <td>1.0</td>\n",
       "      <td>False</td>\n",
       "      <td>True</td>\n",
       "      <td>0.0</td>\n",
       "      <td>None</td>\n",
       "      <td>True</td>\n",
       "      <td>10.0</td>\n",
       "      <td>800.0</td>\n",
       "      <td>NaN</td>\n",
       "    </tr>\n",
       "    <tr>\n",
       "      <th>5</th>\n",
       "      <td>PV_6</td>\n",
       "      <td>34</td>\n",
       "      <td>690.000000</td>\n",
       "      <td>1.060000</td>\n",
       "      <td>100.0</td>\n",
       "      <td>-234.972</td>\n",
       "      <td>593.788</td>\n",
       "      <td>1.0</td>\n",
       "      <td>False</td>\n",
       "      <td>True</td>\n",
       "      <td>0.0</td>\n",
       "      <td>None</td>\n",
       "      <td>True</td>\n",
       "      <td>10.0</td>\n",
       "      <td>700.0</td>\n",
       "      <td>NaN</td>\n",
       "    </tr>\n",
       "    <tr>\n",
       "      <th>6</th>\n",
       "      <td>PV_7</td>\n",
       "      <td>35</td>\n",
       "      <td>590.000000</td>\n",
       "      <td>1.060000</td>\n",
       "      <td>100.0</td>\n",
       "      <td>-249.132</td>\n",
       "      <td>568.372</td>\n",
       "      <td>1.0</td>\n",
       "      <td>False</td>\n",
       "      <td>True</td>\n",
       "      <td>0.0</td>\n",
       "      <td>None</td>\n",
       "      <td>True</td>\n",
       "      <td>10.0</td>\n",
       "      <td>700.0</td>\n",
       "      <td>NaN</td>\n",
       "    </tr>\n",
       "    <tr>\n",
       "      <th>7</th>\n",
       "      <td>PV_8</td>\n",
       "      <td>36</td>\n",
       "      <td>330.000000</td>\n",
       "      <td>1.013996</td>\n",
       "      <td>100.0</td>\n",
       "      <td>-216.122</td>\n",
       "      <td>443.468</td>\n",
       "      <td>1.0</td>\n",
       "      <td>False</td>\n",
       "      <td>True</td>\n",
       "      <td>0.0</td>\n",
       "      <td>None</td>\n",
       "      <td>True</td>\n",
       "      <td>10.0</td>\n",
       "      <td>700.0</td>\n",
       "      <td>NaN</td>\n",
       "    </tr>\n",
       "    <tr>\n",
       "      <th>8</th>\n",
       "      <td>PV_9</td>\n",
       "      <td>37</td>\n",
       "      <td>780.000000</td>\n",
       "      <td>1.052803</td>\n",
       "      <td>100.0</td>\n",
       "      <td>-356.889</td>\n",
       "      <td>834.775</td>\n",
       "      <td>1.0</td>\n",
       "      <td>False</td>\n",
       "      <td>True</td>\n",
       "      <td>0.0</td>\n",
       "      <td>None</td>\n",
       "      <td>True</td>\n",
       "      <td>10.0</td>\n",
       "      <td>1000.0</td>\n",
       "      <td>NaN</td>\n",
       "    </tr>\n",
       "    <tr>\n",
       "      <th>9</th>\n",
       "      <td>PV_10</td>\n",
       "      <td>37</td>\n",
       "      <td>-50.000000</td>\n",
       "      <td>1.052803</td>\n",
       "      <td>100.0</td>\n",
       "      <td>0.000</td>\n",
       "      <td>0.000</td>\n",
       "      <td>1.0</td>\n",
       "      <td>False</td>\n",
       "      <td>True</td>\n",
       "      <td>0.0</td>\n",
       "      <td>None</td>\n",
       "      <td>False</td>\n",
       "      <td>-60.0</td>\n",
       "      <td>70.0</td>\n",
       "      <td>NaN</td>\n",
       "    </tr>\n",
       "    <tr>\n",
       "      <th>10</th>\n",
       "      <td>Slack_10</td>\n",
       "      <td>38</td>\n",
       "      <td>574.170000</td>\n",
       "      <td>1.030000</td>\n",
       "      <td>100.0</td>\n",
       "      <td>-173.261</td>\n",
       "      <td>574.850</td>\n",
       "      <td>1.0</td>\n",
       "      <td>True</td>\n",
       "      <td>True</td>\n",
       "      <td>0.0</td>\n",
       "      <td>None</td>\n",
       "      <td>True</td>\n",
       "      <td>300.0</td>\n",
       "      <td>1500.0</td>\n",
       "      <td>NaN</td>\n",
       "    </tr>\n",
       "  </tbody>\n",
       "</table>\n",
       "</div>"
      ],
      "text/plain": [
       "        name  bus        p_mw     vm_pu  sn_mva  min_q_mvar  max_q_mvar  \\\n",
       "0       PV_1   29  436.086385  1.035534   100.0     -58.084     153.180   \n",
       "1       PV_2   30  645.999998  1.013246   100.0    -122.665     429.804   \n",
       "2       PV_3   31  724.999998  1.020528   100.0    -180.218     446.722   \n",
       "3       PV_4   32  651.999998  1.013430   100.0    -213.780     548.208   \n",
       "4       PV_5   33  520.000000  1.019109   100.0    -188.028     611.495   \n",
       "5       PV_6   34  690.000000  1.060000   100.0    -234.972     593.788   \n",
       "6       PV_7   35  590.000000  1.060000   100.0    -249.132     568.372   \n",
       "7       PV_8   36  330.000000  1.013996   100.0    -216.122     443.468   \n",
       "8       PV_9   37  780.000000  1.052803   100.0    -356.889     834.775   \n",
       "9      PV_10   37  -50.000000  1.052803   100.0       0.000       0.000   \n",
       "10  Slack_10   38  574.170000  1.030000   100.0    -173.261     574.850   \n",
       "\n",
       "    scaling  slack  in_service  slack_weight  type controllable  min_p_mw  \\\n",
       "0       1.0  False        True           0.0  None         True      10.0   \n",
       "1       1.0  False        True           0.0  None         True      10.0   \n",
       "2       1.0  False        True           0.0  None         True      10.0   \n",
       "3       1.0  False        True           0.0  None         True      10.0   \n",
       "4       1.0  False        True           0.0  None         True      10.0   \n",
       "5       1.0  False        True           0.0  None         True      10.0   \n",
       "6       1.0  False        True           0.0  None         True      10.0   \n",
       "7       1.0  False        True           0.0  None         True      10.0   \n",
       "8       1.0  False        True           0.0  None         True      10.0   \n",
       "9       1.0  False        True           0.0  None        False     -60.0   \n",
       "10      1.0   True        True           0.0  None         True     300.0   \n",
       "\n",
       "    max_p_mw  power_station_trafo  \n",
       "0     1200.0                  NaN  \n",
       "1      800.0                  NaN  \n",
       "2     1000.0                  NaN  \n",
       "3      800.0                  NaN  \n",
       "4      800.0                  NaN  \n",
       "5      700.0                  NaN  \n",
       "6      700.0                  NaN  \n",
       "7      700.0                  NaN  \n",
       "8     1000.0                  NaN  \n",
       "9       70.0                  NaN  \n",
       "10    1500.0                  NaN  "
      ]
     },
     "execution_count": 14,
     "metadata": {},
     "output_type": "execute_result"
    }
   ],
   "source": [
    "ssp.gen"
   ]
  },
  {
   "cell_type": "code",
   "execution_count": 15,
   "metadata": {},
   "outputs": [
    {
     "name": "stderr",
     "output_type": "stream",
     "text": [
      "pru_max length does not match Type II generator numbers!\n",
      "prd_max length does not match Type II generator numbers!\n"
     ]
    },
    {
     "name": "stdout",
     "output_type": "stream",
     "text": [
      "Restricted license - for non-production use only - expires 2023-10-25\n",
      "Warning for adding constraints: zero or small (< 1e-13) coefficients, ignored\n",
      "Gurobi Optimizer version 9.5.1 build v9.5.1rc2 (mac64[arm])\n",
      "Thread count: 8 physical cores, 8 logical processors, using up to 8 threads\n",
      "Optimize a model with 139 rows, 33 columns and 657 nonzeros\n",
      "Model fingerprint: 0x52c31272\n",
      "Coefficient statistics:\n",
      "  Matrix range     [4e-03, 1e+00]\n",
      "  Objective range  [2e-01, 4e-01]\n",
      "  Bounds range     [1e-01, 2e+01]\n",
      "  RHS range        [1e-01, 6e+01]\n",
      "Presolve removed 135 rows and 23 columns\n",
      "Presolve time: 0.00s\n",
      "Presolved: 4 rows, 10 columns, 37 nonzeros\n",
      "\n",
      "Iteration    Objective       Primal Inf.    Dual Inf.      Time\n",
      "       0    1.3049440e+01   5.628765e+01   0.000000e+00      0s\n",
      "       1    1.6724120e+01   0.000000e+00   0.000000e+00      0s\n",
      "\n",
      "Solved in 1 iterations and 0.00 seconds (0.00 work units)\n",
      "Optimal objective  1.672412000e+01\n"
     ]
    },
    {
     "name": "stderr",
     "output_type": "stream",
     "text": [
      "dcopf cost (p.u.): Total=16.724, GEN=16.724, SFR=0.0\n"
     ]
    },
    {
     "name": "stdout",
     "output_type": "stream",
     "text": [
      "pp cost=1672.4120008739649\n"
     ]
    },
    {
     "data": {
      "text/html": [
       "<div>\n",
       "<style scoped>\n",
       "    .dataframe tbody tr th:only-of-type {\n",
       "        vertical-align: middle;\n",
       "    }\n",
       "\n",
       "    .dataframe tbody tr th {\n",
       "        vertical-align: top;\n",
       "    }\n",
       "\n",
       "    .dataframe thead th {\n",
       "        text-align: right;\n",
       "    }\n",
       "</style>\n",
       "<table border=\"1\" class=\"dataframe\">\n",
       "  <thead>\n",
       "    <tr style=\"text-align: right;\">\n",
       "      <th></th>\n",
       "      <th>p_mw</th>\n",
       "      <th>q_mvar</th>\n",
       "      <th>va_degree</th>\n",
       "      <th>vm_pu</th>\n",
       "      <th>p_mw(GB)</th>\n",
       "    </tr>\n",
       "  </thead>\n",
       "  <tbody>\n",
       "    <tr>\n",
       "      <th>0</th>\n",
       "      <td>1199.999998</td>\n",
       "      <td>91.721528</td>\n",
       "      <td>17.796874</td>\n",
       "      <td>1.0</td>\n",
       "      <td>1200.0</td>\n",
       "    </tr>\n",
       "    <tr>\n",
       "      <th>1</th>\n",
       "      <td>799.999999</td>\n",
       "      <td>311.370989</td>\n",
       "      <td>10.915628</td>\n",
       "      <td>1.0</td>\n",
       "      <td>800.0</td>\n",
       "    </tr>\n",
       "    <tr>\n",
       "      <th>2</th>\n",
       "      <td>999.999999</td>\n",
       "      <td>149.293426</td>\n",
       "      <td>16.465326</td>\n",
       "      <td>1.0</td>\n",
       "      <td>1000.0</td>\n",
       "    </tr>\n",
       "    <tr>\n",
       "      <th>3</th>\n",
       "      <td>799.999995</td>\n",
       "      <td>131.004236</td>\n",
       "      <td>12.008826</td>\n",
       "      <td>1.0</td>\n",
       "      <td>800.0</td>\n",
       "    </tr>\n",
       "    <tr>\n",
       "      <th>4</th>\n",
       "      <td>799.999990</td>\n",
       "      <td>146.497277</td>\n",
       "      <td>14.375004</td>\n",
       "      <td>1.0</td>\n",
       "      <td>800.0</td>\n",
       "    </tr>\n",
       "    <tr>\n",
       "      <th>5</th>\n",
       "      <td>286.400005</td>\n",
       "      <td>227.597221</td>\n",
       "      <td>-3.609774</td>\n",
       "      <td>1.0</td>\n",
       "      <td>286.4</td>\n",
       "    </tr>\n",
       "    <tr>\n",
       "      <th>6</th>\n",
       "      <td>10.000010</td>\n",
       "      <td>63.133957</td>\n",
       "      <td>-6.967094</td>\n",
       "      <td>1.0</td>\n",
       "      <td>10.0</td>\n",
       "    </tr>\n",
       "    <tr>\n",
       "      <th>7</th>\n",
       "      <td>699.999999</td>\n",
       "      <td>-27.033467</td>\n",
       "      <td>13.597839</td>\n",
       "      <td>1.0</td>\n",
       "      <td>700.0</td>\n",
       "    </tr>\n",
       "    <tr>\n",
       "      <th>8</th>\n",
       "      <td>10.000005</td>\n",
       "      <td>116.236721</td>\n",
       "      <td>-17.388174</td>\n",
       "      <td>1.0</td>\n",
       "      <td>10.0</td>\n",
       "    </tr>\n",
       "    <tr>\n",
       "      <th>9</th>\n",
       "      <td>-50.000000</td>\n",
       "      <td>0.000000</td>\n",
       "      <td>-17.388174</td>\n",
       "      <td>1.0</td>\n",
       "      <td>-50.0</td>\n",
       "    </tr>\n",
       "    <tr>\n",
       "      <th>10</th>\n",
       "      <td>300.000001</td>\n",
       "      <td>-29.933851</td>\n",
       "      <td>0.000000</td>\n",
       "      <td>1.0</td>\n",
       "      <td>300.0</td>\n",
       "    </tr>\n",
       "  </tbody>\n",
       "</table>\n",
       "</div>"
      ],
      "text/plain": [
       "           p_mw      q_mvar  va_degree  vm_pu  p_mw(GB)\n",
       "0   1199.999998   91.721528  17.796874    1.0    1200.0\n",
       "1    799.999999  311.370989  10.915628    1.0     800.0\n",
       "2    999.999999  149.293426  16.465326    1.0    1000.0\n",
       "3    799.999995  131.004236  12.008826    1.0     800.0\n",
       "4    799.999990  146.497277  14.375004    1.0     800.0\n",
       "5    286.400005  227.597221  -3.609774    1.0     286.4\n",
       "6     10.000010   63.133957  -6.967094    1.0      10.0\n",
       "7    699.999999  -27.033467  13.597839    1.0     700.0\n",
       "8     10.000005  116.236721 -17.388174    1.0      10.0\n",
       "9    -50.000000    0.000000 -17.388174    1.0     -50.0\n",
       "10   300.000001  -29.933851   0.000000    1.0     300.0"
      ]
     },
     "execution_count": 15,
     "metadata": {},
     "output_type": "execute_result"
    }
   ],
   "source": [
    "ssd.def_var(ptotal=ssp.load.p_mw.sum() / ssp.sn_mva,\n",
    "            dpd_u=0.0, dpd_d=0.0, p_pre=ssd.gendata.p0.tolist())\n",
    "ssd.build_sdc()\n",
    "ssd.dcopf.optimize()\n",
    "\n",
    "pp.rundcopp(ssp)\n",
    "ppres = ssp.res_gen.copy()\n",
    "ppres['p_mw(GB)'] = ssp.sn_mva * ssd.get_res('dcopf')['p_sch'].values\n",
    "print(f\"pp cost={ssp.res_cost}\")\n",
    "ppres"
   ]
  },
  {
   "cell_type": "markdown",
   "metadata": {},
   "source": [
    "Test RTED model of ``ssd``"
   ]
  },
  {
   "cell_type": "code",
   "execution_count": 16,
   "metadata": {},
   "outputs": [
    {
     "name": "stdout",
     "output_type": "stream",
     "text": [
      "Warning for adding constraints: zero or small (< 1e-13) coefficients, ignored\n",
      "Gurobi Optimizer version 9.5.1 build v9.5.1rc2 (mac64[arm])\n",
      "Thread count: 8 physical cores, 8 logical processors, using up to 8 threads\n",
      "Optimize a model with 117 rows, 33 columns and 635 nonzeros\n",
      "Model fingerprint: 0x6a867e44\n",
      "Coefficient statistics:\n",
      "  Matrix range     [4e-03, 1e+00]\n",
      "  Objective range  [2e-01, 4e-01]\n",
      "  Bounds range     [1e-01, 2e+01]\n",
      "  RHS range        [1e-01, 6e+01]\n",
      "Presolve removed 113 rows and 23 columns\n",
      "Presolve time: 0.00s\n",
      "Presolved: 4 rows, 10 columns, 37 nonzeros\n",
      "\n",
      "Iteration    Objective       Primal Inf.    Dual Inf.      Time\n",
      "       0    1.3049440e+01   5.628765e+01   0.000000e+00      0s\n",
      "       1    1.6724120e+01   0.000000e+00   0.000000e+00      0s\n",
      "\n",
      "Solved in 1 iterations and 0.00 seconds (0.00 work units)\n",
      "Optimal objective  1.672412000e+01\n"
     ]
    },
    {
     "name": "stderr",
     "output_type": "stream",
     "text": [
      "rted cost (p.u.): Total=16.724, GEN=16.724, SFR=0.0\n"
     ]
    },
    {
     "data": {
      "text/html": [
       "<div>\n",
       "<style scoped>\n",
       "    .dataframe tbody tr th:only-of-type {\n",
       "        vertical-align: middle;\n",
       "    }\n",
       "\n",
       "    .dataframe tbody tr th {\n",
       "        vertical-align: top;\n",
       "    }\n",
       "\n",
       "    .dataframe thead th {\n",
       "        text-align: right;\n",
       "    }\n",
       "</style>\n",
       "<table border=\"1\" class=\"dataframe\">\n",
       "  <thead>\n",
       "    <tr style=\"text-align: right;\">\n",
       "      <th></th>\n",
       "      <th>gen_pp</th>\n",
       "      <th>p_sch</th>\n",
       "      <th>pru</th>\n",
       "      <th>prd</th>\n",
       "      <th>bu</th>\n",
       "      <th>bd</th>\n",
       "    </tr>\n",
       "    <tr>\n",
       "      <th>name</th>\n",
       "      <th></th>\n",
       "      <th></th>\n",
       "      <th></th>\n",
       "      <th></th>\n",
       "      <th></th>\n",
       "      <th></th>\n",
       "    </tr>\n",
       "  </thead>\n",
       "  <tbody>\n",
       "    <tr>\n",
       "      <th>gen1</th>\n",
       "      <td>PV_1</td>\n",
       "      <td>12.000</td>\n",
       "      <td>0.0</td>\n",
       "      <td>0.0</td>\n",
       "      <td>0.0</td>\n",
       "      <td>0.0</td>\n",
       "    </tr>\n",
       "    <tr>\n",
       "      <th>gen2</th>\n",
       "      <td>PV_2</td>\n",
       "      <td>8.000</td>\n",
       "      <td>0.0</td>\n",
       "      <td>0.0</td>\n",
       "      <td>0.0</td>\n",
       "      <td>0.0</td>\n",
       "    </tr>\n",
       "    <tr>\n",
       "      <th>gen3</th>\n",
       "      <td>PV_3</td>\n",
       "      <td>10.000</td>\n",
       "      <td>0.0</td>\n",
       "      <td>0.0</td>\n",
       "      <td>0.0</td>\n",
       "      <td>0.0</td>\n",
       "    </tr>\n",
       "    <tr>\n",
       "      <th>gen4</th>\n",
       "      <td>PV_4</td>\n",
       "      <td>8.000</td>\n",
       "      <td>0.0</td>\n",
       "      <td>0.0</td>\n",
       "      <td>0.0</td>\n",
       "      <td>0.0</td>\n",
       "    </tr>\n",
       "    <tr>\n",
       "      <th>gen5</th>\n",
       "      <td>PV_5</td>\n",
       "      <td>8.000</td>\n",
       "      <td>0.0</td>\n",
       "      <td>0.0</td>\n",
       "      <td>0.0</td>\n",
       "      <td>0.0</td>\n",
       "    </tr>\n",
       "    <tr>\n",
       "      <th>gen6</th>\n",
       "      <td>PV_6</td>\n",
       "      <td>2.864</td>\n",
       "      <td>0.0</td>\n",
       "      <td>0.0</td>\n",
       "      <td>0.0</td>\n",
       "      <td>0.0</td>\n",
       "    </tr>\n",
       "    <tr>\n",
       "      <th>gen7</th>\n",
       "      <td>PV_7</td>\n",
       "      <td>0.100</td>\n",
       "      <td>0.0</td>\n",
       "      <td>0.0</td>\n",
       "      <td>0.0</td>\n",
       "      <td>0.0</td>\n",
       "    </tr>\n",
       "    <tr>\n",
       "      <th>gen8</th>\n",
       "      <td>PV_8</td>\n",
       "      <td>7.000</td>\n",
       "      <td>0.0</td>\n",
       "      <td>0.0</td>\n",
       "      <td>0.0</td>\n",
       "      <td>0.0</td>\n",
       "    </tr>\n",
       "    <tr>\n",
       "      <th>gen9</th>\n",
       "      <td>PV_9</td>\n",
       "      <td>0.100</td>\n",
       "      <td>0.0</td>\n",
       "      <td>0.0</td>\n",
       "      <td>0.0</td>\n",
       "      <td>0.0</td>\n",
       "    </tr>\n",
       "    <tr>\n",
       "      <th>gen10</th>\n",
       "      <td>PV_10</td>\n",
       "      <td>-0.500</td>\n",
       "      <td>0.0</td>\n",
       "      <td>0.0</td>\n",
       "      <td>0.0</td>\n",
       "      <td>0.0</td>\n",
       "    </tr>\n",
       "    <tr>\n",
       "      <th>gen11</th>\n",
       "      <td>Slack_10</td>\n",
       "      <td>3.000</td>\n",
       "      <td>0.0</td>\n",
       "      <td>0.0</td>\n",
       "      <td>0.0</td>\n",
       "      <td>0.0</td>\n",
       "    </tr>\n",
       "  </tbody>\n",
       "</table>\n",
       "</div>"
      ],
      "text/plain": [
       "         gen_pp   p_sch  pru  prd   bu   bd\n",
       "name                                       \n",
       "gen1       PV_1  12.000  0.0  0.0  0.0  0.0\n",
       "gen2       PV_2   8.000  0.0  0.0  0.0  0.0\n",
       "gen3       PV_3  10.000  0.0  0.0  0.0  0.0\n",
       "gen4       PV_4   8.000  0.0  0.0  0.0  0.0\n",
       "gen5       PV_5   8.000  0.0  0.0  0.0  0.0\n",
       "gen6       PV_6   2.864  0.0  0.0  0.0  0.0\n",
       "gen7       PV_7   0.100  0.0  0.0  0.0  0.0\n",
       "gen8       PV_8   7.000  0.0  0.0  0.0  0.0\n",
       "gen9       PV_9   0.100  0.0  0.0  0.0  0.0\n",
       "gen10     PV_10  -0.500  0.0  0.0  0.0  0.0\n",
       "gen11  Slack_10   3.000  0.0  0.0  0.0  0.0"
      ]
     },
     "execution_count": 16,
     "metadata": {},
     "output_type": "execute_result"
    }
   ],
   "source": [
    "# def. parameters\n",
    "ssd.def_ps(c_ru=[], c_rd=[], rampu=[], rampd=[])\n",
    "# # def. variables\n",
    "ssd.def_var(ptotal=ssp.load.p_mw.sum() / ssp.sn_mva,\n",
    "            dpd_u=0.0, dpd_d=0.0, p_pre=[],\n",
    "            gen=['gen6'], pru_max=[0], prd_max=[0])\n",
    "\n",
    "ssd.build_rted()\n",
    "\n",
    "ssd.rted.optimize()\n",
    "\n",
    "ssd.get_res('rted')"
   ]
  },
  {
   "cell_type": "markdown",
   "metadata": {},
   "source": [
    "## Prepare"
   ]
  },
  {
   "cell_type": "markdown",
   "metadata": {},
   "source": [
    "### Make link table"
   ]
  },
  {
   "cell_type": "code",
   "execution_count": 17,
   "metadata": {},
   "outputs": [
    {
     "data": {
      "text/html": [
       "<div>\n",
       "<style scoped>\n",
       "    .dataframe tbody tr th:only-of-type {\n",
       "        vertical-align: middle;\n",
       "    }\n",
       "\n",
       "    .dataframe tbody tr th {\n",
       "        vertical-align: top;\n",
       "    }\n",
       "\n",
       "    .dataframe thead th {\n",
       "        text-align: right;\n",
       "    }\n",
       "</style>\n",
       "<table border=\"1\" class=\"dataframe\">\n",
       "  <thead>\n",
       "    <tr style=\"text-align: right;\">\n",
       "      <th></th>\n",
       "      <th>stg_name</th>\n",
       "      <th>stg_u</th>\n",
       "      <th>stg_idx</th>\n",
       "      <th>bus_idx</th>\n",
       "      <th>dg_idx</th>\n",
       "      <th>syg_idx</th>\n",
       "      <th>exc_idx</th>\n",
       "      <th>gov_idx</th>\n",
       "      <th>bus_name</th>\n",
       "      <th>gammap</th>\n",
       "      <th>gammaq</th>\n",
       "      <th>gen_pp</th>\n",
       "      <th>ctrl</th>\n",
       "    </tr>\n",
       "  </thead>\n",
       "  <tbody>\n",
       "    <tr>\n",
       "      <th>0</th>\n",
       "      <td>PV_1</td>\n",
       "      <td>1.0</td>\n",
       "      <td>PV_1</td>\n",
       "      <td>30</td>\n",
       "      <td>False</td>\n",
       "      <td>GENROU_1</td>\n",
       "      <td>IEEEX1_1</td>\n",
       "      <td>TGOV1_1</td>\n",
       "      <td>GEN30</td>\n",
       "      <td>1.0</td>\n",
       "      <td>1.0</td>\n",
       "      <td>0</td>\n",
       "      <td>True</td>\n",
       "    </tr>\n",
       "    <tr>\n",
       "      <th>1</th>\n",
       "      <td>PV_2</td>\n",
       "      <td>1.0</td>\n",
       "      <td>PV_2</td>\n",
       "      <td>31</td>\n",
       "      <td>False</td>\n",
       "      <td>GENROU_2</td>\n",
       "      <td>IEEEX1_2</td>\n",
       "      <td>TGOV1_2</td>\n",
       "      <td>GEN31</td>\n",
       "      <td>1.0</td>\n",
       "      <td>1.0</td>\n",
       "      <td>1</td>\n",
       "      <td>True</td>\n",
       "    </tr>\n",
       "    <tr>\n",
       "      <th>2</th>\n",
       "      <td>PV_3</td>\n",
       "      <td>1.0</td>\n",
       "      <td>PV_3</td>\n",
       "      <td>32</td>\n",
       "      <td>False</td>\n",
       "      <td>GENROU_3</td>\n",
       "      <td>IEEEX1_3</td>\n",
       "      <td>TGOV1_3</td>\n",
       "      <td>GEN32</td>\n",
       "      <td>1.0</td>\n",
       "      <td>1.0</td>\n",
       "      <td>2</td>\n",
       "      <td>True</td>\n",
       "    </tr>\n",
       "    <tr>\n",
       "      <th>3</th>\n",
       "      <td>PV_4</td>\n",
       "      <td>1.0</td>\n",
       "      <td>PV_4</td>\n",
       "      <td>33</td>\n",
       "      <td>False</td>\n",
       "      <td>GENROU_4</td>\n",
       "      <td>IEEEX1_4</td>\n",
       "      <td>TGOV1_4</td>\n",
       "      <td>GEN33</td>\n",
       "      <td>1.0</td>\n",
       "      <td>1.0</td>\n",
       "      <td>3</td>\n",
       "      <td>True</td>\n",
       "    </tr>\n",
       "    <tr>\n",
       "      <th>4</th>\n",
       "      <td>PV_5</td>\n",
       "      <td>1.0</td>\n",
       "      <td>PV_5</td>\n",
       "      <td>34</td>\n",
       "      <td>False</td>\n",
       "      <td>GENROU_5</td>\n",
       "      <td>IEEEX1_5</td>\n",
       "      <td>TGOV1_5</td>\n",
       "      <td>GEN34</td>\n",
       "      <td>1.0</td>\n",
       "      <td>1.0</td>\n",
       "      <td>4</td>\n",
       "      <td>True</td>\n",
       "    </tr>\n",
       "    <tr>\n",
       "      <th>5</th>\n",
       "      <td>PV_6</td>\n",
       "      <td>1.0</td>\n",
       "      <td>PV_6</td>\n",
       "      <td>35</td>\n",
       "      <td>False</td>\n",
       "      <td>GENROU_6</td>\n",
       "      <td>IEEEX1_6</td>\n",
       "      <td>TGOV1_6</td>\n",
       "      <td>GEN35</td>\n",
       "      <td>1.0</td>\n",
       "      <td>1.0</td>\n",
       "      <td>5</td>\n",
       "      <td>True</td>\n",
       "    </tr>\n",
       "    <tr>\n",
       "      <th>6</th>\n",
       "      <td>PV_7</td>\n",
       "      <td>1.0</td>\n",
       "      <td>PV_7</td>\n",
       "      <td>36</td>\n",
       "      <td>False</td>\n",
       "      <td>GENROU_7</td>\n",
       "      <td>IEEEX1_7</td>\n",
       "      <td>TGOV1_7</td>\n",
       "      <td>GEN36</td>\n",
       "      <td>1.0</td>\n",
       "      <td>1.0</td>\n",
       "      <td>6</td>\n",
       "      <td>True</td>\n",
       "    </tr>\n",
       "    <tr>\n",
       "      <th>7</th>\n",
       "      <td>PV_8</td>\n",
       "      <td>1.0</td>\n",
       "      <td>PV_8</td>\n",
       "      <td>37</td>\n",
       "      <td>False</td>\n",
       "      <td>GENROU_8</td>\n",
       "      <td>IEEEX1_8</td>\n",
       "      <td>TGOV1_8</td>\n",
       "      <td>GEN37</td>\n",
       "      <td>1.0</td>\n",
       "      <td>1.0</td>\n",
       "      <td>7</td>\n",
       "      <td>True</td>\n",
       "    </tr>\n",
       "    <tr>\n",
       "      <th>8</th>\n",
       "      <td>PV_9</td>\n",
       "      <td>1.0</td>\n",
       "      <td>PV_9</td>\n",
       "      <td>38</td>\n",
       "      <td>False</td>\n",
       "      <td>GENROU_9</td>\n",
       "      <td>IEEEX1_9</td>\n",
       "      <td>TGOV1_9</td>\n",
       "      <td>GEN38</td>\n",
       "      <td>1.0</td>\n",
       "      <td>1.0</td>\n",
       "      <td>8</td>\n",
       "      <td>True</td>\n",
       "    </tr>\n",
       "    <tr>\n",
       "      <th>9</th>\n",
       "      <td>Slack_10</td>\n",
       "      <td>1.0</td>\n",
       "      <td>Slack_10</td>\n",
       "      <td>39</td>\n",
       "      <td>False</td>\n",
       "      <td>GENROU_10</td>\n",
       "      <td>IEEEX1_10</td>\n",
       "      <td>TGOV1_10</td>\n",
       "      <td>GEN39</td>\n",
       "      <td>1.0</td>\n",
       "      <td>1.0</td>\n",
       "      <td>10</td>\n",
       "      <td>True</td>\n",
       "    </tr>\n",
       "    <tr>\n",
       "      <th>10</th>\n",
       "      <td>PV_10</td>\n",
       "      <td>1.0</td>\n",
       "      <td>PV_10</td>\n",
       "      <td>38</td>\n",
       "      <td>EV_1</td>\n",
       "      <td>False</td>\n",
       "      <td>False</td>\n",
       "      <td>False</td>\n",
       "      <td>GEN38</td>\n",
       "      <td>1.0</td>\n",
       "      <td>1.0</td>\n",
       "      <td>9</td>\n",
       "      <td>False</td>\n",
       "    </tr>\n",
       "  </tbody>\n",
       "</table>\n",
       "</div>"
      ],
      "text/plain": [
       "    stg_name  stg_u   stg_idx  bus_idx dg_idx    syg_idx    exc_idx   gov_idx  \\\n",
       "0       PV_1    1.0      PV_1       30  False   GENROU_1   IEEEX1_1   TGOV1_1   \n",
       "1       PV_2    1.0      PV_2       31  False   GENROU_2   IEEEX1_2   TGOV1_2   \n",
       "2       PV_3    1.0      PV_3       32  False   GENROU_3   IEEEX1_3   TGOV1_3   \n",
       "3       PV_4    1.0      PV_4       33  False   GENROU_4   IEEEX1_4   TGOV1_4   \n",
       "4       PV_5    1.0      PV_5       34  False   GENROU_5   IEEEX1_5   TGOV1_5   \n",
       "5       PV_6    1.0      PV_6       35  False   GENROU_6   IEEEX1_6   TGOV1_6   \n",
       "6       PV_7    1.0      PV_7       36  False   GENROU_7   IEEEX1_7   TGOV1_7   \n",
       "7       PV_8    1.0      PV_8       37  False   GENROU_8   IEEEX1_8   TGOV1_8   \n",
       "8       PV_9    1.0      PV_9       38  False   GENROU_9   IEEEX1_9   TGOV1_9   \n",
       "9   Slack_10    1.0  Slack_10       39  False  GENROU_10  IEEEX1_10  TGOV1_10   \n",
       "10     PV_10    1.0     PV_10       38   EV_1      False      False     False   \n",
       "\n",
       "   bus_name  gammap  gammaq  gen_pp   ctrl  \n",
       "0     GEN30     1.0     1.0       0   True  \n",
       "1     GEN31     1.0     1.0       1   True  \n",
       "2     GEN32     1.0     1.0       2   True  \n",
       "3     GEN33     1.0     1.0       3   True  \n",
       "4     GEN34     1.0     1.0       4   True  \n",
       "5     GEN35     1.0     1.0       5   True  \n",
       "6     GEN36     1.0     1.0       6   True  \n",
       "7     GEN37     1.0     1.0       7   True  \n",
       "8     GEN38     1.0     1.0       8   True  \n",
       "9     GEN39     1.0     1.0      10   True  \n",
       "10    GEN38     1.0     1.0       9  False  "
      ]
     },
     "execution_count": 17,
     "metadata": {},
     "output_type": "execute_result"
    }
   ],
   "source": [
    "# --- link_table ---\n",
    "ssa_key = make_link_table(ssa)\n",
    "\n",
    "# --- add controllable in the link table ---\n",
    "ssa_bus = ssa.Bus.as_df().reset_index().rename(columns={'uid':'bus_pp', 'idx':'bus_idx'})\n",
    "ssp_gen = ssp.gen.reset_index().rename(columns={'index':'gen_pp', 'name':'stg_idx', 'controllable':'ctrl'})\n",
    "ssa_key2 = pd.merge(left=ssa_key,\n",
    "                    right=ssp_gen[['stg_idx', 'gen_pp', 'ctrl']],\n",
    "                    on='stg_idx', how='left')\n",
    "\n",
    "# --- device idx ---\n",
    "ssa_dg_idx = ssa_key2.dg_idx.dropna().tolist()\n",
    "ssa_syg_idx = ssa_key2.syg_idx.dropna().tolist()\n",
    "ssa_gov_idx = ssa_key2.gov_idx.dropna().tolist()\n",
    "ssa_stg_idx = ssa_key2.stg_idx.dropna().tolist()\n",
    "\n",
    "# --- online and controllable device idx ---\n",
    "ctrl_cond = ssa_key2.ctrl * ssa_key2.stg_u.astype(bool)\n",
    "ssa_dg_idx_ctrl = ssa_key2.dg_idx[ctrl_cond].dropna().tolist()\n",
    "ssa_syg_idx_ctrl = ssa_key2.syg_idx[ctrl_cond].dropna().tolist()\n",
    "ssa_gov_idx_ctrl = ssa_key2.gov_idx[ctrl_cond].dropna().tolist()\n",
    "ssa_stg_idx_ctrl = ssa_key2.stg_idx[ctrl_cond].dropna().tolist()\n",
    "\n",
    "# fill NaN with False\n",
    "ssa_key2.fillna(value=False, inplace=True)\n",
    "\n",
    "ssa_key2"
   ]
  },
  {
   "cell_type": "markdown",
   "metadata": {},
   "source": [
    "### Define functions used in loop"
   ]
  },
  {
   "cell_type": "code",
   "execution_count": 18,
   "metadata": {
    "scrolled": true
   },
   "outputs": [],
   "source": [
    "# --- def functions ---\n",
    "def get_pe(ssa, gov_idx, dg_idx, ssa_key2):\n",
    "    \"\"\"Get the active power (TurbineGov/DG) after TDS, a DataFrame\"\"\"\n",
    "    # TODO: may need to sum the power of same StaticGen\n",
    "    # --- TurbineGov --- \n",
    "    pe_syg = ssa.TurbineGov.get(src='pout', idx=gov_idx, attr='v')\n",
    "    # --- DG ---\n",
    "    Ip_dg = ssa.DG.get(src='Ipout_y', idx=dg_idx, attr='v')\n",
    "    v_dg = ssa.DG.get(src='v', idx=dg_idx, attr='v')\n",
    "    pe_dg = Ip_dg*v_dg\n",
    "    # --- out ---\n",
    "    pe = pd.DataFrame()\n",
    "    pe['idx'] = gov_idx + dg_idx\n",
    "    pe['pe'] = np.concatenate((pe_syg, pe_dg))\n",
    "    ldf = pd.merge(left=ssa_key2.rename(columns={'dg_idx':'idx'}),\n",
    "         right=pe, how='right', on='idx')\n",
    "    rdf = pd.merge(left=ssa_key2.rename(columns={'gov_idx':'idx'}),\n",
    "             right=pe, how='right', on='idx')\n",
    "    pe['stg_idx'] = ldf['stg_idx'].fillna('') + rdf['stg_idx'].fillna('')\n",
    "    return pe\n",
    "\n",
    "def dp_calc(d_syn, idx_ed, intv_ed):\n",
    "    \"\"\"Calc SFR requirements, scalars, ``dpd_u``and ``dpd_d``, and load forecasted value ``load_exp``\"\"\"\n",
    "    load = d_syn['s10'].iloc[idx_ed*intv_ed:(idx_ed*intv_ed + intv_ed)]\n",
    "    load_exp = load.mean()\n",
    "    # TODO: check if the estimation is reasonable\n",
    "    load_ci = stat.t.interval(alpha=0.95, df=len(load)-1, loc=np.mean(load), scale=stat.sem(load))\n",
    "    load_d = abs(load_ci[0] - load_exp)\n",
    "    load_u = abs(load_ci[1] - load_exp)\n",
    "    return load_u, load_d, load_exp"
   ]
  },
  {
   "cell_type": "markdown",
   "metadata": {},
   "source": [
    "## Define param"
   ]
  },
  {
   "cell_type": "code",
   "execution_count": 19,
   "metadata": {},
   "outputs": [],
   "source": [
    "# --- constants ---\n",
    "t_total = 3600    # 3600s\n",
    "\n",
    "intv_ed = 300  # RTED interval, 300s\n",
    "intv_agc = 4    # AGC interval, 4s\n",
    "intv_pq = 1     # PQ interval, 1s; alter load and AGC\n",
    "intv_step = 100 # step change interval; smooth the setpoitns\n",
    "\n",
    "n_ed = int(t_total/intv_ed)\n",
    "n_agc = int(intv_ed/intv_agc)\n",
    "n_pq = int(intv_agc/intv_pq)\n",
    "n_step = floor(intv_step/intv_agc)\n",
    "\n",
    "# --- vars ---\n",
    "# AGC table\n",
    "agc_table = ssp.gen[['name']].rename(columns={'name':'stg_idx'})\n",
    "agc_table['paux'] = 0\n",
    "agc_res = agc_table[['stg_idx']].copy()\n",
    "\n",
    "# ACE vars\n",
    "ACE_integral = 0\n",
    "ACE_raw = 0\n",
    "Kp = 0.05\n",
    "Ki = 0.0002\n",
    "ace_res = pd.DataFrame()\n",
    "\n",
    "# initial load\n",
    "ssa_p0 = ssa.PQ.p0.v.copy()\n",
    "ssa_q0 = ssa.PQ.q0.v.copy()\n",
    "ssa_pq_idx = ssa.PQ.idx.v\n",
    "ssa_p0_sum = ssa_p0.sum()"
   ]
  },
  {
   "cell_type": "markdown",
   "metadata": {},
   "source": [
    "## Loop\n",
    "\n",
    "In the loop, there are mainly X parts:\n",
    "\n",
    "- interval RTED: run DCOPF (``ssd.mdl``), run ACOPF(``ssp``), \n",
    "\n",
    "- interval AGC: do AGC, do dispatch with smooth setpoints\n",
    "\n",
    "- interval PQ: alter load, run TDS(``ssa.TDS``)\n",
    "\n",
    "Notes:\n",
    "\n",
    "- The setpoints for DG are coded but not verified yet.\n",
    "\n",
    "- After the development of ANDES control room, the dispatch and AGC part can be refactored.\n",
    "\n",
    "- interface variables: ``DG.pmx``: DPV profile, ``DG.pref0``: setpoints, ``DG.pext0``: AGC\n",
    "\n",
    "- ACOPF in pandapower considered generator limtis of ramping and SFR reserve"
   ]
  },
  {
   "cell_type": "code",
   "execution_count": 20,
   "metadata": {},
   "outputs": [
    {
     "name": "stderr",
     "output_type": "stream",
     "text": [
      "GSF is consistent.\n"
     ]
    },
    {
     "name": "stdout",
     "output_type": "stream",
     "text": [
      "Warning for adding constraints: zero or small (< 1e-13) coefficients, ignored\n",
      "Gurobi Optimizer version 9.5.1 build v9.5.1rc2 (mac64[arm])\n",
      "Thread count: 8 physical cores, 8 logical processors, using up to 8 threads\n",
      "Optimize a model with 115 rows, 33 columns and 635 nonzeros\n",
      "Model fingerprint: 0x0d306fb7\n",
      "Coefficient statistics:\n",
      "  Matrix range     [4e-03, 1e+00]\n",
      "  Objective range  [2e-01, 4e-01]\n",
      "  Bounds range     [1e-01, 1e+01]\n",
      "  RHS range        [2e-02, 1e+02]\n",
      "Presolve removed 104 rows and 14 columns\n",
      "Presolve time: 0.00s\n",
      "Presolved: 11 rows, 19 columns, 38 nonzeros\n",
      "\n",
      "Iteration    Objective       Primal Inf.    Dual Inf.      Time\n",
      "       0    2.0432504e+01   4.572957e+00   0.000000e+00      0s\n",
      "       3    2.0798140e+01   0.000000e+00   0.000000e+00      0s\n",
      "\n",
      "Solved in 3 iterations and 0.00 seconds (0.00 work units)\n",
      "Optimal objective  2.079814017e+01\n"
     ]
    },
    {
     "name": "stderr",
     "output_type": "stream",
     "text": [
      "rted cost (p.u.): Total=20.798, GEN=20.798, SFR=0.0\n",
      "/var/folders/06/z8ws9b2d733f7h6yc5qpn22w0000gn/T/ipykernel_95445/789897794.py:103: UserWarning: Pandas doesn't allow columns to be created via a new attribute name - see https://pandas.pydata.org/pandas-docs/stable/indexing.html#attribute-access\n",
      "  agc_syg.paux2 = agc_syg.paux * agc_syg.gammap\n",
      "/var/folders/06/z8ws9b2d733f7h6yc5qpn22w0000gn/T/ipykernel_95445/789897794.py:112: UserWarning: Pandas doesn't allow columns to be created via a new attribute name - see https://pandas.pydata.org/pandas-docs/stable/indexing.html#attribute-access\n",
      "  agc_dg.paux2 = agc_dg.paux * agc_dg.gammap\n",
      "-> System connectivity check results:\n",
      "  No islanded bus detected.\n",
      "  System is interconnected.\n",
      "  Each island has a slack bus correctly defined and enabled.\n",
      "\n",
      "-> Power flow calculation\n",
      "           Numba: On\n",
      "   Sparse solver: KLU\n",
      " Solution method: NR method\n",
      "Numba compilation initiated with caching.\n",
      "Power flow initialized in 0.0028 seconds.\n",
      "0: |F(x)| = 7.436546426\n",
      "1: |F(x)| = 2.609419002\n",
      "2: |F(x)| = 0.1152230353\n",
      "3: |F(x)| = 0.000363378459\n",
      "4: |F(x)| = 3.901465817e-09\n",
      "Converged in 5 iterations in 0.0037 seconds.\n",
      "\n",
      "-> Time Domain Simulation Summary:\n",
      "Sparse Solver: KLU\n",
      "Simulation time: 0.0-0 s.\n",
      "Fixed step size: h=33.33 ms. Shrink if not converged.\n",
      "Numba compilation initiated with caching.\n",
      "GENROU (xl <= xd2) out of typical upper limit.\n",
      "\n",
      "   idx     | values | limit\n",
      "-----------+--------+------\n",
      " GENROU_1  | 0.012  | 0.001\n",
      " GENROU_2  | 0.042  | 0.036\n",
      " GENROU_3  | 0.036  | 0.003\n",
      " GENROU_4  | 0.025  | 0.001\n",
      " GENROU_5  | 0.050  | 0.001\n",
      " GENROU_7  | 0.031  | 0.002\n",
      " GENROU_8  | 0.029  | 0.006\n",
      " GENROU_9  | 0.018  | 0.001\n",
      " GENROU_10 | 0.003  | 0.000\n",
      "\n",
      "\n",
      "Initialization for dynamics completed in 0.1728 seconds.\n",
      "Initialization was successful.\n"
     ]
    },
    {
     "data": {
      "application/vnd.jupyter.widget-view+json": {
       "model_id": "e9555fd0c7fc4b1a9a2fd4016399cab1",
       "version_major": 2,
       "version_minor": 0
      },
      "text/plain": [
       "  0%|          | 0/100 [00:00<?, ?%/s]"
      ]
     },
     "metadata": {},
     "output_type": "display_data"
    },
    {
     "name": "stderr",
     "output_type": "stream",
     "text": [
      "Simulation completed in 0.0007 seconds.\n",
      "TimeSeries does not contain any time stamp.\n",
      "\n",
      "-> Time Domain Simulation Summary:\n",
      "Sparse Solver: KLU\n",
      "Simulation time: 0.0-1 s.\n",
      "Fixed step size: h=33.33 ms. Shrink if not converged.\n"
     ]
    },
    {
     "data": {
      "application/vnd.jupyter.widget-view+json": {
       "model_id": "ed523dd688624a04a0c9aea79ea444f5",
       "version_major": 2,
       "version_minor": 0
      },
      "text/plain": [
       "  0%|          | 0/100 [00:00<?, ?%/s]"
      ]
     },
     "metadata": {},
     "output_type": "display_data"
    },
    {
     "name": "stderr",
     "output_type": "stream",
     "text": [
      "Current step size is zero. Integration is not permitted.\n",
      "Simulation completed in 0.0375 seconds.\n"
     ]
    },
    {
     "data": {
      "application/vnd.jupyter.widget-view+json": {
       "model_id": "cb8a798275644e1a9b5c0e9557637abc",
       "version_major": 2,
       "version_minor": 0
      },
      "text/plain": [
       "  0%|          | 0/100 [00:00<?, ?%/s]"
      ]
     },
     "metadata": {},
     "output_type": "display_data"
    },
    {
     "name": "stderr",
     "output_type": "stream",
     "text": [
      "Simulation completed in 0.0565 seconds.\n"
     ]
    },
    {
     "data": {
      "application/vnd.jupyter.widget-view+json": {
       "model_id": "381bb1e5ff9a4094855b8eda0e6ff709",
       "version_major": 2,
       "version_minor": 0
      },
      "text/plain": [
       "  0%|          | 0/100 [00:00<?, ?%/s]"
      ]
     },
     "metadata": {},
     "output_type": "display_data"
    },
    {
     "name": "stderr",
     "output_type": "stream",
     "text": [
      "Simulation completed in 0.0491 seconds.\n",
      "/var/folders/06/z8ws9b2d733f7h6yc5qpn22w0000gn/T/ipykernel_95445/789897794.py:103: UserWarning: Pandas doesn't allow columns to be created via a new attribute name - see https://pandas.pydata.org/pandas-docs/stable/indexing.html#attribute-access\n",
      "  agc_syg.paux2 = agc_syg.paux * agc_syg.gammap\n",
      "/var/folders/06/z8ws9b2d733f7h6yc5qpn22w0000gn/T/ipykernel_95445/789897794.py:112: UserWarning: Pandas doesn't allow columns to be created via a new attribute name - see https://pandas.pydata.org/pandas-docs/stable/indexing.html#attribute-access\n",
      "  agc_dg.paux2 = agc_dg.paux * agc_dg.gammap\n"
     ]
    },
    {
     "data": {
      "application/vnd.jupyter.widget-view+json": {
       "model_id": "f988c3c1b0484158be5fe866167dcc0f",
       "version_major": 2,
       "version_minor": 0
      },
      "text/plain": [
       "  0%|          | 0/100 [00:00<?, ?%/s]"
      ]
     },
     "metadata": {},
     "output_type": "display_data"
    },
    {
     "name": "stderr",
     "output_type": "stream",
     "text": [
      "Simulation completed in 0.0556 seconds.\n"
     ]
    },
    {
     "data": {
      "application/vnd.jupyter.widget-view+json": {
       "model_id": "485a5158b4fa4039bad2bdf22a085668",
       "version_major": 2,
       "version_minor": 0
      },
      "text/plain": [
       "  0%|          | 0/100 [00:00<?, ?%/s]"
      ]
     },
     "metadata": {},
     "output_type": "display_data"
    },
    {
     "name": "stderr",
     "output_type": "stream",
     "text": [
      "Simulation completed in 0.0527 seconds.\n"
     ]
    },
    {
     "data": {
      "application/vnd.jupyter.widget-view+json": {
       "model_id": "2c2a41db60c14b53bf53a47121d0ee53",
       "version_major": 2,
       "version_minor": 0
      },
      "text/plain": [
       "  0%|          | 0/100 [00:00<?, ?%/s]"
      ]
     },
     "metadata": {},
     "output_type": "display_data"
    },
    {
     "name": "stderr",
     "output_type": "stream",
     "text": [
      "Simulation completed in 0.0650 seconds.\n"
     ]
    },
    {
     "data": {
      "application/vnd.jupyter.widget-view+json": {
       "model_id": "41644df746cd4485ad58c0a02a315040",
       "version_major": 2,
       "version_minor": 0
      },
      "text/plain": [
       "  0%|          | 0/100 [00:00<?, ?%/s]"
      ]
     },
     "metadata": {},
     "output_type": "display_data"
    },
    {
     "name": "stderr",
     "output_type": "stream",
     "text": [
      "Simulation completed in 0.0722 seconds.\n",
      "/var/folders/06/z8ws9b2d733f7h6yc5qpn22w0000gn/T/ipykernel_95445/789897794.py:103: UserWarning: Pandas doesn't allow columns to be created via a new attribute name - see https://pandas.pydata.org/pandas-docs/stable/indexing.html#attribute-access\n",
      "  agc_syg.paux2 = agc_syg.paux * agc_syg.gammap\n",
      "/var/folders/06/z8ws9b2d733f7h6yc5qpn22w0000gn/T/ipykernel_95445/789897794.py:112: UserWarning: Pandas doesn't allow columns to be created via a new attribute name - see https://pandas.pydata.org/pandas-docs/stable/indexing.html#attribute-access\n",
      "  agc_dg.paux2 = agc_dg.paux * agc_dg.gammap\n"
     ]
    },
    {
     "data": {
      "application/vnd.jupyter.widget-view+json": {
       "model_id": "46db73099c8647ce8c3f879157c49365",
       "version_major": 2,
       "version_minor": 0
      },
      "text/plain": [
       "  0%|          | 0/100 [00:00<?, ?%/s]"
      ]
     },
     "metadata": {},
     "output_type": "display_data"
    },
    {
     "name": "stderr",
     "output_type": "stream",
     "text": [
      "Simulation completed in 0.0579 seconds.\n"
     ]
    },
    {
     "data": {
      "application/vnd.jupyter.widget-view+json": {
       "model_id": "080767ee4e47488d889be866ccac324e",
       "version_major": 2,
       "version_minor": 0
      },
      "text/plain": [
       "  0%|          | 0/100 [00:00<?, ?%/s]"
      ]
     },
     "metadata": {},
     "output_type": "display_data"
    },
    {
     "name": "stderr",
     "output_type": "stream",
     "text": [
      "Simulation completed in 0.0501 seconds.\n"
     ]
    },
    {
     "data": {
      "application/vnd.jupyter.widget-view+json": {
       "model_id": "c4b25870ba7c41979588902df80a78d1",
       "version_major": 2,
       "version_minor": 0
      },
      "text/plain": [
       "  0%|          | 0/100 [00:00<?, ?%/s]"
      ]
     },
     "metadata": {},
     "output_type": "display_data"
    },
    {
     "name": "stderr",
     "output_type": "stream",
     "text": [
      "Simulation completed in 0.0665 seconds.\n"
     ]
    },
    {
     "data": {
      "application/vnd.jupyter.widget-view+json": {
       "model_id": "beeb35fa5da842d29932dd8cdb96c754",
       "version_major": 2,
       "version_minor": 0
      },
      "text/plain": [
       "  0%|          | 0/100 [00:00<?, ?%/s]"
      ]
     },
     "metadata": {},
     "output_type": "display_data"
    },
    {
     "name": "stderr",
     "output_type": "stream",
     "text": [
      "Simulation completed in 0.0557 seconds.\n",
      "/var/folders/06/z8ws9b2d733f7h6yc5qpn22w0000gn/T/ipykernel_95445/789897794.py:103: UserWarning: Pandas doesn't allow columns to be created via a new attribute name - see https://pandas.pydata.org/pandas-docs/stable/indexing.html#attribute-access\n",
      "  agc_syg.paux2 = agc_syg.paux * agc_syg.gammap\n",
      "/var/folders/06/z8ws9b2d733f7h6yc5qpn22w0000gn/T/ipykernel_95445/789897794.py:112: UserWarning: Pandas doesn't allow columns to be created via a new attribute name - see https://pandas.pydata.org/pandas-docs/stable/indexing.html#attribute-access\n",
      "  agc_dg.paux2 = agc_dg.paux * agc_dg.gammap\n"
     ]
    },
    {
     "data": {
      "application/vnd.jupyter.widget-view+json": {
       "model_id": "0b149a75ff144788a7c28273fbdeef81",
       "version_major": 2,
       "version_minor": 0
      },
      "text/plain": [
       "  0%|          | 0/100 [00:00<?, ?%/s]"
      ]
     },
     "metadata": {},
     "output_type": "display_data"
    },
    {
     "name": "stderr",
     "output_type": "stream",
     "text": [
      "Simulation completed in 0.0588 seconds.\n"
     ]
    },
    {
     "data": {
      "application/vnd.jupyter.widget-view+json": {
       "model_id": "b0f0c17d6f754d8fbcabd4917f4b2eb7",
       "version_major": 2,
       "version_minor": 0
      },
      "text/plain": [
       "  0%|          | 0/100 [00:00<?, ?%/s]"
      ]
     },
     "metadata": {},
     "output_type": "display_data"
    },
    {
     "name": "stderr",
     "output_type": "stream",
     "text": [
      "Simulation completed in 0.0468 seconds.\n"
     ]
    },
    {
     "data": {
      "application/vnd.jupyter.widget-view+json": {
       "model_id": "20413642a00746588c8d8eded6064644",
       "version_major": 2,
       "version_minor": 0
      },
      "text/plain": [
       "  0%|          | 0/100 [00:00<?, ?%/s]"
      ]
     },
     "metadata": {},
     "output_type": "display_data"
    },
    {
     "name": "stderr",
     "output_type": "stream",
     "text": [
      "Simulation completed in 0.0420 seconds.\n"
     ]
    },
    {
     "data": {
      "application/vnd.jupyter.widget-view+json": {
       "model_id": "1643cdb2bd414234860d4782e69c681d",
       "version_major": 2,
       "version_minor": 0
      },
      "text/plain": [
       "  0%|          | 0/100 [00:00<?, ?%/s]"
      ]
     },
     "metadata": {},
     "output_type": "display_data"
    },
    {
     "name": "stderr",
     "output_type": "stream",
     "text": [
      "Simulation completed in 0.0357 seconds.\n",
      "/var/folders/06/z8ws9b2d733f7h6yc5qpn22w0000gn/T/ipykernel_95445/789897794.py:103: UserWarning: Pandas doesn't allow columns to be created via a new attribute name - see https://pandas.pydata.org/pandas-docs/stable/indexing.html#attribute-access\n",
      "  agc_syg.paux2 = agc_syg.paux * agc_syg.gammap\n",
      "/var/folders/06/z8ws9b2d733f7h6yc5qpn22w0000gn/T/ipykernel_95445/789897794.py:112: UserWarning: Pandas doesn't allow columns to be created via a new attribute name - see https://pandas.pydata.org/pandas-docs/stable/indexing.html#attribute-access\n",
      "  agc_dg.paux2 = agc_dg.paux * agc_dg.gammap\n"
     ]
    },
    {
     "data": {
      "application/vnd.jupyter.widget-view+json": {
       "model_id": "86c795f030eb4f7eac53d77d6c4a9642",
       "version_major": 2,
       "version_minor": 0
      },
      "text/plain": [
       "  0%|          | 0/100 [00:00<?, ?%/s]"
      ]
     },
     "metadata": {},
     "output_type": "display_data"
    },
    {
     "name": "stderr",
     "output_type": "stream",
     "text": [
      "Simulation completed in 0.0375 seconds.\n"
     ]
    },
    {
     "data": {
      "application/vnd.jupyter.widget-view+json": {
       "model_id": "4f4dd7124d3745cdb08904dcbfc688bf",
       "version_major": 2,
       "version_minor": 0
      },
      "text/plain": [
       "  0%|          | 0/100 [00:00<?, ?%/s]"
      ]
     },
     "metadata": {},
     "output_type": "display_data"
    },
    {
     "name": "stderr",
     "output_type": "stream",
     "text": [
      "Simulation completed in 0.0383 seconds.\n"
     ]
    },
    {
     "data": {
      "application/vnd.jupyter.widget-view+json": {
       "model_id": "858e3e8b13464f1291da8d876b90272c",
       "version_major": 2,
       "version_minor": 0
      },
      "text/plain": [
       "  0%|          | 0/100 [00:00<?, ?%/s]"
      ]
     },
     "metadata": {},
     "output_type": "display_data"
    },
    {
     "name": "stderr",
     "output_type": "stream",
     "text": [
      "Simulation completed in 0.0392 seconds.\n"
     ]
    },
    {
     "data": {
      "application/vnd.jupyter.widget-view+json": {
       "model_id": "5a1f1a651d984cdaa95ff920cd0675f7",
       "version_major": 2,
       "version_minor": 0
      },
      "text/plain": [
       "  0%|          | 0/100 [00:00<?, ?%/s]"
      ]
     },
     "metadata": {},
     "output_type": "display_data"
    },
    {
     "name": "stderr",
     "output_type": "stream",
     "text": [
      "Simulation completed in 0.0419 seconds.\n",
      "/var/folders/06/z8ws9b2d733f7h6yc5qpn22w0000gn/T/ipykernel_95445/789897794.py:103: UserWarning: Pandas doesn't allow columns to be created via a new attribute name - see https://pandas.pydata.org/pandas-docs/stable/indexing.html#attribute-access\n",
      "  agc_syg.paux2 = agc_syg.paux * agc_syg.gammap\n",
      "/var/folders/06/z8ws9b2d733f7h6yc5qpn22w0000gn/T/ipykernel_95445/789897794.py:112: UserWarning: Pandas doesn't allow columns to be created via a new attribute name - see https://pandas.pydata.org/pandas-docs/stable/indexing.html#attribute-access\n",
      "  agc_dg.paux2 = agc_dg.paux * agc_dg.gammap\n"
     ]
    },
    {
     "data": {
      "application/vnd.jupyter.widget-view+json": {
       "model_id": "30bfabbcbc2a4db4add10ad5c1489383",
       "version_major": 2,
       "version_minor": 0
      },
      "text/plain": [
       "  0%|          | 0/100 [00:00<?, ?%/s]"
      ]
     },
     "metadata": {},
     "output_type": "display_data"
    },
    {
     "name": "stderr",
     "output_type": "stream",
     "text": [
      "Simulation completed in 0.0402 seconds.\n"
     ]
    },
    {
     "data": {
      "application/vnd.jupyter.widget-view+json": {
       "model_id": "4ca94391d9c4413ba244c3178df21515",
       "version_major": 2,
       "version_minor": 0
      },
      "text/plain": [
       "  0%|          | 0/100 [00:00<?, ?%/s]"
      ]
     },
     "metadata": {},
     "output_type": "display_data"
    },
    {
     "name": "stderr",
     "output_type": "stream",
     "text": [
      "Simulation completed in 0.0374 seconds.\n"
     ]
    },
    {
     "data": {
      "application/vnd.jupyter.widget-view+json": {
       "model_id": "3cdaa2d5850c4cc2b33d36b55e463c3d",
       "version_major": 2,
       "version_minor": 0
      },
      "text/plain": [
       "  0%|          | 0/100 [00:00<?, ?%/s]"
      ]
     },
     "metadata": {},
     "output_type": "display_data"
    },
    {
     "name": "stderr",
     "output_type": "stream",
     "text": [
      "Simulation completed in 0.0379 seconds.\n"
     ]
    },
    {
     "data": {
      "application/vnd.jupyter.widget-view+json": {
       "model_id": "bd5cd79be95c4e2d8aec62ed545cf8e8",
       "version_major": 2,
       "version_minor": 0
      },
      "text/plain": [
       "  0%|          | 0/100 [00:00<?, ?%/s]"
      ]
     },
     "metadata": {},
     "output_type": "display_data"
    },
    {
     "name": "stderr",
     "output_type": "stream",
     "text": [
      "Simulation completed in 0.0412 seconds.\n",
      "/var/folders/06/z8ws9b2d733f7h6yc5qpn22w0000gn/T/ipykernel_95445/789897794.py:103: UserWarning: Pandas doesn't allow columns to be created via a new attribute name - see https://pandas.pydata.org/pandas-docs/stable/indexing.html#attribute-access\n",
      "  agc_syg.paux2 = agc_syg.paux * agc_syg.gammap\n",
      "/var/folders/06/z8ws9b2d733f7h6yc5qpn22w0000gn/T/ipykernel_95445/789897794.py:112: UserWarning: Pandas doesn't allow columns to be created via a new attribute name - see https://pandas.pydata.org/pandas-docs/stable/indexing.html#attribute-access\n",
      "  agc_dg.paux2 = agc_dg.paux * agc_dg.gammap\n"
     ]
    },
    {
     "data": {
      "application/vnd.jupyter.widget-view+json": {
       "model_id": "2c78891214354fa8b0b6f693544a1104",
       "version_major": 2,
       "version_minor": 0
      },
      "text/plain": [
       "  0%|          | 0/100 [00:00<?, ?%/s]"
      ]
     },
     "metadata": {},
     "output_type": "display_data"
    },
    {
     "name": "stderr",
     "output_type": "stream",
     "text": [
      "Simulation completed in 0.0348 seconds.\n"
     ]
    },
    {
     "data": {
      "application/vnd.jupyter.widget-view+json": {
       "model_id": "588309ce8dc14b888a4b140e032e2437",
       "version_major": 2,
       "version_minor": 0
      },
      "text/plain": [
       "  0%|          | 0/100 [00:00<?, ?%/s]"
      ]
     },
     "metadata": {},
     "output_type": "display_data"
    },
    {
     "name": "stderr",
     "output_type": "stream",
     "text": [
      "Simulation completed in 0.0353 seconds.\n"
     ]
    },
    {
     "data": {
      "application/vnd.jupyter.widget-view+json": {
       "model_id": "dcd1bb47f6d24a59b9ad1dc23ae5a873",
       "version_major": 2,
       "version_minor": 0
      },
      "text/plain": [
       "  0%|          | 0/100 [00:00<?, ?%/s]"
      ]
     },
     "metadata": {},
     "output_type": "display_data"
    },
    {
     "name": "stderr",
     "output_type": "stream",
     "text": [
      "Simulation completed in 0.0369 seconds.\n"
     ]
    },
    {
     "data": {
      "application/vnd.jupyter.widget-view+json": {
       "model_id": "9c67bdc11eba40eaac0dd8faec39f4ad",
       "version_major": 2,
       "version_minor": 0
      },
      "text/plain": [
       "  0%|          | 0/100 [00:00<?, ?%/s]"
      ]
     },
     "metadata": {},
     "output_type": "display_data"
    },
    {
     "name": "stderr",
     "output_type": "stream",
     "text": [
      "Simulation completed in 0.0376 seconds.\n",
      "/var/folders/06/z8ws9b2d733f7h6yc5qpn22w0000gn/T/ipykernel_95445/789897794.py:103: UserWarning: Pandas doesn't allow columns to be created via a new attribute name - see https://pandas.pydata.org/pandas-docs/stable/indexing.html#attribute-access\n",
      "  agc_syg.paux2 = agc_syg.paux * agc_syg.gammap\n",
      "/var/folders/06/z8ws9b2d733f7h6yc5qpn22w0000gn/T/ipykernel_95445/789897794.py:112: UserWarning: Pandas doesn't allow columns to be created via a new attribute name - see https://pandas.pydata.org/pandas-docs/stable/indexing.html#attribute-access\n",
      "  agc_dg.paux2 = agc_dg.paux * agc_dg.gammap\n"
     ]
    },
    {
     "data": {
      "application/vnd.jupyter.widget-view+json": {
       "model_id": "1b555133626c447b8fb0dd83564ea92d",
       "version_major": 2,
       "version_minor": 0
      },
      "text/plain": [
       "  0%|          | 0/100 [00:00<?, ?%/s]"
      ]
     },
     "metadata": {},
     "output_type": "display_data"
    },
    {
     "name": "stderr",
     "output_type": "stream",
     "text": [
      "Simulation completed in 0.0373 seconds.\n"
     ]
    },
    {
     "data": {
      "application/vnd.jupyter.widget-view+json": {
       "model_id": "0f4125978b7342af8b6961db667efb03",
       "version_major": 2,
       "version_minor": 0
      },
      "text/plain": [
       "  0%|          | 0/100 [00:00<?, ?%/s]"
      ]
     },
     "metadata": {},
     "output_type": "display_data"
    },
    {
     "name": "stderr",
     "output_type": "stream",
     "text": [
      "Simulation completed in 0.0374 seconds.\n"
     ]
    },
    {
     "data": {
      "application/vnd.jupyter.widget-view+json": {
       "model_id": "d87e3318edaf4e3bb358d8988e1495b3",
       "version_major": 2,
       "version_minor": 0
      },
      "text/plain": [
       "  0%|          | 0/100 [00:00<?, ?%/s]"
      ]
     },
     "metadata": {},
     "output_type": "display_data"
    },
    {
     "name": "stderr",
     "output_type": "stream",
     "text": [
      "Simulation completed in 0.0411 seconds.\n"
     ]
    },
    {
     "data": {
      "application/vnd.jupyter.widget-view+json": {
       "model_id": "4bb5f28df15e4556929d7dd9a94c3d90",
       "version_major": 2,
       "version_minor": 0
      },
      "text/plain": [
       "  0%|          | 0/100 [00:00<?, ?%/s]"
      ]
     },
     "metadata": {},
     "output_type": "display_data"
    },
    {
     "name": "stderr",
     "output_type": "stream",
     "text": [
      "Simulation completed in 0.0465 seconds.\n",
      "/var/folders/06/z8ws9b2d733f7h6yc5qpn22w0000gn/T/ipykernel_95445/789897794.py:103: UserWarning: Pandas doesn't allow columns to be created via a new attribute name - see https://pandas.pydata.org/pandas-docs/stable/indexing.html#attribute-access\n",
      "  agc_syg.paux2 = agc_syg.paux * agc_syg.gammap\n",
      "/var/folders/06/z8ws9b2d733f7h6yc5qpn22w0000gn/T/ipykernel_95445/789897794.py:112: UserWarning: Pandas doesn't allow columns to be created via a new attribute name - see https://pandas.pydata.org/pandas-docs/stable/indexing.html#attribute-access\n",
      "  agc_dg.paux2 = agc_dg.paux * agc_dg.gammap\n"
     ]
    },
    {
     "data": {
      "application/vnd.jupyter.widget-view+json": {
       "model_id": "b33267b4ea5c4b45b0e75bf7ce65ae16",
       "version_major": 2,
       "version_minor": 0
      },
      "text/plain": [
       "  0%|          | 0/100 [00:00<?, ?%/s]"
      ]
     },
     "metadata": {},
     "output_type": "display_data"
    },
    {
     "name": "stderr",
     "output_type": "stream",
     "text": [
      "Simulation completed in 0.0389 seconds.\n"
     ]
    },
    {
     "data": {
      "application/vnd.jupyter.widget-view+json": {
       "model_id": "9e750d8f530b40a2a44f2fa44b02b8cf",
       "version_major": 2,
       "version_minor": 0
      },
      "text/plain": [
       "  0%|          | 0/100 [00:00<?, ?%/s]"
      ]
     },
     "metadata": {},
     "output_type": "display_data"
    },
    {
     "name": "stderr",
     "output_type": "stream",
     "text": [
      "Simulation completed in 0.0578 seconds.\n"
     ]
    },
    {
     "data": {
      "application/vnd.jupyter.widget-view+json": {
       "model_id": "5dca518a7618436883cdfa6c88d7059f",
       "version_major": 2,
       "version_minor": 0
      },
      "text/plain": [
       "  0%|          | 0/100 [00:00<?, ?%/s]"
      ]
     },
     "metadata": {},
     "output_type": "display_data"
    },
    {
     "name": "stderr",
     "output_type": "stream",
     "text": [
      "Simulation completed in 0.0556 seconds.\n"
     ]
    },
    {
     "data": {
      "application/vnd.jupyter.widget-view+json": {
       "model_id": "6efcb9690de340889553ce4f4cb6e1df",
       "version_major": 2,
       "version_minor": 0
      },
      "text/plain": [
       "  0%|          | 0/100 [00:00<?, ?%/s]"
      ]
     },
     "metadata": {},
     "output_type": "display_data"
    },
    {
     "name": "stderr",
     "output_type": "stream",
     "text": [
      "Simulation completed in 0.0435 seconds.\n",
      "/var/folders/06/z8ws9b2d733f7h6yc5qpn22w0000gn/T/ipykernel_95445/789897794.py:103: UserWarning: Pandas doesn't allow columns to be created via a new attribute name - see https://pandas.pydata.org/pandas-docs/stable/indexing.html#attribute-access\n",
      "  agc_syg.paux2 = agc_syg.paux * agc_syg.gammap\n",
      "/var/folders/06/z8ws9b2d733f7h6yc5qpn22w0000gn/T/ipykernel_95445/789897794.py:112: UserWarning: Pandas doesn't allow columns to be created via a new attribute name - see https://pandas.pydata.org/pandas-docs/stable/indexing.html#attribute-access\n",
      "  agc_dg.paux2 = agc_dg.paux * agc_dg.gammap\n"
     ]
    },
    {
     "data": {
      "application/vnd.jupyter.widget-view+json": {
       "model_id": "25a037a22c8b4fa19fd1d676cd9d6e4f",
       "version_major": 2,
       "version_minor": 0
      },
      "text/plain": [
       "  0%|          | 0/100 [00:00<?, ?%/s]"
      ]
     },
     "metadata": {},
     "output_type": "display_data"
    },
    {
     "name": "stderr",
     "output_type": "stream",
     "text": [
      "Simulation completed in 0.0382 seconds.\n"
     ]
    },
    {
     "data": {
      "application/vnd.jupyter.widget-view+json": {
       "model_id": "dffaf12661734b5290d67fe5f5ac8207",
       "version_major": 2,
       "version_minor": 0
      },
      "text/plain": [
       "  0%|          | 0/100 [00:00<?, ?%/s]"
      ]
     },
     "metadata": {},
     "output_type": "display_data"
    },
    {
     "name": "stderr",
     "output_type": "stream",
     "text": [
      "Simulation completed in 0.0370 seconds.\n"
     ]
    },
    {
     "data": {
      "application/vnd.jupyter.widget-view+json": {
       "model_id": "1bbabbcefb9e4002ba14013bf1dd8314",
       "version_major": 2,
       "version_minor": 0
      },
      "text/plain": [
       "  0%|          | 0/100 [00:00<?, ?%/s]"
      ]
     },
     "metadata": {},
     "output_type": "display_data"
    },
    {
     "name": "stderr",
     "output_type": "stream",
     "text": [
      "Simulation completed in 0.0384 seconds.\n"
     ]
    },
    {
     "data": {
      "application/vnd.jupyter.widget-view+json": {
       "model_id": "832010351a264ce5820e5c1fd0901018",
       "version_major": 2,
       "version_minor": 0
      },
      "text/plain": [
       "  0%|          | 0/100 [00:00<?, ?%/s]"
      ]
     },
     "metadata": {},
     "output_type": "display_data"
    },
    {
     "name": "stderr",
     "output_type": "stream",
     "text": [
      "Simulation completed in 0.0409 seconds.\n",
      "/var/folders/06/z8ws9b2d733f7h6yc5qpn22w0000gn/T/ipykernel_95445/789897794.py:103: UserWarning: Pandas doesn't allow columns to be created via a new attribute name - see https://pandas.pydata.org/pandas-docs/stable/indexing.html#attribute-access\n",
      "  agc_syg.paux2 = agc_syg.paux * agc_syg.gammap\n",
      "/var/folders/06/z8ws9b2d733f7h6yc5qpn22w0000gn/T/ipykernel_95445/789897794.py:112: UserWarning: Pandas doesn't allow columns to be created via a new attribute name - see https://pandas.pydata.org/pandas-docs/stable/indexing.html#attribute-access\n",
      "  agc_dg.paux2 = agc_dg.paux * agc_dg.gammap\n"
     ]
    },
    {
     "data": {
      "application/vnd.jupyter.widget-view+json": {
       "model_id": "775b9d6b6dcb463b85b506e669f448e0",
       "version_major": 2,
       "version_minor": 0
      },
      "text/plain": [
       "  0%|          | 0/100 [00:00<?, ?%/s]"
      ]
     },
     "metadata": {},
     "output_type": "display_data"
    },
    {
     "name": "stderr",
     "output_type": "stream",
     "text": [
      "Simulation completed in 0.0400 seconds.\n"
     ]
    },
    {
     "data": {
      "application/vnd.jupyter.widget-view+json": {
       "model_id": "7c679e838ba144cc82292d92086d47bb",
       "version_major": 2,
       "version_minor": 0
      },
      "text/plain": [
       "  0%|          | 0/100 [00:00<?, ?%/s]"
      ]
     },
     "metadata": {},
     "output_type": "display_data"
    },
    {
     "name": "stderr",
     "output_type": "stream",
     "text": [
      "Simulation completed in 0.0470 seconds.\n"
     ]
    },
    {
     "data": {
      "application/vnd.jupyter.widget-view+json": {
       "model_id": "09f354380a88441085b76ebddcff39a7",
       "version_major": 2,
       "version_minor": 0
      },
      "text/plain": [
       "  0%|          | 0/100 [00:00<?, ?%/s]"
      ]
     },
     "metadata": {},
     "output_type": "display_data"
    },
    {
     "name": "stderr",
     "output_type": "stream",
     "text": [
      "Simulation completed in 0.0446 seconds.\n"
     ]
    },
    {
     "data": {
      "application/vnd.jupyter.widget-view+json": {
       "model_id": "b8fa82f430724dad8917d0d91efbfa23",
       "version_major": 2,
       "version_minor": 0
      },
      "text/plain": [
       "  0%|          | 0/100 [00:00<?, ?%/s]"
      ]
     },
     "metadata": {},
     "output_type": "display_data"
    },
    {
     "name": "stderr",
     "output_type": "stream",
     "text": [
      "Simulation completed in 0.0436 seconds.\n",
      "/var/folders/06/z8ws9b2d733f7h6yc5qpn22w0000gn/T/ipykernel_95445/789897794.py:103: UserWarning: Pandas doesn't allow columns to be created via a new attribute name - see https://pandas.pydata.org/pandas-docs/stable/indexing.html#attribute-access\n",
      "  agc_syg.paux2 = agc_syg.paux * agc_syg.gammap\n",
      "/var/folders/06/z8ws9b2d733f7h6yc5qpn22w0000gn/T/ipykernel_95445/789897794.py:112: UserWarning: Pandas doesn't allow columns to be created via a new attribute name - see https://pandas.pydata.org/pandas-docs/stable/indexing.html#attribute-access\n",
      "  agc_dg.paux2 = agc_dg.paux * agc_dg.gammap\n"
     ]
    },
    {
     "data": {
      "application/vnd.jupyter.widget-view+json": {
       "model_id": "73c03f236bf34a8f842d9e05f77a54d0",
       "version_major": 2,
       "version_minor": 0
      },
      "text/plain": [
       "  0%|          | 0/100 [00:00<?, ?%/s]"
      ]
     },
     "metadata": {},
     "output_type": "display_data"
    },
    {
     "name": "stderr",
     "output_type": "stream",
     "text": [
      "Simulation completed in 0.0482 seconds.\n"
     ]
    },
    {
     "data": {
      "application/vnd.jupyter.widget-view+json": {
       "model_id": "986d7a6a88e446099095764f471b2994",
       "version_major": 2,
       "version_minor": 0
      },
      "text/plain": [
       "  0%|          | 0/100 [00:00<?, ?%/s]"
      ]
     },
     "metadata": {},
     "output_type": "display_data"
    },
    {
     "name": "stderr",
     "output_type": "stream",
     "text": [
      "Simulation completed in 0.0466 seconds.\n"
     ]
    },
    {
     "data": {
      "application/vnd.jupyter.widget-view+json": {
       "model_id": "b6db92cfd86e47d3bab3fdedc8d392d9",
       "version_major": 2,
       "version_minor": 0
      },
      "text/plain": [
       "  0%|          | 0/100 [00:00<?, ?%/s]"
      ]
     },
     "metadata": {},
     "output_type": "display_data"
    },
    {
     "name": "stderr",
     "output_type": "stream",
     "text": [
      "Simulation completed in 0.0481 seconds.\n"
     ]
    },
    {
     "data": {
      "application/vnd.jupyter.widget-view+json": {
       "model_id": "e4f6ec12ec23451687fdeafe3e00d8a2",
       "version_major": 2,
       "version_minor": 0
      },
      "text/plain": [
       "  0%|          | 0/100 [00:00<?, ?%/s]"
      ]
     },
     "metadata": {},
     "output_type": "display_data"
    },
    {
     "name": "stderr",
     "output_type": "stream",
     "text": [
      "Simulation completed in 0.0441 seconds.\n",
      "/var/folders/06/z8ws9b2d733f7h6yc5qpn22w0000gn/T/ipykernel_95445/789897794.py:103: UserWarning: Pandas doesn't allow columns to be created via a new attribute name - see https://pandas.pydata.org/pandas-docs/stable/indexing.html#attribute-access\n",
      "  agc_syg.paux2 = agc_syg.paux * agc_syg.gammap\n",
      "/var/folders/06/z8ws9b2d733f7h6yc5qpn22w0000gn/T/ipykernel_95445/789897794.py:112: UserWarning: Pandas doesn't allow columns to be created via a new attribute name - see https://pandas.pydata.org/pandas-docs/stable/indexing.html#attribute-access\n",
      "  agc_dg.paux2 = agc_dg.paux * agc_dg.gammap\n"
     ]
    },
    {
     "data": {
      "application/vnd.jupyter.widget-view+json": {
       "model_id": "bd9e7c593377453483126c5a66ffad68",
       "version_major": 2,
       "version_minor": 0
      },
      "text/plain": [
       "  0%|          | 0/100 [00:00<?, ?%/s]"
      ]
     },
     "metadata": {},
     "output_type": "display_data"
    },
    {
     "name": "stderr",
     "output_type": "stream",
     "text": [
      "Simulation completed in 0.0415 seconds.\n"
     ]
    },
    {
     "data": {
      "application/vnd.jupyter.widget-view+json": {
       "model_id": "75721bb78da44518aa8eebf4212e4d7a",
       "version_major": 2,
       "version_minor": 0
      },
      "text/plain": [
       "  0%|          | 0/100 [00:00<?, ?%/s]"
      ]
     },
     "metadata": {},
     "output_type": "display_data"
    },
    {
     "name": "stderr",
     "output_type": "stream",
     "text": [
      "Simulation completed in 0.0444 seconds.\n"
     ]
    },
    {
     "data": {
      "application/vnd.jupyter.widget-view+json": {
       "model_id": "190a941019cf4b55b4fd8f378432c315",
       "version_major": 2,
       "version_minor": 0
      },
      "text/plain": [
       "  0%|          | 0/100 [00:00<?, ?%/s]"
      ]
     },
     "metadata": {},
     "output_type": "display_data"
    },
    {
     "name": "stderr",
     "output_type": "stream",
     "text": [
      "Simulation completed in 0.0512 seconds.\n"
     ]
    },
    {
     "data": {
      "application/vnd.jupyter.widget-view+json": {
       "model_id": "9144a7505392407e8282ab5a4add06af",
       "version_major": 2,
       "version_minor": 0
      },
      "text/plain": [
       "  0%|          | 0/100 [00:00<?, ?%/s]"
      ]
     },
     "metadata": {},
     "output_type": "display_data"
    },
    {
     "name": "stderr",
     "output_type": "stream",
     "text": [
      "Simulation completed in 0.0466 seconds.\n",
      "/var/folders/06/z8ws9b2d733f7h6yc5qpn22w0000gn/T/ipykernel_95445/789897794.py:103: UserWarning: Pandas doesn't allow columns to be created via a new attribute name - see https://pandas.pydata.org/pandas-docs/stable/indexing.html#attribute-access\n",
      "  agc_syg.paux2 = agc_syg.paux * agc_syg.gammap\n",
      "/var/folders/06/z8ws9b2d733f7h6yc5qpn22w0000gn/T/ipykernel_95445/789897794.py:112: UserWarning: Pandas doesn't allow columns to be created via a new attribute name - see https://pandas.pydata.org/pandas-docs/stable/indexing.html#attribute-access\n",
      "  agc_dg.paux2 = agc_dg.paux * agc_dg.gammap\n"
     ]
    },
    {
     "data": {
      "application/vnd.jupyter.widget-view+json": {
       "model_id": "bd681cb8b9284ad399710cd64465c4f6",
       "version_major": 2,
       "version_minor": 0
      },
      "text/plain": [
       "  0%|          | 0/100 [00:00<?, ?%/s]"
      ]
     },
     "metadata": {},
     "output_type": "display_data"
    },
    {
     "name": "stderr",
     "output_type": "stream",
     "text": [
      "Simulation completed in 0.0454 seconds.\n"
     ]
    },
    {
     "data": {
      "application/vnd.jupyter.widget-view+json": {
       "model_id": "0581126a009f4b6a8c8b94d4751cb5cb",
       "version_major": 2,
       "version_minor": 0
      },
      "text/plain": [
       "  0%|          | 0/100 [00:00<?, ?%/s]"
      ]
     },
     "metadata": {},
     "output_type": "display_data"
    },
    {
     "name": "stderr",
     "output_type": "stream",
     "text": [
      "Simulation completed in 0.0418 seconds.\n"
     ]
    },
    {
     "data": {
      "application/vnd.jupyter.widget-view+json": {
       "model_id": "11d6e9734a434cc29ab95ba317e2b89b",
       "version_major": 2,
       "version_minor": 0
      },
      "text/plain": [
       "  0%|          | 0/100 [00:00<?, ?%/s]"
      ]
     },
     "metadata": {},
     "output_type": "display_data"
    },
    {
     "name": "stderr",
     "output_type": "stream",
     "text": [
      "Simulation completed in 0.0459 seconds.\n"
     ]
    },
    {
     "data": {
      "application/vnd.jupyter.widget-view+json": {
       "model_id": "c52103815fc74fad8e7cb8ec0845e115",
       "version_major": 2,
       "version_minor": 0
      },
      "text/plain": [
       "  0%|          | 0/100 [00:00<?, ?%/s]"
      ]
     },
     "metadata": {},
     "output_type": "display_data"
    },
    {
     "name": "stderr",
     "output_type": "stream",
     "text": [
      "Simulation completed in 0.0456 seconds.\n",
      "/var/folders/06/z8ws9b2d733f7h6yc5qpn22w0000gn/T/ipykernel_95445/789897794.py:103: UserWarning: Pandas doesn't allow columns to be created via a new attribute name - see https://pandas.pydata.org/pandas-docs/stable/indexing.html#attribute-access\n",
      "  agc_syg.paux2 = agc_syg.paux * agc_syg.gammap\n",
      "/var/folders/06/z8ws9b2d733f7h6yc5qpn22w0000gn/T/ipykernel_95445/789897794.py:112: UserWarning: Pandas doesn't allow columns to be created via a new attribute name - see https://pandas.pydata.org/pandas-docs/stable/indexing.html#attribute-access\n",
      "  agc_dg.paux2 = agc_dg.paux * agc_dg.gammap\n"
     ]
    },
    {
     "data": {
      "application/vnd.jupyter.widget-view+json": {
       "model_id": "e653eb146b6349beb7413a1768af6937",
       "version_major": 2,
       "version_minor": 0
      },
      "text/plain": [
       "  0%|          | 0/100 [00:00<?, ?%/s]"
      ]
     },
     "metadata": {},
     "output_type": "display_data"
    },
    {
     "name": "stderr",
     "output_type": "stream",
     "text": [
      "Simulation completed in 0.0494 seconds.\n"
     ]
    },
    {
     "data": {
      "application/vnd.jupyter.widget-view+json": {
       "model_id": "a4d1dd69c78340e08624d0604c0290ff",
       "version_major": 2,
       "version_minor": 0
      },
      "text/plain": [
       "  0%|          | 0/100 [00:00<?, ?%/s]"
      ]
     },
     "metadata": {},
     "output_type": "display_data"
    },
    {
     "name": "stderr",
     "output_type": "stream",
     "text": [
      "Simulation completed in 0.0462 seconds.\n"
     ]
    },
    {
     "data": {
      "application/vnd.jupyter.widget-view+json": {
       "model_id": "360aeaeb2cd94704aad414664a45a7a2",
       "version_major": 2,
       "version_minor": 0
      },
      "text/plain": [
       "  0%|          | 0/100 [00:00<?, ?%/s]"
      ]
     },
     "metadata": {},
     "output_type": "display_data"
    },
    {
     "name": "stderr",
     "output_type": "stream",
     "text": [
      "Simulation completed in 0.0430 seconds.\n"
     ]
    },
    {
     "data": {
      "application/vnd.jupyter.widget-view+json": {
       "model_id": "c0270992f7924d99bc82bb82033c4fcd",
       "version_major": 2,
       "version_minor": 0
      },
      "text/plain": [
       "  0%|          | 0/100 [00:00<?, ?%/s]"
      ]
     },
     "metadata": {},
     "output_type": "display_data"
    },
    {
     "name": "stderr",
     "output_type": "stream",
     "text": [
      "Simulation completed in 0.0415 seconds.\n",
      "/var/folders/06/z8ws9b2d733f7h6yc5qpn22w0000gn/T/ipykernel_95445/789897794.py:103: UserWarning: Pandas doesn't allow columns to be created via a new attribute name - see https://pandas.pydata.org/pandas-docs/stable/indexing.html#attribute-access\n",
      "  agc_syg.paux2 = agc_syg.paux * agc_syg.gammap\n",
      "/var/folders/06/z8ws9b2d733f7h6yc5qpn22w0000gn/T/ipykernel_95445/789897794.py:112: UserWarning: Pandas doesn't allow columns to be created via a new attribute name - see https://pandas.pydata.org/pandas-docs/stable/indexing.html#attribute-access\n",
      "  agc_dg.paux2 = agc_dg.paux * agc_dg.gammap\n"
     ]
    },
    {
     "data": {
      "application/vnd.jupyter.widget-view+json": {
       "model_id": "5dcc8f218ee24d528c18f04e545f00ae",
       "version_major": 2,
       "version_minor": 0
      },
      "text/plain": [
       "  0%|          | 0/100 [00:00<?, ?%/s]"
      ]
     },
     "metadata": {},
     "output_type": "display_data"
    },
    {
     "name": "stderr",
     "output_type": "stream",
     "text": [
      "Simulation completed in 0.0550 seconds.\n"
     ]
    },
    {
     "data": {
      "application/vnd.jupyter.widget-view+json": {
       "model_id": "839e125b1f0f45669b946ade25207156",
       "version_major": 2,
       "version_minor": 0
      },
      "text/plain": [
       "  0%|          | 0/100 [00:00<?, ?%/s]"
      ]
     },
     "metadata": {},
     "output_type": "display_data"
    },
    {
     "name": "stderr",
     "output_type": "stream",
     "text": [
      "Simulation completed in 0.0471 seconds.\n"
     ]
    },
    {
     "data": {
      "application/vnd.jupyter.widget-view+json": {
       "model_id": "11e8e3e088b34e6db7d20880c7afbf07",
       "version_major": 2,
       "version_minor": 0
      },
      "text/plain": [
       "  0%|          | 0/100 [00:00<?, ?%/s]"
      ]
     },
     "metadata": {},
     "output_type": "display_data"
    },
    {
     "name": "stderr",
     "output_type": "stream",
     "text": [
      "Simulation completed in 0.0461 seconds.\n"
     ]
    },
    {
     "data": {
      "application/vnd.jupyter.widget-view+json": {
       "model_id": "59d1322dcf5b4e34a4223731a15644d8",
       "version_major": 2,
       "version_minor": 0
      },
      "text/plain": [
       "  0%|          | 0/100 [00:00<?, ?%/s]"
      ]
     },
     "metadata": {},
     "output_type": "display_data"
    },
    {
     "name": "stderr",
     "output_type": "stream",
     "text": [
      "Simulation completed in 0.0495 seconds.\n",
      "/var/folders/06/z8ws9b2d733f7h6yc5qpn22w0000gn/T/ipykernel_95445/789897794.py:103: UserWarning: Pandas doesn't allow columns to be created via a new attribute name - see https://pandas.pydata.org/pandas-docs/stable/indexing.html#attribute-access\n",
      "  agc_syg.paux2 = agc_syg.paux * agc_syg.gammap\n",
      "/var/folders/06/z8ws9b2d733f7h6yc5qpn22w0000gn/T/ipykernel_95445/789897794.py:112: UserWarning: Pandas doesn't allow columns to be created via a new attribute name - see https://pandas.pydata.org/pandas-docs/stable/indexing.html#attribute-access\n",
      "  agc_dg.paux2 = agc_dg.paux * agc_dg.gammap\n"
     ]
    },
    {
     "data": {
      "application/vnd.jupyter.widget-view+json": {
       "model_id": "3e1a4b89537048dfae5b0660a2b4dd75",
       "version_major": 2,
       "version_minor": 0
      },
      "text/plain": [
       "  0%|          | 0/100 [00:00<?, ?%/s]"
      ]
     },
     "metadata": {},
     "output_type": "display_data"
    },
    {
     "name": "stderr",
     "output_type": "stream",
     "text": [
      "Simulation completed in 0.0412 seconds.\n"
     ]
    },
    {
     "data": {
      "application/vnd.jupyter.widget-view+json": {
       "model_id": "443317be5e30478292f9d1628a59850c",
       "version_major": 2,
       "version_minor": 0
      },
      "text/plain": [
       "  0%|          | 0/100 [00:00<?, ?%/s]"
      ]
     },
     "metadata": {},
     "output_type": "display_data"
    },
    {
     "name": "stderr",
     "output_type": "stream",
     "text": [
      "Simulation completed in 0.0469 seconds.\n"
     ]
    },
    {
     "data": {
      "application/vnd.jupyter.widget-view+json": {
       "model_id": "6a81f34edd43470ca201f96100fa22f0",
       "version_major": 2,
       "version_minor": 0
      },
      "text/plain": [
       "  0%|          | 0/100 [00:00<?, ?%/s]"
      ]
     },
     "metadata": {},
     "output_type": "display_data"
    },
    {
     "name": "stderr",
     "output_type": "stream",
     "text": [
      "Simulation completed in 0.0368 seconds.\n"
     ]
    },
    {
     "data": {
      "application/vnd.jupyter.widget-view+json": {
       "model_id": "e312d79fccfb4c95b5ea347262a66e2e",
       "version_major": 2,
       "version_minor": 0
      },
      "text/plain": [
       "  0%|          | 0/100 [00:00<?, ?%/s]"
      ]
     },
     "metadata": {},
     "output_type": "display_data"
    },
    {
     "name": "stderr",
     "output_type": "stream",
     "text": [
      "Simulation completed in 0.0429 seconds.\n",
      "/var/folders/06/z8ws9b2d733f7h6yc5qpn22w0000gn/T/ipykernel_95445/789897794.py:103: UserWarning: Pandas doesn't allow columns to be created via a new attribute name - see https://pandas.pydata.org/pandas-docs/stable/indexing.html#attribute-access\n",
      "  agc_syg.paux2 = agc_syg.paux * agc_syg.gammap\n",
      "/var/folders/06/z8ws9b2d733f7h6yc5qpn22w0000gn/T/ipykernel_95445/789897794.py:112: UserWarning: Pandas doesn't allow columns to be created via a new attribute name - see https://pandas.pydata.org/pandas-docs/stable/indexing.html#attribute-access\n",
      "  agc_dg.paux2 = agc_dg.paux * agc_dg.gammap\n"
     ]
    },
    {
     "data": {
      "application/vnd.jupyter.widget-view+json": {
       "model_id": "54f7f9992173441899810dfef29d8027",
       "version_major": 2,
       "version_minor": 0
      },
      "text/plain": [
       "  0%|          | 0/100 [00:00<?, ?%/s]"
      ]
     },
     "metadata": {},
     "output_type": "display_data"
    },
    {
     "name": "stderr",
     "output_type": "stream",
     "text": [
      "Simulation completed in 0.0373 seconds.\n"
     ]
    },
    {
     "data": {
      "application/vnd.jupyter.widget-view+json": {
       "model_id": "c0d39dfe76c74624bbfdb5640bd7468e",
       "version_major": 2,
       "version_minor": 0
      },
      "text/plain": [
       "  0%|          | 0/100 [00:00<?, ?%/s]"
      ]
     },
     "metadata": {},
     "output_type": "display_data"
    },
    {
     "name": "stderr",
     "output_type": "stream",
     "text": [
      "Simulation completed in 0.0425 seconds.\n"
     ]
    },
    {
     "data": {
      "application/vnd.jupyter.widget-view+json": {
       "model_id": "3be865e214c742128c3d14a31beee65a",
       "version_major": 2,
       "version_minor": 0
      },
      "text/plain": [
       "  0%|          | 0/100 [00:00<?, ?%/s]"
      ]
     },
     "metadata": {},
     "output_type": "display_data"
    },
    {
     "name": "stderr",
     "output_type": "stream",
     "text": [
      "Simulation completed in 0.0437 seconds.\n"
     ]
    },
    {
     "data": {
      "application/vnd.jupyter.widget-view+json": {
       "model_id": "6d3329ae390e46c29eea67bd6a71714a",
       "version_major": 2,
       "version_minor": 0
      },
      "text/plain": [
       "  0%|          | 0/100 [00:00<?, ?%/s]"
      ]
     },
     "metadata": {},
     "output_type": "display_data"
    },
    {
     "name": "stderr",
     "output_type": "stream",
     "text": [
      "Simulation completed in 0.0409 seconds.\n",
      "/var/folders/06/z8ws9b2d733f7h6yc5qpn22w0000gn/T/ipykernel_95445/789897794.py:103: UserWarning: Pandas doesn't allow columns to be created via a new attribute name - see https://pandas.pydata.org/pandas-docs/stable/indexing.html#attribute-access\n",
      "  agc_syg.paux2 = agc_syg.paux * agc_syg.gammap\n",
      "/var/folders/06/z8ws9b2d733f7h6yc5qpn22w0000gn/T/ipykernel_95445/789897794.py:112: UserWarning: Pandas doesn't allow columns to be created via a new attribute name - see https://pandas.pydata.org/pandas-docs/stable/indexing.html#attribute-access\n",
      "  agc_dg.paux2 = agc_dg.paux * agc_dg.gammap\n"
     ]
    },
    {
     "data": {
      "application/vnd.jupyter.widget-view+json": {
       "model_id": "0011ec9b150f4db9804c55f8e8a8a6f7",
       "version_major": 2,
       "version_minor": 0
      },
      "text/plain": [
       "  0%|          | 0/100 [00:00<?, ?%/s]"
      ]
     },
     "metadata": {},
     "output_type": "display_data"
    },
    {
     "name": "stderr",
     "output_type": "stream",
     "text": [
      "Simulation completed in 0.0425 seconds.\n"
     ]
    },
    {
     "data": {
      "application/vnd.jupyter.widget-view+json": {
       "model_id": "bf5eb1312ea24a14be4136b2671adc18",
       "version_major": 2,
       "version_minor": 0
      },
      "text/plain": [
       "  0%|          | 0/100 [00:00<?, ?%/s]"
      ]
     },
     "metadata": {},
     "output_type": "display_data"
    },
    {
     "name": "stderr",
     "output_type": "stream",
     "text": [
      "Simulation completed in 0.0444 seconds.\n"
     ]
    },
    {
     "data": {
      "application/vnd.jupyter.widget-view+json": {
       "model_id": "6a895abe96634a07b6a937e3c8329e55",
       "version_major": 2,
       "version_minor": 0
      },
      "text/plain": [
       "  0%|          | 0/100 [00:00<?, ?%/s]"
      ]
     },
     "metadata": {},
     "output_type": "display_data"
    },
    {
     "name": "stderr",
     "output_type": "stream",
     "text": [
      "Simulation completed in 0.0409 seconds.\n"
     ]
    },
    {
     "data": {
      "application/vnd.jupyter.widget-view+json": {
       "model_id": "b80b5ddfd3764e35a784d9e251212726",
       "version_major": 2,
       "version_minor": 0
      },
      "text/plain": [
       "  0%|          | 0/100 [00:00<?, ?%/s]"
      ]
     },
     "metadata": {},
     "output_type": "display_data"
    },
    {
     "name": "stderr",
     "output_type": "stream",
     "text": [
      "Simulation completed in 0.0459 seconds.\n",
      "/var/folders/06/z8ws9b2d733f7h6yc5qpn22w0000gn/T/ipykernel_95445/789897794.py:103: UserWarning: Pandas doesn't allow columns to be created via a new attribute name - see https://pandas.pydata.org/pandas-docs/stable/indexing.html#attribute-access\n",
      "  agc_syg.paux2 = agc_syg.paux * agc_syg.gammap\n",
      "/var/folders/06/z8ws9b2d733f7h6yc5qpn22w0000gn/T/ipykernel_95445/789897794.py:112: UserWarning: Pandas doesn't allow columns to be created via a new attribute name - see https://pandas.pydata.org/pandas-docs/stable/indexing.html#attribute-access\n",
      "  agc_dg.paux2 = agc_dg.paux * agc_dg.gammap\n"
     ]
    },
    {
     "data": {
      "application/vnd.jupyter.widget-view+json": {
       "model_id": "f0418d9e0bf447deba639b07a4fdb7c3",
       "version_major": 2,
       "version_minor": 0
      },
      "text/plain": [
       "  0%|          | 0/100 [00:00<?, ?%/s]"
      ]
     },
     "metadata": {},
     "output_type": "display_data"
    },
    {
     "name": "stderr",
     "output_type": "stream",
     "text": [
      "Simulation completed in 0.0415 seconds.\n"
     ]
    },
    {
     "data": {
      "application/vnd.jupyter.widget-view+json": {
       "model_id": "36e26db629304bbb9ee1ecccf7f61c49",
       "version_major": 2,
       "version_minor": 0
      },
      "text/plain": [
       "  0%|          | 0/100 [00:00<?, ?%/s]"
      ]
     },
     "metadata": {},
     "output_type": "display_data"
    },
    {
     "name": "stderr",
     "output_type": "stream",
     "text": [
      "Simulation completed in 0.0396 seconds.\n"
     ]
    },
    {
     "data": {
      "application/vnd.jupyter.widget-view+json": {
       "model_id": "920201e905144a4ab5106cecde4b399a",
       "version_major": 2,
       "version_minor": 0
      },
      "text/plain": [
       "  0%|          | 0/100 [00:00<?, ?%/s]"
      ]
     },
     "metadata": {},
     "output_type": "display_data"
    },
    {
     "name": "stderr",
     "output_type": "stream",
     "text": [
      "Simulation completed in 0.0453 seconds.\n"
     ]
    },
    {
     "data": {
      "application/vnd.jupyter.widget-view+json": {
       "model_id": "f606c8806eb74383bf78fb7f7101e306",
       "version_major": 2,
       "version_minor": 0
      },
      "text/plain": [
       "  0%|          | 0/100 [00:00<?, ?%/s]"
      ]
     },
     "metadata": {},
     "output_type": "display_data"
    },
    {
     "name": "stderr",
     "output_type": "stream",
     "text": [
      "Simulation completed in 0.0413 seconds.\n",
      "/var/folders/06/z8ws9b2d733f7h6yc5qpn22w0000gn/T/ipykernel_95445/789897794.py:103: UserWarning: Pandas doesn't allow columns to be created via a new attribute name - see https://pandas.pydata.org/pandas-docs/stable/indexing.html#attribute-access\n",
      "  agc_syg.paux2 = agc_syg.paux * agc_syg.gammap\n",
      "/var/folders/06/z8ws9b2d733f7h6yc5qpn22w0000gn/T/ipykernel_95445/789897794.py:112: UserWarning: Pandas doesn't allow columns to be created via a new attribute name - see https://pandas.pydata.org/pandas-docs/stable/indexing.html#attribute-access\n",
      "  agc_dg.paux2 = agc_dg.paux * agc_dg.gammap\n"
     ]
    },
    {
     "data": {
      "application/vnd.jupyter.widget-view+json": {
       "model_id": "7d2554ce6283455d914ed0655a1373e2",
       "version_major": 2,
       "version_minor": 0
      },
      "text/plain": [
       "  0%|          | 0/100 [00:00<?, ?%/s]"
      ]
     },
     "metadata": {},
     "output_type": "display_data"
    },
    {
     "name": "stderr",
     "output_type": "stream",
     "text": [
      "Simulation completed in 0.0481 seconds.\n"
     ]
    },
    {
     "data": {
      "application/vnd.jupyter.widget-view+json": {
       "model_id": "dc80d5c2909f4af8a40d4d6ca319c441",
       "version_major": 2,
       "version_minor": 0
      },
      "text/plain": [
       "  0%|          | 0/100 [00:00<?, ?%/s]"
      ]
     },
     "metadata": {},
     "output_type": "display_data"
    },
    {
     "name": "stderr",
     "output_type": "stream",
     "text": [
      "Simulation completed in 0.0598 seconds.\n"
     ]
    },
    {
     "data": {
      "application/vnd.jupyter.widget-view+json": {
       "model_id": "213d6f457f944f3daf1d5dac46346083",
       "version_major": 2,
       "version_minor": 0
      },
      "text/plain": [
       "  0%|          | 0/100 [00:00<?, ?%/s]"
      ]
     },
     "metadata": {},
     "output_type": "display_data"
    },
    {
     "name": "stderr",
     "output_type": "stream",
     "text": [
      "Simulation completed in 0.0453 seconds.\n"
     ]
    },
    {
     "data": {
      "application/vnd.jupyter.widget-view+json": {
       "model_id": "55ec27b7d69f4c758ff773e1381589ae",
       "version_major": 2,
       "version_minor": 0
      },
      "text/plain": [
       "  0%|          | 0/100 [00:00<?, ?%/s]"
      ]
     },
     "metadata": {},
     "output_type": "display_data"
    },
    {
     "name": "stderr",
     "output_type": "stream",
     "text": [
      "Simulation completed in 0.0493 seconds.\n",
      "/var/folders/06/z8ws9b2d733f7h6yc5qpn22w0000gn/T/ipykernel_95445/789897794.py:103: UserWarning: Pandas doesn't allow columns to be created via a new attribute name - see https://pandas.pydata.org/pandas-docs/stable/indexing.html#attribute-access\n",
      "  agc_syg.paux2 = agc_syg.paux * agc_syg.gammap\n",
      "/var/folders/06/z8ws9b2d733f7h6yc5qpn22w0000gn/T/ipykernel_95445/789897794.py:112: UserWarning: Pandas doesn't allow columns to be created via a new attribute name - see https://pandas.pydata.org/pandas-docs/stable/indexing.html#attribute-access\n",
      "  agc_dg.paux2 = agc_dg.paux * agc_dg.gammap\n"
     ]
    },
    {
     "data": {
      "application/vnd.jupyter.widget-view+json": {
       "model_id": "e9238b9d50df476b97927debe9b1c807",
       "version_major": 2,
       "version_minor": 0
      },
      "text/plain": [
       "  0%|          | 0/100 [00:00<?, ?%/s]"
      ]
     },
     "metadata": {},
     "output_type": "display_data"
    },
    {
     "name": "stderr",
     "output_type": "stream",
     "text": [
      "Simulation completed in 0.0410 seconds.\n"
     ]
    },
    {
     "data": {
      "application/vnd.jupyter.widget-view+json": {
       "model_id": "e304a9c83f2944ad8b9669f22b4a47a2",
       "version_major": 2,
       "version_minor": 0
      },
      "text/plain": [
       "  0%|          | 0/100 [00:00<?, ?%/s]"
      ]
     },
     "metadata": {},
     "output_type": "display_data"
    },
    {
     "name": "stderr",
     "output_type": "stream",
     "text": [
      "Simulation completed in 0.0452 seconds.\n"
     ]
    },
    {
     "data": {
      "application/vnd.jupyter.widget-view+json": {
       "model_id": "794f145101214ef99c17dc845674e4dc",
       "version_major": 2,
       "version_minor": 0
      },
      "text/plain": [
       "  0%|          | 0/100 [00:00<?, ?%/s]"
      ]
     },
     "metadata": {},
     "output_type": "display_data"
    },
    {
     "name": "stderr",
     "output_type": "stream",
     "text": [
      "Simulation completed in 0.0443 seconds.\n"
     ]
    },
    {
     "data": {
      "application/vnd.jupyter.widget-view+json": {
       "model_id": "aa2e5e03b06c48b682f6ce5dfe6a83b8",
       "version_major": 2,
       "version_minor": 0
      },
      "text/plain": [
       "  0%|          | 0/100 [00:00<?, ?%/s]"
      ]
     },
     "metadata": {},
     "output_type": "display_data"
    },
    {
     "name": "stderr",
     "output_type": "stream",
     "text": [
      "Simulation completed in 0.0422 seconds.\n",
      "/var/folders/06/z8ws9b2d733f7h6yc5qpn22w0000gn/T/ipykernel_95445/789897794.py:103: UserWarning: Pandas doesn't allow columns to be created via a new attribute name - see https://pandas.pydata.org/pandas-docs/stable/indexing.html#attribute-access\n",
      "  agc_syg.paux2 = agc_syg.paux * agc_syg.gammap\n",
      "/var/folders/06/z8ws9b2d733f7h6yc5qpn22w0000gn/T/ipykernel_95445/789897794.py:112: UserWarning: Pandas doesn't allow columns to be created via a new attribute name - see https://pandas.pydata.org/pandas-docs/stable/indexing.html#attribute-access\n",
      "  agc_dg.paux2 = agc_dg.paux * agc_dg.gammap\n"
     ]
    },
    {
     "data": {
      "application/vnd.jupyter.widget-view+json": {
       "model_id": "1a72ed2fdb814da19d1adcdeee347681",
       "version_major": 2,
       "version_minor": 0
      },
      "text/plain": [
       "  0%|          | 0/100 [00:00<?, ?%/s]"
      ]
     },
     "metadata": {},
     "output_type": "display_data"
    },
    {
     "name": "stderr",
     "output_type": "stream",
     "text": [
      "Simulation completed in 0.0441 seconds.\n"
     ]
    },
    {
     "data": {
      "application/vnd.jupyter.widget-view+json": {
       "model_id": "23a305935ed7461898ed26cd55d693ff",
       "version_major": 2,
       "version_minor": 0
      },
      "text/plain": [
       "  0%|          | 0/100 [00:00<?, ?%/s]"
      ]
     },
     "metadata": {},
     "output_type": "display_data"
    },
    {
     "name": "stderr",
     "output_type": "stream",
     "text": [
      "Simulation completed in 0.0472 seconds.\n"
     ]
    },
    {
     "data": {
      "application/vnd.jupyter.widget-view+json": {
       "model_id": "9470198824784a47a1752bbf8677d03a",
       "version_major": 2,
       "version_minor": 0
      },
      "text/plain": [
       "  0%|          | 0/100 [00:00<?, ?%/s]"
      ]
     },
     "metadata": {},
     "output_type": "display_data"
    },
    {
     "name": "stderr",
     "output_type": "stream",
     "text": [
      "Simulation completed in 0.0525 seconds.\n"
     ]
    },
    {
     "data": {
      "application/vnd.jupyter.widget-view+json": {
       "model_id": "0ee57a14a66a484790e2fbb63ecf751c",
       "version_major": 2,
       "version_minor": 0
      },
      "text/plain": [
       "  0%|          | 0/100 [00:00<?, ?%/s]"
      ]
     },
     "metadata": {},
     "output_type": "display_data"
    },
    {
     "name": "stderr",
     "output_type": "stream",
     "text": [
      "Simulation completed in 0.0546 seconds.\n",
      "/var/folders/06/z8ws9b2d733f7h6yc5qpn22w0000gn/T/ipykernel_95445/789897794.py:103: UserWarning: Pandas doesn't allow columns to be created via a new attribute name - see https://pandas.pydata.org/pandas-docs/stable/indexing.html#attribute-access\n",
      "  agc_syg.paux2 = agc_syg.paux * agc_syg.gammap\n",
      "/var/folders/06/z8ws9b2d733f7h6yc5qpn22w0000gn/T/ipykernel_95445/789897794.py:112: UserWarning: Pandas doesn't allow columns to be created via a new attribute name - see https://pandas.pydata.org/pandas-docs/stable/indexing.html#attribute-access\n",
      "  agc_dg.paux2 = agc_dg.paux * agc_dg.gammap\n"
     ]
    },
    {
     "data": {
      "application/vnd.jupyter.widget-view+json": {
       "model_id": "16b87f830b2f45e7a2c36ce79215b586",
       "version_major": 2,
       "version_minor": 0
      },
      "text/plain": [
       "  0%|          | 0/100 [00:00<?, ?%/s]"
      ]
     },
     "metadata": {},
     "output_type": "display_data"
    },
    {
     "name": "stderr",
     "output_type": "stream",
     "text": [
      "Simulation completed in 0.0518 seconds.\n"
     ]
    },
    {
     "data": {
      "application/vnd.jupyter.widget-view+json": {
       "model_id": "1ac70473224b4b6080db1c12dd3b3002",
       "version_major": 2,
       "version_minor": 0
      },
      "text/plain": [
       "  0%|          | 0/100 [00:00<?, ?%/s]"
      ]
     },
     "metadata": {},
     "output_type": "display_data"
    },
    {
     "name": "stderr",
     "output_type": "stream",
     "text": [
      "Simulation completed in 0.0481 seconds.\n"
     ]
    },
    {
     "data": {
      "application/vnd.jupyter.widget-view+json": {
       "model_id": "7e4cc0fd3618462482e5fe4a6ccc73fc",
       "version_major": 2,
       "version_minor": 0
      },
      "text/plain": [
       "  0%|          | 0/100 [00:00<?, ?%/s]"
      ]
     },
     "metadata": {},
     "output_type": "display_data"
    },
    {
     "name": "stderr",
     "output_type": "stream",
     "text": [
      "Simulation completed in 0.0409 seconds.\n"
     ]
    },
    {
     "data": {
      "application/vnd.jupyter.widget-view+json": {
       "model_id": "b669afb1f7d147bf9b36c3f0dbb8916e",
       "version_major": 2,
       "version_minor": 0
      },
      "text/plain": [
       "  0%|          | 0/100 [00:00<?, ?%/s]"
      ]
     },
     "metadata": {},
     "output_type": "display_data"
    },
    {
     "name": "stderr",
     "output_type": "stream",
     "text": [
      "Simulation completed in 0.0725 seconds.\n",
      "/var/folders/06/z8ws9b2d733f7h6yc5qpn22w0000gn/T/ipykernel_95445/789897794.py:103: UserWarning: Pandas doesn't allow columns to be created via a new attribute name - see https://pandas.pydata.org/pandas-docs/stable/indexing.html#attribute-access\n",
      "  agc_syg.paux2 = agc_syg.paux * agc_syg.gammap\n",
      "/var/folders/06/z8ws9b2d733f7h6yc5qpn22w0000gn/T/ipykernel_95445/789897794.py:112: UserWarning: Pandas doesn't allow columns to be created via a new attribute name - see https://pandas.pydata.org/pandas-docs/stable/indexing.html#attribute-access\n",
      "  agc_dg.paux2 = agc_dg.paux * agc_dg.gammap\n"
     ]
    },
    {
     "data": {
      "application/vnd.jupyter.widget-view+json": {
       "model_id": "4987382eb7dc45d3be5be3a8a17a08c1",
       "version_major": 2,
       "version_minor": 0
      },
      "text/plain": [
       "  0%|          | 0/100 [00:00<?, ?%/s]"
      ]
     },
     "metadata": {},
     "output_type": "display_data"
    },
    {
     "name": "stderr",
     "output_type": "stream",
     "text": [
      "Simulation completed in 0.0441 seconds.\n"
     ]
    },
    {
     "data": {
      "application/vnd.jupyter.widget-view+json": {
       "model_id": "315a004c57ec4e8795f22583f22cb36f",
       "version_major": 2,
       "version_minor": 0
      },
      "text/plain": [
       "  0%|          | 0/100 [00:00<?, ?%/s]"
      ]
     },
     "metadata": {},
     "output_type": "display_data"
    },
    {
     "name": "stderr",
     "output_type": "stream",
     "text": [
      "Simulation completed in 0.0393 seconds.\n"
     ]
    },
    {
     "data": {
      "application/vnd.jupyter.widget-view+json": {
       "model_id": "a45ae243a5d74e19817db7cd1257bc75",
       "version_major": 2,
       "version_minor": 0
      },
      "text/plain": [
       "  0%|          | 0/100 [00:00<?, ?%/s]"
      ]
     },
     "metadata": {},
     "output_type": "display_data"
    },
    {
     "name": "stderr",
     "output_type": "stream",
     "text": [
      "Simulation completed in 0.0474 seconds.\n"
     ]
    },
    {
     "data": {
      "application/vnd.jupyter.widget-view+json": {
       "model_id": "1e253703476a4cea8d93dbb97bff373e",
       "version_major": 2,
       "version_minor": 0
      },
      "text/plain": [
       "  0%|          | 0/100 [00:00<?, ?%/s]"
      ]
     },
     "metadata": {},
     "output_type": "display_data"
    },
    {
     "name": "stderr",
     "output_type": "stream",
     "text": [
      "Simulation completed in 0.0442 seconds.\n",
      "/var/folders/06/z8ws9b2d733f7h6yc5qpn22w0000gn/T/ipykernel_95445/789897794.py:103: UserWarning: Pandas doesn't allow columns to be created via a new attribute name - see https://pandas.pydata.org/pandas-docs/stable/indexing.html#attribute-access\n",
      "  agc_syg.paux2 = agc_syg.paux * agc_syg.gammap\n",
      "/var/folders/06/z8ws9b2d733f7h6yc5qpn22w0000gn/T/ipykernel_95445/789897794.py:112: UserWarning: Pandas doesn't allow columns to be created via a new attribute name - see https://pandas.pydata.org/pandas-docs/stable/indexing.html#attribute-access\n",
      "  agc_dg.paux2 = agc_dg.paux * agc_dg.gammap\n"
     ]
    },
    {
     "data": {
      "application/vnd.jupyter.widget-view+json": {
       "model_id": "3ebd905f69c04a4ebc2ce3359f213f22",
       "version_major": 2,
       "version_minor": 0
      },
      "text/plain": [
       "  0%|          | 0/100 [00:00<?, ?%/s]"
      ]
     },
     "metadata": {},
     "output_type": "display_data"
    },
    {
     "name": "stderr",
     "output_type": "stream",
     "text": [
      "Simulation completed in 0.0429 seconds.\n"
     ]
    },
    {
     "data": {
      "application/vnd.jupyter.widget-view+json": {
       "model_id": "d141b11cdced4853a1f659e6f4bcb34f",
       "version_major": 2,
       "version_minor": 0
      },
      "text/plain": [
       "  0%|          | 0/100 [00:00<?, ?%/s]"
      ]
     },
     "metadata": {},
     "output_type": "display_data"
    },
    {
     "name": "stderr",
     "output_type": "stream",
     "text": [
      "Simulation completed in 0.0372 seconds.\n"
     ]
    },
    {
     "data": {
      "application/vnd.jupyter.widget-view+json": {
       "model_id": "f785c42382ff43d4b48bef6dde629232",
       "version_major": 2,
       "version_minor": 0
      },
      "text/plain": [
       "  0%|          | 0/100 [00:00<?, ?%/s]"
      ]
     },
     "metadata": {},
     "output_type": "display_data"
    },
    {
     "name": "stderr",
     "output_type": "stream",
     "text": [
      "Simulation completed in 0.0437 seconds.\n"
     ]
    },
    {
     "data": {
      "application/vnd.jupyter.widget-view+json": {
       "model_id": "9efe0cb50885496a97645172e605758f",
       "version_major": 2,
       "version_minor": 0
      },
      "text/plain": [
       "  0%|          | 0/100 [00:00<?, ?%/s]"
      ]
     },
     "metadata": {},
     "output_type": "display_data"
    },
    {
     "name": "stderr",
     "output_type": "stream",
     "text": [
      "Simulation completed in 0.0422 seconds.\n",
      "/var/folders/06/z8ws9b2d733f7h6yc5qpn22w0000gn/T/ipykernel_95445/789897794.py:103: UserWarning: Pandas doesn't allow columns to be created via a new attribute name - see https://pandas.pydata.org/pandas-docs/stable/indexing.html#attribute-access\n",
      "  agc_syg.paux2 = agc_syg.paux * agc_syg.gammap\n",
      "/var/folders/06/z8ws9b2d733f7h6yc5qpn22w0000gn/T/ipykernel_95445/789897794.py:112: UserWarning: Pandas doesn't allow columns to be created via a new attribute name - see https://pandas.pydata.org/pandas-docs/stable/indexing.html#attribute-access\n",
      "  agc_dg.paux2 = agc_dg.paux * agc_dg.gammap\n"
     ]
    },
    {
     "data": {
      "application/vnd.jupyter.widget-view+json": {
       "model_id": "eb4cfaa9c8b04fc79de4fcf461797943",
       "version_major": 2,
       "version_minor": 0
      },
      "text/plain": [
       "  0%|          | 0/100 [00:00<?, ?%/s]"
      ]
     },
     "metadata": {},
     "output_type": "display_data"
    },
    {
     "ename": "KeyboardInterrupt",
     "evalue": "",
     "output_type": "error",
     "traceback": [
      "\u001b[0;31m---------------------------------------------------------------------------\u001b[0m",
      "\u001b[0;31mKeyboardInterrupt\u001b[0m                         Traceback (most recent call last)",
      "\u001b[1;32m/Users/jinningwang/Documents/work/andes/jwang/notes/co-sim_ieee39.ipynb Cell 38'\u001b[0m in \u001b[0;36m<cell line: 7>\u001b[0;34m()\u001b[0m\n\u001b[1;32m    <a href='vscode-notebook-cell:/Users/jinningwang/Documents/work/andes/jwang/notes/co-sim_ieee39.ipynb#ch0000037?line=159'>160</a>\u001b[0m \u001b[39m# RUN TDS\u001b[39;00m\n\u001b[1;32m    <a href='vscode-notebook-cell:/Users/jinningwang/Documents/work/andes/jwang/notes/co-sim_ieee39.ipynb#ch0000037?line=160'>161</a>\u001b[0m ssa\u001b[39m.\u001b[39mTDS\u001b[39m.\u001b[39mconfig\u001b[39m.\u001b[39mtf \u001b[39m=\u001b[39m end_time\n\u001b[0;32m--> <a href='vscode-notebook-cell:/Users/jinningwang/Documents/work/andes/jwang/notes/co-sim_ieee39.ipynb#ch0000037?line=161'>162</a>\u001b[0m ssa\u001b[39m.\u001b[39;49mTDS\u001b[39m.\u001b[39;49mrun()\n\u001b[1;32m    <a href='vscode-notebook-cell:/Users/jinningwang/Documents/work/andes/jwang/notes/co-sim_ieee39.ipynb#ch0000037?line=162'>163</a>\u001b[0m \u001b[39m# ACE calculation\u001b[39;00m\n\u001b[1;32m    <a href='vscode-notebook-cell:/Users/jinningwang/Documents/work/andes/jwang/notes/co-sim_ieee39.ipynb#ch0000037?line=163'>164</a>\u001b[0m ACE_integral \u001b[39m=\u001b[39m ACE_integral \u001b[39m+\u001b[39m ssa\u001b[39m.\u001b[39mACEc\u001b[39m.\u001b[39mace\u001b[39m.\u001b[39mv\u001b[39m.\u001b[39msum()\n",
      "File \u001b[0;32m~/Documents/work/andes/andes/routines/tds.py:356\u001b[0m, in \u001b[0;36mTDS.run\u001b[0;34m(self, no_summary, **kwargs)\u001b[0m\n\u001b[1;32m    <a href='file:///Users/jinningwang/Documents/work/andes/andes/routines/tds.py?line=353'>354</a>\u001b[0m \u001b[39m# call the stepping method of the integration method (or data replay)\u001b[39;00m\n\u001b[1;32m    <a href='file:///Users/jinningwang/Documents/work/andes/andes/routines/tds.py?line=354'>355</a>\u001b[0m \u001b[39mif\u001b[39;00m \u001b[39mself\u001b[39m\u001b[39m.\u001b[39mdata_csv \u001b[39mis\u001b[39;00m \u001b[39mNone\u001b[39;00m:\n\u001b[0;32m--> <a href='file:///Users/jinningwang/Documents/work/andes/andes/routines/tds.py?line=355'>356</a>\u001b[0m     step_status \u001b[39m=\u001b[39m \u001b[39mself\u001b[39;49m\u001b[39m.\u001b[39;49mitm_step()  \u001b[39m# compute for the current step\u001b[39;00m\n\u001b[1;32m    <a href='file:///Users/jinningwang/Documents/work/andes/andes/routines/tds.py?line=356'>357</a>\u001b[0m \u001b[39melse\u001b[39;00m:\n\u001b[1;32m    <a href='file:///Users/jinningwang/Documents/work/andes/andes/routines/tds.py?line=357'>358</a>\u001b[0m     step_status \u001b[39m=\u001b[39m \u001b[39mself\u001b[39m\u001b[39m.\u001b[39m_csv_step()\n",
      "File \u001b[0;32m~/Documents/work/andes/andes/routines/tds.py:453\u001b[0m, in \u001b[0;36mTDS.itm_step\u001b[0;34m(self)\u001b[0m\n\u001b[1;32m    <a href='file:///Users/jinningwang/Documents/work/andes/andes/routines/tds.py?line=442'>443</a>\u001b[0m \u001b[39mdef\u001b[39;00m \u001b[39mitm_step\u001b[39m(\u001b[39mself\u001b[39m):\n\u001b[1;32m    <a href='file:///Users/jinningwang/Documents/work/andes/andes/routines/tds.py?line=443'>444</a>\u001b[0m     \u001b[39m\"\"\"\u001b[39;00m\n\u001b[1;32m    <a href='file:///Users/jinningwang/Documents/work/andes/andes/routines/tds.py?line=444'>445</a>\u001b[0m \u001b[39m    Integrate for the step size of ``self.h`` using implicit trapezoid method.\u001b[39;00m\n\u001b[1;32m    <a href='file:///Users/jinningwang/Documents/work/andes/andes/routines/tds.py?line=445'>446</a>\u001b[0m \n\u001b[0;32m   (...)\u001b[0m\n\u001b[1;32m    <a href='file:///Users/jinningwang/Documents/work/andes/andes/routines/tds.py?line=450'>451</a>\u001b[0m \n\u001b[1;32m    <a href='file:///Users/jinningwang/Documents/work/andes/andes/routines/tds.py?line=451'>452</a>\u001b[0m \u001b[39m    \"\"\"\u001b[39;00m\n\u001b[0;32m--> <a href='file:///Users/jinningwang/Documents/work/andes/andes/routines/tds.py?line=452'>453</a>\u001b[0m     \u001b[39mreturn\u001b[39;00m \u001b[39mself\u001b[39;49m\u001b[39m.\u001b[39;49mmethod\u001b[39m.\u001b[39;49mstep(\u001b[39mself\u001b[39;49m)\n",
      "File \u001b[0;32m~/Documents/work/andes/andes/routines/daeint.py:111\u001b[0m, in \u001b[0;36mImplicitIter.step\u001b[0;34m(tds)\u001b[0m\n\u001b[1;32m    <a href='file:///Users/jinningwang/Documents/work/andes/andes/routines/daeint.py?line=108'>109</a>\u001b[0m \u001b[39m# calculate variable corrections\u001b[39;00m\n\u001b[1;32m    <a href='file:///Users/jinningwang/Documents/work/andes/andes/routines/daeint.py?line=109'>110</a>\u001b[0m \u001b[39mif\u001b[39;00m \u001b[39mnot\u001b[39;00m tds\u001b[39m.\u001b[39mconfig\u001b[39m.\u001b[39mlinsolve:\n\u001b[0;32m--> <a href='file:///Users/jinningwang/Documents/work/andes/andes/routines/daeint.py?line=110'>111</a>\u001b[0m     inc \u001b[39m=\u001b[39m tds\u001b[39m.\u001b[39;49msolver\u001b[39m.\u001b[39;49msolve(tds\u001b[39m.\u001b[39;49mAc, matrix(tds\u001b[39m.\u001b[39;49mqg))\n\u001b[1;32m    <a href='file:///Users/jinningwang/Documents/work/andes/andes/routines/daeint.py?line=111'>112</a>\u001b[0m \u001b[39melse\u001b[39;00m:\n\u001b[1;32m    <a href='file:///Users/jinningwang/Documents/work/andes/andes/routines/daeint.py?line=112'>113</a>\u001b[0m     inc \u001b[39m=\u001b[39m tds\u001b[39m.\u001b[39msolver\u001b[39m.\u001b[39mlinsolve(tds\u001b[39m.\u001b[39mAc, matrix(tds\u001b[39m.\u001b[39mqg))\n",
      "File \u001b[0;32m~/Documents/work/andes/andes/linsolvers/solverbase.py:48\u001b[0m, in \u001b[0;36mSolver.solve\u001b[0;34m(self, A, b)\u001b[0m\n\u001b[1;32m     <a href='file:///Users/jinningwang/Documents/work/andes/andes/linsolvers/solverbase.py?line=31'>32</a>\u001b[0m \u001b[39mdef\u001b[39;00m \u001b[39msolve\u001b[39m(\u001b[39mself\u001b[39m, A, b):\n\u001b[1;32m     <a href='file:///Users/jinningwang/Documents/work/andes/andes/linsolvers/solverbase.py?line=32'>33</a>\u001b[0m     \u001b[39m\"\"\"\u001b[39;00m\n\u001b[1;32m     <a href='file:///Users/jinningwang/Documents/work/andes/andes/linsolvers/solverbase.py?line=33'>34</a>\u001b[0m \u001b[39m    Solve linear equations and cache factorizations if possible.\u001b[39;00m\n\u001b[1;32m     <a href='file:///Users/jinningwang/Documents/work/andes/andes/linsolvers/solverbase.py?line=34'>35</a>\u001b[0m \n\u001b[0;32m   (...)\u001b[0m\n\u001b[1;32m     <a href='file:///Users/jinningwang/Documents/work/andes/andes/linsolvers/solverbase.py?line=45'>46</a>\u001b[0m \u001b[39m        Dense N-by-1 array\u001b[39;00m\n\u001b[1;32m     <a href='file:///Users/jinningwang/Documents/work/andes/andes/linsolvers/solverbase.py?line=46'>47</a>\u001b[0m \u001b[39m    \"\"\"\u001b[39;00m\n\u001b[0;32m---> <a href='file:///Users/jinningwang/Documents/work/andes/andes/linsolvers/solverbase.py?line=47'>48</a>\u001b[0m     \u001b[39mreturn\u001b[39;00m \u001b[39mself\u001b[39;49m\u001b[39m.\u001b[39;49mworker\u001b[39m.\u001b[39;49msolve(A, b)\n",
      "File \u001b[0;32m~/Documents/work/andes/andes/linsolvers/suitesparse.py:124\u001b[0m, in \u001b[0;36mSuiteSparseSolver.solve\u001b[0;34m(self, A, b)\u001b[0m\n\u001b[1;32m    <a href='file:///Users/jinningwang/Documents/work/andes/andes/linsolvers/suitesparse.py?line=120'>121</a>\u001b[0m     \u001b[39mself\u001b[39m\u001b[39m.\u001b[39mfactorize \u001b[39m=\u001b[39m \u001b[39mFalse\u001b[39;00m\n\u001b[1;32m    <a href='file:///Users/jinningwang/Documents/work/andes/andes/linsolvers/suitesparse.py?line=122'>123</a>\u001b[0m \u001b[39mtry\u001b[39;00m:\n\u001b[0;32m--> <a href='file:///Users/jinningwang/Documents/work/andes/andes/linsolvers/suitesparse.py?line=123'>124</a>\u001b[0m     \u001b[39mself\u001b[39m\u001b[39m.\u001b[39mN \u001b[39m=\u001b[39m \u001b[39mself\u001b[39m\u001b[39m.\u001b[39m_numeric(\u001b[39mself\u001b[39m\u001b[39m.\u001b[39mA, \u001b[39mself\u001b[39m\u001b[39m.\u001b[39mF)\n\u001b[1;32m    <a href='file:///Users/jinningwang/Documents/work/andes/andes/linsolvers/suitesparse.py?line=124'>125</a>\u001b[0m     \u001b[39mself\u001b[39m\u001b[39m.\u001b[39m_solve(\u001b[39mself\u001b[39m\u001b[39m.\u001b[39mA, \u001b[39mself\u001b[39m\u001b[39m.\u001b[39mF, \u001b[39mself\u001b[39m\u001b[39m.\u001b[39mN, \u001b[39mself\u001b[39m\u001b[39m.\u001b[39mb)\n\u001b[1;32m    <a href='file:///Users/jinningwang/Documents/work/andes/andes/linsolvers/suitesparse.py?line=126'>127</a>\u001b[0m     \u001b[39mreturn\u001b[39;00m np\u001b[39m.\u001b[39mravel(\u001b[39mself\u001b[39m\u001b[39m.\u001b[39mb)\n",
      "\u001b[0;31mKeyboardInterrupt\u001b[0m: "
     ]
    }
   ],
   "source": [
    "# Reserve some capacity to avoid TDS crush\n",
    "ssp.gen.max_p_mw = ssp.gen.max_p_mw * 0.75\n",
    "\n",
    "# store original generator data\n",
    "ssp_gen0 = ssp.gen.copy()\n",
    "\n",
    "for end_time in range(t_total): # t_total\n",
    "    # --- interval RTED ---\n",
    "    if end_time % intv_ed == 0:\n",
    "        idx_ed = end_time // intv_ed\n",
    "        # --- Load update ---\n",
    "        du, dd, load_exp = dp_calc(d_syn, idx_ed, intv_ed)\n",
    "        ssp.load['p_mw'] = ssa_p0 * load_exp * ssp.sn_mva\n",
    "        ssp.load['q_mvar'] = ssa_q0 * load_exp * ssp.sn_mva\n",
    "\n",
    "        # --- RTED, update gen limits after SFR ---\n",
    "        ssd = rted(ssp)\n",
    "        if end_time > 0:\n",
    "            # TODO: INPUT ramp limits data\n",
    "            rampu = [100] * ssd.gendata.shape[0]\n",
    "            rampd = [100] * ssd.gendata.shape[0]\n",
    "            # get pe from TDS and sort\n",
    "            pe_tds = get_pe(ssa, ssa_gov_idx, ssa_dg_idx, ssa_key2)\n",
    "            pe_tds = pe_tds.merge(ssd.gendata[['gen_pp']].rename(columns={'gen_pp': 'stg_idx'}),\n",
    "                                 on='stg_idx', how='right').groupby('stg_idx', as_index=False).sum()\n",
    "            p_pre = pe_tds['pe'].tolist()\n",
    "        else:\n",
    "            rampu = [100] * ssd.gendata.shape[0]\n",
    "            rampd = [100] * ssd.gendata.shape[0]\n",
    "            # DCOPF results as the initial previous setpoints\n",
    "            p_pre = list(ssp.res_gen.p_mw / ssp.sn_mva)\n",
    "\n",
    "        # TODO: INPUT cost and ramp, ramp should be p.u.\n",
    "        ssd.def_ps(c_ru=[], c_rd=[], rampu=rampu, rampd=rampd)\n",
    "\n",
    "        # def sfr requirements and ev sfr limtis (p.u.)\n",
    "        # TODO: Integrate EV; EV limits FROM EV; now set 0 to disable EV SFR\n",
    "        ssd.def_var(ptotal=ssa_p0_sum * load_exp,\n",
    "                    dpd_u=ssa_p0_sum * du, dpd_d=ssa_p0_sum * dd,\n",
    "                    p_pre=p_pre,\n",
    "                    gen=['gen10'], pru_max=[0], prd_max=[0])\n",
    "\n",
    "        # build and solve the RTED-DC\n",
    "        ssd.build_rted()\n",
    "        res = ssd.rted.optimize()\n",
    "\n",
    "        dcres = ssd.get_res('rted')  # get RTED-DC resutls\n",
    "        # TODO: Integrate EV; send SFR back to EV\n",
    "\n",
    "        # Reserve SFR and ramp from Generator limits in ``ssp``\n",
    "        ssp_gen = pd.merge(left=ssp.gen.rename(columns={'name':'stg_idx'}),\n",
    "                           right=dcres.rename(columns={'gen_pp':'stg_idx'}),\n",
    "                           on='stg_idx', how='left')\n",
    "        # SFR limits\n",
    "        ssp_gen['max_sfr'] = ssp_gen.max_p_mw - ssp_gen.pru * ssp.sn_mva\n",
    "        ssp_gen['min_sfr'] = ssp_gen.min_p_mw + ssp_gen.prd * ssp.sn_mva\n",
    "        # ramp limits\n",
    "        ssp_gen['max_ramp'] = ssp.sn_mva * (np.array(p_pre) + np.array(rampu))\n",
    "        ssp_gen['min_ramp'] = ssp.sn_mva * (np.array(p_pre) - np.array(rampd))\n",
    "        # alter generator limits\n",
    "        ssp.gen.max_p_mw = ssp_gen[['max_sfr','max_ramp']].min(axis=1)\n",
    "        ssp.gen.min_p_mw = ssp_gen[['min_sfr','min_ramp']].max(axis=1)\n",
    "\n",
    "        # --- ACOPF, update setpoints ---\n",
    "        # store setpoints\n",
    "        if end_time > 0:\n",
    "            p0 = ssp_res['p'].values  # store setpoints\n",
    "        else:\n",
    "            p0 = [0] * ssa_key2.shape[0]\n",
    "\n",
    "        # run ACOPF\n",
    "        ssp_res = runopp_map(ssp, ssa_key)  # ACOPF resutls\n",
    "        ssp_res['p0'] = p0                  # last setpoints\n",
    "        ssp_res.fillna(False, inplace=True) # Fill NA wil False\n",
    "\n",
    "        # reset Generator limtis\n",
    "        ssp.gen.max_p_mw = ssp_gen0.max_p_mw\n",
    "        ssp.gen.min_p_mw = ssp_gen0.min_p_mw\n",
    "\n",
    "    # --- interval AGC ---\n",
    "    ace_gain = 1\n",
    "    if end_time % intv_agc == 0:\n",
    "        idx_agc = end_time // intv_agc - idx_ed * n_agc\n",
    "        # --- AGC allocation, with a power cap ---\n",
    "        ACE_input = min(ACE_raw, dcres.pru.sum())\n",
    "        if ACE_raw >= 0:\n",
    "            ACE_input = min(ACE_raw, dcres.pru.sum())\n",
    "            agc_table['paux'] = ACE_input * ace_gain * dcres.bu.values\n",
    "        else:\n",
    "            ACE_input = max(ACE_raw, -1 * dcres.prd.sum())\n",
    "            agc_table['paux'] = ACE_input * ace_gain * dcres.bd.values\n",
    "        agc_res[f'{end_time}'] = agc_table['paux']\n",
    "        ace_data = [end_time, ACE_raw, dcres.pru.sum(),\n",
    "                    -1*dcres.prd.sum(), ACE_input]\n",
    "        ace_new = pd.DataFrame([ace_data], columns=['time', 'ace', 'up', 'dn', 'in'])\n",
    "        ace_res = pd.concat([ace_res, ace_new])\n",
    "\n",
    "        # --- Do AGC ---\n",
    "        # a.SynGen\n",
    "        agc_syg = pd.merge(left=agc_table,\n",
    "                           right=ssa_key2,\n",
    "                           on='stg_idx', how='right')\n",
    "        agc_syg.paux2 = agc_syg.paux * agc_syg.gammap\n",
    "        cond_gov = agc_syg.ctrl * agc_syg.gov_idx.astype(bool)\n",
    "        agc_gov = agc_syg.gov_idx[cond_gov].tolist()\n",
    "        ssa.TurbineGov.set(src='paux0', idx=agc_gov, attr='v',\n",
    "                           value=agc_syg.paux2.values)\n",
    "        # b.DG\n",
    "        agc_dg = pd.merge(left=agc_table,\n",
    "                          right=ssa_key2,\n",
    "                          on='stg_idx', how='right')\n",
    "        agc_dg.paux2 = agc_dg.paux * agc_dg.gammap\n",
    "        cond_dg = agc_dg.ctrl * agc_dg.dg_idx.astype(bool)\n",
    "        agc_dg_idx = agc_dg.dg_idx[cond_dg].tolist()\n",
    "        ssa.DG.set(src='pext0', idx=agc_dg_idx, attr='v',\n",
    "                           value=agc_dg.paux2.values)\n",
    "\n",
    "        # --- smooth setpoints ---\n",
    "        if idx_ed == 0:\n",
    "            ssp_res['pref'] = ssp_res['p']\n",
    "        else:\n",
    "            if idx_agc == 0:\n",
    "                # only record the pe from TDS in the first AGC interval\n",
    "                copy = ssp_res.merge(right=pe_tds[['pe', 'stg_idx']], on='stg_idx', how='left')\n",
    "                ssp_res['pe_tds'] = copy.pe\n",
    "            idx_step = min((end_time - idx_ed * intv_ed) // intv_agc + 1, n_step)\n",
    "            ssp_res['pref_step'] = ssp_res.p - ssp_res.pe_tds\n",
    "            # smooth change threshold: 0.1\n",
    "            large_index = ssp_res['pref_step'][abs(ssp_res['pref_step']) > 0.1].index\n",
    "            ssp_res['pref_delta'] = ssp_res['pref_step']\n",
    "            ssp_res['pref_delta'].iloc[large_index] = ssp_res['pref_step'].iloc[large_index] / n_step * idx_step\n",
    "            ssp_res['pref'] = ssp_res.pe_tds + ssp_res.pref_delta\n",
    "        # update SynGen setpoints\n",
    "        cond_gov = ssp_res.controllable * ssp_res.gov_idx.astype(bool)\n",
    "        ssa.TurbineGov.set(src='pref0', idx=ssp_res.gov_idx[cond_gov].tolist(),\n",
    "                           attr='v', value=ssp_res.pref[cond_gov].values)\n",
    "        # update DG setpoints\n",
    "        cond_dg = ssp_res.controllable * ssp_res.dg_idx.astype(bool)\n",
    "        ssa.DG.set(src='pref0', idx=ssp_res.dg_idx[cond_dg].tolist(),\n",
    "                   attr='v', value=ssp_res.pref[cond_dg].values)\n",
    "\n",
    "    # --- intv_pq: alter load, run TDS ---\n",
    "    if end_time == 0:\n",
    "        # Initially, alter StaticGen: p0 and q0, RUN power flow\n",
    "        stg_opf_idx = ssp_res.stg_idx[ssp_res.controllable].tolist()\n",
    "        stg_opf_val = ssp_res.p[ssp_res.controllable].tolist()\n",
    "        ssa.StaticGen.set(src='p0', idx=stg_opf_idx, attr='v', value=stg_opf_val)\n",
    "        ssa.PQ.set(src='p0', idx=ssa_pq_idx, attr='v',\n",
    "                   value=ssa_p0 * d_syn['s10'].iloc[end_time])\n",
    "        ssa.PQ.set(src='q0', idx=ssa_pq_idx, attr='v',\n",
    "                   value=ssa_q0 * d_syn['s10'].iloc[end_time])\n",
    "        ssa.PFlow.run()\n",
    "    else:\n",
    "        # Otherwise, alter Ppf and Qpf\n",
    "        ssa.PQ.set(src='Ppf', idx=ssa_pq_idx, attr='v',\n",
    "                    value=ssa_p0 * d_syn['s10'].iloc[end_time])\n",
    "        ssa.PQ.set(src='Qpf', idx=ssa_pq_idx, attr='v',\n",
    "                    value=ssa_q0 * d_syn['s10'].iloc[end_time])\n",
    "\n",
    "    # RUN TDS\n",
    "    ssa.TDS.config.tf = end_time\n",
    "    ssa.TDS.run()\n",
    "    # ACE calculation\n",
    "    ACE_integral = ACE_integral + ssa.ACEc.ace.v.sum()\n",
    "    ACE_raw = -(Kp*ssa.ACEc.ace.v.sum() + Ki*ACE_integral)\n",
    "\n",
    "    # ACE_raw = 0  # delete when run TDS\n",
    "    # break loop if TDS run into error\n",
    "    if ssa.exit_code != 0:\n",
    "        raise ValueError(f\"TDS error! Exit with {ssa.exit_code}, end at {end_time}s.\")"
   ]
  },
  {
   "cell_type": "code",
   "execution_count": null,
   "metadata": {
    "scrolled": false
   },
   "outputs": [],
   "source": [
    "# color=['tab:blue', 'tab:orange', 'tab:green',\n",
    "#        'tab:red', 'tab:purple']\n",
    "right=end_time\n",
    "\n",
    "fig_gen, ax_gen = plt.subplots(2, 3, figsize=(16, 8))\n",
    "plt.subplots_adjust(left=None, bottom=None, right=None, top=None, wspace=None, hspace=0.4)\n",
    "\n",
    "yheader = [f'G{i}' for i in range(1,11)]\n",
    "\n",
    "ssa.TDS.plt.plot(ssa.TGOV1N.pout,\n",
    "                 linestyles=['-'],\n",
    "                   yheader=yheader,\n",
    "                   legend=True, show=False, right=right,\n",
    "                   title=r'Generation (solid: pout; dash: pref)',\n",
    "                   ylabel='p.u.',\n",
    "                   fig=fig_gen, ax=ax_gen[0, 0])\n",
    "\n",
    "ssa.TDS.plt.plot(ssa.TGOV1N.pref,\n",
    "                 legend=False, show=False, right=right,\n",
    "                   linestyles=['--'],\n",
    "                   fig=fig_gen, ax=ax_gen[0, 0])\n",
    "\n",
    "ssa.TDS.plt.plot(ssa.TGOV1N.paux,\n",
    "                linestyles=['-'],\n",
    "                yheader=yheader,\n",
    "                legend=False, show=False, right=right,\n",
    "                title=r'AGC power',\n",
    "                ylabel='p.u.',\n",
    "                fig=fig_gen, ax=ax_gen[0, 1])\n",
    "\n",
    "ace_res.plot(linewidth=1,\n",
    "            fig=fig_gen, ax=ax_gen[0, 2],\n",
    "            x='time', y='ace',\n",
    "            title=f'AGC input and SFR capacity')\n",
    "ace_res.plot(linewidth=1,\n",
    "            fig=fig_gen, ax=ax_gen[0, 2],\n",
    "            x='time', y='in',)\n",
    "ace_res.plot(linewidth=1, color='k', linestyle='--',\n",
    "            fig=fig_gen, ax=ax_gen[0, 2],\n",
    "            x='time', y='up')\n",
    "ace_res.plot(linewidth=1, color='k', linestyle='--',\n",
    "            fig=fig_gen, ax=ax_gen[0, 2],\n",
    "            x='time', y='dn')\n",
    "ax_gen[0, 2].legend(['ACE raw', 'AGC input', 'SFR capacity'])\n",
    "\n",
    "ssa.TDS.plt.plot(ssa.COI.omega,\n",
    "                 legend=False, show=False, right=right,\n",
    "                 linestyles=['-'],\n",
    "                 ytimes=60,\n",
    "                 title=r'COI Frequency',\n",
    "                 ylabel='Hz',\n",
    "                 fig=fig_gen, ax=ax_gen[1, 0])\n",
    "\n",
    "ssa.TDS.plt.plot(ssa.ACEc.ace,\n",
    "                 legend=False, show=False, right=right,\n",
    "                 linestyles=['-'],\n",
    "                 title=r'ACE',\n",
    "                 ylabel='p.u.',\n",
    "                 fig=fig_gen, ax=ax_gen[1, 1])\n",
    "\n",
    "font = {'family' : 'TimesNewRoma',\n",
    "        'weight' : '1',\n",
    "        'size'   : 12}\n",
    "\n",
    "plt.rc('font', **font)\n",
    "\n",
    "ace_tds = ssa.dae.ts.y[:, ssa.ACEc.ace.a].reshape(-1).copy()\n",
    "ace_df = pd.DataFrame()\n",
    "ace_df['ace'] = ace_tds\n",
    "ace_df.plot(kind='kde', legend=False, linewidth=1,\n",
    "            fig=fig_gen, ax=ax_gen[1, 2],\n",
    "            title=f'ACE Density, mean={ace_df.ace.mean().round(4)}')\n",
    "ax_gen[1, 2].set(xlabel='Deviation [p.u.]', ylabel='')"
   ]
  }
 ],
 "metadata": {
  "interpreter": {
   "hash": "ef6cb5c8d99d66a3614f491d51fd40cd94c9138687df3d2045e3a510da5efc66"
  },
  "kernelspec": {
   "display_name": "Python 3.9.12 ('andes')",
   "language": "python",
   "name": "python3"
  },
  "language_info": {
   "codemirror_mode": {
    "name": "ipython",
    "version": 3
   },
   "file_extension": ".py",
   "mimetype": "text/x-python",
   "name": "python",
   "nbconvert_exporter": "python",
   "pygments_lexer": "ipython3",
   "version": "3.9.12"
  },
  "varInspector": {
   "cols": {
    "lenName": 16,
    "lenType": 16,
    "lenVar": 40
   },
   "kernels_config": {
    "python": {
     "delete_cmd_postfix": "",
     "delete_cmd_prefix": "del ",
     "library": "var_list.py",
     "varRefreshCmd": "print(var_dic_list())"
    },
    "r": {
     "delete_cmd_postfix": ") ",
     "delete_cmd_prefix": "rm(",
     "library": "var_list.r",
     "varRefreshCmd": "cat(var_dic_list()) "
    }
   },
   "types_to_exclude": [
    "module",
    "function",
    "builtin_function_or_method",
    "instance",
    "_Feature"
   ],
   "window_display": false
  }
 },
 "nbformat": 4,
 "nbformat_minor": 4
}
